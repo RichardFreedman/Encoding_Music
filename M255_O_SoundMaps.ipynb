{
 "cells": [
  {
   "cell_type": "markdown",
   "metadata": {
    "id": "dZVsIj-mIImH"
   },
   "source": [
    "### A.1 Import Libraries\n",
    "\n",
    "Before we can do anything we need to import the python tools we need:\n",
    "\n",
    "* **pandas** is the main library\n",
    "* **matplot** will help us render graphs and charts\n",
    "* **folium** will help us with GIS and maps\n",
    "* there are dozens of other standard libraries; if they work with Python, they will work with Jupyter and Pandas"
   ]
  },
  {
   "cell_type": "code",
   "execution_count": 1,
   "metadata": {
    "ExecuteTime": {
     "end_time": "2022-02-10T23:28:15.994052Z",
     "start_time": "2022-02-10T23:28:14.791696Z"
    },
    "id": "3_H8IHsFIImI"
   },
   "outputs": [],
   "source": [
    "import pandas as pd\n",
    "import matplotlib.pyplot as plt\n",
    "# import networkx as nx\n",
    "import folium\n",
    "import numpy as np\n",
    "from datetime import datetime"
   ]
  },
  {
   "cell_type": "markdown",
   "metadata": {
    "id": "-b7jBmh9RMPG"
   },
   "source": [
    "### A.2  URLs of our Data Sets"
   ]
  },
  {
   "cell_type": "code",
   "execution_count": 6,
   "metadata": {
    "id": "tIVBIYR-QQTr"
   },
   "outputs": [],
   "source": [
    "\n",
    "decima_data = \"saved_csv/Decima_data.csv\"\n"
   ]
  },
  {
   "cell_type": "markdown",
   "metadata": {
    "id": "KHJ2vDklIImM"
   },
   "source": [
    "### A.3  Make a DataFrame\n",
    "\n",
    "* The basic unit of work in Pandas is the DataFrame (a table representing the data as columns (with the headings from our CSV files) and rows.\n",
    "* The left-hand column is called the `index`.  Here it's simply a number, but we can change that.  **NB**:  index starts at \"0\"!\n",
    "\n",
    "**Create a DataFrame** by importing one of the CSV files.  We'll also give the frame a name (`books`):"
   ]
  },
  {
   "cell_type": "markdown",
   "metadata": {
    "id": "li7cXHOWIImj"
   },
   "source": [
    "___"
   ]
  },
  {
   "cell_type": "markdown",
   "metadata": {
    "id": "KlsgqLZCIImj"
   },
   "source": [
    "## F.  Decima Data\n",
    "\n",
    "* Let's load the Decima data"
   ]
  },
  {
   "cell_type": "code",
   "execution_count": 7,
   "metadata": {
    "ExecuteTime": {
     "end_time": "2022-02-10T23:28:17.220681Z",
     "start_time": "2022-02-10T23:28:17.212468Z"
    },
    "id": "Su8S40fpIImj"
   },
   "outputs": [],
   "source": [
    "decima = pd.read_csv(decima_data)\n",
    "decima1 = decima"
   ]
  },
  {
   "cell_type": "code",
   "execution_count": 8,
   "metadata": {
    "ExecuteTime": {
     "end_time": "2022-02-10T23:28:17.277382Z",
     "start_time": "2022-02-10T23:28:17.248073Z"
    },
    "colab": {
     "base_uri": "https://localhost:8080/",
     "height": 1000
    },
    "id": "iuBMs-VaIImk",
    "outputId": "5521d3a9-cf47-4ad3-9f1b-94851145061a"
   },
   "outputs": [
    {
     "data": {
      "text/html": [
       "<div>\n",
       "<style scoped>\n",
       "    .dataframe tbody tr th:only-of-type {\n",
       "        vertical-align: middle;\n",
       "    }\n",
       "\n",
       "    .dataframe tbody tr th {\n",
       "        vertical-align: top;\n",
       "    }\n",
       "\n",
       "    .dataframe thead th {\n",
       "        text-align: right;\n",
       "    }\n",
       "</style>\n",
       "<table border=\"1\" class=\"dataframe\">\n",
       "  <thead>\n",
       "    <tr style=\"text-align: right;\">\n",
       "      <th></th>\n",
       "      <th>OBJECTID</th>\n",
       "      <th>Y</th>\n",
       "      <th>X</th>\n",
       "      <th>Folio</th>\n",
       "      <th>Entry Number</th>\n",
       "      <th>Entry Number.1</th>\n",
       "      <th>Owner in Source</th>\n",
       "      <th>Standardized Alternative</th>\n",
       "      <th>Source</th>\n",
       "      <th>Age of Confraternity (if estimate, *)</th>\n",
       "      <th>...</th>\n",
       "      <th>Building Description</th>\n",
       "      <th>Quartiere</th>\n",
       "      <th>Popolo</th>\n",
       "      <th>Street</th>\n",
       "      <th>Location Information</th>\n",
       "      <th>OBJECTID.1</th>\n",
       "      <th>Y.1</th>\n",
       "      <th>X.1</th>\n",
       "      <th>Folio.1</th>\n",
       "      <th>Entry Number.2</th>\n",
       "    </tr>\n",
       "  </thead>\n",
       "  <tbody>\n",
       "    <tr>\n",
       "      <th>0</th>\n",
       "      <td>2073</td>\n",
       "      <td>43.770558</td>\n",
       "      <td>11.270464</td>\n",
       "      <td>179v</td>\n",
       "      <td>2784</td>\n",
       "      <td>2784</td>\n",
       "      <td>Cappella, o vero, compagnia degl'Azzurri di S....</td>\n",
       "      <td>S. Maria della Neve</td>\n",
       "      <td>Henderson P&amp;C #114</td>\n",
       "      <td>1445*</td>\n",
       "      <td>...</td>\n",
       "      <td>casa</td>\n",
       "      <td>s. Giovanni</td>\n",
       "      <td>S. Piero</td>\n",
       "      <td>Borgo della Porta alla Croce</td>\n",
       "      <td>contigua alla suddetta et a una delle Monache ...</td>\n",
       "      <td>2073</td>\n",
       "      <td>43.770558</td>\n",
       "      <td>11.270464</td>\n",
       "      <td>179v</td>\n",
       "      <td>2784</td>\n",
       "    </tr>\n",
       "    <tr>\n",
       "      <th>1</th>\n",
       "      <td>3219</td>\n",
       "      <td>43.770336</td>\n",
       "      <td>11.264497</td>\n",
       "      <td>195r</td>\n",
       "      <td>3033</td>\n",
       "      <td>3033</td>\n",
       "      <td>Compagnia che sotto S. Piero Maggiore</td>\n",
       "      <td>S Pier Maggiore</td>\n",
       "      <td>Henderson P&amp;C #137</td>\n",
       "      <td>NaN</td>\n",
       "      <td>...</td>\n",
       "      <td>casa</td>\n",
       "      <td>s. Giovanni</td>\n",
       "      <td>S. Ambrogio</td>\n",
       "      <td>Via dell'Agnolo</td>\n",
       "      <td>contigua alla suddetta et a una di Francesco d...</td>\n",
       "      <td>3219</td>\n",
       "      <td>43.770336</td>\n",
       "      <td>11.264497</td>\n",
       "      <td>195r</td>\n",
       "      <td>3033</td>\n",
       "    </tr>\n",
       "    <tr>\n",
       "      <th>2</th>\n",
       "      <td>2203</td>\n",
       "      <td>43.771118</td>\n",
       "      <td>11.269190</td>\n",
       "      <td>157</td>\n",
       "      <td>2421</td>\n",
       "      <td>2421</td>\n",
       "      <td>Compagnia che sotto S. Piero Maggiore</td>\n",
       "      <td>S Pier Maggiore</td>\n",
       "      <td>Henderson P&amp;C #137</td>\n",
       "      <td>NaN</td>\n",
       "      <td>...</td>\n",
       "      <td>casa in cappella</td>\n",
       "      <td>s. Giovanni</td>\n",
       "      <td>S. Piero Maggiore</td>\n",
       "      <td>Borgo della Porta alla Croce</td>\n",
       "      <td>contigua alla portaccia di Borgo alla croce et...</td>\n",
       "      <td>2203</td>\n",
       "      <td>43.771118</td>\n",
       "      <td>11.269190</td>\n",
       "      <td>157</td>\n",
       "      <td>2421</td>\n",
       "    </tr>\n",
       "    <tr>\n",
       "      <th>3</th>\n",
       "      <td>147</td>\n",
       "      <td>43.775931</td>\n",
       "      <td>11.252323</td>\n",
       "      <td>44r</td>\n",
       "      <td>681</td>\n",
       "      <td>681</td>\n",
       "      <td>Compagnia de' Cieci</td>\n",
       "      <td>S Maria del Giglio detto de'ciechi [S Ma. de P...</td>\n",
       "      <td>Henderson P&amp;C 104</td>\n",
       "      <td>1324</td>\n",
       "      <td>...</td>\n",
       "      <td>Casa</td>\n",
       "      <td>s. Giovanni</td>\n",
       "      <td>S. Lorenzo</td>\n",
       "      <td>Via S. Jacopo in Campo Corbolino - Cella di Ci...</td>\n",
       "      <td>contigua a la soprascritta suoltando al lato d...</td>\n",
       "      <td>147</td>\n",
       "      <td>43.775931</td>\n",
       "      <td>11.252323</td>\n",
       "      <td>44r</td>\n",
       "      <td>681</td>\n",
       "    </tr>\n",
       "    <tr>\n",
       "      <th>4</th>\n",
       "      <td>7343</td>\n",
       "      <td>43.765810</td>\n",
       "      <td>11.247119</td>\n",
       "      <td>62v</td>\n",
       "      <td>1035</td>\n",
       "      <td>1035</td>\n",
       "      <td>Compagnia degl'Innocenti</td>\n",
       "      <td>SS Innocenti</td>\n",
       "      <td>Henderson P&amp;C #78</td>\n",
       "      <td>NaN</td>\n",
       "      <td>...</td>\n",
       "      <td>una casa</td>\n",
       "      <td>s. Spirito</td>\n",
       "      <td>S. Felice in piazza</td>\n",
       "      <td>Via Mazzetta</td>\n",
       "      <td>in via mazzetta a 1o Rede di Piero Dei a 2o An...</td>\n",
       "      <td>7343</td>\n",
       "      <td>43.765810</td>\n",
       "      <td>11.247119</td>\n",
       "      <td>62v</td>\n",
       "      <td>1035</td>\n",
       "    </tr>\n",
       "    <tr>\n",
       "      <th>5</th>\n",
       "      <td>8476</td>\n",
       "      <td>43.767438</td>\n",
       "      <td>11.244969</td>\n",
       "      <td>120v</td>\n",
       "      <td>1874</td>\n",
       "      <td>1874</td>\n",
       "      <td>Compagnia degl'Innocenti di s. Maria Novella</td>\n",
       "      <td>SS Innocenti</td>\n",
       "      <td>Henderson P&amp;C #92</td>\n",
       "      <td>NaN</td>\n",
       "      <td>...</td>\n",
       "      <td>una casa</td>\n",
       "      <td>s. Spirito</td>\n",
       "      <td>S. Friano</td>\n",
       "      <td>Via d' Ardiglione</td>\n",
       "      <td>a primo Piero di Raffaello a secondo ser Alama...</td>\n",
       "      <td>8476</td>\n",
       "      <td>43.767438</td>\n",
       "      <td>11.244969</td>\n",
       "      <td>120v</td>\n",
       "      <td>1874</td>\n",
       "    </tr>\n",
       "    <tr>\n",
       "      <th>6</th>\n",
       "      <td>5514</td>\n",
       "      <td>43.772942</td>\n",
       "      <td>11.247446</td>\n",
       "      <td>37v</td>\n",
       "      <td>642</td>\n",
       "      <td>642</td>\n",
       "      <td>Compagnia degl'Innocenti di s. Maria Novella</td>\n",
       "      <td>SS Innocenti</td>\n",
       "      <td>Henderson P&amp;C #92</td>\n",
       "      <td>NaN</td>\n",
       "      <td>...</td>\n",
       "      <td>Casa</td>\n",
       "      <td>s. Maria Novella</td>\n",
       "      <td>s. Paolo</td>\n",
       "      <td>Via nuova da s. Paulo</td>\n",
       "      <td>contigua a la suddetta et a una del capitolo d...</td>\n",
       "      <td>5514</td>\n",
       "      <td>43.772942</td>\n",
       "      <td>11.247446</td>\n",
       "      <td>37v</td>\n",
       "      <td>642</td>\n",
       "    </tr>\n",
       "    <tr>\n",
       "      <th>7</th>\n",
       "      <td>8102</td>\n",
       "      <td>43.768004</td>\n",
       "      <td>11.240896</td>\n",
       "      <td>116v</td>\n",
       "      <td>1814</td>\n",
       "      <td>1814</td>\n",
       "      <td>Compagnia degli Genovesi nel Carmine</td>\n",
       "      <td>S Sebastiano de'Genovesi</td>\n",
       "      <td>Henderson P&amp;C #147</td>\n",
       "      <td>1474</td>\n",
       "      <td>...</td>\n",
       "      <td>una casa</td>\n",
       "      <td>s. Spirito</td>\n",
       "      <td>S. Friano</td>\n",
       "      <td>Via s. Salvadore</td>\n",
       "      <td>nella via di s. Salvatore a 1o Bartolomeo di B...</td>\n",
       "      <td>8102</td>\n",
       "      <td>43.768004</td>\n",
       "      <td>11.240896</td>\n",
       "      <td>116v</td>\n",
       "      <td>1814</td>\n",
       "    </tr>\n",
       "    <tr>\n",
       "      <th>8</th>\n",
       "      <td>2030</td>\n",
       "      <td>43.770728</td>\n",
       "      <td>11.270409</td>\n",
       "      <td>180r</td>\n",
       "      <td>2786</td>\n",
       "      <td>2786</td>\n",
       "      <td>Compagnia dei Bianchi di S. Ambrogio</td>\n",
       "      <td>S Maria delle Laude e di S Ambrogio</td>\n",
       "      <td>Henderson P&amp;C #105 [or 121]</td>\n",
       "      <td>1466</td>\n",
       "      <td>...</td>\n",
       "      <td>casa con un poco di bottega</td>\n",
       "      <td>s. Giovanni</td>\n",
       "      <td>S. Piero</td>\n",
       "      <td>Borgo della Porta alla Croce</td>\n",
       "      <td>Contigua alla suddetta et al chiasso della, os...</td>\n",
       "      <td>2030</td>\n",
       "      <td>43.770728</td>\n",
       "      <td>11.270409</td>\n",
       "      <td>180r</td>\n",
       "      <td>2786</td>\n",
       "    </tr>\n",
       "    <tr>\n",
       "      <th>9</th>\n",
       "      <td>400</td>\n",
       "      <td>43.777147</td>\n",
       "      <td>11.254293</td>\n",
       "      <td>35v</td>\n",
       "      <td>534</td>\n",
       "      <td>534</td>\n",
       "      <td>Compagnia dei Concordi</td>\n",
       "      <td>S Concordia [property on S Orsola = close to c...</td>\n",
       "      <td>Henderson P&amp;C #42</td>\n",
       "      <td>&lt;1429</td>\n",
       "      <td>...</td>\n",
       "      <td>Casa</td>\n",
       "      <td>s. Giovanni</td>\n",
       "      <td>S. Lorenzo</td>\n",
       "      <td>Via S. Orsola</td>\n",
       "      <td>contigua a la suddetta et a gioGualberto di Ra...</td>\n",
       "      <td>400</td>\n",
       "      <td>43.777147</td>\n",
       "      <td>11.254293</td>\n",
       "      <td>35v</td>\n",
       "      <td>534</td>\n",
       "    </tr>\n",
       "  </tbody>\n",
       "</table>\n",
       "<p>10 rows × 44 columns</p>\n",
       "</div>"
      ],
      "text/plain": [
       "   OBJECTID          Y          X Folio  Entry Number  Entry Number.1  \\\n",
       "0      2073  43.770558  11.270464  179v          2784            2784   \n",
       "1      3219  43.770336  11.264497  195r          3033            3033   \n",
       "2      2203  43.771118  11.269190   157          2421            2421   \n",
       "3       147  43.775931  11.252323   44r           681             681   \n",
       "4      7343  43.765810  11.247119   62v          1035            1035   \n",
       "5      8476  43.767438  11.244969  120v          1874            1874   \n",
       "6      5514  43.772942  11.247446   37v           642             642   \n",
       "7      8102  43.768004  11.240896  116v          1814            1814   \n",
       "8      2030  43.770728  11.270409  180r          2786            2786   \n",
       "9       400  43.777147  11.254293   35v           534             534   \n",
       "\n",
       "                                     Owner in Source  \\\n",
       "0  Cappella, o vero, compagnia degl'Azzurri di S....   \n",
       "1              Compagnia che sotto S. Piero Maggiore   \n",
       "2              Compagnia che sotto S. Piero Maggiore   \n",
       "3                                Compagnia de' Cieci   \n",
       "4                           Compagnia degl'Innocenti   \n",
       "5       Compagnia degl'Innocenti di s. Maria Novella   \n",
       "6       Compagnia degl'Innocenti di s. Maria Novella   \n",
       "7               Compagnia degli Genovesi nel Carmine   \n",
       "8               Compagnia dei Bianchi di S. Ambrogio   \n",
       "9                             Compagnia dei Concordi   \n",
       "\n",
       "                            Standardized Alternative  \\\n",
       "0                                S. Maria della Neve   \n",
       "1                                    S Pier Maggiore   \n",
       "2                                    S Pier Maggiore   \n",
       "3  S Maria del Giglio detto de'ciechi [S Ma. de P...   \n",
       "4                                       SS Innocenti   \n",
       "5                                       SS Innocenti   \n",
       "6                                       SS Innocenti   \n",
       "7                           S Sebastiano de'Genovesi   \n",
       "8                S Maria delle Laude e di S Ambrogio   \n",
       "9  S Concordia [property on S Orsola = close to c...   \n",
       "\n",
       "                        Source Age of Confraternity (if estimate, *)  ...  \\\n",
       "0           Henderson P&C #114                                 1445*  ...   \n",
       "1           Henderson P&C #137                                   NaN  ...   \n",
       "2           Henderson P&C #137                                   NaN  ...   \n",
       "3            Henderson P&C 104                                  1324  ...   \n",
       "4            Henderson P&C #78                                   NaN  ...   \n",
       "5            Henderson P&C #92                                   NaN  ...   \n",
       "6            Henderson P&C #92                                   NaN  ...   \n",
       "7           Henderson P&C #147                                  1474  ...   \n",
       "8  Henderson P&C #105 [or 121]                                  1466  ...   \n",
       "9            Henderson P&C #42                                 <1429  ...   \n",
       "\n",
       "          Building Description         Quartiere               Popolo  \\\n",
       "0                         casa       s. Giovanni             S. Piero   \n",
       "1                         casa       s. Giovanni          S. Ambrogio   \n",
       "2             casa in cappella       s. Giovanni    S. Piero Maggiore   \n",
       "3                         Casa       s. Giovanni           S. Lorenzo   \n",
       "4                     una casa        s. Spirito  S. Felice in piazza   \n",
       "5                     una casa        s. Spirito            S. Friano   \n",
       "6                         Casa  s. Maria Novella             s. Paolo   \n",
       "7                     una casa        s. Spirito            S. Friano   \n",
       "8  casa con un poco di bottega       s. Giovanni             S. Piero   \n",
       "9                         Casa       s. Giovanni           S. Lorenzo   \n",
       "\n",
       "                                              Street  \\\n",
       "0                       Borgo della Porta alla Croce   \n",
       "1                                    Via dell'Agnolo   \n",
       "2                       Borgo della Porta alla Croce   \n",
       "3  Via S. Jacopo in Campo Corbolino - Cella di Ci...   \n",
       "4                                       Via Mazzetta   \n",
       "5                                  Via d' Ardiglione   \n",
       "6                              Via nuova da s. Paulo   \n",
       "7                                   Via s. Salvadore   \n",
       "8                       Borgo della Porta alla Croce   \n",
       "9                                      Via S. Orsola   \n",
       "\n",
       "                                Location Information  OBJECTID.1        Y.1  \\\n",
       "0  contigua alla suddetta et a una delle Monache ...        2073  43.770558   \n",
       "1  contigua alla suddetta et a una di Francesco d...        3219  43.770336   \n",
       "2  contigua alla portaccia di Borgo alla croce et...        2203  43.771118   \n",
       "3  contigua a la soprascritta suoltando al lato d...         147  43.775931   \n",
       "4  in via mazzetta a 1o Rede di Piero Dei a 2o An...        7343  43.765810   \n",
       "5  a primo Piero di Raffaello a secondo ser Alama...        8476  43.767438   \n",
       "6  contigua a la suddetta et a una del capitolo d...        5514  43.772942   \n",
       "7  nella via di s. Salvatore a 1o Bartolomeo di B...        8102  43.768004   \n",
       "8  Contigua alla suddetta et al chiasso della, os...        2030  43.770728   \n",
       "9  contigua a la suddetta et a gioGualberto di Ra...         400  43.777147   \n",
       "\n",
       "         X.1 Folio.1 Entry Number.2  \n",
       "0  11.270464    179v           2784  \n",
       "1  11.264497    195r           3033  \n",
       "2  11.269190     157           2421  \n",
       "3  11.252323     44r            681  \n",
       "4  11.247119     62v           1035  \n",
       "5  11.244969    120v           1874  \n",
       "6  11.247446     37v            642  \n",
       "7  11.240896    116v           1814  \n",
       "8  11.270409    180r           2786  \n",
       "9  11.254293     35v            534  \n",
       "\n",
       "[10 rows x 44 columns]"
      ]
     },
     "execution_count": 8,
     "metadata": {},
     "output_type": "execute_result"
    }
   ],
   "source": [
    "decima.iloc[:10]"
   ]
  },
  {
   "cell_type": "code",
   "execution_count": 21,
   "metadata": {
    "ExecuteTime": {
     "end_time": "2022-02-10T23:28:17.299271Z",
     "start_time": "2022-02-10T23:28:17.294860Z"
    },
    "colab": {
     "base_uri": "https://localhost:8080/"
    },
    "id": "2B8VyEQ2IImk",
    "outputId": "aff4aa05-5066-49e7-ef18-b94f5e594dd6"
   },
   "outputs": [
    {
     "data": {
      "text/plain": [
       "(133, 44)"
      ]
     },
     "execution_count": 21,
     "metadata": {},
     "output_type": "execute_result"
    }
   ],
   "source": [
    "decima.shape"
   ]
  },
  {
   "cell_type": "markdown",
   "metadata": {
    "id": "erG016CAIImk"
   },
   "source": [
    "#### Check the column names"
   ]
  },
  {
   "cell_type": "code",
   "execution_count": 22,
   "metadata": {
    "ExecuteTime": {
     "end_time": "2022-02-10T23:28:17.290796Z",
     "start_time": "2022-02-10T23:28:17.285529Z"
    },
    "colab": {
     "base_uri": "https://localhost:8080/"
    },
    "id": "R8NvsK5NIIml",
    "outputId": "3566a28b-0dc6-4d8e-e3ec-4f08c148c0e8"
   },
   "outputs": [
    {
     "data": {
      "text/plain": [
       "Index(['OBJECTID', 'Y', 'X', 'Folio', 'Entry Number', 'Entry Number.1',\n",
       "       'Owner in Source', 'Standardized Alternative', 'Source',\n",
       "       'Age of Confraternity (if estimate, *)', 'Type', 'Property Type',\n",
       "       'Rent - Lire', 'Rent - Scudi', 'Value', 'Male Tenants',\n",
       "       'Female Tenants', 'Total Residents', 'Contract Description', 'Contract',\n",
       "       'Owner Type', 'Other Owner Name', 'Tenant', 'Tenant Gender',\n",
       "       'Tenant Occupation', 'Resident 1 Name', 'Resident 1 Gender',\n",
       "       'Resident 1 Occupation', 'Resident 2 Name', 'Resident 2 Gender',\n",
       "       'Resident 2 Occupation', 'Resident 3 Name', 'Resident 3 Gender',\n",
       "       'Resident 3 Occupation', 'Building Description', 'Quartiere', 'Popolo',\n",
       "       'Street', 'Location Information', 'OBJECTID.1', 'Y.1', 'X.1', 'Folio.1',\n",
       "       'Entry Number.2'],\n",
       "      dtype='object')"
      ]
     },
     "execution_count": 22,
     "metadata": {},
     "output_type": "execute_result"
    }
   ],
   "source": [
    "decima.columns"
   ]
  },
  {
   "cell_type": "markdown",
   "metadata": {
    "id": "SQKu8pOpIIml"
   },
   "source": [
    "### F.3  Mapping with folium\n",
    "\n",
    "* Include geographical data in the form of longitude and latitude"
   ]
  },
  {
   "cell_type": "markdown",
   "metadata": {
    "id": "d_3GQO0iIIml"
   },
   "source": [
    "#### The X and Y columns represent longitude and latitude"
   ]
  },
  {
   "cell_type": "code",
   "execution_count": 49,
   "metadata": {},
   "outputs": [
    {
     "name": "stdout",
     "output_type": "stream",
     "text": [
      "40.0074 -75.3051\n"
     ]
    }
   ],
   "source": [
    "X = 40.0074\n",
    "Y = -75.3051\n",
    "print(X, Y)"
   ]
  },
  {
   "cell_type": "markdown",
   "metadata": {
    "id": "UePVelFwIImm"
   },
   "source": [
    "#### The folium library will let us create maps directly in Jupyter NBs\n",
    "\n",
    "- Notice that the map is zoomable and interactive (linked back to the data in our frame)"
   ]
  },
  {
   "cell_type": "code",
   "execution_count": 50,
   "metadata": {
    "ExecuteTime": {
     "end_time": "2022-02-10T23:28:17.327072Z",
     "start_time": "2022-02-10T23:28:17.318722Z"
    },
    "id": "oqs6rHXVIImm"
   },
   "outputs": [],
   "source": [
    "our_map = folium.Map(location=[X, Y], zoom_start=15)"
   ]
  },
  {
   "cell_type": "code",
   "execution_count": 51,
   "metadata": {
    "ExecuteTime": {
     "end_time": "2022-02-10T23:28:17.532841Z",
     "start_time": "2022-02-10T23:28:17.357225Z"
    },
    "colab": {
     "base_uri": "https://localhost:8080/",
     "height": 1000
    },
    "id": "MoJ-0S9SIImn",
    "outputId": "14c7dd03-14aa-43d6-8450-383347f92399"
   },
   "outputs": [
    {
     "data": {
      "text/html": [
       "<div style=\"width:100%;\"><div style=\"position:relative;width:100%;height:0;padding-bottom:60%;\"><span style=\"color:#565656\">Make this Notebook Trusted to load map: File -> Trust Notebook</span><iframe srcdoc=\"&lt;!DOCTYPE html&gt;\n",
       "&lt;html&gt;\n",
       "&lt;head&gt;\n",
       "    \n",
       "    &lt;meta http-equiv=&quot;content-type&quot; content=&quot;text/html; charset=UTF-8&quot; /&gt;\n",
       "    \n",
       "        &lt;script&gt;\n",
       "            L_NO_TOUCH = false;\n",
       "            L_DISABLE_3D = false;\n",
       "        &lt;/script&gt;\n",
       "    \n",
       "    &lt;style&gt;html, body {width: 100%;height: 100%;margin: 0;padding: 0;}&lt;/style&gt;\n",
       "    &lt;style&gt;#map {position:absolute;top:0;bottom:0;right:0;left:0;}&lt;/style&gt;\n",
       "    &lt;script src=&quot;https://cdn.jsdelivr.net/npm/leaflet@1.6.0/dist/leaflet.js&quot;&gt;&lt;/script&gt;\n",
       "    &lt;script src=&quot;https://code.jquery.com/jquery-1.12.4.min.js&quot;&gt;&lt;/script&gt;\n",
       "    &lt;script src=&quot;https://maxcdn.bootstrapcdn.com/bootstrap/3.2.0/js/bootstrap.min.js&quot;&gt;&lt;/script&gt;\n",
       "    &lt;script src=&quot;https://cdnjs.cloudflare.com/ajax/libs/Leaflet.awesome-markers/2.0.2/leaflet.awesome-markers.js&quot;&gt;&lt;/script&gt;\n",
       "    &lt;link rel=&quot;stylesheet&quot; href=&quot;https://cdn.jsdelivr.net/npm/leaflet@1.6.0/dist/leaflet.css&quot;/&gt;\n",
       "    &lt;link rel=&quot;stylesheet&quot; href=&quot;https://maxcdn.bootstrapcdn.com/bootstrap/3.2.0/css/bootstrap.min.css&quot;/&gt;\n",
       "    &lt;link rel=&quot;stylesheet&quot; href=&quot;https://maxcdn.bootstrapcdn.com/bootstrap/3.2.0/css/bootstrap-theme.min.css&quot;/&gt;\n",
       "    &lt;link rel=&quot;stylesheet&quot; href=&quot;https://maxcdn.bootstrapcdn.com/font-awesome/4.6.3/css/font-awesome.min.css&quot;/&gt;\n",
       "    &lt;link rel=&quot;stylesheet&quot; href=&quot;https://cdnjs.cloudflare.com/ajax/libs/Leaflet.awesome-markers/2.0.2/leaflet.awesome-markers.css&quot;/&gt;\n",
       "    &lt;link rel=&quot;stylesheet&quot; href=&quot;https://cdn.jsdelivr.net/gh/python-visualization/folium/folium/templates/leaflet.awesome.rotate.min.css&quot;/&gt;\n",
       "    \n",
       "            &lt;meta name=&quot;viewport&quot; content=&quot;width=device-width,\n",
       "                initial-scale=1.0, maximum-scale=1.0, user-scalable=no&quot; /&gt;\n",
       "            &lt;style&gt;\n",
       "                #map_419db3541d95d80f50d41a23e4ece59c {\n",
       "                    position: relative;\n",
       "                    width: 100.0%;\n",
       "                    height: 100.0%;\n",
       "                    left: 0.0%;\n",
       "                    top: 0.0%;\n",
       "                }\n",
       "            &lt;/style&gt;\n",
       "        \n",
       "&lt;/head&gt;\n",
       "&lt;body&gt;\n",
       "    \n",
       "    \n",
       "            &lt;div class=&quot;folium-map&quot; id=&quot;map_419db3541d95d80f50d41a23e4ece59c&quot; &gt;&lt;/div&gt;\n",
       "        \n",
       "&lt;/body&gt;\n",
       "&lt;script&gt;\n",
       "    \n",
       "    \n",
       "            var map_419db3541d95d80f50d41a23e4ece59c = L.map(\n",
       "                &quot;map_419db3541d95d80f50d41a23e4ece59c&quot;,\n",
       "                {\n",
       "                    center: [40.0074, -75.3051],\n",
       "                    crs: L.CRS.EPSG3857,\n",
       "                    zoom: 15,\n",
       "                    zoomControl: true,\n",
       "                    preferCanvas: false,\n",
       "                }\n",
       "            );\n",
       "\n",
       "            \n",
       "\n",
       "        \n",
       "    \n",
       "            var tile_layer_5c702d74ff846574e553b69c4be0f986 = L.tileLayer(\n",
       "                &quot;https://{s}.tile.openstreetmap.org/{z}/{x}/{y}.png&quot;,\n",
       "                {&quot;attribution&quot;: &quot;Data by \\u0026copy; \\u003ca href=\\&quot;http://openstreetmap.org\\&quot;\\u003eOpenStreetMap\\u003c/a\\u003e, under \\u003ca href=\\&quot;http://www.openstreetmap.org/copyright\\&quot;\\u003eODbL\\u003c/a\\u003e.&quot;, &quot;detectRetina&quot;: false, &quot;maxNativeZoom&quot;: 18, &quot;maxZoom&quot;: 18, &quot;minZoom&quot;: 0, &quot;noWrap&quot;: false, &quot;opacity&quot;: 1, &quot;subdomains&quot;: &quot;abc&quot;, &quot;tms&quot;: false}\n",
       "            ).addTo(map_419db3541d95d80f50d41a23e4ece59c);\n",
       "        \n",
       "&lt;/script&gt;\n",
       "&lt;/html&gt;\" style=\"position:absolute;width:100%;height:100%;left:0;top:0;border:none !important;\" allowfullscreen webkitallowfullscreen mozallowfullscreen></iframe></div></div>"
      ],
      "text/plain": [
       "<folium.folium.Map at 0x7fbc01237700>"
      ]
     },
     "execution_count": 51,
     "metadata": {},
     "output_type": "execute_result"
    }
   ],
   "source": [
    "our_map"
   ]
  },
  {
   "cell_type": "code",
   "execution_count": 35,
   "metadata": {
    "ExecuteTime": {
     "end_time": "2022-02-10T23:28:17.334895Z",
     "start_time": "2022-02-10T23:28:17.328903Z"
    },
    "id": "b7Fu7DKhIImm"
   },
   "outputs": [],
   "source": [
    "decima[\"popup_column\"] = decima.apply(lambda row: f\"\"\"\n",
    "        <ul>\n",
    "            <li><strong>ID: </strong>{row[\"OBJECTID\"]}</li>\n",
    "            <li><strong>Source: </strong>{row[\"Source\"]}</li>\n",
    "            <li><strong>Name: </strong>{row[\"Tenant Occupation\"]}</li>\n",
    "        <ul>\n",
    "    \"\"\"\n",
    ", axis=\"columns\")"
   ]
  },
  {
   "cell_type": "code",
   "execution_count": 36,
   "metadata": {
    "ExecuteTime": {
     "end_time": "2022-02-10T23:28:17.355188Z",
     "start_time": "2022-02-10T23:28:17.336827Z"
    },
    "id": "TNweByPdIImm"
   },
   "outputs": [],
   "source": [
    "decima.apply(lambda row: folium.Marker(\n",
    "                                    location=(row[\"Y\"], row[\"X\"]),\n",
    "                                    popup=row[\"popup_column\"]\n",
    "                                    ).add_to(our_map), axis=1);"
   ]
  },
  {
   "cell_type": "code",
   "execution_count": null,
   "metadata": {},
   "outputs": [],
   "source": []
  }
 ],
 "metadata": {
  "colab": {
   "name": "DDL_2022_Pandas_Jupyter.ipynb",
   "provenance": []
  },
  "kernelspec": {
   "display_name": "Python 3 (ipykernel)",
   "language": "python",
   "name": "python3"
  },
  "language_info": {
   "codemirror_mode": {
    "name": "ipython",
    "version": 3
   },
   "file_extension": ".py",
   "mimetype": "text/x-python",
   "name": "python",
   "nbconvert_exporter": "python",
   "pygments_lexer": "ipython3",
   "version": "3.9.12"
  },
  "toc": {
   "base_numbering": 1,
   "nav_menu": {},
   "number_sections": true,
   "sideBar": true,
   "skip_h1_title": false,
   "title_cell": "Table of Contents",
   "title_sidebar": "Contents",
   "toc_cell": false,
   "toc_position": {},
   "toc_section_display": true,
   "toc_window_display": false
  }
 },
 "nbformat": 4,
 "nbformat_minor": 4
}

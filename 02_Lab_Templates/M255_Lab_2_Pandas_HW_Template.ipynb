{
 "cells": [
  {
   "cell_type": "markdown",
   "metadata": {},
   "source": [
    "____________________\n",
    "# Music 255: Pandas Homework"
   ]
  },
  {
   "cell_type": "markdown",
   "metadata": {
    "id": "WhdBzidHIImH"
   },
   "source": [
    "In this homework assignment, you will get a chance to work on:\n",
    "\n",
    "* **data clean up**: type checking, formatting, variable range\n",
    "* **filtering and sorting**: producing desired subsets of data\n",
    "* **customization**: creating new columns, entries, merging datasets\n",
    "\n",
    "Read more about Pandas [here](https://pandas.pydata.org/about/\n",
    ").\n",
    "\n",
    "Find Pandas Tutorials [here](https://www.w3schools.com/python/pandas/default.asp).\n",
    "\n",
    "Pandas Cheat Sheet:  [here](https://pandas.pydata.org/Pandas_Cheat_Sheet.pdf).\n",
    "\n",
    "Also remember the guide to various Pandas features in the **M225_B_Pandas Jupyter Notebook**, \n",
    "which uses data sets for the Beatles to demonstrate the methods."
   ]
  },
  {
   "cell_type": "markdown",
   "metadata": {
    "id": "dZVsIj-mIImH"
   },
   "source": [
    "#### Setup: Import Libraries"
   ]
  },
  {
   "cell_type": "code",
   "execution_count": 1,
   "metadata": {
    "ExecuteTime": {
     "end_time": "2022-02-10T23:28:15.994052Z",
     "start_time": "2022-02-10T23:28:14.791696Z"
    },
    "id": "3_H8IHsFIImI"
   },
   "outputs": [],
   "source": [
    "import pandas as pd\n",
    "import matplotlib.pyplot as plt\n",
    "import numpy as np"
   ]
  },
  {
   "cell_type": "markdown",
   "metadata": {},
   "source": [
    "____________________"
   ]
  },
  {
   "cell_type": "markdown",
   "metadata": {},
   "source": [
    "# Part 1: Import Data\n",
    "\n",
    "As a reminder:\n",
    "\n",
    "\n",
    "Pandas **data frames** are the basic unit upon which all operations take place.  Data frames are like spreadsheets, with columns and rows.\n",
    "\n",
    "Indeed, Pandas can easily import spreadsheets in **CSV** (comma-separated values) format.  We will also import data from databases in **JSON** format (JavaScript Object Notation), similar to a Python dictionary.  There are special scripts for working with JSON, too.\n",
    "\n",
    "Pandas can export as well as import these formats (among others)."
   ]
  },
  {
   "cell_type": "markdown",
   "metadata": {},
   "source": [
    "In this portion of the homework, you will be asked to import one of the four datasets we compiled for you:\n",
    "\n",
    "* Beatles: https://docs.google.com/spreadsheets/d/e/2PACX-1vS5BmNaCGD2fZW_csT6pQHD42pkAP9Dy-Vm5qnbQl03Y4ZvAbp_b5NRFNQ0fBSBCvpN6RCxowRc9AQ_/pub?output=csv  <br><br>\n",
    "* Rolling Stones: https://docs.google.com/spreadsheets/d/e/2PACX-1vQHD3EgBmbdiAAhiS_wML0suRow6r8q26x8k3g7QqyjaGAjDyp0nEymaasQiuDgtDEYm0HOD1MZaJUJ/pub?output=csv <br><br>\n",
    "* Led Zeppelin: https://docs.google.com/spreadsheets/d/e/2PACX-1vQx7QDXjfB4d_7tav01q0zyZMaGrffldBhUenDJaJt03DH4bTTOneM8srUnJ8zkQ425_xIIXXty5Dzy/pub?output=csv <br><br>\n",
    "* Bob Dylan: https://docs.google.com/spreadsheets/d/e/2PACX-1vRW3Vi8boPnwbnAwI1sRkJ-D4mF24esW1KvWm7rMueD4hFp2Vu6zXHCgOtEgkD383ZHgQow0j2DKGEM/pub?output=csv\n",
    "\n",
    "Use the cell below to save your dataset into a Pandas DataFrame:"
   ]
  },
  {
   "cell_type": "code",
   "execution_count": 9,
   "metadata": {},
   "outputs": [],
   "source": [
    "url = \"https://docs.google.com/spreadsheets/d/e/2PACX-1vS5BmNaCGD2fZW_csT6pQHD42pkAP9Dy-Vm5qnbQl03Y4ZvAbp_b5NRFNQ0fBSBCvpN6RCxowRc9AQ_/pub?output=csv\"\n",
    "imported_dataset = pd.read_csv(url)"
   ]
  },
  {
   "cell_type": "markdown",
   "metadata": {},
   "source": [
    "In the cell below, write a code that will output the **first three rows** of your DataFrame:"
   ]
  },
  {
   "cell_type": "code",
   "execution_count": 31,
   "metadata": {},
   "outputs": [],
   "source": [
    "# make this cell output the first three rows of your DataFrame"
   ]
  },
  {
   "cell_type": "markdown",
   "metadata": {},
   "source": [
    "It is also important to obtain the metadata for your dataset. Typically, a data sample is described by its mean, standard deviation, size, shape, and datatypes. Please use the cell above to print out all available **information about your dataset** (use Lab Notebook B for reference):"
   ]
  },
  {
   "cell_type": "code",
   "execution_count": 32,
   "metadata": {},
   "outputs": [],
   "source": [
    "# describe your dataset"
   ]
  },
  {
   "cell_type": "markdown",
   "metadata": {},
   "source": [
    "____________________\n",
    "# Part 2: Data Clean Up\n",
    "\n",
    "Once you're familiar with your data, it likely needs to be cleaned. Some common practices include **type checking**, **dropping NaNs (Not a Number's)**, and **removing duplicate entries**. In the cells below, you'll get a chance to practice each of these techniques.\n",
    "\n",
    "#### Step 2.1: Type Checking\n",
    "\n",
    "One of the features provided by your Spotify Datasets is named \"mode\" and stands for the Musical Mode of a track. While Spotify's scores are typically binary (0 => Minor; 1 => Major), we sometimes encounter errors in these files: e.g. someone entered \"Major\" instead of 1.\n",
    "\n",
    "First, we ask you to type check your dataFrame. There is a built-in Pandas method that does this. Please use the cell below to output the **dataTypes for your DataFrame**:"
   ]
  },
  {
   "cell_type": "code",
   "execution_count": 33,
   "metadata": {},
   "outputs": [],
   "source": [
    "# use this cell to check the data types of your DataFrame"
   ]
  },
  {
   "cell_type": "markdown",
   "metadata": {},
   "source": [
    "At this point, you should be able to see that the \"mode\" column is of type Object. This is because it features both Integers (0's and 1's) and Strings (\"Major\" and \"Minor\"), so Python puts the values in an Object wrapper. \n",
    "\n",
    "At this point, we want to check to see what are all possible values in the column. Value range checking could be accomplished by calling Python's **set()** function on the DataFrame column. Please output the **set of all values of the \"mode\" column** in the cell below:"
   ]
  },
  {
   "cell_type": "code",
   "execution_count": 34,
   "metadata": {},
   "outputs": [],
   "source": [
    "# produce the set of all values in the \"mode\" column here"
   ]
  },
  {
   "cell_type": "markdown",
   "metadata": {},
   "source": [
    "In order to clean up this column, you'll need to **write a function** to clean up your data. This could be accomplished by **defining a function** and **applying it within the column**, or by utilizing the **lambda function definition**. \n",
    "\n",
    "Please use the cell below to **clean up the \"mode\" column**:"
   ]
  },
  {
   "cell_type": "code",
   "execution_count": 36,
   "metadata": {},
   "outputs": [
    {
     "data": {
      "text/plain": [
       "{'0', '1', 'Major', 'Minor'}"
      ]
     },
     "execution_count": 36,
     "metadata": {},
     "output_type": "execute_result"
    }
   ],
   "source": [
    "# your clean-up code here"
   ]
  },
  {
   "cell_type": "markdown",
   "metadata": {},
   "source": [
    "At this point, your \"mode\" column should only feature 1's and 0's. Please use the cell below to produce the **set of all values** in the column: "
   ]
  },
  {
   "cell_type": "code",
   "execution_count": null,
   "metadata": {},
   "outputs": [],
   "source": [
    "# produce the new set of all values in the \"mode\" column here"
   ]
  },
  {
   "cell_type": "markdown",
   "metadata": {},
   "source": [
    "#### Step 2.2: NaN Check\n",
    "\n",
    "Another useful data clean-up technique is getting rid of (known as \"dropping\") the empty values. In Python, a missing value is considered a NaN -- short for Not a Number (also known as None). In your Spotify dataset, several track entries (represented as dataset rows) have NaN/None in the \"valence\" column.\n",
    "\n",
    "In the cell below, produce a line of code that will **drop NaN's** in your dataset. Then, use Pandas to check for NaN's (see lab example)."
   ]
  },
  {
   "cell_type": "code",
   "execution_count": null,
   "metadata": {},
   "outputs": [],
   "source": [
    "# drop the None values; check if any left"
   ]
  },
  {
   "cell_type": "markdown",
   "metadata": {},
   "source": [
    "#### Step 2.3: Uniqueness\n",
    "\n",
    "Finally, sometimes it is very important to check for the uniqueness of the data entries. In the case of your Spotify dataset, we want to make sure no entry is repeated -- as we know that the same song featured in two different albums would be represented as two distinct entries.\n",
    "\n",
    "Please use the cell below to **remove duplicates** from your DataFrame."
   ]
  },
  {
   "cell_type": "code",
   "execution_count": null,
   "metadata": {},
   "outputs": [],
   "source": [
    "# remove duplicates here"
   ]
  },
  {
   "cell_type": "markdown",
   "metadata": {},
   "source": [
    "____________________\n",
    "# Part 3: Rearranging Data\n",
    "\n",
    "At this point, you should have a cleaned-up and well-compiled dataset that is ready to be analyzed. As part of configuring your data to fit your analysis purposes, you will often have to **rearrange, sort, filter, group, or bin** your entries. \n",
    "\n",
    "#### Step 3.1: Column Order\n",
    "\n",
    "Sometimes, you would have to **switch your columns around** in order to make your data appear a certain way. Please use the cell below to swap the \"loudness\" and \"mode\" columns in your dataset. Output the dataset's column names to showcase your result."
   ]
  },
  {
   "cell_type": "code",
   "execution_count": 15,
   "metadata": {},
   "outputs": [],
   "source": [
    "# rearrange columns here: return the columns names list"
   ]
  },
  {
   "cell_type": "markdown",
   "metadata": {},
   "source": [
    "#### Step 3.2: Row Order\n",
    "\n",
    "Similarly, sometimes you would have to **rearrange rows**. Use the cell below to swap rows 2 and 3. Output the head of the dataset to illustrate the change:"
   ]
  },
  {
   "cell_type": "code",
   "execution_count": 16,
   "metadata": {},
   "outputs": [],
   "source": [
    "# swap rows 2 and 3 here"
   ]
  },
  {
   "cell_type": "markdown",
   "metadata": {},
   "source": [
    "#### Step 3.3: Sorting\n",
    "\n",
    "Oftentimes, data needs to be sorted. Use the cell below to **sort the entries** in your DataFrame **based on energy**. That is, based on the values in the \"energy\" column (in ascending order). Output the first 10 rows of your dataset to illustrate the result: "
   ]
  },
  {
   "cell_type": "code",
   "execution_count": null,
   "metadata": {},
   "outputs": [],
   "source": [
    "# sort your data here"
   ]
  },
  {
   "cell_type": "markdown",
   "metadata": {},
   "source": [
    "#### Step 3.4: Filtering \n",
    "\n",
    "When working with data, you would often want to focus on a set of entries that match a criterion of interest. Naturally, Pandas has a very useful built-in filtering method: *pandas.DataFrame.filter*. You can read more about it [here](https://pandas.pydata.org/docs/reference/api/pandas.DataFrame.filter.html)\n",
    "\n",
    "Use the cell below to **filter all entries** and output those that have a score of 1 in the \"mode\" column and \"valence\" score > 0.7:"
   ]
  },
  {
   "cell_type": "code",
   "execution_count": null,
   "metadata": {},
   "outputs": [],
   "source": [
    "# filter your data here"
   ]
  },
  {
   "cell_type": "markdown",
   "metadata": {},
   "source": [
    "#### Step 3.5: Binning \n",
    "\n",
    "Another important tool is being able to categorize data. Oftentimes, this is done through \"binning\" -- assigning the entry to one of several discrete categories based on some continuous value. In our specific example, we will use the values in the \"danceability\" column (expressed as floats ranging from 0 to 1) to classify a track as a Dance Tune (0 => Not a Dance Tune; 1 => Definitely a Dance Tune). \n",
    "\n",
    "First, you need to think about picking a certain threshold value. Is Get Back by the Beatles (0.628 danceability rating) a Dance Tune? How about Doctor Robert (0.392 danceability score)? Use the code cell below to **pick your danceability threshold value** and save it as a variable. "
   ]
  },
  {
   "cell_type": "code",
   "execution_count": 12,
   "metadata": {},
   "outputs": [
    {
     "data": {
      "text/html": [
       "<div>\n",
       "<style scoped>\n",
       "    .dataframe tbody tr th:only-of-type {\n",
       "        vertical-align: middle;\n",
       "    }\n",
       "\n",
       "    .dataframe tbody tr th {\n",
       "        vertical-align: top;\n",
       "    }\n",
       "\n",
       "    .dataframe thead th {\n",
       "        text-align: right;\n",
       "    }\n",
       "</style>\n",
       "<table border=\"1\" class=\"dataframe\">\n",
       "  <thead>\n",
       "    <tr style=\"text-align: right;\">\n",
       "      <th></th>\n",
       "      <th>Unnamed: 0</th>\n",
       "      <th>artist</th>\n",
       "      <th>track_name</th>\n",
       "      <th>track_id</th>\n",
       "      <th>danceability</th>\n",
       "      <th>energy</th>\n",
       "      <th>key</th>\n",
       "      <th>loudness</th>\n",
       "      <th>mode</th>\n",
       "      <th>speechiness</th>\n",
       "      <th>instrumentalness</th>\n",
       "      <th>liveness</th>\n",
       "      <th>valence</th>\n",
       "      <th>tempo</th>\n",
       "      <th>duration_ms</th>\n",
       "      <th>time_signature</th>\n",
       "      <th>Album_Name</th>\n",
       "      <th>Dance Tune</th>\n",
       "    </tr>\n",
       "  </thead>\n",
       "  <tbody>\n",
       "    <tr>\n",
       "      <th>0</th>\n",
       "      <td>0</td>\n",
       "      <td>The Beatles</td>\n",
       "      <td>Get Back - Rooftop Performance / Take 1</td>\n",
       "      <td>4bVT9bpThKnkFtl1xeB2bh</td>\n",
       "      <td>0.628</td>\n",
       "      <td>0.524</td>\n",
       "      <td>2</td>\n",
       "      <td>-11.840</td>\n",
       "      <td>1</td>\n",
       "      <td>0.0773</td>\n",
       "      <td>0.099500</td>\n",
       "      <td>0.1950</td>\n",
       "      <td>0.2720</td>\n",
       "      <td>124.176</td>\n",
       "      <td>283373</td>\n",
       "      <td>4</td>\n",
       "      <td>Get Back (Rooftop Performance)</td>\n",
       "      <td>1.0</td>\n",
       "    </tr>\n",
       "    <tr>\n",
       "      <th>1</th>\n",
       "      <td>1</td>\n",
       "      <td>The Beatles</td>\n",
       "      <td>Get Back - Rooftop Performance / Take 2</td>\n",
       "      <td>4z3RNAUb0whdaLAudM9EHE</td>\n",
       "      <td>0.655</td>\n",
       "      <td>0.695</td>\n",
       "      <td>9</td>\n",
       "      <td>-9.648</td>\n",
       "      <td>1</td>\n",
       "      <td>0.0381</td>\n",
       "      <td>0.436000</td>\n",
       "      <td>0.1050</td>\n",
       "      <td>0.3300</td>\n",
       "      <td>125.572</td>\n",
       "      <td>204187</td>\n",
       "      <td>4</td>\n",
       "      <td>Get Back (Rooftop Performance)</td>\n",
       "      <td>1.0</td>\n",
       "    </tr>\n",
       "    <tr>\n",
       "      <th>2</th>\n",
       "      <td>2</td>\n",
       "      <td>The Beatles</td>\n",
       "      <td>Don't Let Me Down - Rooftop Performance / Take 1</td>\n",
       "      <td>6Wjbtcnv4Yw92luvE1Y8tW</td>\n",
       "      <td>0.592</td>\n",
       "      <td>0.513</td>\n",
       "      <td>6</td>\n",
       "      <td>-8.778</td>\n",
       "      <td>0</td>\n",
       "      <td>0.0322</td>\n",
       "      <td>0.000170</td>\n",
       "      <td>0.1820</td>\n",
       "      <td>0.7440</td>\n",
       "      <td>81.920</td>\n",
       "      <td>202467</td>\n",
       "      <td>4</td>\n",
       "      <td>Get Back (Rooftop Performance)</td>\n",
       "      <td>1.0</td>\n",
       "    </tr>\n",
       "    <tr>\n",
       "      <th>3</th>\n",
       "      <td>3</td>\n",
       "      <td>The Beatles</td>\n",
       "      <td>I've Got A Feeling - Rooftop Performance / Take 1</td>\n",
       "      <td>06rGbrn3Vhp6CeByhZboOT</td>\n",
       "      <td>0.392</td>\n",
       "      <td>0.629</td>\n",
       "      <td>2</td>\n",
       "      <td>-11.235</td>\n",
       "      <td>1</td>\n",
       "      <td>0.1720</td>\n",
       "      <td>0.006990</td>\n",
       "      <td>0.0847</td>\n",
       "      <td>0.3520</td>\n",
       "      <td>165.416</td>\n",
       "      <td>283720</td>\n",
       "      <td>4</td>\n",
       "      <td>Get Back (Rooftop Performance)</td>\n",
       "      <td>0.0</td>\n",
       "    </tr>\n",
       "    <tr>\n",
       "      <th>4</th>\n",
       "      <td>4</td>\n",
       "      <td>The Beatles</td>\n",
       "      <td>One After 909 - Rooftop Performance</td>\n",
       "      <td>4MBeqWnCdIMcEexCNbNqRt</td>\n",
       "      <td>0.521</td>\n",
       "      <td>0.870</td>\n",
       "      <td>4</td>\n",
       "      <td>-8.985</td>\n",
       "      <td>1</td>\n",
       "      <td>0.2370</td>\n",
       "      <td>0.000002</td>\n",
       "      <td>0.6220</td>\n",
       "      <td>0.7230</td>\n",
       "      <td>90.474</td>\n",
       "      <td>189200</td>\n",
       "      <td>4</td>\n",
       "      <td>Get Back (Rooftop Performance)</td>\n",
       "      <td>1.0</td>\n",
       "    </tr>\n",
       "    <tr>\n",
       "      <th>...</th>\n",
       "      <td>...</td>\n",
       "      <td>...</td>\n",
       "      <td>...</td>\n",
       "      <td>...</td>\n",
       "      <td>...</td>\n",
       "      <td>...</td>\n",
       "      <td>...</td>\n",
       "      <td>...</td>\n",
       "      <td>...</td>\n",
       "      <td>...</td>\n",
       "      <td>...</td>\n",
       "      <td>...</td>\n",
       "      <td>...</td>\n",
       "      <td>...</td>\n",
       "      <td>...</td>\n",
       "      <td>...</td>\n",
       "      <td>...</td>\n",
       "      <td>...</td>\n",
       "    </tr>\n",
       "    <tr>\n",
       "      <th>540</th>\n",
       "      <td>540</td>\n",
       "      <td>The Beatles</td>\n",
       "      <td>Got To Get You Into My Life - Remastered 2009</td>\n",
       "      <td>3tGhRLgcCP6SIZU3tbGl7l</td>\n",
       "      <td>0.521</td>\n",
       "      <td>0.524</td>\n",
       "      <td>0</td>\n",
       "      <td>-6.136</td>\n",
       "      <td>1</td>\n",
       "      <td>0.0302</td>\n",
       "      <td>0.000009</td>\n",
       "      <td>0.0838</td>\n",
       "      <td>0.7110</td>\n",
       "      <td>136.679</td>\n",
       "      <td>149240</td>\n",
       "      <td>4</td>\n",
       "      <td>Revolver (Remastered)</td>\n",
       "      <td>1.0</td>\n",
       "    </tr>\n",
       "    <tr>\n",
       "      <th>541</th>\n",
       "      <td>541</td>\n",
       "      <td>The Beatles</td>\n",
       "      <td>Tomorrow Never Knows - Remastered 2009</td>\n",
       "      <td>00oZhqZIQfL9P5CjOP6JsO</td>\n",
       "      <td>0.380</td>\n",
       "      <td>0.829</td>\n",
       "      <td>5</td>\n",
       "      <td>-6.105</td>\n",
       "      <td>1</td>\n",
       "      <td>0.0405</td>\n",
       "      <td>0.002080</td>\n",
       "      <td>0.3420</td>\n",
       "      <td>0.0534</td>\n",
       "      <td>125.887</td>\n",
       "      <td>179547</td>\n",
       "      <td>4</td>\n",
       "      <td>Revolver (Remastered)</td>\n",
       "      <td>0.0</td>\n",
       "    </tr>\n",
       "    <tr>\n",
       "      <th>542</th>\n",
       "      <td>542</td>\n",
       "      <td>The Beatles</td>\n",
       "      <td>Two Of Us - 2021 Mix</td>\n",
       "      <td>2CEujT1Tuv3jIIjUyUvupg</td>\n",
       "      <td>0.692</td>\n",
       "      <td>0.756</td>\n",
       "      <td>7</td>\n",
       "      <td>-9.677</td>\n",
       "      <td>1</td>\n",
       "      <td>0.0402</td>\n",
       "      <td>0.000088</td>\n",
       "      <td>0.2190</td>\n",
       "      <td>0.8260</td>\n",
       "      <td>109.111</td>\n",
       "      <td>216480</td>\n",
       "      <td>4</td>\n",
       "      <td>Let It Be (Super Deluxe)</td>\n",
       "      <td>1.0</td>\n",
       "    </tr>\n",
       "    <tr>\n",
       "      <th>543</th>\n",
       "      <td>543</td>\n",
       "      <td>The Beatles</td>\n",
       "      <td>Dig A Pony - 2021 Mix</td>\n",
       "      <td>5pbQlOzqzTacF4wbzmWEeA</td>\n",
       "      <td>0.461</td>\n",
       "      <td>0.500</td>\n",
       "      <td>11</td>\n",
       "      <td>-8.023</td>\n",
       "      <td>0</td>\n",
       "      <td>0.0478</td>\n",
       "      <td>0.000010</td>\n",
       "      <td>0.2090</td>\n",
       "      <td>0.3930</td>\n",
       "      <td>118.377</td>\n",
       "      <td>234760</td>\n",
       "      <td>3</td>\n",
       "      <td>Let It Be (Super Deluxe)</td>\n",
       "      <td>0.0</td>\n",
       "    </tr>\n",
       "    <tr>\n",
       "      <th>544</th>\n",
       "      <td>544</td>\n",
       "      <td>The Beatles</td>\n",
       "      <td>Across The Universe - 2021 Mix</td>\n",
       "      <td>47q5q2VZ0y264CNDdUAjZY</td>\n",
       "      <td>0.414</td>\n",
       "      <td>0.467</td>\n",
       "      <td>1</td>\n",
       "      <td>-9.189</td>\n",
       "      <td>1</td>\n",
       "      <td>0.0270</td>\n",
       "      <td>0.000023</td>\n",
       "      <td>0.0779</td>\n",
       "      <td>0.7520</td>\n",
       "      <td>76.148</td>\n",
       "      <td>228093</td>\n",
       "      <td>4</td>\n",
       "      <td>Let It Be (Super Deluxe)</td>\n",
       "      <td>0.0</td>\n",
       "    </tr>\n",
       "  </tbody>\n",
       "</table>\n",
       "<p>545 rows × 18 columns</p>\n",
       "</div>"
      ],
      "text/plain": [
       "     Unnamed: 0       artist  \\\n",
       "0             0  The Beatles   \n",
       "1             1  The Beatles   \n",
       "2             2  The Beatles   \n",
       "3             3  The Beatles   \n",
       "4             4  The Beatles   \n",
       "..          ...          ...   \n",
       "540         540  The Beatles   \n",
       "541         541  The Beatles   \n",
       "542         542  The Beatles   \n",
       "543         543  The Beatles   \n",
       "544         544  The Beatles   \n",
       "\n",
       "                                            track_name  \\\n",
       "0              Get Back - Rooftop Performance / Take 1   \n",
       "1              Get Back - Rooftop Performance / Take 2   \n",
       "2     Don't Let Me Down - Rooftop Performance / Take 1   \n",
       "3    I've Got A Feeling - Rooftop Performance / Take 1   \n",
       "4                  One After 909 - Rooftop Performance   \n",
       "..                                                 ...   \n",
       "540      Got To Get You Into My Life - Remastered 2009   \n",
       "541             Tomorrow Never Knows - Remastered 2009   \n",
       "542                               Two Of Us - 2021 Mix   \n",
       "543                              Dig A Pony - 2021 Mix   \n",
       "544                     Across The Universe - 2021 Mix   \n",
       "\n",
       "                   track_id  danceability  energy  key  loudness mode  \\\n",
       "0    4bVT9bpThKnkFtl1xeB2bh         0.628   0.524    2   -11.840    1   \n",
       "1    4z3RNAUb0whdaLAudM9EHE         0.655   0.695    9    -9.648    1   \n",
       "2    6Wjbtcnv4Yw92luvE1Y8tW         0.592   0.513    6    -8.778    0   \n",
       "3    06rGbrn3Vhp6CeByhZboOT         0.392   0.629    2   -11.235    1   \n",
       "4    4MBeqWnCdIMcEexCNbNqRt         0.521   0.870    4    -8.985    1   \n",
       "..                      ...           ...     ...  ...       ...  ...   \n",
       "540  3tGhRLgcCP6SIZU3tbGl7l         0.521   0.524    0    -6.136    1   \n",
       "541  00oZhqZIQfL9P5CjOP6JsO         0.380   0.829    5    -6.105    1   \n",
       "542  2CEujT1Tuv3jIIjUyUvupg         0.692   0.756    7    -9.677    1   \n",
       "543  5pbQlOzqzTacF4wbzmWEeA         0.461   0.500   11    -8.023    0   \n",
       "544  47q5q2VZ0y264CNDdUAjZY         0.414   0.467    1    -9.189    1   \n",
       "\n",
       "     speechiness  instrumentalness  liveness  valence    tempo  duration_ms  \\\n",
       "0         0.0773          0.099500    0.1950   0.2720  124.176       283373   \n",
       "1         0.0381          0.436000    0.1050   0.3300  125.572       204187   \n",
       "2         0.0322          0.000170    0.1820   0.7440   81.920       202467   \n",
       "3         0.1720          0.006990    0.0847   0.3520  165.416       283720   \n",
       "4         0.2370          0.000002    0.6220   0.7230   90.474       189200   \n",
       "..           ...               ...       ...      ...      ...          ...   \n",
       "540       0.0302          0.000009    0.0838   0.7110  136.679       149240   \n",
       "541       0.0405          0.002080    0.3420   0.0534  125.887       179547   \n",
       "542       0.0402          0.000088    0.2190   0.8260  109.111       216480   \n",
       "543       0.0478          0.000010    0.2090   0.3930  118.377       234760   \n",
       "544       0.0270          0.000023    0.0779   0.7520   76.148       228093   \n",
       "\n",
       "     time_signature                      Album_Name  Dance Tune  \n",
       "0                 4  Get Back (Rooftop Performance)         1.0  \n",
       "1                 4  Get Back (Rooftop Performance)         1.0  \n",
       "2                 4  Get Back (Rooftop Performance)         1.0  \n",
       "3                 4  Get Back (Rooftop Performance)         0.0  \n",
       "4                 4  Get Back (Rooftop Performance)         1.0  \n",
       "..              ...                             ...         ...  \n",
       "540               4           Revolver (Remastered)         1.0  \n",
       "541               4           Revolver (Remastered)         0.0  \n",
       "542               4        Let It Be (Super Deluxe)         1.0  \n",
       "543               3        Let It Be (Super Deluxe)         0.0  \n",
       "544               4        Let It Be (Super Deluxe)         0.0  \n",
       "\n",
       "[545 rows x 18 columns]"
      ]
     },
     "execution_count": 12,
     "metadata": {},
     "output_type": "execute_result"
    }
   ],
   "source": [
    "imported_dataset.loc[imported_dataset[\"danceability\"].astype(float).between(0.000, 0.500, \"right\"), \"Dance Tune\"] = 0\n",
    "imported_dataset.loc[imported_dataset[\"danceability\"].astype(float).between(0.510, 1.000, \"right\"), \"Dance Tune\"] = 1\n",
    "imported_dataset\n"
   ]
  },
  {
   "cell_type": "markdown",
   "metadata": {},
   "source": [
    "Edit this cell to provide **verbal explanation** regarding your choice:\n",
    "\n",
    "#### Why I chose my threshold: "
   ]
  },
  {
   "cell_type": "markdown",
   "metadata": {},
   "source": [
    "Now, use the threshold you selected to **produce a column named \"DanceTune\"**. The new column should say *True* (boolean) **if a track has a danceability score equal to or above your chosen threshold**. Output the column to illustrate your result:"
   ]
  },
  {
   "cell_type": "code",
   "execution_count": null,
   "metadata": {},
   "outputs": [],
   "source": [
    "# bin danceability here; output the new column"
   ]
  },
  {
   "cell_type": "markdown",
   "metadata": {},
   "source": [
    "#### Step 3.6: Categorical Binning\n",
    "\n",
    "Sometimes, a simple True/False ranking isn't enough. For example, the \"tempo\" column provides the Beat Per Minute musical tempo value for a given track; this value typically ranges between 1 and ~500 bpm. While it is possible to classify tracks into Slow and Not Slow, it might be more useful to, for example, categorize them into \"Slow\", \"Medium\", and \"Fast\". \n",
    "\n",
    "Similarly to the previous task, use the space below to **come up with two relative thresholds** that would separate tempo into Slow, Medium, and Fast:"
   ]
  },
  {
   "cell_type": "code",
   "execution_count": null,
   "metadata": {},
   "outputs": [],
   "source": [
    "# save your tempo thresholds here"
   ]
  },
  {
   "cell_type": "markdown",
   "metadata": {},
   "source": [
    "Edit this cell to provide **verbal explanation** regarding your choice:\n",
    "\n",
    "#### Why I chose my thresholds: "
   ]
  },
  {
   "cell_type": "markdown",
   "metadata": {},
   "source": [
    "Now, use the threshold you selected to **produce a column named \"Pace\"**. The new column should say \"*Slow*\" (String) if a track has a tempo score below your lower threshold, \"*Medium*\" (String) if it has a tempo score equal to or above your lower threshold but below your upper threshold, and \"*Fast*\" (String) if its score is above your upper threshold. Output the column to illustrate your result:"
   ]
  },
  {
   "cell_type": "code",
   "execution_count": 18,
   "metadata": {},
   "outputs": [],
   "source": [
    "# add the new column here"
   ]
  },
  {
   "cell_type": "markdown",
   "metadata": {},
   "source": [
    "#### Step 3.7: Concatenating DataFrames\n",
    "\n",
    "As you are working with multiple datasets, you might find it useful to combine several datasets. There are two main ways to combine datasets: merging and concatenating. First, we ask you to explore **concatenating DataFrames** using Pandas' built-in *pandas.concat*.\n",
    "\n",
    "You can read more about Concatenation [here](https://pandas.pydata.org/docs/reference/api/pandas.concat.html).\n",
    "\n",
    " Use the cell below to import one of the other datasets (provided in the Import Data portion of this assignment) as a Pandas DataFrame and then concatenate it with your current dataset vertically **as a new dataset** (think about columns you have added). \n",
    "\n",
    "Output the new DataFrame to illustrate your result: "
   ]
  },
  {
   "cell_type": "code",
   "execution_count": null,
   "metadata": {},
   "outputs": [],
   "source": [
    "# produce the new combined DataFrame here:"
   ]
  },
  {
   "cell_type": "markdown",
   "metadata": {},
   "source": [
    "#### Step 3.8: Merging DataFrames\n",
    "\n",
    "While concatenating datasets usually means appending more entries that have the same features (columns), **merging DataFrames** enables appending new features (columns) for the same (or new) entries in your DataFrame. Here, we ask you to **merge two datasets** using Pandas' built-in *pandas.DataFrame.merge*.\n",
    "\n",
    "You can read more about Merging [here](https://pandas.pydata.org/docs/reference/api/pandas.DataFrame.merge.html).\n",
    "\n",
    "In order to help you explore merging, we created four datasets that feature Spotify's \"popularity\" ranking for the songs contained in the datasets you imported earlier. These additional datasets consist of four columns: \"artist\", \"track_name\", \"track_id\", and \"popularity\", and your task is to **merge** them so that your current DataFrame will have a new column containing the popularity ranking for each of the songs.\n",
    "\n",
    "Please find a link to your respective here:\n",
    "* Beatles popularity: https://docs.google.com/spreadsheets/d/e/2PACX-1vSf9XcJhVAgeLOsyfuiYlqrzeNKieKUkK3t6ciWUvU2OeNVVPYwd0k-GuHRIJqboZm-iXq_0w1BgNpT/pub?output=csv\n",
    "* Rolling Stones popularity: https://docs.google.com/spreadsheets/d/e/2PACX-1vQTUY4IuZ46dVg4-GrYUg0VpyM5cAlgY1UwDmo4p2QPJhpQxTr6SE5Go2ZVuSQO-bmQir6T1VFpoMGp/pub?output=csv\n",
    "* Led Zeppelin popularity: https://docs.google.com/spreadsheets/d/e/2PACX-1vSPa8PgnlqkxtVch_FpnV1y2G1MVu54KddLYrYcswQVEWa0Cu-ZRIrOPjmq2h_uT1QAnX8JPNppFcxy/pub?output=csv\n",
    "* Bob Dylan popularity: https://docs.google.com/spreadsheets/d/e/2PACX-1vTA6lVKOQ7YBpqGPHtyQHwZi58cdubeN2qE686ga682xLHp95EOrq2NaNoyWZ2Rpo_ZqdY_xyIbA1bc/pub?output=csv\n",
    "\n",
    "Use the cell below to import one of the other datasets as a Pandas DataFrame and then merge it with your current dataset (horizontally) **in place** (updating the current DataFrame). You should think about the columns you have added and make sure no columns repeat. \n",
    "\n",
    "Output the new DataFrame to illustrate your result: "
   ]
  },
  {
   "cell_type": "markdown",
   "metadata": {},
   "source": [
    "____________________\n",
    "# Part 4: Data Analysis\n",
    "\n",
    "As a final portion of this assignment, we ask you to explore some Data Analysis techniques in Pandas.\n",
    "\n",
    "#### Step 4.1: Correlation\n",
    "\n",
    "One useful metric of two variables relating to each other is the **correlation coefficient**. In general, the correlation coefficient is a measure of how closely related are the data for two variables: whether the points form a linear relationship.\n",
    "\n",
    "You can read more about Correlation Coefficients [here](https://en.wikipedia.org/wiki/Correlation_coefficient).\n",
    "\n",
    "There are several ways to measure correlation in Pandas, including pairwise correlation (read more [here](https://pandas.pydata.org/docs/reference/api/pandas.Series.corr.html#pandas.Series.corr)) and the correlation matrix (read more [here](https://pandas.pydata.org/docs/reference/api/pandas.DataFrame.corr.html)).\n",
    "\n",
    " Use the cell below to **find the Pearson correlation coefficient** between two variables (think columns) of your choice within your dataset:"
   ]
  },
  {
   "cell_type": "code",
   "execution_count": 19,
   "metadata": {},
   "outputs": [],
   "source": [
    "# explore correlation here"
   ]
  },
  {
   "cell_type": "markdown",
   "metadata": {},
   "source": [
    "Use this cell to explain why you chose the two variables and what you were able to find:\n",
    "\n",
    "#### Why I chose my thresholds:\n"
   ]
  },
  {
   "cell_type": "markdown",
   "metadata": {},
   "source": [
    "#### Step 4.2: Count\n",
    "\n",
    "Another tool you might find useful is **counting data entries** that match a given condition. Use the cell below to count DanceTunes that are Slow:"
   ]
  },
  {
   "cell_type": "code",
   "execution_count": null,
   "metadata": {},
   "outputs": [],
   "source": [
    "# count entries here"
   ]
  },
  {
   "cell_type": "markdown",
   "metadata": {},
   "source": [
    "#### Step 4.3: Simple Charts\n",
    "\n",
    "Finally, it is extremely useful to produce visual results for your data. There are many types of charts to choose from, including Scatterplots, Pie Charts, Histograms, and many others. You can read more about matplotlib graphs [here](https://pandas.pydata.org/pandas-docs/version/0.13/visualization.html) and find some useful altair information [here](https://pbpython.com/altair-intro.html).\n",
    "\n",
    "Use the cell below to **produce a simple scatter plot** using matplotlib or altair based on two variables of your choice:"
   ]
  },
  {
   "cell_type": "code",
   "execution_count": null,
   "metadata": {},
   "outputs": [],
   "source": [
    "# produce your scatter plot here"
   ]
  },
  {
   "cell_type": "markdown",
   "metadata": {},
   "source": [
    "Use this cell to explain why you chose the variables to graph out and how one could interpret the results:\n",
    "\n",
    "#### Thoughts:"
   ]
  },
  {
   "cell_type": "markdown",
   "metadata": {},
   "source": [
    "____________________\n",
    "# Reflections (optional)\n",
    "\n",
    "Please use this space to reflect on your experience, ask any additional questions, or suggest changes to this or other assignments."
   ]
  }
 ],
 "metadata": {
  "colab": {
   "collapsed_sections": [],
   "name": "M255_B_Pandas.ipynb",
   "provenance": [],
   "toc_visible": true
  },
  "kernelspec": {
   "display_name": "Python 3 (ipykernel)",
   "language": "python",
   "name": "python3"
  },
  "language_info": {
   "codemirror_mode": {
    "name": "ipython",
    "version": 3
   },
   "file_extension": ".py",
   "mimetype": "text/x-python",
   "name": "python",
   "nbconvert_exporter": "python",
   "pygments_lexer": "ipython3",
   "version": "3.9.12"
  },
  "toc": {
   "base_numbering": 1,
   "nav_menu": {},
   "number_sections": true,
   "sideBar": true,
   "skip_h1_title": false,
   "title_cell": "Table of Contents",
   "title_sidebar": "Contents",
   "toc_cell": false,
   "toc_position": {},
   "toc_section_display": true,
   "toc_window_display": false
  }
 },
 "nbformat": 4,
 "nbformat_minor": 1
}

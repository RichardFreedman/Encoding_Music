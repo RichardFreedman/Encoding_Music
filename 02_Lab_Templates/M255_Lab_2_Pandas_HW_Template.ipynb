{
 "cells": [
  {
   "cell_type": "markdown",
   "metadata": {},
   "source": [
    "____________________\n",
    "# Music 255 Lab 2: Pandas Homework Template\n",
    "\n",
    "### Goals:\n",
    "\n",
    "- To help you complete the full cycle data analytics process: previously we ‘found’ the data, then we cleaned it.  Now we begin to manipulate and analyze it.\n",
    "- To think about the kinds of questions one might ask about data, and how to interpret the results.\n",
    "- To use Pandas environment for data analysis, specifically to count, filter, and group data and to make basic plots and charts showing distributions, correlations, and other patterns in data, according to your research questions.\n"
   ]
  },
  {
   "cell_type": "markdown",
   "metadata": {},
   "source": [
    "## YOUR NAME AND DATE HERE"
   ]
  },
  {
   "cell_type": "markdown",
   "metadata": {},
   "source": [
    "### Tasks in Detail\n",
    "\n",
    "### Use Pandas Methods:\n",
    "\n",
    "- Creating and Loading Dataframes\n",
    "- Inspecting dataframes\n",
    "- Working with rows and columns (select, rename, move)\n",
    "- Dealing with NANs, Duplicates and Datatypes \n",
    "- Count, Sort, and Filter (and Bins, if needed)\n",
    "- GroupBy Functions\n",
    "- Charts and Graphs (which are also explained in separate Tutorial documents)\n",
    "\n",
    "### Keep a Journal of Your Work\n",
    "\n",
    "Keep a written (Google doc?) record of what you were trying to do, including: \n",
    "\n",
    "- what research question or point of inquiry were you following?  What did you expect to learn, based on your intuition about the data and your knowledge of the music in question?\n",
    "- a pseudo-code outline of the steps you planned in order to put your question to the test (“find data of X category; filter/sort/group them by Y features; measure/plot/chart results using Z method or tool”)\n",
    "- The code itself goes in the Notebook, but you should keep notes in your Google document of the pandas methods your tried.\n",
    "any error messages or surprises you encountered as you tested the code, and how you addressed them along the way.\n",
    "what you learned from the results, and whether they confirmed or revised your intuitions. What was most/least surprising about the results?\n",
    "- reflections on how the results align with your own experience of listening to the music. Do the data (and more importantly, the patterns in the data) reveal differences that can be heard?  Or conversely do the data seem to suggest close similarity between pieces/performances/recordings that sound quite different to you?\n",
    "\n",
    "### Build a final working version of your notebook  \n",
    "\n",
    "It must include:\n",
    "\n",
    "- Polished “Markdown Cell” versions of the points related in Task 5 above\n",
    "- Working Code Cells \n",
    "- The Outputs of the Code cells, including any graphs, plots or other relevant results\n",
    "\n",
    "### Save, Name, Date and Submit!\n",
    "\n",
    "- Be sure to include YOUR NAME and the DATE in your first markdown cell!\n",
    "- Be sure to Submit BOTH a notebook (ipynb)and PDF version with all outputs showing.\n",
    "- For details on how to save your NB as HTML, then PDF, see the Tutorial\n",
    "- Be sure to following the Naming Convention: \"Freedman_Lab_1_9_6_2023.pdf\", etc.\n"
   ]
  },
  {
   "cell_type": "markdown",
   "metadata": {
    "id": "dZVsIj-mIImH"
   },
   "source": [
    "#### Setup: Import Libraries"
   ]
  },
  {
   "cell_type": "code",
   "execution_count": 1,
   "metadata": {
    "ExecuteTime": {
     "end_time": "2022-02-10T23:28:15.994052Z",
     "start_time": "2022-02-10T23:28:14.791696Z"
    },
    "id": "3_H8IHsFIImI"
   },
   "outputs": [],
   "source": [
    "import pandas as pd\n",
    "import matplotlib.pyplot as plt\n",
    "import numpy as np"
   ]
  },
  {
   "cell_type": "markdown",
   "metadata": {},
   "source": [
    "### YOUR WORK BEGINS HERE"
   ]
  },
  {
   "cell_type": "code",
   "execution_count": null,
   "metadata": {},
   "outputs": [],
   "source": []
  }
 ],
 "metadata": {
  "colab": {
   "collapsed_sections": [],
   "name": "M255_B_Pandas.ipynb",
   "provenance": [],
   "toc_visible": true
  },
  "kernelspec": {
   "display_name": "Python 3 (ipykernel)",
   "language": "python",
   "name": "python3"
  },
  "language_info": {
   "codemirror_mode": {
    "name": "ipython",
    "version": 3
   },
   "file_extension": ".py",
   "mimetype": "text/x-python",
   "name": "python",
   "nbconvert_exporter": "python",
   "pygments_lexer": "ipython3",
   "version": "3.9.12"
  },
  "toc": {
   "base_numbering": 1,
   "nav_menu": {},
   "number_sections": true,
   "sideBar": true,
   "skip_h1_title": false,
   "title_cell": "Table of Contents",
   "title_sidebar": "Contents",
   "toc_cell": false,
   "toc_position": {},
   "toc_section_display": true,
   "toc_window_display": false
  }
 },
 "nbformat": 4,
 "nbformat_minor": 1
}

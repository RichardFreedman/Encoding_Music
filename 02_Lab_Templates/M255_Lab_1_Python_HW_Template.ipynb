{
 "cells": [
  {
   "cell_type": "markdown",
   "metadata": {
    "id": "X10VLY3s0TUq"
   },
   "source": [
    "## Music 255 Lab 1:  Python Homework Template\n",
    "\n",
    "\n",
    "## Basic Goals\n",
    "\n",
    "- Make sure you know how to operate Jupyter Notebooks, including the creation of markdown and code cells.\n",
    "- Make sure you have a basic understanding Python, including how to create and use variables of various types (strings, booleans, integers, floats), collections (lists, tuples, and dictionaries), and the basics of IF statements, FOR loops, and FUNCTIONS.\n"
   ]
  },
  {
   "cell_type": "markdown",
   "metadata": {},
   "source": [
    "## YOUR NAME AND DATE"
   ]
  },
  {
   "cell_type": "code",
   "execution_count": null,
   "metadata": {},
   "outputs": [],
   "source": [
    "## Tasks in Detail\n",
    "\n",
    "### Get Some Data!\n",
    "\n",
    "- Gather some basic information about items in Your Voyager List.  This could be a list of personnel, or movements/tracks, or timings, or dates, or instruments/voices involved, or locations where a recording/performance took place. List these basic facts in a Markdown Cell.\n",
    "\n",
    "\n",
    "### Make your Data Pythonic\n",
    "\n",
    "- Using these basic facts, create and use Python variables and lists with them as suggested in the [Encoding Music Python Basics Tutorial](https://github.com/RichardFreedman/Encoding_Music/blob/main/01_Tutorials/03_Python_Basics.md). For example:\n",
    "\n",
    "- Declare some variables of various types (make show that they are of the right type!)\n",
    "- Make some lists, and use tools to count items, remove items, find items by index\n",
    "- Make a dictionary, and list the keys, or values, or key-value pairs\n",
    "- Make some \"if\" statements using some of your variables\n",
    "- Make some \"for\" loops using some of your variables (or even combine \"for\" and \"if\" statements!)\n",
    "- Create a very basic function that can take in one of your variables (like a list) and report depending on the conditions you set\n",
    "\n",
    "Be creative! \n",
    "\n",
    "- You can use the Tutorial ideas as a guide, but feel free to report or assemble data in novel ways!  \n",
    "- The data you work with does not need to be exhaustive, but you can have some fun with interesting facts you uncover!\n",
    "- For each 'experiment' you should have Markdown that explains what you are about to do (or what you are trying to do) and then a code cell that does the job (followed by the output).\n",
    "\n",
    "### Reflect on What you Did\n",
    "\n",
    "- Your notebook should conclude with a markdown cell that comments on any lessons you learned, problems you encountered, or ways in which the data do or don't lend themselves to presentation and interrogation in this way.\n",
    "- Which data or combinations produced errors?\n",
    "\n",
    "### Date and Submit!\n",
    "\n",
    "- Be sure to include YOUR NAME and the DATE in your first markdown cell after this one!\n",
    "- Be sure to Submit BOTH a notebook (ipynb)and PDF version with all outputs showing.  \n",
    "- Be sure to following the Naming Convention:  \"Lab_1_Freedman_9_6_2023.pdf\", etc.\n"
   ]
  },
  {
   "cell_type": "code",
   "execution_count": null,
   "metadata": {},
   "outputs": [],
   "source": []
  }
 ],
 "metadata": {
  "colab": {
   "collapsed_sections": [],
   "name": "M255_A_Python_Basics.ipynb",
   "provenance": []
  },
  "kernelspec": {
   "display_name": "Python 3 (ipykernel)",
   "language": "python",
   "name": "python3"
  },
  "language_info": {
   "codemirror_mode": {
    "name": "ipython",
    "version": 3
   },
   "file_extension": ".py",
   "mimetype": "text/x-python",
   "name": "python",
   "nbconvert_exporter": "python",
   "pygments_lexer": "ipython3",
   "version": "3.9.17"
  }
 },
 "nbformat": 4,
 "nbformat_minor": 1
}

{
 "cells": [
  {
   "cell_type": "markdown",
   "metadata": {},
   "source": [
    "# Music 255:  Spotify HW Template\n",
    "\n",
    "## Goals\n",
    "- To help you complete the full cycle data analytics process: finding, cleaning, manipulating, and finally analyzing it\n",
    "- To make sure you have a thorough ability to operate the technology used previously\n",
    "- To teach you the foundations of directed and undirected graphs and data grouping\n",
    "- To teach you to run various community classification algorithms on any given dataset (provided its compatible)\n",
    "\n",
    "\n",
    "## Tasks in Detail\n",
    "\n",
    "1. Make sure you can access the relevant Pandas Basics Tutorial Document on the Github repository for Encoding Music. We have seem this document before, but now we put special emphasis on the items in bold below:\n",
    "- Creating and Loading Dataframes\n",
    "- Inspecting dataframes\n",
    "- Working with rows and columns (select, rename, move)\n",
    "- Dealing with NANs, Duplicates and Datatypes\n",
    "- Count, Sort, and Filter (and Bins, if needed)\n",
    "- Combining, Joining, and Merging DataFrames\n",
    "- GroupBy Functions\n",
    "- Correlations\n",
    "- Charts and Graphs (which are also explained in separate Tutorial documents)\n",
    "\n",
    "2.  **Networks and Communities**. To this we will also add some new concepts networks and communities.  For this we will learn to create basic network graphs (directed and undirected) as well as how to apply various techniques for classification and grouping of high-dimensional data.\n",
    "\n",
    "3. **Spotify and Billboard Data**. The focus for the next few weeks will be various Spotify Playlists, and also some data that we can gather from resources like Billboard (for popularity data).\n",
    "\n",
    "4. **Individual Notebook**. Some of the work for these labs will be done individually (and you will submit an individual Notebook based on the Template at the end of Lab 5).  Keep a written (Google doc?) record of what you were trying to do, including: \n",
    "\n",
    "- what research question or point of inquiry were you following?  What did you expect to learn, based on your intuition about the data and your knowledge of the music in question?\n",
    "- a pseudo-code outline of the steps you planned in order to put your question to the test (“find data of X category; filter/sort/group them by Y features; measure/plot/chart results using Z method or tool”)\n",
    "- The code itself goes in the Notebook, but you should keep notes in your Google document of the pandas methods your tried.\n",
    "- - any error messages or surprises you encountered as you tested the code, and how you addressed them along the way.\n",
    "what you learned from the results, and whether they confirmed or revised your intuitions. What was most/least surprising about the results?\n",
    "- reflections on how the results align with your own experience of listening to the music. Do the data (and more importantly, the patterns in the data) reveal differences that can be heard?  Or conversely do the data seem to suggest close similarity between pieces/performances/recordings that sound quite different to you?\n",
    "\n",
    "5. **Build the Notebook**. Build a final working version of your notebook (using the Template as a model).  It must include:\n",
    "\n",
    "- Polished “Markdown Cell” versions of the points related in Task 5 above\n",
    "- Working Code Cells \n",
    "- The Outputs of the Code cells, including any graphs, plots or other relevant results\n",
    "\n",
    "6. **Save, Name, Date and Submit!**\n",
    "\n",
    "- Be sure to include YOUR NAME and the DATE in your first markdown cell!\n",
    "- Be sure to Submit BOTH a notebook (ipynb)and PDF version with all outputs showing.\n",
    "- For details on how to save your NB as HTML, then PDF, see the Tutorial\n",
    "- Be sure to following the Naming Convention: \"Freedman_Lab_1_9_6_2023.pdf\", etc.\n"
   ]
  },
  {
   "cell_type": "markdown",
   "metadata": {},
   "source": []
  }
 ],
 "metadata": {
  "colab": {
   "collapsed_sections": [],
   "name": "M255_B_Pandas.ipynb",
   "provenance": [],
   "toc_visible": true
  },
  "kernelspec": {
   "display_name": "Python 3 (ipykernel)",
   "language": "python",
   "name": "python3"
  },
  "language_info": {
   "codemirror_mode": {
    "name": "ipython",
    "version": 3
   },
   "file_extension": ".py",
   "mimetype": "text/x-python",
   "name": "python",
   "nbconvert_exporter": "python",
   "pygments_lexer": "ipython3",
   "version": "3.9.7"
  },
  "toc": {
   "base_numbering": 1,
   "nav_menu": {},
   "number_sections": true,
   "sideBar": true,
   "skip_h1_title": false,
   "title_cell": "Table of Contents",
   "title_sidebar": "Contents",
   "toc_cell": false,
   "toc_position": {},
   "toc_section_display": true,
   "toc_window_display": false
  }
 },
 "nbformat": 4,
 "nbformat_minor": 1
}

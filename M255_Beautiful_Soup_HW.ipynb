{
 "cells": [
  {
   "cell_type": "markdown",
   "metadata": {},
   "source": [
    "____________________\n",
    "# Music 255: XML Encoding and Beautiful Soup"
   ]
  },
  {
   "cell_type": "markdown",
   "metadata": {
    "id": "WhdBzidHIImH"
   },
   "source": [
    "In this homework assignment, you will get an opportunity to engage, explore, and experiment with **XML** files through Python and **Beautiful Soup**. As mentioned in class, **XML** stands for **eXtensible Markup Language** and mainly serves to transport and store data. At its core, XML was designed to be **both machine- and human-readable**. In case of music files, the common encoding standard is **MEI**, which stands for **Music Encoding Initiative** and is built on top of the XML framework.\n",
    "\n",
    "\n",
    "Mainly, this homework focuses on:\n",
    "\n",
    "* **access**: downloading, storing, reading, processing XML files\n",
    "* **analysis**: performing basic quantitative and qualitative analysis of XML files\n",
    "* **interpretation**: exploring the meaning and utility of XML files from both analytical and creative perspective \n",
    "\n",
    "As we deal with these files, we will make use of a Beautiful Soup – a Python library that makes interacting with XML and HTML friendly and comfortable. Or at least tries to... You can access Beautiful Soup's documentation [here](https://www.crummy.com/software/BeautifulSoup/bs4/doc/).\n",
    "\n",
    "XML files are guided by **markup rules**, which you can read more about [here](https://www.w3schools.com/xml/xml_syntax.asp) and consist of **elements**, which you can dive into [here](https://www.w3schools.com/xml/xml_elements.asp).\n",
    "\n",
    "MEI files are primarily XML files that have music-specific sections, elements, and structure. You can learn more about MEI [here](https://music-encoding.org/).\n",
    "\n",
    "----"
   ]
  },
  {
   "cell_type": "markdown",
   "metadata": {
    "id": "dZVsIj-mIImH"
   },
   "source": [
    "#### Setup: Importing Python Libraries"
   ]
  },
  {
   "cell_type": "code",
   "execution_count": 1,
   "metadata": {
    "ExecuteTime": {
     "end_time": "2022-02-10T23:28:15.994052Z",
     "start_time": "2022-02-10T23:28:14.791696Z"
    },
    "id": "3_H8IHsFIImI"
   },
   "outputs": [],
   "source": [
    "import pandas as pd\n",
    "import matplotlib.pyplot as plt\n",
    "import numpy as np\n",
    "import os\n",
    "from bs4 import BeautifulSoup as bs\n",
    "import optparse\n",
    "import sys\n",
    "from pathlib import Path\n",
    "import requests\n",
    "from lxml import etree\n",
    "import re\n",
    "from collections import Counter"
   ]
  },
  {
   "cell_type": "markdown",
   "metadata": {},
   "source": [
    "____________________\n",
    "# Part 1: Import Data\n",
    "\n",
    "As your first and perhaps most important step, you'll have to go find some data. For the purposes of this homework assignment, we will work with *these files*, which you can access *here*. Once you've picked your file and copied its URL, use the function provided below to **import it as a JSON object**:"
   ]
  },
  {
   "cell_type": "code",
   "execution_count": 2,
   "metadata": {},
   "outputs": [],
   "source": [
    "# function to extract xml document from given url\n",
    "def getXML(url):\n",
    "    # request for HTML document of given url\n",
    "    response = requests.get(url)    \n",
    "    # response will be provided in JSON format\n",
    "    return response.text"
   ]
  },
  {
   "cell_type": "markdown",
   "metadata": {},
   "source": [
    "In the cell below, **read in your file** and store it in the xml_file variable:"
   ]
  },
  {
   "cell_type": "code",
   "execution_count": null,
   "metadata": {},
   "outputs": [],
   "source": [
    "# xml_document = ..."
   ]
  },
  {
   "cell_type": "markdown",
   "metadata": {},
   "source": [
    "Once you've imported a file, you should be able to **convert it into a Beautiful Soup Object**:"
   ]
  },
  {
   "cell_type": "code",
   "execution_count": 32,
   "metadata": {},
   "outputs": [],
   "source": [
    "soup = bs(xml_document, 'xml')\n",
    "print(soup.prettify())"
   ]
  },
  {
   "cell_type": "markdown",
   "metadata": {},
   "source": [
    "____________________\n",
    "# Part 2: Data Exploration\n",
    "\n",
    "In this part of the homework, we ask you to **investigate your file**. The **MEI** framework tends to be easy to understand (as it is meant to be human-readable, too!) – and given some simple tools you should be able to successfully navigate your data.\n",
    "\n",
    "#### Step 2.1: General Info\n",
    "\n",
    "Generally, every MEI file has some information about its contents. This typically covers the encoding standard, creators and editors involved with the file, and its structure."
   ]
  },
  {
   "cell_type": "code",
   "execution_count": 33,
   "metadata": {},
   "outputs": [],
   "source": [
    "#Head / title / meiHead / work / created Date etc"
   ]
  },
  {
   "cell_type": "markdown",
   "metadata": {},
   "source": [
    "#### Step 2.2: Moving Down\n",
    "\n",
    "As you have probably noticed by now, MEI (and XML, generally) files follow a **tree-like structure**. Any document has its elements defined recursively, as its children. Intuitively, **children** are elements contained within a broader element (think section), also known as **parent**.\n",
    "\n",
    "Use the cell below to **get all children** of the document's Title statement (soup.titleStmt):"
   ]
  },
  {
   "cell_type": "code",
   "execution_count": null,
   "metadata": {},
   "outputs": [],
   "source": [
    "# get all children here"
   ]
  },
  {
   "cell_type": "markdown",
   "metadata": {},
   "source": [
    "What are some of your observations about these elements? How much do they share with the parent element? How would you go about identifying any relation between these child elements?\n",
    "\n",
    "Use the cell below to **pick one** of the elements children and **get to the lowest available element** in the structure:"
   ]
  },
  {
   "cell_type": "code",
   "execution_count": null,
   "metadata": {},
   "outputs": [],
   "source": [
    "# get to the bottom of it!"
   ]
  },
  {
   "cell_type": "markdown",
   "metadata": {},
   "source": [
    "What are some of your observations?\n",
    "\n",
    "\n",
    "#### Step 2.3: Moving Up\n",
    "\n",
    "Working the opposite way around, you should be able to get to the entire (original) document given just one of its children. This can be done rather easily using Beautiful Soup and its recursive tree navigation.\n",
    "\n",
    "Use the cell below to **pick a low-level child** element and **move up until its highest-level parent**:"
   ]
  },
  {
   "cell_type": "code",
   "execution_count": null,
   "metadata": {},
   "outputs": [],
   "source": [
    "# pick a child and move up"
   ]
  },
  {
   "cell_type": "markdown",
   "metadata": {},
   "source": [
    "#### Step 2.3: Moving Sideways\n",
    "\n",
    "As hierarchically-related elements are named children and parents, elements **at the same depth** are called **siblings**. \n",
    "\n",
    "Pick any element within your MEI file and output all of its siblings in the cell below:"
   ]
  },
  {
   "cell_type": "code",
   "execution_count": null,
   "metadata": {},
   "outputs": [],
   "source": [
    "# get siblings here"
   ]
  },
  {
   "cell_type": "markdown",
   "metadata": {},
   "source": [
    "Did you notice anything interesting about sibling-element structure?\n",
    "\n",
    "#### Step 2.4: Search\n",
    "\n",
    "Finally, it is possible to **search for elements** within a Beautiful Soup XML/HTML file. As usual, elements can be searched based on ID, tag, class name, unique identifier, or some condition.\n",
    "\n",
    "Use the cell below to **find all \"measure\" elements** in your document by searching by tag:"
   ]
  },
  {
   "cell_type": "code",
   "execution_count": null,
   "metadata": {},
   "outputs": [],
   "source": [
    "# find measures here"
   ]
  },
  {
   "cell_type": "markdown",
   "metadata": {},
   "source": [
    "Now, get a particular **element by its ID**:"
   ]
  },
  {
   "cell_type": "code",
   "execution_count": 3,
   "metadata": {},
   "outputs": [],
   "source": [
    "# find element by ID here"
   ]
  },
  {
   "cell_type": "markdown",
   "metadata": {},
   "source": [
    "There is typically more than one right way to do a search. What would be an alternative way to find your element?\n",
    "\n",
    "____________________\n",
    "# Part 3: Data Analysis\n",
    "\n",
    "In this part, we'll use some of the familiar Python-based statistics and Data visualization tools to analyze your file. \n",
    "\n",
    "To do:\n",
    "\n",
    "    1. pitch distribution\n",
    "    2. conditional measure distribution\n",
    "    3. histograms / charts / etc"
   ]
  },
  {
   "cell_type": "code",
   "execution_count": 4,
   "metadata": {},
   "outputs": [],
   "source": [
    "# to be implemented"
   ]
  },
  {
   "cell_type": "markdown",
   "metadata": {},
   "source": [
    "____________________\n",
    "# Part 3: Sandbox\n",
    "\n",
    "In this final part of the homework, you are asked to combine some of the tools you have employed in sections 2 and 3 – as well as the lab – in order to produce a somewhat sophisticated music analysis of your document and reflect on it.\n",
    "\n",
    "To do:\n",
    "\n",
    "    1. combining tools\n",
    "    2. "
   ]
  },
  {
   "cell_type": "markdown",
   "metadata": {},
   "source": [
    "____________________\n",
    "# Reflections (optional)\n",
    "\n",
    "Please use this space to reflect on your experience, ask any additional questions, or suggest changes to this or other assignments."
   ]
  }
 ],
 "metadata": {
  "colab": {
   "collapsed_sections": [],
   "name": "M255_B_Pandas.ipynb",
   "provenance": [],
   "toc_visible": true
  },
  "kernelspec": {
   "display_name": "Python 3 (ipykernel)",
   "language": "python",
   "name": "python3"
  },
  "language_info": {
   "codemirror_mode": {
    "name": "ipython",
    "version": 3
   },
   "file_extension": ".py",
   "mimetype": "text/x-python",
   "name": "python",
   "nbconvert_exporter": "python",
   "pygments_lexer": "ipython3",
   "version": "3.9.12"
  },
  "toc": {
   "base_numbering": 1,
   "nav_menu": {},
   "number_sections": true,
   "sideBar": true,
   "skip_h1_title": false,
   "title_cell": "Table of Contents",
   "title_sidebar": "Contents",
   "toc_cell": false,
   "toc_position": {},
   "toc_section_display": true,
   "toc_window_display": false
  }
 },
 "nbformat": 4,
 "nbformat_minor": 1
}

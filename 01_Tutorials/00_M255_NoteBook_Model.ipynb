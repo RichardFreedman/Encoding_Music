{
 "cells": [
  {
   "cell_type": "raw",
   "id": "ba9a7306-76da-4e0d-816c-9edb8b40d181",
   "metadata": {
    "execution": {
     "iopub.execute_input": "2024-06-27T19:56:52.372260Z",
     "iopub.status.busy": "2024-06-27T19:56:52.371359Z",
     "iopub.status.idle": "2024-06-27T19:56:52.380117Z",
     "shell.execute_reply": "2024-06-27T19:56:52.378195Z",
     "shell.execute_reply.started": "2024-06-27T19:56:52.372234Z"
    }
   },
   "source": [
    "---\n",
    "title: \"Encoding Music Sample Homework Project\"\n",
    "author: 'Richard Freedman'\n",
    "date: 'June 25, 2024'\n",
    "\n",
    "format:\n",
    "  html:\n",
    "    code-fold: true\n",
    "    embed-resources: true\n",
    "plotly-connected: true\n",
    "jupyter: python3\n",
    "\n",
    "---"
   ]
  },
  {
   "cell_type": "markdown",
   "id": "877e4fe6-8883-4a71-9b14-42eb68035f0a",
   "metadata": {},
   "source": [
    "# A Sample Homework Project\n",
    "\n",
    "This sample homework project will show you in a nutshell what your work for Encoding Music should look like. It follows the [Notebook Style Guide](https://github.com/RichardFreedman/music_style_guide/blob/main/M255_Notebook_Style_Guide.md) and [Music Style Guide](https://github.com/RichardFreedman/music_style_guide).  And it also demonstrates the key sections of every notebook submitted for a class assignment or project:\n",
    "\n",
    "* The preliminaries:  Quarto YAML cell and code import statement\n",
    "* The three main sections:  Motivation/Implementation/Interpretation\n",
    "* The bibliography of sources consulted\n",
    "\n",
    "### 0. Quarto YAML cell, Notebook Title, and Import Statement\n",
    "\n",
    "The **Quarto YAML** cell will contain the title, name of author(s) and date for your assignment.  It goes at the **very start** of your Notebook as a **raw** cell (not 'markdown' or 'code').\n",
    "\n",
    "```\n",
    "---\n",
    "title: \"Encoding Music Sample Homework Project\"\n",
    "author: 'Richard Freedman'\n",
    "date: 'June 25, 2024'\n",
    "\n",
    "format:\n",
    "  html:\n",
    "    code-fold: true\n",
    "    embed-resources: true\n",
    "plotly-connected: true\n",
    "jupyter: python3\n",
    "\n",
    "---\n",
    "```\n",
    "\n",
    "Now a markdown cell with the **Title** of your project, including your name and date.\n",
    "\n",
    "The **Import Statement** is just that:  the code cell where you import all relevant libraries for your work.\n",
    "\n",
    "### 1. Motivation\n",
    "\n",
    "What is your point of inquiry?  What are you trying discover?  What do you _expect_ to find? How do these questions relate to themes and problems considered in the course so far?  \n",
    "\n",
    "What specific readings or musical repertories are involved, and why do they matter in this context (be sure to cite them, and to follow the Music Style Guide as you do so)?\n",
    "\n",
    "### 2. Implementation\n",
    "\n",
    "How did you put your query into practice? What did you need to do with or to your data along the way? \n",
    "\n",
    "* What _logical_ steps did you follow as you thought about getting there (expressed in pseudo code; perhaps in bullet-point form in your markdown cell)?\n",
    "* Which tools (or methods) did you select, and why were they right for the job?\n",
    "* If you chose to create some kind of visualization (a chart, network or map), how did you decide on the right representation for the task at hand?\n",
    "* What challenges did you face as you worked to put the steps into action in code?  Did you need to clean or tidy your data?  Filter, sort, or group it in some way?\n",
    "* What were the most important tools or approaches you deployed that others might like to know about?\n",
    "\n",
    "Remember to use `verbatim code` or **block code** to show your work as needed.\n",
    "Remember to add **comments** to your code to show the most important steps.\n",
    "\n",
    "If you learned from or adapted some code suggested in Encoding Music, or another resource, it would be good to cite that documentation, too.\n",
    "\n",
    "### 3. Interpretation\n",
    "\n",
    "What did you learn from the results? How were your expectations confirmed (or not)?\n",
    "\n",
    "What limitations did the data or your methods impose on your capacity to answer the questions you originally posed? \n",
    "\n",
    "How do your results change your views of the readings or ideas that motivated your work it the first place?  How do your results shape your listening experience of the music you considered? What next steps do you imagine for future work?\n",
    "\n",
    "### 4. Bibliography\n",
    "\n",
    "A list of the sources consulted and cited during your work, including class readings or code resources, Spotify lists, etc.  See the [Notebook Style Guide](https://github.com/RichardFreedman/music_style_guide/blob/main/M255_Notebook_Style_Guide.md) and [Music Style Guide](https://github.com/RichardFreedman/music_style_guide) for details about how to cite books, articles, internet resources, etc.\n"
   ]
  },
  {
   "cell_type": "markdown",
   "id": "e16cd016-da4a-41e0-8051-f253afc47263",
   "metadata": {},
   "source": [
    "# 0. Create Quarto YAML Cell and Import Libraries\n",
    "\n",
    "Here I create the opening Quarto YAML cell, and import the essential libraries for this assignment.\n",
    "\n",
    "Put this in a RAW cell at the very top of your Notebook, even before the title!  Be sure to include the `---` on the first and last lines.  No other content should go in this raw cell!\n",
    "\n",
    "```\n",
    "\n",
    "---\n",
    "title: \"Encoding Music Sample Homework Project\"\n",
    "author: 'Richard Freedman'\n",
    "date: 'June 25, 2024'\n",
    "\n",
    "format:\n",
    "  html:\n",
    "    code-fold: true\n",
    "    embed-resources: true\n",
    "plotly-connected: true\n",
    "jupyter: python3\n",
    "\n",
    "---\n",
    "```"
   ]
  },
  {
   "cell_type": "markdown",
   "id": "0aa6cfde",
   "metadata": {},
   "source": [
    "##  Now the Title, Your Name, and Date:\n",
    "\n",
    "You can use markdown to control the size and look of this information:\n",
    "\n",
    "```\n",
    "Music 255:  Encoding Music\n",
    "My First Homework Project\n",
    "Richard Freedman\n",
    "September 2, 2024\n",
    "```"
   ]
  },
  {
   "cell_type": "markdown",
   "id": "28482805",
   "metadata": {},
   "source": [
    "## Now the Import Statements\n",
    "\n",
    "Such as:\n",
    "\n",
    "```python\n",
    "# import libraries\n",
    "from community import community_louvain\n",
    "from copy import deepcopy\n",
    "from IPython.display import SVG\n",
    "import altair as alt\n",
    "import glob as glob\n",
    "import numpy as np\n",
    "import os\n",
    "import pandas as pd\n",
    "import re\n",
    "import networkx as nx\n",
    "import plotly.express as px\n",
    "import requests\n",
    "\n",
    "# setup plotting for quarto\n",
    "alt.renderers.enable('default')\n",
    "import plotly.io as pio\n",
    "pio.renderers.default = \"plotly_mimetype+notebook_connected\"\n",
    "\n",
    "# supress warnings\n",
    "import warnings\n",
    "warnings.filterwarnings('ignore')\n",
    "```\n"
   ]
  },
  {
   "cell_type": "code",
   "execution_count": 2,
   "id": "94261f3d-3d20-4b35-ab2c-d2d41dd0c914",
   "metadata": {
    "tags": []
   },
   "outputs": [],
   "source": [
    "# import libraries\n",
    "from community import community_louvain\n",
    "from copy import deepcopy\n",
    "from IPython.display import SVG\n",
    "import altair as alt\n",
    "import glob as glob\n",
    "import numpy as np\n",
    "import os\n",
    "import pandas as pd\n",
    "import re\n",
    "import networkx as nx\n",
    "import plotly.express as px\n",
    "import requests\n",
    "\n",
    "# setup plotting for quarto\n",
    "alt.renderers.enable('default')\n",
    "import plotly.io as pio\n",
    "pio.renderers.default = \"plotly_mimetype+notebook_connected\"\n",
    "\n",
    "# supress warnings\n",
    "import warnings\n",
    "warnings.filterwarnings('ignore')"
   ]
  },
  {
   "cell_type": "markdown",
   "id": "a52c316b-646f-4a69-9fbb-08ea370fffed",
   "metadata": {},
   "source": [
    "# 1. Motivation \n",
    "\n",
    "The Beatles are my favorite band, and I know that their music underwent rapid and profound change during the 1960s.  The albums *Rubber Soul* (1965) and *Revolver* (1966) held pivotal places in this evolution, as Walter Everett explained in his excellent 1999 book, *The Beatles as Musicians:  Revolver to The Anthology*.  So I was interested to see whether this change was in any way evident in the kind of \"music feature\" data derived from the recordings themselves, in this case by Spotify.  \n",
    "\n",
    "Can we see any trends across the Beatles output based on the sound itself?  Can we find any albums that stand out from others?  And how would the evidence provided by Spotify's machine analysis tools align with my own impressions of the music, or Everett's?\n"
   ]
  },
  {
   "cell_type": "markdown",
   "id": "db5314e0-e239-4150-8b95-7a89aae3c77d",
   "metadata": {},
   "source": [
    "# 2. Implementation\n",
    "\n",
    "Prof. Freedman has conveniently assembled the Spotify data on all of the Beatles albumns as a single CSV file.  So this would be a simple starting place.  But since I am still a bit uncertain about the what Spotify's audio features are like, I thought the best first step would be to look at the columns in that data set and see which of them might be good candidates to tell me a bit more about the \"range\" of ratings for each.  If I am looking for change, then I need features (or combinations of features) that have the widest possibility for variation.\n",
    "\n",
    "I looked at the columns as a list:  `beatles_spotify.columns`, which yielded (among the music feature categories) `['danceability', 'energy', 'speechiness','acousticness', 'liveness', 'valence']`.  Based on my exploration of the Spotify documentation and Nick Seaver's *Computing Taste Algorithms and the Makers of Music Recommendation*  I thought that 'danceability', 'energy', and 'acousticness' seemed the the categores most likely to reveal the trends I was interested in, particularly since (as I learned from Everett) the Beatles' recordings moved from a concert and dance music context to a contemplative, narrative and listening one. I guessed that I might see a decline in danceability over time and also a decline in acousticness (as more studio techniques came to the fore).\n",
    "\n",
    "As explained in the code cells below, I broke this down into several exploratory steps:\n",
    "\n",
    "2A.  I looked at the range of data for each audio feature, in this case by cutting the data for all tracks into 'bins' for each column using the Pandas 'cut' method.  There were some clear trends here, but since this was at the *track* level it was hard for me to say much about individual albumns over time.\n",
    "\n",
    "2B.  Then I came up with ways of aggregating the data for each album using Pandas `groupby` operations.  These are a bit tricky to understand, but using this I was easily able to say something about each.  The key think with `groupby` is to remember that you need to pass in a *list* of the columns, and then specify the function to apply to each of them (in this case:  `mean`.  Resetting the index gets the year and album names back in the dataframe and makes the whole easier to parse in subsequent steps.  The complete code is:\n",
    "\n",
    "```python\n",
    "grouped_data = beatles_spotify.groupby(['year', \"album\"])[['danceability', 'energy', 'acousticness']].mean()\n",
    "grouped_data = grouped_data.reset_index()\n",
    "```\n",
    "\n",
    "2C.  The resulting dataframe of results was hard for me to interpret, so I hit upon the idea of showing a kind of 'triple bar chart' for each album, with a consistent color for each feature. This was useful, since it allowed me to see what was distinctive about certain records as a whole.  *Rubber Soul* stood out on account of the *divergence* between the audio features (it hasd a much *lower* score for 'acousticness' in relation to the other features than any other album.\n",
    "\n",
    "2D.  This in turn prompted me to make a scatterplot for this album on its own and then to test those results against my own impressions and those of my authors.\n",
    "\n",
    "The commented code for each of these appears in the relevant cells below.\n",
    "\n",
    "\n",
    "\n",
    "\n",
    "\n",
    "\n"
   ]
  },
  {
   "cell_type": "markdown",
   "id": "49f6f3f1-3073-4624-b8ec-56d2486ba4dc",
   "metadata": {},
   "source": [
    "#### Getting the Data from the CSV"
   ]
  },
  {
   "cell_type": "code",
   "execution_count": 21,
   "id": "ce4c880d-8b2d-48e5-b898-1ad57cb3d04a",
   "metadata": {
    "tags": []
   },
   "outputs": [],
   "source": [
    "# the address of the shared CSV provided by Prof Freedman\n",
    "beatles_spotify_csv = 'https://raw.githubusercontent.com/RichardFreedman/Encoding_Music/refs/heads/main/02_Lab_Data/Beatles/M_255_Beatles_Spotify_2025.csv'\n",
    "# import that to a Pandas dataframe and name it\n",
    "beatles_spotify = pd.read_csv(beatles_spotify_csv)\n"
   ]
  },
  {
   "cell_type": "markdown",
   "id": "26b84a79-d620-4a99-a4ff-5b4503838ff6",
   "metadata": {},
   "source": [
    "#### Checking the column names"
   ]
  },
  {
   "cell_type": "code",
   "execution_count": 22,
   "id": "370ac946-27b0-43a3-8471-ebdf8e18dee2",
   "metadata": {
    "tags": []
   },
   "outputs": [
    {
     "data": {
      "text/plain": [
       "Index(['year', 'album', 'song', 'danceability', 'energy', 'key', 'loudness',\n",
       "       'mode', 'speechiness', 'acousticness', 'instrumentalness', 'liveness',\n",
       "       'valence', 'tempo', 'Unnamed: 14', 'duration_ms', 'time_signature'],\n",
       "      dtype='object')"
      ]
     },
     "execution_count": 22,
     "metadata": {},
     "output_type": "execute_result"
    }
   ],
   "source": [
    "# find the columns in the dataframe\n",
    "beatles_spotify.columns"
   ]
  },
  {
   "cell_type": "markdown",
   "id": "1d547780-af2b-45fd-a73b-6ed936391bf9",
   "metadata": {},
   "source": [
    "#### Clean up NaNs for now"
   ]
  },
  {
   "cell_type": "code",
   "execution_count": 23,
   "id": "af9dc19a-72d0-4ddd-857f-99e93d329705",
   "metadata": {
    "tags": []
   },
   "outputs": [
    {
     "data": {
      "application/vnd.microsoft.datawrangler.viewer.v0+json": {
       "columns": [
        {
         "name": "index",
         "rawType": "int64",
         "type": "integer"
        },
        {
         "name": "year",
         "rawType": "int64",
         "type": "integer"
        },
        {
         "name": "album",
         "rawType": "object",
         "type": "string"
        },
        {
         "name": "song",
         "rawType": "object",
         "type": "string"
        },
        {
         "name": "danceability",
         "rawType": "float64",
         "type": "float"
        },
        {
         "name": "energy",
         "rawType": "float64",
         "type": "float"
        },
        {
         "name": "key",
         "rawType": "int64",
         "type": "integer"
        },
        {
         "name": "loudness",
         "rawType": "float64",
         "type": "float"
        },
        {
         "name": "mode",
         "rawType": "int64",
         "type": "integer"
        },
        {
         "name": "speechiness",
         "rawType": "float64",
         "type": "float"
        },
        {
         "name": "acousticness",
         "rawType": "float64",
         "type": "float"
        },
        {
         "name": "instrumentalness",
         "rawType": "float64",
         "type": "float"
        },
        {
         "name": "liveness",
         "rawType": "float64",
         "type": "float"
        },
        {
         "name": "valence",
         "rawType": "float64",
         "type": "float"
        },
        {
         "name": "tempo",
         "rawType": "object",
         "type": "string"
        },
        {
         "name": "Unnamed: 14",
         "rawType": "object",
         "type": "string"
        },
        {
         "name": "duration_ms",
         "rawType": "int64",
         "type": "integer"
        },
        {
         "name": "time_signature",
         "rawType": "int64",
         "type": "integer"
        }
       ],
       "ref": "36c67865-8046-4098-978e-bf131ef9f1be",
       "rows": [
        [
         "0",
         "1967",
         "Sgt. Pepper's Lonely Hearts Club Band",
         "A Day in the Life",
         "0.364",
         "0.457",
         "4",
         "-14.162",
         "0",
         "0.0675",
         "0.29",
         "0.000106",
         "0.922",
         "0.175",
         "163.219",
         "https://open.spotify.com/track/0hKRSZhUGEhKU6aNSPBACZ",
         "337413",
         "4"
        ],
        [
         "1",
         "1964",
         "A Hard Day's Night",
         "A Hard Day's Night",
         "0.59",
         "0.805",
         "0",
         "-6.481",
         "1",
         "0.0371",
         "0.137",
         "0.0",
         "0.0996",
         "0.797",
         "138.514",
         "https://open.spotify.com/track/5J2CHimS7dWYMImCHkEFaJ",
         "154200",
         "4"
        ],
        [
         "2",
         "1970",
         "Let It Be",
         "Across the Universe",
         "0.257",
         "0.412",
         "1",
         "-11.788",
         "1",
         "0.0287",
         "0.361",
         "8.68e-05",
         "0.0702",
         "0.858",
         "152.126",
         "https://open.spotify.com/track/4dkoqJrP0L8FXftrMZongF",
         "228133",
         "4"
        ],
        [
         "3",
         "1965",
         "Help!",
         "Act Naturally",
         "0.702",
         "0.447",
         "7",
         "-10.122",
         "1",
         "0.0308",
         "0.366",
         "0.0",
         "0.153",
         "0.944",
         "93.02",
         "https://open.spotify.com/track/0IxxqsYBcCHEQ1HqLYJnwx",
         "150373",
         "4"
        ],
        [
         "4",
         "1963",
         "With The Beatles",
         "All I've Got to Do",
         "0.49",
         "0.579",
         "1",
         "-10.301",
         "0",
         "0.0344",
         "0.217",
         "0.0",
         "0.0644",
         "0.879",
         "119.403",
         "https://open.spotify.com/track/5tztLBvTlNC15Np2tnQ5Ll",
         "122573",
         "4"
        ],
        [
         "5",
         "1963",
         "With The Beatles",
         "All My Loving",
         "0.416",
         "0.563",
         "1",
         "-8.724",
         "0",
         "0.0298",
         "0.207",
         "0.0",
         "0.343",
         "0.9",
         "77.56",
         "https://open.spotify.com/track/4joiWvli4qJVEW6qZV2i2J",
         "127853",
         "4"
        ],
        [
         "6",
         "1969",
         "Yellow Submarine",
         "All Together Now",
         "0.587",
         "0.431",
         "2",
         "-9.495",
         "1",
         "0.0686",
         "0.0722",
         "0.0",
         "0.561",
         "0.778",
         "95.937",
         "https://open.spotify.com/track/2ck8lFrYAch2GPtdhpTHe3",
         "130893",
         "4"
        ],
        [
         "7",
         "1967",
         "Magical Mystery Tour",
         "All You Need Is Love",
         "0.4",
         "0.48",
         "7",
         "-7.768",
         "1",
         "0.0295",
         "0.346",
         "3.1e-05",
         "0.155",
         "0.653",
         "103.436",
         "https://open.spotify.com/track/68BTFws92cRztMS1oQ7Ewj",
         "230387",
         "4"
        ],
        [
         "8",
         "1969",
         "Yellow Submarine",
         "all you need is love",
         "0.4",
         "0.463",
         "7",
         "-8.455",
         "1",
         "0.0288",
         "0.345",
         "4.59e-05",
         "0.286",
         "0.627",
         "103.103",
         "https://open.spotify.com/track/2Z8cY4QpZTFUZxCQCpvNe1",
         "231213",
         "4"
        ],
        [
         "9",
         "1964",
         "A Hard Day's Night",
         "And I Love Her",
         "0.767",
         "0.331",
         "1",
         "-10.777",
         "0",
         "0.0337",
         "0.64",
         "0.0",
         "0.0681",
         "0.636",
         "113.312",
         "https://open.spotify.com/track/65vdMBskhx3akkG9vQlSH1",
         "149693",
         "4"
        ],
        [
         "10",
         "1966",
         "Revolver",
         "And Your Bird Can Sing",
         "0.555",
         "0.65",
         "4",
         "-6.936",
         "1",
         "0.0282",
         "0.0067",
         "0.0491",
         "0.236",
         "0.966",
         "132.59",
         "https://open.spotify.com/track/4KRgqwb4kvBuTz1utbYxfb",
         "120493",
         "4"
        ],
        [
         "11",
         "1963",
         "Please Please Me",
         "Anna (Go to Him)",
         "0.608",
         "0.565",
         "2",
         "-11.06",
         "1",
         "0.0336",
         "0.635",
         "0.0",
         "0.0601",
         "0.835",
         "109.286",
         "https://open.spotify.com/track/2baEFuU0gQon0hgVRioI1o",
         "177133",
         "4"
        ],
        [
         "12",
         "1965",
         "Help!",
         "Another Girl",
         "0.516",
         "0.638",
         "9",
         "-7.453",
         "1",
         "0.0314",
         "0.238",
         "0.0",
         "0.333",
         "0.822",
         "88.657",
         "https://open.spotify.com/track/7hefVXaGsFPesbK6fKwS6F",
         "125360",
         "4"
        ],
        [
         "13",
         "1964",
         "A Hard Day's Night",
         "Any Time at All",
         "0.612",
         "0.719",
         "2",
         "-7.026",
         "1",
         "0.0398",
         "0.366",
         "3.88e-06",
         "0.437",
         "0.744",
         "141.016",
         "https://open.spotify.com/track/70XHAdaMaoLIOVb1hSaeJ4",
         "131280",
         "4"
        ],
        [
         "14",
         "1963",
         "Please Please Me",
         "Ask Me Why",
         "0.605",
         "0.394",
         "4",
         "-11.33",
         "1",
         "0.0378",
         "0.767",
         "0.0",
         "0.0967",
         "0.597",
         "133.942",
         "https://open.spotify.com/track/7529Z6b1rlGZFFPWjHPeV5",
         "146533",
         "4"
        ],
        [
         "15",
         "1963",
         "Please Please Me",
         "Baby It's You",
         "0.608",
         "0.494",
         "4",
         "-12.211",
         "0",
         "0.0345",
         "0.778",
         "0.0",
         "0.0926",
         "0.879",
         "112.421",
         "https://open.spotify.com/track/2VmB1rF9FtfKUmFHDVnq8Q",
         "160520",
         "4"
        ],
        [
         "16",
         "1967",
         "Magical Mystery Tour",
         "Baby, You're a Rich Man",
         "0.619",
         "0.625",
         "7",
         "-9.635",
         "1",
         "0.036",
         "0.0119",
         "1.05e-06",
         "0.152",
         "0.467",
         "96.751",
         "https://open.spotify.com/track/0JBvtprXP2Z0LP3jmzA7Xp",
         "181307",
         "4"
        ],
        [
         "17",
         "1964",
         "Beatles for Sale",
         "Baby's in Black",
         "0.374",
         "0.596",
         "9",
         "-7.666",
         "1",
         "0.0416",
         "0.434",
         "0.0",
         "0.098",
         "0.876",
         "202.97",
         "https://open.spotify.com/track/7cb2SdLm1UMLwdUoWwrZN1",
         "124520",
         "3"
        ],
        [
         "18",
         "1968",
         "The Beatles (white album)",
         "Back in the U.S.S.R.",
         "0.48",
         "0.969",
         "9",
         "-7.464",
         "1",
         "0.0854",
         "0.069",
         "0.00022",
         "0.0608",
         "0.494",
         "142.489",
         "https://open.spotify.com/track/0j3p1p06deJ7f9xmJ9yG22",
         "163453",
         "4"
        ],
        [
         "19",
         "1969",
         "Abbey Road",
         "Because",
         "0.328",
         "0.249",
         "2",
         "-11.777",
         "1",
         "0.0272",
         "0.754",
         "5.77e-06",
         "0.134",
         "0.162",
         "81.257",
         "https://open.spotify.com/track/1rxoyGj1QuPoVi8fOft1Kt",
         "165667",
         "4"
        ],
        [
         "20",
         "1967",
         "Sgt. Pepper's Lonely Hearts Club Band",
         "Being for the Benefit of Mr. Kite!",
         "0.526",
         "0.413",
         "0",
         "-9.865",
         "1",
         "0.0446",
         "0.338",
         "0.0",
         "0.0992",
         "0.71",
         "111.874",
         "https://open.spotify.com/track/6W35n1UlkvqhfMZstB4BXs",
         "157533",
         "4"
        ],
        [
         "21",
         "1968",
         "The Beatles (white album)",
         "Birthday",
         "0.541",
         "0.727",
         "2",
         "-7.509",
         "1",
         "0.0384",
         "7.37e-05",
         "0.717",
         "0.232",
         "0.91",
         "139.239",
         "https://open.spotify.com/track/1ABegtCPBMMJaMpfDyATjE",
         "163080",
         "4"
        ],
        [
         "22",
         "1968",
         "The Beatles (white album)",
         "Blackbird",
         "0.686",
         "0.127",
         "7",
         "-14.361",
         "1",
         "0.0342",
         "0.754",
         "1.41e-05",
         "0.0573",
         "0.372",
         "93.699",
         "https://open.spotify.com/track/5jgFfDIR6FR0gvlA56Nakr",
         "138387",
         "4"
        ],
        [
         "23",
         "1967",
         "Magical Mystery Tour",
         "Blue Jay Way",
         "0.294",
         "0.407",
         "0",
         "-11.575",
         "1",
         "0.0308",
         "0.0258",
         "0.000219",
         "0.0852",
         "0.0378",
         "101.052",
         "https://open.spotify.com/track/0QIX9BS0AUCQcHYvyrsMkV",
         "235067",
         "4"
        ],
        [
         "24",
         "1963",
         "Please Please Me",
         "Boys",
         "0.402",
         "0.86",
         "4",
         "-10.31",
         "1",
         "0.0504",
         "0.607",
         "0.0",
         "0.736",
         "0.822",
         "142.445",
         "https://open.spotify.com/track/7JxGM1R32ZqfwZou3VtnTg",
         "146440",
         "4"
        ],
        [
         "25",
         "1964",
         "A Hard Day's Night",
         "Can't Buy Me Love",
         "0.483",
         "0.677",
         "0",
         "-5.91",
         "1",
         "0.0593",
         "0.283",
         "0.0",
         "0.321",
         "0.842",
         "170.72",
         "https://open.spotify.com/track/3SdingSsFcZDZAyvcJbgAw",
         "131867",
         "4"
        ],
        [
         "26",
         "1969",
         "Abbey Road",
         "Carry That Weight",
         "0.543",
         "0.458",
         "0",
         "-8.976",
         "1",
         "0.0274",
         "0.226",
         "0.00663",
         "0.298",
         "0.704",
         "84.319",
         "https://open.spotify.com/track/5eZrW59C3UgBhkqNlowEID",
         "96467",
         "4"
        ],
        [
         "27",
         "1963",
         "Please Please Me",
         "Chains",
         "0.654",
         "0.561",
         "10",
         "-10.551",
         "1",
         "0.0304",
         "0.608",
         "0.0",
         "0.129",
         "0.929",
         "129.884",
         "https://open.spotify.com/track/3JQWLa88R35d971o5bIImd",
         "145080",
         "4"
        ],
        [
         "28",
         "1969",
         "Abbey Road",
         "Come Together",
         "0.533",
         "0.376",
         "9",
         "-11.913",
         "0",
         "0.0393",
         "0.0302",
         "0.248",
         "0.0926",
         "0.187",
         "165.007",
         "https://open.spotify.com/track/2EqlS6tkEnglzr7tkKAAYD",
         "259947",
         "4"
        ],
        [
         "29",
         "1968",
         "The Beatles (white album)",
         "Cry Baby Cry",
         "0.517",
         "0.529",
         "9",
         "-11.851",
         "0",
         "0.0323",
         "0.115",
         "0.00396",
         "0.174",
         "0.362",
         "76.644",
         "https://open.spotify.com/track/5XmetMMUFNXClbiYnGdVmP",
         "182080",
         "4"
        ],
        [
         "30",
         "1968",
         "The Beatles (white album)",
         "Dear Prudence",
         "0.388",
         "0.529",
         "7",
         "-10.533",
         "1",
         "0.0436",
         "0.16",
         "0.0681",
         "0.108",
         "0.332",
         "150.721",
         "https://open.spotify.com/track/5NQYyej46WQkgCbnzGD21W",
         "235773",
         "4"
        ],
        [
         "31",
         "1963",
         "With The Beatles",
         "Devil in Her Heart",
         "0.618",
         "0.622",
         "7",
         "-8.861",
         "1",
         "0.0296",
         "0.227",
         "0.0",
         "0.0438",
         "0.966",
         "121.072",
         "https://open.spotify.com/track/5maTh4fY9SlgR3FhRkf040",
         "146213",
         "4"
        ],
        [
         "32",
         "1970",
         "Let It Be",
         "Dig a Pony",
         "0.538",
         "0.478",
         "11",
         "-8.957",
         "0",
         "0.0388",
         "0.472",
         "0.0",
         "0.17",
         "0.527",
         "59.004",
         "https://open.spotify.com/track/4OUmlC67FoPLvQNuE5C7kF",
         "235000",
         "4"
        ],
        [
         "33",
         "1970",
         "Let It Be",
         "Dig It",
         "0.54",
         "0.489",
         "5",
         "-12.276",
         "1",
         "0.117",
         "0.659",
         "0.0019",
         "0.457",
         "0.67",
         "157.03",
         "https://open.spotify.com/track/0eRyOunOVBChlXxIvqwOxH",
         "50467",
         "3"
        ],
        [
         "34",
         "1965",
         "Help!",
         "Dizzy, Miss Lizzy",
         "0.373",
         "0.934",
         "9",
         "-6.753",
         "1",
         "0.0591",
         "0.116",
         "0.00445",
         "0.0962",
         "0.918",
         "136.037",
         "https://open.spotify.com/track/70Dohn82wv6VtxGesqRzbZ",
         "176507",
         "4"
        ],
        [
         "35",
         "1963",
         "Please Please Me",
         "Do You Want to Know a Secret?",
         "0.673",
         "0.349",
         "4",
         "-12.414",
         "1",
         "0.0368",
         "0.608",
         "0.0",
         "0.38",
         "0.609",
         "124.451",
         "https://open.spotify.com/track/7Aobt67JnaF7qN8jCCKvHq",
         "117013",
         "4"
        ],
        [
         "36",
         "1966",
         "Revolver",
         "Doctor Robert",
         "0.394",
         "0.64",
         "4",
         "-8.992",
         "1",
         "0.0488",
         "0.164",
         "0.139",
         "0.153",
         "0.574",
         "164.626",
         "https://open.spotify.com/track/1ob06Ol8FMIPQgjpg7bMyk",
         "134267",
         "4"
        ],
        [
         "37",
         "1963",
         "With The Beatles",
         "Don't Bother Me",
         "0.371",
         "0.724",
         "2",
         "-9.792",
         "1",
         "0.0562",
         "0.554",
         "0.0",
         "0.299",
         "0.916",
         "170.377",
         "https://open.spotify.com/track/7y1hMqXNa0dKQLZH7CKbUG",
         "148253",
         "3"
        ],
        [
         "38",
         "1968",
         "The Beatles (white album)",
         "Don't Pass Me By",
         "0.599",
         "0.537",
         "0",
         "-9.617",
         "1",
         "0.0254",
         "0.594",
         "1.92e-05",
         "0.194",
         "0.946",
         "84.895",
         "https://open.spotify.com/track/4zq4rrfHZeZsTbo5vjJXSV",
         "230453",
         "4"
        ],
        [
         "39",
         "1965",
         "Rubber Soul",
         "Drive My Car",
         "0.754",
         "0.571",
         "2",
         "-8.547",
         "1",
         "0.0421",
         "0.0173",
         "0.0",
         "0.3",
         "0.82",
         "122.463",
         "https://open.spotify.com/track/06ypiqmILMdVeaiErMFA91",
         "148893",
         "4"
        ],
        [
         "40",
         "1964",
         "Beatles for Sale",
         "Eight Days a Week",
         "0.652",
         "0.583",
         "9",
         "-7.811",
         "1",
         "0.038",
         "0.412",
         "0.0",
         "0.119",
         "0.744",
         "138.134",
         "https://open.spotify.com/track/1Dg4dFJr3HW7sbA7vPejre",
         "163600",
         "4"
        ],
        [
         "41",
         "1966",
         "Revolver",
         "Eleanor Rigby",
         "0.581",
         "0.28",
         "4",
         "-9.091",
         "0",
         "0.0381",
         "0.936",
         "1.56e-05",
         "0.305",
         "0.813",
         "137.831",
         "https://open.spotify.com/track/5GjPQ0eI7AgmOnADn1EO6Q",
         "126533",
         "4"
        ],
        [
         "42",
         "1964",
         "Beatles for Sale",
         "every little thing",
         "0.74",
         "0.49",
         "2",
         "-9.095",
         "1",
         "0.038",
         "0.488",
         "0.0",
         "0.103",
         "0.678",
         "123.227",
         "https://open.spotify.com/track/2CxTkdvhDuQrOxl8xXkdJS",
         "123800",
         "4"
        ],
        [
         "43",
         "1968",
         "The Beatles (white album)",
         "everybodys got something to hide even you",
         "0.523",
         "0.731",
         "2",
         "-8.613",
         "1",
         "0.0559",
         "0.0207",
         "0.000464",
         "0.081",
         "0.81",
         "117.089",
         "https://open.spotify.com/track/64P3zpRsDHIk7YTpRtaKYL",
         "144773",
         "4"
        ],
        [
         "44",
         "1964",
         "Beatles for Sale",
         "Everybody's Trying to Be My Baby",
         "0.543",
         "0.806",
         "4",
         "-7.231",
         "1",
         "0.0385",
         "0.466",
         "0.0",
         "0.134",
         "0.943",
         "85.172",
         "https://open.spotify.com/track/4DZAH8eiqSAkMIE9l5D71U",
         "146000",
         "4"
        ],
        [
         "45",
         "1967",
         "Sgt. Pepper's Lonely Hearts Club Band",
         "Fixing a Hole",
         "0.469",
         "0.507",
         "0",
         "-8.917",
         "0",
         "0.0451",
         "0.382",
         "0.0",
         "0.0783",
         "0.619",
         "112.984",
         "https://open.spotify.com/track/3pKKxkeB1pOUMHwWBmKc3Y",
         "156827",
         "4"
        ],
        [
         "46",
         "1967",
         "Magical Mystery Tour",
         "Flying",
         "0.551",
         "0.395",
         "0",
         "-14.755",
         "1",
         "0.0501",
         "0.368",
         "0.88",
         "0.0932",
         "0.261",
         "92.929",
         "https://open.spotify.com/track/1itLKsCWHtLnxALkgBk1Fa",
         "135520",
         "4"
        ],
        [
         "47",
         "1966",
         "Revolver",
         "For No One",
         "0.483",
         "0.351",
         "1",
         "-10.487",
         "0",
         "0.0278",
         "0.783",
         "0.0",
         "0.115",
         "0.713",
         "81.208",
         "https://open.spotify.com/track/1kDkaFlmkdEZiVUogaP9OZ",
         "119813",
         "4"
        ],
        [
         "48",
         "1970",
         "Let It Be",
         "For You Blue",
         "0.88",
         "0.556",
         "2",
         "-10.773",
         "1",
         "0.0855",
         "0.24",
         "0.0483",
         "0.24",
         "0.955",
         "128.542",
         "https://open.spotify.com/track/5dpRJkvY8oWMQmQbEQTXhO",
         "152213",
         "4"
        ],
        [
         "49",
         "1970",
         "Let It Be",
         "Get Back",
         "0.761",
         "0.592",
         "2",
         "-9.836",
         "1",
         "0.0586",
         "0.492",
         "0.00626",
         "0.61",
         "0.332",
         "123.095",
         "https://open.spotify.com/track/4MLBqAEzNN89o2M9h92Z26",
         "189387",
         "4"
        ]
       ],
       "shape": {
        "columns": 17,
        "rows": 191
       }
      },
      "text/html": [
       "<div>\n",
       "<style scoped>\n",
       "    .dataframe tbody tr th:only-of-type {\n",
       "        vertical-align: middle;\n",
       "    }\n",
       "\n",
       "    .dataframe tbody tr th {\n",
       "        vertical-align: top;\n",
       "    }\n",
       "\n",
       "    .dataframe thead th {\n",
       "        text-align: right;\n",
       "    }\n",
       "</style>\n",
       "<table border=\"1\" class=\"dataframe\">\n",
       "  <thead>\n",
       "    <tr style=\"text-align: right;\">\n",
       "      <th></th>\n",
       "      <th>year</th>\n",
       "      <th>album</th>\n",
       "      <th>song</th>\n",
       "      <th>danceability</th>\n",
       "      <th>energy</th>\n",
       "      <th>key</th>\n",
       "      <th>loudness</th>\n",
       "      <th>mode</th>\n",
       "      <th>speechiness</th>\n",
       "      <th>acousticness</th>\n",
       "      <th>instrumentalness</th>\n",
       "      <th>liveness</th>\n",
       "      <th>valence</th>\n",
       "      <th>tempo</th>\n",
       "      <th>Unnamed: 14</th>\n",
       "      <th>duration_ms</th>\n",
       "      <th>time_signature</th>\n",
       "    </tr>\n",
       "  </thead>\n",
       "  <tbody>\n",
       "    <tr>\n",
       "      <th>0</th>\n",
       "      <td>1967</td>\n",
       "      <td>Sgt. Pepper's Lonely Hearts Club Band</td>\n",
       "      <td>A Day in the Life</td>\n",
       "      <td>0.364</td>\n",
       "      <td>0.457</td>\n",
       "      <td>4</td>\n",
       "      <td>-14.162</td>\n",
       "      <td>0</td>\n",
       "      <td>0.0675</td>\n",
       "      <td>0.290</td>\n",
       "      <td>0.000106</td>\n",
       "      <td>0.9220</td>\n",
       "      <td>0.175</td>\n",
       "      <td>163.219</td>\n",
       "      <td>https://open.spotify.com/track/0hKRSZhUGEhKU6a...</td>\n",
       "      <td>337413</td>\n",
       "      <td>4</td>\n",
       "    </tr>\n",
       "    <tr>\n",
       "      <th>1</th>\n",
       "      <td>1964</td>\n",
       "      <td>A Hard Day's Night</td>\n",
       "      <td>A Hard Day's Night</td>\n",
       "      <td>0.590</td>\n",
       "      <td>0.805</td>\n",
       "      <td>0</td>\n",
       "      <td>-6.481</td>\n",
       "      <td>1</td>\n",
       "      <td>0.0371</td>\n",
       "      <td>0.137</td>\n",
       "      <td>0.000000</td>\n",
       "      <td>0.0996</td>\n",
       "      <td>0.797</td>\n",
       "      <td>138.514</td>\n",
       "      <td>https://open.spotify.com/track/5J2CHimS7dWYMIm...</td>\n",
       "      <td>154200</td>\n",
       "      <td>4</td>\n",
       "    </tr>\n",
       "    <tr>\n",
       "      <th>2</th>\n",
       "      <td>1970</td>\n",
       "      <td>Let It Be</td>\n",
       "      <td>Across the Universe</td>\n",
       "      <td>0.257</td>\n",
       "      <td>0.412</td>\n",
       "      <td>1</td>\n",
       "      <td>-11.788</td>\n",
       "      <td>1</td>\n",
       "      <td>0.0287</td>\n",
       "      <td>0.361</td>\n",
       "      <td>0.000087</td>\n",
       "      <td>0.0702</td>\n",
       "      <td>0.858</td>\n",
       "      <td>152.126</td>\n",
       "      <td>https://open.spotify.com/track/4dkoqJrP0L8FXft...</td>\n",
       "      <td>228133</td>\n",
       "      <td>4</td>\n",
       "    </tr>\n",
       "    <tr>\n",
       "      <th>3</th>\n",
       "      <td>1965</td>\n",
       "      <td>Help!</td>\n",
       "      <td>Act Naturally</td>\n",
       "      <td>0.702</td>\n",
       "      <td>0.447</td>\n",
       "      <td>7</td>\n",
       "      <td>-10.122</td>\n",
       "      <td>1</td>\n",
       "      <td>0.0308</td>\n",
       "      <td>0.366</td>\n",
       "      <td>0.000000</td>\n",
       "      <td>0.1530</td>\n",
       "      <td>0.944</td>\n",
       "      <td>93.02</td>\n",
       "      <td>https://open.spotify.com/track/0IxxqsYBcCHEQ1H...</td>\n",
       "      <td>150373</td>\n",
       "      <td>4</td>\n",
       "    </tr>\n",
       "    <tr>\n",
       "      <th>4</th>\n",
       "      <td>1963</td>\n",
       "      <td>With The Beatles</td>\n",
       "      <td>All I've Got to Do</td>\n",
       "      <td>0.490</td>\n",
       "      <td>0.579</td>\n",
       "      <td>1</td>\n",
       "      <td>-10.301</td>\n",
       "      <td>0</td>\n",
       "      <td>0.0344</td>\n",
       "      <td>0.217</td>\n",
       "      <td>0.000000</td>\n",
       "      <td>0.0644</td>\n",
       "      <td>0.879</td>\n",
       "      <td>119.403</td>\n",
       "      <td>https://open.spotify.com/track/5tztLBvTlNC15Np...</td>\n",
       "      <td>122573</td>\n",
       "      <td>4</td>\n",
       "    </tr>\n",
       "    <tr>\n",
       "      <th>...</th>\n",
       "      <td>...</td>\n",
       "      <td>...</td>\n",
       "      <td>...</td>\n",
       "      <td>...</td>\n",
       "      <td>...</td>\n",
       "      <td>...</td>\n",
       "      <td>...</td>\n",
       "      <td>...</td>\n",
       "      <td>...</td>\n",
       "      <td>...</td>\n",
       "      <td>...</td>\n",
       "      <td>...</td>\n",
       "      <td>...</td>\n",
       "      <td>...</td>\n",
       "      <td>...</td>\n",
       "      <td>...</td>\n",
       "      <td>...</td>\n",
       "    </tr>\n",
       "    <tr>\n",
       "      <th>186</th>\n",
       "      <td>1963</td>\n",
       "      <td>With The Beatles</td>\n",
       "      <td>You Really Got A Hold On Me</td>\n",
       "      <td>0.373</td>\n",
       "      <td>0.388</td>\n",
       "      <td>9</td>\n",
       "      <td>-9.310</td>\n",
       "      <td>1</td>\n",
       "      <td>0.0337</td>\n",
       "      <td>0.525</td>\n",
       "      <td>0.000000</td>\n",
       "      <td>0.2670</td>\n",
       "      <td>0.687</td>\n",
       "      <td>77.643</td>\n",
       "      <td>https://open.spotify.com/track/7rgUYidQh5tH0Yl...</td>\n",
       "      <td>181347</td>\n",
       "      <td>4</td>\n",
       "    </tr>\n",
       "    <tr>\n",
       "      <th>187</th>\n",
       "      <td>1965</td>\n",
       "      <td>Rubber Soul</td>\n",
       "      <td>You Won't See Me</td>\n",
       "      <td>0.488</td>\n",
       "      <td>0.539</td>\n",
       "      <td>9</td>\n",
       "      <td>-8.752</td>\n",
       "      <td>1</td>\n",
       "      <td>0.0304</td>\n",
       "      <td>0.136</td>\n",
       "      <td>0.000000</td>\n",
       "      <td>0.0538</td>\n",
       "      <td>0.473</td>\n",
       "      <td>115.941</td>\n",
       "      <td>https://open.spotify.com/track/4LLBKnNCrSRrSjS...</td>\n",
       "      <td>199960</td>\n",
       "      <td>4</td>\n",
       "    </tr>\n",
       "    <tr>\n",
       "      <th>188</th>\n",
       "      <td>1965</td>\n",
       "      <td>Help!</td>\n",
       "      <td>You've Got to Hide Your Love Away</td>\n",
       "      <td>0.398</td>\n",
       "      <td>0.392</td>\n",
       "      <td>7</td>\n",
       "      <td>-9.050</td>\n",
       "      <td>1</td>\n",
       "      <td>0.0282</td>\n",
       "      <td>0.207</td>\n",
       "      <td>0.000000</td>\n",
       "      <td>0.1020</td>\n",
       "      <td>0.378</td>\n",
       "      <td>184.267</td>\n",
       "      <td>https://open.spotify.com/track/4F1AgKpuFRMLEgt...</td>\n",
       "      <td>129120</td>\n",
       "      <td>3</td>\n",
       "    </tr>\n",
       "    <tr>\n",
       "      <th>189</th>\n",
       "      <td>1967</td>\n",
       "      <td>Magical Mystery Tour</td>\n",
       "      <td>Your Mother Should Know</td>\n",
       "      <td>0.698</td>\n",
       "      <td>0.293</td>\n",
       "      <td>0</td>\n",
       "      <td>-11.361</td>\n",
       "      <td>1</td>\n",
       "      <td>0.0332</td>\n",
       "      <td>0.784</td>\n",
       "      <td>0.010600</td>\n",
       "      <td>0.0936</td>\n",
       "      <td>0.724</td>\n",
       "      <td>117.613</td>\n",
       "      <td>https://open.spotify.com/track/1dxbAIfCASqv6ji...</td>\n",
       "      <td>148413</td>\n",
       "      <td>4</td>\n",
       "    </tr>\n",
       "    <tr>\n",
       "      <th>190</th>\n",
       "      <td>1965</td>\n",
       "      <td>Help!</td>\n",
       "      <td>You're Going to Lose That Girl</td>\n",
       "      <td>0.533</td>\n",
       "      <td>0.660</td>\n",
       "      <td>4</td>\n",
       "      <td>-7.694</td>\n",
       "      <td>1</td>\n",
       "      <td>0.0337</td>\n",
       "      <td>0.346</td>\n",
       "      <td>0.000000</td>\n",
       "      <td>0.2600</td>\n",
       "      <td>0.818</td>\n",
       "      <td>131.975</td>\n",
       "      <td>https://open.spotify.com/track/70HNt0eoBVqr4ss...</td>\n",
       "      <td>138667</td>\n",
       "      <td>4</td>\n",
       "    </tr>\n",
       "  </tbody>\n",
       "</table>\n",
       "<p>191 rows × 17 columns</p>\n",
       "</div>"
      ],
      "text/plain": [
       "     year                                  album  \\\n",
       "0    1967  Sgt. Pepper's Lonely Hearts Club Band   \n",
       "1    1964                     A Hard Day's Night   \n",
       "2    1970                              Let It Be   \n",
       "3    1965                                  Help!   \n",
       "4    1963                       With The Beatles   \n",
       "..    ...                                    ...   \n",
       "186  1963                       With The Beatles   \n",
       "187  1965                            Rubber Soul   \n",
       "188  1965                                  Help!   \n",
       "189  1967                   Magical Mystery Tour   \n",
       "190  1965                                  Help!   \n",
       "\n",
       "                                  song  danceability  energy  key  loudness  \\\n",
       "0                    A Day in the Life         0.364   0.457    4   -14.162   \n",
       "1                   A Hard Day's Night         0.590   0.805    0    -6.481   \n",
       "2                  Across the Universe         0.257   0.412    1   -11.788   \n",
       "3                        Act Naturally         0.702   0.447    7   -10.122   \n",
       "4                   All I've Got to Do         0.490   0.579    1   -10.301   \n",
       "..                                 ...           ...     ...  ...       ...   \n",
       "186        You Really Got A Hold On Me         0.373   0.388    9    -9.310   \n",
       "187                   You Won't See Me         0.488   0.539    9    -8.752   \n",
       "188  You've Got to Hide Your Love Away         0.398   0.392    7    -9.050   \n",
       "189            Your Mother Should Know         0.698   0.293    0   -11.361   \n",
       "190     You're Going to Lose That Girl         0.533   0.660    4    -7.694   \n",
       "\n",
       "     mode  speechiness  acousticness  instrumentalness  liveness  valence  \\\n",
       "0       0       0.0675         0.290          0.000106    0.9220    0.175   \n",
       "1       1       0.0371         0.137          0.000000    0.0996    0.797   \n",
       "2       1       0.0287         0.361          0.000087    0.0702    0.858   \n",
       "3       1       0.0308         0.366          0.000000    0.1530    0.944   \n",
       "4       0       0.0344         0.217          0.000000    0.0644    0.879   \n",
       "..    ...          ...           ...               ...       ...      ...   \n",
       "186     1       0.0337         0.525          0.000000    0.2670    0.687   \n",
       "187     1       0.0304         0.136          0.000000    0.0538    0.473   \n",
       "188     1       0.0282         0.207          0.000000    0.1020    0.378   \n",
       "189     1       0.0332         0.784          0.010600    0.0936    0.724   \n",
       "190     1       0.0337         0.346          0.000000    0.2600    0.818   \n",
       "\n",
       "       tempo                                        Unnamed: 14  duration_ms  \\\n",
       "0    163.219  https://open.spotify.com/track/0hKRSZhUGEhKU6a...       337413   \n",
       "1    138.514  https://open.spotify.com/track/5J2CHimS7dWYMIm...       154200   \n",
       "2    152.126  https://open.spotify.com/track/4dkoqJrP0L8FXft...       228133   \n",
       "3      93.02  https://open.spotify.com/track/0IxxqsYBcCHEQ1H...       150373   \n",
       "4    119.403  https://open.spotify.com/track/5tztLBvTlNC15Np...       122573   \n",
       "..       ...                                                ...          ...   \n",
       "186   77.643  https://open.spotify.com/track/7rgUYidQh5tH0Yl...       181347   \n",
       "187  115.941  https://open.spotify.com/track/4LLBKnNCrSRrSjS...       199960   \n",
       "188  184.267  https://open.spotify.com/track/4F1AgKpuFRMLEgt...       129120   \n",
       "189  117.613  https://open.spotify.com/track/1dxbAIfCASqv6ji...       148413   \n",
       "190  131.975  https://open.spotify.com/track/70HNt0eoBVqr4ss...       138667   \n",
       "\n",
       "     time_signature  \n",
       "0                 4  \n",
       "1                 4  \n",
       "2                 4  \n",
       "3                 4  \n",
       "4                 4  \n",
       "..              ...  \n",
       "186               4  \n",
       "187               4  \n",
       "188               3  \n",
       "189               4  \n",
       "190               4  \n",
       "\n",
       "[191 rows x 17 columns]"
      ]
     },
     "execution_count": 23,
     "metadata": {},
     "output_type": "execute_result"
    }
   ],
   "source": [
    "\n",
    "# some precautionary cleanup in case of NAs\n",
    "beatles_spotify.fillna('')"
   ]
  },
  {
   "cell_type": "markdown",
   "id": "2dadc7e5",
   "metadata": {},
   "source": [
    "### Energy as Float\n",
    "\n",
    "The energy column appears to be strings, so let's convert it to a float.  This is important because I want to be able to use this column in calculations later on.\n",
    "\n",
    "```python\n",
    "beatles_spotify['energy'] = beatles_spotify['energy'].astype(float)\n",
    "``` \n"
   ]
  },
  {
   "cell_type": "code",
   "execution_count": 24,
   "id": "84a19053",
   "metadata": {},
   "outputs": [],
   "source": [
    "beatles_spotify['energy'] = beatles_spotify['energy'].astype(float)"
   ]
  },
  {
   "cell_type": "markdown",
   "id": "e44f2018-97d0-4668-82d6-df46561069a3",
   "metadata": {},
   "source": [
    "#### 2a: An informal way to review the range of values in each feature, over all albums"
   ]
  },
  {
   "cell_type": "code",
   "execution_count": 25,
   "id": "becfa42b-be0c-4ede-a9bb-c803c858be86",
   "metadata": {
    "tags": []
   },
   "outputs": [
    {
     "name": "stdout",
     "output_type": "stream",
     "text": [
      "danceability\n",
      "(0.513, 0.696]    91\n",
      "(0.33, 0.513]     62\n",
      "(0.145, 0.33]     19\n",
      "(0.696, 0.88]     19\n",
      "Name: count, dtype: int64\n",
      "energy\n",
      "(0.53, 0.749]     73\n",
      "(0.31, 0.53]      67\n",
      "(0.749, 0.969]    26\n",
      "(0.0893, 0.31]    25\n",
      "Name: count, dtype: int64\n",
      "acousticness\n",
      "(-0.000928, 0.243]    77\n",
      "(0.243, 0.486]        46\n",
      "(0.486, 0.728]        40\n",
      "(0.728, 0.971]        28\n",
      "Name: count, dtype: int64\n"
     ]
    }
   ],
   "source": [
    "# and a very informal way to look at my columns to get a sense of the range of values across the albumns\n",
    "# below I use the pandas \"cut\" method to split the data into 'bins' of similar values\n",
    "\n",
    "# my preferred cols as a lis\n",
    "column_list = ['danceability', 'energy', 'acousticness']\n",
    "# a for loop\n",
    "for col in column_list:\n",
    "    # show the 'binned' values for each feature column\n",
    "    print(pd.cut(beatles_spotify[col], bins=4).value_counts())"
   ]
  },
  {
   "cell_type": "markdown",
   "id": "f40ae309-e79b-49fa-b167-52ef5df8d0e6",
   "metadata": {
    "execution": {
     "iopub.execute_input": "2024-07-01T19:39:19.646387Z",
     "iopub.status.busy": "2024-07-01T19:39:19.645673Z",
     "iopub.status.idle": "2024-07-01T19:39:19.651060Z",
     "shell.execute_reply": "2024-07-01T19:39:19.649891Z",
     "shell.execute_reply.started": "2024-07-01T19:39:19.646346Z"
    }
   },
   "source": [
    "#### 2b: Groupby operation using year/album, then the chosen audio features to find the mean values for each"
   ]
  },
  {
   "cell_type": "code",
   "execution_count": 28,
   "id": "3802e721-d057-4bfd-8cb9-83114467955b",
   "metadata": {
    "tags": []
   },
   "outputs": [
    {
     "data": {
      "text/html": [
       "<style type=\"text/css\">\n",
       "#T_124d3 caption {\n",
       "  color: black;\n",
       "  font-size: 18px;\n",
       "}\n",
       "</style>\n",
       "<table id=\"T_124d3\">\n",
       "  <caption>Table 1: Selected Mean Audio Feature Values for Beatles Albums</caption>\n",
       "  <thead>\n",
       "    <tr>\n",
       "      <th class=\"blank level0\" >&nbsp;</th>\n",
       "      <th id=\"T_124d3_level0_col0\" class=\"col_heading level0 col0\" >year</th>\n",
       "      <th id=\"T_124d3_level0_col1\" class=\"col_heading level0 col1\" >album</th>\n",
       "      <th id=\"T_124d3_level0_col2\" class=\"col_heading level0 col2\" >danceability</th>\n",
       "      <th id=\"T_124d3_level0_col3\" class=\"col_heading level0 col3\" >energy</th>\n",
       "      <th id=\"T_124d3_level0_col4\" class=\"col_heading level0 col4\" >acousticness</th>\n",
       "    </tr>\n",
       "  </thead>\n",
       "  <tbody>\n",
       "    <tr>\n",
       "      <th id=\"T_124d3_level0_row0\" class=\"row_heading level0 row0\" >0</th>\n",
       "      <td id=\"T_124d3_row0_col0\" class=\"data row0 col0\" >1963</td>\n",
       "      <td id=\"T_124d3_row0_col1\" class=\"data row0 col1\" >Please Please Me</td>\n",
       "      <td id=\"T_124d3_row0_col2\" class=\"data row0 col2\" >0.547929</td>\n",
       "      <td id=\"T_124d3_row0_col3\" class=\"data row0 col3\" >0.599786</td>\n",
       "      <td id=\"T_124d3_row0_col4\" class=\"data row0 col4\" >0.575500</td>\n",
       "    </tr>\n",
       "    <tr>\n",
       "      <th id=\"T_124d3_level0_row1\" class=\"row_heading level0 row1\" >1</th>\n",
       "      <td id=\"T_124d3_row1_col0\" class=\"data row1 col0\" >1963</td>\n",
       "      <td id=\"T_124d3_row1_col1\" class=\"data row1 col1\" >With The Beatles</td>\n",
       "      <td id=\"T_124d3_row1_col2\" class=\"data row1 col2\" >0.500357</td>\n",
       "      <td id=\"T_124d3_row1_col3\" class=\"data row1 col3\" >0.676143</td>\n",
       "      <td id=\"T_124d3_row1_col4\" class=\"data row1 col4\" >0.417071</td>\n",
       "    </tr>\n",
       "    <tr>\n",
       "      <th id=\"T_124d3_level0_row2\" class=\"row_heading level0 row2\" >2</th>\n",
       "      <td id=\"T_124d3_row2_col0\" class=\"data row2 col0\" >1964</td>\n",
       "      <td id=\"T_124d3_row2_col1\" class=\"data row2 col1\" >A Hard Day's Night</td>\n",
       "      <td id=\"T_124d3_row2_col2\" class=\"data row2 col2\" >0.600583</td>\n",
       "      <td id=\"T_124d3_row2_col3\" class=\"data row2 col3\" >0.594667</td>\n",
       "      <td id=\"T_124d3_row2_col4\" class=\"data row2 col4\" >0.378808</td>\n",
       "    </tr>\n",
       "    <tr>\n",
       "      <th id=\"T_124d3_level0_row3\" class=\"row_heading level0 row3\" >3</th>\n",
       "      <td id=\"T_124d3_row3_col0\" class=\"data row3 col0\" >1964</td>\n",
       "      <td id=\"T_124d3_row3_col1\" class=\"data row3 col1\" >Beatles for Sale</td>\n",
       "      <td id=\"T_124d3_row3_col2\" class=\"data row3 col2\" >0.592286</td>\n",
       "      <td id=\"T_124d3_row3_col3\" class=\"data row3 col3\" >0.596429</td>\n",
       "      <td id=\"T_124d3_row3_col4\" class=\"data row3 col4\" >0.525000</td>\n",
       "    </tr>\n",
       "    <tr>\n",
       "      <th id=\"T_124d3_level0_row4\" class=\"row_heading level0 row4\" >4</th>\n",
       "      <td id=\"T_124d3_row4_col0\" class=\"data row4 col0\" >1965</td>\n",
       "      <td id=\"T_124d3_row4_col1\" class=\"data row4 col1\" >Help!</td>\n",
       "      <td id=\"T_124d3_row4_col2\" class=\"data row4 col2\" >0.528000</td>\n",
       "      <td id=\"T_124d3_row4_col3\" class=\"data row4 col3\" >0.610929</td>\n",
       "      <td id=\"T_124d3_row4_col4\" class=\"data row4 col4\" >0.295386</td>\n",
       "    </tr>\n",
       "    <tr>\n",
       "      <th id=\"T_124d3_level0_row5\" class=\"row_heading level0 row5\" >5</th>\n",
       "      <td id=\"T_124d3_row5_col0\" class=\"data row5 col0\" >1965</td>\n",
       "      <td id=\"T_124d3_row5_col1\" class=\"data row5 col1\" >Rubber Soul</td>\n",
       "      <td id=\"T_124d3_row5_col2\" class=\"data row5 col2\" >0.587786</td>\n",
       "      <td id=\"T_124d3_row5_col3\" class=\"data row5 col3\" >0.539357</td>\n",
       "      <td id=\"T_124d3_row5_col4\" class=\"data row5 col4\" >0.150806</td>\n",
       "    </tr>\n",
       "    <tr>\n",
       "      <th id=\"T_124d3_level0_row6\" class=\"row_heading level0 row6\" >6</th>\n",
       "      <td id=\"T_124d3_row6_col0\" class=\"data row6 col0\" >1966</td>\n",
       "      <td id=\"T_124d3_row6_col1\" class=\"data row6 col1\" >Revolver</td>\n",
       "      <td id=\"T_124d3_row6_col2\" class=\"data row6 col2\" >0.482429</td>\n",
       "      <td id=\"T_124d3_row6_col3\" class=\"data row6 col3\" >0.530571</td>\n",
       "      <td id=\"T_124d3_row6_col4\" class=\"data row6 col4\" >0.406135</td>\n",
       "    </tr>\n",
       "    <tr>\n",
       "      <th id=\"T_124d3_level0_row7\" class=\"row_heading level0 row7\" >7</th>\n",
       "      <td id=\"T_124d3_row7_col0\" class=\"data row7 col0\" >1967</td>\n",
       "      <td id=\"T_124d3_row7_col1\" class=\"data row7 col1\" >Magical Mystery Tour</td>\n",
       "      <td id=\"T_124d3_row7_col2\" class=\"data row7 col2\" >0.467727</td>\n",
       "      <td id=\"T_124d3_row7_col3\" class=\"data row7 col3\" >0.486545</td>\n",
       "      <td id=\"T_124d3_row7_col4\" class=\"data row7 col4\" >0.311273</td>\n",
       "    </tr>\n",
       "    <tr>\n",
       "      <th id=\"T_124d3_level0_row8\" class=\"row_heading level0 row8\" >8</th>\n",
       "      <td id=\"T_124d3_row8_col0\" class=\"data row8 col0\" >1967</td>\n",
       "      <td id=\"T_124d3_row8_col1\" class=\"data row8 col1\" >Sgt. Pepper's Lonely Hearts Club Band</td>\n",
       "      <td id=\"T_124d3_row8_col2\" class=\"data row8 col2\" >0.515385</td>\n",
       "      <td id=\"T_124d3_row8_col3\" class=\"data row8 col3\" >0.482538</td>\n",
       "      <td id=\"T_124d3_row8_col4\" class=\"data row8 col4\" >0.298762</td>\n",
       "    </tr>\n",
       "    <tr>\n",
       "      <th id=\"T_124d3_level0_row9\" class=\"row_heading level0 row9\" >9</th>\n",
       "      <td id=\"T_124d3_row9_col0\" class=\"data row9 col0\" >1968</td>\n",
       "      <td id=\"T_124d3_row9_col1\" class=\"data row9 col1\" >The Beatles (white album)</td>\n",
       "      <td id=\"T_124d3_row9_col2\" class=\"data row9 col2\" >0.502567</td>\n",
       "      <td id=\"T_124d3_row9_col3\" class=\"data row9 col3\" >0.503810</td>\n",
       "      <td id=\"T_124d3_row9_col4\" class=\"data row9 col4\" >0.395290</td>\n",
       "    </tr>\n",
       "    <tr>\n",
       "      <th id=\"T_124d3_level0_row10\" class=\"row_heading level0 row10\" >10</th>\n",
       "      <td id=\"T_124d3_row10_col0\" class=\"data row10 col0\" >1969</td>\n",
       "      <td id=\"T_124d3_row10_col1\" class=\"data row10 col1\" >Abbey Road</td>\n",
       "      <td id=\"T_124d3_row10_col2\" class=\"data row10 col2\" >0.518000</td>\n",
       "      <td id=\"T_124d3_row10_col3\" class=\"data row10 col3\" >0.457176</td>\n",
       "      <td id=\"T_124d3_row10_col4\" class=\"data row10 col4\" >0.224964</td>\n",
       "    </tr>\n",
       "    <tr>\n",
       "      <th id=\"T_124d3_level0_row11\" class=\"row_heading level0 row11\" >11</th>\n",
       "      <td id=\"T_124d3_row11_col0\" class=\"data row11 col0\" >1969</td>\n",
       "      <td id=\"T_124d3_row11_col1\" class=\"data row11 col1\" >Yellow Submarine</td>\n",
       "      <td id=\"T_124d3_row11_col2\" class=\"data row11 col2\" >0.370417</td>\n",
       "      <td id=\"T_124d3_row11_col3\" class=\"data row11 col3\" >0.362717</td>\n",
       "      <td id=\"T_124d3_row11_col4\" class=\"data row11 col4\" >0.549357</td>\n",
       "    </tr>\n",
       "    <tr>\n",
       "      <th id=\"T_124d3_level0_row12\" class=\"row_heading level0 row12\" >12</th>\n",
       "      <td id=\"T_124d3_row12_col0\" class=\"data row12 col0\" >1970</td>\n",
       "      <td id=\"T_124d3_row12_col1\" class=\"data row12 col1\" >Let It Be</td>\n",
       "      <td id=\"T_124d3_row12_col2\" class=\"data row12 col2\" >0.520417</td>\n",
       "      <td id=\"T_124d3_row12_col3\" class=\"data row12 col3\" >0.545917</td>\n",
       "      <td id=\"T_124d3_row12_col4\" class=\"data row12 col4\" >0.364050</td>\n",
       "    </tr>\n",
       "  </tbody>\n",
       "</table>\n"
      ],
      "text/plain": [
       "<pandas.io.formats.style.Styler at 0x161f64f10>"
      ]
     },
     "execution_count": 28,
     "metadata": {},
     "output_type": "execute_result"
    }
   ],
   "source": [
    "grouped_data = beatles_spotify.groupby(['year', \"album\"])[['danceability', 'energy', 'acousticness']].mean()\n",
    "grouped_data = grouped_data.reset_index()\n",
    "grouped_data.style.set_caption(\"Table 1: Selected Mean Audio Feature Values for Beatles Albums\").set_table_styles([{\n",
    "    'selector': 'caption',\n",
    "    'props': [\n",
    "        ('color', 'black'),\n",
    "        ('font-size', '18px')\n",
    "    ]\n",
    "}])"
   ]
  },
  {
   "cell_type": "markdown",
   "id": "df088342-7040-4e2f-89b8-0975bc4f875e",
   "metadata": {
    "execution": {
     "iopub.execute_input": "2024-07-01T19:39:20.592530Z",
     "iopub.status.busy": "2024-07-01T19:39:20.591829Z",
     "iopub.status.idle": "2024-07-01T19:39:20.597698Z",
     "shell.execute_reply": "2024-07-01T19:39:20.596704Z",
     "shell.execute_reply.started": "2024-07-01T19:39:20.592490Z"
    }
   },
   "source": [
    "#### 2c: A Plotly barchart to show the comparative values for each in a graphical way"
   ]
  },
  {
   "cell_type": "code",
   "execution_count": 29,
   "id": "2e450a74-855a-4666-803c-0084ebedf157",
   "metadata": {
    "tags": []
   },
   "outputs": [
    {
     "data": {
      "text/html": [
       "        <script type=\"text/javascript\">\n",
       "        window.PlotlyConfig = {MathJaxConfig: 'local'};\n",
       "        if (window.MathJax && window.MathJax.Hub && window.MathJax.Hub.Config) {window.MathJax.Hub.Config({SVG: {font: \"STIX-Web\"}});}\n",
       "        if (typeof require !== 'undefined') {\n",
       "        require.undef(\"plotly\");\n",
       "        requirejs.config({\n",
       "            paths: {\n",
       "                'plotly': ['https://cdn.plot.ly/plotly-2.29.1.min']\n",
       "            }\n",
       "        });\n",
       "        require(['plotly'], function(Plotly) {\n",
       "            window._Plotly = Plotly;\n",
       "        });\n",
       "        }\n",
       "        </script>\n",
       "        "
      ]
     },
     "metadata": {},
     "output_type": "display_data"
    },
    {
     "data": {
      "application/vnd.plotly.v1+json": {
       "config": {
        "plotlyServerURL": "https://plot.ly"
       },
       "data": [
        {
         "alignmentgroup": "True",
         "hovertemplate": "variable=danceability<br>album=%{x}<br>value=%{y}<extra></extra>",
         "legendgroup": "danceability",
         "marker": {
          "color": "rgb(102, 197, 204)",
          "pattern": {
           "shape": ""
          }
         },
         "name": "danceability",
         "offsetgroup": "danceability",
         "orientation": "v",
         "showlegend": true,
         "textposition": "auto",
         "type": "bar",
         "x": [
          "Please Please Me",
          "With The Beatles",
          "A Hard Day's Night",
          "Beatles for Sale",
          "Help!",
          "Rubber Soul",
          "Revolver",
          "Magical Mystery Tour",
          "Sgt. Pepper's Lonely Hearts Club Band",
          "The Beatles (white album)",
          "Abbey Road",
          "Yellow Submarine",
          "Let It Be"
         ],
         "xaxis": "x",
         "y": [
          0.5479285714285714,
          0.5003571428571428,
          0.6005833333333334,
          0.5922857142857143,
          0.528,
          0.5877857142857142,
          0.4824285714285714,
          0.46772727272727277,
          0.5153846153846154,
          0.5025666666666667,
          0.518,
          0.37041666666666667,
          0.5204166666666666
         ],
         "yaxis": "y"
        },
        {
         "alignmentgroup": "True",
         "hovertemplate": "variable=energy<br>album=%{x}<br>value=%{y}<extra></extra>",
         "legendgroup": "energy",
         "marker": {
          "color": "rgb(246, 207, 113)",
          "pattern": {
           "shape": ""
          }
         },
         "name": "energy",
         "offsetgroup": "energy",
         "orientation": "v",
         "showlegend": true,
         "textposition": "auto",
         "type": "bar",
         "x": [
          "Please Please Me",
          "With The Beatles",
          "A Hard Day's Night",
          "Beatles for Sale",
          "Help!",
          "Rubber Soul",
          "Revolver",
          "Magical Mystery Tour",
          "Sgt. Pepper's Lonely Hearts Club Band",
          "The Beatles (white album)",
          "Abbey Road",
          "Yellow Submarine",
          "Let It Be"
         ],
         "xaxis": "x",
         "y": [
          0.5997857142857143,
          0.676142857142857,
          0.5946666666666667,
          0.5964285714285714,
          0.6109285714285715,
          0.5393571428571429,
          0.5305714285714286,
          0.48654545454545456,
          0.4825384615384615,
          0.50381,
          0.4571764705882353,
          0.36271666666666663,
          0.5459166666666667
         ],
         "yaxis": "y"
        },
        {
         "alignmentgroup": "True",
         "hovertemplate": "variable=acousticness<br>album=%{x}<br>value=%{y}<extra></extra>",
         "legendgroup": "acousticness",
         "marker": {
          "color": "rgb(248, 156, 116)",
          "pattern": {
           "shape": ""
          }
         },
         "name": "acousticness",
         "offsetgroup": "acousticness",
         "orientation": "v",
         "showlegend": true,
         "textposition": "auto",
         "type": "bar",
         "x": [
          "Please Please Me",
          "With The Beatles",
          "A Hard Day's Night",
          "Beatles for Sale",
          "Help!",
          "Rubber Soul",
          "Revolver",
          "Magical Mystery Tour",
          "Sgt. Pepper's Lonely Hearts Club Band",
          "The Beatles (white album)",
          "Abbey Road",
          "Yellow Submarine",
          "Let It Be"
         ],
         "xaxis": "x",
         "y": [
          0.5755,
          0.4170714285714286,
          0.37880833333333336,
          0.525,
          0.29538571428571425,
          0.15080642857142856,
          0.4061345714285714,
          0.31127272727272726,
          0.29876153846153847,
          0.39528982333333335,
          0.22496411764705884,
          0.549357,
          0.36405
         ],
         "yaxis": "y"
        }
       ],
       "layout": {
        "barmode": "group",
        "height": 600,
        "legend": {
         "title": {
          "text": "variable"
         },
         "tracegroupgap": 0
        },
        "template": {
         "data": {
          "bar": [
           {
            "error_x": {
             "color": "#2a3f5f"
            },
            "error_y": {
             "color": "#2a3f5f"
            },
            "marker": {
             "line": {
              "color": "#E5ECF6",
              "width": 0.5
             },
             "pattern": {
              "fillmode": "overlay",
              "size": 10,
              "solidity": 0.2
             }
            },
            "type": "bar"
           }
          ],
          "barpolar": [
           {
            "marker": {
             "line": {
              "color": "#E5ECF6",
              "width": 0.5
             },
             "pattern": {
              "fillmode": "overlay",
              "size": 10,
              "solidity": 0.2
             }
            },
            "type": "barpolar"
           }
          ],
          "carpet": [
           {
            "aaxis": {
             "endlinecolor": "#2a3f5f",
             "gridcolor": "white",
             "linecolor": "white",
             "minorgridcolor": "white",
             "startlinecolor": "#2a3f5f"
            },
            "baxis": {
             "endlinecolor": "#2a3f5f",
             "gridcolor": "white",
             "linecolor": "white",
             "minorgridcolor": "white",
             "startlinecolor": "#2a3f5f"
            },
            "type": "carpet"
           }
          ],
          "choropleth": [
           {
            "colorbar": {
             "outlinewidth": 0,
             "ticks": ""
            },
            "type": "choropleth"
           }
          ],
          "contour": [
           {
            "colorbar": {
             "outlinewidth": 0,
             "ticks": ""
            },
            "colorscale": [
             [
              0,
              "#0d0887"
             ],
             [
              0.1111111111111111,
              "#46039f"
             ],
             [
              0.2222222222222222,
              "#7201a8"
             ],
             [
              0.3333333333333333,
              "#9c179e"
             ],
             [
              0.4444444444444444,
              "#bd3786"
             ],
             [
              0.5555555555555556,
              "#d8576b"
             ],
             [
              0.6666666666666666,
              "#ed7953"
             ],
             [
              0.7777777777777778,
              "#fb9f3a"
             ],
             [
              0.8888888888888888,
              "#fdca26"
             ],
             [
              1,
              "#f0f921"
             ]
            ],
            "type": "contour"
           }
          ],
          "contourcarpet": [
           {
            "colorbar": {
             "outlinewidth": 0,
             "ticks": ""
            },
            "type": "contourcarpet"
           }
          ],
          "heatmap": [
           {
            "colorbar": {
             "outlinewidth": 0,
             "ticks": ""
            },
            "colorscale": [
             [
              0,
              "#0d0887"
             ],
             [
              0.1111111111111111,
              "#46039f"
             ],
             [
              0.2222222222222222,
              "#7201a8"
             ],
             [
              0.3333333333333333,
              "#9c179e"
             ],
             [
              0.4444444444444444,
              "#bd3786"
             ],
             [
              0.5555555555555556,
              "#d8576b"
             ],
             [
              0.6666666666666666,
              "#ed7953"
             ],
             [
              0.7777777777777778,
              "#fb9f3a"
             ],
             [
              0.8888888888888888,
              "#fdca26"
             ],
             [
              1,
              "#f0f921"
             ]
            ],
            "type": "heatmap"
           }
          ],
          "heatmapgl": [
           {
            "colorbar": {
             "outlinewidth": 0,
             "ticks": ""
            },
            "colorscale": [
             [
              0,
              "#0d0887"
             ],
             [
              0.1111111111111111,
              "#46039f"
             ],
             [
              0.2222222222222222,
              "#7201a8"
             ],
             [
              0.3333333333333333,
              "#9c179e"
             ],
             [
              0.4444444444444444,
              "#bd3786"
             ],
             [
              0.5555555555555556,
              "#d8576b"
             ],
             [
              0.6666666666666666,
              "#ed7953"
             ],
             [
              0.7777777777777778,
              "#fb9f3a"
             ],
             [
              0.8888888888888888,
              "#fdca26"
             ],
             [
              1,
              "#f0f921"
             ]
            ],
            "type": "heatmapgl"
           }
          ],
          "histogram": [
           {
            "marker": {
             "pattern": {
              "fillmode": "overlay",
              "size": 10,
              "solidity": 0.2
             }
            },
            "type": "histogram"
           }
          ],
          "histogram2d": [
           {
            "colorbar": {
             "outlinewidth": 0,
             "ticks": ""
            },
            "colorscale": [
             [
              0,
              "#0d0887"
             ],
             [
              0.1111111111111111,
              "#46039f"
             ],
             [
              0.2222222222222222,
              "#7201a8"
             ],
             [
              0.3333333333333333,
              "#9c179e"
             ],
             [
              0.4444444444444444,
              "#bd3786"
             ],
             [
              0.5555555555555556,
              "#d8576b"
             ],
             [
              0.6666666666666666,
              "#ed7953"
             ],
             [
              0.7777777777777778,
              "#fb9f3a"
             ],
             [
              0.8888888888888888,
              "#fdca26"
             ],
             [
              1,
              "#f0f921"
             ]
            ],
            "type": "histogram2d"
           }
          ],
          "histogram2dcontour": [
           {
            "colorbar": {
             "outlinewidth": 0,
             "ticks": ""
            },
            "colorscale": [
             [
              0,
              "#0d0887"
             ],
             [
              0.1111111111111111,
              "#46039f"
             ],
             [
              0.2222222222222222,
              "#7201a8"
             ],
             [
              0.3333333333333333,
              "#9c179e"
             ],
             [
              0.4444444444444444,
              "#bd3786"
             ],
             [
              0.5555555555555556,
              "#d8576b"
             ],
             [
              0.6666666666666666,
              "#ed7953"
             ],
             [
              0.7777777777777778,
              "#fb9f3a"
             ],
             [
              0.8888888888888888,
              "#fdca26"
             ],
             [
              1,
              "#f0f921"
             ]
            ],
            "type": "histogram2dcontour"
           }
          ],
          "mesh3d": [
           {
            "colorbar": {
             "outlinewidth": 0,
             "ticks": ""
            },
            "type": "mesh3d"
           }
          ],
          "parcoords": [
           {
            "line": {
             "colorbar": {
              "outlinewidth": 0,
              "ticks": ""
             }
            },
            "type": "parcoords"
           }
          ],
          "pie": [
           {
            "automargin": true,
            "type": "pie"
           }
          ],
          "scatter": [
           {
            "fillpattern": {
             "fillmode": "overlay",
             "size": 10,
             "solidity": 0.2
            },
            "type": "scatter"
           }
          ],
          "scatter3d": [
           {
            "line": {
             "colorbar": {
              "outlinewidth": 0,
              "ticks": ""
             }
            },
            "marker": {
             "colorbar": {
              "outlinewidth": 0,
              "ticks": ""
             }
            },
            "type": "scatter3d"
           }
          ],
          "scattercarpet": [
           {
            "marker": {
             "colorbar": {
              "outlinewidth": 0,
              "ticks": ""
             }
            },
            "type": "scattercarpet"
           }
          ],
          "scattergeo": [
           {
            "marker": {
             "colorbar": {
              "outlinewidth": 0,
              "ticks": ""
             }
            },
            "type": "scattergeo"
           }
          ],
          "scattergl": [
           {
            "marker": {
             "colorbar": {
              "outlinewidth": 0,
              "ticks": ""
             }
            },
            "type": "scattergl"
           }
          ],
          "scattermapbox": [
           {
            "marker": {
             "colorbar": {
              "outlinewidth": 0,
              "ticks": ""
             }
            },
            "type": "scattermapbox"
           }
          ],
          "scatterpolar": [
           {
            "marker": {
             "colorbar": {
              "outlinewidth": 0,
              "ticks": ""
             }
            },
            "type": "scatterpolar"
           }
          ],
          "scatterpolargl": [
           {
            "marker": {
             "colorbar": {
              "outlinewidth": 0,
              "ticks": ""
             }
            },
            "type": "scatterpolargl"
           }
          ],
          "scatterternary": [
           {
            "marker": {
             "colorbar": {
              "outlinewidth": 0,
              "ticks": ""
             }
            },
            "type": "scatterternary"
           }
          ],
          "surface": [
           {
            "colorbar": {
             "outlinewidth": 0,
             "ticks": ""
            },
            "colorscale": [
             [
              0,
              "#0d0887"
             ],
             [
              0.1111111111111111,
              "#46039f"
             ],
             [
              0.2222222222222222,
              "#7201a8"
             ],
             [
              0.3333333333333333,
              "#9c179e"
             ],
             [
              0.4444444444444444,
              "#bd3786"
             ],
             [
              0.5555555555555556,
              "#d8576b"
             ],
             [
              0.6666666666666666,
              "#ed7953"
             ],
             [
              0.7777777777777778,
              "#fb9f3a"
             ],
             [
              0.8888888888888888,
              "#fdca26"
             ],
             [
              1,
              "#f0f921"
             ]
            ],
            "type": "surface"
           }
          ],
          "table": [
           {
            "cells": {
             "fill": {
              "color": "#EBF0F8"
             },
             "line": {
              "color": "white"
             }
            },
            "header": {
             "fill": {
              "color": "#C8D4E3"
             },
             "line": {
              "color": "white"
             }
            },
            "type": "table"
           }
          ]
         },
         "layout": {
          "annotationdefaults": {
           "arrowcolor": "#2a3f5f",
           "arrowhead": 0,
           "arrowwidth": 1
          },
          "autotypenumbers": "strict",
          "coloraxis": {
           "colorbar": {
            "outlinewidth": 0,
            "ticks": ""
           }
          },
          "colorscale": {
           "diverging": [
            [
             0,
             "#8e0152"
            ],
            [
             0.1,
             "#c51b7d"
            ],
            [
             0.2,
             "#de77ae"
            ],
            [
             0.3,
             "#f1b6da"
            ],
            [
             0.4,
             "#fde0ef"
            ],
            [
             0.5,
             "#f7f7f7"
            ],
            [
             0.6,
             "#e6f5d0"
            ],
            [
             0.7,
             "#b8e186"
            ],
            [
             0.8,
             "#7fbc41"
            ],
            [
             0.9,
             "#4d9221"
            ],
            [
             1,
             "#276419"
            ]
           ],
           "sequential": [
            [
             0,
             "#0d0887"
            ],
            [
             0.1111111111111111,
             "#46039f"
            ],
            [
             0.2222222222222222,
             "#7201a8"
            ],
            [
             0.3333333333333333,
             "#9c179e"
            ],
            [
             0.4444444444444444,
             "#bd3786"
            ],
            [
             0.5555555555555556,
             "#d8576b"
            ],
            [
             0.6666666666666666,
             "#ed7953"
            ],
            [
             0.7777777777777778,
             "#fb9f3a"
            ],
            [
             0.8888888888888888,
             "#fdca26"
            ],
            [
             1,
             "#f0f921"
            ]
           ],
           "sequentialminus": [
            [
             0,
             "#0d0887"
            ],
            [
             0.1111111111111111,
             "#46039f"
            ],
            [
             0.2222222222222222,
             "#7201a8"
            ],
            [
             0.3333333333333333,
             "#9c179e"
            ],
            [
             0.4444444444444444,
             "#bd3786"
            ],
            [
             0.5555555555555556,
             "#d8576b"
            ],
            [
             0.6666666666666666,
             "#ed7953"
            ],
            [
             0.7777777777777778,
             "#fb9f3a"
            ],
            [
             0.8888888888888888,
             "#fdca26"
            ],
            [
             1,
             "#f0f921"
            ]
           ]
          },
          "colorway": [
           "#636efa",
           "#EF553B",
           "#00cc96",
           "#ab63fa",
           "#FFA15A",
           "#19d3f3",
           "#FF6692",
           "#B6E880",
           "#FF97FF",
           "#FECB52"
          ],
          "font": {
           "color": "#2a3f5f"
          },
          "geo": {
           "bgcolor": "white",
           "lakecolor": "white",
           "landcolor": "#E5ECF6",
           "showlakes": true,
           "showland": true,
           "subunitcolor": "white"
          },
          "hoverlabel": {
           "align": "left"
          },
          "hovermode": "closest",
          "mapbox": {
           "style": "light"
          },
          "paper_bgcolor": "white",
          "plot_bgcolor": "#E5ECF6",
          "polar": {
           "angularaxis": {
            "gridcolor": "white",
            "linecolor": "white",
            "ticks": ""
           },
           "bgcolor": "#E5ECF6",
           "radialaxis": {
            "gridcolor": "white",
            "linecolor": "white",
            "ticks": ""
           }
          },
          "scene": {
           "xaxis": {
            "backgroundcolor": "#E5ECF6",
            "gridcolor": "white",
            "gridwidth": 2,
            "linecolor": "white",
            "showbackground": true,
            "ticks": "",
            "zerolinecolor": "white"
           },
           "yaxis": {
            "backgroundcolor": "#E5ECF6",
            "gridcolor": "white",
            "gridwidth": 2,
            "linecolor": "white",
            "showbackground": true,
            "ticks": "",
            "zerolinecolor": "white"
           },
           "zaxis": {
            "backgroundcolor": "#E5ECF6",
            "gridcolor": "white",
            "gridwidth": 2,
            "linecolor": "white",
            "showbackground": true,
            "ticks": "",
            "zerolinecolor": "white"
           }
          },
          "shapedefaults": {
           "line": {
            "color": "#2a3f5f"
           }
          },
          "ternary": {
           "aaxis": {
            "gridcolor": "white",
            "linecolor": "white",
            "ticks": ""
           },
           "baxis": {
            "gridcolor": "white",
            "linecolor": "white",
            "ticks": ""
           },
           "bgcolor": "#E5ECF6",
           "caxis": {
            "gridcolor": "white",
            "linecolor": "white",
            "ticks": ""
           }
          },
          "title": {
           "x": 0.05
          },
          "xaxis": {
           "automargin": true,
           "gridcolor": "white",
           "linecolor": "white",
           "ticks": "",
           "title": {
            "standoff": 15
           },
           "zerolinecolor": "white",
           "zerolinewidth": 2
          },
          "yaxis": {
           "automargin": true,
           "gridcolor": "white",
           "linecolor": "white",
           "ticks": "",
           "title": {
            "standoff": 15
           },
           "zerolinecolor": "white",
           "zerolinewidth": 2
          }
         }
        },
        "title": {
         "text": "Figure 1: Compararive Beatles Album Scores for Selected Audio Features"
        },
        "width": 800,
        "xaxis": {
         "anchor": "y",
         "domain": [
          0,
          1
         ],
         "title": {
          "text": "album"
         }
        },
        "yaxis": {
         "anchor": "x",
         "domain": [
          0,
          1
         ],
         "title": {
          "text": "value"
         }
        }
       }
      },
      "text/html": [
       "<div>                            <div id=\"e11f7392-2e25-4296-8e0b-8a6de353f130\" class=\"plotly-graph-div\" style=\"height:600px; width:800px;\"></div>            <script type=\"text/javascript\">                require([\"plotly\"], function(Plotly) {                    window.PLOTLYENV=window.PLOTLYENV || {};                                    if (document.getElementById(\"e11f7392-2e25-4296-8e0b-8a6de353f130\")) {                    Plotly.newPlot(                        \"e11f7392-2e25-4296-8e0b-8a6de353f130\",                        [{\"alignmentgroup\":\"True\",\"hovertemplate\":\"variable=danceability\\u003cbr\\u003ealbum=%{x}\\u003cbr\\u003evalue=%{y}\\u003cextra\\u003e\\u003c\\u002fextra\\u003e\",\"legendgroup\":\"danceability\",\"marker\":{\"color\":\"rgb(102, 197, 204)\",\"pattern\":{\"shape\":\"\"}},\"name\":\"danceability\",\"offsetgroup\":\"danceability\",\"orientation\":\"v\",\"showlegend\":true,\"textposition\":\"auto\",\"x\":[\"Please Please Me\",\"With The Beatles\",\"A Hard Day's Night\",\"Beatles for Sale\",\"Help!\",\"Rubber Soul\",\"Revolver\",\"Magical Mystery Tour\",\"Sgt. Pepper's Lonely Hearts Club Band\",\"The Beatles (white album)\",\"Abbey Road\",\"Yellow Submarine\",\"Let It Be\"],\"xaxis\":\"x\",\"y\":[0.5479285714285714,0.5003571428571428,0.6005833333333334,0.5922857142857143,0.528,0.5877857142857142,0.4824285714285714,0.46772727272727277,0.5153846153846154,0.5025666666666667,0.518,0.37041666666666667,0.5204166666666666],\"yaxis\":\"y\",\"type\":\"bar\"},{\"alignmentgroup\":\"True\",\"hovertemplate\":\"variable=energy\\u003cbr\\u003ealbum=%{x}\\u003cbr\\u003evalue=%{y}\\u003cextra\\u003e\\u003c\\u002fextra\\u003e\",\"legendgroup\":\"energy\",\"marker\":{\"color\":\"rgb(246, 207, 113)\",\"pattern\":{\"shape\":\"\"}},\"name\":\"energy\",\"offsetgroup\":\"energy\",\"orientation\":\"v\",\"showlegend\":true,\"textposition\":\"auto\",\"x\":[\"Please Please Me\",\"With The Beatles\",\"A Hard Day's Night\",\"Beatles for Sale\",\"Help!\",\"Rubber Soul\",\"Revolver\",\"Magical Mystery Tour\",\"Sgt. Pepper's Lonely Hearts Club Band\",\"The Beatles (white album)\",\"Abbey Road\",\"Yellow Submarine\",\"Let It Be\"],\"xaxis\":\"x\",\"y\":[0.5997857142857143,0.676142857142857,0.5946666666666667,0.5964285714285714,0.6109285714285715,0.5393571428571429,0.5305714285714286,0.48654545454545456,0.4825384615384615,0.50381,0.4571764705882353,0.36271666666666663,0.5459166666666667],\"yaxis\":\"y\",\"type\":\"bar\"},{\"alignmentgroup\":\"True\",\"hovertemplate\":\"variable=acousticness\\u003cbr\\u003ealbum=%{x}\\u003cbr\\u003evalue=%{y}\\u003cextra\\u003e\\u003c\\u002fextra\\u003e\",\"legendgroup\":\"acousticness\",\"marker\":{\"color\":\"rgb(248, 156, 116)\",\"pattern\":{\"shape\":\"\"}},\"name\":\"acousticness\",\"offsetgroup\":\"acousticness\",\"orientation\":\"v\",\"showlegend\":true,\"textposition\":\"auto\",\"x\":[\"Please Please Me\",\"With The Beatles\",\"A Hard Day's Night\",\"Beatles for Sale\",\"Help!\",\"Rubber Soul\",\"Revolver\",\"Magical Mystery Tour\",\"Sgt. Pepper's Lonely Hearts Club Band\",\"The Beatles (white album)\",\"Abbey Road\",\"Yellow Submarine\",\"Let It Be\"],\"xaxis\":\"x\",\"y\":[0.5755,0.4170714285714286,0.37880833333333336,0.525,0.29538571428571425,0.15080642857142856,0.4061345714285714,0.31127272727272726,0.29876153846153847,0.39528982333333335,0.22496411764705884,0.549357,0.36405],\"yaxis\":\"y\",\"type\":\"bar\"}],                        {\"template\":{\"data\":{\"histogram2dcontour\":[{\"type\":\"histogram2dcontour\",\"colorbar\":{\"outlinewidth\":0,\"ticks\":\"\"},\"colorscale\":[[0.0,\"#0d0887\"],[0.1111111111111111,\"#46039f\"],[0.2222222222222222,\"#7201a8\"],[0.3333333333333333,\"#9c179e\"],[0.4444444444444444,\"#bd3786\"],[0.5555555555555556,\"#d8576b\"],[0.6666666666666666,\"#ed7953\"],[0.7777777777777778,\"#fb9f3a\"],[0.8888888888888888,\"#fdca26\"],[1.0,\"#f0f921\"]]}],\"choropleth\":[{\"type\":\"choropleth\",\"colorbar\":{\"outlinewidth\":0,\"ticks\":\"\"}}],\"histogram2d\":[{\"type\":\"histogram2d\",\"colorbar\":{\"outlinewidth\":0,\"ticks\":\"\"},\"colorscale\":[[0.0,\"#0d0887\"],[0.1111111111111111,\"#46039f\"],[0.2222222222222222,\"#7201a8\"],[0.3333333333333333,\"#9c179e\"],[0.4444444444444444,\"#bd3786\"],[0.5555555555555556,\"#d8576b\"],[0.6666666666666666,\"#ed7953\"],[0.7777777777777778,\"#fb9f3a\"],[0.8888888888888888,\"#fdca26\"],[1.0,\"#f0f921\"]]}],\"heatmap\":[{\"type\":\"heatmap\",\"colorbar\":{\"outlinewidth\":0,\"ticks\":\"\"},\"colorscale\":[[0.0,\"#0d0887\"],[0.1111111111111111,\"#46039f\"],[0.2222222222222222,\"#7201a8\"],[0.3333333333333333,\"#9c179e\"],[0.4444444444444444,\"#bd3786\"],[0.5555555555555556,\"#d8576b\"],[0.6666666666666666,\"#ed7953\"],[0.7777777777777778,\"#fb9f3a\"],[0.8888888888888888,\"#fdca26\"],[1.0,\"#f0f921\"]]}],\"heatmapgl\":[{\"type\":\"heatmapgl\",\"colorbar\":{\"outlinewidth\":0,\"ticks\":\"\"},\"colorscale\":[[0.0,\"#0d0887\"],[0.1111111111111111,\"#46039f\"],[0.2222222222222222,\"#7201a8\"],[0.3333333333333333,\"#9c179e\"],[0.4444444444444444,\"#bd3786\"],[0.5555555555555556,\"#d8576b\"],[0.6666666666666666,\"#ed7953\"],[0.7777777777777778,\"#fb9f3a\"],[0.8888888888888888,\"#fdca26\"],[1.0,\"#f0f921\"]]}],\"contourcarpet\":[{\"type\":\"contourcarpet\",\"colorbar\":{\"outlinewidth\":0,\"ticks\":\"\"}}],\"contour\":[{\"type\":\"contour\",\"colorbar\":{\"outlinewidth\":0,\"ticks\":\"\"},\"colorscale\":[[0.0,\"#0d0887\"],[0.1111111111111111,\"#46039f\"],[0.2222222222222222,\"#7201a8\"],[0.3333333333333333,\"#9c179e\"],[0.4444444444444444,\"#bd3786\"],[0.5555555555555556,\"#d8576b\"],[0.6666666666666666,\"#ed7953\"],[0.7777777777777778,\"#fb9f3a\"],[0.8888888888888888,\"#fdca26\"],[1.0,\"#f0f921\"]]}],\"surface\":[{\"type\":\"surface\",\"colorbar\":{\"outlinewidth\":0,\"ticks\":\"\"},\"colorscale\":[[0.0,\"#0d0887\"],[0.1111111111111111,\"#46039f\"],[0.2222222222222222,\"#7201a8\"],[0.3333333333333333,\"#9c179e\"],[0.4444444444444444,\"#bd3786\"],[0.5555555555555556,\"#d8576b\"],[0.6666666666666666,\"#ed7953\"],[0.7777777777777778,\"#fb9f3a\"],[0.8888888888888888,\"#fdca26\"],[1.0,\"#f0f921\"]]}],\"mesh3d\":[{\"type\":\"mesh3d\",\"colorbar\":{\"outlinewidth\":0,\"ticks\":\"\"}}],\"scatter\":[{\"fillpattern\":{\"fillmode\":\"overlay\",\"size\":10,\"solidity\":0.2},\"type\":\"scatter\"}],\"parcoords\":[{\"type\":\"parcoords\",\"line\":{\"colorbar\":{\"outlinewidth\":0,\"ticks\":\"\"}}}],\"scatterpolargl\":[{\"type\":\"scatterpolargl\",\"marker\":{\"colorbar\":{\"outlinewidth\":0,\"ticks\":\"\"}}}],\"bar\":[{\"error_x\":{\"color\":\"#2a3f5f\"},\"error_y\":{\"color\":\"#2a3f5f\"},\"marker\":{\"line\":{\"color\":\"#E5ECF6\",\"width\":0.5},\"pattern\":{\"fillmode\":\"overlay\",\"size\":10,\"solidity\":0.2}},\"type\":\"bar\"}],\"scattergeo\":[{\"type\":\"scattergeo\",\"marker\":{\"colorbar\":{\"outlinewidth\":0,\"ticks\":\"\"}}}],\"scatterpolar\":[{\"type\":\"scatterpolar\",\"marker\":{\"colorbar\":{\"outlinewidth\":0,\"ticks\":\"\"}}}],\"histogram\":[{\"marker\":{\"pattern\":{\"fillmode\":\"overlay\",\"size\":10,\"solidity\":0.2}},\"type\":\"histogram\"}],\"scattergl\":[{\"type\":\"scattergl\",\"marker\":{\"colorbar\":{\"outlinewidth\":0,\"ticks\":\"\"}}}],\"scatter3d\":[{\"type\":\"scatter3d\",\"line\":{\"colorbar\":{\"outlinewidth\":0,\"ticks\":\"\"}},\"marker\":{\"colorbar\":{\"outlinewidth\":0,\"ticks\":\"\"}}}],\"scattermapbox\":[{\"type\":\"scattermapbox\",\"marker\":{\"colorbar\":{\"outlinewidth\":0,\"ticks\":\"\"}}}],\"scatterternary\":[{\"type\":\"scatterternary\",\"marker\":{\"colorbar\":{\"outlinewidth\":0,\"ticks\":\"\"}}}],\"scattercarpet\":[{\"type\":\"scattercarpet\",\"marker\":{\"colorbar\":{\"outlinewidth\":0,\"ticks\":\"\"}}}],\"carpet\":[{\"aaxis\":{\"endlinecolor\":\"#2a3f5f\",\"gridcolor\":\"white\",\"linecolor\":\"white\",\"minorgridcolor\":\"white\",\"startlinecolor\":\"#2a3f5f\"},\"baxis\":{\"endlinecolor\":\"#2a3f5f\",\"gridcolor\":\"white\",\"linecolor\":\"white\",\"minorgridcolor\":\"white\",\"startlinecolor\":\"#2a3f5f\"},\"type\":\"carpet\"}],\"table\":[{\"cells\":{\"fill\":{\"color\":\"#EBF0F8\"},\"line\":{\"color\":\"white\"}},\"header\":{\"fill\":{\"color\":\"#C8D4E3\"},\"line\":{\"color\":\"white\"}},\"type\":\"table\"}],\"barpolar\":[{\"marker\":{\"line\":{\"color\":\"#E5ECF6\",\"width\":0.5},\"pattern\":{\"fillmode\":\"overlay\",\"size\":10,\"solidity\":0.2}},\"type\":\"barpolar\"}],\"pie\":[{\"automargin\":true,\"type\":\"pie\"}]},\"layout\":{\"autotypenumbers\":\"strict\",\"colorway\":[\"#636efa\",\"#EF553B\",\"#00cc96\",\"#ab63fa\",\"#FFA15A\",\"#19d3f3\",\"#FF6692\",\"#B6E880\",\"#FF97FF\",\"#FECB52\"],\"font\":{\"color\":\"#2a3f5f\"},\"hovermode\":\"closest\",\"hoverlabel\":{\"align\":\"left\"},\"paper_bgcolor\":\"white\",\"plot_bgcolor\":\"#E5ECF6\",\"polar\":{\"bgcolor\":\"#E5ECF6\",\"angularaxis\":{\"gridcolor\":\"white\",\"linecolor\":\"white\",\"ticks\":\"\"},\"radialaxis\":{\"gridcolor\":\"white\",\"linecolor\":\"white\",\"ticks\":\"\"}},\"ternary\":{\"bgcolor\":\"#E5ECF6\",\"aaxis\":{\"gridcolor\":\"white\",\"linecolor\":\"white\",\"ticks\":\"\"},\"baxis\":{\"gridcolor\":\"white\",\"linecolor\":\"white\",\"ticks\":\"\"},\"caxis\":{\"gridcolor\":\"white\",\"linecolor\":\"white\",\"ticks\":\"\"}},\"coloraxis\":{\"colorbar\":{\"outlinewidth\":0,\"ticks\":\"\"}},\"colorscale\":{\"sequential\":[[0.0,\"#0d0887\"],[0.1111111111111111,\"#46039f\"],[0.2222222222222222,\"#7201a8\"],[0.3333333333333333,\"#9c179e\"],[0.4444444444444444,\"#bd3786\"],[0.5555555555555556,\"#d8576b\"],[0.6666666666666666,\"#ed7953\"],[0.7777777777777778,\"#fb9f3a\"],[0.8888888888888888,\"#fdca26\"],[1.0,\"#f0f921\"]],\"sequentialminus\":[[0.0,\"#0d0887\"],[0.1111111111111111,\"#46039f\"],[0.2222222222222222,\"#7201a8\"],[0.3333333333333333,\"#9c179e\"],[0.4444444444444444,\"#bd3786\"],[0.5555555555555556,\"#d8576b\"],[0.6666666666666666,\"#ed7953\"],[0.7777777777777778,\"#fb9f3a\"],[0.8888888888888888,\"#fdca26\"],[1.0,\"#f0f921\"]],\"diverging\":[[0,\"#8e0152\"],[0.1,\"#c51b7d\"],[0.2,\"#de77ae\"],[0.3,\"#f1b6da\"],[0.4,\"#fde0ef\"],[0.5,\"#f7f7f7\"],[0.6,\"#e6f5d0\"],[0.7,\"#b8e186\"],[0.8,\"#7fbc41\"],[0.9,\"#4d9221\"],[1,\"#276419\"]]},\"xaxis\":{\"gridcolor\":\"white\",\"linecolor\":\"white\",\"ticks\":\"\",\"title\":{\"standoff\":15},\"zerolinecolor\":\"white\",\"automargin\":true,\"zerolinewidth\":2},\"yaxis\":{\"gridcolor\":\"white\",\"linecolor\":\"white\",\"ticks\":\"\",\"title\":{\"standoff\":15},\"zerolinecolor\":\"white\",\"automargin\":true,\"zerolinewidth\":2},\"scene\":{\"xaxis\":{\"backgroundcolor\":\"#E5ECF6\",\"gridcolor\":\"white\",\"linecolor\":\"white\",\"showbackground\":true,\"ticks\":\"\",\"zerolinecolor\":\"white\",\"gridwidth\":2},\"yaxis\":{\"backgroundcolor\":\"#E5ECF6\",\"gridcolor\":\"white\",\"linecolor\":\"white\",\"showbackground\":true,\"ticks\":\"\",\"zerolinecolor\":\"white\",\"gridwidth\":2},\"zaxis\":{\"backgroundcolor\":\"#E5ECF6\",\"gridcolor\":\"white\",\"linecolor\":\"white\",\"showbackground\":true,\"ticks\":\"\",\"zerolinecolor\":\"white\",\"gridwidth\":2}},\"shapedefaults\":{\"line\":{\"color\":\"#2a3f5f\"}},\"annotationdefaults\":{\"arrowcolor\":\"#2a3f5f\",\"arrowhead\":0,\"arrowwidth\":1},\"geo\":{\"bgcolor\":\"white\",\"landcolor\":\"#E5ECF6\",\"subunitcolor\":\"white\",\"showland\":true,\"showlakes\":true,\"lakecolor\":\"white\"},\"title\":{\"x\":0.05},\"mapbox\":{\"style\":\"light\"}}},\"xaxis\":{\"anchor\":\"y\",\"domain\":[0.0,1.0],\"title\":{\"text\":\"album\"}},\"yaxis\":{\"anchor\":\"x\",\"domain\":[0.0,1.0],\"title\":{\"text\":\"value\"}},\"legend\":{\"title\":{\"text\":\"variable\"},\"tracegroupgap\":0},\"title\":{\"text\":\"Figure 1: Compararive Beatles Album Scores for Selected Audio Features\"},\"barmode\":\"group\",\"width\":800,\"height\":600},                        {\"responsive\": true}                    ).then(function(){\n",
       "                            \n",
       "var gd = document.getElementById('e11f7392-2e25-4296-8e0b-8a6de353f130');\n",
       "var x = new MutationObserver(function (mutations, observer) {{\n",
       "        var display = window.getComputedStyle(gd).display;\n",
       "        if (!display || display === 'none') {{\n",
       "            console.log([gd, 'removed!']);\n",
       "            Plotly.purge(gd);\n",
       "            observer.disconnect();\n",
       "        }}\n",
       "}});\n",
       "\n",
       "// Listen for the removal of the full notebook cells\n",
       "var notebookContainer = gd.closest('#notebook-container');\n",
       "if (notebookContainer) {{\n",
       "    x.observe(notebookContainer, {childList: true});\n",
       "}}\n",
       "\n",
       "// Listen for the clearing of the current output cell\n",
       "var outputEl = gd.closest('.output');\n",
       "if (outputEl) {{\n",
       "    x.observe(outputEl, {childList: true});\n",
       "}}\n",
       "\n",
       "                        })                };                });            </script>        </div>"
      ]
     },
     "metadata": {},
     "output_type": "display_data"
    }
   ],
   "source": [
    "fig = px.bar(grouped_data,\n",
    "             x='album',\n",
    "             y=['danceability', 'energy', 'acousticness'],\n",
    "             labels={'danceability': 'Danceability', 'energy': 'Energy', 'acousticness': 'Acousticness'},\n",
    "             title='Figure 1: Compararive Beatles Album Scores for Selected Audio Features',\n",
    "             color_discrete_sequence=px.colors.qualitative.Pastel)\n",
    "\n",
    "# Update layout for better visualization\n",
    "fig.update_layout(barmode='group', width=800, height=600)\n",
    "\n",
    "# Show the figure\n",
    "fig.show()"
   ]
  },
  {
   "cell_type": "markdown",
   "id": "8153abe2-228e-43ce-bb71-bf56836a95e7",
   "metadata": {},
   "source": [
    "#### 2d:  Exploring Rubber Soul Features"
   ]
  },
  {
   "cell_type": "code",
   "execution_count": 30,
   "id": "a1e2eb77-7958-4e7f-ae81-5d7308e0d587",
   "metadata": {
    "tags": []
   },
   "outputs": [
    {
     "data": {
      "text/html": [
       "<style type=\"text/css\">\n",
       "#T_6d692 caption {\n",
       "  color: black;\n",
       "  font-size: 18px;\n",
       "}\n",
       "</style>\n",
       "<table id=\"T_6d692\">\n",
       "  <caption>Table 2: Rubber Soul Audio Features</caption>\n",
       "  <thead>\n",
       "    <tr>\n",
       "      <th class=\"blank level0\" >&nbsp;</th>\n",
       "      <th id=\"T_6d692_level0_col0\" class=\"col_heading level0 col0\" >year</th>\n",
       "      <th id=\"T_6d692_level0_col1\" class=\"col_heading level0 col1\" >album</th>\n",
       "      <th id=\"T_6d692_level0_col2\" class=\"col_heading level0 col2\" >song</th>\n",
       "      <th id=\"T_6d692_level0_col3\" class=\"col_heading level0 col3\" >danceability</th>\n",
       "      <th id=\"T_6d692_level0_col4\" class=\"col_heading level0 col4\" >energy</th>\n",
       "      <th id=\"T_6d692_level0_col5\" class=\"col_heading level0 col5\" >key</th>\n",
       "      <th id=\"T_6d692_level0_col6\" class=\"col_heading level0 col6\" >loudness</th>\n",
       "      <th id=\"T_6d692_level0_col7\" class=\"col_heading level0 col7\" >mode</th>\n",
       "      <th id=\"T_6d692_level0_col8\" class=\"col_heading level0 col8\" >speechiness</th>\n",
       "      <th id=\"T_6d692_level0_col9\" class=\"col_heading level0 col9\" >acousticness</th>\n",
       "      <th id=\"T_6d692_level0_col10\" class=\"col_heading level0 col10\" >instrumentalness</th>\n",
       "      <th id=\"T_6d692_level0_col11\" class=\"col_heading level0 col11\" >liveness</th>\n",
       "      <th id=\"T_6d692_level0_col12\" class=\"col_heading level0 col12\" >valence</th>\n",
       "      <th id=\"T_6d692_level0_col13\" class=\"col_heading level0 col13\" >tempo</th>\n",
       "      <th id=\"T_6d692_level0_col14\" class=\"col_heading level0 col14\" >Unnamed: 14</th>\n",
       "      <th id=\"T_6d692_level0_col15\" class=\"col_heading level0 col15\" >duration_ms</th>\n",
       "      <th id=\"T_6d692_level0_col16\" class=\"col_heading level0 col16\" >time_signature</th>\n",
       "    </tr>\n",
       "  </thead>\n",
       "  <tbody>\n",
       "    <tr>\n",
       "      <th id=\"T_6d692_level0_row0\" class=\"row_heading level0 row0\" >39</th>\n",
       "      <td id=\"T_6d692_row0_col0\" class=\"data row0 col0\" >1965</td>\n",
       "      <td id=\"T_6d692_row0_col1\" class=\"data row0 col1\" >Rubber Soul</td>\n",
       "      <td id=\"T_6d692_row0_col2\" class=\"data row0 col2\" >Drive My Car</td>\n",
       "      <td id=\"T_6d692_row0_col3\" class=\"data row0 col3\" >0.754000</td>\n",
       "      <td id=\"T_6d692_row0_col4\" class=\"data row0 col4\" >0.571000</td>\n",
       "      <td id=\"T_6d692_row0_col5\" class=\"data row0 col5\" >2</td>\n",
       "      <td id=\"T_6d692_row0_col6\" class=\"data row0 col6\" >-8.547000</td>\n",
       "      <td id=\"T_6d692_row0_col7\" class=\"data row0 col7\" >1</td>\n",
       "      <td id=\"T_6d692_row0_col8\" class=\"data row0 col8\" >0.042100</td>\n",
       "      <td id=\"T_6d692_row0_col9\" class=\"data row0 col9\" >0.017300</td>\n",
       "      <td id=\"T_6d692_row0_col10\" class=\"data row0 col10\" >0.000000</td>\n",
       "      <td id=\"T_6d692_row0_col11\" class=\"data row0 col11\" >0.300000</td>\n",
       "      <td id=\"T_6d692_row0_col12\" class=\"data row0 col12\" >0.820000</td>\n",
       "      <td id=\"T_6d692_row0_col13\" class=\"data row0 col13\" >122.463</td>\n",
       "      <td id=\"T_6d692_row0_col14\" class=\"data row0 col14\" >https://open.spotify.com/track/06ypiqmILMdVeaiErMFA91</td>\n",
       "      <td id=\"T_6d692_row0_col15\" class=\"data row0 col15\" >148893</td>\n",
       "      <td id=\"T_6d692_row0_col16\" class=\"data row0 col16\" >4</td>\n",
       "    </tr>\n",
       "    <tr>\n",
       "      <th id=\"T_6d692_level0_row1\" class=\"row_heading level0 row1\" >51</th>\n",
       "      <td id=\"T_6d692_row1_col0\" class=\"data row1 col0\" >1965</td>\n",
       "      <td id=\"T_6d692_row1_col1\" class=\"data row1 col1\" >Rubber Soul</td>\n",
       "      <td id=\"T_6d692_row1_col2\" class=\"data row1 col2\" >Girl</td>\n",
       "      <td id=\"T_6d692_row1_col3\" class=\"data row1 col3\" >0.699000</td>\n",
       "      <td id=\"T_6d692_row1_col4\" class=\"data row1 col4\" >0.294000</td>\n",
       "      <td id=\"T_6d692_row1_col5\" class=\"data row1 col5\" >5</td>\n",
       "      <td id=\"T_6d692_row1_col6\" class=\"data row1 col6\" >-13.205000</td>\n",
       "      <td id=\"T_6d692_row1_col7\" class=\"data row1 col7\" >0</td>\n",
       "      <td id=\"T_6d692_row1_col8\" class=\"data row1 col8\" >0.029400</td>\n",
       "      <td id=\"T_6d692_row1_col9\" class=\"data row1 col9\" >0.587000</td>\n",
       "      <td id=\"T_6d692_row1_col10\" class=\"data row1 col10\" >0.000000</td>\n",
       "      <td id=\"T_6d692_row1_col11\" class=\"data row1 col11\" >0.117000</td>\n",
       "      <td id=\"T_6d692_row1_col12\" class=\"data row1 col12\" >0.893000</td>\n",
       "      <td id=\"T_6d692_row1_col13\" class=\"data row1 col13\" >96.615</td>\n",
       "      <td id=\"T_6d692_row1_col14\" class=\"data row1 col14\" >https://open.spotify.com/track/6tQvjqDIK9GXWIC6mejms8</td>\n",
       "      <td id=\"T_6d692_row1_col15\" class=\"data row1 col15\" >151720</td>\n",
       "      <td id=\"T_6d692_row1_col16\" class=\"data row1 col16\" >4</td>\n",
       "    </tr>\n",
       "    <tr>\n",
       "      <th id=\"T_6d692_level0_row2\" class=\"row_heading level0 row2\" >80</th>\n",
       "      <td id=\"T_6d692_row2_col0\" class=\"data row2 col0\" >1965</td>\n",
       "      <td id=\"T_6d692_row2_col1\" class=\"data row2 col1\" >Rubber Soul</td>\n",
       "      <td id=\"T_6d692_row2_col2\" class=\"data row2 col2\" >if I needed someone</td>\n",
       "      <td id=\"T_6d692_row2_col3\" class=\"data row2 col3\" >0.492000</td>\n",
       "      <td id=\"T_6d692_row2_col4\" class=\"data row2 col4\" >0.755000</td>\n",
       "      <td id=\"T_6d692_row2_col5\" class=\"data row2 col5\" >9</td>\n",
       "      <td id=\"T_6d692_row2_col6\" class=\"data row2 col6\" >-9.273000</td>\n",
       "      <td id=\"T_6d692_row2_col7\" class=\"data row2 col7\" >1</td>\n",
       "      <td id=\"T_6d692_row2_col8\" class=\"data row2 col8\" >0.033100</td>\n",
       "      <td id=\"T_6d692_row2_col9\" class=\"data row2 col9\" >0.007480</td>\n",
       "      <td id=\"T_6d692_row2_col10\" class=\"data row2 col10\" >0.000000</td>\n",
       "      <td id=\"T_6d692_row2_col11\" class=\"data row2 col11\" >0.102000</td>\n",
       "      <td id=\"T_6d692_row2_col12\" class=\"data row2 col12\" >0.796000</td>\n",
       "      <td id=\"T_6d692_row2_col13\" class=\"data row2 col13\" >127.387</td>\n",
       "      <td id=\"T_6d692_row2_col14\" class=\"data row2 col14\" >https://open.spotify.com/track/7C6hdDIz90Uf5YmdZnYbJJ</td>\n",
       "      <td id=\"T_6d692_row2_col15\" class=\"data row2 col15\" >142267</td>\n",
       "      <td id=\"T_6d692_row2_col16\" class=\"data row2 col16\" >4</td>\n",
       "    </tr>\n",
       "    <tr>\n",
       "      <th id=\"T_6d692_level0_row3\" class=\"row_heading level0 row3\" >86</th>\n",
       "      <td id=\"T_6d692_row3_col0\" class=\"data row3 col0\" >1965</td>\n",
       "      <td id=\"T_6d692_row3_col1\" class=\"data row3 col1\" >Rubber Soul</td>\n",
       "      <td id=\"T_6d692_row3_col2\" class=\"data row3 col2\" >I'm Looking Through You</td>\n",
       "      <td id=\"T_6d692_row3_col3\" class=\"data row3 col3\" >0.667000</td>\n",
       "      <td id=\"T_6d692_row3_col4\" class=\"data row3 col4\" >0.498000</td>\n",
       "      <td id=\"T_6d692_row3_col5\" class=\"data row3 col5\" >1</td>\n",
       "      <td id=\"T_6d692_row3_col6\" class=\"data row3 col6\" >-11.027000</td>\n",
       "      <td id=\"T_6d692_row3_col7\" class=\"data row3 col7\" >1</td>\n",
       "      <td id=\"T_6d692_row3_col8\" class=\"data row3 col8\" >0.036400</td>\n",
       "      <td id=\"T_6d692_row3_col9\" class=\"data row3 col9\" >0.007720</td>\n",
       "      <td id=\"T_6d692_row3_col10\" class=\"data row3 col10\" >0.000000</td>\n",
       "      <td id=\"T_6d692_row3_col11\" class=\"data row3 col11\" >0.048100</td>\n",
       "      <td id=\"T_6d692_row3_col12\" class=\"data row3 col12\" >0.774000</td>\n",
       "      <td id=\"T_6d692_row3_col13\" class=\"data row3 col13\" >85.843</td>\n",
       "      <td id=\"T_6d692_row3_col14\" class=\"data row3 col14\" >https://open.spotify.com/track/5E3BVY66TEDexFutOO5GeS</td>\n",
       "      <td id=\"T_6d692_row3_col15\" class=\"data row3 col15\" >146387</td>\n",
       "      <td id=\"T_6d692_row3_col16\" class=\"data row3 col16\" >4</td>\n",
       "    </tr>\n",
       "    <tr>\n",
       "      <th id=\"T_6d692_level0_row4\" class=\"row_heading level0 row4\" >89</th>\n",
       "      <td id=\"T_6d692_row4_col0\" class=\"data row4 col0\" >1965</td>\n",
       "      <td id=\"T_6d692_row4_col1\" class=\"data row4 col1\" >Rubber Soul</td>\n",
       "      <td id=\"T_6d692_row4_col2\" class=\"data row4 col2\" >In My Life</td>\n",
       "      <td id=\"T_6d692_row4_col3\" class=\"data row4 col3\" >0.688000</td>\n",
       "      <td id=\"T_6d692_row4_col4\" class=\"data row4 col4\" >0.435000</td>\n",
       "      <td id=\"T_6d692_row4_col5\" class=\"data row4 col5\" >9</td>\n",
       "      <td id=\"T_6d692_row4_col6\" class=\"data row4 col6\" >-11.359000</td>\n",
       "      <td id=\"T_6d692_row4_col7\" class=\"data row4 col7\" >1</td>\n",
       "      <td id=\"T_6d692_row4_col8\" class=\"data row4 col8\" >0.032300</td>\n",
       "      <td id=\"T_6d692_row4_col9\" class=\"data row4 col9\" >0.449000</td>\n",
       "      <td id=\"T_6d692_row4_col10\" class=\"data row4 col10\" >0.000000</td>\n",
       "      <td id=\"T_6d692_row4_col11\" class=\"data row4 col11\" >0.113000</td>\n",
       "      <td id=\"T_6d692_row4_col12\" class=\"data row4 col12\" >0.435000</td>\n",
       "      <td id=\"T_6d692_row4_col13\" class=\"data row4 col13\" >103.239</td>\n",
       "      <td id=\"T_6d692_row4_col14\" class=\"data row4 col14\" >https://open.spotify.com/track/3KfbEIOC7YIv90FIfNSZpo</td>\n",
       "      <td id=\"T_6d692_row4_col15\" class=\"data row4 col15\" >146333</td>\n",
       "      <td id=\"T_6d692_row4_col16\" class=\"data row4 col16\" >4</td>\n",
       "    </tr>\n",
       "    <tr>\n",
       "      <th id=\"T_6d692_level0_row5\" class=\"row_heading level0 row5\" >110</th>\n",
       "      <td id=\"T_6d692_row5_col0\" class=\"data row5 col0\" >1965</td>\n",
       "      <td id=\"T_6d692_row5_col1\" class=\"data row5 col1\" >Rubber Soul</td>\n",
       "      <td id=\"T_6d692_row5_col2\" class=\"data row5 col2\" >Michelle</td>\n",
       "      <td id=\"T_6d692_row5_col3\" class=\"data row5 col3\" >0.578000</td>\n",
       "      <td id=\"T_6d692_row5_col4\" class=\"data row5 col4\" >0.290000</td>\n",
       "      <td id=\"T_6d692_row5_col5\" class=\"data row5 col5\" >5</td>\n",
       "      <td id=\"T_6d692_row5_col6\" class=\"data row5 col6\" >-12.501000</td>\n",
       "      <td id=\"T_6d692_row5_col7\" class=\"data row5 col7\" >0</td>\n",
       "      <td id=\"T_6d692_row5_col8\" class=\"data row5 col8\" >0.034100</td>\n",
       "      <td id=\"T_6d692_row5_col9\" class=\"data row5 col9\" >0.652000</td>\n",
       "      <td id=\"T_6d692_row5_col10\" class=\"data row5 col10\" >0.000000</td>\n",
       "      <td id=\"T_6d692_row5_col11\" class=\"data row5 col11\" >0.105000</td>\n",
       "      <td id=\"T_6d692_row5_col12\" class=\"data row5 col12\" >0.666000</td>\n",
       "      <td id=\"T_6d692_row5_col13\" class=\"data row5 col13\" >117.403</td>\n",
       "      <td id=\"T_6d692_row5_col14\" class=\"data row5 col14\" >https://open.spotify.com/track/5By7Pzgl6TMuVJG168VWzS</td>\n",
       "      <td id=\"T_6d692_row5_col15\" class=\"data row5 col15\" >162373</td>\n",
       "      <td id=\"T_6d692_row5_col16\" class=\"data row5 col16\" >4</td>\n",
       "    </tr>\n",
       "    <tr>\n",
       "      <th id=\"T_6d692_level0_row6\" class=\"row_heading level0 row6\" >116</th>\n",
       "      <td id=\"T_6d692_row6_col0\" class=\"data row6 col0\" >1965</td>\n",
       "      <td id=\"T_6d692_row6_col1\" class=\"data row6 col1\" >Rubber Soul</td>\n",
       "      <td id=\"T_6d692_row6_col2\" class=\"data row6 col2\" >Norwegian Wood (This Bird Has Flown)</td>\n",
       "      <td id=\"T_6d692_row6_col3\" class=\"data row6 col3\" >0.425000</td>\n",
       "      <td id=\"T_6d692_row6_col4\" class=\"data row6 col4\" >0.369000</td>\n",
       "      <td id=\"T_6d692_row6_col5\" class=\"data row6 col5\" >4</td>\n",
       "      <td id=\"T_6d692_row6_col6\" class=\"data row6 col6\" >-11.876000</td>\n",
       "      <td id=\"T_6d692_row6_col7\" class=\"data row6 col7\" >1</td>\n",
       "      <td id=\"T_6d692_row6_col8\" class=\"data row6 col8\" >0.037900</td>\n",
       "      <td id=\"T_6d692_row6_col9\" class=\"data row6 col9\" >0.183000</td>\n",
       "      <td id=\"T_6d692_row6_col10\" class=\"data row6 col10\" >0.001260</td>\n",
       "      <td id=\"T_6d692_row6_col11\" class=\"data row6 col11\" >0.112000</td>\n",
       "      <td id=\"T_6d692_row6_col12\" class=\"data row6 col12\" >0.650000</td>\n",
       "      <td id=\"T_6d692_row6_col13\" class=\"data row6 col13\" >176.625</td>\n",
       "      <td id=\"T_6d692_row6_col14\" class=\"data row6 col14\" >https://open.spotify.com/track/1H7gMYGykdtwZOV6s1N0by</td>\n",
       "      <td id=\"T_6d692_row6_col15\" class=\"data row6 col15\" >124693</td>\n",
       "      <td id=\"T_6d692_row6_col16\" class=\"data row6 col16\" >3</td>\n",
       "    </tr>\n",
       "    <tr>\n",
       "      <th id=\"T_6d692_level0_row7\" class=\"row_heading level0 row7\" >118</th>\n",
       "      <td id=\"T_6d692_row7_col0\" class=\"data row7 col0\" >1965</td>\n",
       "      <td id=\"T_6d692_row7_col1\" class=\"data row7 col1\" >Rubber Soul</td>\n",
       "      <td id=\"T_6d692_row7_col2\" class=\"data row7 col2\" >Nowhere Man</td>\n",
       "      <td id=\"T_6d692_row7_col3\" class=\"data row7 col3\" >0.534000</td>\n",
       "      <td id=\"T_6d692_row7_col4\" class=\"data row7 col4\" >0.624000</td>\n",
       "      <td id=\"T_6d692_row7_col5\" class=\"data row7 col5\" >4</td>\n",
       "      <td id=\"T_6d692_row7_col6\" class=\"data row7 col6\" >-9.589000</td>\n",
       "      <td id=\"T_6d692_row7_col7\" class=\"data row7 col7\" >1</td>\n",
       "      <td id=\"T_6d692_row7_col8\" class=\"data row7 col8\" >0.046200</td>\n",
       "      <td id=\"T_6d692_row7_col9\" class=\"data row7 col9\" >0.007970</td>\n",
       "      <td id=\"T_6d692_row7_col10\" class=\"data row7 col10\" >0.000000</td>\n",
       "      <td id=\"T_6d692_row7_col11\" class=\"data row7 col11\" >0.128000</td>\n",
       "      <td id=\"T_6d692_row7_col12\" class=\"data row7 col12\" >0.687000</td>\n",
       "      <td id=\"T_6d692_row7_col13\" class=\"data row7 col13\" >121.402</td>\n",
       "      <td id=\"T_6d692_row7_col14\" class=\"data row7 col14\" >https://open.spotify.com/track/5SUlhldQJtOhUr2GzH5RI7</td>\n",
       "      <td id=\"T_6d692_row7_col15\" class=\"data row7 col15\" >163693</td>\n",
       "      <td id=\"T_6d692_row7_col16\" class=\"data row7 col16\" >4</td>\n",
       "    </tr>\n",
       "    <tr>\n",
       "      <th id=\"T_6d692_level0_row8\" class=\"row_heading level0 row8\" >137</th>\n",
       "      <td id=\"T_6d692_row8_col0\" class=\"data row8 col0\" >1965</td>\n",
       "      <td id=\"T_6d692_row8_col1\" class=\"data row8 col1\" >Rubber Soul</td>\n",
       "      <td id=\"T_6d692_row8_col2\" class=\"data row8 col2\" >Run for Your Life</td>\n",
       "      <td id=\"T_6d692_row8_col3\" class=\"data row8 col3\" >0.563000</td>\n",
       "      <td id=\"T_6d692_row8_col4\" class=\"data row8 col4\" >0.705000</td>\n",
       "      <td id=\"T_6d692_row8_col5\" class=\"data row8 col5\" >2</td>\n",
       "      <td id=\"T_6d692_row8_col6\" class=\"data row8 col6\" >-9.232000</td>\n",
       "      <td id=\"T_6d692_row8_col7\" class=\"data row8 col7\" >1</td>\n",
       "      <td id=\"T_6d692_row8_col8\" class=\"data row8 col8\" >0.103000</td>\n",
       "      <td id=\"T_6d692_row8_col9\" class=\"data row8 col9\" >0.010300</td>\n",
       "      <td id=\"T_6d692_row8_col10\" class=\"data row8 col10\" >0.000000</td>\n",
       "      <td id=\"T_6d692_row8_col11\" class=\"data row8 col11\" >0.055200</td>\n",
       "      <td id=\"T_6d692_row8_col12\" class=\"data row8 col12\" >0.822000</td>\n",
       "      <td id=\"T_6d692_row8_col13\" class=\"data row8 col13\" >176.732</td>\n",
       "      <td id=\"T_6d692_row8_col14\" class=\"data row8 col14\" >https://open.spotify.com/track/4gUYV3ktbaOeAK5KrXMWV5</td>\n",
       "      <td id=\"T_6d692_row8_col15\" class=\"data row8 col15\" >141093</td>\n",
       "      <td id=\"T_6d692_row8_col16\" class=\"data row8 col16\" >4</td>\n",
       "    </tr>\n",
       "    <tr>\n",
       "      <th id=\"T_6d692_level0_row9\" class=\"row_heading level0 row9\" >160</th>\n",
       "      <td id=\"T_6d692_row9_col0\" class=\"data row9 col0\" >1965</td>\n",
       "      <td id=\"T_6d692_row9_col1\" class=\"data row9 col1\" >Rubber Soul</td>\n",
       "      <td id=\"T_6d692_row9_col2\" class=\"data row9 col2\" >The Word</td>\n",
       "      <td id=\"T_6d692_row9_col3\" class=\"data row9 col3\" >0.590000</td>\n",
       "      <td id=\"T_6d692_row9_col4\" class=\"data row9 col4\" >0.641000</td>\n",
       "      <td id=\"T_6d692_row9_col5\" class=\"data row9 col5\" >0</td>\n",
       "      <td id=\"T_6d692_row9_col6\" class=\"data row9 col6\" >-9.687000</td>\n",
       "      <td id=\"T_6d692_row9_col7\" class=\"data row9 col7\" >1</td>\n",
       "      <td id=\"T_6d692_row9_col8\" class=\"data row9 col8\" >0.041600</td>\n",
       "      <td id=\"T_6d692_row9_col9\" class=\"data row9 col9\" >0.006820</td>\n",
       "      <td id=\"T_6d692_row9_col10\" class=\"data row9 col10\" >0.000000</td>\n",
       "      <td id=\"T_6d692_row9_col11\" class=\"data row9 col11\" >0.055300</td>\n",
       "      <td id=\"T_6d692_row9_col12\" class=\"data row9 col12\" >0.792000</td>\n",
       "      <td id=\"T_6d692_row9_col13\" class=\"data row9 col13\" >120.773</td>\n",
       "      <td id=\"T_6d692_row9_col14\" class=\"data row9 col14\" >https://open.spotify.com/track/4GBaPHvAyj4V2jeobD9tsy</td>\n",
       "      <td id=\"T_6d692_row9_col15\" class=\"data row9 col15\" >163107</td>\n",
       "      <td id=\"T_6d692_row9_col16\" class=\"data row9 col16\" >4</td>\n",
       "    </tr>\n",
       "    <tr>\n",
       "      <th id=\"T_6d692_level0_row10\" class=\"row_heading level0 row10\" >163</th>\n",
       "      <td id=\"T_6d692_row10_col0\" class=\"data row10 col0\" >1965</td>\n",
       "      <td id=\"T_6d692_row10_col1\" class=\"data row10 col1\" >Rubber Soul</td>\n",
       "      <td id=\"T_6d692_row10_col2\" class=\"data row10 col2\" >Think for Yourself</td>\n",
       "      <td id=\"T_6d692_row10_col3\" class=\"data row10 col3\" >0.529000</td>\n",
       "      <td id=\"T_6d692_row10_col4\" class=\"data row10 col4\" >0.567000</td>\n",
       "      <td id=\"T_6d692_row10_col5\" class=\"data row10 col5\" >0</td>\n",
       "      <td id=\"T_6d692_row10_col6\" class=\"data row10 col6\" >-9.796000</td>\n",
       "      <td id=\"T_6d692_row10_col7\" class=\"data row10 col7\" >1</td>\n",
       "      <td id=\"T_6d692_row10_col8\" class=\"data row10 col8\" >0.028200</td>\n",
       "      <td id=\"T_6d692_row10_col9\" class=\"data row10 col9\" >0.012400</td>\n",
       "      <td id=\"T_6d692_row10_col10\" class=\"data row10 col10\" >0.000000</td>\n",
       "      <td id=\"T_6d692_row10_col11\" class=\"data row10 col11\" >0.072900</td>\n",
       "      <td id=\"T_6d692_row10_col12\" class=\"data row10 col12\" >0.799000</td>\n",
       "      <td id=\"T_6d692_row10_col13\" class=\"data row10 col13\" >130.544</td>\n",
       "      <td id=\"T_6d692_row10_col14\" class=\"data row10 col14\" >https://open.spotify.com/track/64bKVrkaXQAKx04dLHqCNz</td>\n",
       "      <td id=\"T_6d692_row10_col15\" class=\"data row10 col15\" >138520</td>\n",
       "      <td id=\"T_6d692_row10_col16\" class=\"data row10 col16\" >4</td>\n",
       "    </tr>\n",
       "    <tr>\n",
       "      <th id=\"T_6d692_level0_row11\" class=\"row_heading level0 row11\" >169</th>\n",
       "      <td id=\"T_6d692_row11_col0\" class=\"data row11 col0\" >1965</td>\n",
       "      <td id=\"T_6d692_row11_col1\" class=\"data row11 col1\" >Rubber Soul</td>\n",
       "      <td id=\"T_6d692_row11_col2\" class=\"data row11 col2\" >Wait</td>\n",
       "      <td id=\"T_6d692_row11_col3\" class=\"data row11 col3\" >0.552000</td>\n",
       "      <td id=\"T_6d692_row11_col4\" class=\"data row11 col4\" >0.487000</td>\n",
       "      <td id=\"T_6d692_row11_col5\" class=\"data row11 col5\" >6</td>\n",
       "      <td id=\"T_6d692_row11_col6\" class=\"data row11 col6\" >-10.574000</td>\n",
       "      <td id=\"T_6d692_row11_col7\" class=\"data row11 col7\" >0</td>\n",
       "      <td id=\"T_6d692_row11_col8\" class=\"data row11 col8\" >0.040000</td>\n",
       "      <td id=\"T_6d692_row11_col9\" class=\"data row11 col9\" >0.017500</td>\n",
       "      <td id=\"T_6d692_row11_col10\" class=\"data row11 col10\" >0.000000</td>\n",
       "      <td id=\"T_6d692_row11_col11\" class=\"data row11 col11\" >0.105000</td>\n",
       "      <td id=\"T_6d692_row11_col12\" class=\"data row11 col12\" >0.657000</td>\n",
       "      <td id=\"T_6d692_row11_col13\" class=\"data row11 col13\" >127.201</td>\n",
       "      <td id=\"T_6d692_row11_col14\" class=\"data row11 col14\" >https://open.spotify.com/track/0CGbof9amBnsNlRhZ8IY2H</td>\n",
       "      <td id=\"T_6d692_row11_col15\" class=\"data row11 col15\" >134720</td>\n",
       "      <td id=\"T_6d692_row11_col16\" class=\"data row11 col16\" >4</td>\n",
       "    </tr>\n",
       "    <tr>\n",
       "      <th id=\"T_6d692_level0_row12\" class=\"row_heading level0 row12\" >170</th>\n",
       "      <td id=\"T_6d692_row12_col0\" class=\"data row12 col0\" >1965</td>\n",
       "      <td id=\"T_6d692_row12_col1\" class=\"data row12 col1\" >Rubber Soul</td>\n",
       "      <td id=\"T_6d692_row12_col2\" class=\"data row12 col2\" >what goes on</td>\n",
       "      <td id=\"T_6d692_row12_col3\" class=\"data row12 col3\" >0.670000</td>\n",
       "      <td id=\"T_6d692_row12_col4\" class=\"data row12 col4\" >0.776000</td>\n",
       "      <td id=\"T_6d692_row12_col5\" class=\"data row12 col5\" >4</td>\n",
       "      <td id=\"T_6d692_row12_col6\" class=\"data row12 col6\" >-10.035000</td>\n",
       "      <td id=\"T_6d692_row12_col7\" class=\"data row12 col7\" >1</td>\n",
       "      <td id=\"T_6d692_row12_col8\" class=\"data row12 col8\" >0.074900</td>\n",
       "      <td id=\"T_6d692_row12_col9\" class=\"data row12 col9\" >0.016800</td>\n",
       "      <td id=\"T_6d692_row12_col10\" class=\"data row12 col10\" >0.000003</td>\n",
       "      <td id=\"T_6d692_row12_col11\" class=\"data row12 col11\" >0.073200</td>\n",
       "      <td id=\"T_6d692_row12_col12\" class=\"data row12 col12\" >0.765000</td>\n",
       "      <td id=\"T_6d692_row12_col13\" class=\"data row12 col13\" >96.93</td>\n",
       "      <td id=\"T_6d692_row12_col14\" class=\"data row12 col14\" >https://open.spotify.com/track/19QXdPRZFHI5kNK3tN8Mh7</td>\n",
       "      <td id=\"T_6d692_row12_col15\" class=\"data row12 col15\" >168573</td>\n",
       "      <td id=\"T_6d692_row12_col16\" class=\"data row12 col16\" >4</td>\n",
       "    </tr>\n",
       "    <tr>\n",
       "      <th id=\"T_6d692_level0_row13\" class=\"row_heading level0 row13\" >187</th>\n",
       "      <td id=\"T_6d692_row13_col0\" class=\"data row13 col0\" >1965</td>\n",
       "      <td id=\"T_6d692_row13_col1\" class=\"data row13 col1\" >Rubber Soul</td>\n",
       "      <td id=\"T_6d692_row13_col2\" class=\"data row13 col2\" >You Won't See Me</td>\n",
       "      <td id=\"T_6d692_row13_col3\" class=\"data row13 col3\" >0.488000</td>\n",
       "      <td id=\"T_6d692_row13_col4\" class=\"data row13 col4\" >0.539000</td>\n",
       "      <td id=\"T_6d692_row13_col5\" class=\"data row13 col5\" >9</td>\n",
       "      <td id=\"T_6d692_row13_col6\" class=\"data row13 col6\" >-8.752000</td>\n",
       "      <td id=\"T_6d692_row13_col7\" class=\"data row13 col7\" >1</td>\n",
       "      <td id=\"T_6d692_row13_col8\" class=\"data row13 col8\" >0.030400</td>\n",
       "      <td id=\"T_6d692_row13_col9\" class=\"data row13 col9\" >0.136000</td>\n",
       "      <td id=\"T_6d692_row13_col10\" class=\"data row13 col10\" >0.000000</td>\n",
       "      <td id=\"T_6d692_row13_col11\" class=\"data row13 col11\" >0.053800</td>\n",
       "      <td id=\"T_6d692_row13_col12\" class=\"data row13 col12\" >0.473000</td>\n",
       "      <td id=\"T_6d692_row13_col13\" class=\"data row13 col13\" >115.941</td>\n",
       "      <td id=\"T_6d692_row13_col14\" class=\"data row13 col14\" >https://open.spotify.com/track/4LLBKnNCrSRrSjSTuiwjE9</td>\n",
       "      <td id=\"T_6d692_row13_col15\" class=\"data row13 col15\" >199960</td>\n",
       "      <td id=\"T_6d692_row13_col16\" class=\"data row13 col16\" >4</td>\n",
       "    </tr>\n",
       "  </tbody>\n",
       "</table>\n"
      ],
      "text/plain": [
       "<pandas.io.formats.style.Styler at 0x175798910>"
      ]
     },
     "execution_count": 30,
     "metadata": {},
     "output_type": "execute_result"
    }
   ],
   "source": [
    "# filtering full dataset for just this album\n",
    "rubber_soul = beatles_spotify[beatles_spotify['album'] == 'Rubber Soul']\n",
    "# create table and caption\n",
    "rubber_soul.style.set_caption(\"Table 2: Rubber Soul Audio Features\").set_table_styles([{\n",
    "    'selector': 'caption',\n",
    "    'props': [\n",
    "        ('color', 'black'),\n",
    "        ('font-size', '18px')\n",
    "    ]\n",
    "}])"
   ]
  },
  {
   "cell_type": "markdown",
   "id": "64e12cb1-7d82-46a3-ab4b-9028edea175e",
   "metadata": {},
   "source": [
    "#### A Plotly Scatterplot for Rubber Soul"
   ]
  },
  {
   "cell_type": "code",
   "execution_count": 31,
   "id": "a818f9d8-c876-4bec-914b-f97f1f7c1f43",
   "metadata": {
    "tags": []
   },
   "outputs": [
    {
     "data": {
      "application/vnd.plotly.v1+json": {
       "config": {
        "plotlyServerURL": "https://plot.ly"
       },
       "data": [
        {
         "hovertemplate": "variable=danceability<br>song=%{x}<br>value=%{y}<extra></extra>",
         "legendgroup": "danceability",
         "marker": {
          "color": "rgb(102, 197, 204)",
          "symbol": "circle"
         },
         "mode": "markers",
         "name": "danceability",
         "orientation": "v",
         "showlegend": true,
         "type": "scatter",
         "x": [
          "Drive My Car",
          "Girl",
          "if I needed someone",
          "I'm Looking Through You",
          "In My Life",
          "Michelle",
          "Norwegian Wood (This Bird Has Flown)",
          "Nowhere Man",
          "Run for Your Life",
          "The Word",
          "Think for Yourself",
          "Wait",
          "what goes on",
          "You Won't See Me"
         ],
         "xaxis": "x",
         "y": [
          0.754,
          0.699,
          0.492,
          0.667,
          0.688,
          0.578,
          0.425,
          0.534,
          0.563,
          0.59,
          0.529,
          0.552,
          0.67,
          0.488
         ],
         "yaxis": "y"
        },
        {
         "hovertemplate": "variable=acousticness<br>song=%{x}<br>value=%{y}<extra></extra>",
         "legendgroup": "acousticness",
         "marker": {
          "color": "rgb(246, 207, 113)",
          "symbol": "circle"
         },
         "mode": "markers",
         "name": "acousticness",
         "orientation": "v",
         "showlegend": true,
         "type": "scatter",
         "x": [
          "Drive My Car",
          "Girl",
          "if I needed someone",
          "I'm Looking Through You",
          "In My Life",
          "Michelle",
          "Norwegian Wood (This Bird Has Flown)",
          "Nowhere Man",
          "Run for Your Life",
          "The Word",
          "Think for Yourself",
          "Wait",
          "what goes on",
          "You Won't See Me"
         ],
         "xaxis": "x",
         "y": [
          0.0173,
          0.587,
          0.00748,
          0.00772,
          0.449,
          0.652,
          0.183,
          0.00797,
          0.0103,
          0.00682,
          0.0124,
          0.0175,
          0.0168,
          0.136
         ],
         "yaxis": "y"
        },
        {
         "hovertemplate": "variable=energy<br>song=%{x}<br>value=%{y}<extra></extra>",
         "legendgroup": "energy",
         "marker": {
          "color": "rgb(248, 156, 116)",
          "symbol": "circle"
         },
         "mode": "markers",
         "name": "energy",
         "orientation": "v",
         "showlegend": true,
         "type": "scatter",
         "x": [
          "Drive My Car",
          "Girl",
          "if I needed someone",
          "I'm Looking Through You",
          "In My Life",
          "Michelle",
          "Norwegian Wood (This Bird Has Flown)",
          "Nowhere Man",
          "Run for Your Life",
          "The Word",
          "Think for Yourself",
          "Wait",
          "what goes on",
          "You Won't See Me"
         ],
         "xaxis": "x",
         "y": [
          0.571,
          0.294,
          0.755,
          0.498,
          0.435,
          0.29,
          0.369,
          0.624,
          0.705,
          0.641,
          0.567,
          0.487,
          0.776,
          0.539
         ],
         "yaxis": "y"
        }
       ],
       "layout": {
        "legend": {
         "title": {
          "text": "variable"
         },
         "tracegroupgap": 0
        },
        "margin": {
         "t": 60
        },
        "template": {
         "data": {
          "bar": [
           {
            "error_x": {
             "color": "#2a3f5f"
            },
            "error_y": {
             "color": "#2a3f5f"
            },
            "marker": {
             "line": {
              "color": "#E5ECF6",
              "width": 0.5
             },
             "pattern": {
              "fillmode": "overlay",
              "size": 10,
              "solidity": 0.2
             }
            },
            "type": "bar"
           }
          ],
          "barpolar": [
           {
            "marker": {
             "line": {
              "color": "#E5ECF6",
              "width": 0.5
             },
             "pattern": {
              "fillmode": "overlay",
              "size": 10,
              "solidity": 0.2
             }
            },
            "type": "barpolar"
           }
          ],
          "carpet": [
           {
            "aaxis": {
             "endlinecolor": "#2a3f5f",
             "gridcolor": "white",
             "linecolor": "white",
             "minorgridcolor": "white",
             "startlinecolor": "#2a3f5f"
            },
            "baxis": {
             "endlinecolor": "#2a3f5f",
             "gridcolor": "white",
             "linecolor": "white",
             "minorgridcolor": "white",
             "startlinecolor": "#2a3f5f"
            },
            "type": "carpet"
           }
          ],
          "choropleth": [
           {
            "colorbar": {
             "outlinewidth": 0,
             "ticks": ""
            },
            "type": "choropleth"
           }
          ],
          "contour": [
           {
            "colorbar": {
             "outlinewidth": 0,
             "ticks": ""
            },
            "colorscale": [
             [
              0,
              "#0d0887"
             ],
             [
              0.1111111111111111,
              "#46039f"
             ],
             [
              0.2222222222222222,
              "#7201a8"
             ],
             [
              0.3333333333333333,
              "#9c179e"
             ],
             [
              0.4444444444444444,
              "#bd3786"
             ],
             [
              0.5555555555555556,
              "#d8576b"
             ],
             [
              0.6666666666666666,
              "#ed7953"
             ],
             [
              0.7777777777777778,
              "#fb9f3a"
             ],
             [
              0.8888888888888888,
              "#fdca26"
             ],
             [
              1,
              "#f0f921"
             ]
            ],
            "type": "contour"
           }
          ],
          "contourcarpet": [
           {
            "colorbar": {
             "outlinewidth": 0,
             "ticks": ""
            },
            "type": "contourcarpet"
           }
          ],
          "heatmap": [
           {
            "colorbar": {
             "outlinewidth": 0,
             "ticks": ""
            },
            "colorscale": [
             [
              0,
              "#0d0887"
             ],
             [
              0.1111111111111111,
              "#46039f"
             ],
             [
              0.2222222222222222,
              "#7201a8"
             ],
             [
              0.3333333333333333,
              "#9c179e"
             ],
             [
              0.4444444444444444,
              "#bd3786"
             ],
             [
              0.5555555555555556,
              "#d8576b"
             ],
             [
              0.6666666666666666,
              "#ed7953"
             ],
             [
              0.7777777777777778,
              "#fb9f3a"
             ],
             [
              0.8888888888888888,
              "#fdca26"
             ],
             [
              1,
              "#f0f921"
             ]
            ],
            "type": "heatmap"
           }
          ],
          "heatmapgl": [
           {
            "colorbar": {
             "outlinewidth": 0,
             "ticks": ""
            },
            "colorscale": [
             [
              0,
              "#0d0887"
             ],
             [
              0.1111111111111111,
              "#46039f"
             ],
             [
              0.2222222222222222,
              "#7201a8"
             ],
             [
              0.3333333333333333,
              "#9c179e"
             ],
             [
              0.4444444444444444,
              "#bd3786"
             ],
             [
              0.5555555555555556,
              "#d8576b"
             ],
             [
              0.6666666666666666,
              "#ed7953"
             ],
             [
              0.7777777777777778,
              "#fb9f3a"
             ],
             [
              0.8888888888888888,
              "#fdca26"
             ],
             [
              1,
              "#f0f921"
             ]
            ],
            "type": "heatmapgl"
           }
          ],
          "histogram": [
           {
            "marker": {
             "pattern": {
              "fillmode": "overlay",
              "size": 10,
              "solidity": 0.2
             }
            },
            "type": "histogram"
           }
          ],
          "histogram2d": [
           {
            "colorbar": {
             "outlinewidth": 0,
             "ticks": ""
            },
            "colorscale": [
             [
              0,
              "#0d0887"
             ],
             [
              0.1111111111111111,
              "#46039f"
             ],
             [
              0.2222222222222222,
              "#7201a8"
             ],
             [
              0.3333333333333333,
              "#9c179e"
             ],
             [
              0.4444444444444444,
              "#bd3786"
             ],
             [
              0.5555555555555556,
              "#d8576b"
             ],
             [
              0.6666666666666666,
              "#ed7953"
             ],
             [
              0.7777777777777778,
              "#fb9f3a"
             ],
             [
              0.8888888888888888,
              "#fdca26"
             ],
             [
              1,
              "#f0f921"
             ]
            ],
            "type": "histogram2d"
           }
          ],
          "histogram2dcontour": [
           {
            "colorbar": {
             "outlinewidth": 0,
             "ticks": ""
            },
            "colorscale": [
             [
              0,
              "#0d0887"
             ],
             [
              0.1111111111111111,
              "#46039f"
             ],
             [
              0.2222222222222222,
              "#7201a8"
             ],
             [
              0.3333333333333333,
              "#9c179e"
             ],
             [
              0.4444444444444444,
              "#bd3786"
             ],
             [
              0.5555555555555556,
              "#d8576b"
             ],
             [
              0.6666666666666666,
              "#ed7953"
             ],
             [
              0.7777777777777778,
              "#fb9f3a"
             ],
             [
              0.8888888888888888,
              "#fdca26"
             ],
             [
              1,
              "#f0f921"
             ]
            ],
            "type": "histogram2dcontour"
           }
          ],
          "mesh3d": [
           {
            "colorbar": {
             "outlinewidth": 0,
             "ticks": ""
            },
            "type": "mesh3d"
           }
          ],
          "parcoords": [
           {
            "line": {
             "colorbar": {
              "outlinewidth": 0,
              "ticks": ""
             }
            },
            "type": "parcoords"
           }
          ],
          "pie": [
           {
            "automargin": true,
            "type": "pie"
           }
          ],
          "scatter": [
           {
            "fillpattern": {
             "fillmode": "overlay",
             "size": 10,
             "solidity": 0.2
            },
            "type": "scatter"
           }
          ],
          "scatter3d": [
           {
            "line": {
             "colorbar": {
              "outlinewidth": 0,
              "ticks": ""
             }
            },
            "marker": {
             "colorbar": {
              "outlinewidth": 0,
              "ticks": ""
             }
            },
            "type": "scatter3d"
           }
          ],
          "scattercarpet": [
           {
            "marker": {
             "colorbar": {
              "outlinewidth": 0,
              "ticks": ""
             }
            },
            "type": "scattercarpet"
           }
          ],
          "scattergeo": [
           {
            "marker": {
             "colorbar": {
              "outlinewidth": 0,
              "ticks": ""
             }
            },
            "type": "scattergeo"
           }
          ],
          "scattergl": [
           {
            "marker": {
             "colorbar": {
              "outlinewidth": 0,
              "ticks": ""
             }
            },
            "type": "scattergl"
           }
          ],
          "scattermapbox": [
           {
            "marker": {
             "colorbar": {
              "outlinewidth": 0,
              "ticks": ""
             }
            },
            "type": "scattermapbox"
           }
          ],
          "scatterpolar": [
           {
            "marker": {
             "colorbar": {
              "outlinewidth": 0,
              "ticks": ""
             }
            },
            "type": "scatterpolar"
           }
          ],
          "scatterpolargl": [
           {
            "marker": {
             "colorbar": {
              "outlinewidth": 0,
              "ticks": ""
             }
            },
            "type": "scatterpolargl"
           }
          ],
          "scatterternary": [
           {
            "marker": {
             "colorbar": {
              "outlinewidth": 0,
              "ticks": ""
             }
            },
            "type": "scatterternary"
           }
          ],
          "surface": [
           {
            "colorbar": {
             "outlinewidth": 0,
             "ticks": ""
            },
            "colorscale": [
             [
              0,
              "#0d0887"
             ],
             [
              0.1111111111111111,
              "#46039f"
             ],
             [
              0.2222222222222222,
              "#7201a8"
             ],
             [
              0.3333333333333333,
              "#9c179e"
             ],
             [
              0.4444444444444444,
              "#bd3786"
             ],
             [
              0.5555555555555556,
              "#d8576b"
             ],
             [
              0.6666666666666666,
              "#ed7953"
             ],
             [
              0.7777777777777778,
              "#fb9f3a"
             ],
             [
              0.8888888888888888,
              "#fdca26"
             ],
             [
              1,
              "#f0f921"
             ]
            ],
            "type": "surface"
           }
          ],
          "table": [
           {
            "cells": {
             "fill": {
              "color": "#EBF0F8"
             },
             "line": {
              "color": "white"
             }
            },
            "header": {
             "fill": {
              "color": "#C8D4E3"
             },
             "line": {
              "color": "white"
             }
            },
            "type": "table"
           }
          ]
         },
         "layout": {
          "annotationdefaults": {
           "arrowcolor": "#2a3f5f",
           "arrowhead": 0,
           "arrowwidth": 1
          },
          "autotypenumbers": "strict",
          "coloraxis": {
           "colorbar": {
            "outlinewidth": 0,
            "ticks": ""
           }
          },
          "colorscale": {
           "diverging": [
            [
             0,
             "#8e0152"
            ],
            [
             0.1,
             "#c51b7d"
            ],
            [
             0.2,
             "#de77ae"
            ],
            [
             0.3,
             "#f1b6da"
            ],
            [
             0.4,
             "#fde0ef"
            ],
            [
             0.5,
             "#f7f7f7"
            ],
            [
             0.6,
             "#e6f5d0"
            ],
            [
             0.7,
             "#b8e186"
            ],
            [
             0.8,
             "#7fbc41"
            ],
            [
             0.9,
             "#4d9221"
            ],
            [
             1,
             "#276419"
            ]
           ],
           "sequential": [
            [
             0,
             "#0d0887"
            ],
            [
             0.1111111111111111,
             "#46039f"
            ],
            [
             0.2222222222222222,
             "#7201a8"
            ],
            [
             0.3333333333333333,
             "#9c179e"
            ],
            [
             0.4444444444444444,
             "#bd3786"
            ],
            [
             0.5555555555555556,
             "#d8576b"
            ],
            [
             0.6666666666666666,
             "#ed7953"
            ],
            [
             0.7777777777777778,
             "#fb9f3a"
            ],
            [
             0.8888888888888888,
             "#fdca26"
            ],
            [
             1,
             "#f0f921"
            ]
           ],
           "sequentialminus": [
            [
             0,
             "#0d0887"
            ],
            [
             0.1111111111111111,
             "#46039f"
            ],
            [
             0.2222222222222222,
             "#7201a8"
            ],
            [
             0.3333333333333333,
             "#9c179e"
            ],
            [
             0.4444444444444444,
             "#bd3786"
            ],
            [
             0.5555555555555556,
             "#d8576b"
            ],
            [
             0.6666666666666666,
             "#ed7953"
            ],
            [
             0.7777777777777778,
             "#fb9f3a"
            ],
            [
             0.8888888888888888,
             "#fdca26"
            ],
            [
             1,
             "#f0f921"
            ]
           ]
          },
          "colorway": [
           "#636efa",
           "#EF553B",
           "#00cc96",
           "#ab63fa",
           "#FFA15A",
           "#19d3f3",
           "#FF6692",
           "#B6E880",
           "#FF97FF",
           "#FECB52"
          ],
          "font": {
           "color": "#2a3f5f"
          },
          "geo": {
           "bgcolor": "white",
           "lakecolor": "white",
           "landcolor": "#E5ECF6",
           "showlakes": true,
           "showland": true,
           "subunitcolor": "white"
          },
          "hoverlabel": {
           "align": "left"
          },
          "hovermode": "closest",
          "mapbox": {
           "style": "light"
          },
          "paper_bgcolor": "white",
          "plot_bgcolor": "#E5ECF6",
          "polar": {
           "angularaxis": {
            "gridcolor": "white",
            "linecolor": "white",
            "ticks": ""
           },
           "bgcolor": "#E5ECF6",
           "radialaxis": {
            "gridcolor": "white",
            "linecolor": "white",
            "ticks": ""
           }
          },
          "scene": {
           "xaxis": {
            "backgroundcolor": "#E5ECF6",
            "gridcolor": "white",
            "gridwidth": 2,
            "linecolor": "white",
            "showbackground": true,
            "ticks": "",
            "zerolinecolor": "white"
           },
           "yaxis": {
            "backgroundcolor": "#E5ECF6",
            "gridcolor": "white",
            "gridwidth": 2,
            "linecolor": "white",
            "showbackground": true,
            "ticks": "",
            "zerolinecolor": "white"
           },
           "zaxis": {
            "backgroundcolor": "#E5ECF6",
            "gridcolor": "white",
            "gridwidth": 2,
            "linecolor": "white",
            "showbackground": true,
            "ticks": "",
            "zerolinecolor": "white"
           }
          },
          "shapedefaults": {
           "line": {
            "color": "#2a3f5f"
           }
          },
          "ternary": {
           "aaxis": {
            "gridcolor": "white",
            "linecolor": "white",
            "ticks": ""
           },
           "baxis": {
            "gridcolor": "white",
            "linecolor": "white",
            "ticks": ""
           },
           "bgcolor": "#E5ECF6",
           "caxis": {
            "gridcolor": "white",
            "linecolor": "white",
            "ticks": ""
           }
          },
          "title": {
           "x": 0.05
          },
          "xaxis": {
           "automargin": true,
           "gridcolor": "white",
           "linecolor": "white",
           "ticks": "",
           "title": {
            "standoff": 15
           },
           "zerolinecolor": "white",
           "zerolinewidth": 2
          },
          "yaxis": {
           "automargin": true,
           "gridcolor": "white",
           "linecolor": "white",
           "ticks": "",
           "title": {
            "standoff": 15
           },
           "zerolinecolor": "white",
           "zerolinewidth": 2
          }
         }
        },
        "title": {
         "text": "Figure 2: Scatter Plot of Rubber Soul Songs"
        },
        "xaxis": {
         "anchor": "y",
         "domain": [
          0,
          1
         ],
         "title": {
          "text": "song"
         }
        },
        "yaxis": {
         "anchor": "x",
         "domain": [
          0,
          1
         ],
         "title": {
          "text": "value"
         }
        }
       }
      },
      "text/html": [
       "<div>                            <div id=\"3b8b9100-9b5f-458f-b549-e09414aca592\" class=\"plotly-graph-div\" style=\"height:525px; width:100%;\"></div>            <script type=\"text/javascript\">                require([\"plotly\"], function(Plotly) {                    window.PLOTLYENV=window.PLOTLYENV || {};                                    if (document.getElementById(\"3b8b9100-9b5f-458f-b549-e09414aca592\")) {                    Plotly.newPlot(                        \"3b8b9100-9b5f-458f-b549-e09414aca592\",                        [{\"hovertemplate\":\"variable=danceability\\u003cbr\\u003esong=%{x}\\u003cbr\\u003evalue=%{y}\\u003cextra\\u003e\\u003c\\u002fextra\\u003e\",\"legendgroup\":\"danceability\",\"marker\":{\"color\":\"rgb(102, 197, 204)\",\"symbol\":\"circle\"},\"mode\":\"markers\",\"name\":\"danceability\",\"orientation\":\"v\",\"showlegend\":true,\"x\":[\"Drive My Car\",\"Girl\",\"if I needed someone\",\"I'm Looking Through You\",\"In My Life\",\"Michelle\",\"Norwegian Wood (This Bird Has Flown)\",\"Nowhere Man\",\"Run for Your Life\",\"The Word\",\"Think for Yourself\",\"Wait\",\"what goes on\",\"You Won't See Me\"],\"xaxis\":\"x\",\"y\":[0.754,0.699,0.492,0.667,0.688,0.578,0.425,0.534,0.563,0.59,0.529,0.552,0.67,0.488],\"yaxis\":\"y\",\"type\":\"scatter\"},{\"hovertemplate\":\"variable=acousticness\\u003cbr\\u003esong=%{x}\\u003cbr\\u003evalue=%{y}\\u003cextra\\u003e\\u003c\\u002fextra\\u003e\",\"legendgroup\":\"acousticness\",\"marker\":{\"color\":\"rgb(246, 207, 113)\",\"symbol\":\"circle\"},\"mode\":\"markers\",\"name\":\"acousticness\",\"orientation\":\"v\",\"showlegend\":true,\"x\":[\"Drive My Car\",\"Girl\",\"if I needed someone\",\"I'm Looking Through You\",\"In My Life\",\"Michelle\",\"Norwegian Wood (This Bird Has Flown)\",\"Nowhere Man\",\"Run for Your Life\",\"The Word\",\"Think for Yourself\",\"Wait\",\"what goes on\",\"You Won't See Me\"],\"xaxis\":\"x\",\"y\":[0.0173,0.587,0.00748,0.00772,0.449,0.652,0.183,0.00797,0.0103,0.00682,0.0124,0.0175,0.0168,0.136],\"yaxis\":\"y\",\"type\":\"scatter\"},{\"hovertemplate\":\"variable=energy\\u003cbr\\u003esong=%{x}\\u003cbr\\u003evalue=%{y}\\u003cextra\\u003e\\u003c\\u002fextra\\u003e\",\"legendgroup\":\"energy\",\"marker\":{\"color\":\"rgb(248, 156, 116)\",\"symbol\":\"circle\"},\"mode\":\"markers\",\"name\":\"energy\",\"orientation\":\"v\",\"showlegend\":true,\"x\":[\"Drive My Car\",\"Girl\",\"if I needed someone\",\"I'm Looking Through You\",\"In My Life\",\"Michelle\",\"Norwegian Wood (This Bird Has Flown)\",\"Nowhere Man\",\"Run for Your Life\",\"The Word\",\"Think for Yourself\",\"Wait\",\"what goes on\",\"You Won't See Me\"],\"xaxis\":\"x\",\"y\":[0.571,0.294,0.755,0.498,0.435,0.29,0.369,0.624,0.705,0.641,0.567,0.487,0.776,0.539],\"yaxis\":\"y\",\"type\":\"scatter\"}],                        {\"template\":{\"data\":{\"histogram2dcontour\":[{\"type\":\"histogram2dcontour\",\"colorbar\":{\"outlinewidth\":0,\"ticks\":\"\"},\"colorscale\":[[0.0,\"#0d0887\"],[0.1111111111111111,\"#46039f\"],[0.2222222222222222,\"#7201a8\"],[0.3333333333333333,\"#9c179e\"],[0.4444444444444444,\"#bd3786\"],[0.5555555555555556,\"#d8576b\"],[0.6666666666666666,\"#ed7953\"],[0.7777777777777778,\"#fb9f3a\"],[0.8888888888888888,\"#fdca26\"],[1.0,\"#f0f921\"]]}],\"choropleth\":[{\"type\":\"choropleth\",\"colorbar\":{\"outlinewidth\":0,\"ticks\":\"\"}}],\"histogram2d\":[{\"type\":\"histogram2d\",\"colorbar\":{\"outlinewidth\":0,\"ticks\":\"\"},\"colorscale\":[[0.0,\"#0d0887\"],[0.1111111111111111,\"#46039f\"],[0.2222222222222222,\"#7201a8\"],[0.3333333333333333,\"#9c179e\"],[0.4444444444444444,\"#bd3786\"],[0.5555555555555556,\"#d8576b\"],[0.6666666666666666,\"#ed7953\"],[0.7777777777777778,\"#fb9f3a\"],[0.8888888888888888,\"#fdca26\"],[1.0,\"#f0f921\"]]}],\"heatmap\":[{\"type\":\"heatmap\",\"colorbar\":{\"outlinewidth\":0,\"ticks\":\"\"},\"colorscale\":[[0.0,\"#0d0887\"],[0.1111111111111111,\"#46039f\"],[0.2222222222222222,\"#7201a8\"],[0.3333333333333333,\"#9c179e\"],[0.4444444444444444,\"#bd3786\"],[0.5555555555555556,\"#d8576b\"],[0.6666666666666666,\"#ed7953\"],[0.7777777777777778,\"#fb9f3a\"],[0.8888888888888888,\"#fdca26\"],[1.0,\"#f0f921\"]]}],\"heatmapgl\":[{\"type\":\"heatmapgl\",\"colorbar\":{\"outlinewidth\":0,\"ticks\":\"\"},\"colorscale\":[[0.0,\"#0d0887\"],[0.1111111111111111,\"#46039f\"],[0.2222222222222222,\"#7201a8\"],[0.3333333333333333,\"#9c179e\"],[0.4444444444444444,\"#bd3786\"],[0.5555555555555556,\"#d8576b\"],[0.6666666666666666,\"#ed7953\"],[0.7777777777777778,\"#fb9f3a\"],[0.8888888888888888,\"#fdca26\"],[1.0,\"#f0f921\"]]}],\"contourcarpet\":[{\"type\":\"contourcarpet\",\"colorbar\":{\"outlinewidth\":0,\"ticks\":\"\"}}],\"contour\":[{\"type\":\"contour\",\"colorbar\":{\"outlinewidth\":0,\"ticks\":\"\"},\"colorscale\":[[0.0,\"#0d0887\"],[0.1111111111111111,\"#46039f\"],[0.2222222222222222,\"#7201a8\"],[0.3333333333333333,\"#9c179e\"],[0.4444444444444444,\"#bd3786\"],[0.5555555555555556,\"#d8576b\"],[0.6666666666666666,\"#ed7953\"],[0.7777777777777778,\"#fb9f3a\"],[0.8888888888888888,\"#fdca26\"],[1.0,\"#f0f921\"]]}],\"surface\":[{\"type\":\"surface\",\"colorbar\":{\"outlinewidth\":0,\"ticks\":\"\"},\"colorscale\":[[0.0,\"#0d0887\"],[0.1111111111111111,\"#46039f\"],[0.2222222222222222,\"#7201a8\"],[0.3333333333333333,\"#9c179e\"],[0.4444444444444444,\"#bd3786\"],[0.5555555555555556,\"#d8576b\"],[0.6666666666666666,\"#ed7953\"],[0.7777777777777778,\"#fb9f3a\"],[0.8888888888888888,\"#fdca26\"],[1.0,\"#f0f921\"]]}],\"mesh3d\":[{\"type\":\"mesh3d\",\"colorbar\":{\"outlinewidth\":0,\"ticks\":\"\"}}],\"scatter\":[{\"fillpattern\":{\"fillmode\":\"overlay\",\"size\":10,\"solidity\":0.2},\"type\":\"scatter\"}],\"parcoords\":[{\"type\":\"parcoords\",\"line\":{\"colorbar\":{\"outlinewidth\":0,\"ticks\":\"\"}}}],\"scatterpolargl\":[{\"type\":\"scatterpolargl\",\"marker\":{\"colorbar\":{\"outlinewidth\":0,\"ticks\":\"\"}}}],\"bar\":[{\"error_x\":{\"color\":\"#2a3f5f\"},\"error_y\":{\"color\":\"#2a3f5f\"},\"marker\":{\"line\":{\"color\":\"#E5ECF6\",\"width\":0.5},\"pattern\":{\"fillmode\":\"overlay\",\"size\":10,\"solidity\":0.2}},\"type\":\"bar\"}],\"scattergeo\":[{\"type\":\"scattergeo\",\"marker\":{\"colorbar\":{\"outlinewidth\":0,\"ticks\":\"\"}}}],\"scatterpolar\":[{\"type\":\"scatterpolar\",\"marker\":{\"colorbar\":{\"outlinewidth\":0,\"ticks\":\"\"}}}],\"histogram\":[{\"marker\":{\"pattern\":{\"fillmode\":\"overlay\",\"size\":10,\"solidity\":0.2}},\"type\":\"histogram\"}],\"scattergl\":[{\"type\":\"scattergl\",\"marker\":{\"colorbar\":{\"outlinewidth\":0,\"ticks\":\"\"}}}],\"scatter3d\":[{\"type\":\"scatter3d\",\"line\":{\"colorbar\":{\"outlinewidth\":0,\"ticks\":\"\"}},\"marker\":{\"colorbar\":{\"outlinewidth\":0,\"ticks\":\"\"}}}],\"scattermapbox\":[{\"type\":\"scattermapbox\",\"marker\":{\"colorbar\":{\"outlinewidth\":0,\"ticks\":\"\"}}}],\"scatterternary\":[{\"type\":\"scatterternary\",\"marker\":{\"colorbar\":{\"outlinewidth\":0,\"ticks\":\"\"}}}],\"scattercarpet\":[{\"type\":\"scattercarpet\",\"marker\":{\"colorbar\":{\"outlinewidth\":0,\"ticks\":\"\"}}}],\"carpet\":[{\"aaxis\":{\"endlinecolor\":\"#2a3f5f\",\"gridcolor\":\"white\",\"linecolor\":\"white\",\"minorgridcolor\":\"white\",\"startlinecolor\":\"#2a3f5f\"},\"baxis\":{\"endlinecolor\":\"#2a3f5f\",\"gridcolor\":\"white\",\"linecolor\":\"white\",\"minorgridcolor\":\"white\",\"startlinecolor\":\"#2a3f5f\"},\"type\":\"carpet\"}],\"table\":[{\"cells\":{\"fill\":{\"color\":\"#EBF0F8\"},\"line\":{\"color\":\"white\"}},\"header\":{\"fill\":{\"color\":\"#C8D4E3\"},\"line\":{\"color\":\"white\"}},\"type\":\"table\"}],\"barpolar\":[{\"marker\":{\"line\":{\"color\":\"#E5ECF6\",\"width\":0.5},\"pattern\":{\"fillmode\":\"overlay\",\"size\":10,\"solidity\":0.2}},\"type\":\"barpolar\"}],\"pie\":[{\"automargin\":true,\"type\":\"pie\"}]},\"layout\":{\"autotypenumbers\":\"strict\",\"colorway\":[\"#636efa\",\"#EF553B\",\"#00cc96\",\"#ab63fa\",\"#FFA15A\",\"#19d3f3\",\"#FF6692\",\"#B6E880\",\"#FF97FF\",\"#FECB52\"],\"font\":{\"color\":\"#2a3f5f\"},\"hovermode\":\"closest\",\"hoverlabel\":{\"align\":\"left\"},\"paper_bgcolor\":\"white\",\"plot_bgcolor\":\"#E5ECF6\",\"polar\":{\"bgcolor\":\"#E5ECF6\",\"angularaxis\":{\"gridcolor\":\"white\",\"linecolor\":\"white\",\"ticks\":\"\"},\"radialaxis\":{\"gridcolor\":\"white\",\"linecolor\":\"white\",\"ticks\":\"\"}},\"ternary\":{\"bgcolor\":\"#E5ECF6\",\"aaxis\":{\"gridcolor\":\"white\",\"linecolor\":\"white\",\"ticks\":\"\"},\"baxis\":{\"gridcolor\":\"white\",\"linecolor\":\"white\",\"ticks\":\"\"},\"caxis\":{\"gridcolor\":\"white\",\"linecolor\":\"white\",\"ticks\":\"\"}},\"coloraxis\":{\"colorbar\":{\"outlinewidth\":0,\"ticks\":\"\"}},\"colorscale\":{\"sequential\":[[0.0,\"#0d0887\"],[0.1111111111111111,\"#46039f\"],[0.2222222222222222,\"#7201a8\"],[0.3333333333333333,\"#9c179e\"],[0.4444444444444444,\"#bd3786\"],[0.5555555555555556,\"#d8576b\"],[0.6666666666666666,\"#ed7953\"],[0.7777777777777778,\"#fb9f3a\"],[0.8888888888888888,\"#fdca26\"],[1.0,\"#f0f921\"]],\"sequentialminus\":[[0.0,\"#0d0887\"],[0.1111111111111111,\"#46039f\"],[0.2222222222222222,\"#7201a8\"],[0.3333333333333333,\"#9c179e\"],[0.4444444444444444,\"#bd3786\"],[0.5555555555555556,\"#d8576b\"],[0.6666666666666666,\"#ed7953\"],[0.7777777777777778,\"#fb9f3a\"],[0.8888888888888888,\"#fdca26\"],[1.0,\"#f0f921\"]],\"diverging\":[[0,\"#8e0152\"],[0.1,\"#c51b7d\"],[0.2,\"#de77ae\"],[0.3,\"#f1b6da\"],[0.4,\"#fde0ef\"],[0.5,\"#f7f7f7\"],[0.6,\"#e6f5d0\"],[0.7,\"#b8e186\"],[0.8,\"#7fbc41\"],[0.9,\"#4d9221\"],[1,\"#276419\"]]},\"xaxis\":{\"gridcolor\":\"white\",\"linecolor\":\"white\",\"ticks\":\"\",\"title\":{\"standoff\":15},\"zerolinecolor\":\"white\",\"automargin\":true,\"zerolinewidth\":2},\"yaxis\":{\"gridcolor\":\"white\",\"linecolor\":\"white\",\"ticks\":\"\",\"title\":{\"standoff\":15},\"zerolinecolor\":\"white\",\"automargin\":true,\"zerolinewidth\":2},\"scene\":{\"xaxis\":{\"backgroundcolor\":\"#E5ECF6\",\"gridcolor\":\"white\",\"linecolor\":\"white\",\"showbackground\":true,\"ticks\":\"\",\"zerolinecolor\":\"white\",\"gridwidth\":2},\"yaxis\":{\"backgroundcolor\":\"#E5ECF6\",\"gridcolor\":\"white\",\"linecolor\":\"white\",\"showbackground\":true,\"ticks\":\"\",\"zerolinecolor\":\"white\",\"gridwidth\":2},\"zaxis\":{\"backgroundcolor\":\"#E5ECF6\",\"gridcolor\":\"white\",\"linecolor\":\"white\",\"showbackground\":true,\"ticks\":\"\",\"zerolinecolor\":\"white\",\"gridwidth\":2}},\"shapedefaults\":{\"line\":{\"color\":\"#2a3f5f\"}},\"annotationdefaults\":{\"arrowcolor\":\"#2a3f5f\",\"arrowhead\":0,\"arrowwidth\":1},\"geo\":{\"bgcolor\":\"white\",\"landcolor\":\"#E5ECF6\",\"subunitcolor\":\"white\",\"showland\":true,\"showlakes\":true,\"lakecolor\":\"white\"},\"title\":{\"x\":0.05},\"mapbox\":{\"style\":\"light\"}}},\"xaxis\":{\"anchor\":\"y\",\"domain\":[0.0,1.0],\"title\":{\"text\":\"song\"}},\"yaxis\":{\"anchor\":\"x\",\"domain\":[0.0,1.0],\"title\":{\"text\":\"value\"}},\"legend\":{\"title\":{\"text\":\"variable\"},\"tracegroupgap\":0},\"margin\":{\"t\":60},\"title\":{\"text\":\"Figure 2: Scatter Plot of Rubber Soul Songs\"}},                        {\"responsive\": true}                    ).then(function(){\n",
       "                            \n",
       "var gd = document.getElementById('3b8b9100-9b5f-458f-b549-e09414aca592');\n",
       "var x = new MutationObserver(function (mutations, observer) {{\n",
       "        var display = window.getComputedStyle(gd).display;\n",
       "        if (!display || display === 'none') {{\n",
       "            console.log([gd, 'removed!']);\n",
       "            Plotly.purge(gd);\n",
       "            observer.disconnect();\n",
       "        }}\n",
       "}});\n",
       "\n",
       "// Listen for the removal of the full notebook cells\n",
       "var notebookContainer = gd.closest('#notebook-container');\n",
       "if (notebookContainer) {{\n",
       "    x.observe(notebookContainer, {childList: true});\n",
       "}}\n",
       "\n",
       "// Listen for the clearing of the current output cell\n",
       "var outputEl = gd.closest('.output');\n",
       "if (outputEl) {{\n",
       "    x.observe(outputEl, {childList: true});\n",
       "}}\n",
       "\n",
       "                        })                };                });            </script>        </div>"
      ]
     },
     "metadata": {},
     "output_type": "display_data"
    }
   ],
   "source": [
    "fig = px.scatter(rubber_soul, \n",
    "                 x='song', \n",
    "                 y=['danceability', 'acousticness', 'energy'], \n",
    "                 color_discrete_sequence=px.colors.qualitative.Pastel)\n",
    "fig.update_layout(title_text=\"Figure 2: Scatter Plot of Rubber Soul Songs\")\n",
    "fig.show()"
   ]
  },
  {
   "cell_type": "markdown",
   "id": "45bca141-cbfa-4eb9-a589-53df0be22383",
   "metadata": {},
   "source": [
    "# 3. Interpretation\n",
    "\n",
    "I was both surprised by and curious to explore the results.  Based on the audio feature data I selected, *Rubber Soul* is clearly an outlier among the other album on account of the very wide gulf between the mean 'danceability and energy' on one hand and the 'acousticness' on the other.  Of course we cannot be completely how the Spotify assigns a single value to a track (much less the 'mean' scores that I derived from those individual pieces). But the *differential* is nevertheless striking.  What might it mean?\n",
    "\n",
    "A low score in 'acousticness' might be another way of saying that these pieces are *more* electric, or at least more characterized by enriched timbres of the sort one could produce in the studio.  And indeed this is one of the important trends that marks the Beatles' development as musicians during this critical phase of their careers as a *studio* band.\n",
    "\n",
    "So with this insight in mind, I decided to look more closely at the data for individual songs in *Rubber Soul* and test these against my own impressions of the music (and against what Everett said).  What is fascinating to me is that many of the songs that are characterized by Spotify as 'low' in acousticness still involve a good deal of very conventional instruments, voices, and even volume.  They are nevertheless filled with blended voices, and very diverse timbres (sitar, pseudo harpsichord, echo effects, and so on).  This is very interesting, and as Everett notes, reflects the increasing concern of the Beatles to use the studio itself as a kind of instrument, quite apart from the actual instruments and voices involved in the songs!\n",
    "\n"
   ]
  },
  {
   "cell_type": "markdown",
   "id": "fda4a416-2105-4153-9222-363bfd9362b7",
   "metadata": {},
   "source": [
    "# 4.  Bibliography\n",
    "\n",
    "Everett, Walter. 1999.  *The Beatles as Musicians: Revolver to The Anthology*.  Oxford and New York:  Oxford University Press.\n",
    "\n",
    "Seaver, Nick. 2022.  *Computing Taste:  Algorithms and the Makers of Music Recommendation*.  Chicago:  University of Chicago Press."
   ]
  },
  {
   "cell_type": "markdown",
   "id": "adfc76d3",
   "metadata": {},
   "source": []
  },
  {
   "cell_type": "markdown",
   "id": "6ea078f8",
   "metadata": {},
   "source": []
  },
  {
   "cell_type": "markdown",
   "id": "f4906a2e",
   "metadata": {},
   "source": []
  }
 ],
 "metadata": {
  "kernelspec": {
   "display_name": "encoding_music",
   "language": "python",
   "name": "python3"
  },
  "language_info": {
   "codemirror_mode": {
    "name": "ipython",
    "version": 3
   },
   "file_extension": ".py",
   "mimetype": "text/x-python",
   "name": "python",
   "nbconvert_exporter": "python",
   "pygments_lexer": "ipython3",
   "version": "3.10.14"
  }
 },
 "nbformat": 4,
 "nbformat_minor": 5
}

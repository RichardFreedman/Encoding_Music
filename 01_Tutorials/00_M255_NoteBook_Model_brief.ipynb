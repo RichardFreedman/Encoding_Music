{
 "cells": [
  {
   "cell_type": "raw",
   "id": "ba9a7306-76da-4e0d-816c-9edb8b40d181",
   "metadata": {
    "execution": {
     "iopub.execute_input": "2024-06-27T19:56:52.372260Z",
     "iopub.status.busy": "2024-06-27T19:56:52.371359Z",
     "iopub.status.idle": "2024-06-27T19:56:52.380117Z",
     "shell.execute_reply": "2024-06-27T19:56:52.378195Z",
     "shell.execute_reply.started": "2024-06-27T19:56:52.372234Z"
    }
   },
   "source": [
    "---\n",
    "title: \"Encoding Music Sample Homework Project\"\n",
    "author: 'Richard Freedman'\n",
    "date: 'June 25, 2024'\n",
    "\n",
    "format:\n",
    "  html:\n",
    "    code-fold: true\n",
    "    embed-resources: true\n",
    "plotly-connected: true\n",
    "jupyter: python3\n",
    "\n",
    "---"
   ]
  },
  {
   "cell_type": "markdown",
   "id": "e16cd016-da4a-41e0-8051-f253afc47263",
   "metadata": {},
   "source": [
    "# 0. Create Quarto YAML Cell and Import Libraries\n",
    "\n",
    "The cell given above must go at the very top of your Notebook, even before the title!  Be sure to include the `---` on the first and last lines.  No other content should go in this raw cell!  This is what it should look like:\n",
    "\n",
    "```\n",
    "\n",
    "---\n",
    "title: \"Encoding Music Sample Homework Project\"\n",
    "author: 'Richard Freedman'\n",
    "date: 'June 25, 2024'\n",
    "\n",
    "format:\n",
    "  html:\n",
    "    code-fold: true\n",
    "    embed-resources: true\n",
    "plotly-connected: true\n",
    "jupyter: python3\n",
    "\n",
    "---\n",
    "```"
   ]
  },
  {
   "cell_type": "markdown",
   "id": "0aa6cfde",
   "metadata": {},
   "source": [
    "##  Now the Title, Your Name, and Date:\n",
    "\n",
    "You can use markdown to control the size and look of this information:\n",
    "\n",
    "```\n",
    "Music 255:  Encoding Music\n",
    "My First Homework Project\n",
    "Richard Freedman\n",
    "September 2, 2024\n",
    "```\n",
    "\n",
    "And now the **Import** statements, where you load the relevant libraries.  \n",
    "\n",
    "Note that the last to items (for Quarto and Warnings) are especially important."
   ]
  },
  {
   "cell_type": "code",
   "execution_count": 3,
   "id": "94261f3d-3d20-4b35-ab2c-d2d41dd0c914",
   "metadata": {
    "tags": []
   },
   "outputs": [],
   "source": [
    "# import libraries\n",
    "from community import community_louvain\n",
    "from copy import deepcopy\n",
    "from IPython.display import SVG\n",
    "import altair as alt\n",
    "import glob as glob\n",
    "import numpy as np\n",
    "import os\n",
    "import pandas as pd\n",
    "import re\n",
    "import networkx as nx\n",
    "import plotly.express as px\n",
    "import requests\n",
    "\n",
    "# setup plotting for quarto\n",
    "alt.renderers.enable('default')\n",
    "import plotly.io as pio\n",
    "pio.renderers.default = \"plotly_mimetype+notebook_connected\"\n",
    "\n",
    "# supress warnings\n",
    "import warnings\n",
    "warnings.filterwarnings('ignore')"
   ]
  },
  {
   "cell_type": "markdown",
   "id": "fa6896de",
   "metadata": {},
   "source": [
    "# 1. Motivation\n",
    "\n",
    "What is your point of inquiry? What are you trying discover? What do you expect to find? How do these questions relate to themes and problems considered in the course so far?\n",
    "\n",
    "What specific readings or musical repertories are involved, and why do they matter in this context (be sure to cite them, and to follow the Music Style Guide as you do so)?"
   ]
  },
  {
   "cell_type": "markdown",
   "id": "68ca4ffb",
   "metadata": {},
   "source": [
    "# 2. Implementation\n",
    "\n",
    "How did you put your query into practice? What did you need to do with or to your data along the way?\n",
    "\n",
    "* What logical steps did you follow as you thought about getting there (expressed in pseudo code; perhaps in bullet-point form in your markdown cell)?\n",
    "* Which tools (or methods) did you select, and why were they right for the job?\n",
    "If you chose to create some kind of visualization (a chart, network or map), how did you decide on the right representation for the task at hand?\n",
    "* What challenges did you face as you worked to put the steps into action in code? Did you need to clean or tidy your data? Filter, sort, or group it in some way?\n",
    "* What were the most important tools or approaches you deployed that others might like to know about?\n",
    "\n",
    "Remember to use verbatim code or block code to show your work as needed. \n",
    "\n",
    "Remember to add comments to your code to show the most important steps.\n",
    "\n",
    "If you learned from or adapted some code suggested in Encoding Music, or another resource, it would be good to cite that documentation, too.\n",
    "\n",
    "**Note**:  Your code cells and their outputs go below. \n",
    "\n",
    "When you 'render' this with **Quarto** (see [instructions here](https://github.com/RichardFreedman/Encoding_Music/blob/main/01_Tutorials/01_Notebook_Introduction_Quarto.md#Export-and-Publish-with-Quarto)) the code will be 'hidden' behind a dropdown arrow.  The output will be rendered in HTML."
   ]
  },
  {
   "cell_type": "code",
   "execution_count": null,
   "id": "a9799d05",
   "metadata": {},
   "outputs": [],
   "source": [
    "\n",
    "# code cell"
   ]
  },
  {
   "cell_type": "markdown",
   "id": "2c8772e1",
   "metadata": {},
   "source": [
    "# 3. Interpretation\n",
    "\n",
    "What did you learn from the results? How were your expectations confirmed (or not)?\n",
    "\n",
    "What limitations did the data or your methods impose on your capacity to answer the questions you originally posed?\n",
    "\n",
    "How do your results change your views of the readings or ideas that motivated your work it the first place? How do your results shape your listening experience of the music you considered? What next steps do you imagine for future work?"
   ]
  },
  {
   "cell_type": "markdown",
   "id": "0756c280",
   "metadata": {},
   "source": [
    "# 4. Bibliography\n",
    "\n",
    "A list of the sources consulted and cited during your work, including class readings or code resources, Spotify lists, etc. See the Notebook Style Guide and Music Style Guide for details about how to cite books, articles, internet resources, etc."
   ]
  }
 ],
 "metadata": {
  "kernelspec": {
   "display_name": "Python 3 (ipykernel)",
   "language": "python",
   "name": "python3"
  },
  "language_info": {
   "codemirror_mode": {
    "name": "ipython",
    "version": 3
   },
   "file_extension": ".py",
   "mimetype": "text/x-python",
   "name": "python",
   "nbconvert_exporter": "python",
   "pygments_lexer": "ipython3",
   "version": "3.10.14"
  }
 },
 "nbformat": 4,
 "nbformat_minor": 5
}

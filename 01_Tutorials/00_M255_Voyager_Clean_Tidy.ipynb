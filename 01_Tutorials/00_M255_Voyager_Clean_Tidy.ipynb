{
 "cells": [
  {
   "cell_type": "raw",
   "id": "ba9a7306-76da-4e0d-816c-9edb8b40d181",
   "metadata": {
    "execution": {
     "iopub.execute_input": "2024-06-27T19:56:52.372260Z",
     "iopub.status.busy": "2024-06-27T19:56:52.371359Z",
     "iopub.status.idle": "2024-06-27T19:56:52.380117Z",
     "shell.execute_reply": "2024-06-27T19:56:52.378195Z",
     "shell.execute_reply.started": "2024-06-27T19:56:52.372234Z"
    },
    "vscode": {
     "languageId": "raw"
    }
   },
   "source": [
    "---\n",
    "title: \"Lab 3 Model Notebook\"\n",
    "author: 'Richard Freedman'\n",
    "date: 'August 2025'\n",
    "\n",
    "format:\n",
    "  html:\n",
    "    code-fold: true\n",
    "    embed-resources: true\n",
    "plotly-connected: true\n",
    "jupyter: python3\n",
    "\n",
    "---"
   ]
  },
  {
   "cell_type": "markdown",
   "id": "55bb31a0-1f22-48d9-928c-50881af16ed2",
   "metadata": {},
   "source": [
    "## Our Voyager Data Clean Up"
   ]
  },
  {
   "cell_type": "code",
   "execution_count": 2,
   "id": "94261f3d-3d20-4b35-ab2c-d2d41dd0c914",
   "metadata": {
    "tags": []
   },
   "outputs": [],
   "source": [
    "# import libraries\n",
    "\n",
    "from IPython.display import SVG\n",
    "import altair as alt\n",
    "import glob as glob\n",
    "import numpy as np\n",
    "import pandas as pd\n",
    "import plotly.express as px\n",
    "import plotly.graph_objects as go\n",
    "\n",
    "\n",
    "# setup plotting for quarto\n",
    "alt.renderers.enable('default')\n",
    "import plotly.io as pio\n",
    "pio.renderers.default = \"plotly_mimetype+notebook_connected\"\n",
    "\n",
    "# supress warnings\n",
    "import warnings\n",
    "warnings.filterwarnings('ignore')"
   ]
  },
  {
   "cell_type": "markdown",
   "id": "2c1f9ed7-9756-419f-840d-22cc8b10a7ba",
   "metadata": {},
   "source": [
    "## Load CSV Sheets"
   ]
  },
  {
   "cell_type": "code",
   "execution_count": 3,
   "id": "15c087d7-8eed-432b-95b9-590157b4346d",
   "metadata": {
    "tags": []
   },
   "outputs": [],
   "source": [
    "# url as variable\n",
    "# this is a messy metadata file that we will clean up in this lab\n",
    "our_messy_metadata_csv = 'https://docs.google.com/spreadsheets/d/e/2PACX-1vQi5q2j94W-HPrVsgtK0rsncYEu3ElLOk2p4MlEDW8vbBUXOEOKNNuN63Mohae062tmARINbpklDe-w/pub?gid=190053203&single=true&output=csv'\n",
    "our_messy_metadata = pd.read_csv(our_messy_metadata_csv)\n",
    "\n",
    "# other data to clean and tidy\n",
    "# beatles spotify data\n",
    "beatles_spotify_csv = 'https://raw.githubusercontent.com/RichardFreedman/Encoding_Music/refs/heads/main/02_Lab_Data/Beatles/M_255_Beatles_Spotify_2025.csv'\n",
    "beatles_spotify = pd.read_csv(beatles_spotify_csv)\n",
    "\n",
    "# beatles billboard and genre data from the Belgrade University project\n",
    "beatles_billboard_csv = 'https://raw.githubusercontent.com/inteligentni/Class-05-Feature-engineering/master/The%20Beatles%20songs%20dataset%2C%20v1%2C%20no%20NAs.csv'\n",
    "beatles_billboard = pd.read_csv(beatles_billboard_csv)\n",
    "\n",
    "\n",
    "\n"
   ]
  },
  {
   "cell_type": "markdown",
   "id": "2f9e30ea-1748-48be-90c7-1fdf38091188",
   "metadata": {},
   "source": [
    "### Check Columns"
   ]
  },
  {
   "cell_type": "code",
   "execution_count": 8,
   "id": "2fa635da-42d2-4ef3-9bfd-42a1563e542d",
   "metadata": {
    "tags": []
   },
   "outputs": [
    {
     "data": {
      "text/plain": [
       "Index(['Timestamp', 'Song Title', 'Your Name', 'Your Graduating Class',\n",
       "       'Team/Group Name', 'Personal Rank', 'Genre Tags',\n",
       "       'Most Likely Context(s)', 'Least Likely Contexts'],\n",
       "      dtype='object')"
      ]
     },
     "execution_count": 8,
     "metadata": {},
     "output_type": "execute_result"
    }
   ],
   "source": [
    "# for exampleour_messy_metadata\n",
    "our_messy_metadata.columns"
   ]
  },
  {
   "cell_type": "code",
   "execution_count": 9,
   "id": "4b0015dc-503a-4d32-af9c-a3164a38aa3b",
   "metadata": {
    "tags": []
   },
   "outputs": [
    {
     "data": {
      "application/vnd.microsoft.datawrangler.viewer.v0+json": {
       "columns": [
        {
         "name": "index",
         "rawType": "int64",
         "type": "integer"
        },
        {
         "name": "Timestamp",
         "rawType": "object",
         "type": "string"
        },
        {
         "name": "Song Title",
         "rawType": "object",
         "type": "string"
        },
        {
         "name": "Your Name",
         "rawType": "object",
         "type": "string"
        },
        {
         "name": "Your Graduating Class",
         "rawType": "object",
         "type": "string"
        },
        {
         "name": "Team/Group Name",
         "rawType": "object",
         "type": "string"
        },
        {
         "name": "Personal Rank",
         "rawType": "object",
         "type": "string"
        },
        {
         "name": "Genre Tags",
         "rawType": "object",
         "type": "string"
        },
        {
         "name": "Most Likely Context(s)",
         "rawType": "object",
         "type": "string"
        },
        {
         "name": "Least Likely Contexts",
         "rawType": "object",
         "type": "string"
        }
       ],
       "ref": "b157de3b-51d3-4b00-8ed8-7ffe8e6cdba0",
       "rows": [],
       "shape": {
        "columns": 9,
        "rows": 0
       }
      },
      "text/html": [
       "<div>\n",
       "<style scoped>\n",
       "    .dataframe tbody tr th:only-of-type {\n",
       "        vertical-align: middle;\n",
       "    }\n",
       "\n",
       "    .dataframe tbody tr th {\n",
       "        vertical-align: top;\n",
       "    }\n",
       "\n",
       "    .dataframe thead th {\n",
       "        text-align: right;\n",
       "    }\n",
       "</style>\n",
       "<table border=\"1\" class=\"dataframe\">\n",
       "  <thead>\n",
       "    <tr style=\"text-align: right;\">\n",
       "      <th></th>\n",
       "      <th>Timestamp</th>\n",
       "      <th>Song Title</th>\n",
       "      <th>Your Name</th>\n",
       "      <th>Your Graduating Class</th>\n",
       "      <th>Team/Group Name</th>\n",
       "      <th>Personal Rank</th>\n",
       "      <th>Genre Tags</th>\n",
       "      <th>Most Likely Context(s)</th>\n",
       "      <th>Least Likely Contexts</th>\n",
       "    </tr>\n",
       "  </thead>\n",
       "  <tbody>\n",
       "  </tbody>\n",
       "</table>\n",
       "</div>"
      ],
      "text/plain": [
       "Empty DataFrame\n",
       "Columns: [Timestamp, Song Title, Your Name, Your Graduating Class, Team/Group Name, Personal Rank, Genre Tags, Most Likely Context(s), Least Likely Contexts]\n",
       "Index: []"
      ]
     },
     "execution_count": 9,
     "metadata": {},
     "output_type": "execute_result"
    }
   ],
   "source": [
    "our_messy_metadata.head()"
   ]
  },
  {
   "cell_type": "code",
   "execution_count": null,
   "id": "e9cf2725-6edc-4690-9e1f-ff3123f0b7ad",
   "metadata": {},
   "outputs": [],
   "source": [
    "# let's drop the Timestamp column\n",
    "# this is not useful for our analysis\n",
    "# it is just the time when the data was last edited and is not relevant to our analysis\n",
    "our_messy_metadata = our_messy_metadata.drop(columns=['Timestamp'])"
   ]
  },
  {
   "cell_type": "markdown",
   "id": "e77e0bd3-3670-46f5-892b-35f428826058",
   "metadata": {},
   "source": [
    "## 2. Clean the Easy Parts\n",
    "\n",
    "- Your Name\n",
    "- Team/Group\n",
    "- Rank\n",
    "- Class Year\n"
   ]
  },
  {
   "cell_type": "code",
   "execution_count": null,
   "id": "d72dd326-4e02-4263-8128-64715a546e3a",
   "metadata": {},
   "outputs": [],
   "source": [
    "# function to clean up names\n",
    "def name_lower(name):\n",
    "    # lower case\n",
    "    name = name.lower()\n",
    "    # remove _ in one name before comma\n",
    "    name = name.replace(\"_,\", \",\")\n",
    "    # remove extra space\n",
    "    name = name.replace(\"_\", \" \")\n",
    "    return name\n",
    "\n",
    "# reverse names so we have surname first\n",
    "def reverse_name_without_comma(name):\n",
    "    words = name.split()\n",
    "    return ', '.join(reversed(words))\n",
    "\n",
    "\n",
    "# clean up team names\n",
    "def team_clean(team):\n",
    "    if \"g\" in team.lower():\n",
    "        team = \"green machine\"\n",
    "    elif \"cr\" in team.lower():\n",
    "        team = \"orange crush\"\n",
    "    elif \"p\" in team.lower():\n",
    "        team = \"purple phlurp\"\n",
    "    return team\n",
    "\n",
    "# clean up personl rankings\n",
    "def rank_clean(rank):\n",
    "    if \"1\" in rank:\n",
    "        rank = 1\n",
    "    elif \"2\" in rank:\n",
    "        rank = 2\n",
    "    elif \"3\" in rank:\n",
    "        rank = 3\n",
    "    elif \"4\" in rank:\n",
    "        rank = 4\n",
    "    elif \"5\" in rank:\n",
    "        rank = 5\n",
    "    elif \"6\" in rank:\n",
    "        rank = 6\n",
    "    else:\n",
    "        rank = 'unranked'\n",
    "    return rank\n",
    "\n",
    "# clean up class years (which start off as strings, but need to be integers)\n",
    "def year_clean(year):\n",
    "    if \"5\" in year:\n",
    "        year = 2025\n",
    "    elif \"6\" in year:\n",
    "        year = 2026\n",
    "    elif \"7\" in year:\n",
    "        year = 2027\n",
    "    elif \"8\" in year:\n",
    "        year = 2028\n",
    "    return year\n",
    "\n"
   ]
  },
  {
   "cell_type": "markdown",
   "id": "f2cf3c87-d9a0-4b39-bfd9-b2d1adcfd9ac",
   "metadata": {},
   "source": [
    "### Apply the Cleaning Functions"
   ]
  },
  {
   "cell_type": "code",
   "execution_count": null,
   "id": "3fd04406-77dc-4658-9020-4be960694614",
   "metadata": {},
   "outputs": [],
   "source": [
    "\n",
    "# apply lower case functions\n",
    "our_messy_metadata['Your Name'] = our_messy_metadata['Your Name'].apply(name_lower)\n",
    "# Apply the function to the 'Name' column\n",
    "our_messy_metadata['Your Name'] = our_messy_metadata['Your Name'].apply(lambda x: x if ',' in x else reverse_name_without_comma(x))\n",
    "# Apply the function to the 'Name' column\n",
    "our_messy_metadata['Team/Group Name'] = our_messy_metadata['Team/Group Name'].apply(team_clean)\n",
    "# apply the rank function function\n",
    "our_messy_metadata['Personal Rank'] = our_messy_metadata['Personal Rank'].apply(rank_clean)\n",
    "# apply class clean\n",
    "our_messy_metadata['Your Graduating Class'] = our_messy_metadata['Your Graduating Class'].apply(year_clean)"
   ]
  },
  {
   "cell_type": "markdown",
   "id": "ebbca2ac-cb4b-4012-85c5-02927b50a8c9",
   "metadata": {},
   "source": [
    "## 3. Clean Genre and Context Columns\n"
   ]
  },
  {
   "cell_type": "code",
   "execution_count": null,
   "id": "33df7975-ddb4-4428-b6ef-38e7699339bf",
   "metadata": {},
   "outputs": [],
   "source": [
    "# depending on how our teams decided to separate their terms, we may need to clean up the terms\n",
    "def regular_separator(terms):\n",
    "    terms = terms.replace(\"?\", \", \")\n",
    "    terms = terms.replace(\";\", \", \")\n",
    "    return terms"
   ]
  },
  {
   "cell_type": "code",
   "execution_count": null,
   "id": "00662395-c037-4d4e-bb93-c5a7b20edf12",
   "metadata": {},
   "outputs": [],
   "source": [
    "# lower case all genres\n",
    "our_messy_metadata['Genre Tags'] = our_messy_metadata['Genre Tags'].str.lower()\n",
    "# regularize separator\n",
    "our_messy_metadata['Genre Tags'] = our_messy_metadata['Genre Tags'].apply(regular_separator)\n",
    "# split long strings to lists, on \",\"\n",
    "our_messy_metadata['Genre Tags'] = our_messy_metadata['Genre Tags'].str.split(',')\n",
    "\n",
    "# now the same for contexts\n",
    "our_messy_metadata['Most Likely Context(s)'] = our_messy_metadata['Most Likely Context(s)'].str.lower()\n",
    "our_messy_metadata['Most Likely Context(s)'] = our_messy_metadata['Most Likely Context(s)'].apply(regular_separator)\n",
    "# split long strings to lists, on \",\"\n",
    "our_messy_metadata['Most Likely Context(s)'] = our_messy_metadata['Most Likely Context(s)'].str.split(',')\n",
    "\n",
    "our_messy_metadata['Least Likely Contexts'] = our_messy_metadata['Least Likely Contexts'].str.lower()\n",
    "our_messy_metadata['Least Likely Contexts'] = our_messy_metadata['Least Likely Contexts'].apply(regular_separator)\n",
    "# split long strings to lists, on \",\"\n",
    "our_messy_metadata['Least Likely Contexts'] = our_messy_metadata['Least Likely Contexts'].str.split(',')\n"
   ]
  },
  {
   "cell_type": "markdown",
   "id": "12ee69ee-aad7-49e2-9962-94c446db7d36",
   "metadata": {},
   "source": [
    "### 4. Explode the Data\n",
    "\n",
    "Some of our columns have lists in them, which we need to explode into multiple rows, in keeping with Wickham's tidy data principles."
   ]
  },
  {
   "cell_type": "code",
   "execution_count": null,
   "id": "f8171d42-ba5f-4a24-b54d-79a37fa05af1",
   "metadata": {},
   "outputs": [],
   "source": [
    "# explode on Genre Tags\n",
    "our_messy_metadata_exploded = our_messy_metadata.explode('Genre Tags').reset_index(drop=True)\n",
    "our_messy_metadata_exploded\n"
   ]
  },
  {
   "cell_type": "markdown",
   "id": "29947818",
   "metadata": {},
   "source": [
    "### 5. Filter for a Given Genre\n",
    "\n",
    "Now that we have exploded the data, we can filter for a given genre, such as rock.  Previously this would have been impossible, since the genre was a list in a single cell."
   ]
  },
  {
   "cell_type": "code",
   "execution_count": 11,
   "id": "252ebc70-df24-490b-b838-4dae51cee7b8",
   "metadata": {},
   "outputs": [
    {
     "data": {
      "application/vnd.microsoft.datawrangler.viewer.v0+json": {
       "columns": [
        {
         "name": "index",
         "rawType": "int64",
         "type": "integer"
        },
        {
         "name": "Timestamp",
         "rawType": "object",
         "type": "string"
        },
        {
         "name": "Song Title",
         "rawType": "object",
         "type": "string"
        },
        {
         "name": "Your Name",
         "rawType": "object",
         "type": "string"
        },
        {
         "name": "Your Graduating Class",
         "rawType": "object",
         "type": "string"
        },
        {
         "name": "Team/Group Name",
         "rawType": "object",
         "type": "string"
        },
        {
         "name": "Personal Rank",
         "rawType": "object",
         "type": "string"
        },
        {
         "name": "Genre Tags",
         "rawType": "object",
         "type": "string"
        },
        {
         "name": "Most Likely Context(s)",
         "rawType": "object",
         "type": "string"
        },
        {
         "name": "Least Likely Contexts",
         "rawType": "object",
         "type": "string"
        }
       ],
       "ref": "585c4867-31ff-407b-9e29-b7c8222a2706",
       "rows": [],
       "shape": {
        "columns": 9,
        "rows": 0
       }
      },
      "text/html": [
       "<div>\n",
       "<style scoped>\n",
       "    .dataframe tbody tr th:only-of-type {\n",
       "        vertical-align: middle;\n",
       "    }\n",
       "\n",
       "    .dataframe tbody tr th {\n",
       "        vertical-align: top;\n",
       "    }\n",
       "\n",
       "    .dataframe thead th {\n",
       "        text-align: right;\n",
       "    }\n",
       "</style>\n",
       "<table border=\"1\" class=\"dataframe\">\n",
       "  <thead>\n",
       "    <tr style=\"text-align: right;\">\n",
       "      <th></th>\n",
       "      <th>Timestamp</th>\n",
       "      <th>Song Title</th>\n",
       "      <th>Your Name</th>\n",
       "      <th>Your Graduating Class</th>\n",
       "      <th>Team/Group Name</th>\n",
       "      <th>Personal Rank</th>\n",
       "      <th>Genre Tags</th>\n",
       "      <th>Most Likely Context(s)</th>\n",
       "      <th>Least Likely Contexts</th>\n",
       "    </tr>\n",
       "  </thead>\n",
       "  <tbody>\n",
       "  </tbody>\n",
       "</table>\n",
       "</div>"
      ],
      "text/plain": [
       "Empty DataFrame\n",
       "Columns: [Timestamp, Song Title, Your Name, Your Graduating Class, Team/Group Name, Personal Rank, Genre Tags, Most Likely Context(s), Least Likely Contexts]\n",
       "Index: []"
      ]
     },
     "execution_count": 11,
     "metadata": {},
     "output_type": "execute_result"
    }
   ],
   "source": [
    "# filter for rock songs\n",
    "rock_songs = our_messy_metadata_exploded[our_messy_metadata_exploded['Genre Tags'] == 'rock'].reset_index(drop=True)\n",
    "\n",
    "rock_songs"
   ]
  },
  {
   "cell_type": "code",
   "execution_count": null,
   "id": "1dd603e1",
   "metadata": {},
   "outputs": [],
   "source": []
  }
 ],
 "metadata": {
  "kernelspec": {
   "display_name": "encoding_music",
   "language": "python",
   "name": "python3"
  },
  "language_info": {
   "codemirror_mode": {
    "name": "ipython",
    "version": 3
   },
   "file_extension": ".py",
   "mimetype": "text/x-python",
   "name": "python",
   "nbconvert_exporter": "python",
   "pygments_lexer": "ipython3",
   "version": "3.10.14"
  }
 },
 "nbformat": 4,
 "nbformat_minor": 5
}

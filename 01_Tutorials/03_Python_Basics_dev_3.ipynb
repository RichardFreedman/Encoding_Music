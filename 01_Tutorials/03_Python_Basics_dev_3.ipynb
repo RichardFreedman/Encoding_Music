{
 "cells": [
  {
   "cell_type": "markdown",
   "metadata": {},
   "source": [
    "### Citations (unfinished)\n",
    "\n",
    "**Resources used in the creation of this guide**\n",
    "\n",
    "1. http://python-textbook.pythonhumanities.com/01_intro/01_01-02_introduction_to_python.html"
   ]
  },
  {
   "cell_type": "markdown",
   "metadata": {},
   "source": [
    "# Python Basics\n",
    "\n",
    "## Introduction\n",
    "\n",
    "Python is a powerful yet approachable programming language, making it ideal for use in this course. While Python has many applications, our focus in Encoding Music will be using Python to understand, transform, and create data related to music. The objective of this guide is to introduce you to the basic syntactical structure of Python while learning about four key topics:\n",
    "\n",
    "1. Data and Data Structures\n",
    "2. Logic\n",
    "3. Loops\n",
    "4. Functions\n",
    "\n",
    "You may already be familiar with Python, in which case you can use this guide as a refresher or reference.\n",
    "\n",
    "## Where are we?\n",
    "\n",
    "Traditionally, Python is written in a `.py` file, like `hello.py`, consisting only of Python code. However, in this course, we'll write and run code in Jupyter notebooks. The main difference between `.py` files and Jupyter notebooks is the ability to break up code with sections of formatted text, called \"markdown\", easily run isolated sections of code, and view the the output of your code in one place.\n",
    "\n",
    "Let's get started!"
   ]
  },
  {
   "cell_type": "markdown",
   "metadata": {},
   "source": [
    "## Data and Data Structures\n",
    "\n",
    "### Hello World\n",
    "\n",
    "Later, we'll take data and analyze it. But we need to be able to get Python to show us the results - to create output. Python creates output using the `print()` function."
   ]
  },
  {
   "cell_type": "code",
   "execution_count": 2,
   "metadata": {},
   "outputs": [
    {
     "name": "stdout",
     "output_type": "stream",
     "text": [
      "Hello, World!\n"
     ]
    }
   ],
   "source": [
    "# Run this cell\n",
    "print(\"Hello, World!\")"
   ]
  },
  {
   "cell_type": "markdown",
   "metadata": {},
   "source": [
    "As you can see, the `print()` function will cause some output - whatever is between those parentheses - to display below the code cell. You can try changing the text, running the cell again, and seeing what happens. Just be sure to keep the quotation marks in place.\n",
    "\n",
    "You may have also noticed plain English writing in the code cell: `# Run this cell`. This is called a comment, and allows you to write small notes, instructions, or descriptions in your code. Writing `#` tells Python to ignore everything that follows the `#` in that line.\n",
    "\n",
    "### Variables\n",
    "\n",
    "Sometimes, we might want Python to remember something, so we can use it later. Python gives us the ability to store things in the computer's memory using **variables**. With a variable, you essentially *name* a location in the computer's memory, then put something there. For example:"
   ]
  },
  {
   "cell_type": "code",
   "execution_count": 15,
   "metadata": {},
   "outputs": [],
   "source": [
    "# Run this cell\n",
    "x = \"Hello, World!\""
   ]
  },
  {
   "cell_type": "markdown",
   "metadata": {},
   "source": [
    "This is called *assigning a value* (`\"Hello, World!\"`) *to a variable* (`x`). Now we can try printing `\"Hello, World!\"` again, but this time by referencing the variable `x`."
   ]
  },
  {
   "cell_type": "code",
   "execution_count": 16,
   "metadata": {},
   "outputs": [
    {
     "name": "stdout",
     "output_type": "stream",
     "text": [
      "Hello, World!\n"
     ]
    }
   ],
   "source": [
    "# Run this cell\n",
    "print(x)"
   ]
  },
  {
   "cell_type": "markdown",
   "metadata": {},
   "source": [
    "A nice thing about Jupyter is that if you put a variable in the **last line** of a code cell and run it, Jupyter will output that variable."
   ]
  },
  {
   "cell_type": "code",
   "execution_count": 17,
   "metadata": {},
   "outputs": [
    {
     "data": {
      "text/plain": [
       "'Hello, World!'"
      ]
     },
     "execution_count": 17,
     "metadata": {},
     "output_type": "execute_result"
    }
   ],
   "source": [
    "# Run this cell\n",
    "x"
   ]
  },
  {
   "cell_type": "markdown",
   "metadata": {},
   "source": [
    "This also demonstrates a fundamental principle in Jupyter - **all your code exists in the same world**. This means if you assign a value to `x` in one cell, and reference `x` in another cell, that will work because both cells exist in the same world.\n",
    "\n",
    "#### Things to keep in mind\n",
    "\n",
    "As you begin coding, here are some important ideas to keep in mind. You can try testing these out in the code block below.\n",
    "\n",
    "##### Case Sensitivity\n",
    "\n",
    "Everything in Python is case-sensitive. Running `print(X)` will give you an error, because you haven't yet named a location in memory `X`. Running `Print(x)` will give you an error because the capitalization is not correct.\n",
    "\n",
    "##### Nothing Counts Unless You Run It\n",
    "\n",
    "You might decide you want to output `\"got it\"` in the below cell, after you correct the capitalization of the variable `x`. If you go to the earlier cell where we first assigned a value to `x` and change that value to `\"got it\"`, you have to **run that cell**. Only *then* can you return to the cell below, run it, and get the new output `\"got it\"`. This can become difficult to keep track of with larger files - if Python ever acts like code you wrote doesn't exist, first make sure you've run all the code you've written!"
   ]
  },
  {
   "cell_type": "code",
   "execution_count": 18,
   "metadata": {},
   "outputs": [
    {
     "ename": "NameError",
     "evalue": "name 'X' is not defined",
     "output_type": "error",
     "traceback": [
      "\u001b[0;31m---------------------------------------------------------------------------\u001b[0m",
      "\u001b[0;31mNameError\u001b[0m                                 Traceback (most recent call last)",
      "\u001b[0;32m/tmp/ipykernel_416097/2994571786.py\u001b[0m in \u001b[0;36m<cell line: 2>\u001b[0;34m()\u001b[0m\n\u001b[1;32m      1\u001b[0m \u001b[0;31m# Experiment with the below issues\u001b[0m\u001b[0;34m\u001b[0m\u001b[0;34m\u001b[0m\u001b[0m\n\u001b[0;32m----> 2\u001b[0;31m \u001b[0mprint\u001b[0m\u001b[0;34m(\u001b[0m\u001b[0mX\u001b[0m\u001b[0;34m)\u001b[0m    \u001b[0;31m# How can this be made to run? And how can you change the output value?\u001b[0m\u001b[0;34m\u001b[0m\u001b[0;34m\u001b[0m\u001b[0m\n\u001b[0m",
      "\u001b[0;31mNameError\u001b[0m: name 'X' is not defined"
     ]
    }
   ],
   "source": [
    "# Experiment with the below issues\n",
    "print(X)    # How can this be made to run? And how can you change the output value?"
   ]
  },
  {
   "cell_type": "markdown",
   "metadata": {},
   "source": [
    "### Data Types\n",
    "\n",
    "Let's say you're doing a project on the Beatles, and you're collecting some data about them. You already know how to create a variable for the band name - `\"The Beatles\"`, just like `\"Hello, World!\"`, is text. But you'll want to store other types of data, too. To begin, consider:\n",
    "\n",
    "1. Name of band \n",
    "2. Number of albums released\n",
    "3. Number of years the band was together\n",
    "4. Whether or not they are in the Hall of Fame (HOF)\n",
    "5. List of all band members\n",
    "\n",
    "You could simply store all these as text - for example, `band_members = \"John, Paul, George, and Ringo`. But Python has simple, built-in ways to express different types of data."
   ]
  },
  {
   "cell_type": "code",
   "execution_count": null,
   "metadata": {},
   "outputs": [],
   "source": [
    "# Run this cell\n",
    "band_name = \"The Beatles\"   # string\n",
    "albums_released = 13        # integer\n",
    "years_together = 7.6        # float\n",
    "in_hof = True               # boolean\n",
    "band_members = [\"John Lennon\", \"Paul McCartney\", \"George Harrison\", \"Ringo Starr\"] # list"
   ]
  },
  {
   "cell_type": "markdown",
   "metadata": {},
   "source": [
    "These are five of many different data types in Python. Just by writing the data in a specific way (e.g. including quotation marks, a decimal, brackets), we can tell Python what type of data we want the variable to recognized as. We can verify that Python understands this using the `type()` function, which outputs the `type` of the data between the parentheses."
   ]
  },
  {
   "cell_type": "code",
   "execution_count": null,
   "metadata": {},
   "outputs": [
    {
     "name": "stdout",
     "output_type": "stream",
     "text": [
      "<class 'str'>\n",
      "<class 'int'>\n",
      "<class 'float'>\n",
      "<class 'bool'>\n",
      "<class 'list'>\n"
     ]
    }
   ],
   "source": [
    "# Run this cell\n",
    "print(type(band_name))\n",
    "print(type(albums_released))\n",
    "print(type(years_together))\n",
    "print(type(in_hof))\n",
    "print(type(band_members))"
   ]
  },
  {
   "cell_type": "markdown",
   "metadata": {},
   "source": [
    "### Data Types\n",
    "\n",
    "These are some of the most important **data types** in Python. But why does it matter what data type a variable is? How do data types give us greater capabilities when working with Python?\n",
    "\n",
    "Python handles each data type differently. When you **access** and **operate on** your data, you'll have to do so in different ways depending on the data type. You'll also see that different operations are possible on different data types. When you're deciding how to store your data, your principal consideration should be what you intend to do with that data. Here's a summary of those things:\n",
    "\n",
    "#### Strings\n",
    "\n",
    "`\"this is a string\"`\n",
    "\n",
    "* Get just part of a string\n",
    "* Get jus\n",
    "\n",
    "\n",
    "##### Description\n",
    "\n",
    "*(abbreviated `str`)* A **string** of alpha-numeric characters surrounded by quotation marks. The quotation marks can be double `\"text\"` or single `'text'`, but never mixed `\"not this!'`. We use strings for text, `\"anything from a long phrase or paragraph\"` to a single character `\"c\"`, or even an empty string `\"\"`.\n",
    "\n",
    "##### Creation\n",
    "\n",
    "`text1 = \"Encoding Music\"`\n",
    "\n",
    "`text2 = 'Music 255'`\n",
    "\n",
    "##### Accessing\n",
    "\n",
    "Usually, you'll want the entire string, which you can get using the variable name.\n",
    "\n",
    "`print(text2)`\n",
    "\n",
    "Sometimes, though, you might just want part of a string. Say you just want the course number for Encoding Music, `\"255\"`. You can get this through a technique known as **string splicing**.\n",
    "\n",
    "A string is a sequence of characters, and you can assign an index to each of these characters. For example, in `\"Music 255\"`:\n",
    "\n",
    "```\n",
    "| 0 | 1 | 2 | 3 | 4 | 5 | 6 | 7 | 8 |\n",
    "|'M'|'u'|'s'|'i'|'c'|' '|'2'|'5'|'5'|\n",
    "```\n",
    "\n",
    "You can access just the '2' using the **index** of that character. To the right of the variable name, enclose the index in brackets: `text2[6]`.\n",
    "\n",
    "See what happens:"
   ]
  },
  {
   "cell_type": "code",
   "execution_count": 27,
   "metadata": {},
   "outputs": [
    {
     "data": {
      "text/plain": [
       "'2'"
      ]
     },
     "execution_count": 27,
     "metadata": {},
     "output_type": "execute_result"
    }
   ],
   "source": [
    "# Run this cell\n",
    "text2 = 'Music 255'\n",
    "text2[6]"
   ]
  },
  {
   "cell_type": "markdown",
   "metadata": {},
   "source": [
    "To access several characters in a string, you can specify a **range**. Ranges are specified in the format `[start:end]`, but *with a catch*: the end is **not inclusive**. The range `[6:8]` won't work to get \"255\", because that range gets all the indices **starting from 6** and **up to, *but not including*, 8**."
   ]
  },
  {
   "cell_type": "code",
   "execution_count": null,
   "metadata": {},
   "outputs": [
    {
     "data": {
      "text/plain": [
       "'25'"
      ]
     },
     "execution_count": 3,
     "metadata": {},
     "output_type": "execute_result"
    }
   ],
   "source": [
    "# Run this cell\n",
    "text2[6:8]"
   ]
  },
  {
   "cell_type": "markdown",
   "metadata": {},
   "source": [
    "So if the index of the last character you want is `8`, your range should end in `9`."
   ]
  },
  {
   "cell_type": "code",
   "execution_count": null,
   "metadata": {},
   "outputs": [
    {
     "data": {
      "text/plain": [
       "'255'"
      ]
     },
     "execution_count": 4,
     "metadata": {},
     "output_type": "execute_result"
    }
   ],
   "source": [
    "# Run this cell\n",
    "text2[6:9]"
   ]
  },
  {
   "cell_type": "markdown",
   "metadata": {},
   "source": [
    "If you want a **substring** to go up to the end of a string, you can also leave the end of a range blank: `text2[6:]`. This captures every character from index 6 onwards.\n",
    "\n",
    "You can also refer to indices by their position relative from the **end** of the string. Here is what those alternative indices would look like:\n",
    "\n",
    "```\n",
    "| -9 | -8 | -7 | -6 | -5 | -4 | -3 | -2 | -1 |\n",
    "|'M' |'u' |'s' |'i' |'c' |' ' |'2' |'5' |'5' |\n",
    "```\n",
    "\n",
    "Thus, another way to get the substring \"255\" is using `text2[-3:]`."
   ]
  },
  {
   "cell_type": "code",
   "execution_count": null,
   "metadata": {},
   "outputs": [
    {
     "data": {
      "text/plain": [
       "'255'"
      ]
     },
     "execution_count": 5,
     "metadata": {},
     "output_type": "execute_result"
    }
   ],
   "source": [
    "# Run this cell\n",
    "text2[-3:]"
   ]
  },
  {
   "cell_type": "markdown",
   "metadata": {},
   "source": [
    "##### Operating\n",
    "\n",
    "There's an optional third argument when specifying range: `step` (`string[start:end:step]`). By default, `step` is set to `1`. This means that within the specified range, your substring will move from forward from index to index in increments of 1.\n",
    "\n",
    "However, this can be changed to any integer. For example, we can take the substring `text2[::2]`. Since we left `start` and `end` blank, this range automatically includes the beginning and end of the string (you don't need to leave a whitespace to leave `start` or `end` blank). See what happens:"
   ]
  },
  {
   "cell_type": "code",
   "execution_count": 29,
   "metadata": {},
   "outputs": [
    {
     "data": {
      "text/plain": [
       "'Msc25'"
      ]
     },
     "execution_count": 29,
     "metadata": {},
     "output_type": "execute_result"
    }
   ],
   "source": [
    "# Run this cell\n",
    "text2[::2]"
   ]
  },
  {
   "cell_type": "markdown",
   "metadata": {},
   "source": [
    "As you can see, this returns **every other character** in the string. If we set step to a negative integer, the substring specified by the range will be parsed in **reverse**. For example, `text2[::-1]` will return the original string in reverse:"
   ]
  },
  {
   "cell_type": "code",
   "execution_count": 33,
   "metadata": {},
   "outputs": [
    {
     "data": {
      "text/plain": [
       "'552 cisuM'"
      ]
     },
     "execution_count": 33,
     "metadata": {},
     "output_type": "execute_result"
    }
   ],
   "source": [
    "# Run this cell\n",
    "text2[::-1]"
   ]
  },
  {
   "cell_type": "markdown",
   "metadata": {},
   "source": [
    "However, keep in mind that changing the order in which the string is parsed changes what the `start` and `end` of your substring should be. If you just want to reverse the word `Music`, your new `start` is at the character `c`, in index position `4`. If you set the `end` to `0`, you'll exclude the character `M`, since the `end` of a range is not inclusive. The only way to reverse all of `Music` is to leave `end` blank: `text2[4::-1]`"
   ]
  },
  {
   "cell_type": "code",
   "execution_count": 36,
   "metadata": {},
   "outputs": [
    {
     "data": {
      "text/plain": [
       "'cisuM'"
      ]
     },
     "execution_count": 36,
     "metadata": {},
     "output_type": "execute_result"
    }
   ],
   "source": [
    "# Run this cell\n",
    "text2[4::-1]"
   ]
  },
  {
   "cell_type": "markdown",
   "metadata": {},
   "source": [
    "##### Operating with Built-In Methods\n",
    "\n",
    "Python provides a number of **methods** for operating on strings. Note the usage of the term \"returns\": when a Python method is used, the output of that operation is called what the method **returns**. Here are some key methods:\n",
    "\n",
    "* `.title()`: Returns the string in title case\n",
    "* `.upper()`: Returns the string in upper case\n",
    "* `.lower()`: Returns the string in lower case\n",
    "* `.replace()`: Returns the string with characters replaced as specified\n",
    "* `.find()`: Returns the index of a given character in the string, or -1 if not found\n",
    "* `.strip()`: Returns a string without the specified trailing/leading characters\n",
    "* `.split()`: Returns a list of substrings from the original string that were separated by the specified value\n",
    "\n",
    "To see more, visit the [W3Schools resource on strings](https://www.w3schools.com/python/python_ref_string.asp).\n",
    "\n",
    "To understand how these work, see the below example:\n"
   ]
  },
  {
   "cell_type": "code",
   "execution_count": 14,
   "metadata": {},
   "outputs": [
    {
     "name": "stdout",
     "output_type": "stream",
     "text": [
      "Original: encoding music\n",
      "Title case: Encoding Music\n",
      "Upper case: ENCODING MUSIC\n",
      "Lower case: encoding music\n",
      "Replacement: encoding_music\n",
      "Find:\n",
      "8\n",
      "Original: --Music 255---\n",
      "Stripped: Music 255\n",
      "Split:\n",
      "['Music', '255']\n"
     ]
    }
   ],
   "source": [
    "# Run this cell\n",
    "text1 = 'encoding music'\n",
    "print(\"Original: \" + text1)\n",
    "\n",
    "text1 = text1.title()\n",
    "print(\"Title case: \" + text1)\n",
    "\n",
    "text1 = text1.upper()\n",
    "print(\"Upper case: \" + text1)\n",
    "\n",
    "text1 = text1.lower()\n",
    "print(\"Lower case: \" + text1)\n",
    "\n",
    "text1 = text1.replace(\" \", \"_\") # Replaces all instances of \" \" with \"_\"\n",
    "print(\"Replacement: \" + text1)\n",
    "\n",
    "print(\"Find:\")\n",
    "print(text1.find('_'))      # Returns the index of the character \"_\" without changing the string\n",
    "\n",
    "text2 = '--Music 255---'\n",
    "print(\"Original: \" + text2)\n",
    "\n",
    "text2 = text2.strip('-')    # Removes \"-\" from the beginning and end of the string until the\n",
    "                            # string neither starts nor ends with \"-\"\n",
    "print(\"Stripped: \" + text2)\n",
    "\n",
    "text2 = text2.split(' ')    # Splits the string based on the separator \" \" (single space)\n",
    "print(\"Split:\")\n",
    "print(text2)                # Need to print the list on a new line, since you can't add\n",
    "                            # a string to a list."
   ]
  },
  {
   "cell_type": "markdown",
   "metadata": {},
   "source": [
    "You may have noticed how the output from the `.find()` and `.split()` methods were displayed differently from the other outputs. This is because the data type resulting from `.find()` is an integer, which cannot be added to a string, and the data type resulting from `.split()` is a list, which cannot be added to a string:\n",
    "\n",
    "`print(\"Find: \" + 8)` would return an error.\n",
    "\n",
    "`print(\"Split: \" + ['Music', '255'])` would return an error.\n",
    "\n",
    "There is a more elegant solution to this problem: **f-strings**. F-strings (short for **formatted strings**) are a way to cleanly incorporate data into a string. For example: `print(f\"Split: {text2}\")`\n",
    "\n",
    "Placing `f` before the string indicates an f-string. Then, within an f-string, anything within curly brackets `{` `}` is automatically converted to a string that can be outputted. Try it:"
   ]
  },
  {
   "cell_type": "code",
   "execution_count": 15,
   "metadata": {},
   "outputs": [
    {
     "name": "stdout",
     "output_type": "stream",
     "text": [
      "Find: 8\n",
      "Split: ['Music', '255']\n"
     ]
    }
   ],
   "source": [
    "# Run this cell\n",
    "print(f\"Find: {text1.find('_')}\")\n",
    "print(f\"Split: {text2}\")"
   ]
  },
  {
   "cell_type": "markdown",
   "metadata": {},
   "source": [
    "You can also manually convert other data types to strings using the `str()` function. For example, say you have the variables `a = 'Music'` and `b = 255`. If you want to use these two variables to create the string `Music 255`, you might want to convert `b` from an integer to a string.\n",
    "\n",
    "You can do this using `str(b)`:"
   ]
  },
  {
   "cell_type": "code",
   "execution_count": 16,
   "metadata": {},
   "outputs": [
    {
     "name": "stdout",
     "output_type": "stream",
     "text": [
      "<class 'str'>\n",
      "Music 255\n"
     ]
    }
   ],
   "source": [
    "# Run this cell\n",
    "a = 'Music'\n",
    "b = 255\n",
    "\n",
    "b = str(b)\n",
    "print(type(b))  # See that b has been converted to a string\n",
    "\n",
    "# Now add a and b, with a space in between, and print it\n",
    "course = a + ' ' + b\n",
    "print(course)"
   ]
  },
  {
   "cell_type": "markdown",
   "metadata": {},
   "source": [
    "You can also perform the opposite conversion! You can convert a string to an integer using `int()`. This will only work if the string you perform it on is actually an integer, for example `int('255')`:"
   ]
  },
  {
   "cell_type": "code",
   "execution_count": 5,
   "metadata": {},
   "outputs": [
    {
     "data": {
      "text/plain": [
       "int"
      ]
     },
     "execution_count": 5,
     "metadata": {},
     "output_type": "execute_result"
    }
   ],
   "source": [
    "# Run this cell\n",
    "x = int('255')  # converting a string to an integer\n",
    "\n",
    "type(x)"
   ]
  },
  {
   "cell_type": "markdown",
   "metadata": {},
   "source": [
    "Now let's see what we can do with integers in Python.\n",
    "\n",
    "#### Integers\n",
    "\n",
    "##### Description\n",
    "\n",
    "*(abbreviated `int`)* A number that has no decimal or fractional part (e.g. `3`, `0`, `-10`).\n",
    "\n",
    "##### Creation\n",
    "\n",
    "Any number without a decimal is automatically interpreted as an integer.\n",
    "\n",
    "`x = 5`\n",
    "\n",
    "`x = -22`\n",
    "\n",
    "##### Operating\n",
    "\n",
    "When Python recognizes a variable is an integer, you can do math with it:"
   ]
  },
  {
   "cell_type": "code",
   "execution_count": 13,
   "metadata": {},
   "outputs": [
    {
     "name": "stdout",
     "output_type": "stream",
     "text": [
      "15\n",
      "5\n",
      "50\n",
      "100000\n",
      "2.0\n",
      "0\n"
     ]
    }
   ],
   "source": [
    "# Run this cell\n",
    "print(10 + 5)   # Addition\n",
    "print(10 - 5)   # Subtraction\n",
    "print(10 * 5)   # Multiplication\n",
    "print(10 ** 5)  # Exponentiation 10^5\n",
    "print(10 / 5)   # Division\n",
    "print(10 % 5)   # Remainder"
   ]
  },
  {
   "cell_type": "markdown",
   "metadata": {},
   "source": [
    "You may have noticed that the output from division, `10 / 5`, came out with a decimal. Since division can result in **floats**, numbers with a fractional part, the result of **all** division will be outputted as a float.\n",
    "\n",
    "#### Floats\n",
    "\n",
    "##### Description\n",
    "\n",
    "A number that can have a decimal or fractional part, but doesn't have to (e.g. `3.14159`, `-7.2`, `5.0`).\n",
    "\n",
    "##### Creation\n",
    "\n",
    "Just adding a decimal to a number makes Python interpret it as a float, even when that decimal is 0.\n",
    "\n",
    "`x = 4.2`\n",
    "\n",
    "`x = -5.0`\n",
    "\n",
    "##### Operation\n",
    "\n",
    "Operating with floats works the same way as with integers, and for our usage there is no real difference between the two. Python is flexible, so if you perform an operation that combines integers and floats, Python will treat both as floats (and thus give a float as an output).\n",
    "\n",
    "`3.5 + 4` will output `7.5`, for example.\n",
    "\n",
    "Even when the decimal is 0, involving a float will cause the output to be a float: `1 * 1.0` will output `1.0`.\n",
    "\n",
    "You can convert floats to integers using `int()`, which just strips a number of its decimal places: see what happens when you write `int(7.8)`."
   ]
  },
  {
   "cell_type": "code",
   "execution_count": 18,
   "metadata": {},
   "outputs": [
    {
     "data": {
      "text/plain": [
       "7"
      ]
     },
     "execution_count": 18,
     "metadata": {},
     "output_type": "execute_result"
    }
   ],
   "source": [
    "int(7.8)"
   ]
  },
  {
   "cell_type": "markdown",
   "metadata": {},
   "source": [
    "#### Booleans\n",
    "\n",
    "##### Description\n",
    "\n",
    "*(abbreviated `bool`)* A value that is either `True` or `False`, and must be capitalized exactly as shown. Booleans are written **without** quotation marks -- if quotation marks are included, Python will interpret the variable as a string.\n",
    "\n",
    "##### Creation\n",
    "\n",
    "You can create a boolean by writing either `True` or `False` without quotation marks.\n",
    "\n",
    "`b = True`\n",
    "\n",
    "`b = False`\n",
    "\n",
    "##### Operation\n",
    "\n",
    "Booleans are important because of the operations possible with them. We'll explore the ways you can operate with booleans when we get to **logic** and **conditionals**.\n",
    "\n",
    "#### Lists\n",
    "\n",
    "A collection of values, written within brackets, and separated by commas. A list can contain any data type within it, and can contain multiple data types at once. A list can also contain another list (called a **nested list**).\n",
    "\n",
    "For example:\n",
    "\n",
    "-   `[\"John\", \"Paul\", \"George\", \"Ringo\"]`\n",
    "-   `[\"Apple\", 2024, 0.8, [True, True, False]]`\n",
    "\n"
   ]
  },
  {
   "cell_type": "markdown",
   "metadata": {},
   "source": [
    "It's important to think about what you want to do with data before choosing how to store it. Python only has certain tools available for certain data types, which makes your decision of data types important.\n",
    "\n",
    "Let's return to our example project, collecting data about the Beatles. Now that we've established the importance of data types and covered the most important ones, we can go even further.\n",
    "\n",
    "#### Dictionaries\n",
    "\n",
    "*(abbreviated `dict`)* For our project, we want to know the full name of each Beatle, when they were born, and what instrument they played. But we don't yet have a good way of storing a group of related data. We could try to use a list:\n",
    "\n",
    "`john = [\"John Lennon\", 1940, \"guitar\"]`\n",
    "\n",
    "But this isn't particuarly helpful. If we're looking at this list, it's not immediately clear what each category in the list is meant to be. **Dictionaries** solve that issue by alllowing you to specify a **key** for each **value**.\n",
    "\n",
    "For the value `\"John Lennon\"`, we might specify the key `\"full_name\"` like this:\n",
    "\n",
    "`\"full_name\": \"John Lennon\"\n",
    "\n",
    "This is a **key-value pair**. \n",
    "\n",
    "##### Description\n",
    "\n",
    "A **dictionary** is a collection of these key-value pairs, surrounded by curly brackets `{` `}` and separated by commas. Here is an implementation of some dictionaries in our example:"
   ]
  },
  {
   "cell_type": "code",
   "execution_count": null,
   "metadata": {},
   "outputs": [
    {
     "data": {
      "text/plain": [
       "[{'full_name': 'John Lennon', 'birth_year': 1940, 'instrument': 'guitar'},\n",
       " {'full_name': 'Paul McCartney',\n",
       "  'birth_year': 1942,\n",
       "  'instrument': 'bass guitar'},\n",
       " {'full_name': 'George Harrison', 'birth_year': 1943, 'instrument': 'guitar'},\n",
       " {'full_name': 'Ringo Starr', 'birth_year': 1940, 'instrument': 'drums'}]"
      ]
     },
     "execution_count": 47,
     "metadata": {},
     "output_type": "execute_result"
    }
   ],
   "source": [
    "# Run this cell\n",
    "band_name = \"The Beatles\"   # string\n",
    "albums_released = 13        # integer\n",
    "years_together = 7.6        # float\n",
    "in_hof = True               # boolean\n",
    "band_members = [\n",
    "    {\"full_name\": \"John Lennon\", \"birth_year\": 1940, \"instrument\": \"guitar\"},           # dict\n",
    "    {\"full_name\": \"Paul McCartney\", \"birth_year\": 1942, \"instrument\": \"bass guitar\"},   # dict\n",
    "    {\"full_name\": \"George Harrison\", \"birth_year\": 1943, \"instrument\": \"guitar\"},       # dict\n",
    "    {\"full_name\": \"Ringo Starr\", \"birth_year\": 1940, \"instrument\": \"drums\"}             # dict\n",
    "] # list\n",
    "\n",
    "# See what happens when you output a dictionary\n",
    "band_members"
   ]
  },
  {
   "cell_type": "markdown",
   "metadata": {},
   "source": [
    "As you can see, the list of strings we had previously is now a much richer list of dictionaries, containing much more information. You can also see how the various data types work together: a **list** of **dictionaries**, each containing **strings** and **integers**.\n",
    "\n",
    "This can be extended infinitely - for example, you might decide that each band member should actually have a **list** of every instrument they played, rather than just one.\n",
    "\n",
    "For example John Lennon's key-value pair `\"instrument\": \"guitar\"` could be replaced by:\n",
    "\n",
    "`\"instruments\": [\"guitar\", \"harmonica\", \"piano\", \"violin\", \"trumpet\"]`\n",
    "\n",
    "Just remember to be consistent - it makes your life much easier if every band member's dictionary has data stored in the same way.\n",
    "\n",
    "Let's make one last big change. We have five variables storing data about the same subject, the Beatles. That seems like a perfect candidate for a dictionary. We can replace these variables wth key-value pairs:"
   ]
  },
  {
   "cell_type": "code",
   "execution_count": null,
   "metadata": {},
   "outputs": [
    {
     "data": {
      "text/plain": [
       "{'band_name': 'The Beatles',\n",
       " 'albums_released': 13,\n",
       " 'years_together': 7.6,\n",
       " 'in_hof': True,\n",
       " 'band_members': [{'full_name': 'John Lennon',\n",
       "   'birth_year': 1940,\n",
       "   'instrument': 'guitar'},\n",
       "  {'full_name': 'Paul McCartney',\n",
       "   'birth_year': 1942,\n",
       "   'instrument': 'bass guitar'},\n",
       "  {'full_name': 'George Harrison', 'birth_year': 1943, 'instrument': 'guitar'},\n",
       "  {'full_name': 'Ringo Starr', 'birth_year': 1940, 'instrument': 'drums'}]}"
      ]
     },
     "execution_count": 48,
     "metadata": {},
     "output_type": "execute_result"
    }
   ],
   "source": [
    "# Run this cell\n",
    "beatles = {\n",
    "    \"band_name\": \"The Beatles\",\n",
    "    \"albums_released\": 13,\n",
    "    \"years_together\": 7.6,\n",
    "    \"in_hof\": True,\n",
    "    \"band_members\": [\n",
    "        {\"full_name\": \"John Lennon\", \"birth_year\": 1940, \"instrument\": \"guitar\"},\n",
    "        {\"full_name\": \"Paul McCartney\", \"birth_year\": 1942, \"instrument\": \"bass guitar\"},\n",
    "        {\"full_name\": \"George Harrison\", \"birth_year\": 1943, \"instrument\": \"guitar\"},\n",
    "        {\"full_name\": \"Ringo Starr\", \"birth_year\": 1940, \"instrument\": \"drums\"}\n",
    "    ]\n",
    "}\n",
    "\n",
    "# See what happens when you output the new dictionary\n",
    "beatles"
   ]
  },
  {
   "cell_type": "markdown",
   "metadata": {},
   "source": [
    "Dictionaries are a great way to store a variety of data related to one entity.\n",
    "\n",
    "You're now familiar with **strings**, **integers**, **floats**, **booleans**, **lists**, and **dictionaries**. With these data types, we've assembled a collection of data related to the Beatles. Now it's time to do something with that data.\n",
    "\n",
    "For our project, "
   ]
  }
 ],
 "metadata": {
  "kernelspec": {
   "display_name": "Python 3 (ipykernel)",
   "language": "python",
   "name": "python3"
  }
 },
 "nbformat": 4,
 "nbformat_minor": 2
}

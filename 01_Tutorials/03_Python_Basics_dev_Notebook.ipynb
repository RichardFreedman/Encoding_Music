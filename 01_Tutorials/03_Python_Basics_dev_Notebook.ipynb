{
 "cells": [
  {
   "cell_type": "markdown",
   "metadata": {},
   "source": [
    "# Python Basics\n",
    "\n",
    "## Introduction\n",
    "\n",
    "Welcome to your first Jupyter Notebook! The aim of this notebook is to familiarize you with the Jupyter environment so you can confidently write and run Python while documenting your work.\n",
    "\n",
    "## Jupyter Cells\n",
    "\n",
    "You should be able to click (or double-click) on this cell to edit it. You'll see that this is a **Markdown** cell. In markdown cells, you write plain text that says what you're trying to achieve and explains your code.\n",
    "\n",
    "You should also see that you can use special symbols in Markdown to format your text. For example:\n",
    "\n",
    "# This is the biggest header\n",
    "\n",
    "## This is a smaller header\n",
    "\n",
    "### This is an even smaller header\n",
    "\n",
    "To format those headers, the # symbol was used. Check out this [Markdown guide](https://github.com/adam-p/markdown-here/wiki/Markdown-Cheatsheet) for a list of all the formatting possible in Markdown.\n",
    "\n",
    "## See the Result\n",
    "\n",
    "In Jupyter Lab, you can see your formatted cell when you **run** your cell. To run a cell, first select a cell by clicking on it, then press the play button in the menu bar for your notebook. (This may look different if you are using different software).\n",
    "\n",
    "You now know how to operate a **Markdown cell**. What about a **code cell**?"
   ]
  },
  {
   "cell_type": "code",
   "execution_count": 2,
   "metadata": {},
   "outputs": [
    {
     "name": "stdout",
     "output_type": "stream",
     "text": [
      "Hello, world!\n"
     ]
    }
   ],
   "source": [
    "# This is a Python cell\n",
    "# Select this cell and run it\n",
    "\n",
    "print(\"Hello, world!\")"
   ]
  },
  {
   "cell_type": "markdown",
   "metadata": {},
   "source": [
    "## Code Cells\n",
    "\n",
    "Hopefully, when you ran the above code, you got **output** below the cell: the text `Hello, world!`\n",
    "\n",
    "Code cells allow you to create and run small bits of code in a neatly organized way. Whenever you want to check the result of your code, you can use a `print()` statement to output something.\n",
    "\n",
    "These code cells are also **connected**. Rather than operating independently, anything you store in memory is accessible to every code cell. For example:"
   ]
  },
  {
   "cell_type": "code",
   "execution_count": 6,
   "metadata": {},
   "outputs": [],
   "source": [
    "# Run this cell first\n",
    "x = 10 + 5"
   ]
  },
  {
   "cell_type": "code",
   "execution_count": 5,
   "metadata": {},
   "outputs": [
    {
     "name": "stdout",
     "output_type": "stream",
     "text": [
      "15\n"
     ]
    }
   ],
   "source": [
    "# Run this cell second\n",
    "print(x)"
   ]
  },
  {
   "cell_type": "markdown",
   "metadata": {},
   "source": [
    "In the first cell, you stored the result of `10 + 5` (`15`) in the variable `x`.\n",
    "\n",
    "In the second cell, you were able to use `x` because **code cells share memory** - every code cell in a notebook exists in the same universe.\n",
    "\n",
    "One important considerations when working with code cells:\n",
    "\n",
    "**Order matters.** If you try to run the `print(x)` cell before running the `x = 10 + 5` cell, you'll get an error or an unexpected result.\n",
    "\n",
    "One last thing: if you're only outputting one thing in a cell, you can put that output in the last line of the cell *without* a print statement, and it will still be outputted. Here are two examples you can run:"
   ]
  },
  {
   "cell_type": "code",
   "execution_count": 7,
   "metadata": {},
   "outputs": [
    {
     "data": {
      "text/plain": [
       "6"
      ]
     },
     "execution_count": 7,
     "metadata": {},
     "output_type": "execute_result"
    }
   ],
   "source": [
    "# Run this cell\n",
    "3 + 3"
   ]
  },
  {
   "cell_type": "code",
   "execution_count": 8,
   "metadata": {},
   "outputs": [
    {
     "data": {
      "text/plain": [
       "15"
      ]
     },
     "execution_count": 8,
     "metadata": {},
     "output_type": "execute_result"
    }
   ],
   "source": [
    "# Run this cell\n",
    "x"
   ]
  },
  {
   "cell_type": "markdown",
   "metadata": {},
   "source": [
    "## Your Turn\n",
    "\n",
    "Now experiment with creating your own Python code, following the instructions in the assignment sheet. Most importantly, be sure to document your code:\n",
    "\n",
    "* Create markdown cells that describe what you're trying to achieve with your code\n",
    "* Create markdown cells that explain how your code works\n",
    "* Use comments in your code cells\n",
    "\n",
    "Through a combination of these types of documentation, you should be able to tell a story of your process and experience completing this assignment."
   ]
  }
 ],
 "metadata": {
  "kernelspec": {
   "display_name": "Python 3",
   "language": "python",
   "name": "python3"
  },
  "language_info": {
   "codemirror_mode": {
    "name": "ipython",
    "version": 3
   },
   "file_extension": ".py",
   "mimetype": "text/x-python",
   "name": "python",
   "nbconvert_exporter": "python",
   "pygments_lexer": "ipython3",
   "version": "3.10.0"
  }
 },
 "nbformat": 4,
 "nbformat_minor": 2
}

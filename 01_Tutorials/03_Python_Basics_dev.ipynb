{
 "cells": [
  {
   "cell_type": "markdown",
   "metadata": {},
   "source": [
    "### Citations (unfinished)\n",
    "\n",
    "**Resources used in the creation of this guide**\n",
    "\n",
    "1. http://python-textbook.pythonhumanities.com/01_intro/01_01-02_introduction_to_python.html"
   ]
  },
  {
   "cell_type": "markdown",
   "metadata": {},
   "source": [
    "# Python Basics\n",
    "\n",
    "## Introduction\n",
    "\n",
    "Python is a powerful yet approachable programming language, making it ideal for use in this course. While Python has many applications, our focus in Encoding Music will be using Python to understand, transform, and create data related to music. The objective of this guide is to introduce you to the basic syntactical structure of Python while learning about four key topics:\n",
    "\n",
    "1. Data and Data Structures\n",
    "2. Logic\n",
    "3. Loops\n",
    "4. Functions\n",
    "\n",
    "You may already be familiar with Python, in which case you can use this guide as a refresher or reference.\n",
    "\n",
    "## Where are we?\n",
    "\n",
    "Traditionally, Python is written in a `.py` file, like `hello.py`, consisting only of Python code. However, in this course, we'll write and run code in Jupyter notebooks. The main difference between `.py` files and Jupyter notebooks is the ability to break up code with sections of formatted text, called \"markdown\", easily run isolated sections of code, and view the the output of your code in one place.\n",
    "\n",
    "Let's get started!"
   ]
  },
  {
   "cell_type": "markdown",
   "metadata": {},
   "source": [
    "## Data and Data Structures\n",
    "\n",
    "### Hello World\n",
    "\n",
    "Later, we'll take data and analyze it. But we need to be able to get Python to show us the results - to create output. Python creates output using the `print()` function."
   ]
  },
  {
   "cell_type": "code",
   "execution_count": 42,
   "metadata": {},
   "outputs": [
    {
     "name": "stdout",
     "output_type": "stream",
     "text": [
      "Hello, World!\n"
     ]
    }
   ],
   "source": [
    "# Run this cell\n",
    "print(\"Hello, World!\")"
   ]
  },
  {
   "cell_type": "markdown",
   "metadata": {},
   "source": [
    "As you can see, the `print()` function will cause some output - whatever is between those parentheses - to display below the code cell. You can try changing the text, running the cell again, and seeing what happens. Just be sure to keep the quotation marks in place.\n",
    "\n",
    "You may have also noticed plain English writing in the code cell: `# Run this cell`. This is called a comment, and allows you to write small notes, instructions, or descriptions in your code. Writing `#` tells Python to ignore everything that follows the `#` in that line.\n",
    "\n",
    "### Variables\n",
    "\n",
    "Sometimes, we might want Python to remember something, so we can use it later. Python gives us the ability to store things in the computer's memory using **variables**. With a variable, you essentially *name* a location in the computer's memory, then put something there. For example:"
   ]
  },
  {
   "cell_type": "code",
   "execution_count": 43,
   "metadata": {},
   "outputs": [],
   "source": [
    "# Run this cell\n",
    "x = \"Hello, World!\""
   ]
  },
  {
   "cell_type": "markdown",
   "metadata": {},
   "source": [
    "This is called *assigning a value* (`\"Hello, World!\"`) *to a variable* (`x`). Now we can try printing `\"Hello, World!\"` again, but this time by referencing the variable `x`."
   ]
  },
  {
   "cell_type": "code",
   "execution_count": 44,
   "metadata": {},
   "outputs": [
    {
     "name": "stdout",
     "output_type": "stream",
     "text": [
      "Hello, World!\n"
     ]
    }
   ],
   "source": [
    "# Run this cell\n",
    "print(x)"
   ]
  },
  {
   "cell_type": "markdown",
   "metadata": {},
   "source": [
    "A nice thing about Jupyter is that if you put a variable in the **last line** of a code cell and run it, Jupyter will output that variable."
   ]
  },
  {
   "cell_type": "code",
   "execution_count": 45,
   "metadata": {},
   "outputs": [
    {
     "data": {
      "text/plain": [
       "'Hello, World!'"
      ]
     },
     "execution_count": 45,
     "metadata": {},
     "output_type": "execute_result"
    }
   ],
   "source": [
    "# Run this cell\n",
    "x"
   ]
  },
  {
   "cell_type": "markdown",
   "metadata": {},
   "source": [
    "This also demonstrates a fundamental principle in Jupyter - **all your code exists in the same world**. This means if you assign a value to `x` in one cell, and reference `x` in another cell, that will work because both cells exist in the same world.\n",
    "\n",
    "#### Things to keep in mind\n",
    "\n",
    "As you begin coding, here are some important ideas to keep in mind. You can try testing these out in the code block below.\n",
    "\n",
    "##### Case Sensitivity\n",
    "\n",
    "Everything in Python is case-sensitive. Running `print(X)` will give you an error, because you haven't yet named a location in memory `X`. Running `Print(x)` will give you an error because the capitalization is not correct.\n",
    "\n",
    "##### Nothing Counts Unless You Run It\n",
    "\n",
    "You might decide you want to output `\"got it\"` in the below cell, after you correct the capitalization of the variable `x`. If you go to the earlier cell where we first assigned a value to `x` and change that value to `\"got it\"`, you have to **run that cell**. Only *then* can you return to the cell below, run it, and get the new output `\"got it\"`. This can become difficult to keep track of with larger files - if Python ever acts like code you wrote doesn't exist, first make sure you've run all the code you've written!"
   ]
  },
  {
   "cell_type": "code",
   "execution_count": 46,
   "metadata": {},
   "outputs": [
    {
     "ename": "NameError",
     "evalue": "name 'X' is not defined",
     "output_type": "error",
     "traceback": [
      "\u001b[0;31m---------------------------------------------------------------------------\u001b[0m",
      "\u001b[0;31mNameError\u001b[0m                                 Traceback (most recent call last)",
      "\u001b[0;32m/tmp/ipykernel_411131/2994571786.py\u001b[0m in \u001b[0;36m<cell line: 2>\u001b[0;34m()\u001b[0m\n\u001b[1;32m      1\u001b[0m \u001b[0;31m# Experiment with the below issues\u001b[0m\u001b[0;34m\u001b[0m\u001b[0;34m\u001b[0m\u001b[0m\n\u001b[0;32m----> 2\u001b[0;31m \u001b[0mprint\u001b[0m\u001b[0;34m(\u001b[0m\u001b[0mX\u001b[0m\u001b[0;34m)\u001b[0m    \u001b[0;31m# How can this be made to run? And how can you change the output value?\u001b[0m\u001b[0;34m\u001b[0m\u001b[0;34m\u001b[0m\u001b[0m\n\u001b[0m",
      "\u001b[0;31mNameError\u001b[0m: name 'X' is not defined"
     ]
    }
   ],
   "source": [
    "# Experiment with the below issues\n",
    "print(X)    # How can this be made to run? And how can you change the output value?"
   ]
  },
  {
   "cell_type": "markdown",
   "metadata": {},
   "source": [
    "### Data Types\n",
    "\n",
    "Let's say you're doing a project on the Beatles, and you're collecting some data about them. You already know how to create a variable for the band name - `\"The Beatles\"`, just like `\"Hello, World!\"`, is text. But you'll want to store other types of data, too. To begin, consider:\n",
    "\n",
    "1. Name of band \n",
    "2. Number of albums released\n",
    "3. Number of years the band was together\n",
    "4. Whether or not they are in the Hall of Fame (HOF)\n",
    "5. List of all band members\n",
    "\n",
    "You could simply store all these as text - for example, `band_members = \"John, Paul, George, and Ringo`. But Python has simple, built-in ways to express different types of data."
   ]
  },
  {
   "cell_type": "code",
   "execution_count": null,
   "metadata": {},
   "outputs": [],
   "source": [
    "# Run this cell\n",
    "band_name = \"The Beatles\"   # string\n",
    "albums_released = 13        # integer\n",
    "years_together = 7.6        # float\n",
    "in_hof = True               # boolean\n",
    "band_members = [\"John Lennon\", \"Paul McCartney\", \"George Harrison\", \"Ringo Starr\"] # list"
   ]
  },
  {
   "cell_type": "markdown",
   "metadata": {},
   "source": [
    "These are five different data types in Python. Just by writing the data in a specific way (e.g. including quotation marks, a decimal, brackets), we can tell Python what type of data we want the variable to recognized as. We can verify that Python understands this using the `type()` function, which outputs the `type` of the data between the parentheses."
   ]
  },
  {
   "cell_type": "code",
   "execution_count": null,
   "metadata": {},
   "outputs": [
    {
     "name": "stdout",
     "output_type": "stream",
     "text": [
      "<class 'str'>\n",
      "<class 'int'>\n",
      "<class 'float'>\n",
      "<class 'bool'>\n",
      "<class 'list'>\n"
     ]
    }
   ],
   "source": [
    "# Run this cell\n",
    "print(type(band_name))\n",
    "print(type(albums_released))\n",
    "print(type(years_together))\n",
    "print(type(in_hof))\n",
    "print(type(band_members))"
   ]
  },
  {
   "cell_type": "markdown",
   "metadata": {},
   "source": [
    "### Data Types\n",
    "\n",
    "These are some of the most important data types in Python. Here's a breakdown of what they mean:\n",
    "\n",
    "#### Strings\n",
    "\n",
    "*(abbreviated `str`)* A **string** of alpha-numeric characters surrounded by quotation marks. The quotation marks can be double `\"text\"` or single `'text'`, but never mixed `\"not this!'`. We use strings for text, `\"anything from a long phrase or paragraph\"` to a single character `\"c\"`, or even an empty string `\"\"`.\n",
    "\n",
    "#### Integers\n",
    "\n",
    "*(abbreviated `int`)* A number that has no decimal or fractional part (e.g. `3`, `0`, `-10`).\n",
    "\n",
    "#### Floats\n",
    "\n",
    "A number that can have a decimal or fractional part, but doesn't have to (e.g. `3.14159`, `-7.2`, `5.0`).\n",
    "\n",
    "#### Booleans\n",
    "\n",
    "*(abbreviated `bool`)* A value that is either `True` or `False`, and must be capitalized exactly as shown. Booleans are written **without** quotation marks -- if quotation marks are included, Python will interpret the variable as a string.\n",
    "\n",
    "#### Lists\n",
    "\n",
    "A collection of values, written within brackets, and separated by commas. A list can contain any data type within it, and can contain multiple data types at once. A list can also contain another list (called a **nested list**).\n",
    "\n",
    "For example:\n",
    "\n",
    "* `[\"John\", \"Paul\", \"George\", \"Ringo\"]`\n",
    "* `[\"Apple\", 2024, 0.8, [True, True, False]]`\n",
    "\n",
    "### Why do Data Types Matter?\n",
    "\n",
    "Python comes with a variety of powerful functions that work with our data. But the way these functions work, and whether or not they work at all, depends on what data type Python thinks it's dealing with.\n",
    "\n",
    "An obvious example is addition: writing `x = 5 + 5` will set `x` to `10`. However, writing `y = \"5\" + \"5\"` will set `y` to `\"55\"` - whats going on here? Try it out:"
   ]
  },
  {
   "cell_type": "code",
   "execution_count": null,
   "metadata": {},
   "outputs": [
    {
     "name": "stdout",
     "output_type": "stream",
     "text": [
      "10\n",
      "55\n"
     ]
    }
   ],
   "source": [
    "x = 5 + 5\n",
    "print(x)\n",
    "\n",
    "y = \"5\" + \"5\"\n",
    "print(y)"
   ]
  },
  {
   "cell_type": "markdown",
   "metadata": {},
   "source": [
    "When you put quotation marks around `\"5\"`, you're telling Python to treat it as a string. When you tell Python to add strings, it will just combine them in order (e.g. `\"code\" + \" in \" + \"python\"` results in `\"code in python\"`). This is something called **string concatenation**.\n",
    "\n",
    "As another example, take the list of the Beatles, `[\"John\", \"Paul\", \"George\", \"Ringo\"]`. Python can perform operations special operations on lists using something called **methods**.\n",
    "\n",
    "Say you store this list in the variable `l`:\n",
    "\n",
    "`l = [\"John\", \"Paul\", \"George\", \"Ringo\"]`\n",
    "\n",
    "You can use Python's `reverse()` method on the list like this:\n",
    "\n",
    "`l.reverse()`"
   ]
  },
  {
   "cell_type": "code",
   "execution_count": null,
   "metadata": {},
   "outputs": [
    {
     "data": {
      "text/plain": [
       "['Ringo', 'George', 'Paul', 'John']"
      ]
     },
     "execution_count": 35,
     "metadata": {},
     "output_type": "execute_result"
    }
   ],
   "source": [
    "l = [\"John\", \"Paul\", \"George\", \"Ringo\"]\n",
    "l.reverse()\n",
    "\n",
    "l"
   ]
  },
  {
   "cell_type": "markdown",
   "metadata": {},
   "source": [
    "However, you can't use this on a string, because this method only exists for lists:"
   ]
  },
  {
   "cell_type": "code",
   "execution_count": null,
   "metadata": {},
   "outputs": [
    {
     "ename": "AttributeError",
     "evalue": "'str' object has no attribute 'reverse'",
     "output_type": "error",
     "traceback": [
      "\u001b[0;31m---------------------------------------------------------------------------\u001b[0m",
      "\u001b[0;31mAttributeError\u001b[0m                            Traceback (most recent call last)",
      "\u001b[0;32m/tmp/ipykernel_411131/1183467736.py\u001b[0m in \u001b[0;36m<cell line: 2>\u001b[0;34m()\u001b[0m\n\u001b[1;32m      1\u001b[0m \u001b[0ms\u001b[0m \u001b[0;34m=\u001b[0m \u001b[0;34m\"John, Paul, George, Ringo\"\u001b[0m\u001b[0;34m\u001b[0m\u001b[0;34m\u001b[0m\u001b[0m\n\u001b[0;32m----> 2\u001b[0;31m \u001b[0ms\u001b[0m\u001b[0;34m.\u001b[0m\u001b[0mreverse\u001b[0m\u001b[0;34m(\u001b[0m\u001b[0;34m)\u001b[0m\u001b[0;34m\u001b[0m\u001b[0;34m\u001b[0m\u001b[0m\n\u001b[0m\u001b[1;32m      3\u001b[0m \u001b[0;34m\u001b[0m\u001b[0m\n\u001b[1;32m      4\u001b[0m \u001b[0ms\u001b[0m\u001b[0;34m\u001b[0m\u001b[0;34m\u001b[0m\u001b[0m\n",
      "\u001b[0;31mAttributeError\u001b[0m: 'str' object has no attribute 'reverse'"
     ]
    }
   ],
   "source": [
    "s = \"John, Paul, George, Ringo\"\n",
    "s.reverse()\n",
    "\n",
    "s"
   ]
  },
  {
   "cell_type": "markdown",
   "metadata": {},
   "source": [
    "It's important to think about what you want to do with data before choosing how to store it. Python only has certain tools available for certain data types, which makes your decision of data types important.\n",
    "\n",
    "Let's return to our example project, collecting data about the Beatles. Now that we've established the importance of data types and covered the most important ones, we can go even further.\n",
    "\n",
    "#### Dictionaries\n",
    "\n",
    "*(abbreviated `dict`)* For our project, we want to know the full name of each Beatle, when they were born, and what instrument they played. But we don't yet have a good way of storing a group of related data. We could try to use a list:\n",
    "\n",
    "`john = [\"John Lennon\", 1940, \"guitar\"]`\n",
    "\n",
    "But this isn't particuarly helpful. If we're looking at this list, it's not immediately clear what each category in the list is meant to be. **Dictionaries** solve that issue by alllowing you to specify a **key** for each **value**.\n",
    "\n",
    "For the value `\"John Lennon\"`, we might specify the key `\"full_name\"` like this:\n",
    "\n",
    "`\"full_name\": \"John Lennon\"\n",
    "\n",
    "This is a **key-value pair**. A **dictionary** is a collection of these key-value pairs, surrounded by curly brackets `{` `}` and separated by commas. Here is an implementation of some dictionaries in our example:"
   ]
  },
  {
   "cell_type": "code",
   "execution_count": 47,
   "metadata": {},
   "outputs": [
    {
     "data": {
      "text/plain": [
       "[{'full_name': 'John Lennon', 'birth_year': 1940, 'instrument': 'guitar'},\n",
       " {'full_name': 'Paul McCartney',\n",
       "  'birth_year': 1942,\n",
       "  'instrument': 'bass guitar'},\n",
       " {'full_name': 'George Harrison', 'birth_year': 1943, 'instrument': 'guitar'},\n",
       " {'full_name': 'Ringo Starr', 'birth_year': 1940, 'instrument': 'drums'}]"
      ]
     },
     "execution_count": 47,
     "metadata": {},
     "output_type": "execute_result"
    }
   ],
   "source": [
    "# Run this cell\n",
    "band_name = \"The Beatles\"   # string\n",
    "albums_released = 13        # integer\n",
    "years_together = 7.6        # float\n",
    "in_hof = True               # boolean\n",
    "band_members = [\n",
    "    {\"full_name\": \"John Lennon\", \"birth_year\": 1940, \"instrument\": \"guitar\"},           # dict\n",
    "    {\"full_name\": \"Paul McCartney\", \"birth_year\": 1942, \"instrument\": \"bass guitar\"},   # dict\n",
    "    {\"full_name\": \"George Harrison\", \"birth_year\": 1943, \"instrument\": \"guitar\"},       # dict\n",
    "    {\"full_name\": \"Ringo Starr\", \"birth_year\": 1940, \"instrument\": \"drums\"}             # dict\n",
    "] # list\n",
    "\n",
    "# See what happens when you output a dictionary\n",
    "band_members"
   ]
  },
  {
   "cell_type": "markdown",
   "metadata": {},
   "source": [
    "As you can see, the list of strings we had previously is now a much richer list of dictionaries, containing much more information. You can also see how the various data types work together: a **list** of **dictionaries**, each containing **strings** and **integers**.\n",
    "\n",
    "This can be extended infinitely - for example, you might decide that each band member should actually have a **list** of every instrument they played, rather than just one.\n",
    "\n",
    "For example John Lennon's key-value pair `\"instrument\": \"guitar\"` could be replaced by:\n",
    "\n",
    "`\"instruments\": [\"guitar\", \"harmonica\", \"piano\", \"violin\", \"trumpet\"]`\n",
    "\n",
    "Just remember to be consistent - it makes your life much easier if every band member's dictionary has data stored in the same way.\n",
    "\n",
    "Let's make one last big change. We have five variables storing data about the same subject, the Beatles. That seems like a perfect candidate for a dictionary. We can replace these variables wth key-value pairs:"
   ]
  },
  {
   "cell_type": "code",
   "execution_count": 48,
   "metadata": {},
   "outputs": [
    {
     "data": {
      "text/plain": [
       "{'band_name': 'The Beatles',\n",
       " 'albums_released': 13,\n",
       " 'years_together': 7.6,\n",
       " 'in_hof': True,\n",
       " 'band_members': [{'full_name': 'John Lennon',\n",
       "   'birth_year': 1940,\n",
       "   'instrument': 'guitar'},\n",
       "  {'full_name': 'Paul McCartney',\n",
       "   'birth_year': 1942,\n",
       "   'instrument': 'bass guitar'},\n",
       "  {'full_name': 'George Harrison', 'birth_year': 1943, 'instrument': 'guitar'},\n",
       "  {'full_name': 'Ringo Starr', 'birth_year': 1940, 'instrument': 'drums'}]}"
      ]
     },
     "execution_count": 48,
     "metadata": {},
     "output_type": "execute_result"
    }
   ],
   "source": [
    "# Run this cell\n",
    "beatles = {\n",
    "    \"band_name\": \"The Beatles\",\n",
    "    \"albums_released\": 13,\n",
    "    \"years_together\": 7.6,\n",
    "    \"in_hof\": True,\n",
    "    \"band_members\": [\n",
    "        {\"full_name\": \"John Lennon\", \"birth_year\": 1940, \"instrument\": \"guitar\"},\n",
    "        {\"full_name\": \"Paul McCartney\", \"birth_year\": 1942, \"instrument\": \"bass guitar\"},\n",
    "        {\"full_name\": \"George Harrison\", \"birth_year\": 1943, \"instrument\": \"guitar\"},\n",
    "        {\"full_name\": \"Ringo Starr\", \"birth_year\": 1940, \"instrument\": \"drums\"}\n",
    "    ]\n",
    "}\n",
    "\n",
    "# See what happens when you output the new dictionary\n",
    "beatles"
   ]
  },
  {
   "cell_type": "markdown",
   "metadata": {},
   "source": [
    "Dictionaries are a great way to store a variety of data related to one entity.\n",
    "\n",
    "You're now familiar with **strings**, **integers**, **floats**, **booleans**, **lists**, and **dictionaries**. With these data types, we've assembled a collection of data related to the Beatles. Now it's time to do something with that data.\n",
    "\n",
    "For our project, "
   ]
  }
 ],
 "metadata": {
  "kernelspec": {
   "display_name": "Python 3 (ipykernel)",
   "language": "python",
   "name": "python3"
  }
 },
 "nbformat": 4,
 "nbformat_minor": 2
}

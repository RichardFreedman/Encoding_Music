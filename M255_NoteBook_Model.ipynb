{
 "cells": [
  {
   "cell_type": "raw",
   "id": "ba9a7306-76da-4e0d-816c-9edb8b40d181",
   "metadata": {
    "execution": {
     "iopub.execute_input": "2024-06-27T19:56:52.372260Z",
     "iopub.status.busy": "2024-06-27T19:56:52.371359Z",
     "iopub.status.idle": "2024-06-27T19:56:52.380117Z",
     "shell.execute_reply": "2024-06-27T19:56:52.378195Z",
     "shell.execute_reply.started": "2024-06-27T19:56:52.372234Z"
    }
   },
   "source": [
    "---\n",
    "title: \"Encoding Music Sample Homework Project\"\n",
    "author: 'Richard Freedman'\n",
    "date: 'June 25, 2024'\n",
    "\n",
    "format:\n",
    "  html:\n",
    "    code-fold: true\n",
    "    embed-resources: true\n",
    "plotly-connected: true\n",
    "jupyter: python3\n",
    "\n",
    "---"
   ]
  },
  {
   "cell_type": "markdown",
   "id": "877e4fe6-8883-4a71-9b14-42eb68035f0a",
   "metadata": {},
   "source": [
    "# A Sample Homework Project\n",
    "\n",
    "This sample homework project will show you in a nutshell what your work for Encoding Music should look like. It follows the [Notebook Style Guide](https://github.com/RichardFreedman/music_style_guide/blob/main/M255_Notebook_Style_Guide.md) and [Music Style Guide](https://github.com/RichardFreedman/music_style_guide).  And it also demonstrates the key sections of every notebook submitted for a class assignment or project:\n",
    "\n",
    "* The preliminaries:  Quarto YAML cell and code import statement\n",
    "* The three main sections:  Motivation/Implementation/Interpretation\n",
    "* The bibliography of sources consulted\n",
    "\n",
    "### 0. Quarto YAML cell and Import Statement\n",
    "\n",
    "The Quarto YAML cell will contain the title, name of author(s) and date for your assignment.\n",
    "\n",
    "The Import Statement is just that:  the code cell where you import all relevant libraries for your work,\n",
    "\n",
    "### 1. Motivation\n",
    "\n",
    "What is your point of inquiry?  What are you trying discover?  What do you _expect_ to find? How do these questions relate to themes and problems considered in the course so far?  \n",
    "\n",
    "What specific readings or musical repertories are involved, and why do they matter in this context (be sure to cite them, and to follow the Music Style Guide as you do so)?\n",
    "\n",
    "### 2. Implementation\n",
    "\n",
    "How did you put your query into practice? What did you need to do with or to your data along the way? \n",
    "\n",
    "* What _logical_ steps did you follow as you thought about getting there (expressed in pseudo code; perhaps in bullet-point form in your markdown cell)?\n",
    "* Which tools (or methods) did you select, and why were they right for the job?\n",
    "* If you chose to create some kind of visualization (a chart, network or map), how did you decide on the right representation for the task at hand?\n",
    "* What challenges did you face as you worked to put the steps into action in code?  Did you need to clean or tidy your data?  Filter, sort, or group it in some way?\n",
    "* What were the most important tools or approaches you deployed that others might like to know about?\n",
    "\n",
    "Remember to use `verbatim code` or **block code** to show your work as needed.\n",
    "Remember to add **comments** to your code to show the most important steps.\n",
    "\n",
    "If you learned from or adapted some code suggested in Encoding Music, or another resource, it would be good to cite that documentation, too.\n",
    "\n",
    "### 3. Interpretation\n",
    "\n",
    "What did you learn from the results? How were your expectations confirmed (or not)?\n",
    "\n",
    "What limitations did the data or your methods impose on your capacity to answer the questions you originally posed? \n",
    "\n",
    "How do your results change your views of the readings or ideas that motivated your work it the first place?  How do your results shape your listening experience of the music you considered? What next steps do you imagine for future work?\n",
    "\n",
    "### 4. Bibliography\n",
    "\n",
    "A list of the sources consulted and cited during your work, including class readings or code resources, Spotify lists, etc.  See the [Notebook Style Guide](https://github.com/RichardFreedman/music_style_guide/blob/main/M255_Notebook_Style_Guide.md) and [Music Style Guide](https://github.com/RichardFreedman/music_style_guide) for details about how to cite books, articles, internet resources, etc.\n"
   ]
  },
  {
   "cell_type": "markdown",
   "id": "e16cd016-da4a-41e0-8051-f253afc47263",
   "metadata": {},
   "source": [
    "# 0. Import Libraries\n",
    "\n",
    "Here I import the essential libraries for this assignment."
   ]
  },
  {
   "cell_type": "code",
   "execution_count": 94,
   "id": "85f5ff3e-ffb5-4743-8107-ea91b901e219",
   "metadata": {
    "execution": {
     "iopub.execute_input": "2024-07-01T20:17:49.305742Z",
     "iopub.status.busy": "2024-07-01T20:17:49.304912Z",
     "iopub.status.idle": "2024-07-01T20:17:49.311607Z",
     "shell.execute_reply": "2024-07-01T20:17:49.310747Z",
     "shell.execute_reply.started": "2024-07-01T20:17:49.305693Z"
    }
   },
   "outputs": [],
   "source": [
    "# import libraries\n",
    "from community import community_louvain\n",
    "from copy import deepcopy\n",
    "from IPython.display import SVG\n",
    "import altair as alt\n",
    "import glob as glob\n",
    "import numpy as np\n",
    "import os\n",
    "import pandas as pd\n",
    "import re\n",
    "import networkx as nx\n",
    "import plotly.express as px\n",
    "import requests\n",
    "\n",
    "# setup plotting for quarto\n",
    "alt.renderers.enable('default')\n",
    "import plotly.io as pio\n",
    "pio.renderers.default = \"plotly_mimetype+notebook_connected\"\n",
    "\n",
    "# supress warnings\n",
    "import warnings\n",
    "warnings.filterwarnings('ignore')\n"
   ]
  },
  {
   "cell_type": "markdown",
   "id": "a52c316b-646f-4a69-9fbb-08ea370fffed",
   "metadata": {},
   "source": [
    "# 1. Motivation \n",
    "\n",
    "The Beatles are my favorite band, and I know that their music underwent rapid and profound change during the 1960s.  The albumns *Rubber Soul* (1965) and *Revolver* (1966) held pivotal places in this evolution, as Walter Everett explained in his excellent 1999 book, *The Beatles as Musicians:  Revolver to The Anthology*.  So I was interested to see whether this change was in any way evident in the kind of \"music feature\" data derived from the recordings themselves, in this case by Spotify.  \n",
    "\n",
    "Can we see any trends across the Beatles output based on the sound itself?  Can we find any albumns that stand out from others?  And how would the evidence provided by Spotify's machine analysis tools align with my own impressions of the music, or Everett's?\n"
   ]
  },
  {
   "cell_type": "markdown",
   "id": "db5314e0-e239-4150-8b95-7a89aae3c77d",
   "metadata": {},
   "source": [
    "# 2. Implementation\n",
    "\n",
    "Prof. Freedman has conveniently assembled the Spotify data on all of the Beatles albumns as a single CSV file.  So this would be a simple starting place.  But since I am still a bit uncertain about the what Spotify's audio features are like, I thought the best first step would be to look at the columns in that data set and see which of them might be good candidates to tell me a bit more about the \"range\" of ratings for each.  If I am looking for change, then I need features (or combinations of features) that have the widest possibility for variation.\n",
    "\n",
    "I looked at the columns as a list:  `beatles_spotify.columns`, which yielded (among the music feature categories) `['danceability', 'energy', 'speechiness','acousticness', 'liveness', 'valence']`.  Based on my exploration of the Spotify documentation and Nick Seaver's *Computing Taste Algorithms and the Makers of Music Recommendation*  I thought that 'danceability', 'energy', and 'acousticness' seemed the the categores most likely to reveal the trends I was interested in, particularly since (as I learned from Everett) the Beatles' recordings moved from a concert and dance music context to a contemplative, narrative and listening one. I guessed that I might see a decline in danceability over time and also a decline in acousticness (as more studio techniques came to the fore).\n",
    "\n",
    "As explained in the code cells below, I broke this down into several exploratory steps:\n",
    "\n",
    "2A.  I looked at the range of data for each audio feature, in this case by cutting the data for all tracks into 'bins' for each column using the Pandas 'cut' method.  There were some clear trends here, but since this was at the *track* level it was hard for me to say much about individual albumns over time.\n",
    "\n",
    "2B.  Then I came up with ways of aggregating the data for each album using Pandas `groupby` operations.  These are a bit tricky to understand, but using this I was easily able to say something about each.  The key think with `groupby` is to remember that you need to pass in a *list* of the columns, and then specify the function to apply to each of them (in this case:  `mean`.  Resetting the index gets the year and album names back in the dataframe and makes the whole easier to parse in subsequent steps.  The complete code is:\n",
    "\n",
    "```python\n",
    "grouped_data = beatles_spotify.groupby(['year', \"album\"])[['danceability', 'energy', 'acousticness']].mean()\n",
    "grouped_data = grouped_data.reset_index()\n",
    "```\n",
    "\n",
    "2C.  The resulting dataframe of results was hard for me to interpret, so I hit upon the idea of showing a kind of 'triple bar chart' for each album, with a consistent color for each feature. This was useful, since it allowed me to see what was distinctive about certain records as a whole.  *Rubber Soul* stood out on account of the *divergence* between the audio features (it hasd a much *lower* score for 'acousticness' in relation to the other features than any other album.\n",
    "\n",
    "2D.  This in turn prompted me to make a scatterplot for this album on its own and then to test those results against my own impressions and those of my authors.\n",
    "\n",
    "The commented code for each of these appears in the relevant cells below.\n",
    "\n",
    "\n",
    "\n",
    "\n",
    "\n",
    "\n"
   ]
  },
  {
   "cell_type": "markdown",
   "id": "49f6f3f1-3073-4624-b8ec-56d2486ba4dc",
   "metadata": {},
   "source": [
    "#### Getting the Data from the CSV"
   ]
  },
  {
   "cell_type": "code",
   "execution_count": 95,
   "id": "ce4c880d-8b2d-48e5-b898-1ad57cb3d04a",
   "metadata": {
    "execution": {
     "iopub.execute_input": "2024-07-01T20:17:50.081770Z",
     "iopub.status.busy": "2024-07-01T20:17:50.081017Z",
     "iopub.status.idle": "2024-07-01T20:17:51.572107Z",
     "shell.execute_reply": "2024-07-01T20:17:51.571675Z",
     "shell.execute_reply.started": "2024-07-01T20:17:50.081728Z"
    }
   },
   "outputs": [],
   "source": [
    "# the address of the shared CSV provided by Prof Freedman\n",
    "beatles_spotify_csv = 'https://docs.google.com/spreadsheets/d/e/2PACX-1vRCv45ldJmq0isl2bvWok7AbD5C6JWA0Xf1tBqow5ngX7_ox8c2d846PnH9iLp_SikzgYmvdPHe9k7G/pub?output=csv'\n",
    "# import that to a Pandas dataframe and name it\n",
    "beatles_spotify = pd.read_csv(beatles_spotify_csv)\n"
   ]
  },
  {
   "cell_type": "markdown",
   "id": "26b84a79-d620-4a99-a4ff-5b4503838ff6",
   "metadata": {},
   "source": [
    "#### Checking the column names"
   ]
  },
  {
   "cell_type": "code",
   "execution_count": 96,
   "id": "370ac946-27b0-43a3-8471-ebdf8e18dee2",
   "metadata": {
    "execution": {
     "iopub.execute_input": "2024-07-01T20:17:51.602156Z",
     "iopub.status.busy": "2024-07-01T20:17:51.601981Z",
     "iopub.status.idle": "2024-07-01T20:17:51.605523Z",
     "shell.execute_reply": "2024-07-01T20:17:51.605094Z",
     "shell.execute_reply.started": "2024-07-01T20:17:51.602142Z"
    }
   },
   "outputs": [
    {
     "data": {
      "text/plain": [
       "Index(['id', 'year', 'album', 'song', 'danceability', 'energy', 'speechiness',\n",
       "       'acousticness', 'liveness', 'valence', 'duration_ms'],\n",
       "      dtype='object')"
      ]
     },
     "execution_count": 96,
     "metadata": {},
     "output_type": "execute_result"
    }
   ],
   "source": [
    "# find the columns in the dataframe\n",
    "beatles_spotify.columns"
   ]
  },
  {
   "cell_type": "markdown",
   "id": "1d547780-af2b-45fd-a73b-6ed936391bf9",
   "metadata": {},
   "source": [
    "#### Clean up NaNs for now"
   ]
  },
  {
   "cell_type": "code",
   "execution_count": 97,
   "id": "af9dc19a-72d0-4ddd-857f-99e93d329705",
   "metadata": {
    "execution": {
     "iopub.execute_input": "2024-07-01T20:17:51.606950Z",
     "iopub.status.busy": "2024-07-01T20:17:51.606786Z",
     "iopub.status.idle": "2024-07-01T20:17:51.614595Z",
     "shell.execute_reply": "2024-07-01T20:17:51.614075Z",
     "shell.execute_reply.started": "2024-07-01T20:17:51.606933Z"
    }
   },
   "outputs": [
    {
     "data": {
      "text/html": [
       "<div>\n",
       "<style scoped>\n",
       "    .dataframe tbody tr th:only-of-type {\n",
       "        vertical-align: middle;\n",
       "    }\n",
       "\n",
       "    .dataframe tbody tr th {\n",
       "        vertical-align: top;\n",
       "    }\n",
       "\n",
       "    .dataframe thead th {\n",
       "        text-align: right;\n",
       "    }\n",
       "</style>\n",
       "<table border=\"1\" class=\"dataframe\">\n",
       "  <thead>\n",
       "    <tr style=\"text-align: right;\">\n",
       "      <th></th>\n",
       "      <th>id</th>\n",
       "      <th>year</th>\n",
       "      <th>album</th>\n",
       "      <th>song</th>\n",
       "      <th>danceability</th>\n",
       "      <th>energy</th>\n",
       "      <th>speechiness</th>\n",
       "      <th>acousticness</th>\n",
       "      <th>liveness</th>\n",
       "      <th>valence</th>\n",
       "      <th>duration_ms</th>\n",
       "    </tr>\n",
       "  </thead>\n",
       "  <tbody>\n",
       "    <tr>\n",
       "      <th>0</th>\n",
       "      <td>1</td>\n",
       "      <td>1963</td>\n",
       "      <td>Please Please Me</td>\n",
       "      <td>I Saw Her Standing There</td>\n",
       "      <td>0.491</td>\n",
       "      <td>0.801</td>\n",
       "      <td>0.0361</td>\n",
       "      <td>0.270</td>\n",
       "      <td>0.0665</td>\n",
       "      <td>0.971</td>\n",
       "      <td>173947</td>\n",
       "    </tr>\n",
       "    <tr>\n",
       "      <th>1</th>\n",
       "      <td>2</td>\n",
       "      <td>1963</td>\n",
       "      <td>Please Please Me</td>\n",
       "      <td>Misery</td>\n",
       "      <td>0.591</td>\n",
       "      <td>0.605</td>\n",
       "      <td>0.0413</td>\n",
       "      <td>0.707</td>\n",
       "      <td>0.3090</td>\n",
       "      <td>0.882</td>\n",
       "      <td>108547</td>\n",
       "    </tr>\n",
       "    <tr>\n",
       "      <th>2</th>\n",
       "      <td>3</td>\n",
       "      <td>1963</td>\n",
       "      <td>Please Please Me</td>\n",
       "      <td>Anna</td>\n",
       "      <td>0.608</td>\n",
       "      <td>0.565</td>\n",
       "      <td>0.0336</td>\n",
       "      <td>0.635</td>\n",
       "      <td>0.0601</td>\n",
       "      <td>0.835</td>\n",
       "      <td>177133</td>\n",
       "    </tr>\n",
       "    <tr>\n",
       "      <th>3</th>\n",
       "      <td>4</td>\n",
       "      <td>1963</td>\n",
       "      <td>Please Please Me</td>\n",
       "      <td>Chains</td>\n",
       "      <td>0.654</td>\n",
       "      <td>0.561</td>\n",
       "      <td>0.0304</td>\n",
       "      <td>0.608</td>\n",
       "      <td>0.1290</td>\n",
       "      <td>0.929</td>\n",
       "      <td>145080</td>\n",
       "    </tr>\n",
       "    <tr>\n",
       "      <th>4</th>\n",
       "      <td>5</td>\n",
       "      <td>1963</td>\n",
       "      <td>Please Please Me</td>\n",
       "      <td>Boys</td>\n",
       "      <td>0.402</td>\n",
       "      <td>0.860</td>\n",
       "      <td>0.0504</td>\n",
       "      <td>0.607</td>\n",
       "      <td>0.7360</td>\n",
       "      <td>0.822</td>\n",
       "      <td>146440</td>\n",
       "    </tr>\n",
       "  </tbody>\n",
       "</table>\n",
       "</div>"
      ],
      "text/plain": [
       "   id  year             album                      song  danceability  energy  \\\n",
       "0   1  1963  Please Please Me  I Saw Her Standing There         0.491   0.801   \n",
       "1   2  1963  Please Please Me                    Misery         0.591   0.605   \n",
       "2   3  1963  Please Please Me                      Anna         0.608   0.565   \n",
       "3   4  1963  Please Please Me                    Chains         0.654   0.561   \n",
       "4   5  1963  Please Please Me                      Boys         0.402   0.860   \n",
       "\n",
       "   speechiness  acousticness  liveness  valence  duration_ms  \n",
       "0       0.0361         0.270    0.0665    0.971       173947  \n",
       "1       0.0413         0.707    0.3090    0.882       108547  \n",
       "2       0.0336         0.635    0.0601    0.835       177133  \n",
       "3       0.0304         0.608    0.1290    0.929       145080  \n",
       "4       0.0504         0.607    0.7360    0.822       146440  "
      ]
     },
     "execution_count": 97,
     "metadata": {},
     "output_type": "execute_result"
    }
   ],
   "source": [
    "\n",
    "# some precautionary cleanup in case of NAs\n",
    "beatles_spotify.fillna('').head()"
   ]
  },
  {
   "cell_type": "markdown",
   "id": "e44f2018-97d0-4668-82d6-df46561069a3",
   "metadata": {},
   "source": [
    "#### 2a: An informal way to review the range of values in each feature, over all albums"
   ]
  },
  {
   "cell_type": "code",
   "execution_count": 98,
   "id": "becfa42b-be0c-4ede-a9bb-c803c858be86",
   "metadata": {
    "execution": {
     "iopub.execute_input": "2024-07-01T20:17:51.615683Z",
     "iopub.status.busy": "2024-07-01T20:17:51.615421Z",
     "iopub.status.idle": "2024-07-01T20:17:51.622923Z",
     "shell.execute_reply": "2024-07-01T20:17:51.622196Z",
     "shell.execute_reply.started": "2024-07-01T20:17:51.615641Z"
    }
   },
   "outputs": [
    {
     "name": "stdout",
     "output_type": "stream",
     "text": [
      "danceability\n",
      "(0.513, 0.696]    93\n",
      "(0.33, 0.513]     62\n",
      "(0.145, 0.33]     19\n",
      "(0.696, 0.88]     19\n",
      "Name: count, dtype: int64\n",
      "energy\n",
      "(0.53, 0.749]     74\n",
      "(0.31, 0.53]      67\n",
      "(0.749, 0.969]    27\n",
      "(0.0893, 0.31]    25\n",
      "Name: count, dtype: int64\n",
      "acousticness\n",
      "(-0.000928, 0.243]    77\n",
      "(0.243, 0.486]        47\n",
      "(0.486, 0.728]        41\n",
      "(0.728, 0.971]        28\n",
      "Name: count, dtype: int64\n"
     ]
    }
   ],
   "source": [
    "# and a very informal way to look at my columns to get a sense of the range of values across the albumns\n",
    "# below I use the pandas \"cut\" method to split the data into 'bins' of similar values\n",
    "\n",
    "# my preferred cols as a lis\n",
    "column_list = ['danceability', 'energy', 'acousticness']\n",
    "# a for loop\n",
    "for col in column_list:\n",
    "    # show the 'binned' values for each feature column\n",
    "    print(pd.cut(beatles_spotify[col], bins=4).value_counts())"
   ]
  },
  {
   "cell_type": "markdown",
   "id": "f40ae309-e79b-49fa-b167-52ef5df8d0e6",
   "metadata": {
    "execution": {
     "iopub.execute_input": "2024-07-01T19:39:19.646387Z",
     "iopub.status.busy": "2024-07-01T19:39:19.645673Z",
     "iopub.status.idle": "2024-07-01T19:39:19.651060Z",
     "shell.execute_reply": "2024-07-01T19:39:19.649891Z",
     "shell.execute_reply.started": "2024-07-01T19:39:19.646346Z"
    }
   },
   "source": [
    "#### 2b: Groupby operation using year/album, then the chosen audio features to find the mean values for each"
   ]
  },
  {
   "cell_type": "code",
   "execution_count": 99,
   "id": "3802e721-d057-4bfd-8cb9-83114467955b",
   "metadata": {
    "execution": {
     "iopub.execute_input": "2024-07-01T20:17:51.691856Z",
     "iopub.status.busy": "2024-07-01T20:17:51.691675Z",
     "iopub.status.idle": "2024-07-01T20:17:51.698084Z",
     "shell.execute_reply": "2024-07-01T20:17:51.697673Z",
     "shell.execute_reply.started": "2024-07-01T20:17:51.691844Z"
    }
   },
   "outputs": [
    {
     "data": {
      "text/html": [
       "<style type=\"text/css\">\n",
       "#T_53880 caption {\n",
       "  color: black;\n",
       "  font-size: 18px;\n",
       "}\n",
       "</style>\n",
       "<table id=\"T_53880\">\n",
       "  <caption>Table 1: Selected Mean Audio Feature Values for Beatles Albums</caption>\n",
       "  <thead>\n",
       "    <tr>\n",
       "      <th class=\"blank level0\" >&nbsp;</th>\n",
       "      <th id=\"T_53880_level0_col0\" class=\"col_heading level0 col0\" >year</th>\n",
       "      <th id=\"T_53880_level0_col1\" class=\"col_heading level0 col1\" >album</th>\n",
       "      <th id=\"T_53880_level0_col2\" class=\"col_heading level0 col2\" >danceability</th>\n",
       "      <th id=\"T_53880_level0_col3\" class=\"col_heading level0 col3\" >energy</th>\n",
       "      <th id=\"T_53880_level0_col4\" class=\"col_heading level0 col4\" >acousticness</th>\n",
       "    </tr>\n",
       "  </thead>\n",
       "  <tbody>\n",
       "    <tr>\n",
       "      <th id=\"T_53880_level0_row0\" class=\"row_heading level0 row0\" >0</th>\n",
       "      <td id=\"T_53880_row0_col0\" class=\"data row0 col0\" >1963</td>\n",
       "      <td id=\"T_53880_row0_col1\" class=\"data row0 col1\" >Please Please Me</td>\n",
       "      <td id=\"T_53880_row0_col2\" class=\"data row0 col2\" >0.547929</td>\n",
       "      <td id=\"T_53880_row0_col3\" class=\"data row0 col3\" >0.599786</td>\n",
       "      <td id=\"T_53880_row0_col4\" class=\"data row0 col4\" >0.575500</td>\n",
       "    </tr>\n",
       "    <tr>\n",
       "      <th id=\"T_53880_level0_row1\" class=\"row_heading level0 row1\" >1</th>\n",
       "      <td id=\"T_53880_row1_col0\" class=\"data row1 col0\" >1963</td>\n",
       "      <td id=\"T_53880_row1_col1\" class=\"data row1 col1\" >With The Beatles</td>\n",
       "      <td id=\"T_53880_row1_col2\" class=\"data row1 col2\" >0.500357</td>\n",
       "      <td id=\"T_53880_row1_col3\" class=\"data row1 col3\" >0.676143</td>\n",
       "      <td id=\"T_53880_row1_col4\" class=\"data row1 col4\" >0.417071</td>\n",
       "    </tr>\n",
       "    <tr>\n",
       "      <th id=\"T_53880_level0_row2\" class=\"row_heading level0 row2\" >2</th>\n",
       "      <td id=\"T_53880_row2_col0\" class=\"data row2 col0\" >1964</td>\n",
       "      <td id=\"T_53880_row2_col1\" class=\"data row2 col1\" >A Hard Day's Night</td>\n",
       "      <td id=\"T_53880_row2_col2\" class=\"data row2 col2\" >0.601462</td>\n",
       "      <td id=\"T_53880_row2_col3\" class=\"data row2 col3\" >0.609538</td>\n",
       "      <td id=\"T_53880_row2_col4\" class=\"data row2 col4\" >0.377900</td>\n",
       "    </tr>\n",
       "    <tr>\n",
       "      <th id=\"T_53880_level0_row3\" class=\"row_heading level0 row3\" >3</th>\n",
       "      <td id=\"T_53880_row3_col0\" class=\"data row3 col0\" >1964</td>\n",
       "      <td id=\"T_53880_row3_col1\" class=\"data row3 col1\" >Beatles for Sale</td>\n",
       "      <td id=\"T_53880_row3_col2\" class=\"data row3 col2\" >0.592286</td>\n",
       "      <td id=\"T_53880_row3_col3\" class=\"data row3 col3\" >0.596429</td>\n",
       "      <td id=\"T_53880_row3_col4\" class=\"data row3 col4\" >0.525000</td>\n",
       "    </tr>\n",
       "    <tr>\n",
       "      <th id=\"T_53880_level0_row4\" class=\"row_heading level0 row4\" >4</th>\n",
       "      <td id=\"T_53880_row4_col0\" class=\"data row4 col0\" >1965</td>\n",
       "      <td id=\"T_53880_row4_col1\" class=\"data row4 col1\" >Help!</td>\n",
       "      <td id=\"T_53880_row4_col2\" class=\"data row4 col2\" >0.528000</td>\n",
       "      <td id=\"T_53880_row4_col3\" class=\"data row4 col3\" >0.610929</td>\n",
       "      <td id=\"T_53880_row4_col4\" class=\"data row4 col4\" >0.295386</td>\n",
       "    </tr>\n",
       "    <tr>\n",
       "      <th id=\"T_53880_level0_row5\" class=\"row_heading level0 row5\" >5</th>\n",
       "      <td id=\"T_53880_row5_col0\" class=\"data row5 col0\" >1965</td>\n",
       "      <td id=\"T_53880_row5_col1\" class=\"data row5 col1\" >Rubber Soul</td>\n",
       "      <td id=\"T_53880_row5_col2\" class=\"data row5 col2\" >0.587786</td>\n",
       "      <td id=\"T_53880_row5_col3\" class=\"data row5 col3\" >0.539357</td>\n",
       "      <td id=\"T_53880_row5_col4\" class=\"data row5 col4\" >0.150806</td>\n",
       "    </tr>\n",
       "    <tr>\n",
       "      <th id=\"T_53880_level0_row6\" class=\"row_heading level0 row6\" >6</th>\n",
       "      <td id=\"T_53880_row6_col0\" class=\"data row6 col0\" >1966</td>\n",
       "      <td id=\"T_53880_row6_col1\" class=\"data row6 col1\" >Revolver</td>\n",
       "      <td id=\"T_53880_row6_col2\" class=\"data row6 col2\" >0.482429</td>\n",
       "      <td id=\"T_53880_row6_col3\" class=\"data row6 col3\" >0.530571</td>\n",
       "      <td id=\"T_53880_row6_col4\" class=\"data row6 col4\" >0.406135</td>\n",
       "    </tr>\n",
       "    <tr>\n",
       "      <th id=\"T_53880_level0_row7\" class=\"row_heading level0 row7\" >7</th>\n",
       "      <td id=\"T_53880_row7_col0\" class=\"data row7 col0\" >1967</td>\n",
       "      <td id=\"T_53880_row7_col1\" class=\"data row7 col1\" >Magical Mystery Tour</td>\n",
       "      <td id=\"T_53880_row7_col2\" class=\"data row7 col2\" >0.467727</td>\n",
       "      <td id=\"T_53880_row7_col3\" class=\"data row7 col3\" >0.486545</td>\n",
       "      <td id=\"T_53880_row7_col4\" class=\"data row7 col4\" >0.311273</td>\n",
       "    </tr>\n",
       "    <tr>\n",
       "      <th id=\"T_53880_level0_row8\" class=\"row_heading level0 row8\" >8</th>\n",
       "      <td id=\"T_53880_row8_col0\" class=\"data row8 col0\" >1967</td>\n",
       "      <td id=\"T_53880_row8_col1\" class=\"data row8 col1\" >Sgt. Pepper's Lonely Hearts Club Band</td>\n",
       "      <td id=\"T_53880_row8_col2\" class=\"data row8 col2\" >0.515385</td>\n",
       "      <td id=\"T_53880_row8_col3\" class=\"data row8 col3\" >0.482538</td>\n",
       "      <td id=\"T_53880_row8_col4\" class=\"data row8 col4\" >0.298762</td>\n",
       "    </tr>\n",
       "    <tr>\n",
       "      <th id=\"T_53880_level0_row9\" class=\"row_heading level0 row9\" >9</th>\n",
       "      <td id=\"T_53880_row9_col0\" class=\"data row9 col0\" >1968</td>\n",
       "      <td id=\"T_53880_row9_col1\" class=\"data row9 col1\" >The Beatles (white album)</td>\n",
       "      <td id=\"T_53880_row9_col2\" class=\"data row9 col2\" >0.502567</td>\n",
       "      <td id=\"T_53880_row9_col3\" class=\"data row9 col3\" >0.503810</td>\n",
       "      <td id=\"T_53880_row9_col4\" class=\"data row9 col4\" >0.395290</td>\n",
       "    </tr>\n",
       "    <tr>\n",
       "      <th id=\"T_53880_level0_row10\" class=\"row_heading level0 row10\" >10</th>\n",
       "      <td id=\"T_53880_row10_col0\" class=\"data row10 col0\" >1969</td>\n",
       "      <td id=\"T_53880_row10_col1\" class=\"data row10 col1\" >Abbey Road</td>\n",
       "      <td id=\"T_53880_row10_col2\" class=\"data row10 col2\" >0.518000</td>\n",
       "      <td id=\"T_53880_row10_col3\" class=\"data row10 col3\" >0.457176</td>\n",
       "      <td id=\"T_53880_row10_col4\" class=\"data row10 col4\" >0.224964</td>\n",
       "    </tr>\n",
       "    <tr>\n",
       "      <th id=\"T_53880_level0_row11\" class=\"row_heading level0 row11\" >11</th>\n",
       "      <td id=\"T_53880_row11_col0\" class=\"data row11 col0\" >1969</td>\n",
       "      <td id=\"T_53880_row11_col1\" class=\"data row11 col1\" >Yellow Submarine</td>\n",
       "      <td id=\"T_53880_row11_col2\" class=\"data row11 col2\" >0.388462</td>\n",
       "      <td id=\"T_53880_row11_col3\" class=\"data row11 col3\" >0.376046</td>\n",
       "      <td id=\"T_53880_row11_col4\" class=\"data row11 col4\" >0.546945</td>\n",
       "    </tr>\n",
       "    <tr>\n",
       "      <th id=\"T_53880_level0_row12\" class=\"row_heading level0 row12\" >12</th>\n",
       "      <td id=\"T_53880_row12_col0\" class=\"data row12 col0\" >1970</td>\n",
       "      <td id=\"T_53880_row12_col1\" class=\"data row12 col1\" >Let It Be</td>\n",
       "      <td id=\"T_53880_row12_col2\" class=\"data row12 col2\" >0.520417</td>\n",
       "      <td id=\"T_53880_row12_col3\" class=\"data row12 col3\" >0.545917</td>\n",
       "      <td id=\"T_53880_row12_col4\" class=\"data row12 col4\" >0.364050</td>\n",
       "    </tr>\n",
       "  </tbody>\n",
       "</table>\n"
      ],
      "text/plain": [
       "<pandas.io.formats.style.Styler at 0x179ee9390>"
      ]
     },
     "execution_count": 99,
     "metadata": {},
     "output_type": "execute_result"
    }
   ],
   "source": [
    "grouped_data = beatles_spotify.groupby(['year', \"album\"])[['danceability', 'energy', 'acousticness']].mean()\n",
    "grouped_data = grouped_data.reset_index()\n",
    "grouped_data.style.set_caption(\"Table 1: Selected Mean Audio Feature Values for Beatles Albums\").set_table_styles([{\n",
    "    'selector': 'caption',\n",
    "    'props': [\n",
    "        ('color', 'black'),\n",
    "        ('font-size', '18px')\n",
    "    ]\n",
    "}])"
   ]
  },
  {
   "cell_type": "markdown",
   "id": "df088342-7040-4e2f-89b8-0975bc4f875e",
   "metadata": {
    "execution": {
     "iopub.execute_input": "2024-07-01T19:39:20.592530Z",
     "iopub.status.busy": "2024-07-01T19:39:20.591829Z",
     "iopub.status.idle": "2024-07-01T19:39:20.597698Z",
     "shell.execute_reply": "2024-07-01T19:39:20.596704Z",
     "shell.execute_reply.started": "2024-07-01T19:39:20.592490Z"
    }
   },
   "source": [
    "#### 2c: A Plotly barchart to show the comparative values for each in a graphical way"
   ]
  },
  {
   "cell_type": "code",
   "execution_count": 100,
   "id": "2e450a74-855a-4666-803c-0084ebedf157",
   "metadata": {
    "execution": {
     "iopub.execute_input": "2024-07-01T20:17:52.168193Z",
     "iopub.status.busy": "2024-07-01T20:17:52.167444Z",
     "iopub.status.idle": "2024-07-01T20:17:52.210759Z",
     "shell.execute_reply": "2024-07-01T20:17:52.210184Z",
     "shell.execute_reply.started": "2024-07-01T20:17:52.168145Z"
    }
   },
   "outputs": [
    {
     "data": {
      "text/html": [
       "        <script type=\"text/javascript\">\n",
       "        window.PlotlyConfig = {MathJaxConfig: 'local'};\n",
       "        if (window.MathJax && window.MathJax.Hub && window.MathJax.Hub.Config) {window.MathJax.Hub.Config({SVG: {font: \"STIX-Web\"}});}\n",
       "        if (typeof require !== 'undefined') {\n",
       "        require.undef(\"plotly\");\n",
       "        requirejs.config({\n",
       "            paths: {\n",
       "                'plotly': ['https://cdn.plot.ly/plotly-2.27.0.min']\n",
       "            }\n",
       "        });\n",
       "        require(['plotly'], function(Plotly) {\n",
       "            window._Plotly = Plotly;\n",
       "        });\n",
       "        }\n",
       "        </script>\n",
       "        "
      ]
     },
     "metadata": {},
     "output_type": "display_data"
    },
    {
     "data": {
      "application/vnd.plotly.v1+json": {
       "config": {
        "plotlyServerURL": "https://plot.ly"
       },
       "data": [
        {
         "alignmentgroup": "True",
         "hovertemplate": "variable=danceability<br>album=%{x}<br>value=%{y}<extra></extra>",
         "legendgroup": "danceability",
         "marker": {
          "color": "rgb(102, 197, 204)",
          "pattern": {
           "shape": ""
          }
         },
         "name": "danceability",
         "offsetgroup": "danceability",
         "orientation": "v",
         "showlegend": true,
         "textposition": "auto",
         "type": "bar",
         "x": [
          "Please Please Me",
          "With The Beatles",
          "A Hard Day's Night",
          "Beatles for Sale",
          "Help!",
          "Rubber Soul",
          "Revolver",
          "Magical Mystery Tour",
          "Sgt. Pepper's Lonely Hearts Club Band",
          "The Beatles (white album)",
          "Abbey Road",
          "Yellow Submarine",
          "Let It Be"
         ],
         "xaxis": "x",
         "y": [
          0.5479285714285714,
          0.5003571428571428,
          0.6014615384615385,
          0.5922857142857143,
          0.528,
          0.5877857142857142,
          0.4824285714285714,
          0.46772727272727277,
          0.5153846153846154,
          0.5025666666666667,
          0.518,
          0.38846153846153847,
          0.5204166666666666
         ],
         "yaxis": "y"
        },
        {
         "alignmentgroup": "True",
         "hovertemplate": "variable=energy<br>album=%{x}<br>value=%{y}<extra></extra>",
         "legendgroup": "energy",
         "marker": {
          "color": "rgb(246, 207, 113)",
          "pattern": {
           "shape": ""
          }
         },
         "name": "energy",
         "offsetgroup": "energy",
         "orientation": "v",
         "showlegend": true,
         "textposition": "auto",
         "type": "bar",
         "x": [
          "Please Please Me",
          "With The Beatles",
          "A Hard Day's Night",
          "Beatles for Sale",
          "Help!",
          "Rubber Soul",
          "Revolver",
          "Magical Mystery Tour",
          "Sgt. Pepper's Lonely Hearts Club Band",
          "The Beatles (white album)",
          "Abbey Road",
          "Yellow Submarine",
          "Let It Be"
         ],
         "xaxis": "x",
         "y": [
          0.5997857142857143,
          0.676142857142857,
          0.6095384615384616,
          0.5964285714285714,
          0.6109285714285715,
          0.5393571428571429,
          0.5305714285714286,
          0.48654545454545456,
          0.4825384615384615,
          0.50381,
          0.4571764705882353,
          0.37604615384615386,
          0.5459166666666667
         ],
         "yaxis": "y"
        },
        {
         "alignmentgroup": "True",
         "hovertemplate": "variable=acousticness<br>album=%{x}<br>value=%{y}<extra></extra>",
         "legendgroup": "acousticness",
         "marker": {
          "color": "rgb(248, 156, 116)",
          "pattern": {
           "shape": ""
          }
         },
         "name": "acousticness",
         "offsetgroup": "acousticness",
         "orientation": "v",
         "showlegend": true,
         "textposition": "auto",
         "type": "bar",
         "x": [
          "Please Please Me",
          "With The Beatles",
          "A Hard Day's Night",
          "Beatles for Sale",
          "Help!",
          "Rubber Soul",
          "Revolver",
          "Magical Mystery Tour",
          "Sgt. Pepper's Lonely Hearts Club Band",
          "The Beatles (white album)",
          "Abbey Road",
          "Yellow Submarine",
          "Let It Be"
         ],
         "xaxis": "x",
         "y": [
          0.5755,
          0.4170714285714286,
          0.3779,
          0.525,
          0.29538571428571425,
          0.1508064285714286,
          0.4061345714285714,
          0.31127272727272726,
          0.29876153846153847,
          0.39528982333333335,
          0.22496411764705884,
          0.5469449230769231,
          0.36405
         ],
         "yaxis": "y"
        }
       ],
       "layout": {
        "barmode": "group",
        "height": 600,
        "legend": {
         "title": {
          "text": "variable"
         },
         "tracegroupgap": 0
        },
        "template": {
         "data": {
          "bar": [
           {
            "error_x": {
             "color": "#2a3f5f"
            },
            "error_y": {
             "color": "#2a3f5f"
            },
            "marker": {
             "line": {
              "color": "#E5ECF6",
              "width": 0.5
             },
             "pattern": {
              "fillmode": "overlay",
              "size": 10,
              "solidity": 0.2
             }
            },
            "type": "bar"
           }
          ],
          "barpolar": [
           {
            "marker": {
             "line": {
              "color": "#E5ECF6",
              "width": 0.5
             },
             "pattern": {
              "fillmode": "overlay",
              "size": 10,
              "solidity": 0.2
             }
            },
            "type": "barpolar"
           }
          ],
          "carpet": [
           {
            "aaxis": {
             "endlinecolor": "#2a3f5f",
             "gridcolor": "white",
             "linecolor": "white",
             "minorgridcolor": "white",
             "startlinecolor": "#2a3f5f"
            },
            "baxis": {
             "endlinecolor": "#2a3f5f",
             "gridcolor": "white",
             "linecolor": "white",
             "minorgridcolor": "white",
             "startlinecolor": "#2a3f5f"
            },
            "type": "carpet"
           }
          ],
          "choropleth": [
           {
            "colorbar": {
             "outlinewidth": 0,
             "ticks": ""
            },
            "type": "choropleth"
           }
          ],
          "contour": [
           {
            "colorbar": {
             "outlinewidth": 0,
             "ticks": ""
            },
            "colorscale": [
             [
              0,
              "#0d0887"
             ],
             [
              0.1111111111111111,
              "#46039f"
             ],
             [
              0.2222222222222222,
              "#7201a8"
             ],
             [
              0.3333333333333333,
              "#9c179e"
             ],
             [
              0.4444444444444444,
              "#bd3786"
             ],
             [
              0.5555555555555556,
              "#d8576b"
             ],
             [
              0.6666666666666666,
              "#ed7953"
             ],
             [
              0.7777777777777778,
              "#fb9f3a"
             ],
             [
              0.8888888888888888,
              "#fdca26"
             ],
             [
              1,
              "#f0f921"
             ]
            ],
            "type": "contour"
           }
          ],
          "contourcarpet": [
           {
            "colorbar": {
             "outlinewidth": 0,
             "ticks": ""
            },
            "type": "contourcarpet"
           }
          ],
          "heatmap": [
           {
            "colorbar": {
             "outlinewidth": 0,
             "ticks": ""
            },
            "colorscale": [
             [
              0,
              "#0d0887"
             ],
             [
              0.1111111111111111,
              "#46039f"
             ],
             [
              0.2222222222222222,
              "#7201a8"
             ],
             [
              0.3333333333333333,
              "#9c179e"
             ],
             [
              0.4444444444444444,
              "#bd3786"
             ],
             [
              0.5555555555555556,
              "#d8576b"
             ],
             [
              0.6666666666666666,
              "#ed7953"
             ],
             [
              0.7777777777777778,
              "#fb9f3a"
             ],
             [
              0.8888888888888888,
              "#fdca26"
             ],
             [
              1,
              "#f0f921"
             ]
            ],
            "type": "heatmap"
           }
          ],
          "heatmapgl": [
           {
            "colorbar": {
             "outlinewidth": 0,
             "ticks": ""
            },
            "colorscale": [
             [
              0,
              "#0d0887"
             ],
             [
              0.1111111111111111,
              "#46039f"
             ],
             [
              0.2222222222222222,
              "#7201a8"
             ],
             [
              0.3333333333333333,
              "#9c179e"
             ],
             [
              0.4444444444444444,
              "#bd3786"
             ],
             [
              0.5555555555555556,
              "#d8576b"
             ],
             [
              0.6666666666666666,
              "#ed7953"
             ],
             [
              0.7777777777777778,
              "#fb9f3a"
             ],
             [
              0.8888888888888888,
              "#fdca26"
             ],
             [
              1,
              "#f0f921"
             ]
            ],
            "type": "heatmapgl"
           }
          ],
          "histogram": [
           {
            "marker": {
             "pattern": {
              "fillmode": "overlay",
              "size": 10,
              "solidity": 0.2
             }
            },
            "type": "histogram"
           }
          ],
          "histogram2d": [
           {
            "colorbar": {
             "outlinewidth": 0,
             "ticks": ""
            },
            "colorscale": [
             [
              0,
              "#0d0887"
             ],
             [
              0.1111111111111111,
              "#46039f"
             ],
             [
              0.2222222222222222,
              "#7201a8"
             ],
             [
              0.3333333333333333,
              "#9c179e"
             ],
             [
              0.4444444444444444,
              "#bd3786"
             ],
             [
              0.5555555555555556,
              "#d8576b"
             ],
             [
              0.6666666666666666,
              "#ed7953"
             ],
             [
              0.7777777777777778,
              "#fb9f3a"
             ],
             [
              0.8888888888888888,
              "#fdca26"
             ],
             [
              1,
              "#f0f921"
             ]
            ],
            "type": "histogram2d"
           }
          ],
          "histogram2dcontour": [
           {
            "colorbar": {
             "outlinewidth": 0,
             "ticks": ""
            },
            "colorscale": [
             [
              0,
              "#0d0887"
             ],
             [
              0.1111111111111111,
              "#46039f"
             ],
             [
              0.2222222222222222,
              "#7201a8"
             ],
             [
              0.3333333333333333,
              "#9c179e"
             ],
             [
              0.4444444444444444,
              "#bd3786"
             ],
             [
              0.5555555555555556,
              "#d8576b"
             ],
             [
              0.6666666666666666,
              "#ed7953"
             ],
             [
              0.7777777777777778,
              "#fb9f3a"
             ],
             [
              0.8888888888888888,
              "#fdca26"
             ],
             [
              1,
              "#f0f921"
             ]
            ],
            "type": "histogram2dcontour"
           }
          ],
          "mesh3d": [
           {
            "colorbar": {
             "outlinewidth": 0,
             "ticks": ""
            },
            "type": "mesh3d"
           }
          ],
          "parcoords": [
           {
            "line": {
             "colorbar": {
              "outlinewidth": 0,
              "ticks": ""
             }
            },
            "type": "parcoords"
           }
          ],
          "pie": [
           {
            "automargin": true,
            "type": "pie"
           }
          ],
          "scatter": [
           {
            "fillpattern": {
             "fillmode": "overlay",
             "size": 10,
             "solidity": 0.2
            },
            "type": "scatter"
           }
          ],
          "scatter3d": [
           {
            "line": {
             "colorbar": {
              "outlinewidth": 0,
              "ticks": ""
             }
            },
            "marker": {
             "colorbar": {
              "outlinewidth": 0,
              "ticks": ""
             }
            },
            "type": "scatter3d"
           }
          ],
          "scattercarpet": [
           {
            "marker": {
             "colorbar": {
              "outlinewidth": 0,
              "ticks": ""
             }
            },
            "type": "scattercarpet"
           }
          ],
          "scattergeo": [
           {
            "marker": {
             "colorbar": {
              "outlinewidth": 0,
              "ticks": ""
             }
            },
            "type": "scattergeo"
           }
          ],
          "scattergl": [
           {
            "marker": {
             "colorbar": {
              "outlinewidth": 0,
              "ticks": ""
             }
            },
            "type": "scattergl"
           }
          ],
          "scattermapbox": [
           {
            "marker": {
             "colorbar": {
              "outlinewidth": 0,
              "ticks": ""
             }
            },
            "type": "scattermapbox"
           }
          ],
          "scatterpolar": [
           {
            "marker": {
             "colorbar": {
              "outlinewidth": 0,
              "ticks": ""
             }
            },
            "type": "scatterpolar"
           }
          ],
          "scatterpolargl": [
           {
            "marker": {
             "colorbar": {
              "outlinewidth": 0,
              "ticks": ""
             }
            },
            "type": "scatterpolargl"
           }
          ],
          "scatterternary": [
           {
            "marker": {
             "colorbar": {
              "outlinewidth": 0,
              "ticks": ""
             }
            },
            "type": "scatterternary"
           }
          ],
          "surface": [
           {
            "colorbar": {
             "outlinewidth": 0,
             "ticks": ""
            },
            "colorscale": [
             [
              0,
              "#0d0887"
             ],
             [
              0.1111111111111111,
              "#46039f"
             ],
             [
              0.2222222222222222,
              "#7201a8"
             ],
             [
              0.3333333333333333,
              "#9c179e"
             ],
             [
              0.4444444444444444,
              "#bd3786"
             ],
             [
              0.5555555555555556,
              "#d8576b"
             ],
             [
              0.6666666666666666,
              "#ed7953"
             ],
             [
              0.7777777777777778,
              "#fb9f3a"
             ],
             [
              0.8888888888888888,
              "#fdca26"
             ],
             [
              1,
              "#f0f921"
             ]
            ],
            "type": "surface"
           }
          ],
          "table": [
           {
            "cells": {
             "fill": {
              "color": "#EBF0F8"
             },
             "line": {
              "color": "white"
             }
            },
            "header": {
             "fill": {
              "color": "#C8D4E3"
             },
             "line": {
              "color": "white"
             }
            },
            "type": "table"
           }
          ]
         },
         "layout": {
          "annotationdefaults": {
           "arrowcolor": "#2a3f5f",
           "arrowhead": 0,
           "arrowwidth": 1
          },
          "autotypenumbers": "strict",
          "coloraxis": {
           "colorbar": {
            "outlinewidth": 0,
            "ticks": ""
           }
          },
          "colorscale": {
           "diverging": [
            [
             0,
             "#8e0152"
            ],
            [
             0.1,
             "#c51b7d"
            ],
            [
             0.2,
             "#de77ae"
            ],
            [
             0.3,
             "#f1b6da"
            ],
            [
             0.4,
             "#fde0ef"
            ],
            [
             0.5,
             "#f7f7f7"
            ],
            [
             0.6,
             "#e6f5d0"
            ],
            [
             0.7,
             "#b8e186"
            ],
            [
             0.8,
             "#7fbc41"
            ],
            [
             0.9,
             "#4d9221"
            ],
            [
             1,
             "#276419"
            ]
           ],
           "sequential": [
            [
             0,
             "#0d0887"
            ],
            [
             0.1111111111111111,
             "#46039f"
            ],
            [
             0.2222222222222222,
             "#7201a8"
            ],
            [
             0.3333333333333333,
             "#9c179e"
            ],
            [
             0.4444444444444444,
             "#bd3786"
            ],
            [
             0.5555555555555556,
             "#d8576b"
            ],
            [
             0.6666666666666666,
             "#ed7953"
            ],
            [
             0.7777777777777778,
             "#fb9f3a"
            ],
            [
             0.8888888888888888,
             "#fdca26"
            ],
            [
             1,
             "#f0f921"
            ]
           ],
           "sequentialminus": [
            [
             0,
             "#0d0887"
            ],
            [
             0.1111111111111111,
             "#46039f"
            ],
            [
             0.2222222222222222,
             "#7201a8"
            ],
            [
             0.3333333333333333,
             "#9c179e"
            ],
            [
             0.4444444444444444,
             "#bd3786"
            ],
            [
             0.5555555555555556,
             "#d8576b"
            ],
            [
             0.6666666666666666,
             "#ed7953"
            ],
            [
             0.7777777777777778,
             "#fb9f3a"
            ],
            [
             0.8888888888888888,
             "#fdca26"
            ],
            [
             1,
             "#f0f921"
            ]
           ]
          },
          "colorway": [
           "#636efa",
           "#EF553B",
           "#00cc96",
           "#ab63fa",
           "#FFA15A",
           "#19d3f3",
           "#FF6692",
           "#B6E880",
           "#FF97FF",
           "#FECB52"
          ],
          "font": {
           "color": "#2a3f5f"
          },
          "geo": {
           "bgcolor": "white",
           "lakecolor": "white",
           "landcolor": "#E5ECF6",
           "showlakes": true,
           "showland": true,
           "subunitcolor": "white"
          },
          "hoverlabel": {
           "align": "left"
          },
          "hovermode": "closest",
          "mapbox": {
           "style": "light"
          },
          "paper_bgcolor": "white",
          "plot_bgcolor": "#E5ECF6",
          "polar": {
           "angularaxis": {
            "gridcolor": "white",
            "linecolor": "white",
            "ticks": ""
           },
           "bgcolor": "#E5ECF6",
           "radialaxis": {
            "gridcolor": "white",
            "linecolor": "white",
            "ticks": ""
           }
          },
          "scene": {
           "xaxis": {
            "backgroundcolor": "#E5ECF6",
            "gridcolor": "white",
            "gridwidth": 2,
            "linecolor": "white",
            "showbackground": true,
            "ticks": "",
            "zerolinecolor": "white"
           },
           "yaxis": {
            "backgroundcolor": "#E5ECF6",
            "gridcolor": "white",
            "gridwidth": 2,
            "linecolor": "white",
            "showbackground": true,
            "ticks": "",
            "zerolinecolor": "white"
           },
           "zaxis": {
            "backgroundcolor": "#E5ECF6",
            "gridcolor": "white",
            "gridwidth": 2,
            "linecolor": "white",
            "showbackground": true,
            "ticks": "",
            "zerolinecolor": "white"
           }
          },
          "shapedefaults": {
           "line": {
            "color": "#2a3f5f"
           }
          },
          "ternary": {
           "aaxis": {
            "gridcolor": "white",
            "linecolor": "white",
            "ticks": ""
           },
           "baxis": {
            "gridcolor": "white",
            "linecolor": "white",
            "ticks": ""
           },
           "bgcolor": "#E5ECF6",
           "caxis": {
            "gridcolor": "white",
            "linecolor": "white",
            "ticks": ""
           }
          },
          "title": {
           "x": 0.05
          },
          "xaxis": {
           "automargin": true,
           "gridcolor": "white",
           "linecolor": "white",
           "ticks": "",
           "title": {
            "standoff": 15
           },
           "zerolinecolor": "white",
           "zerolinewidth": 2
          },
          "yaxis": {
           "automargin": true,
           "gridcolor": "white",
           "linecolor": "white",
           "ticks": "",
           "title": {
            "standoff": 15
           },
           "zerolinecolor": "white",
           "zerolinewidth": 2
          }
         }
        },
        "title": {
         "text": "Figure 1: Compararive Beatles Album Scores for Selected Audio Features"
        },
        "width": 800,
        "xaxis": {
         "anchor": "y",
         "autorange": true,
         "domain": [
          0,
          1
         ],
         "range": [
          -0.5,
          12.5
         ],
         "title": {
          "text": "album"
         },
         "type": "category"
        },
        "yaxis": {
         "anchor": "x",
         "autorange": true,
         "domain": [
          0,
          1
         ],
         "range": [
          0,
          0.7117293233082705
         ],
         "title": {
          "text": "value"
         },
         "type": "linear"
        }
       }
      },
      "image/png": "[encoded data removed]",
      "text/html": [
       "<div>                            <div id=\"6ff22514-569e-473b-bd5e-db013cc5a17b\" class=\"plotly-graph-div\" style=\"height:600px; width:800px;\"></div>            <script type=\"text/javascript\">                require([\"plotly\"], function(Plotly) {                    window.PLOTLYENV=window.PLOTLYENV || {};                                    if (document.getElementById(\"6ff22514-569e-473b-bd5e-db013cc5a17b\")) {                    Plotly.newPlot(                        \"6ff22514-569e-473b-bd5e-db013cc5a17b\",                        [{\"alignmentgroup\":\"True\",\"hovertemplate\":\"variable=danceability\\u003cbr\\u003ealbum=%{x}\\u003cbr\\u003evalue=%{y}\\u003cextra\\u003e\\u003c\\u002fextra\\u003e\",\"legendgroup\":\"danceability\",\"marker\":{\"color\":\"rgb(102, 197, 204)\",\"pattern\":{\"shape\":\"\"}},\"name\":\"danceability\",\"offsetgroup\":\"danceability\",\"orientation\":\"v\",\"showlegend\":true,\"textposition\":\"auto\",\"x\":[\"Please Please Me\",\"With The Beatles\",\"A Hard Day's Night\",\"Beatles for Sale\",\"Help!\",\"Rubber Soul\",\"Revolver\",\"Magical Mystery Tour\",\"Sgt. Pepper's Lonely Hearts Club Band\",\"The Beatles (white album)\",\"Abbey Road\",\"Yellow Submarine\",\"Let It Be\"],\"xaxis\":\"x\",\"y\":[0.5479285714285714,0.5003571428571428,0.6014615384615385,0.5922857142857143,0.528,0.5877857142857142,0.4824285714285714,0.46772727272727277,0.5153846153846154,0.5025666666666667,0.518,0.38846153846153847,0.5204166666666666],\"yaxis\":\"y\",\"type\":\"bar\"},{\"alignmentgroup\":\"True\",\"hovertemplate\":\"variable=energy\\u003cbr\\u003ealbum=%{x}\\u003cbr\\u003evalue=%{y}\\u003cextra\\u003e\\u003c\\u002fextra\\u003e\",\"legendgroup\":\"energy\",\"marker\":{\"color\":\"rgb(246, 207, 113)\",\"pattern\":{\"shape\":\"\"}},\"name\":\"energy\",\"offsetgroup\":\"energy\",\"orientation\":\"v\",\"showlegend\":true,\"textposition\":\"auto\",\"x\":[\"Please Please Me\",\"With The Beatles\",\"A Hard Day's Night\",\"Beatles for Sale\",\"Help!\",\"Rubber Soul\",\"Revolver\",\"Magical Mystery Tour\",\"Sgt. Pepper's Lonely Hearts Club Band\",\"The Beatles (white album)\",\"Abbey Road\",\"Yellow Submarine\",\"Let It Be\"],\"xaxis\":\"x\",\"y\":[0.5997857142857143,0.676142857142857,0.6095384615384616,0.5964285714285714,0.6109285714285715,0.5393571428571429,0.5305714285714286,0.48654545454545456,0.4825384615384615,0.50381,0.4571764705882353,0.37604615384615386,0.5459166666666667],\"yaxis\":\"y\",\"type\":\"bar\"},{\"alignmentgroup\":\"True\",\"hovertemplate\":\"variable=acousticness\\u003cbr\\u003ealbum=%{x}\\u003cbr\\u003evalue=%{y}\\u003cextra\\u003e\\u003c\\u002fextra\\u003e\",\"legendgroup\":\"acousticness\",\"marker\":{\"color\":\"rgb(248, 156, 116)\",\"pattern\":{\"shape\":\"\"}},\"name\":\"acousticness\",\"offsetgroup\":\"acousticness\",\"orientation\":\"v\",\"showlegend\":true,\"textposition\":\"auto\",\"x\":[\"Please Please Me\",\"With The Beatles\",\"A Hard Day's Night\",\"Beatles for Sale\",\"Help!\",\"Rubber Soul\",\"Revolver\",\"Magical Mystery Tour\",\"Sgt. Pepper's Lonely Hearts Club Band\",\"The Beatles (white album)\",\"Abbey Road\",\"Yellow Submarine\",\"Let It Be\"],\"xaxis\":\"x\",\"y\":[0.5755,0.4170714285714286,0.3779,0.525,0.29538571428571425,0.1508064285714286,0.4061345714285714,0.31127272727272726,0.29876153846153847,0.39528982333333335,0.22496411764705884,0.5469449230769231,0.36405],\"yaxis\":\"y\",\"type\":\"bar\"}],                        {\"template\":{\"data\":{\"histogram2dcontour\":[{\"type\":\"histogram2dcontour\",\"colorbar\":{\"outlinewidth\":0,\"ticks\":\"\"},\"colorscale\":[[0.0,\"#0d0887\"],[0.1111111111111111,\"#46039f\"],[0.2222222222222222,\"#7201a8\"],[0.3333333333333333,\"#9c179e\"],[0.4444444444444444,\"#bd3786\"],[0.5555555555555556,\"#d8576b\"],[0.6666666666666666,\"#ed7953\"],[0.7777777777777778,\"#fb9f3a\"],[0.8888888888888888,\"#fdca26\"],[1.0,\"#f0f921\"]]}],\"choropleth\":[{\"type\":\"choropleth\",\"colorbar\":{\"outlinewidth\":0,\"ticks\":\"\"}}],\"histogram2d\":[{\"type\":\"histogram2d\",\"colorbar\":{\"outlinewidth\":0,\"ticks\":\"\"},\"colorscale\":[[0.0,\"#0d0887\"],[0.1111111111111111,\"#46039f\"],[0.2222222222222222,\"#7201a8\"],[0.3333333333333333,\"#9c179e\"],[0.4444444444444444,\"#bd3786\"],[0.5555555555555556,\"#d8576b\"],[0.6666666666666666,\"#ed7953\"],[0.7777777777777778,\"#fb9f3a\"],[0.8888888888888888,\"#fdca26\"],[1.0,\"#f0f921\"]]}],\"heatmap\":[{\"type\":\"heatmap\",\"colorbar\":{\"outlinewidth\":0,\"ticks\":\"\"},\"colorscale\":[[0.0,\"#0d0887\"],[0.1111111111111111,\"#46039f\"],[0.2222222222222222,\"#7201a8\"],[0.3333333333333333,\"#9c179e\"],[0.4444444444444444,\"#bd3786\"],[0.5555555555555556,\"#d8576b\"],[0.6666666666666666,\"#ed7953\"],[0.7777777777777778,\"#fb9f3a\"],[0.8888888888888888,\"#fdca26\"],[1.0,\"#f0f921\"]]}],\"heatmapgl\":[{\"type\":\"heatmapgl\",\"colorbar\":{\"outlinewidth\":0,\"ticks\":\"\"},\"colorscale\":[[0.0,\"#0d0887\"],[0.1111111111111111,\"#46039f\"],[0.2222222222222222,\"#7201a8\"],[0.3333333333333333,\"#9c179e\"],[0.4444444444444444,\"#bd3786\"],[0.5555555555555556,\"#d8576b\"],[0.6666666666666666,\"#ed7953\"],[0.7777777777777778,\"#fb9f3a\"],[0.8888888888888888,\"#fdca26\"],[1.0,\"#f0f921\"]]}],\"contourcarpet\":[{\"type\":\"contourcarpet\",\"colorbar\":{\"outlinewidth\":0,\"ticks\":\"\"}}],\"contour\":[{\"type\":\"contour\",\"colorbar\":{\"outlinewidth\":0,\"ticks\":\"\"},\"colorscale\":[[0.0,\"#0d0887\"],[0.1111111111111111,\"#46039f\"],[0.2222222222222222,\"#7201a8\"],[0.3333333333333333,\"#9c179e\"],[0.4444444444444444,\"#bd3786\"],[0.5555555555555556,\"#d8576b\"],[0.6666666666666666,\"#ed7953\"],[0.7777777777777778,\"#fb9f3a\"],[0.8888888888888888,\"#fdca26\"],[1.0,\"#f0f921\"]]}],\"surface\":[{\"type\":\"surface\",\"colorbar\":{\"outlinewidth\":0,\"ticks\":\"\"},\"colorscale\":[[0.0,\"#0d0887\"],[0.1111111111111111,\"#46039f\"],[0.2222222222222222,\"#7201a8\"],[0.3333333333333333,\"#9c179e\"],[0.4444444444444444,\"#bd3786\"],[0.5555555555555556,\"#d8576b\"],[0.6666666666666666,\"#ed7953\"],[0.7777777777777778,\"#fb9f3a\"],[0.8888888888888888,\"#fdca26\"],[1.0,\"#f0f921\"]]}],\"mesh3d\":[{\"type\":\"mesh3d\",\"colorbar\":{\"outlinewidth\":0,\"ticks\":\"\"}}],\"scatter\":[{\"fillpattern\":{\"fillmode\":\"overlay\",\"size\":10,\"solidity\":0.2},\"type\":\"scatter\"}],\"parcoords\":[{\"type\":\"parcoords\",\"line\":{\"colorbar\":{\"outlinewidth\":0,\"ticks\":\"\"}}}],\"scatterpolargl\":[{\"type\":\"scatterpolargl\",\"marker\":{\"colorbar\":{\"outlinewidth\":0,\"ticks\":\"\"}}}],\"bar\":[{\"error_x\":{\"color\":\"#2a3f5f\"},\"error_y\":{\"color\":\"#2a3f5f\"},\"marker\":{\"line\":{\"color\":\"#E5ECF6\",\"width\":0.5},\"pattern\":{\"fillmode\":\"overlay\",\"size\":10,\"solidity\":0.2}},\"type\":\"bar\"}],\"scattergeo\":[{\"type\":\"scattergeo\",\"marker\":{\"colorbar\":{\"outlinewidth\":0,\"ticks\":\"\"}}}],\"scatterpolar\":[{\"type\":\"scatterpolar\",\"marker\":{\"colorbar\":{\"outlinewidth\":0,\"ticks\":\"\"}}}],\"histogram\":[{\"marker\":{\"pattern\":{\"fillmode\":\"overlay\",\"size\":10,\"solidity\":0.2}},\"type\":\"histogram\"}],\"scattergl\":[{\"type\":\"scattergl\",\"marker\":{\"colorbar\":{\"outlinewidth\":0,\"ticks\":\"\"}}}],\"scatter3d\":[{\"type\":\"scatter3d\",\"line\":{\"colorbar\":{\"outlinewidth\":0,\"ticks\":\"\"}},\"marker\":{\"colorbar\":{\"outlinewidth\":0,\"ticks\":\"\"}}}],\"scattermapbox\":[{\"type\":\"scattermapbox\",\"marker\":{\"colorbar\":{\"outlinewidth\":0,\"ticks\":\"\"}}}],\"scatterternary\":[{\"type\":\"scatterternary\",\"marker\":{\"colorbar\":{\"outlinewidth\":0,\"ticks\":\"\"}}}],\"scattercarpet\":[{\"type\":\"scattercarpet\",\"marker\":{\"colorbar\":{\"outlinewidth\":0,\"ticks\":\"\"}}}],\"carpet\":[{\"aaxis\":{\"endlinecolor\":\"#2a3f5f\",\"gridcolor\":\"white\",\"linecolor\":\"white\",\"minorgridcolor\":\"white\",\"startlinecolor\":\"#2a3f5f\"},\"baxis\":{\"endlinecolor\":\"#2a3f5f\",\"gridcolor\":\"white\",\"linecolor\":\"white\",\"minorgridcolor\":\"white\",\"startlinecolor\":\"#2a3f5f\"},\"type\":\"carpet\"}],\"table\":[{\"cells\":{\"fill\":{\"color\":\"#EBF0F8\"},\"line\":{\"color\":\"white\"}},\"header\":{\"fill\":{\"color\":\"#C8D4E3\"},\"line\":{\"color\":\"white\"}},\"type\":\"table\"}],\"barpolar\":[{\"marker\":{\"line\":{\"color\":\"#E5ECF6\",\"width\":0.5},\"pattern\":{\"fillmode\":\"overlay\",\"size\":10,\"solidity\":0.2}},\"type\":\"barpolar\"}],\"pie\":[{\"automargin\":true,\"type\":\"pie\"}]},\"layout\":{\"autotypenumbers\":\"strict\",\"colorway\":[\"#636efa\",\"#EF553B\",\"#00cc96\",\"#ab63fa\",\"#FFA15A\",\"#19d3f3\",\"#FF6692\",\"#B6E880\",\"#FF97FF\",\"#FECB52\"],\"font\":{\"color\":\"#2a3f5f\"},\"hovermode\":\"closest\",\"hoverlabel\":{\"align\":\"left\"},\"paper_bgcolor\":\"white\",\"plot_bgcolor\":\"#E5ECF6\",\"polar\":{\"bgcolor\":\"#E5ECF6\",\"angularaxis\":{\"gridcolor\":\"white\",\"linecolor\":\"white\",\"ticks\":\"\"},\"radialaxis\":{\"gridcolor\":\"white\",\"linecolor\":\"white\",\"ticks\":\"\"}},\"ternary\":{\"bgcolor\":\"#E5ECF6\",\"aaxis\":{\"gridcolor\":\"white\",\"linecolor\":\"white\",\"ticks\":\"\"},\"baxis\":{\"gridcolor\":\"white\",\"linecolor\":\"white\",\"ticks\":\"\"},\"caxis\":{\"gridcolor\":\"white\",\"linecolor\":\"white\",\"ticks\":\"\"}},\"coloraxis\":{\"colorbar\":{\"outlinewidth\":0,\"ticks\":\"\"}},\"colorscale\":{\"sequential\":[[0.0,\"#0d0887\"],[0.1111111111111111,\"#46039f\"],[0.2222222222222222,\"#7201a8\"],[0.3333333333333333,\"#9c179e\"],[0.4444444444444444,\"#bd3786\"],[0.5555555555555556,\"#d8576b\"],[0.6666666666666666,\"#ed7953\"],[0.7777777777777778,\"#fb9f3a\"],[0.8888888888888888,\"#fdca26\"],[1.0,\"#f0f921\"]],\"sequentialminus\":[[0.0,\"#0d0887\"],[0.1111111111111111,\"#46039f\"],[0.2222222222222222,\"#7201a8\"],[0.3333333333333333,\"#9c179e\"],[0.4444444444444444,\"#bd3786\"],[0.5555555555555556,\"#d8576b\"],[0.6666666666666666,\"#ed7953\"],[0.7777777777777778,\"#fb9f3a\"],[0.8888888888888888,\"#fdca26\"],[1.0,\"#f0f921\"]],\"diverging\":[[0,\"#8e0152\"],[0.1,\"#c51b7d\"],[0.2,\"#de77ae\"],[0.3,\"#f1b6da\"],[0.4,\"#fde0ef\"],[0.5,\"#f7f7f7\"],[0.6,\"#e6f5d0\"],[0.7,\"#b8e186\"],[0.8,\"#7fbc41\"],[0.9,\"#4d9221\"],[1,\"#276419\"]]},\"xaxis\":{\"gridcolor\":\"white\",\"linecolor\":\"white\",\"ticks\":\"\",\"title\":{\"standoff\":15},\"zerolinecolor\":\"white\",\"automargin\":true,\"zerolinewidth\":2},\"yaxis\":{\"gridcolor\":\"white\",\"linecolor\":\"white\",\"ticks\":\"\",\"title\":{\"standoff\":15},\"zerolinecolor\":\"white\",\"automargin\":true,\"zerolinewidth\":2},\"scene\":{\"xaxis\":{\"backgroundcolor\":\"#E5ECF6\",\"gridcolor\":\"white\",\"linecolor\":\"white\",\"showbackground\":true,\"ticks\":\"\",\"zerolinecolor\":\"white\",\"gridwidth\":2},\"yaxis\":{\"backgroundcolor\":\"#E5ECF6\",\"gridcolor\":\"white\",\"linecolor\":\"white\",\"showbackground\":true,\"ticks\":\"\",\"zerolinecolor\":\"white\",\"gridwidth\":2},\"zaxis\":{\"backgroundcolor\":\"#E5ECF6\",\"gridcolor\":\"white\",\"linecolor\":\"white\",\"showbackground\":true,\"ticks\":\"\",\"zerolinecolor\":\"white\",\"gridwidth\":2}},\"shapedefaults\":{\"line\":{\"color\":\"#2a3f5f\"}},\"annotationdefaults\":{\"arrowcolor\":\"#2a3f5f\",\"arrowhead\":0,\"arrowwidth\":1},\"geo\":{\"bgcolor\":\"white\",\"landcolor\":\"#E5ECF6\",\"subunitcolor\":\"white\",\"showland\":true,\"showlakes\":true,\"lakecolor\":\"white\"},\"title\":{\"x\":0.05},\"mapbox\":{\"style\":\"light\"}}},\"xaxis\":{\"anchor\":\"y\",\"domain\":[0.0,1.0],\"title\":{\"text\":\"album\"}},\"yaxis\":{\"anchor\":\"x\",\"domain\":[0.0,1.0],\"title\":{\"text\":\"value\"}},\"legend\":{\"title\":{\"text\":\"variable\"},\"tracegroupgap\":0},\"title\":{\"text\":\"Figure 1: Compararive Beatles Album Scores for Selected Audio Features\"},\"barmode\":\"group\",\"width\":800,\"height\":600},                        {\"responsive\": true}                    ).then(function(){\n",
       "                            \n",
       "var gd = document.getElementById('6ff22514-569e-473b-bd5e-db013cc5a17b');\n",
       "var x = new MutationObserver(function (mutations, observer) {{\n",
       "        var display = window.getComputedStyle(gd).display;\n",
       "        if (!display || display === 'none') {{\n",
       "            console.log([gd, 'removed!']);\n",
       "            Plotly.purge(gd);\n",
       "            observer.disconnect();\n",
       "        }}\n",
       "}});\n",
       "\n",
       "// Listen for the removal of the full notebook cells\n",
       "var notebookContainer = gd.closest('#notebook-container');\n",
       "if (notebookContainer) {{\n",
       "    x.observe(notebookContainer, {childList: true});\n",
       "}}\n",
       "\n",
       "// Listen for the clearing of the current output cell\n",
       "var outputEl = gd.closest('.output');\n",
       "if (outputEl) {{\n",
       "    x.observe(outputEl, {childList: true});\n",
       "}}\n",
       "\n",
       "                        })                };                });            </script>        </div>"
      ]
     },
     "metadata": {},
     "output_type": "display_data"
    }
   ],
   "source": [
    "fig = px.bar(grouped_data,\n",
    "             x='album',\n",
    "             y=['danceability', 'energy', 'acousticness'],\n",
    "             labels={'danceability': 'Danceability', 'energy': 'Energy', 'acousticness': 'Acousticness'},\n",
    "             title='Figure 1: Compararive Beatles Album Scores for Selected Audio Features',\n",
    "             color_discrete_sequence=px.colors.qualitative.Pastel)\n",
    "\n",
    "# Update layout for better visualization\n",
    "fig.update_layout(barmode='group', width=800, height=600)\n",
    "\n",
    "# Show the figure\n",
    "fig.show()"
   ]
  },
  {
   "cell_type": "markdown",
   "id": "8153abe2-228e-43ce-bb71-bf56836a95e7",
   "metadata": {},
   "source": [
    "#### 2d:  Exploring Rubber Soul Features"
   ]
  },
  {
   "cell_type": "code",
   "execution_count": 101,
   "id": "a1e2eb77-7958-4e7f-ae81-5d7308e0d587",
   "metadata": {
    "execution": {
     "iopub.execute_input": "2024-07-01T20:17:52.686853Z",
     "iopub.status.busy": "2024-07-01T20:17:52.685908Z",
     "iopub.status.idle": "2024-07-01T20:17:52.699097Z",
     "shell.execute_reply": "2024-07-01T20:17:52.698065Z",
     "shell.execute_reply.started": "2024-07-01T20:17:52.686801Z"
    }
   },
   "outputs": [
    {
     "data": {
      "text/html": [
       "<style type=\"text/css\">\n",
       "#T_2d258 caption {\n",
       "  color: black;\n",
       "  font-size: 18px;\n",
       "}\n",
       "</style>\n",
       "<table id=\"T_2d258\">\n",
       "  <caption>Table 2: Rubber Soul Audio Features</caption>\n",
       "  <thead>\n",
       "    <tr>\n",
       "      <th class=\"blank level0\" >&nbsp;</th>\n",
       "      <th id=\"T_2d258_level0_col0\" class=\"col_heading level0 col0\" >id</th>\n",
       "      <th id=\"T_2d258_level0_col1\" class=\"col_heading level0 col1\" >year</th>\n",
       "      <th id=\"T_2d258_level0_col2\" class=\"col_heading level0 col2\" >album</th>\n",
       "      <th id=\"T_2d258_level0_col3\" class=\"col_heading level0 col3\" >song</th>\n",
       "      <th id=\"T_2d258_level0_col4\" class=\"col_heading level0 col4\" >danceability</th>\n",
       "      <th id=\"T_2d258_level0_col5\" class=\"col_heading level0 col5\" >energy</th>\n",
       "      <th id=\"T_2d258_level0_col6\" class=\"col_heading level0 col6\" >speechiness</th>\n",
       "      <th id=\"T_2d258_level0_col7\" class=\"col_heading level0 col7\" >acousticness</th>\n",
       "      <th id=\"T_2d258_level0_col8\" class=\"col_heading level0 col8\" >liveness</th>\n",
       "      <th id=\"T_2d258_level0_col9\" class=\"col_heading level0 col9\" >valence</th>\n",
       "      <th id=\"T_2d258_level0_col10\" class=\"col_heading level0 col10\" >duration_ms</th>\n",
       "    </tr>\n",
       "  </thead>\n",
       "  <tbody>\n",
       "    <tr>\n",
       "      <th id=\"T_2d258_level0_row0\" class=\"row_heading level0 row0\" >69</th>\n",
       "      <td id=\"T_2d258_row0_col0\" class=\"data row0 col0\" >70</td>\n",
       "      <td id=\"T_2d258_row0_col1\" class=\"data row0 col1\" >1965</td>\n",
       "      <td id=\"T_2d258_row0_col2\" class=\"data row0 col2\" >Rubber Soul</td>\n",
       "      <td id=\"T_2d258_row0_col3\" class=\"data row0 col3\" >drive my car</td>\n",
       "      <td id=\"T_2d258_row0_col4\" class=\"data row0 col4\" >0.754000</td>\n",
       "      <td id=\"T_2d258_row0_col5\" class=\"data row0 col5\" >0.571000</td>\n",
       "      <td id=\"T_2d258_row0_col6\" class=\"data row0 col6\" >0.042100</td>\n",
       "      <td id=\"T_2d258_row0_col7\" class=\"data row0 col7\" >0.017300</td>\n",
       "      <td id=\"T_2d258_row0_col8\" class=\"data row0 col8\" >0.300000</td>\n",
       "      <td id=\"T_2d258_row0_col9\" class=\"data row0 col9\" >0.820000</td>\n",
       "      <td id=\"T_2d258_row0_col10\" class=\"data row0 col10\" >148893</td>\n",
       "    </tr>\n",
       "    <tr>\n",
       "      <th id=\"T_2d258_level0_row1\" class=\"row_heading level0 row1\" >70</th>\n",
       "      <td id=\"T_2d258_row1_col0\" class=\"data row1 col0\" >71</td>\n",
       "      <td id=\"T_2d258_row1_col1\" class=\"data row1 col1\" >1965</td>\n",
       "      <td id=\"T_2d258_row1_col2\" class=\"data row1 col2\" >Rubber Soul</td>\n",
       "      <td id=\"T_2d258_row1_col3\" class=\"data row1 col3\" >norwegian wood</td>\n",
       "      <td id=\"T_2d258_row1_col4\" class=\"data row1 col4\" >0.425000</td>\n",
       "      <td id=\"T_2d258_row1_col5\" class=\"data row1 col5\" >0.369000</td>\n",
       "      <td id=\"T_2d258_row1_col6\" class=\"data row1 col6\" >0.037900</td>\n",
       "      <td id=\"T_2d258_row1_col7\" class=\"data row1 col7\" >0.183000</td>\n",
       "      <td id=\"T_2d258_row1_col8\" class=\"data row1 col8\" >0.112000</td>\n",
       "      <td id=\"T_2d258_row1_col9\" class=\"data row1 col9\" >0.650000</td>\n",
       "      <td id=\"T_2d258_row1_col10\" class=\"data row1 col10\" >124693</td>\n",
       "    </tr>\n",
       "    <tr>\n",
       "      <th id=\"T_2d258_level0_row2\" class=\"row_heading level0 row2\" >71</th>\n",
       "      <td id=\"T_2d258_row2_col0\" class=\"data row2 col0\" >72</td>\n",
       "      <td id=\"T_2d258_row2_col1\" class=\"data row2 col1\" >1965</td>\n",
       "      <td id=\"T_2d258_row2_col2\" class=\"data row2 col2\" >Rubber Soul</td>\n",
       "      <td id=\"T_2d258_row2_col3\" class=\"data row2 col3\" >you wont see me</td>\n",
       "      <td id=\"T_2d258_row2_col4\" class=\"data row2 col4\" >0.488000</td>\n",
       "      <td id=\"T_2d258_row2_col5\" class=\"data row2 col5\" >0.539000</td>\n",
       "      <td id=\"T_2d258_row2_col6\" class=\"data row2 col6\" >0.030400</td>\n",
       "      <td id=\"T_2d258_row2_col7\" class=\"data row2 col7\" >0.136000</td>\n",
       "      <td id=\"T_2d258_row2_col8\" class=\"data row2 col8\" >0.053800</td>\n",
       "      <td id=\"T_2d258_row2_col9\" class=\"data row2 col9\" >0.473000</td>\n",
       "      <td id=\"T_2d258_row2_col10\" class=\"data row2 col10\" >199960</td>\n",
       "    </tr>\n",
       "    <tr>\n",
       "      <th id=\"T_2d258_level0_row3\" class=\"row_heading level0 row3\" >72</th>\n",
       "      <td id=\"T_2d258_row3_col0\" class=\"data row3 col0\" >73</td>\n",
       "      <td id=\"T_2d258_row3_col1\" class=\"data row3 col1\" >1965</td>\n",
       "      <td id=\"T_2d258_row3_col2\" class=\"data row3 col2\" >Rubber Soul</td>\n",
       "      <td id=\"T_2d258_row3_col3\" class=\"data row3 col3\" >nowhere man</td>\n",
       "      <td id=\"T_2d258_row3_col4\" class=\"data row3 col4\" >0.534000</td>\n",
       "      <td id=\"T_2d258_row3_col5\" class=\"data row3 col5\" >0.624000</td>\n",
       "      <td id=\"T_2d258_row3_col6\" class=\"data row3 col6\" >0.046200</td>\n",
       "      <td id=\"T_2d258_row3_col7\" class=\"data row3 col7\" >0.007970</td>\n",
       "      <td id=\"T_2d258_row3_col8\" class=\"data row3 col8\" >0.128000</td>\n",
       "      <td id=\"T_2d258_row3_col9\" class=\"data row3 col9\" >0.687000</td>\n",
       "      <td id=\"T_2d258_row3_col10\" class=\"data row3 col10\" >163693</td>\n",
       "    </tr>\n",
       "    <tr>\n",
       "      <th id=\"T_2d258_level0_row4\" class=\"row_heading level0 row4\" >73</th>\n",
       "      <td id=\"T_2d258_row4_col0\" class=\"data row4 col0\" >74</td>\n",
       "      <td id=\"T_2d258_row4_col1\" class=\"data row4 col1\" >1965</td>\n",
       "      <td id=\"T_2d258_row4_col2\" class=\"data row4 col2\" >Rubber Soul</td>\n",
       "      <td id=\"T_2d258_row4_col3\" class=\"data row4 col3\" >think for yourself</td>\n",
       "      <td id=\"T_2d258_row4_col4\" class=\"data row4 col4\" >0.529000</td>\n",
       "      <td id=\"T_2d258_row4_col5\" class=\"data row4 col5\" >0.567000</td>\n",
       "      <td id=\"T_2d258_row4_col6\" class=\"data row4 col6\" >0.028200</td>\n",
       "      <td id=\"T_2d258_row4_col7\" class=\"data row4 col7\" >0.012400</td>\n",
       "      <td id=\"T_2d258_row4_col8\" class=\"data row4 col8\" >0.072900</td>\n",
       "      <td id=\"T_2d258_row4_col9\" class=\"data row4 col9\" >0.799000</td>\n",
       "      <td id=\"T_2d258_row4_col10\" class=\"data row4 col10\" >138520</td>\n",
       "    </tr>\n",
       "    <tr>\n",
       "      <th id=\"T_2d258_level0_row5\" class=\"row_heading level0 row5\" >74</th>\n",
       "      <td id=\"T_2d258_row5_col0\" class=\"data row5 col0\" >75</td>\n",
       "      <td id=\"T_2d258_row5_col1\" class=\"data row5 col1\" >1965</td>\n",
       "      <td id=\"T_2d258_row5_col2\" class=\"data row5 col2\" >Rubber Soul</td>\n",
       "      <td id=\"T_2d258_row5_col3\" class=\"data row5 col3\" >the word</td>\n",
       "      <td id=\"T_2d258_row5_col4\" class=\"data row5 col4\" >0.590000</td>\n",
       "      <td id=\"T_2d258_row5_col5\" class=\"data row5 col5\" >0.641000</td>\n",
       "      <td id=\"T_2d258_row5_col6\" class=\"data row5 col6\" >0.041600</td>\n",
       "      <td id=\"T_2d258_row5_col7\" class=\"data row5 col7\" >0.006820</td>\n",
       "      <td id=\"T_2d258_row5_col8\" class=\"data row5 col8\" >0.055300</td>\n",
       "      <td id=\"T_2d258_row5_col9\" class=\"data row5 col9\" >0.792000</td>\n",
       "      <td id=\"T_2d258_row5_col10\" class=\"data row5 col10\" >163107</td>\n",
       "    </tr>\n",
       "    <tr>\n",
       "      <th id=\"T_2d258_level0_row6\" class=\"row_heading level0 row6\" >75</th>\n",
       "      <td id=\"T_2d258_row6_col0\" class=\"data row6 col0\" >76</td>\n",
       "      <td id=\"T_2d258_row6_col1\" class=\"data row6 col1\" >1965</td>\n",
       "      <td id=\"T_2d258_row6_col2\" class=\"data row6 col2\" >Rubber Soul</td>\n",
       "      <td id=\"T_2d258_row6_col3\" class=\"data row6 col3\" >michelle</td>\n",
       "      <td id=\"T_2d258_row6_col4\" class=\"data row6 col4\" >0.578000</td>\n",
       "      <td id=\"T_2d258_row6_col5\" class=\"data row6 col5\" >0.290000</td>\n",
       "      <td id=\"T_2d258_row6_col6\" class=\"data row6 col6\" >0.034100</td>\n",
       "      <td id=\"T_2d258_row6_col7\" class=\"data row6 col7\" >0.652000</td>\n",
       "      <td id=\"T_2d258_row6_col8\" class=\"data row6 col8\" >0.105000</td>\n",
       "      <td id=\"T_2d258_row6_col9\" class=\"data row6 col9\" >0.666000</td>\n",
       "      <td id=\"T_2d258_row6_col10\" class=\"data row6 col10\" >162373</td>\n",
       "    </tr>\n",
       "    <tr>\n",
       "      <th id=\"T_2d258_level0_row7\" class=\"row_heading level0 row7\" >76</th>\n",
       "      <td id=\"T_2d258_row7_col0\" class=\"data row7 col0\" >77</td>\n",
       "      <td id=\"T_2d258_row7_col1\" class=\"data row7 col1\" >1965</td>\n",
       "      <td id=\"T_2d258_row7_col2\" class=\"data row7 col2\" >Rubber Soul</td>\n",
       "      <td id=\"T_2d258_row7_col3\" class=\"data row7 col3\" >what goes on</td>\n",
       "      <td id=\"T_2d258_row7_col4\" class=\"data row7 col4\" >0.670000</td>\n",
       "      <td id=\"T_2d258_row7_col5\" class=\"data row7 col5\" >0.776000</td>\n",
       "      <td id=\"T_2d258_row7_col6\" class=\"data row7 col6\" >0.074900</td>\n",
       "      <td id=\"T_2d258_row7_col7\" class=\"data row7 col7\" >0.016800</td>\n",
       "      <td id=\"T_2d258_row7_col8\" class=\"data row7 col8\" >0.073200</td>\n",
       "      <td id=\"T_2d258_row7_col9\" class=\"data row7 col9\" >0.765000</td>\n",
       "      <td id=\"T_2d258_row7_col10\" class=\"data row7 col10\" >168573</td>\n",
       "    </tr>\n",
       "    <tr>\n",
       "      <th id=\"T_2d258_level0_row8\" class=\"row_heading level0 row8\" >77</th>\n",
       "      <td id=\"T_2d258_row8_col0\" class=\"data row8 col0\" >78</td>\n",
       "      <td id=\"T_2d258_row8_col1\" class=\"data row8 col1\" >1965</td>\n",
       "      <td id=\"T_2d258_row8_col2\" class=\"data row8 col2\" >Rubber Soul</td>\n",
       "      <td id=\"T_2d258_row8_col3\" class=\"data row8 col3\" >girl</td>\n",
       "      <td id=\"T_2d258_row8_col4\" class=\"data row8 col4\" >0.699000</td>\n",
       "      <td id=\"T_2d258_row8_col5\" class=\"data row8 col5\" >0.294000</td>\n",
       "      <td id=\"T_2d258_row8_col6\" class=\"data row8 col6\" >0.029400</td>\n",
       "      <td id=\"T_2d258_row8_col7\" class=\"data row8 col7\" >0.587000</td>\n",
       "      <td id=\"T_2d258_row8_col8\" class=\"data row8 col8\" >0.117000</td>\n",
       "      <td id=\"T_2d258_row8_col9\" class=\"data row8 col9\" >0.893000</td>\n",
       "      <td id=\"T_2d258_row8_col10\" class=\"data row8 col10\" >151720</td>\n",
       "    </tr>\n",
       "    <tr>\n",
       "      <th id=\"T_2d258_level0_row9\" class=\"row_heading level0 row9\" >78</th>\n",
       "      <td id=\"T_2d258_row9_col0\" class=\"data row9 col0\" >79</td>\n",
       "      <td id=\"T_2d258_row9_col1\" class=\"data row9 col1\" >1965</td>\n",
       "      <td id=\"T_2d258_row9_col2\" class=\"data row9 col2\" >Rubber Soul</td>\n",
       "      <td id=\"T_2d258_row9_col3\" class=\"data row9 col3\" >im looking through you</td>\n",
       "      <td id=\"T_2d258_row9_col4\" class=\"data row9 col4\" >0.667000</td>\n",
       "      <td id=\"T_2d258_row9_col5\" class=\"data row9 col5\" >0.498000</td>\n",
       "      <td id=\"T_2d258_row9_col6\" class=\"data row9 col6\" >0.036400</td>\n",
       "      <td id=\"T_2d258_row9_col7\" class=\"data row9 col7\" >0.007720</td>\n",
       "      <td id=\"T_2d258_row9_col8\" class=\"data row9 col8\" >0.048100</td>\n",
       "      <td id=\"T_2d258_row9_col9\" class=\"data row9 col9\" >0.774000</td>\n",
       "      <td id=\"T_2d258_row9_col10\" class=\"data row9 col10\" >146387</td>\n",
       "    </tr>\n",
       "    <tr>\n",
       "      <th id=\"T_2d258_level0_row10\" class=\"row_heading level0 row10\" >79</th>\n",
       "      <td id=\"T_2d258_row10_col0\" class=\"data row10 col0\" >80</td>\n",
       "      <td id=\"T_2d258_row10_col1\" class=\"data row10 col1\" >1965</td>\n",
       "      <td id=\"T_2d258_row10_col2\" class=\"data row10 col2\" >Rubber Soul</td>\n",
       "      <td id=\"T_2d258_row10_col3\" class=\"data row10 col3\" >in my life</td>\n",
       "      <td id=\"T_2d258_row10_col4\" class=\"data row10 col4\" >0.688000</td>\n",
       "      <td id=\"T_2d258_row10_col5\" class=\"data row10 col5\" >0.435000</td>\n",
       "      <td id=\"T_2d258_row10_col6\" class=\"data row10 col6\" >0.032300</td>\n",
       "      <td id=\"T_2d258_row10_col7\" class=\"data row10 col7\" >0.449000</td>\n",
       "      <td id=\"T_2d258_row10_col8\" class=\"data row10 col8\" >0.113000</td>\n",
       "      <td id=\"T_2d258_row10_col9\" class=\"data row10 col9\" >0.435000</td>\n",
       "      <td id=\"T_2d258_row10_col10\" class=\"data row10 col10\" >146333</td>\n",
       "    </tr>\n",
       "    <tr>\n",
       "      <th id=\"T_2d258_level0_row11\" class=\"row_heading level0 row11\" >80</th>\n",
       "      <td id=\"T_2d258_row11_col0\" class=\"data row11 col0\" >81</td>\n",
       "      <td id=\"T_2d258_row11_col1\" class=\"data row11 col1\" >1965</td>\n",
       "      <td id=\"T_2d258_row11_col2\" class=\"data row11 col2\" >Rubber Soul</td>\n",
       "      <td id=\"T_2d258_row11_col3\" class=\"data row11 col3\" >wait</td>\n",
       "      <td id=\"T_2d258_row11_col4\" class=\"data row11 col4\" >0.552000</td>\n",
       "      <td id=\"T_2d258_row11_col5\" class=\"data row11 col5\" >0.487000</td>\n",
       "      <td id=\"T_2d258_row11_col6\" class=\"data row11 col6\" >0.040000</td>\n",
       "      <td id=\"T_2d258_row11_col7\" class=\"data row11 col7\" >0.017500</td>\n",
       "      <td id=\"T_2d258_row11_col8\" class=\"data row11 col8\" >0.105000</td>\n",
       "      <td id=\"T_2d258_row11_col9\" class=\"data row11 col9\" >0.657000</td>\n",
       "      <td id=\"T_2d258_row11_col10\" class=\"data row11 col10\" >134720</td>\n",
       "    </tr>\n",
       "    <tr>\n",
       "      <th id=\"T_2d258_level0_row12\" class=\"row_heading level0 row12\" >81</th>\n",
       "      <td id=\"T_2d258_row12_col0\" class=\"data row12 col0\" >82</td>\n",
       "      <td id=\"T_2d258_row12_col1\" class=\"data row12 col1\" >1965</td>\n",
       "      <td id=\"T_2d258_row12_col2\" class=\"data row12 col2\" >Rubber Soul</td>\n",
       "      <td id=\"T_2d258_row12_col3\" class=\"data row12 col3\" >if I needed someone</td>\n",
       "      <td id=\"T_2d258_row12_col4\" class=\"data row12 col4\" >0.492000</td>\n",
       "      <td id=\"T_2d258_row12_col5\" class=\"data row12 col5\" >0.755000</td>\n",
       "      <td id=\"T_2d258_row12_col6\" class=\"data row12 col6\" >0.033100</td>\n",
       "      <td id=\"T_2d258_row12_col7\" class=\"data row12 col7\" >0.007480</td>\n",
       "      <td id=\"T_2d258_row12_col8\" class=\"data row12 col8\" >0.102000</td>\n",
       "      <td id=\"T_2d258_row12_col9\" class=\"data row12 col9\" >0.796000</td>\n",
       "      <td id=\"T_2d258_row12_col10\" class=\"data row12 col10\" >142267</td>\n",
       "    </tr>\n",
       "    <tr>\n",
       "      <th id=\"T_2d258_level0_row13\" class=\"row_heading level0 row13\" >82</th>\n",
       "      <td id=\"T_2d258_row13_col0\" class=\"data row13 col0\" >83</td>\n",
       "      <td id=\"T_2d258_row13_col1\" class=\"data row13 col1\" >1965</td>\n",
       "      <td id=\"T_2d258_row13_col2\" class=\"data row13 col2\" >Rubber Soul</td>\n",
       "      <td id=\"T_2d258_row13_col3\" class=\"data row13 col3\" >run for your life</td>\n",
       "      <td id=\"T_2d258_row13_col4\" class=\"data row13 col4\" >0.563000</td>\n",
       "      <td id=\"T_2d258_row13_col5\" class=\"data row13 col5\" >0.705000</td>\n",
       "      <td id=\"T_2d258_row13_col6\" class=\"data row13 col6\" >0.103000</td>\n",
       "      <td id=\"T_2d258_row13_col7\" class=\"data row13 col7\" >0.010300</td>\n",
       "      <td id=\"T_2d258_row13_col8\" class=\"data row13 col8\" >0.055200</td>\n",
       "      <td id=\"T_2d258_row13_col9\" class=\"data row13 col9\" >0.822000</td>\n",
       "      <td id=\"T_2d258_row13_col10\" class=\"data row13 col10\" >141093</td>\n",
       "    </tr>\n",
       "  </tbody>\n",
       "</table>\n"
      ],
      "text/plain": [
       "<pandas.io.formats.style.Styler at 0x179eaeb00>"
      ]
     },
     "execution_count": 101,
     "metadata": {},
     "output_type": "execute_result"
    }
   ],
   "source": [
    "# filtering full dataset for just this album\n",
    "rubber_soul = beatles_spotify[beatles_spotify['album'] == 'Rubber Soul']\n",
    "# create table and caption\n",
    "rubber_soul.style.set_caption(\"Table 2: Rubber Soul Audio Features\").set_table_styles([{\n",
    "    'selector': 'caption',\n",
    "    'props': [\n",
    "        ('color', 'black'),\n",
    "        ('font-size', '18px')\n",
    "    ]\n",
    "}])"
   ]
  },
  {
   "cell_type": "markdown",
   "id": "64e12cb1-7d82-46a3-ab4b-9028edea175e",
   "metadata": {},
   "source": [
    "#### A Plotly Scatterplot for Rubber Soul"
   ]
  },
  {
   "cell_type": "code",
   "execution_count": 102,
   "id": "a818f9d8-c876-4bec-914b-f97f1f7c1f43",
   "metadata": {
    "execution": {
     "iopub.execute_input": "2024-07-01T20:17:53.379862Z",
     "iopub.status.busy": "2024-07-01T20:17:53.379052Z",
     "iopub.status.idle": "2024-07-01T20:17:53.418698Z",
     "shell.execute_reply": "2024-07-01T20:17:53.418331Z",
     "shell.execute_reply.started": "2024-07-01T20:17:53.379808Z"
    }
   },
   "outputs": [
    {
     "data": {
      "application/vnd.plotly.v1+json": {
       "config": {
        "plotlyServerURL": "https://plot.ly"
       },
       "data": [
        {
         "hovertemplate": "variable=danceability<br>song=%{x}<br>value=%{y}<extra></extra>",
         "legendgroup": "danceability",
         "marker": {
          "color": "rgb(102, 197, 204)",
          "symbol": "circle"
         },
         "mode": "markers",
         "name": "danceability",
         "orientation": "v",
         "showlegend": true,
         "type": "scatter",
         "x": [
          "drive my car",
          "norwegian wood",
          "you wont see me",
          "nowhere man",
          "think for yourself",
          "the word",
          "michelle",
          "what goes on",
          "girl",
          "im looking through you",
          "in my life",
          "wait",
          "if I needed someone",
          "run for your life"
         ],
         "xaxis": "x",
         "y": [
          0.754,
          0.425,
          0.488,
          0.534,
          0.529,
          0.59,
          0.578,
          0.67,
          0.699,
          0.667,
          0.688,
          0.552,
          0.492,
          0.563
         ],
         "yaxis": "y"
        },
        {
         "hovertemplate": "variable=acousticness<br>song=%{x}<br>value=%{y}<extra></extra>",
         "legendgroup": "acousticness",
         "marker": {
          "color": "rgb(246, 207, 113)",
          "symbol": "circle"
         },
         "mode": "markers",
         "name": "acousticness",
         "orientation": "v",
         "showlegend": true,
         "type": "scatter",
         "x": [
          "drive my car",
          "norwegian wood",
          "you wont see me",
          "nowhere man",
          "think for yourself",
          "the word",
          "michelle",
          "what goes on",
          "girl",
          "im looking through you",
          "in my life",
          "wait",
          "if I needed someone",
          "run for your life"
         ],
         "xaxis": "x",
         "y": [
          0.0173,
          0.183,
          0.136,
          0.00797,
          0.0124,
          0.00682,
          0.652,
          0.0168,
          0.587,
          0.00772,
          0.449,
          0.0175,
          0.00748,
          0.0103
         ],
         "yaxis": "y"
        },
        {
         "hovertemplate": "variable=energy<br>song=%{x}<br>value=%{y}<extra></extra>",
         "legendgroup": "energy",
         "marker": {
          "color": "rgb(248, 156, 116)",
          "symbol": "circle"
         },
         "mode": "markers",
         "name": "energy",
         "orientation": "v",
         "showlegend": true,
         "type": "scatter",
         "x": [
          "drive my car",
          "norwegian wood",
          "you wont see me",
          "nowhere man",
          "think for yourself",
          "the word",
          "michelle",
          "what goes on",
          "girl",
          "im looking through you",
          "in my life",
          "wait",
          "if I needed someone",
          "run for your life"
         ],
         "xaxis": "x",
         "y": [
          0.571,
          0.369,
          0.539,
          0.624,
          0.567,
          0.641,
          0.29,
          0.776,
          0.294,
          0.498,
          0.435,
          0.487,
          0.755,
          0.705
         ],
         "yaxis": "y"
        }
       ],
       "layout": {
        "autosize": true,
        "legend": {
         "title": {
          "text": "variable"
         },
         "tracegroupgap": 0
        },
        "margin": {
         "t": 60
        },
        "template": {
         "data": {
          "bar": [
           {
            "error_x": {
             "color": "#2a3f5f"
            },
            "error_y": {
             "color": "#2a3f5f"
            },
            "marker": {
             "line": {
              "color": "#E5ECF6",
              "width": 0.5
             },
             "pattern": {
              "fillmode": "overlay",
              "size": 10,
              "solidity": 0.2
             }
            },
            "type": "bar"
           }
          ],
          "barpolar": [
           {
            "marker": {
             "line": {
              "color": "#E5ECF6",
              "width": 0.5
             },
             "pattern": {
              "fillmode": "overlay",
              "size": 10,
              "solidity": 0.2
             }
            },
            "type": "barpolar"
           }
          ],
          "carpet": [
           {
            "aaxis": {
             "endlinecolor": "#2a3f5f",
             "gridcolor": "white",
             "linecolor": "white",
             "minorgridcolor": "white",
             "startlinecolor": "#2a3f5f"
            },
            "baxis": {
             "endlinecolor": "#2a3f5f",
             "gridcolor": "white",
             "linecolor": "white",
             "minorgridcolor": "white",
             "startlinecolor": "#2a3f5f"
            },
            "type": "carpet"
           }
          ],
          "choropleth": [
           {
            "colorbar": {
             "outlinewidth": 0,
             "ticks": ""
            },
            "type": "choropleth"
           }
          ],
          "contour": [
           {
            "colorbar": {
             "outlinewidth": 0,
             "ticks": ""
            },
            "colorscale": [
             [
              0,
              "#0d0887"
             ],
             [
              0.1111111111111111,
              "#46039f"
             ],
             [
              0.2222222222222222,
              "#7201a8"
             ],
             [
              0.3333333333333333,
              "#9c179e"
             ],
             [
              0.4444444444444444,
              "#bd3786"
             ],
             [
              0.5555555555555556,
              "#d8576b"
             ],
             [
              0.6666666666666666,
              "#ed7953"
             ],
             [
              0.7777777777777778,
              "#fb9f3a"
             ],
             [
              0.8888888888888888,
              "#fdca26"
             ],
             [
              1,
              "#f0f921"
             ]
            ],
            "type": "contour"
           }
          ],
          "contourcarpet": [
           {
            "colorbar": {
             "outlinewidth": 0,
             "ticks": ""
            },
            "type": "contourcarpet"
           }
          ],
          "heatmap": [
           {
            "colorbar": {
             "outlinewidth": 0,
             "ticks": ""
            },
            "colorscale": [
             [
              0,
              "#0d0887"
             ],
             [
              0.1111111111111111,
              "#46039f"
             ],
             [
              0.2222222222222222,
              "#7201a8"
             ],
             [
              0.3333333333333333,
              "#9c179e"
             ],
             [
              0.4444444444444444,
              "#bd3786"
             ],
             [
              0.5555555555555556,
              "#d8576b"
             ],
             [
              0.6666666666666666,
              "#ed7953"
             ],
             [
              0.7777777777777778,
              "#fb9f3a"
             ],
             [
              0.8888888888888888,
              "#fdca26"
             ],
             [
              1,
              "#f0f921"
             ]
            ],
            "type": "heatmap"
           }
          ],
          "heatmapgl": [
           {
            "colorbar": {
             "outlinewidth": 0,
             "ticks": ""
            },
            "colorscale": [
             [
              0,
              "#0d0887"
             ],
             [
              0.1111111111111111,
              "#46039f"
             ],
             [
              0.2222222222222222,
              "#7201a8"
             ],
             [
              0.3333333333333333,
              "#9c179e"
             ],
             [
              0.4444444444444444,
              "#bd3786"
             ],
             [
              0.5555555555555556,
              "#d8576b"
             ],
             [
              0.6666666666666666,
              "#ed7953"
             ],
             [
              0.7777777777777778,
              "#fb9f3a"
             ],
             [
              0.8888888888888888,
              "#fdca26"
             ],
             [
              1,
              "#f0f921"
             ]
            ],
            "type": "heatmapgl"
           }
          ],
          "histogram": [
           {
            "marker": {
             "pattern": {
              "fillmode": "overlay",
              "size": 10,
              "solidity": 0.2
             }
            },
            "type": "histogram"
           }
          ],
          "histogram2d": [
           {
            "colorbar": {
             "outlinewidth": 0,
             "ticks": ""
            },
            "colorscale": [
             [
              0,
              "#0d0887"
             ],
             [
              0.1111111111111111,
              "#46039f"
             ],
             [
              0.2222222222222222,
              "#7201a8"
             ],
             [
              0.3333333333333333,
              "#9c179e"
             ],
             [
              0.4444444444444444,
              "#bd3786"
             ],
             [
              0.5555555555555556,
              "#d8576b"
             ],
             [
              0.6666666666666666,
              "#ed7953"
             ],
             [
              0.7777777777777778,
              "#fb9f3a"
             ],
             [
              0.8888888888888888,
              "#fdca26"
             ],
             [
              1,
              "#f0f921"
             ]
            ],
            "type": "histogram2d"
           }
          ],
          "histogram2dcontour": [
           {
            "colorbar": {
             "outlinewidth": 0,
             "ticks": ""
            },
            "colorscale": [
             [
              0,
              "#0d0887"
             ],
             [
              0.1111111111111111,
              "#46039f"
             ],
             [
              0.2222222222222222,
              "#7201a8"
             ],
             [
              0.3333333333333333,
              "#9c179e"
             ],
             [
              0.4444444444444444,
              "#bd3786"
             ],
             [
              0.5555555555555556,
              "#d8576b"
             ],
             [
              0.6666666666666666,
              "#ed7953"
             ],
             [
              0.7777777777777778,
              "#fb9f3a"
             ],
             [
              0.8888888888888888,
              "#fdca26"
             ],
             [
              1,
              "#f0f921"
             ]
            ],
            "type": "histogram2dcontour"
           }
          ],
          "mesh3d": [
           {
            "colorbar": {
             "outlinewidth": 0,
             "ticks": ""
            },
            "type": "mesh3d"
           }
          ],
          "parcoords": [
           {
            "line": {
             "colorbar": {
              "outlinewidth": 0,
              "ticks": ""
             }
            },
            "type": "parcoords"
           }
          ],
          "pie": [
           {
            "automargin": true,
            "type": "pie"
           }
          ],
          "scatter": [
           {
            "fillpattern": {
             "fillmode": "overlay",
             "size": 10,
             "solidity": 0.2
            },
            "type": "scatter"
           }
          ],
          "scatter3d": [
           {
            "line": {
             "colorbar": {
              "outlinewidth": 0,
              "ticks": ""
             }
            },
            "marker": {
             "colorbar": {
              "outlinewidth": 0,
              "ticks": ""
             }
            },
            "type": "scatter3d"
           }
          ],
          "scattercarpet": [
           {
            "marker": {
             "colorbar": {
              "outlinewidth": 0,
              "ticks": ""
             }
            },
            "type": "scattercarpet"
           }
          ],
          "scattergeo": [
           {
            "marker": {
             "colorbar": {
              "outlinewidth": 0,
              "ticks": ""
             }
            },
            "type": "scattergeo"
           }
          ],
          "scattergl": [
           {
            "marker": {
             "colorbar": {
              "outlinewidth": 0,
              "ticks": ""
             }
            },
            "type": "scattergl"
           }
          ],
          "scattermapbox": [
           {
            "marker": {
             "colorbar": {
              "outlinewidth": 0,
              "ticks": ""
             }
            },
            "type": "scattermapbox"
           }
          ],
          "scatterpolar": [
           {
            "marker": {
             "colorbar": {
              "outlinewidth": 0,
              "ticks": ""
             }
            },
            "type": "scatterpolar"
           }
          ],
          "scatterpolargl": [
           {
            "marker": {
             "colorbar": {
              "outlinewidth": 0,
              "ticks": ""
             }
            },
            "type": "scatterpolargl"
           }
          ],
          "scatterternary": [
           {
            "marker": {
             "colorbar": {
              "outlinewidth": 0,
              "ticks": ""
             }
            },
            "type": "scatterternary"
           }
          ],
          "surface": [
           {
            "colorbar": {
             "outlinewidth": 0,
             "ticks": ""
            },
            "colorscale": [
             [
              0,
              "#0d0887"
             ],
             [
              0.1111111111111111,
              "#46039f"
             ],
             [
              0.2222222222222222,
              "#7201a8"
             ],
             [
              0.3333333333333333,
              "#9c179e"
             ],
             [
              0.4444444444444444,
              "#bd3786"
             ],
             [
              0.5555555555555556,
              "#d8576b"
             ],
             [
              0.6666666666666666,
              "#ed7953"
             ],
             [
              0.7777777777777778,
              "#fb9f3a"
             ],
             [
              0.8888888888888888,
              "#fdca26"
             ],
             [
              1,
              "#f0f921"
             ]
            ],
            "type": "surface"
           }
          ],
          "table": [
           {
            "cells": {
             "fill": {
              "color": "#EBF0F8"
             },
             "line": {
              "color": "white"
             }
            },
            "header": {
             "fill": {
              "color": "#C8D4E3"
             },
             "line": {
              "color": "white"
             }
            },
            "type": "table"
           }
          ]
         },
         "layout": {
          "annotationdefaults": {
           "arrowcolor": "#2a3f5f",
           "arrowhead": 0,
           "arrowwidth": 1
          },
          "autotypenumbers": "strict",
          "coloraxis": {
           "colorbar": {
            "outlinewidth": 0,
            "ticks": ""
           }
          },
          "colorscale": {
           "diverging": [
            [
             0,
             "#8e0152"
            ],
            [
             0.1,
             "#c51b7d"
            ],
            [
             0.2,
             "#de77ae"
            ],
            [
             0.3,
             "#f1b6da"
            ],
            [
             0.4,
             "#fde0ef"
            ],
            [
             0.5,
             "#f7f7f7"
            ],
            [
             0.6,
             "#e6f5d0"
            ],
            [
             0.7,
             "#b8e186"
            ],
            [
             0.8,
             "#7fbc41"
            ],
            [
             0.9,
             "#4d9221"
            ],
            [
             1,
             "#276419"
            ]
           ],
           "sequential": [
            [
             0,
             "#0d0887"
            ],
            [
             0.1111111111111111,
             "#46039f"
            ],
            [
             0.2222222222222222,
             "#7201a8"
            ],
            [
             0.3333333333333333,
             "#9c179e"
            ],
            [
             0.4444444444444444,
             "#bd3786"
            ],
            [
             0.5555555555555556,
             "#d8576b"
            ],
            [
             0.6666666666666666,
             "#ed7953"
            ],
            [
             0.7777777777777778,
             "#fb9f3a"
            ],
            [
             0.8888888888888888,
             "#fdca26"
            ],
            [
             1,
             "#f0f921"
            ]
           ],
           "sequentialminus": [
            [
             0,
             "#0d0887"
            ],
            [
             0.1111111111111111,
             "#46039f"
            ],
            [
             0.2222222222222222,
             "#7201a8"
            ],
            [
             0.3333333333333333,
             "#9c179e"
            ],
            [
             0.4444444444444444,
             "#bd3786"
            ],
            [
             0.5555555555555556,
             "#d8576b"
            ],
            [
             0.6666666666666666,
             "#ed7953"
            ],
            [
             0.7777777777777778,
             "#fb9f3a"
            ],
            [
             0.8888888888888888,
             "#fdca26"
            ],
            [
             1,
             "#f0f921"
            ]
           ]
          },
          "colorway": [
           "#636efa",
           "#EF553B",
           "#00cc96",
           "#ab63fa",
           "#FFA15A",
           "#19d3f3",
           "#FF6692",
           "#B6E880",
           "#FF97FF",
           "#FECB52"
          ],
          "font": {
           "color": "#2a3f5f"
          },
          "geo": {
           "bgcolor": "white",
           "lakecolor": "white",
           "landcolor": "#E5ECF6",
           "showlakes": true,
           "showland": true,
           "subunitcolor": "white"
          },
          "hoverlabel": {
           "align": "left"
          },
          "hovermode": "closest",
          "mapbox": {
           "style": "light"
          },
          "paper_bgcolor": "white",
          "plot_bgcolor": "#E5ECF6",
          "polar": {
           "angularaxis": {
            "gridcolor": "white",
            "linecolor": "white",
            "ticks": ""
           },
           "bgcolor": "#E5ECF6",
           "radialaxis": {
            "gridcolor": "white",
            "linecolor": "white",
            "ticks": ""
           }
          },
          "scene": {
           "xaxis": {
            "backgroundcolor": "#E5ECF6",
            "gridcolor": "white",
            "gridwidth": 2,
            "linecolor": "white",
            "showbackground": true,
            "ticks": "",
            "zerolinecolor": "white"
           },
           "yaxis": {
            "backgroundcolor": "#E5ECF6",
            "gridcolor": "white",
            "gridwidth": 2,
            "linecolor": "white",
            "showbackground": true,
            "ticks": "",
            "zerolinecolor": "white"
           },
           "zaxis": {
            "backgroundcolor": "#E5ECF6",
            "gridcolor": "white",
            "gridwidth": 2,
            "linecolor": "white",
            "showbackground": true,
            "ticks": "",
            "zerolinecolor": "white"
           }
          },
          "shapedefaults": {
           "line": {
            "color": "#2a3f5f"
           }
          },
          "ternary": {
           "aaxis": {
            "gridcolor": "white",
            "linecolor": "white",
            "ticks": ""
           },
           "baxis": {
            "gridcolor": "white",
            "linecolor": "white",
            "ticks": ""
           },
           "bgcolor": "#E5ECF6",
           "caxis": {
            "gridcolor": "white",
            "linecolor": "white",
            "ticks": ""
           }
          },
          "title": {
           "x": 0.05
          },
          "xaxis": {
           "automargin": true,
           "gridcolor": "white",
           "linecolor": "white",
           "ticks": "",
           "title": {
            "standoff": 15
           },
           "zerolinecolor": "white",
           "zerolinewidth": 2
          },
          "yaxis": {
           "automargin": true,
           "gridcolor": "white",
           "linecolor": "white",
           "ticks": "",
           "title": {
            "standoff": 15
           },
           "zerolinecolor": "white",
           "zerolinewidth": 2
          }
         }
        },
        "title": {
         "text": "Figure 2: Scatter Plot of Rubber Soul Songs"
        },
        "xaxis": {
         "anchor": "y",
         "autorange": true,
         "domain": [
          0,
          1
         ],
         "range": [
          -0.8754951895868704,
          13.87549518958687
         ],
         "title": {
          "text": "song"
         },
         "type": "category"
        },
        "yaxis": {
         "anchor": "x",
         "autorange": true,
         "domain": [
          0,
          1
         ],
         "range": [
          -0.06898669762641899,
          0.851806697626419
         ],
         "title": {
          "text": "value"
         },
         "type": "linear"
        }
       }
      },
      "image/png": "[encoded data removed]",
      "text/html": [
       "<div>                            <div id=\"09d1f87b-bdd7-4ea1-b7d5-d96cc900250f\" class=\"plotly-graph-div\" style=\"height:525px; width:100%;\"></div>            <script type=\"text/javascript\">                require([\"plotly\"], function(Plotly) {                    window.PLOTLYENV=window.PLOTLYENV || {};                                    if (document.getElementById(\"09d1f87b-bdd7-4ea1-b7d5-d96cc900250f\")) {                    Plotly.newPlot(                        \"09d1f87b-bdd7-4ea1-b7d5-d96cc900250f\",                        [{\"hovertemplate\":\"variable=danceability\\u003cbr\\u003esong=%{x}\\u003cbr\\u003evalue=%{y}\\u003cextra\\u003e\\u003c\\u002fextra\\u003e\",\"legendgroup\":\"danceability\",\"marker\":{\"color\":\"rgb(102, 197, 204)\",\"symbol\":\"circle\"},\"mode\":\"markers\",\"name\":\"danceability\",\"orientation\":\"v\",\"showlegend\":true,\"x\":[\"drive my car\",\"norwegian wood\",\"you wont see me\",\"nowhere man\",\"think for yourself\",\"the word\",\"michelle\",\"what goes on\",\"girl\",\"im looking through you\",\"in my life\",\"wait\",\"if I needed someone\",\"run for your life\"],\"xaxis\":\"x\",\"y\":[0.754,0.425,0.488,0.534,0.529,0.59,0.578,0.67,0.699,0.667,0.688,0.552,0.492,0.563],\"yaxis\":\"y\",\"type\":\"scatter\"},{\"hovertemplate\":\"variable=acousticness\\u003cbr\\u003esong=%{x}\\u003cbr\\u003evalue=%{y}\\u003cextra\\u003e\\u003c\\u002fextra\\u003e\",\"legendgroup\":\"acousticness\",\"marker\":{\"color\":\"rgb(246, 207, 113)\",\"symbol\":\"circle\"},\"mode\":\"markers\",\"name\":\"acousticness\",\"orientation\":\"v\",\"showlegend\":true,\"x\":[\"drive my car\",\"norwegian wood\",\"you wont see me\",\"nowhere man\",\"think for yourself\",\"the word\",\"michelle\",\"what goes on\",\"girl\",\"im looking through you\",\"in my life\",\"wait\",\"if I needed someone\",\"run for your life\"],\"xaxis\":\"x\",\"y\":[0.0173,0.183,0.136,0.00797,0.0124,0.00682,0.652,0.0168,0.587,0.00772,0.449,0.0175,0.00748,0.0103],\"yaxis\":\"y\",\"type\":\"scatter\"},{\"hovertemplate\":\"variable=energy\\u003cbr\\u003esong=%{x}\\u003cbr\\u003evalue=%{y}\\u003cextra\\u003e\\u003c\\u002fextra\\u003e\",\"legendgroup\":\"energy\",\"marker\":{\"color\":\"rgb(248, 156, 116)\",\"symbol\":\"circle\"},\"mode\":\"markers\",\"name\":\"energy\",\"orientation\":\"v\",\"showlegend\":true,\"x\":[\"drive my car\",\"norwegian wood\",\"you wont see me\",\"nowhere man\",\"think for yourself\",\"the word\",\"michelle\",\"what goes on\",\"girl\",\"im looking through you\",\"in my life\",\"wait\",\"if I needed someone\",\"run for your life\"],\"xaxis\":\"x\",\"y\":[0.571,0.369,0.539,0.624,0.567,0.641,0.29,0.776,0.294,0.498,0.435,0.487,0.755,0.705],\"yaxis\":\"y\",\"type\":\"scatter\"}],                        {\"template\":{\"data\":{\"histogram2dcontour\":[{\"type\":\"histogram2dcontour\",\"colorbar\":{\"outlinewidth\":0,\"ticks\":\"\"},\"colorscale\":[[0.0,\"#0d0887\"],[0.1111111111111111,\"#46039f\"],[0.2222222222222222,\"#7201a8\"],[0.3333333333333333,\"#9c179e\"],[0.4444444444444444,\"#bd3786\"],[0.5555555555555556,\"#d8576b\"],[0.6666666666666666,\"#ed7953\"],[0.7777777777777778,\"#fb9f3a\"],[0.8888888888888888,\"#fdca26\"],[1.0,\"#f0f921\"]]}],\"choropleth\":[{\"type\":\"choropleth\",\"colorbar\":{\"outlinewidth\":0,\"ticks\":\"\"}}],\"histogram2d\":[{\"type\":\"histogram2d\",\"colorbar\":{\"outlinewidth\":0,\"ticks\":\"\"},\"colorscale\":[[0.0,\"#0d0887\"],[0.1111111111111111,\"#46039f\"],[0.2222222222222222,\"#7201a8\"],[0.3333333333333333,\"#9c179e\"],[0.4444444444444444,\"#bd3786\"],[0.5555555555555556,\"#d8576b\"],[0.6666666666666666,\"#ed7953\"],[0.7777777777777778,\"#fb9f3a\"],[0.8888888888888888,\"#fdca26\"],[1.0,\"#f0f921\"]]}],\"heatmap\":[{\"type\":\"heatmap\",\"colorbar\":{\"outlinewidth\":0,\"ticks\":\"\"},\"colorscale\":[[0.0,\"#0d0887\"],[0.1111111111111111,\"#46039f\"],[0.2222222222222222,\"#7201a8\"],[0.3333333333333333,\"#9c179e\"],[0.4444444444444444,\"#bd3786\"],[0.5555555555555556,\"#d8576b\"],[0.6666666666666666,\"#ed7953\"],[0.7777777777777778,\"#fb9f3a\"],[0.8888888888888888,\"#fdca26\"],[1.0,\"#f0f921\"]]}],\"heatmapgl\":[{\"type\":\"heatmapgl\",\"colorbar\":{\"outlinewidth\":0,\"ticks\":\"\"},\"colorscale\":[[0.0,\"#0d0887\"],[0.1111111111111111,\"#46039f\"],[0.2222222222222222,\"#7201a8\"],[0.3333333333333333,\"#9c179e\"],[0.4444444444444444,\"#bd3786\"],[0.5555555555555556,\"#d8576b\"],[0.6666666666666666,\"#ed7953\"],[0.7777777777777778,\"#fb9f3a\"],[0.8888888888888888,\"#fdca26\"],[1.0,\"#f0f921\"]]}],\"contourcarpet\":[{\"type\":\"contourcarpet\",\"colorbar\":{\"outlinewidth\":0,\"ticks\":\"\"}}],\"contour\":[{\"type\":\"contour\",\"colorbar\":{\"outlinewidth\":0,\"ticks\":\"\"},\"colorscale\":[[0.0,\"#0d0887\"],[0.1111111111111111,\"#46039f\"],[0.2222222222222222,\"#7201a8\"],[0.3333333333333333,\"#9c179e\"],[0.4444444444444444,\"#bd3786\"],[0.5555555555555556,\"#d8576b\"],[0.6666666666666666,\"#ed7953\"],[0.7777777777777778,\"#fb9f3a\"],[0.8888888888888888,\"#fdca26\"],[1.0,\"#f0f921\"]]}],\"surface\":[{\"type\":\"surface\",\"colorbar\":{\"outlinewidth\":0,\"ticks\":\"\"},\"colorscale\":[[0.0,\"#0d0887\"],[0.1111111111111111,\"#46039f\"],[0.2222222222222222,\"#7201a8\"],[0.3333333333333333,\"#9c179e\"],[0.4444444444444444,\"#bd3786\"],[0.5555555555555556,\"#d8576b\"],[0.6666666666666666,\"#ed7953\"],[0.7777777777777778,\"#fb9f3a\"],[0.8888888888888888,\"#fdca26\"],[1.0,\"#f0f921\"]]}],\"mesh3d\":[{\"type\":\"mesh3d\",\"colorbar\":{\"outlinewidth\":0,\"ticks\":\"\"}}],\"scatter\":[{\"fillpattern\":{\"fillmode\":\"overlay\",\"size\":10,\"solidity\":0.2},\"type\":\"scatter\"}],\"parcoords\":[{\"type\":\"parcoords\",\"line\":{\"colorbar\":{\"outlinewidth\":0,\"ticks\":\"\"}}}],\"scatterpolargl\":[{\"type\":\"scatterpolargl\",\"marker\":{\"colorbar\":{\"outlinewidth\":0,\"ticks\":\"\"}}}],\"bar\":[{\"error_x\":{\"color\":\"#2a3f5f\"},\"error_y\":{\"color\":\"#2a3f5f\"},\"marker\":{\"line\":{\"color\":\"#E5ECF6\",\"width\":0.5},\"pattern\":{\"fillmode\":\"overlay\",\"size\":10,\"solidity\":0.2}},\"type\":\"bar\"}],\"scattergeo\":[{\"type\":\"scattergeo\",\"marker\":{\"colorbar\":{\"outlinewidth\":0,\"ticks\":\"\"}}}],\"scatterpolar\":[{\"type\":\"scatterpolar\",\"marker\":{\"colorbar\":{\"outlinewidth\":0,\"ticks\":\"\"}}}],\"histogram\":[{\"marker\":{\"pattern\":{\"fillmode\":\"overlay\",\"size\":10,\"solidity\":0.2}},\"type\":\"histogram\"}],\"scattergl\":[{\"type\":\"scattergl\",\"marker\":{\"colorbar\":{\"outlinewidth\":0,\"ticks\":\"\"}}}],\"scatter3d\":[{\"type\":\"scatter3d\",\"line\":{\"colorbar\":{\"outlinewidth\":0,\"ticks\":\"\"}},\"marker\":{\"colorbar\":{\"outlinewidth\":0,\"ticks\":\"\"}}}],\"scattermapbox\":[{\"type\":\"scattermapbox\",\"marker\":{\"colorbar\":{\"outlinewidth\":0,\"ticks\":\"\"}}}],\"scatterternary\":[{\"type\":\"scatterternary\",\"marker\":{\"colorbar\":{\"outlinewidth\":0,\"ticks\":\"\"}}}],\"scattercarpet\":[{\"type\":\"scattercarpet\",\"marker\":{\"colorbar\":{\"outlinewidth\":0,\"ticks\":\"\"}}}],\"carpet\":[{\"aaxis\":{\"endlinecolor\":\"#2a3f5f\",\"gridcolor\":\"white\",\"linecolor\":\"white\",\"minorgridcolor\":\"white\",\"startlinecolor\":\"#2a3f5f\"},\"baxis\":{\"endlinecolor\":\"#2a3f5f\",\"gridcolor\":\"white\",\"linecolor\":\"white\",\"minorgridcolor\":\"white\",\"startlinecolor\":\"#2a3f5f\"},\"type\":\"carpet\"}],\"table\":[{\"cells\":{\"fill\":{\"color\":\"#EBF0F8\"},\"line\":{\"color\":\"white\"}},\"header\":{\"fill\":{\"color\":\"#C8D4E3\"},\"line\":{\"color\":\"white\"}},\"type\":\"table\"}],\"barpolar\":[{\"marker\":{\"line\":{\"color\":\"#E5ECF6\",\"width\":0.5},\"pattern\":{\"fillmode\":\"overlay\",\"size\":10,\"solidity\":0.2}},\"type\":\"barpolar\"}],\"pie\":[{\"automargin\":true,\"type\":\"pie\"}]},\"layout\":{\"autotypenumbers\":\"strict\",\"colorway\":[\"#636efa\",\"#EF553B\",\"#00cc96\",\"#ab63fa\",\"#FFA15A\",\"#19d3f3\",\"#FF6692\",\"#B6E880\",\"#FF97FF\",\"#FECB52\"],\"font\":{\"color\":\"#2a3f5f\"},\"hovermode\":\"closest\",\"hoverlabel\":{\"align\":\"left\"},\"paper_bgcolor\":\"white\",\"plot_bgcolor\":\"#E5ECF6\",\"polar\":{\"bgcolor\":\"#E5ECF6\",\"angularaxis\":{\"gridcolor\":\"white\",\"linecolor\":\"white\",\"ticks\":\"\"},\"radialaxis\":{\"gridcolor\":\"white\",\"linecolor\":\"white\",\"ticks\":\"\"}},\"ternary\":{\"bgcolor\":\"#E5ECF6\",\"aaxis\":{\"gridcolor\":\"white\",\"linecolor\":\"white\",\"ticks\":\"\"},\"baxis\":{\"gridcolor\":\"white\",\"linecolor\":\"white\",\"ticks\":\"\"},\"caxis\":{\"gridcolor\":\"white\",\"linecolor\":\"white\",\"ticks\":\"\"}},\"coloraxis\":{\"colorbar\":{\"outlinewidth\":0,\"ticks\":\"\"}},\"colorscale\":{\"sequential\":[[0.0,\"#0d0887\"],[0.1111111111111111,\"#46039f\"],[0.2222222222222222,\"#7201a8\"],[0.3333333333333333,\"#9c179e\"],[0.4444444444444444,\"#bd3786\"],[0.5555555555555556,\"#d8576b\"],[0.6666666666666666,\"#ed7953\"],[0.7777777777777778,\"#fb9f3a\"],[0.8888888888888888,\"#fdca26\"],[1.0,\"#f0f921\"]],\"sequentialminus\":[[0.0,\"#0d0887\"],[0.1111111111111111,\"#46039f\"],[0.2222222222222222,\"#7201a8\"],[0.3333333333333333,\"#9c179e\"],[0.4444444444444444,\"#bd3786\"],[0.5555555555555556,\"#d8576b\"],[0.6666666666666666,\"#ed7953\"],[0.7777777777777778,\"#fb9f3a\"],[0.8888888888888888,\"#fdca26\"],[1.0,\"#f0f921\"]],\"diverging\":[[0,\"#8e0152\"],[0.1,\"#c51b7d\"],[0.2,\"#de77ae\"],[0.3,\"#f1b6da\"],[0.4,\"#fde0ef\"],[0.5,\"#f7f7f7\"],[0.6,\"#e6f5d0\"],[0.7,\"#b8e186\"],[0.8,\"#7fbc41\"],[0.9,\"#4d9221\"],[1,\"#276419\"]]},\"xaxis\":{\"gridcolor\":\"white\",\"linecolor\":\"white\",\"ticks\":\"\",\"title\":{\"standoff\":15},\"zerolinecolor\":\"white\",\"automargin\":true,\"zerolinewidth\":2},\"yaxis\":{\"gridcolor\":\"white\",\"linecolor\":\"white\",\"ticks\":\"\",\"title\":{\"standoff\":15},\"zerolinecolor\":\"white\",\"automargin\":true,\"zerolinewidth\":2},\"scene\":{\"xaxis\":{\"backgroundcolor\":\"#E5ECF6\",\"gridcolor\":\"white\",\"linecolor\":\"white\",\"showbackground\":true,\"ticks\":\"\",\"zerolinecolor\":\"white\",\"gridwidth\":2},\"yaxis\":{\"backgroundcolor\":\"#E5ECF6\",\"gridcolor\":\"white\",\"linecolor\":\"white\",\"showbackground\":true,\"ticks\":\"\",\"zerolinecolor\":\"white\",\"gridwidth\":2},\"zaxis\":{\"backgroundcolor\":\"#E5ECF6\",\"gridcolor\":\"white\",\"linecolor\":\"white\",\"showbackground\":true,\"ticks\":\"\",\"zerolinecolor\":\"white\",\"gridwidth\":2}},\"shapedefaults\":{\"line\":{\"color\":\"#2a3f5f\"}},\"annotationdefaults\":{\"arrowcolor\":\"#2a3f5f\",\"arrowhead\":0,\"arrowwidth\":1},\"geo\":{\"bgcolor\":\"white\",\"landcolor\":\"#E5ECF6\",\"subunitcolor\":\"white\",\"showland\":true,\"showlakes\":true,\"lakecolor\":\"white\"},\"title\":{\"x\":0.05},\"mapbox\":{\"style\":\"light\"}}},\"xaxis\":{\"anchor\":\"y\",\"domain\":[0.0,1.0],\"title\":{\"text\":\"song\"}},\"yaxis\":{\"anchor\":\"x\",\"domain\":[0.0,1.0],\"title\":{\"text\":\"value\"}},\"legend\":{\"title\":{\"text\":\"variable\"},\"tracegroupgap\":0},\"margin\":{\"t\":60},\"title\":{\"text\":\"Figure 2: Scatter Plot of Rubber Soul Songs\"}},                        {\"responsive\": true}                    ).then(function(){\n",
       "                            \n",
       "var gd = document.getElementById('09d1f87b-bdd7-4ea1-b7d5-d96cc900250f');\n",
       "var x = new MutationObserver(function (mutations, observer) {{\n",
       "        var display = window.getComputedStyle(gd).display;\n",
       "        if (!display || display === 'none') {{\n",
       "            console.log([gd, 'removed!']);\n",
       "            Plotly.purge(gd);\n",
       "            observer.disconnect();\n",
       "        }}\n",
       "}});\n",
       "\n",
       "// Listen for the removal of the full notebook cells\n",
       "var notebookContainer = gd.closest('#notebook-container');\n",
       "if (notebookContainer) {{\n",
       "    x.observe(notebookContainer, {childList: true});\n",
       "}}\n",
       "\n",
       "// Listen for the clearing of the current output cell\n",
       "var outputEl = gd.closest('.output');\n",
       "if (outputEl) {{\n",
       "    x.observe(outputEl, {childList: true});\n",
       "}}\n",
       "\n",
       "                        })                };                });            </script>        </div>"
      ]
     },
     "metadata": {},
     "output_type": "display_data"
    }
   ],
   "source": [
    "fig = px.scatter(rubber_soul, \n",
    "                 x='song', \n",
    "                 y=['danceability', 'acousticness', 'energy'], \n",
    "                 color_discrete_sequence=px.colors.qualitative.Pastel)\n",
    "fig.update_layout(title_text=\"Figure 2: Scatter Plot of Rubber Soul Songs\")\n",
    "fig.show()"
   ]
  },
  {
   "cell_type": "markdown",
   "id": "45bca141-cbfa-4eb9-a589-53df0be22383",
   "metadata": {},
   "source": [
    "# 3. Interpretation\n",
    "\n",
    "I was both surprised by and curious to explore the results.  Based on the audio feature data I selected, *Rubber Soul* is clearly an outlier among the other album on account of the very wide gulf between the mean 'danceability and energy' on one hand and the 'acousticness' on the other.  Of course we cannot be completely how the Spotify assigns a single value to a track (much less the 'mean' scores that I derived from those individual pieces). But the *differential* is nevertheless striking.  What might it mean?\n",
    "\n",
    "A low score in 'acousticness' might be another way of saying that these pieces are *more* electric, or at least more characterized by enriched timbres of the sort one could produce in the studio.  And indeed this is one of the important trends that marks the Beatles' development as musicians during this critical phase of their careers as a *studio* band.\n",
    "\n",
    "So with this insight in mind, I decided to look more closely at the data for individual songs in *Rubber Soul* and test these against my own impressions of the music (and against what Everett said).  What is fascinating to me is that many of the songs that are characterized by Spotify as 'low' in acousticness still involve a good deal of very conventional instruments, voices, and even volume.  They are nevertheless filled with blended voices, and very diverse timbres (sitar, pseudo harpsichord, echo effects, and so on).  This is very interesting, and as Everett notes, reflects the increasing concern of the Beatles to use the studio itself as a kind of instrument, quite apart from the actual instruments and voices involved in the songs!\n",
    "\n"
   ]
  },
  {
   "cell_type": "markdown",
   "id": "fda4a416-2105-4153-9222-363bfd9362b7",
   "metadata": {},
   "source": [
    "# 4.  Bibliography\n",
    "\n",
    "Everett, Walter. 1999.  *The Beatles as Musicians: Revolver to The Anthology*.  Oxford and New York:  Oxford University Press.\n",
    "\n",
    "Seaver, Nick. 2022.  *Computing Taste:  Algorithms and the Makers of Music Recommendation*.  Chicago:  University of Chicago Press."
   ]
  },
  {
   "cell_type": "code",
   "execution_count": null,
   "id": "67225c64-aa65-4023-9b64-343bebdabb09",
   "metadata": {},
   "outputs": [],
   "source": []
  }
 ],
 "metadata": {
  "kernelspec": {
   "display_name": "Python 3 (ipykernel)",
   "language": "python",
   "name": "python3"
  },
  "language_info": {
   "codemirror_mode": {
    "name": "ipython",
    "version": 3
   },
   "file_extension": ".py",
   "mimetype": "text/x-python",
   "name": "python",
   "nbconvert_exporter": "python",
   "pygments_lexer": "ipython3",
   "version": "3.10.14"
  }
 },
 "nbformat": 4,
 "nbformat_minor": 5
}

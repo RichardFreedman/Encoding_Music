{
 "cells": [
  {
   "cell_type": "code",
   "execution_count": 9,
   "metadata": {},
   "outputs": [],
   "source": [
    "# Global Jukebox Lullaby Notebook"
   ]
  },
  {
   "cell_type": "code",
   "execution_count": 10,
   "metadata": {},
   "outputs": [],
   "source": [
    "import pandas as pd\n",
    "import plotly.express as px\n",
    "from itertools import combinations\n",
    "import numpy as np"
   ]
  },
  {
   "cell_type": "code",
   "execution_count": 11,
   "metadata": {},
   "outputs": [
    {
     "data": {
      "text/plain": [
       "{'line_1': 'Social Org Vocal',\n",
       " 'line_2': 'Social Org Voc/Orch',\n",
       " 'line_3': 'Social Org Orch',\n",
       " 'line_4': 'Musical Org Vocal',\n",
       " 'line_5': 'Tonal Blend Vocal',\n",
       " 'line_6': 'Rhythm Blend Vocal',\n",
       " 'line_7': 'Music Orch Org',\n",
       " 'line_8': 'Tonal Blend Orch',\n",
       " 'line_9': 'Rhythm Blend Orch',\n",
       " 'line_10': 'Text Repetition',\n",
       " 'line_11': 'Overall Voc Rhythm',\n",
       " 'line_12': \"Rhythm Rel'n Vocal\",\n",
       " 'line_13': 'Overall Orch Rhythm',\n",
       " 'line_14': \"Rythm Rel'n Orch\",\n",
       " 'line_15': 'Melodic Shape',\n",
       " 'line_16': 'Melodic Form',\n",
       " 'line_17': 'Phrase Length',\n",
       " 'line_18': 'No. Phrases',\n",
       " 'line_19': 'Pos Final Tone',\n",
       " 'line_20': 'Melodic Range',\n",
       " 'line_21': 'Interval Width',\n",
       " 'line_22': 'Polyphonic Type',\n",
       " 'line_23': 'Embellishment',\n",
       " 'line_24': 'Tempo',\n",
       " 'line_25': 'Volume',\n",
       " 'line_26': 'Vocal Rubato',\n",
       " 'line_27': 'Orch Rubato',\n",
       " 'line_28': 'Glissando',\n",
       " 'line_29': 'Melisma',\n",
       " 'line_30': 'Tremolo',\n",
       " 'line_31': 'Glottal',\n",
       " 'line_32': 'Vocal Register',\n",
       " 'line_33': 'Vocal Width',\n",
       " 'line_34': 'Nasality',\n",
       " 'line_35': 'Rasp',\n",
       " 'line_36': 'Accent',\n",
       " 'line_37': 'Enunciation'}"
      ]
     },
     "execution_count": 11,
     "metadata": {},
     "output_type": "execute_result"
    }
   ],
   "source": [
    "\n",
    "\n",
    "import pandas as pd\n",
    "import plotly.express as px\n",
    "from itertools import combinations\n",
    "import numpy as np\n",
    "\n",
    "# import jgb data\n",
    "# List of URLs to the data files\n",
    "data_files_list = [\n",
    "    'https://raw.githubusercontent.com/theglobaljukebox/cantometrics/main/raw/data.csv',\n",
    "    'https://raw.githubusercontent.com/theglobaljukebox/cantometrics/main/raw/societies.csv',\n",
    "    'https://raw.githubusercontent.com/theglobaljukebox/cantometrics/main/raw/songs.csv',\n",
    "    'https://raw.githubusercontent.com/theglobaljukebox/cantometrics/main/etc/codes.csv',\n",
    "    'https://raw.githubusercontent.com/theglobaljukebox/cantometrics/main/etc/variables.csv',\n",
    "    'https://raw.githubusercontent.com/theglobaljukebox/cantometrics/main/etc/raw_codes.csv'\n",
    "]\n",
    "\n",
    "# Short names for DataFrames\n",
    "short_names = ['canto', 'societies', 'songs', 'codes', 'lines_explained', 'raw_codes']\n",
    "\n",
    "# Initialize empty variables for each DataFrame\n",
    "canto = None\n",
    "societies = None\n",
    "songs = None\n",
    "codes = None\n",
    "lines_explained = None\n",
    "raw_codes = None\n",
    "\n",
    "# Loop through the list of URLs and short names\n",
    "for url, short_name in zip(data_files_list, short_names):\n",
    "    # Read the CSV file from the URL into a DataFrame\n",
    "    df = pd.read_csv(url)\n",
    "    \n",
    "    # Replace non-breaking spaces in column names with regular spaces\n",
    "    df.columns = df.columns.str.replace('\\xa0', ' ')\n",
    "    \n",
    "    # Iterate over each column to replace non-breaking spaces in cell values\n",
    "    for col in df.columns:\n",
    "        # Check if the column contains string values\n",
    "        if df[col].dtype == 'object':\n",
    "            df[col] = df[col].str.replace('\\xa0', ' ')\n",
    "    \n",
    "    # Assign the modified DataFrame to the corresponding variable\n",
    "    globals()[short_name] = df\n",
    "\n",
    "# lines explained dictionary of lines and short titles\n",
    "my_dict = pd.Series(lines_explained.short_title.values, index=lines_explained.id).to_dict()\n",
    "my_dict"
   ]
  },
  {
   "cell_type": "markdown",
   "metadata": {},
   "source": [
    "## Powers of 2 and Unpacking Canto"
   ]
  },
  {
   "cell_type": "code",
   "execution_count": 12,
   "metadata": {},
   "outputs": [
    {
     "data": {
      "text/html": [
       "<div>\n",
       "<style scoped>\n",
       "    .dataframe tbody tr th:only-of-type {\n",
       "        vertical-align: middle;\n",
       "    }\n",
       "\n",
       "    .dataframe tbody tr th {\n",
       "        vertical-align: top;\n",
       "    }\n",
       "\n",
       "    .dataframe thead th {\n",
       "        text-align: right;\n",
       "    }\n",
       "</style>\n",
       "<table border=\"1\" class=\"dataframe\">\n",
       "  <thead>\n",
       "    <tr style=\"text-align: right;\">\n",
       "      <th></th>\n",
       "      <th>song_id</th>\n",
       "      <th>Preferred_name</th>\n",
       "      <th>society_id</th>\n",
       "      <th>Social Org Vocal</th>\n",
       "      <th>Social Org Voc/Orch</th>\n",
       "      <th>Social Org Orch</th>\n",
       "      <th>Musical Org Vocal</th>\n",
       "      <th>Tonal Blend Vocal</th>\n",
       "      <th>Rhythm Blend Vocal</th>\n",
       "      <th>Music Orch Org</th>\n",
       "      <th>...</th>\n",
       "      <th>Glissando</th>\n",
       "      <th>Melisma</th>\n",
       "      <th>Tremolo</th>\n",
       "      <th>Glottal</th>\n",
       "      <th>Vocal Register</th>\n",
       "      <th>Vocal Width</th>\n",
       "      <th>Nasality</th>\n",
       "      <th>Rasp</th>\n",
       "      <th>Accent</th>\n",
       "      <th>Enunciation</th>\n",
       "    </tr>\n",
       "  </thead>\n",
       "  <tbody>\n",
       "    <tr>\n",
       "      <th>0</th>\n",
       "      <td>4241</td>\n",
       "      <td>'Are'are</td>\n",
       "      <td>10000</td>\n",
       "      <td>(6.0,)</td>\n",
       "      <td>(1.0,)</td>\n",
       "      <td>(1.0,)</td>\n",
       "      <td>(13.0,)</td>\n",
       "      <td>(10.0,)</td>\n",
       "      <td>(10.0,)</td>\n",
       "      <td>(1.0,)</td>\n",
       "      <td>...</td>\n",
       "      <td>(9.0,)</td>\n",
       "      <td>(7.0,)</td>\n",
       "      <td>(4.0,)</td>\n",
       "      <td>(13.0,)</td>\n",
       "      <td>(10.0,)</td>\n",
       "      <td>(10.0,)</td>\n",
       "      <td>(4.0,)</td>\n",
       "      <td>(7.0,)</td>\n",
       "      <td>(10.0,)</td>\n",
       "      <td>(7.0,)</td>\n",
       "    </tr>\n",
       "    <tr>\n",
       "      <th>1</th>\n",
       "      <td>4246</td>\n",
       "      <td>'Are'are</td>\n",
       "      <td>10000</td>\n",
       "      <td>(6.0,)</td>\n",
       "      <td>(12.0,)</td>\n",
       "      <td>(13.0,)</td>\n",
       "      <td>(7.0,)</td>\n",
       "      <td>(13.0,)</td>\n",
       "      <td>(13.0,)</td>\n",
       "      <td>(13.0,)</td>\n",
       "      <td>...</td>\n",
       "      <td>(13.0,)</td>\n",
       "      <td>(1.0,)</td>\n",
       "      <td>(13.0,)</td>\n",
       "      <td>(7.0,)</td>\n",
       "      <td>(10.0,)</td>\n",
       "      <td>(13.0,)</td>\n",
       "      <td>(4.0,)</td>\n",
       "      <td>(10.0,)</td>\n",
       "      <td>(10.0,)</td>\n",
       "      <td>(13.0,)</td>\n",
       "    </tr>\n",
       "    <tr>\n",
       "      <th>2</th>\n",
       "      <td>30075</td>\n",
       "      <td>'Are'are</td>\n",
       "      <td>10000</td>\n",
       "      <td>(13.0, 4.0)</td>\n",
       "      <td>(1.0,)</td>\n",
       "      <td>(1.0,)</td>\n",
       "      <td>(13.0,)</td>\n",
       "      <td>(13.0,)</td>\n",
       "      <td>(10.0,)</td>\n",
       "      <td>(1.0,)</td>\n",
       "      <td>...</td>\n",
       "      <td>(9.0,)</td>\n",
       "      <td>(1.0,)</td>\n",
       "      <td>(10.0,)</td>\n",
       "      <td>(13.0,)</td>\n",
       "      <td>(7.0, 4.0)</td>\n",
       "      <td>(10.0,)</td>\n",
       "      <td>(13.0,)</td>\n",
       "      <td>(13.0,)</td>\n",
       "      <td>(13.0,)</td>\n",
       "      <td>(13.0,)</td>\n",
       "    </tr>\n",
       "  </tbody>\n",
       "</table>\n",
       "<p>3 rows × 40 columns</p>\n",
       "</div>"
      ],
      "text/plain": [
       "   song_id Preferred_name  society_id Social Org Vocal Social Org Voc/Orch  \\\n",
       "0     4241       'Are'are       10000           (6.0,)              (1.0,)   \n",
       "1     4246       'Are'are       10000           (6.0,)             (12.0,)   \n",
       "2    30075       'Are'are       10000      (13.0, 4.0)              (1.0,)   \n",
       "\n",
       "  Social Org Orch Musical Org Vocal Tonal Blend Vocal Rhythm Blend Vocal  \\\n",
       "0          (1.0,)           (13.0,)           (10.0,)            (10.0,)   \n",
       "1         (13.0,)            (7.0,)           (13.0,)            (13.0,)   \n",
       "2          (1.0,)           (13.0,)           (13.0,)            (10.0,)   \n",
       "\n",
       "  Music Orch Org  ... Glissando Melisma  Tremolo  Glottal Vocal Register  \\\n",
       "0         (1.0,)  ...    (9.0,)  (7.0,)   (4.0,)  (13.0,)        (10.0,)   \n",
       "1        (13.0,)  ...   (13.0,)  (1.0,)  (13.0,)   (7.0,)        (10.0,)   \n",
       "2         (1.0,)  ...    (9.0,)  (1.0,)  (10.0,)  (13.0,)     (7.0, 4.0)   \n",
       "\n",
       "  Vocal Width Nasality     Rasp   Accent Enunciation  \n",
       "0     (10.0,)   (4.0,)   (7.0,)  (10.0,)      (7.0,)  \n",
       "1     (13.0,)   (4.0,)  (10.0,)  (10.0,)     (13.0,)  \n",
       "2     (10.0,)  (13.0,)  (13.0,)  (13.0,)     (13.0,)  \n",
       "\n",
       "[3 rows x 40 columns]"
      ]
     },
     "execution_count": 12,
     "metadata": {},
     "output_type": "execute_result"
    }
   ],
   "source": [
    "\n",
    "\n",
    "#  code to unpack powers of 2\n",
    "# 2 to the n for all n values from 1 to 13\n",
    "powers = [2**n for n in range(1, 14)] \n",
    "\n",
    "# make a list of all combinations of the previous, for 1, 2, and 3 numbers\n",
    "combo_list = list(combinations(powers, 1)) + list(combinations(powers, 2)) + list(combinations(powers, 3)) \n",
    "\n",
    "# a dictionary that maps the original sums to the combinations\n",
    "sums = [{\"sum\" : sum(t), \"full_tuple\": t} for t in combo_list]  \n",
    "\n",
    "# as a df\n",
    "sums_df = pd.DataFrame(sums) \n",
    "\n",
    "# clean up tuples and sort\n",
    "sums_df['sorted_original_values'] = sums_df.full_tuple.apply(lambda x: tuple(sorted([np.log2(value) for value in x], reverse=True))) \n",
    "sums_df.sort_values(by=\"sum\") \n",
    "\n",
    "#create a dictionary that maps the summed values to their original meanings:\n",
    "dictionary_of_value_sets = dict(zip(sums_df[\"sum\"], sums_df[\"sorted_original_values\"]))\n",
    "\n",
    "# create ictionary of lines and short title meanings\n",
    "short_title_dict = pd.Series(lines_explained.short_title.values, index=lines_explained.id).to_dict() \n",
    "\n",
    "# unpack the sums for all 'line' columns, using dict of value sets created above, using only the 'line' cols\n",
    "canto_transformed_features = canto.iloc[:, 3:].map(lambda x : dictionary_of_value_sets.get(x, 0)) \n",
    "\n",
    "# put the transformed columns back in place with the song names, etc\n",
    "canto_unpacked = pd.concat([canto.iloc[:, :3], canto_transformed_features], axis=\"columns\") \n",
    "\n",
    " # rename the columns with short_title dictionary\n",
    "canto_renamed = canto_unpacked.rename(columns=my_dict)\n",
    "canto_unpacked = canto_renamed\n",
    "canto_unpacked.head(3)\n"
   ]
  },
  {
   "cell_type": "markdown",
   "metadata": {},
   "source": [
    "## Select Song Data Columns"
   ]
  },
  {
   "cell_type": "code",
   "execution_count": 13,
   "metadata": {},
   "outputs": [
    {
     "data": {
      "text/html": [
       "<div>\n",
       "<style scoped>\n",
       "    .dataframe tbody tr th:only-of-type {\n",
       "        vertical-align: middle;\n",
       "    }\n",
       "\n",
       "    .dataframe tbody tr th {\n",
       "        vertical-align: top;\n",
       "    }\n",
       "\n",
       "    .dataframe thead th {\n",
       "        text-align: right;\n",
       "    }\n",
       "</style>\n",
       "<table border=\"1\" class=\"dataframe\">\n",
       "  <thead>\n",
       "    <tr style=\"text-align: right;\">\n",
       "      <th></th>\n",
       "      <th>song_id</th>\n",
       "      <th>Genre</th>\n",
       "      <th>Performers</th>\n",
       "      <th>Instruments</th>\n",
       "      <th>Vocalist_gender</th>\n",
       "      <th>Year</th>\n",
       "      <th>society_id</th>\n",
       "      <th>Region</th>\n",
       "      <th>Division</th>\n",
       "      <th>Subregion</th>\n",
       "      <th>Area</th>\n",
       "      <th>Local_latitude</th>\n",
       "      <th>Local_longitude</th>\n",
       "      <th>Preferred_name</th>\n",
       "      <th>Society_location</th>\n",
       "    </tr>\n",
       "  </thead>\n",
       "  <tbody>\n",
       "    <tr>\n",
       "      <th>0</th>\n",
       "      <td>30119</td>\n",
       "      <td>Responsorial Song; Call &amp; Response</td>\n",
       "      <td>Daudi Mutekete, male chorus, drum</td>\n",
       "      <td>Male Voice; Male Voices; Drum</td>\n",
       "      <td>Men</td>\n",
       "      <td>1950</td>\n",
       "      <td>10027</td>\n",
       "      <td>Africa</td>\n",
       "      <td>East Africa</td>\n",
       "      <td>Great Lakes Africa</td>\n",
       "      <td>Luhyaland, W Kenya</td>\n",
       "      <td>0.5</td>\n",
       "      <td>34.58</td>\n",
       "      <td>Abaluhya</td>\n",
       "      <td>Western Province, Kenya</td>\n",
       "    </tr>\n",
       "    <tr>\n",
       "      <th>1</th>\n",
       "      <td>30117</td>\n",
       "      <td>Responsorial Song; Call &amp; Response</td>\n",
       "      <td>Jeremiah Mukandal, Wanga musician</td>\n",
       "      <td>Male Voice</td>\n",
       "      <td>Men</td>\n",
       "      <td>1950</td>\n",
       "      <td>10027</td>\n",
       "      <td>Africa</td>\n",
       "      <td>East Africa</td>\n",
       "      <td>Great Lakes Africa</td>\n",
       "      <td>Luhyaland, W Kenya</td>\n",
       "      <td>0.5</td>\n",
       "      <td>34.58</td>\n",
       "      <td>Abaluhya</td>\n",
       "      <td>Western Province, Kenya</td>\n",
       "    </tr>\n",
       "    <tr>\n",
       "      <th>2</th>\n",
       "      <td>30115</td>\n",
       "      <td>Responsorial Song; Call &amp; Response</td>\n",
       "      <td>Salome Nolega, group of children</td>\n",
       "      <td>Female Voice; Children's Voices</td>\n",
       "      <td>Mixed children; Women</td>\n",
       "      <td>1950</td>\n",
       "      <td>10027</td>\n",
       "      <td>Africa</td>\n",
       "      <td>East Africa</td>\n",
       "      <td>Great Lakes Africa</td>\n",
       "      <td>Luhyaland, W Kenya</td>\n",
       "      <td>0.5</td>\n",
       "      <td>34.58</td>\n",
       "      <td>Abaluhya</td>\n",
       "      <td>Western Province, Kenya</td>\n",
       "    </tr>\n",
       "  </tbody>\n",
       "</table>\n",
       "</div>"
      ],
      "text/plain": [
       "  song_id                               Genre  \\\n",
       "0   30119  Responsorial Song; Call & Response   \n",
       "1   30117  Responsorial Song; Call & Response   \n",
       "2   30115  Responsorial Song; Call & Response   \n",
       "\n",
       "                          Performers                      Instruments  \\\n",
       "0  Daudi Mutekete, male chorus, drum    Male Voice; Male Voices; Drum   \n",
       "1  Jeremiah Mukandal, Wanga musician                       Male Voice   \n",
       "2   Salome Nolega, group of children  Female Voice; Children's Voices   \n",
       "\n",
       "         Vocalist_gender  Year  society_id  Region     Division  \\\n",
       "0                    Men  1950       10027  Africa  East Africa   \n",
       "1                    Men  1950       10027  Africa  East Africa   \n",
       "2  Mixed children; Women  1950       10027  Africa  East Africa   \n",
       "\n",
       "            Subregion                Area  Local_latitude  Local_longitude  \\\n",
       "0  Great Lakes Africa  Luhyaland, W Kenya             0.5            34.58   \n",
       "1  Great Lakes Africa  Luhyaland, W Kenya             0.5            34.58   \n",
       "2  Great Lakes Africa  Luhyaland, W Kenya             0.5            34.58   \n",
       "\n",
       "  Preferred_name         Society_location  \n",
       "0       Abaluhya  Western Province, Kenya  \n",
       "1       Abaluhya  Western Province, Kenya  \n",
       "2       Abaluhya  Western Province, Kenya  "
      ]
     },
     "execution_count": 13,
     "metadata": {},
     "output_type": "execute_result"
    }
   ],
   "source": [
    "\n",
    "# song metadata with selected columns\n",
    "\n",
    "selected_song_cols = ['song_id',\n",
    " 'Genre',\n",
    " 'Performers',\n",
    " 'Instruments',\n",
    " 'Vocalist_gender',\n",
    " 'Year',\n",
    " 'society_id',\n",
    " 'Region',\n",
    " 'Division',\n",
    " 'Subregion',\n",
    " 'Area',\n",
    " 'Local_latitude',\n",
    " 'Local_longitude',\n",
    " 'Preferred_name',\n",
    " 'Society_location'\n",
    " ]\n",
    "\n",
    "songs_some_cols = songs[selected_song_cols].copy()\n",
    "songs_some_cols.head(3)\n"
   ]
  },
  {
   "cell_type": "markdown",
   "metadata": {},
   "source": [
    "## Explode Genres for Study"
   ]
  },
  {
   "cell_type": "code",
   "execution_count": 14,
   "metadata": {},
   "outputs": [
    {
     "data": {
      "text/html": [
       "<div>\n",
       "<style scoped>\n",
       "    .dataframe tbody tr th:only-of-type {\n",
       "        vertical-align: middle;\n",
       "    }\n",
       "\n",
       "    .dataframe tbody tr th {\n",
       "        vertical-align: top;\n",
       "    }\n",
       "\n",
       "    .dataframe thead th {\n",
       "        text-align: right;\n",
       "    }\n",
       "</style>\n",
       "<table border=\"1\" class=\"dataframe\">\n",
       "  <thead>\n",
       "    <tr style=\"text-align: right;\">\n",
       "      <th></th>\n",
       "      <th>song_id</th>\n",
       "      <th>Genre</th>\n",
       "      <th>Performers</th>\n",
       "      <th>Instruments</th>\n",
       "      <th>Vocalist_gender</th>\n",
       "      <th>Year</th>\n",
       "      <th>society_id</th>\n",
       "      <th>Region</th>\n",
       "      <th>Division</th>\n",
       "      <th>Subregion</th>\n",
       "      <th>Area</th>\n",
       "      <th>Local_latitude</th>\n",
       "      <th>Local_longitude</th>\n",
       "      <th>Preferred_name</th>\n",
       "      <th>Society_location</th>\n",
       "    </tr>\n",
       "  </thead>\n",
       "  <tbody>\n",
       "    <tr>\n",
       "      <th>0</th>\n",
       "      <td>30119</td>\n",
       "      <td>Responsorial Song</td>\n",
       "      <td>Daudi Mutekete, male chorus, drum</td>\n",
       "      <td>Male Voice; Male Voices; Drum</td>\n",
       "      <td>Men</td>\n",
       "      <td>1950</td>\n",
       "      <td>10027</td>\n",
       "      <td>Africa</td>\n",
       "      <td>East Africa</td>\n",
       "      <td>Great Lakes Africa</td>\n",
       "      <td>Luhyaland, W Kenya</td>\n",
       "      <td>0.5</td>\n",
       "      <td>34.58</td>\n",
       "      <td>Abaluhya</td>\n",
       "      <td>Western Province, Kenya</td>\n",
       "    </tr>\n",
       "    <tr>\n",
       "      <th>0</th>\n",
       "      <td>30119</td>\n",
       "      <td>Call &amp; Response</td>\n",
       "      <td>Daudi Mutekete, male chorus, drum</td>\n",
       "      <td>Male Voice; Male Voices; Drum</td>\n",
       "      <td>Men</td>\n",
       "      <td>1950</td>\n",
       "      <td>10027</td>\n",
       "      <td>Africa</td>\n",
       "      <td>East Africa</td>\n",
       "      <td>Great Lakes Africa</td>\n",
       "      <td>Luhyaland, W Kenya</td>\n",
       "      <td>0.5</td>\n",
       "      <td>34.58</td>\n",
       "      <td>Abaluhya</td>\n",
       "      <td>Western Province, Kenya</td>\n",
       "    </tr>\n",
       "    <tr>\n",
       "      <th>1</th>\n",
       "      <td>30117</td>\n",
       "      <td>Responsorial Song</td>\n",
       "      <td>Jeremiah Mukandal, Wanga musician</td>\n",
       "      <td>Male Voice</td>\n",
       "      <td>Men</td>\n",
       "      <td>1950</td>\n",
       "      <td>10027</td>\n",
       "      <td>Africa</td>\n",
       "      <td>East Africa</td>\n",
       "      <td>Great Lakes Africa</td>\n",
       "      <td>Luhyaland, W Kenya</td>\n",
       "      <td>0.5</td>\n",
       "      <td>34.58</td>\n",
       "      <td>Abaluhya</td>\n",
       "      <td>Western Province, Kenya</td>\n",
       "    </tr>\n",
       "  </tbody>\n",
       "</table>\n",
       "</div>"
      ],
      "text/plain": [
       "  song_id              Genre                         Performers  \\\n",
       "0   30119  Responsorial Song  Daudi Mutekete, male chorus, drum   \n",
       "0   30119    Call & Response  Daudi Mutekete, male chorus, drum   \n",
       "1   30117  Responsorial Song  Jeremiah Mukandal, Wanga musician   \n",
       "\n",
       "                     Instruments Vocalist_gender  Year  society_id  Region  \\\n",
       "0  Male Voice; Male Voices; Drum             Men  1950       10027  Africa   \n",
       "0  Male Voice; Male Voices; Drum             Men  1950       10027  Africa   \n",
       "1                     Male Voice             Men  1950       10027  Africa   \n",
       "\n",
       "      Division           Subregion                Area  Local_latitude  \\\n",
       "0  East Africa  Great Lakes Africa  Luhyaland, W Kenya             0.5   \n",
       "0  East Africa  Great Lakes Africa  Luhyaland, W Kenya             0.5   \n",
       "1  East Africa  Great Lakes Africa  Luhyaland, W Kenya             0.5   \n",
       "\n",
       "   Local_longitude Preferred_name         Society_location  \n",
       "0            34.58       Abaluhya  Western Province, Kenya  \n",
       "0            34.58       Abaluhya  Western Province, Kenya  \n",
       "1            34.58       Abaluhya  Western Province, Kenya  "
      ]
     },
     "execution_count": 14,
     "metadata": {},
     "output_type": "execute_result"
    }
   ],
   "source": [
    "# split strings and explode:  'genre' as example\n",
    "songs_some_cols = songs[selected_song_cols].copy()\n",
    "songs_some_cols['Genre'].unique().tolist()\n",
    "\n",
    "# selected output\n",
    "\n",
    "['Responsorial Song; Call & Response',\n",
    " 'Dance Song',\n",
    " 'Ceremonial Song; Song For Royalty',\n",
    " 'Spirit Song; Dance Song; Cult Song',\n",
    " \"Boys' Song; Adolescents' Song\",\n",
    " 'Funeral Song; Mourning Song',\n",
    " \"Wedding Song; Girls' Song; Responsorial Song\",\n",
    " 'Chant; Song For Royalty',\n",
    " \"Men's Song; Song For Royalty\"]\n",
    "\n",
    "# copy the data so we avoid problems\n",
    "songs_some_cols  = songs[selected_song_cols].copy()\n",
    "# split the long strings at the \";\"\n",
    "songs_some_cols['Genre'] = songs_some_cols['Genre'].str.split(';')\n",
    "# explode the complete df on the 'genre' column to tidy the data\n",
    "songs_exploded = songs_some_cols.explode('Genre')\n",
    "# remove trailing/leading spaces that might remain in the individual strings\n",
    "songs_exploded[\"Genre\"] = songs_exploded[\"Genre\"].str.strip()\n",
    "# fillnas\n",
    "songs_exploded = songs_exploded.fillna('')\n",
    "songs_exploded.head(3)\n"
   ]
  },
  {
   "cell_type": "markdown",
   "metadata": {},
   "source": [
    "## Lullaby Demo"
   ]
  },
  {
   "cell_type": "code",
   "execution_count": 15,
   "metadata": {},
   "outputs": [
    {
     "data": {
      "text/html": [
       "<div>\n",
       "<style scoped>\n",
       "    .dataframe tbody tr th:only-of-type {\n",
       "        vertical-align: middle;\n",
       "    }\n",
       "\n",
       "    .dataframe tbody tr th {\n",
       "        vertical-align: top;\n",
       "    }\n",
       "\n",
       "    .dataframe thead th {\n",
       "        text-align: right;\n",
       "    }\n",
       "</style>\n",
       "<table border=\"1\" class=\"dataframe\">\n",
       "  <thead>\n",
       "    <tr style=\"text-align: right;\">\n",
       "      <th></th>\n",
       "      <th>song_id</th>\n",
       "      <th>Preferred_name</th>\n",
       "      <th>society_id</th>\n",
       "      <th>Social_Org_Group</th>\n",
       "      <th>Repetition</th>\n",
       "      <th>Vocal_Rhythm</th>\n",
       "      <th>Number_Phrases</th>\n",
       "      <th>Melodic_Range</th>\n",
       "      <th>Tempo</th>\n",
       "      <th>Volume</th>\n",
       "      <th>Vocal_Rubato</th>\n",
       "      <th>Glissando</th>\n",
       "    </tr>\n",
       "  </thead>\n",
       "  <tbody>\n",
       "    <tr>\n",
       "      <th>0</th>\n",
       "      <td>4241</td>\n",
       "      <td>'Are'are</td>\n",
       "      <td>10000</td>\n",
       "      <td>64</td>\n",
       "      <td>16</td>\n",
       "      <td>2048</td>\n",
       "      <td>512</td>\n",
       "      <td>1024</td>\n",
       "      <td>512</td>\n",
       "      <td>2</td>\n",
       "      <td>512</td>\n",
       "      <td>512</td>\n",
       "    </tr>\n",
       "    <tr>\n",
       "      <th>1</th>\n",
       "      <td>4246</td>\n",
       "      <td>'Are'are</td>\n",
       "      <td>10000</td>\n",
       "      <td>64</td>\n",
       "      <td>8192</td>\n",
       "      <td>512</td>\n",
       "      <td>8192</td>\n",
       "      <td>128</td>\n",
       "      <td>32</td>\n",
       "      <td>16</td>\n",
       "      <td>512</td>\n",
       "      <td>8192</td>\n",
       "    </tr>\n",
       "    <tr>\n",
       "      <th>2</th>\n",
       "      <td>30075</td>\n",
       "      <td>'Are'are</td>\n",
       "      <td>10000</td>\n",
       "      <td>8208</td>\n",
       "      <td>1024</td>\n",
       "      <td>64</td>\n",
       "      <td>2048</td>\n",
       "      <td>128</td>\n",
       "      <td>512</td>\n",
       "      <td>2</td>\n",
       "      <td>8192</td>\n",
       "      <td>512</td>\n",
       "    </tr>\n",
       "  </tbody>\n",
       "</table>\n",
       "</div>"
      ],
      "text/plain": [
       "  song_id Preferred_name  society_id  Social_Org_Group  Repetition  \\\n",
       "0    4241       'Are'are       10000                64          16   \n",
       "1    4246       'Are'are       10000                64        8192   \n",
       "2   30075       'Are'are       10000              8208        1024   \n",
       "\n",
       "   Vocal_Rhythm  Number_Phrases  Melodic_Range  Tempo  Volume  Vocal_Rubato  \\\n",
       "0          2048             512           1024    512       2           512   \n",
       "1           512            8192            128     32      16           512   \n",
       "2            64            2048            128    512       2          8192   \n",
       "\n",
       "   Glissando  \n",
       "0        512  \n",
       "1       8192  \n",
       "2        512  "
      ]
     },
     "execution_count": 15,
     "metadata": {},
     "output_type": "execute_result"
    }
   ],
   "source": [
    "# get selected features\n",
    "\n",
    "\n",
    "# copy to safeguard data\n",
    "canto_selected_features =  canto.copy()\n",
    "\n",
    "# song_id is number, so convert to string for matching\n",
    "canto_selected_features['song_id'] = canto_selected_features['song_id'].astype('str')\n",
    "\n",
    "# dict to rename columns with more useful names\n",
    "lullaby_name_dict = {'line_1': 'Social_Org_Group', \n",
    "'line_10': 'Repetition',\n",
    "'line_11': 'Vocal_Rhythm',\n",
    "'line_16': 'Melodic_Form',\n",
    "'line_18': 'Number_Phrases',\n",
    "'line_20': 'Melodic_Range',\n",
    "'line_24': 'Tempo',\n",
    "'line_25': 'Volume',\n",
    "'line_26': 'Vocal_Rubato',\n",
    "'line_28': 'Glissando'}\n",
    "\n",
    "# rename cols\n",
    "canto_selected_features = canto_selected_features.rename(columns=lullaby_name_dict)\n",
    "\n",
    "# Now we select only the columns (lines) that Anna suggests are relevant to the Lullaby Project\n",
    "canto_selected_features = canto_selected_features.iloc[:,[0, 1, 2, 3, 12, 13, 20, 22, 26, 27, 28, 30]]\n",
    "\n",
    "canto_selected_features.head(3)"
   ]
  },
  {
   "cell_type": "code",
   "execution_count": 16,
   "metadata": {},
   "outputs": [
    {
     "data": {
      "text/html": [
       "<div>\n",
       "<style scoped>\n",
       "    .dataframe tbody tr th:only-of-type {\n",
       "        vertical-align: middle;\n",
       "    }\n",
       "\n",
       "    .dataframe tbody tr th {\n",
       "        vertical-align: top;\n",
       "    }\n",
       "\n",
       "    .dataframe thead th {\n",
       "        text-align: right;\n",
       "    }\n",
       "</style>\n",
       "<table border=\"1\" class=\"dataframe\">\n",
       "  <thead>\n",
       "    <tr style=\"text-align: right;\">\n",
       "      <th></th>\n",
       "      <th>song_id</th>\n",
       "      <th>Preferred_name</th>\n",
       "      <th>society_id</th>\n",
       "      <th>Social_Org_Group</th>\n",
       "      <th>Repetition</th>\n",
       "      <th>Vocal_Rhythm</th>\n",
       "      <th>Number_Phrases</th>\n",
       "      <th>Melodic_Range</th>\n",
       "      <th>Tempo</th>\n",
       "      <th>Volume</th>\n",
       "      <th>Vocal_Rubato</th>\n",
       "      <th>Glissando</th>\n",
       "    </tr>\n",
       "  </thead>\n",
       "  <tbody>\n",
       "    <tr>\n",
       "      <th>0</th>\n",
       "      <td>4241</td>\n",
       "      <td>'Are'are</td>\n",
       "      <td>10000</td>\n",
       "      <td>(6.0,)</td>\n",
       "      <td>(4.0,)</td>\n",
       "      <td>(11.0,)</td>\n",
       "      <td>(9.0,)</td>\n",
       "      <td>(10.0,)</td>\n",
       "      <td>(9.0,)</td>\n",
       "      <td>(1.0,)</td>\n",
       "      <td>(9.0,)</td>\n",
       "      <td>(9.0,)</td>\n",
       "    </tr>\n",
       "    <tr>\n",
       "      <th>1</th>\n",
       "      <td>4246</td>\n",
       "      <td>'Are'are</td>\n",
       "      <td>10000</td>\n",
       "      <td>(6.0,)</td>\n",
       "      <td>(13.0,)</td>\n",
       "      <td>(9.0,)</td>\n",
       "      <td>(13.0,)</td>\n",
       "      <td>(7.0,)</td>\n",
       "      <td>(5.0,)</td>\n",
       "      <td>(4.0,)</td>\n",
       "      <td>(9.0,)</td>\n",
       "      <td>(13.0,)</td>\n",
       "    </tr>\n",
       "    <tr>\n",
       "      <th>2</th>\n",
       "      <td>30075</td>\n",
       "      <td>'Are'are</td>\n",
       "      <td>10000</td>\n",
       "      <td>(13.0, 4.0)</td>\n",
       "      <td>(10.0,)</td>\n",
       "      <td>(6.0,)</td>\n",
       "      <td>(11.0,)</td>\n",
       "      <td>(7.0,)</td>\n",
       "      <td>(9.0,)</td>\n",
       "      <td>(1.0,)</td>\n",
       "      <td>(13.0,)</td>\n",
       "      <td>(9.0,)</td>\n",
       "    </tr>\n",
       "  </tbody>\n",
       "</table>\n",
       "</div>"
      ],
      "text/plain": [
       "  song_id Preferred_name  society_id Social_Org_Group Repetition Vocal_Rhythm  \\\n",
       "0    4241       'Are'are       10000           (6.0,)     (4.0,)      (11.0,)   \n",
       "1    4246       'Are'are       10000           (6.0,)    (13.0,)       (9.0,)   \n",
       "2   30075       'Are'are       10000      (13.0, 4.0)    (10.0,)       (6.0,)   \n",
       "\n",
       "  Number_Phrases Melodic_Range   Tempo  Volume Vocal_Rubato Glissando  \n",
       "0         (9.0,)       (10.0,)  (9.0,)  (1.0,)       (9.0,)    (9.0,)  \n",
       "1        (13.0,)        (7.0,)  (5.0,)  (4.0,)       (9.0,)   (13.0,)  \n",
       "2        (11.0,)        (7.0,)  (9.0,)  (1.0,)      (13.0,)    (9.0,)  "
      ]
     },
     "execution_count": 16,
     "metadata": {},
     "output_type": "execute_result"
    }
   ],
   "source": [
    "# unpack powers of 2\n",
    "\n",
    "# 2 to the n for all n values from 1 to 13\n",
    "powers = [2**n for n in range(1, 14)] \n",
    "# make a list of all combinations of the previous, for 1, 2, and 3 numbers\n",
    "combo_list = list(combinations(powers, 1)) + list(combinations(powers, 2)) + list(combinations(powers, 3)) \n",
    "# a dictionary that maps the original sums to the combinations\n",
    "sums = [{\"sum\" : sum(t), \"full_tuple\": t} for t in combo_list]  \n",
    "# as a df\n",
    "sums_df = pd.DataFrame(sums) \n",
    "# clean up tuples and sort\n",
    "sums_df['sorted_original_values'] = sums_df.full_tuple.apply(lambda x: tuple(sorted([np.log2(value) for value in x], reverse=True))) \n",
    "sums_df.sort_values(by=\"sum\") \n",
    "#create a dictionary that maps the summed values to their original meanings:\n",
    "dictionary_of_value_sets = dict(zip(sums_df[\"sum\"], sums_df[\"sorted_original_values\"]))\n",
    "my_dict = pd.Series(lines_explained.short_title.values, index=lines_explained.id).to_dict()\n",
    "canto_transformed_features = canto_selected_features.iloc[:, 3:].map(lambda x : dictionary_of_value_sets.get(x, 0))\n",
    "canto_unpacked = pd.concat([canto_selected_features.iloc[:, :3], canto_transformed_features], axis=\"columns\")\n",
    "canto_unpacked = canto_unpacked.rename(columns=my_dict)\n",
    "# fix song_id as string\n",
    "canto_unpacked['song_id'] = canto_unpacked['song_id'].astype('str')\n",
    "\n",
    "canto_unpacked.head(3)\n"
   ]
  },
  {
   "cell_type": "code",
   "execution_count": 17,
   "metadata": {},
   "outputs": [
    {
     "data": {
      "text/html": [
       "<div>\n",
       "<style scoped>\n",
       "    .dataframe tbody tr th:only-of-type {\n",
       "        vertical-align: middle;\n",
       "    }\n",
       "\n",
       "    .dataframe tbody tr th {\n",
       "        vertical-align: top;\n",
       "    }\n",
       "\n",
       "    .dataframe thead th {\n",
       "        text-align: right;\n",
       "    }\n",
       "</style>\n",
       "<table border=\"1\" class=\"dataframe\">\n",
       "  <thead>\n",
       "    <tr style=\"text-align: right;\">\n",
       "      <th></th>\n",
       "      <th>song_id</th>\n",
       "      <th>Genre</th>\n",
       "      <th>Performers</th>\n",
       "      <th>Instruments</th>\n",
       "      <th>Vocalist_gender</th>\n",
       "      <th>Year</th>\n",
       "      <th>society_id</th>\n",
       "      <th>Region</th>\n",
       "      <th>Division</th>\n",
       "      <th>Subregion</th>\n",
       "      <th>Area</th>\n",
       "      <th>Local_latitude</th>\n",
       "      <th>Local_longitude</th>\n",
       "      <th>Preferred_name</th>\n",
       "      <th>Society_location</th>\n",
       "    </tr>\n",
       "  </thead>\n",
       "  <tbody>\n",
       "    <tr>\n",
       "      <th>139</th>\n",
       "      <td>1914</td>\n",
       "      <td>Lullaby</td>\n",
       "      <td>Female solo, group of children</td>\n",
       "      <td>Female Voice; Children's Voices</td>\n",
       "      <td>Mixed children; Women</td>\n",
       "      <td>1954</td>\n",
       "      <td>11793</td>\n",
       "      <td>Africa</td>\n",
       "      <td>East Africa</td>\n",
       "      <td>Great Lakes Africa</td>\n",
       "      <td>Busoga Kingdom, E Uganda</td>\n",
       "      <td>1.04</td>\n",
       "      <td>33.48</td>\n",
       "      <td>Basoga</td>\n",
       "      <td>Bulamogi, Kaliro District, Busoga, Eastern Reg...</td>\n",
       "    </tr>\n",
       "    <tr>\n",
       "      <th>328</th>\n",
       "      <td>420</td>\n",
       "      <td>Lullaby</td>\n",
       "      <td>Female solo</td>\n",
       "      <td>Female Voice</td>\n",
       "      <td>Women</td>\n",
       "      <td>1959</td>\n",
       "      <td>15577</td>\n",
       "      <td>Africa</td>\n",
       "      <td>Central Africa</td>\n",
       "      <td>N W Central Africa</td>\n",
       "      <td>N W Cameroon</td>\n",
       "      <td>6.09</td>\n",
       "      <td>10.30</td>\n",
       "      <td>Fut</td>\n",
       "      <td>Bamenda, Mezam, Northwest Region, Cameroon</td>\n",
       "    </tr>\n",
       "    <tr>\n",
       "      <th>329</th>\n",
       "      <td>2565</td>\n",
       "      <td>Lullaby</td>\n",
       "      <td>Female solo</td>\n",
       "      <td>Female Voice</td>\n",
       "      <td>Women</td>\n",
       "      <td>1959</td>\n",
       "      <td>15577</td>\n",
       "      <td>Africa</td>\n",
       "      <td>Central Africa</td>\n",
       "      <td>N W Central Africa</td>\n",
       "      <td>N W Cameroon</td>\n",
       "      <td>6.09</td>\n",
       "      <td>10.30</td>\n",
       "      <td>Fut</td>\n",
       "      <td>Bamenda, Mezam, Northwest Region, Cameroon</td>\n",
       "    </tr>\n",
       "  </tbody>\n",
       "</table>\n",
       "</div>"
      ],
      "text/plain": [
       "    song_id    Genre                      Performers  \\\n",
       "139    1914  Lullaby  Female solo, group of children   \n",
       "328     420  Lullaby                     Female solo   \n",
       "329    2565  Lullaby                     Female solo   \n",
       "\n",
       "                         Instruments        Vocalist_gender  Year  society_id  \\\n",
       "139  Female Voice; Children's Voices  Mixed children; Women  1954       11793   \n",
       "328                     Female Voice                  Women  1959       15577   \n",
       "329                     Female Voice                  Women  1959       15577   \n",
       "\n",
       "     Region        Division           Subregion                      Area  \\\n",
       "139  Africa     East Africa  Great Lakes Africa  Busoga Kingdom, E Uganda   \n",
       "328  Africa  Central Africa  N W Central Africa              N W Cameroon   \n",
       "329  Africa  Central Africa  N W Central Africa              N W Cameroon   \n",
       "\n",
       "     Local_latitude  Local_longitude Preferred_name  \\\n",
       "139            1.04            33.48         Basoga   \n",
       "328            6.09            10.30            Fut   \n",
       "329            6.09            10.30            Fut   \n",
       "\n",
       "                                      Society_location  \n",
       "139  Bulamogi, Kaliro District, Busoga, Eastern Reg...  \n",
       "328         Bamenda, Mezam, Northwest Region, Cameroon  \n",
       "329         Bamenda, Mezam, Northwest Region, Cameroon  "
      ]
     },
     "execution_count": 17,
     "metadata": {},
     "output_type": "execute_result"
    }
   ],
   "source": [
    "# Find Lullabies from the Song Table, and Collect Metadata\n",
    "\n",
    "# a shortlist of columns to use from songs table\n",
    "selected_song_cols = ['song_id',\n",
    "'Genre',\n",
    "'Performers',\n",
    "'Instruments',\n",
    "'Vocalist_gender',\n",
    "'Year',\n",
    "'society_id',\n",
    "'Region',\n",
    "'Division',\n",
    "'Subregion',\n",
    "'Area',\n",
    "'Local_latitude',\n",
    "'Local_longitude',\n",
    "'Preferred_name',\n",
    "'Society_location'\n",
    "]\n",
    "\n",
    "\n",
    "# slicing out just the relevant columns\n",
    "songs_some_cols = songs[selected_song_cols].copy()\n",
    "\n",
    "# getting just the lullabies\n",
    "lullabies_metadata = songs_some_cols[songs_some_cols['Genre'].notna() & songs_some_cols['Genre'].str.contains(\"Lullaby\")]\n",
    "lullabies_metadata.head(3)\n"
   ]
  },
  {
   "cell_type": "code",
   "execution_count": 18,
   "metadata": {},
   "outputs": [
    {
     "data": {
      "text/html": [
       "<div>\n",
       "<style scoped>\n",
       "    .dataframe tbody tr th:only-of-type {\n",
       "        vertical-align: middle;\n",
       "    }\n",
       "\n",
       "    .dataframe tbody tr th {\n",
       "        vertical-align: top;\n",
       "    }\n",
       "\n",
       "    .dataframe thead th {\n",
       "        text-align: right;\n",
       "    }\n",
       "</style>\n",
       "<table border=\"1\" class=\"dataframe\">\n",
       "  <thead>\n",
       "    <tr style=\"text-align: right;\">\n",
       "      <th></th>\n",
       "      <th>song_id</th>\n",
       "      <th>Genre</th>\n",
       "      <th>Performers</th>\n",
       "      <th>Instruments</th>\n",
       "      <th>Vocalist_gender</th>\n",
       "      <th>Year</th>\n",
       "      <th>society_id_x</th>\n",
       "      <th>Region</th>\n",
       "      <th>Division</th>\n",
       "      <th>Subregion</th>\n",
       "      <th>...</th>\n",
       "      <th>society_id_y</th>\n",
       "      <th>Social_Org_Group</th>\n",
       "      <th>Repetition</th>\n",
       "      <th>Vocal_Rhythm</th>\n",
       "      <th>Number_Phrases</th>\n",
       "      <th>Melodic_Range</th>\n",
       "      <th>Tempo</th>\n",
       "      <th>Volume</th>\n",
       "      <th>Vocal_Rubato</th>\n",
       "      <th>Glissando</th>\n",
       "    </tr>\n",
       "  </thead>\n",
       "  <tbody>\n",
       "    <tr>\n",
       "      <th>0</th>\n",
       "      <td>1914</td>\n",
       "      <td>Lullaby</td>\n",
       "      <td>Female solo, group of children</td>\n",
       "      <td>Female Voice; Children's Voices</td>\n",
       "      <td>Mixed children; Women</td>\n",
       "      <td>1954</td>\n",
       "      <td>11793</td>\n",
       "      <td>Africa</td>\n",
       "      <td>East Africa</td>\n",
       "      <td>Great Lakes Africa</td>\n",
       "      <td>...</td>\n",
       "      <td>11793</td>\n",
       "      <td>(8.0,)</td>\n",
       "      <td>(10.0,)</td>\n",
       "      <td>(11.0,)</td>\n",
       "      <td>(13.0,)</td>\n",
       "      <td>(13.0,)</td>\n",
       "      <td>(9.0,)</td>\n",
       "      <td>(7.0,)</td>\n",
       "      <td>(13.0,)</td>\n",
       "      <td>(5.0,)</td>\n",
       "    </tr>\n",
       "    <tr>\n",
       "      <th>1</th>\n",
       "      <td>420</td>\n",
       "      <td>Lullaby</td>\n",
       "      <td>Female solo</td>\n",
       "      <td>Female Voice</td>\n",
       "      <td>Women</td>\n",
       "      <td>1959</td>\n",
       "      <td>15577</td>\n",
       "      <td>Africa</td>\n",
       "      <td>Central Africa</td>\n",
       "      <td>N W Central Africa</td>\n",
       "      <td>...</td>\n",
       "      <td>15577</td>\n",
       "      <td>(2.0,)</td>\n",
       "      <td>(4.0,)</td>\n",
       "      <td>(6.0,)</td>\n",
       "      <td>(3.0,)</td>\n",
       "      <td>(7.0,)</td>\n",
       "      <td>(5.0,)</td>\n",
       "      <td>(4.0,)</td>\n",
       "      <td>(13.0,)</td>\n",
       "      <td>(5.0,)</td>\n",
       "    </tr>\n",
       "    <tr>\n",
       "      <th>2</th>\n",
       "      <td>2565</td>\n",
       "      <td>Lullaby</td>\n",
       "      <td>Female solo</td>\n",
       "      <td>Female Voice</td>\n",
       "      <td>Women</td>\n",
       "      <td>1959</td>\n",
       "      <td>15577</td>\n",
       "      <td>Africa</td>\n",
       "      <td>Central Africa</td>\n",
       "      <td>N W Central Africa</td>\n",
       "      <td>...</td>\n",
       "      <td>15577</td>\n",
       "      <td>(2.0,)</td>\n",
       "      <td>(10.0,)</td>\n",
       "      <td>(6.0,)</td>\n",
       "      <td>(1.0,)</td>\n",
       "      <td>(7.0,)</td>\n",
       "      <td>(9.0,)</td>\n",
       "      <td>(4.0,)</td>\n",
       "      <td>(13.0,)</td>\n",
       "      <td>(9.0,)</td>\n",
       "    </tr>\n",
       "  </tbody>\n",
       "</table>\n",
       "<p>3 rows × 26 columns</p>\n",
       "</div>"
      ],
      "text/plain": [
       "  song_id    Genre                      Performers  \\\n",
       "0    1914  Lullaby  Female solo, group of children   \n",
       "1     420  Lullaby                     Female solo   \n",
       "2    2565  Lullaby                     Female solo   \n",
       "\n",
       "                       Instruments        Vocalist_gender  Year  society_id_x  \\\n",
       "0  Female Voice; Children's Voices  Mixed children; Women  1954         11793   \n",
       "1                     Female Voice                  Women  1959         15577   \n",
       "2                     Female Voice                  Women  1959         15577   \n",
       "\n",
       "   Region        Division           Subregion  ... society_id_y  \\\n",
       "0  Africa     East Africa  Great Lakes Africa  ...        11793   \n",
       "1  Africa  Central Africa  N W Central Africa  ...        15577   \n",
       "2  Africa  Central Africa  N W Central Africa  ...        15577   \n",
       "\n",
       "   Social_Org_Group  Repetition Vocal_Rhythm Number_Phrases Melodic_Range  \\\n",
       "0            (8.0,)     (10.0,)      (11.0,)        (13.0,)       (13.0,)   \n",
       "1            (2.0,)      (4.0,)       (6.0,)         (3.0,)        (7.0,)   \n",
       "2            (2.0,)     (10.0,)       (6.0,)         (1.0,)        (7.0,)   \n",
       "\n",
       "    Tempo  Volume Vocal_Rubato Glissando  \n",
       "0  (9.0,)  (7.0,)      (13.0,)    (5.0,)  \n",
       "1  (5.0,)  (4.0,)      (13.0,)    (5.0,)  \n",
       "2  (9.0,)  (4.0,)      (13.0,)    (9.0,)  \n",
       "\n",
       "[3 rows x 26 columns]"
      ]
     },
     "execution_count": 18,
     "metadata": {},
     "output_type": "execute_result"
    }
   ],
   "source": [
    "# combine the Feature Data with Context Data\n",
    "\n",
    "\n",
    "lullabies_final = pd.merge(lullabies_metadata, canto_unpacked,\n",
    "how='left', on='song_id')\n",
    "lullabies_final = lullabies_final.fillna('')\n",
    "lullabies_final.head(3)\n",
    "\n"
   ]
  },
  {
   "cell_type": "code",
   "execution_count": 19,
   "metadata": {},
   "outputs": [
    {
     "data": {
      "text/html": [
       "<div>\n",
       "<style scoped>\n",
       "    .dataframe tbody tr th:only-of-type {\n",
       "        vertical-align: middle;\n",
       "    }\n",
       "\n",
       "    .dataframe tbody tr th {\n",
       "        vertical-align: top;\n",
       "    }\n",
       "\n",
       "    .dataframe thead th {\n",
       "        text-align: right;\n",
       "    }\n",
       "</style>\n",
       "<table border=\"1\" class=\"dataframe\">\n",
       "  <thead>\n",
       "    <tr style=\"text-align: right;\">\n",
       "      <th></th>\n",
       "      <th>Region</th>\n",
       "      <th>Melodic_Range</th>\n",
       "      <th>Song_Count</th>\n",
       "    </tr>\n",
       "  </thead>\n",
       "  <tbody>\n",
       "    <tr>\n",
       "      <th>0</th>\n",
       "      <td>Africa</td>\n",
       "      <td>(4.0,)</td>\n",
       "      <td>1</td>\n",
       "    </tr>\n",
       "    <tr>\n",
       "      <th>1</th>\n",
       "      <td>Africa</td>\n",
       "      <td>(7.0,)</td>\n",
       "      <td>2</td>\n",
       "    </tr>\n",
       "    <tr>\n",
       "      <th>2</th>\n",
       "      <td>Africa</td>\n",
       "      <td>(10.0,)</td>\n",
       "      <td>2</td>\n",
       "    </tr>\n",
       "    <tr>\n",
       "      <th>3</th>\n",
       "      <td>Africa</td>\n",
       "      <td>(13.0,)</td>\n",
       "      <td>1</td>\n",
       "    </tr>\n",
       "    <tr>\n",
       "      <th>4</th>\n",
       "      <td>Australia</td>\n",
       "      <td>(7.0,)</td>\n",
       "      <td>1</td>\n",
       "    </tr>\n",
       "    <tr>\n",
       "      <th>5</th>\n",
       "      <td>Central America</td>\n",
       "      <td>(4.0,)</td>\n",
       "      <td>5</td>\n",
       "    </tr>\n",
       "    <tr>\n",
       "      <th>6</th>\n",
       "      <td>Central America</td>\n",
       "      <td>(7.0,)</td>\n",
       "      <td>9</td>\n",
       "    </tr>\n",
       "    <tr>\n",
       "      <th>7</th>\n",
       "      <td>Central America</td>\n",
       "      <td>(10.0,)</td>\n",
       "      <td>1</td>\n",
       "    </tr>\n",
       "    <tr>\n",
       "      <th>8</th>\n",
       "      <td>Central Asia</td>\n",
       "      <td>(7.0,)</td>\n",
       "      <td>1</td>\n",
       "    </tr>\n",
       "    <tr>\n",
       "      <th>9</th>\n",
       "      <td>East Asia</td>\n",
       "      <td>(7.0,)</td>\n",
       "      <td>1</td>\n",
       "    </tr>\n",
       "    <tr>\n",
       "      <th>10</th>\n",
       "      <td>East Asia</td>\n",
       "      <td>(10.0,)</td>\n",
       "      <td>2</td>\n",
       "    </tr>\n",
       "    <tr>\n",
       "      <th>11</th>\n",
       "      <td>Europe</td>\n",
       "      <td>(4.0,)</td>\n",
       "      <td>6</td>\n",
       "    </tr>\n",
       "    <tr>\n",
       "      <th>12</th>\n",
       "      <td>Europe</td>\n",
       "      <td>(7.0,)</td>\n",
       "      <td>15</td>\n",
       "    </tr>\n",
       "    <tr>\n",
       "      <th>13</th>\n",
       "      <td>Europe</td>\n",
       "      <td>(10.0,)</td>\n",
       "      <td>2</td>\n",
       "    </tr>\n",
       "    <tr>\n",
       "      <th>14</th>\n",
       "      <td>North America</td>\n",
       "      <td>(4.0,)</td>\n",
       "      <td>4</td>\n",
       "    </tr>\n",
       "    <tr>\n",
       "      <th>15</th>\n",
       "      <td>North America</td>\n",
       "      <td>(7.0,)</td>\n",
       "      <td>3</td>\n",
       "    </tr>\n",
       "    <tr>\n",
       "      <th>16</th>\n",
       "      <td>North America</td>\n",
       "      <td>(10.0,)</td>\n",
       "      <td>3</td>\n",
       "    </tr>\n",
       "    <tr>\n",
       "      <th>17</th>\n",
       "      <td>North America</td>\n",
       "      <td>(13.0,)</td>\n",
       "      <td>1</td>\n",
       "    </tr>\n",
       "    <tr>\n",
       "      <th>18</th>\n",
       "      <td>North Eurasia</td>\n",
       "      <td>(4.0,)</td>\n",
       "      <td>2</td>\n",
       "    </tr>\n",
       "    <tr>\n",
       "      <th>19</th>\n",
       "      <td>North Eurasia</td>\n",
       "      <td>(7.0,)</td>\n",
       "      <td>2</td>\n",
       "    </tr>\n",
       "    <tr>\n",
       "      <th>20</th>\n",
       "      <td>North Eurasia</td>\n",
       "      <td>(10.0,)</td>\n",
       "      <td>1</td>\n",
       "    </tr>\n",
       "    <tr>\n",
       "      <th>21</th>\n",
       "      <td>Oceania</td>\n",
       "      <td>(1.0,)</td>\n",
       "      <td>2</td>\n",
       "    </tr>\n",
       "    <tr>\n",
       "      <th>22</th>\n",
       "      <td>Oceania</td>\n",
       "      <td>(4.0,)</td>\n",
       "      <td>4</td>\n",
       "    </tr>\n",
       "    <tr>\n",
       "      <th>23</th>\n",
       "      <td>Oceania</td>\n",
       "      <td>(4.0, 1.0)</td>\n",
       "      <td>1</td>\n",
       "    </tr>\n",
       "    <tr>\n",
       "      <th>24</th>\n",
       "      <td>Oceania</td>\n",
       "      <td>(7.0,)</td>\n",
       "      <td>5</td>\n",
       "    </tr>\n",
       "    <tr>\n",
       "      <th>25</th>\n",
       "      <td>Oceania</td>\n",
       "      <td>(10.0,)</td>\n",
       "      <td>4</td>\n",
       "    </tr>\n",
       "    <tr>\n",
       "      <th>26</th>\n",
       "      <td>South America</td>\n",
       "      <td>(1.0,)</td>\n",
       "      <td>3</td>\n",
       "    </tr>\n",
       "    <tr>\n",
       "      <th>27</th>\n",
       "      <td>South America</td>\n",
       "      <td>(4.0,)</td>\n",
       "      <td>3</td>\n",
       "    </tr>\n",
       "    <tr>\n",
       "      <th>28</th>\n",
       "      <td>South America</td>\n",
       "      <td>(7.0,)</td>\n",
       "      <td>5</td>\n",
       "    </tr>\n",
       "    <tr>\n",
       "      <th>29</th>\n",
       "      <td>South America</td>\n",
       "      <td>(10.0,)</td>\n",
       "      <td>1</td>\n",
       "    </tr>\n",
       "    <tr>\n",
       "      <th>30</th>\n",
       "      <td>South Asia</td>\n",
       "      <td>(4.0,)</td>\n",
       "      <td>1</td>\n",
       "    </tr>\n",
       "    <tr>\n",
       "      <th>31</th>\n",
       "      <td>South Asia</td>\n",
       "      <td>(7.0,)</td>\n",
       "      <td>2</td>\n",
       "    </tr>\n",
       "    <tr>\n",
       "      <th>32</th>\n",
       "      <td>South Asia</td>\n",
       "      <td>(13.0,)</td>\n",
       "      <td>1</td>\n",
       "    </tr>\n",
       "    <tr>\n",
       "      <th>33</th>\n",
       "      <td>Southeast Asia</td>\n",
       "      <td>(10.0,)</td>\n",
       "      <td>1</td>\n",
       "    </tr>\n",
       "    <tr>\n",
       "      <th>34</th>\n",
       "      <td>Western Asia</td>\n",
       "      <td>(7.0,)</td>\n",
       "      <td>1</td>\n",
       "    </tr>\n",
       "  </tbody>\n",
       "</table>\n",
       "</div>"
      ],
      "text/plain": [
       "             Region Melodic_Range  Song_Count\n",
       "0            Africa        (4.0,)           1\n",
       "1            Africa        (7.0,)           2\n",
       "2            Africa       (10.0,)           2\n",
       "3            Africa       (13.0,)           1\n",
       "4         Australia        (7.0,)           1\n",
       "5   Central America        (4.0,)           5\n",
       "6   Central America        (7.0,)           9\n",
       "7   Central America       (10.0,)           1\n",
       "8      Central Asia        (7.0,)           1\n",
       "9         East Asia        (7.0,)           1\n",
       "10        East Asia       (10.0,)           2\n",
       "11           Europe        (4.0,)           6\n",
       "12           Europe        (7.0,)          15\n",
       "13           Europe       (10.0,)           2\n",
       "14    North America        (4.0,)           4\n",
       "15    North America        (7.0,)           3\n",
       "16    North America       (10.0,)           3\n",
       "17    North America       (13.0,)           1\n",
       "18    North Eurasia        (4.0,)           2\n",
       "19    North Eurasia        (7.0,)           2\n",
       "20    North Eurasia       (10.0,)           1\n",
       "21          Oceania        (1.0,)           2\n",
       "22          Oceania        (4.0,)           4\n",
       "23          Oceania    (4.0, 1.0)           1\n",
       "24          Oceania        (7.0,)           5\n",
       "25          Oceania       (10.0,)           4\n",
       "26    South America        (1.0,)           3\n",
       "27    South America        (4.0,)           3\n",
       "28    South America        (7.0,)           5\n",
       "29    South America       (10.0,)           1\n",
       "30       South Asia        (4.0,)           1\n",
       "31       South Asia        (7.0,)           2\n",
       "32       South Asia       (13.0,)           1\n",
       "33   Southeast Asia       (10.0,)           1\n",
       "34     Western Asia        (7.0,)           1"
      ]
     },
     "execution_count": 19,
     "metadata": {},
     "output_type": "execute_result"
    }
   ],
   "source": [
    "# groups based on features\n",
    "\n",
    "grouped = lullabies_final.groupby(['Region', 'Melodic_Range'])['song_id'].count()\n",
    "regional_lullabies = pd.DataFrame(grouped)\n",
    "regional_lullabies = regional_lullabies.reset_index()\n",
    "regional_lullabies = regional_lullabies.rename(columns={'song_id' : 'Song_Count'})\n",
    "regional_lullabies\n",
    "\n"
   ]
  },
  {
   "cell_type": "code",
   "execution_count": 22,
   "metadata": {},
   "outputs": [
    {
     "data": {
      "application/vnd.plotly.v1+json": {
       "config": {
        "plotlyServerURL": "https://plot.ly"
       },
       "data": [
        {
         "alignmentgroup": "True",
         "hovertemplate": "Region=%{x}<br>Song_Count=%{y}<br>Melodic Range=%{marker.color}<extra></extra>",
         "legendgroup": "",
         "marker": {
          "color": [
           4,
           7,
           10,
           13,
           7,
           4,
           7,
           10,
           7,
           7,
           10,
           4,
           7,
           10,
           4,
           7,
           10,
           13,
           4,
           7,
           10,
           1,
           4,
           4,
           7,
           10,
           1,
           4,
           7,
           10,
           4,
           7,
           13,
           10,
           7
          ],
          "coloraxis": "coloraxis",
          "pattern": {
           "shape": ""
          }
         },
         "name": "",
         "offsetgroup": "",
         "orientation": "v",
         "showlegend": false,
         "textposition": "auto",
         "type": "bar",
         "x": [
          "Africa",
          "Africa",
          "Africa",
          "Africa",
          "Australia",
          "Central America",
          "Central America",
          "Central America",
          "Central Asia",
          "East Asia",
          "East Asia",
          "Europe",
          "Europe",
          "Europe",
          "North America",
          "North America",
          "North America",
          "North America",
          "North Eurasia",
          "North Eurasia",
          "North Eurasia",
          "Oceania",
          "Oceania",
          "Oceania",
          "Oceania",
          "Oceania",
          "South America",
          "South America",
          "South America",
          "South America",
          "South Asia",
          "South Asia",
          "South Asia",
          "Southeast Asia",
          "Western Asia"
         ],
         "xaxis": "x",
         "y": [
          1,
          2,
          2,
          1,
          1,
          5,
          9,
          1,
          1,
          1,
          2,
          6,
          15,
          2,
          4,
          3,
          3,
          1,
          2,
          2,
          1,
          2,
          4,
          1,
          5,
          4,
          3,
          3,
          5,
          1,
          1,
          2,
          1,
          1,
          1
         ],
         "yaxis": "y"
        }
       ],
       "layout": {
        "barmode": "relative",
        "coloraxis": {
         "colorbar": {
          "title": {
           "text": "Melodic Range"
          }
         },
         "colorscale": [
          [
           0,
           "#0d0887"
          ],
          [
           0.1111111111111111,
           "#46039f"
          ],
          [
           0.2222222222222222,
           "#7201a8"
          ],
          [
           0.3333333333333333,
           "#9c179e"
          ],
          [
           0.4444444444444444,
           "#bd3786"
          ],
          [
           0.5555555555555556,
           "#d8576b"
          ],
          [
           0.6666666666666666,
           "#ed7953"
          ],
          [
           0.7777777777777778,
           "#fb9f3a"
          ],
          [
           0.8888888888888888,
           "#fdca26"
          ],
          [
           1,
           "#f0f921"
          ]
         ]
        },
        "legend": {
         "tracegroupgap": 0
        },
        "template": {
         "data": {
          "bar": [
           {
            "error_x": {
             "color": "#2a3f5f"
            },
            "error_y": {
             "color": "#2a3f5f"
            },
            "marker": {
             "line": {
              "color": "#E5ECF6",
              "width": 0.5
             },
             "pattern": {
              "fillmode": "overlay",
              "size": 10,
              "solidity": 0.2
             }
            },
            "type": "bar"
           }
          ],
          "barpolar": [
           {
            "marker": {
             "line": {
              "color": "#E5ECF6",
              "width": 0.5
             },
             "pattern": {
              "fillmode": "overlay",
              "size": 10,
              "solidity": 0.2
             }
            },
            "type": "barpolar"
           }
          ],
          "carpet": [
           {
            "aaxis": {
             "endlinecolor": "#2a3f5f",
             "gridcolor": "white",
             "linecolor": "white",
             "minorgridcolor": "white",
             "startlinecolor": "#2a3f5f"
            },
            "baxis": {
             "endlinecolor": "#2a3f5f",
             "gridcolor": "white",
             "linecolor": "white",
             "minorgridcolor": "white",
             "startlinecolor": "#2a3f5f"
            },
            "type": "carpet"
           }
          ],
          "choropleth": [
           {
            "colorbar": {
             "outlinewidth": 0,
             "ticks": ""
            },
            "type": "choropleth"
           }
          ],
          "contour": [
           {
            "colorbar": {
             "outlinewidth": 0,
             "ticks": ""
            },
            "colorscale": [
             [
              0,
              "#0d0887"
             ],
             [
              0.1111111111111111,
              "#46039f"
             ],
             [
              0.2222222222222222,
              "#7201a8"
             ],
             [
              0.3333333333333333,
              "#9c179e"
             ],
             [
              0.4444444444444444,
              "#bd3786"
             ],
             [
              0.5555555555555556,
              "#d8576b"
             ],
             [
              0.6666666666666666,
              "#ed7953"
             ],
             [
              0.7777777777777778,
              "#fb9f3a"
             ],
             [
              0.8888888888888888,
              "#fdca26"
             ],
             [
              1,
              "#f0f921"
             ]
            ],
            "type": "contour"
           }
          ],
          "contourcarpet": [
           {
            "colorbar": {
             "outlinewidth": 0,
             "ticks": ""
            },
            "type": "contourcarpet"
           }
          ],
          "heatmap": [
           {
            "colorbar": {
             "outlinewidth": 0,
             "ticks": ""
            },
            "colorscale": [
             [
              0,
              "#0d0887"
             ],
             [
              0.1111111111111111,
              "#46039f"
             ],
             [
              0.2222222222222222,
              "#7201a8"
             ],
             [
              0.3333333333333333,
              "#9c179e"
             ],
             [
              0.4444444444444444,
              "#bd3786"
             ],
             [
              0.5555555555555556,
              "#d8576b"
             ],
             [
              0.6666666666666666,
              "#ed7953"
             ],
             [
              0.7777777777777778,
              "#fb9f3a"
             ],
             [
              0.8888888888888888,
              "#fdca26"
             ],
             [
              1,
              "#f0f921"
             ]
            ],
            "type": "heatmap"
           }
          ],
          "heatmapgl": [
           {
            "colorbar": {
             "outlinewidth": 0,
             "ticks": ""
            },
            "colorscale": [
             [
              0,
              "#0d0887"
             ],
             [
              0.1111111111111111,
              "#46039f"
             ],
             [
              0.2222222222222222,
              "#7201a8"
             ],
             [
              0.3333333333333333,
              "#9c179e"
             ],
             [
              0.4444444444444444,
              "#bd3786"
             ],
             [
              0.5555555555555556,
              "#d8576b"
             ],
             [
              0.6666666666666666,
              "#ed7953"
             ],
             [
              0.7777777777777778,
              "#fb9f3a"
             ],
             [
              0.8888888888888888,
              "#fdca26"
             ],
             [
              1,
              "#f0f921"
             ]
            ],
            "type": "heatmapgl"
           }
          ],
          "histogram": [
           {
            "marker": {
             "pattern": {
              "fillmode": "overlay",
              "size": 10,
              "solidity": 0.2
             }
            },
            "type": "histogram"
           }
          ],
          "histogram2d": [
           {
            "colorbar": {
             "outlinewidth": 0,
             "ticks": ""
            },
            "colorscale": [
             [
              0,
              "#0d0887"
             ],
             [
              0.1111111111111111,
              "#46039f"
             ],
             [
              0.2222222222222222,
              "#7201a8"
             ],
             [
              0.3333333333333333,
              "#9c179e"
             ],
             [
              0.4444444444444444,
              "#bd3786"
             ],
             [
              0.5555555555555556,
              "#d8576b"
             ],
             [
              0.6666666666666666,
              "#ed7953"
             ],
             [
              0.7777777777777778,
              "#fb9f3a"
             ],
             [
              0.8888888888888888,
              "#fdca26"
             ],
             [
              1,
              "#f0f921"
             ]
            ],
            "type": "histogram2d"
           }
          ],
          "histogram2dcontour": [
           {
            "colorbar": {
             "outlinewidth": 0,
             "ticks": ""
            },
            "colorscale": [
             [
              0,
              "#0d0887"
             ],
             [
              0.1111111111111111,
              "#46039f"
             ],
             [
              0.2222222222222222,
              "#7201a8"
             ],
             [
              0.3333333333333333,
              "#9c179e"
             ],
             [
              0.4444444444444444,
              "#bd3786"
             ],
             [
              0.5555555555555556,
              "#d8576b"
             ],
             [
              0.6666666666666666,
              "#ed7953"
             ],
             [
              0.7777777777777778,
              "#fb9f3a"
             ],
             [
              0.8888888888888888,
              "#fdca26"
             ],
             [
              1,
              "#f0f921"
             ]
            ],
            "type": "histogram2dcontour"
           }
          ],
          "mesh3d": [
           {
            "colorbar": {
             "outlinewidth": 0,
             "ticks": ""
            },
            "type": "mesh3d"
           }
          ],
          "parcoords": [
           {
            "line": {
             "colorbar": {
              "outlinewidth": 0,
              "ticks": ""
             }
            },
            "type": "parcoords"
           }
          ],
          "pie": [
           {
            "automargin": true,
            "type": "pie"
           }
          ],
          "scatter": [
           {
            "fillpattern": {
             "fillmode": "overlay",
             "size": 10,
             "solidity": 0.2
            },
            "type": "scatter"
           }
          ],
          "scatter3d": [
           {
            "line": {
             "colorbar": {
              "outlinewidth": 0,
              "ticks": ""
             }
            },
            "marker": {
             "colorbar": {
              "outlinewidth": 0,
              "ticks": ""
             }
            },
            "type": "scatter3d"
           }
          ],
          "scattercarpet": [
           {
            "marker": {
             "colorbar": {
              "outlinewidth": 0,
              "ticks": ""
             }
            },
            "type": "scattercarpet"
           }
          ],
          "scattergeo": [
           {
            "marker": {
             "colorbar": {
              "outlinewidth": 0,
              "ticks": ""
             }
            },
            "type": "scattergeo"
           }
          ],
          "scattergl": [
           {
            "marker": {
             "colorbar": {
              "outlinewidth": 0,
              "ticks": ""
             }
            },
            "type": "scattergl"
           }
          ],
          "scattermapbox": [
           {
            "marker": {
             "colorbar": {
              "outlinewidth": 0,
              "ticks": ""
             }
            },
            "type": "scattermapbox"
           }
          ],
          "scatterpolar": [
           {
            "marker": {
             "colorbar": {
              "outlinewidth": 0,
              "ticks": ""
             }
            },
            "type": "scatterpolar"
           }
          ],
          "scatterpolargl": [
           {
            "marker": {
             "colorbar": {
              "outlinewidth": 0,
              "ticks": ""
             }
            },
            "type": "scatterpolargl"
           }
          ],
          "scatterternary": [
           {
            "marker": {
             "colorbar": {
              "outlinewidth": 0,
              "ticks": ""
             }
            },
            "type": "scatterternary"
           }
          ],
          "surface": [
           {
            "colorbar": {
             "outlinewidth": 0,
             "ticks": ""
            },
            "colorscale": [
             [
              0,
              "#0d0887"
             ],
             [
              0.1111111111111111,
              "#46039f"
             ],
             [
              0.2222222222222222,
              "#7201a8"
             ],
             [
              0.3333333333333333,
              "#9c179e"
             ],
             [
              0.4444444444444444,
              "#bd3786"
             ],
             [
              0.5555555555555556,
              "#d8576b"
             ],
             [
              0.6666666666666666,
              "#ed7953"
             ],
             [
              0.7777777777777778,
              "#fb9f3a"
             ],
             [
              0.8888888888888888,
              "#fdca26"
             ],
             [
              1,
              "#f0f921"
             ]
            ],
            "type": "surface"
           }
          ],
          "table": [
           {
            "cells": {
             "fill": {
              "color": "#EBF0F8"
             },
             "line": {
              "color": "white"
             }
            },
            "header": {
             "fill": {
              "color": "#C8D4E3"
             },
             "line": {
              "color": "white"
             }
            },
            "type": "table"
           }
          ]
         },
         "layout": {
          "annotationdefaults": {
           "arrowcolor": "#2a3f5f",
           "arrowhead": 0,
           "arrowwidth": 1
          },
          "autotypenumbers": "strict",
          "coloraxis": {
           "colorbar": {
            "outlinewidth": 0,
            "ticks": ""
           }
          },
          "colorscale": {
           "diverging": [
            [
             0,
             "#8e0152"
            ],
            [
             0.1,
             "#c51b7d"
            ],
            [
             0.2,
             "#de77ae"
            ],
            [
             0.3,
             "#f1b6da"
            ],
            [
             0.4,
             "#fde0ef"
            ],
            [
             0.5,
             "#f7f7f7"
            ],
            [
             0.6,
             "#e6f5d0"
            ],
            [
             0.7,
             "#b8e186"
            ],
            [
             0.8,
             "#7fbc41"
            ],
            [
             0.9,
             "#4d9221"
            ],
            [
             1,
             "#276419"
            ]
           ],
           "sequential": [
            [
             0,
             "#0d0887"
            ],
            [
             0.1111111111111111,
             "#46039f"
            ],
            [
             0.2222222222222222,
             "#7201a8"
            ],
            [
             0.3333333333333333,
             "#9c179e"
            ],
            [
             0.4444444444444444,
             "#bd3786"
            ],
            [
             0.5555555555555556,
             "#d8576b"
            ],
            [
             0.6666666666666666,
             "#ed7953"
            ],
            [
             0.7777777777777778,
             "#fb9f3a"
            ],
            [
             0.8888888888888888,
             "#fdca26"
            ],
            [
             1,
             "#f0f921"
            ]
           ],
           "sequentialminus": [
            [
             0,
             "#0d0887"
            ],
            [
             0.1111111111111111,
             "#46039f"
            ],
            [
             0.2222222222222222,
             "#7201a8"
            ],
            [
             0.3333333333333333,
             "#9c179e"
            ],
            [
             0.4444444444444444,
             "#bd3786"
            ],
            [
             0.5555555555555556,
             "#d8576b"
            ],
            [
             0.6666666666666666,
             "#ed7953"
            ],
            [
             0.7777777777777778,
             "#fb9f3a"
            ],
            [
             0.8888888888888888,
             "#fdca26"
            ],
            [
             1,
             "#f0f921"
            ]
           ]
          },
          "colorway": [
           "#636efa",
           "#EF553B",
           "#00cc96",
           "#ab63fa",
           "#FFA15A",
           "#19d3f3",
           "#FF6692",
           "#B6E880",
           "#FF97FF",
           "#FECB52"
          ],
          "font": {
           "color": "#2a3f5f"
          },
          "geo": {
           "bgcolor": "white",
           "lakecolor": "white",
           "landcolor": "#E5ECF6",
           "showlakes": true,
           "showland": true,
           "subunitcolor": "white"
          },
          "hoverlabel": {
           "align": "left"
          },
          "hovermode": "closest",
          "mapbox": {
           "style": "light"
          },
          "paper_bgcolor": "white",
          "plot_bgcolor": "#E5ECF6",
          "polar": {
           "angularaxis": {
            "gridcolor": "white",
            "linecolor": "white",
            "ticks": ""
           },
           "bgcolor": "#E5ECF6",
           "radialaxis": {
            "gridcolor": "white",
            "linecolor": "white",
            "ticks": ""
           }
          },
          "scene": {
           "xaxis": {
            "backgroundcolor": "#E5ECF6",
            "gridcolor": "white",
            "gridwidth": 2,
            "linecolor": "white",
            "showbackground": true,
            "ticks": "",
            "zerolinecolor": "white"
           },
           "yaxis": {
            "backgroundcolor": "#E5ECF6",
            "gridcolor": "white",
            "gridwidth": 2,
            "linecolor": "white",
            "showbackground": true,
            "ticks": "",
            "zerolinecolor": "white"
           },
           "zaxis": {
            "backgroundcolor": "#E5ECF6",
            "gridcolor": "white",
            "gridwidth": 2,
            "linecolor": "white",
            "showbackground": true,
            "ticks": "",
            "zerolinecolor": "white"
           }
          },
          "shapedefaults": {
           "line": {
            "color": "#2a3f5f"
           }
          },
          "ternary": {
           "aaxis": {
            "gridcolor": "white",
            "linecolor": "white",
            "ticks": ""
           },
           "baxis": {
            "gridcolor": "white",
            "linecolor": "white",
            "ticks": ""
           },
           "bgcolor": "#E5ECF6",
           "caxis": {
            "gridcolor": "white",
            "linecolor": "white",
            "ticks": ""
           }
          },
          "title": {
           "x": 0.05
          },
          "xaxis": {
           "automargin": true,
           "gridcolor": "white",
           "linecolor": "white",
           "ticks": "",
           "title": {
            "standoff": 15
           },
           "zerolinecolor": "white",
           "zerolinewidth": 2
          },
          "yaxis": {
           "automargin": true,
           "gridcolor": "white",
           "linecolor": "white",
           "ticks": "",
           "title": {
            "standoff": 15
           },
           "zerolinecolor": "white",
           "zerolinewidth": 2
          }
         }
        },
        "title": {
         "text": "Comparison of Melodic Range Ratings for Lullabies across Regions"
        },
        "xaxis": {
         "anchor": "y",
         "domain": [
          0,
          1
         ],
         "title": {
          "text": "Region"
         }
        },
        "yaxis": {
         "anchor": "x",
         "domain": [
          0,
          1
         ],
         "title": {
          "text": "Song_Count"
         }
        }
       }
      }
     },
     "metadata": {},
     "output_type": "display_data"
    }
   ],
   "source": [
    "# copy and prepare data\n",
    "regional_lullabies_plot_data = regional_lullabies.copy()\n",
    "regional_lullabies_plot_data['Melodic_Range'] = regional_lullabies_plot_data['Melodic_Range'].apply(lambda x: x[0])\n",
    "\n",
    "# plot\n",
    "fig = px.bar(regional_lullabies_plot_data, x=\"Region\", y=\"Song_Count\", color=\"Melodic_Range\",\n",
    "             category_orders={\"Melodic_Range\": sorted(set(regional_lullabies_plot_data['Melodic_Range']))},\n",
    "\t\t\t labels={'Melodic_Range': 'Melodic Range'},\n",
    "\t\t\t title=\"Comparison of Melodic Range Ratings for Lullabies across Regions\")\n",
    "\n",
    "# Show the figure\n",
    "fig.show()"
   ]
  },
  {
   "cell_type": "code",
   "execution_count": null,
   "metadata": {},
   "outputs": [],
   "source": []
  }
 ],
 "metadata": {
  "kernelspec": {
   "display_name": "intervals",
   "language": "python",
   "name": "python3"
  },
  "language_info": {
   "codemirror_mode": {
    "name": "ipython",
    "version": 3
   },
   "file_extension": ".py",
   "mimetype": "text/x-python",
   "name": "python",
   "nbconvert_exporter": "python",
   "pygments_lexer": "ipython3",
   "version": "3.10.14"
  }
 },
 "nbformat": 4,
 "nbformat_minor": 2
}

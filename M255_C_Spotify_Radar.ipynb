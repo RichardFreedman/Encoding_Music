{
 "cells": [
  {
   "cell_type": "markdown",
   "metadata": {
    "id": "6v3KxaNEb4rV"
   },
   "source": [
    "___________\n",
    "# **Music Data Analysis: Spotify API with Pandas, Altair, and NetworkX**\n",
    "\n",
    "This notebook illustrates several ways to operate Spotify API using Spotipy – a Python package designed to enable user-friendly (ish) interactions with Spotify's music metadata. In Part I of this notebook, we will use Spotipy and Pandas to **set up a DataFrame containing a collection of songs (tracks)** found by a playlist ID. Then, we will investigate ways to **visually represent and compare** this collection using Altair (Part II) and explore the basics of **network graph visualization** using Pyvis and NetworkX.\n",
    "\n",
    "You can learn more about these resources here:\n",
    "* [Spotify API](https://developer.spotify.com/documentation/web-api/)\n",
    "* [Spotipy](https://spotipy.readthedocs.io/en/master/#)\n",
    "* [Pandas](https://pandas.pydata.org/)\n",
    "* [Altair](https://altair-viz.github.io/)\n",
    "* [Pyvis](https://pyvis.readthedocs.io/en/latest/)\n",
    "* [NetworkX](https://networkx.org/)\n",
    "\n",
    "### Brief Introduction: Spotify, APIs, Spotify API\n",
    "\n",
    "As many of you know, **Spotify** is a paid music streaming web application launched in 2006. The service has about 182 million subscribers and hosts more than 70 million tracks. In 2014, Spotify released **Spotify API**, a web-based interface that allows anyone with a Spotify account to search, analyze, and manipulate Spotify's music metadata. In short, **an API** is a piece of software that enables two or more programs to talk to each other. You can learn more about APIs [here](https://en.wikipedia.org/wiki/API).\n",
    "\n",
    "Going through this notebook, you'll be able to request Spotify API access for your personal notebook and perform all sorts of analyses on the tracks, users, artists, albums, and playlists of your interest. While some of the material covered in this Notebook is very basic, some elements might seem quite puzzling. Please don't hesitate to reach out and ask questions.\n",
    "______"
   ]
  },
  {
   "cell_type": "markdown",
   "metadata": {
    "id": "ImFERGv_da1f"
   },
   "source": [
    "## **Part 1: Setting up**\n",
    "#### Step 1.1: Importing Python Libraries"
   ]
  },
  {
   "cell_type": "code",
   "execution_count": 8,
   "metadata": {
    "id": "J0sq_fZkn5bu"
   },
   "outputs": [],
   "source": [
    "import pandas as pd\n",
    "import numpy as np\n",
    "import random\n",
    "import altair as alt\n",
    "import requests\n",
    "import inspect\n",
    "import spotipy\n",
    "from spotipy.oauth2 import SpotifyClientCredentials\n",
    "import networkx as nx\n",
    "import networkx.algorithms.community as nx_comm\n",
    "import matplotlib.cm as cm\n",
    "import matplotlib.pyplot as plt\n",
    "import pyvis\n",
    "from pyvis import network as net\n",
    "from itertools import combinations\n",
    "from community import community_louvain\n",
    "from copy import deepcopy\n",
    "import plotly.graph_objects as go\n",
    "import plotly.offline as pyo"
   ]
  },
  {
   "cell_type": "markdown",
   "metadata": {
    "id": "Sy8V7SUQc4GQ"
   },
   "source": [
    "#### Step 1.2: Providing User Credentials\n",
    "\n",
    "\n",
    "In order to utilize the functionality of Spotify's API, you'll need to establish a connection between the local endpoint (your laptop) and the API (cloud). To do that, you'll need to create a **web client** (read more [here](https://en.wikipedia.org/wiki/Client_(computing))).\n",
    "\n",
    "A web client typically requires authentication parameters **(key and secret)**. Spotify API uses OAuth2.0 authorization scheme. As we don't want to trouble you with setting up your own tokens, we have created one common set of login credentials for this course. You can learn more about authentication [here](https://en.wikipedia.org/wiki/OAuth).\n",
    "\n",
    "Please find the tokens below:"
   ]
  },
  {
   "cell_type": "code",
   "execution_count": 2,
   "metadata": {
    "id": "vkLBlIayb35S"
   },
   "outputs": [],
   "source": [
    "# storing the credentials:\n",
    "CLIENT_ID = \"116bae2a86fd4737862816c5f45d4c36\"\n",
    "CLIENT_SECRET = \"4f4a732d83d04cfa94acc26d2b77169f\"\n",
    "my_username = \"sx47r9lq4dwrjx1r0ct9f9m09\"\n",
    "\n",
    "# instantiating the client\n",
    "# source: Max Hilsdorf (https://towardsdatascience.com/how-to-create-large-music-datasets-using-spotipy-40e7242cc6a6)\n",
    "client_credentials_manager = SpotifyClientCredentials(client_id=CLIENT_ID, client_secret=CLIENT_SECRET)\n",
    "sp = spotipy.Spotify(client_credentials_manager=client_credentials_manager)"
   ]
  },
  {
   "cell_type": "markdown",
   "metadata": {
    "id": "lZansqNwdUPx"
   },
   "source": [
    "At this point, you should be perfectly able to access the API! Hence, we move on to scraping and analyzing music metadata."
   ]
  },
  {
   "cell_type": "markdown",
   "metadata": {
    "id": "H23n1XqrdZhG"
   },
   "source": [
    "----------\n",
    "## **Part 2: Analyzing Playlists**\n",
    "\n",
    "### Step 2.1: Obtaining Data"
   ]
  },
  {
   "cell_type": "markdown",
   "metadata": {
    "id": "UJvRL0UpeFV2"
   },
   "source": [
    "We can **get tracks in a playlist** of a user using the *sp.user_playlist_tracks(username, playlist)* method and turning it into a Pandas DataFrame. The two parameters we need for this are **user ID** and **playlist ID**; they can be easily found on the Spotify website or in the Spotify app. Just look in the URL bar and copy the IDs as Strings.\n",
    "\n",
    "In this we are using the following data:\n",
    "* \"sx47r9lq4dwrjx1r0ct9f9m09\": Oleh's **Spotify User ID**. Typically, a Spotify ID is formatted somewhat nicer (e.g. \"barackobama\" but Oleh somehow messed his up...\n",
    "* \"7KfWEjHxpcOIkqvDqMW5RV\": the **Playlist ID** for one of Oleh's playlists. \n",
    "\n",
    "Both playlist ID and User ID **can be found in a web browser** when accessing the User's or Playlist's webpage.\n",
    "\n",
    "* for example, Oleh's Spotify User page can be found at: \"https://open.spotify.com/user/sx47r9lq4dwrjx1r0ct9f9m09\", and you can see that the User ID is what follows ater \"...user/\", meaning \"sx47r9lq4dwrjx1r0ct9f9m09\"\n",
    "* for example, Spotify's featured Pop Mix playlist can be found at: \"https://open.spotify.com/playlist/37i9dQZF1EQncLwOalG3K7\", and you can find the Playlist ID ater \"...playlist/\", meaning \"37i9dQZF1EQncLwOalG3K7\""
   ]
  },
  {
   "cell_type": "code",
   "execution_count": 4,
   "metadata": {
    "colab": {
     "base_uri": "https://localhost:8080/",
     "height": 551
    },
    "id": "8YlTIyS9uXR-",
    "outputId": "96bd66cc-2833-4ea7-8845-a62209cac2a7"
   },
   "outputs": [],
   "source": [
    "# playlist_tracks(user_id: String, playlist_id: String): json_dict\n",
    "playlist_tracks = pd.DataFrame(sp.user_playlist_tracks(\"sx47r9lq4dwrjx1r0ct9f9m09\", \"7KfWEjHxpcOIkqvDqMW5RV\"))\n",
    "# playlist_tracks"
   ]
  },
  {
   "cell_type": "markdown",
   "metadata": {
    "id": "TzSVH6dJpaBM"
   },
   "source": [
    "We can take a look at an **individual track** here:"
   ]
  },
  {
   "cell_type": "markdown",
   "metadata": {},
   "source": [
    "As you can see, each track has **a large number of recorded audio features**. These are typically generated by Spotify and cover various musical aspects, ranging from Loudness to Liveness, from Danceability to Duration, and from Tempo to Time Signature. The feature values are of different **data types**: \"key\" is an **Integer**, \"energy\" is a **Float**, \"id\" is a **String**, and \"mode\" is a **Boolean** represented as Integer. As you work your way through this notebook, you will discover many options to count, bin, sort, graph, and connect variables and values of different types.\n",
    "\n",
    "Consider the function below (courtesy of Max Hilsdorf), which can help us **loop through the items of a playlist and get every track's [audio] features of interest**:"
   ]
  },
  {
   "cell_type": "code",
   "execution_count": 5,
   "metadata": {
    "id": "x7Cz453aiOoO"
   },
   "outputs": [],
   "source": [
    "# This function is created based on Max Hilsdorf's article\n",
    "# Source: https://towardsdatascience.com/how-to-create-large-music-datasets-using-spotipy-40e7242cc6a6\n",
    "def get_audio_features_df(playlist):\n",
    "    \n",
    "    # Create an empty dataframe\n",
    "    playlist_features_list = [\"artist\", \"album\", \"track_name\", \"track_id\",\"danceability\",\"energy\",\"key\",\"loudness\",\"mode\", \"speechiness\",\"instrumentalness\",\"liveness\",\"valence\",\"tempo\", \"duration_ms\",\"time_signature\"]\n",
    "    playlist_df = pd.DataFrame(columns = playlist_features_list)\n",
    "    \n",
    "    # Loop through every track in the playlist, extract features and append the features to the playlist df\n",
    "    for track in playlist[\"items\"]:\n",
    "        # Create empty dict\n",
    "        playlist_features = {}\n",
    "        # Get metadata\n",
    "        playlist_features[\"artist\"] = track[\"track\"][\"album\"][\"artists\"][0][\"name\"]\n",
    "        playlist_features[\"album\"] = track[\"track\"][\"album\"][\"name\"]\n",
    "        playlist_features[\"track_name\"] = track[\"track\"][\"name\"]\n",
    "        playlist_features[\"track_id\"] = track[\"track\"][\"id\"]\n",
    "        \n",
    "        # Get audio features\n",
    "        audio_features = sp.audio_features(playlist_features[\"track_id\"])[0]\n",
    "        for feature in playlist_features_list[4:]:\n",
    "            playlist_features[feature] = audio_features[feature]\n",
    "        \n",
    "        # Concat the DataFrames\n",
    "        track_df = pd.DataFrame(playlist_features, index = [0])\n",
    "        playlist_df = pd.concat([playlist_df, track_df], ignore_index = True)\n",
    "        \n",
    "    return playlist_df"
   ]
  },
  {
   "cell_type": "markdown",
   "metadata": {},
   "source": [
    "Note: the **@playlist parameter** (that is passed in to the get_audio_features_df() method) should be a **DataFrame consisting of several track objects**. In our case, we have one such collection stored in **playlist_tracks**, which we got from calling sp.user_playlist_tracks() on a playlist and storing it as a Pandas DataFrame. \n",
    "\n",
    "Hence, we run the get_audio_features_df() method on our collection to obtain the **audio features DataFrame** for the tracks in **playlist_tracks**."
   ]
  },
  {
   "cell_type": "code",
   "execution_count": 14,
   "metadata": {
    "colab": {
     "base_uri": "https://localhost:8080/",
     "height": 997
    },
    "id": "XGeTvyWRjFod",
    "outputId": "03703c93-84be-4801-970f-06fbeae7899b"
   },
   "outputs": [
    {
     "data": {
      "text/plain": [
       "16"
      ]
     },
     "execution_count": 14,
     "metadata": {},
     "output_type": "execute_result"
    }
   ],
   "source": [
    "audio_features_df = get_audio_features_df(playlist_tracks)\n",
    "len(audio_features_df)"
   ]
  },
  {
   "cell_type": "markdown",
   "metadata": {},
   "source": [
    "As you can see above, our new DataFrame contains **Spotify's audio features for every track in the provided playlist**.\n",
    "\n",
    "### Step 2.2: Charting Data with Radar Plot\n",
    "\n",
    ">`import plotly.graph_objects as go\n",
    "import plotly.offline as pyo\n",
    "length = len(audio_features_df)\n",
    "input_data = audio_features_df.sample(length).copy()\n",
    "feature_columns = [\"danceability\", \"energy\", \"speechiness\", \"liveness\",\"danceability\"]\n",
    "def createRadarElement(row, feature_cols):\n",
    "    return go.Scatterpolar(\n",
    "        r = row[feature_cols].values.tolist(), \n",
    "        theta = feature_cols, \n",
    "        mode = 'lines', \n",
    "        name = row['track_name'])\n",
    "data = list(input_data.apply(createRadarElement, axis=1, args=(feature_columns, )))  \n",
    "fig = go.Figure(data, )\n",
    "fig.show()`\n",
    "\n"
   ]
  },
  {
   "cell_type": "code",
   "execution_count": 17,
   "metadata": {},
   "outputs": [
    {
     "data": {
      "application/vnd.plotly.v1+json": {
       "config": {
        "plotlyServerURL": "https://plot.ly"
       },
       "data": [
        {
         "mode": "lines",
         "name": "It Wasn't Me",
         "r": [
          0.852,
          0.604,
          0.0642,
          0.327,
          0,
          0.327,
          0.667,
          0.852
         ],
         "theta": [
          "danceability",
          "energy",
          "speechiness",
          "liveness",
          "instrumentalness",
          "liveness",
          "valence",
          "danceability"
         ],
         "type": "scatterpolar"
        },
        {
         "mode": "lines",
         "name": "Funky Kingston",
         "r": [
          0.777,
          0.458,
          0.0841,
          0.0423,
          0.00295,
          0.0423,
          0.961,
          0.777
         ],
         "theta": [
          "danceability",
          "energy",
          "speechiness",
          "liveness",
          "instrumentalness",
          "liveness",
          "valence",
          "danceability"
         ],
         "type": "scatterpolar"
        },
        {
         "mode": "lines",
         "name": "Sure Shot",
         "r": [
          0.692,
          0.799,
          0.164,
          0.301,
          0,
          0.301,
          0.549,
          0.692
         ],
         "theta": [
          "danceability",
          "energy",
          "speechiness",
          "liveness",
          "instrumentalness",
          "liveness",
          "valence",
          "danceability"
         ],
         "type": "scatterpolar"
        },
        {
         "mode": "lines",
         "name": "Follow Follow",
         "r": [
          0.803,
          0.882,
          0.413,
          0.359,
          1.06e-05,
          0.359,
          0.804,
          0.803
         ],
         "theta": [
          "danceability",
          "energy",
          "speechiness",
          "liveness",
          "instrumentalness",
          "liveness",
          "valence",
          "danceability"
         ],
         "type": "scatterpolar"
        },
        {
         "mode": "lines",
         "name": "Straight Outta Compton",
         "r": [
          0.779,
          0.984,
          0.212,
          0.534,
          0,
          0.534,
          0.402,
          0.779
         ],
         "theta": [
          "danceability",
          "energy",
          "speechiness",
          "liveness",
          "instrumentalness",
          "liveness",
          "valence",
          "danceability"
         ],
         "type": "scatterpolar"
        },
        {
         "mode": "lines",
         "name": "Boombastic",
         "r": [
          0.867,
          0.538,
          0.361,
          0.316,
          1.75e-05,
          0.316,
          0.781,
          0.867
         ],
         "theta": [
          "danceability",
          "energy",
          "speechiness",
          "liveness",
          "instrumentalness",
          "liveness",
          "valence",
          "danceability"
         ],
         "type": "scatterpolar"
        },
        {
         "mode": "lines",
         "name": "Ice Ice Baby - Radio Edit",
         "r": [
          0.977,
          0.488,
          0.12,
          0.0826,
          0,
          0.0826,
          0.77,
          0.977
         ],
         "theta": [
          "danceability",
          "energy",
          "speechiness",
          "liveness",
          "instrumentalness",
          "liveness",
          "valence",
          "danceability"
         ],
         "type": "scatterpolar"
        },
        {
         "mode": "lines",
         "name": "In The Summertime",
         "r": [
          0.734,
          0.684,
          0.227,
          0.0497,
          0,
          0.0497,
          0.962,
          0.734
         ],
         "theta": [
          "danceability",
          "energy",
          "speechiness",
          "liveness",
          "instrumentalness",
          "liveness",
          "valence",
          "danceability"
         ],
         "type": "scatterpolar"
        },
        {
         "mode": "lines",
         "name": "Colt 40ty Fiva",
         "r": [
          0.666,
          0.751,
          0.216,
          0.294,
          0,
          0.294,
          0.607,
          0.666
         ],
         "theta": [
          "danceability",
          "energy",
          "speechiness",
          "liveness",
          "instrumentalness",
          "liveness",
          "valence",
          "danceability"
         ],
         "type": "scatterpolar"
        },
        {
         "mode": "lines",
         "name": "No Diggity",
         "r": [
          0.867,
          0.646,
          0.288,
          0.279,
          0,
          0.279,
          0.67,
          0.867
         ],
         "theta": [
          "danceability",
          "energy",
          "speechiness",
          "liveness",
          "instrumentalness",
          "liveness",
          "valence",
          "danceability"
         ],
         "type": "scatterpolar"
        },
        {
         "mode": "lines",
         "name": "Play That Funky Music",
         "r": [
          0.851,
          0.514,
          0.165,
          0.381,
          3.58e-06,
          0.381,
          0.573,
          0.851
         ],
         "theta": [
          "danceability",
          "energy",
          "speechiness",
          "liveness",
          "instrumentalness",
          "liveness",
          "valence",
          "danceability"
         ],
         "type": "scatterpolar"
        },
        {
         "mode": "lines",
         "name": "Shoop",
         "r": [
          0.939,
          0.675,
          0.211,
          0.0565,
          0,
          0.0565,
          0.795,
          0.939
         ],
         "theta": [
          "danceability",
          "energy",
          "speechiness",
          "liveness",
          "instrumentalness",
          "liveness",
          "valence",
          "danceability"
         ],
         "type": "scatterpolar"
        },
        {
         "mode": "lines",
         "name": "Jump Around",
         "r": [
          0.854,
          0.71,
          0.0793,
          0.166,
          8.72e-05,
          0.166,
          0.818,
          0.854
         ],
         "theta": [
          "danceability",
          "energy",
          "speechiness",
          "liveness",
          "instrumentalness",
          "liveness",
          "valence",
          "danceability"
         ],
         "type": "scatterpolar"
        },
        {
         "mode": "lines",
         "name": "Hip Hop Hooray",
         "r": [
          0.862,
          0.642,
          0.101,
          0.272,
          0,
          0.272,
          0.765,
          0.862
         ],
         "theta": [
          "danceability",
          "energy",
          "speechiness",
          "liveness",
          "instrumentalness",
          "liveness",
          "valence",
          "danceability"
         ],
         "type": "scatterpolar"
        },
        {
         "mode": "lines",
         "name": "Crazy Rap (Colt 45 & 2 Zig Zags)",
         "r": [
          0.927,
          0.367,
          0.382,
          0.132,
          0,
          0.132,
          0.576,
          0.927
         ],
         "theta": [
          "danceability",
          "energy",
          "speechiness",
          "liveness",
          "instrumentalness",
          "liveness",
          "valence",
          "danceability"
         ],
         "type": "scatterpolar"
        },
        {
         "mode": "lines",
         "name": "Here Comes the Hotstepper - Heartical Mix",
         "r": [
          0.889,
          0.454,
          0.221,
          0.203,
          0.000186,
          0.203,
          0.436,
          0.889
         ],
         "theta": [
          "danceability",
          "energy",
          "speechiness",
          "liveness",
          "instrumentalness",
          "liveness",
          "valence",
          "danceability"
         ],
         "type": "scatterpolar"
        }
       ],
       "layout": {
        "template": {
         "data": {
          "bar": [
           {
            "error_x": {
             "color": "#2a3f5f"
            },
            "error_y": {
             "color": "#2a3f5f"
            },
            "marker": {
             "line": {
              "color": "#E5ECF6",
              "width": 0.5
             },
             "pattern": {
              "fillmode": "overlay",
              "size": 10,
              "solidity": 0.2
             }
            },
            "type": "bar"
           }
          ],
          "barpolar": [
           {
            "marker": {
             "line": {
              "color": "#E5ECF6",
              "width": 0.5
             },
             "pattern": {
              "fillmode": "overlay",
              "size": 10,
              "solidity": 0.2
             }
            },
            "type": "barpolar"
           }
          ],
          "carpet": [
           {
            "aaxis": {
             "endlinecolor": "#2a3f5f",
             "gridcolor": "white",
             "linecolor": "white",
             "minorgridcolor": "white",
             "startlinecolor": "#2a3f5f"
            },
            "baxis": {
             "endlinecolor": "#2a3f5f",
             "gridcolor": "white",
             "linecolor": "white",
             "minorgridcolor": "white",
             "startlinecolor": "#2a3f5f"
            },
            "type": "carpet"
           }
          ],
          "choropleth": [
           {
            "colorbar": {
             "outlinewidth": 0,
             "ticks": ""
            },
            "type": "choropleth"
           }
          ],
          "contour": [
           {
            "colorbar": {
             "outlinewidth": 0,
             "ticks": ""
            },
            "colorscale": [
             [
              0,
              "#0d0887"
             ],
             [
              0.1111111111111111,
              "#46039f"
             ],
             [
              0.2222222222222222,
              "#7201a8"
             ],
             [
              0.3333333333333333,
              "#9c179e"
             ],
             [
              0.4444444444444444,
              "#bd3786"
             ],
             [
              0.5555555555555556,
              "#d8576b"
             ],
             [
              0.6666666666666666,
              "#ed7953"
             ],
             [
              0.7777777777777778,
              "#fb9f3a"
             ],
             [
              0.8888888888888888,
              "#fdca26"
             ],
             [
              1,
              "#f0f921"
             ]
            ],
            "type": "contour"
           }
          ],
          "contourcarpet": [
           {
            "colorbar": {
             "outlinewidth": 0,
             "ticks": ""
            },
            "type": "contourcarpet"
           }
          ],
          "heatmap": [
           {
            "colorbar": {
             "outlinewidth": 0,
             "ticks": ""
            },
            "colorscale": [
             [
              0,
              "#0d0887"
             ],
             [
              0.1111111111111111,
              "#46039f"
             ],
             [
              0.2222222222222222,
              "#7201a8"
             ],
             [
              0.3333333333333333,
              "#9c179e"
             ],
             [
              0.4444444444444444,
              "#bd3786"
             ],
             [
              0.5555555555555556,
              "#d8576b"
             ],
             [
              0.6666666666666666,
              "#ed7953"
             ],
             [
              0.7777777777777778,
              "#fb9f3a"
             ],
             [
              0.8888888888888888,
              "#fdca26"
             ],
             [
              1,
              "#f0f921"
             ]
            ],
            "type": "heatmap"
           }
          ],
          "heatmapgl": [
           {
            "colorbar": {
             "outlinewidth": 0,
             "ticks": ""
            },
            "colorscale": [
             [
              0,
              "#0d0887"
             ],
             [
              0.1111111111111111,
              "#46039f"
             ],
             [
              0.2222222222222222,
              "#7201a8"
             ],
             [
              0.3333333333333333,
              "#9c179e"
             ],
             [
              0.4444444444444444,
              "#bd3786"
             ],
             [
              0.5555555555555556,
              "#d8576b"
             ],
             [
              0.6666666666666666,
              "#ed7953"
             ],
             [
              0.7777777777777778,
              "#fb9f3a"
             ],
             [
              0.8888888888888888,
              "#fdca26"
             ],
             [
              1,
              "#f0f921"
             ]
            ],
            "type": "heatmapgl"
           }
          ],
          "histogram": [
           {
            "marker": {
             "pattern": {
              "fillmode": "overlay",
              "size": 10,
              "solidity": 0.2
             }
            },
            "type": "histogram"
           }
          ],
          "histogram2d": [
           {
            "colorbar": {
             "outlinewidth": 0,
             "ticks": ""
            },
            "colorscale": [
             [
              0,
              "#0d0887"
             ],
             [
              0.1111111111111111,
              "#46039f"
             ],
             [
              0.2222222222222222,
              "#7201a8"
             ],
             [
              0.3333333333333333,
              "#9c179e"
             ],
             [
              0.4444444444444444,
              "#bd3786"
             ],
             [
              0.5555555555555556,
              "#d8576b"
             ],
             [
              0.6666666666666666,
              "#ed7953"
             ],
             [
              0.7777777777777778,
              "#fb9f3a"
             ],
             [
              0.8888888888888888,
              "#fdca26"
             ],
             [
              1,
              "#f0f921"
             ]
            ],
            "type": "histogram2d"
           }
          ],
          "histogram2dcontour": [
           {
            "colorbar": {
             "outlinewidth": 0,
             "ticks": ""
            },
            "colorscale": [
             [
              0,
              "#0d0887"
             ],
             [
              0.1111111111111111,
              "#46039f"
             ],
             [
              0.2222222222222222,
              "#7201a8"
             ],
             [
              0.3333333333333333,
              "#9c179e"
             ],
             [
              0.4444444444444444,
              "#bd3786"
             ],
             [
              0.5555555555555556,
              "#d8576b"
             ],
             [
              0.6666666666666666,
              "#ed7953"
             ],
             [
              0.7777777777777778,
              "#fb9f3a"
             ],
             [
              0.8888888888888888,
              "#fdca26"
             ],
             [
              1,
              "#f0f921"
             ]
            ],
            "type": "histogram2dcontour"
           }
          ],
          "mesh3d": [
           {
            "colorbar": {
             "outlinewidth": 0,
             "ticks": ""
            },
            "type": "mesh3d"
           }
          ],
          "parcoords": [
           {
            "line": {
             "colorbar": {
              "outlinewidth": 0,
              "ticks": ""
             }
            },
            "type": "parcoords"
           }
          ],
          "pie": [
           {
            "automargin": true,
            "type": "pie"
           }
          ],
          "scatter": [
           {
            "marker": {
             "colorbar": {
              "outlinewidth": 0,
              "ticks": ""
             }
            },
            "type": "scatter"
           }
          ],
          "scatter3d": [
           {
            "line": {
             "colorbar": {
              "outlinewidth": 0,
              "ticks": ""
             }
            },
            "marker": {
             "colorbar": {
              "outlinewidth": 0,
              "ticks": ""
             }
            },
            "type": "scatter3d"
           }
          ],
          "scattercarpet": [
           {
            "marker": {
             "colorbar": {
              "outlinewidth": 0,
              "ticks": ""
             }
            },
            "type": "scattercarpet"
           }
          ],
          "scattergeo": [
           {
            "marker": {
             "colorbar": {
              "outlinewidth": 0,
              "ticks": ""
             }
            },
            "type": "scattergeo"
           }
          ],
          "scattergl": [
           {
            "marker": {
             "colorbar": {
              "outlinewidth": 0,
              "ticks": ""
             }
            },
            "type": "scattergl"
           }
          ],
          "scattermapbox": [
           {
            "marker": {
             "colorbar": {
              "outlinewidth": 0,
              "ticks": ""
             }
            },
            "type": "scattermapbox"
           }
          ],
          "scatterpolar": [
           {
            "marker": {
             "colorbar": {
              "outlinewidth": 0,
              "ticks": ""
             }
            },
            "type": "scatterpolar"
           }
          ],
          "scatterpolargl": [
           {
            "marker": {
             "colorbar": {
              "outlinewidth": 0,
              "ticks": ""
             }
            },
            "type": "scatterpolargl"
           }
          ],
          "scatterternary": [
           {
            "marker": {
             "colorbar": {
              "outlinewidth": 0,
              "ticks": ""
             }
            },
            "type": "scatterternary"
           }
          ],
          "surface": [
           {
            "colorbar": {
             "outlinewidth": 0,
             "ticks": ""
            },
            "colorscale": [
             [
              0,
              "#0d0887"
             ],
             [
              0.1111111111111111,
              "#46039f"
             ],
             [
              0.2222222222222222,
              "#7201a8"
             ],
             [
              0.3333333333333333,
              "#9c179e"
             ],
             [
              0.4444444444444444,
              "#bd3786"
             ],
             [
              0.5555555555555556,
              "#d8576b"
             ],
             [
              0.6666666666666666,
              "#ed7953"
             ],
             [
              0.7777777777777778,
              "#fb9f3a"
             ],
             [
              0.8888888888888888,
              "#fdca26"
             ],
             [
              1,
              "#f0f921"
             ]
            ],
            "type": "surface"
           }
          ],
          "table": [
           {
            "cells": {
             "fill": {
              "color": "#EBF0F8"
             },
             "line": {
              "color": "white"
             }
            },
            "header": {
             "fill": {
              "color": "#C8D4E3"
             },
             "line": {
              "color": "white"
             }
            },
            "type": "table"
           }
          ]
         },
         "layout": {
          "annotationdefaults": {
           "arrowcolor": "#2a3f5f",
           "arrowhead": 0,
           "arrowwidth": 1
          },
          "autotypenumbers": "strict",
          "coloraxis": {
           "colorbar": {
            "outlinewidth": 0,
            "ticks": ""
           }
          },
          "colorscale": {
           "diverging": [
            [
             0,
             "#8e0152"
            ],
            [
             0.1,
             "#c51b7d"
            ],
            [
             0.2,
             "#de77ae"
            ],
            [
             0.3,
             "#f1b6da"
            ],
            [
             0.4,
             "#fde0ef"
            ],
            [
             0.5,
             "#f7f7f7"
            ],
            [
             0.6,
             "#e6f5d0"
            ],
            [
             0.7,
             "#b8e186"
            ],
            [
             0.8,
             "#7fbc41"
            ],
            [
             0.9,
             "#4d9221"
            ],
            [
             1,
             "#276419"
            ]
           ],
           "sequential": [
            [
             0,
             "#0d0887"
            ],
            [
             0.1111111111111111,
             "#46039f"
            ],
            [
             0.2222222222222222,
             "#7201a8"
            ],
            [
             0.3333333333333333,
             "#9c179e"
            ],
            [
             0.4444444444444444,
             "#bd3786"
            ],
            [
             0.5555555555555556,
             "#d8576b"
            ],
            [
             0.6666666666666666,
             "#ed7953"
            ],
            [
             0.7777777777777778,
             "#fb9f3a"
            ],
            [
             0.8888888888888888,
             "#fdca26"
            ],
            [
             1,
             "#f0f921"
            ]
           ],
           "sequentialminus": [
            [
             0,
             "#0d0887"
            ],
            [
             0.1111111111111111,
             "#46039f"
            ],
            [
             0.2222222222222222,
             "#7201a8"
            ],
            [
             0.3333333333333333,
             "#9c179e"
            ],
            [
             0.4444444444444444,
             "#bd3786"
            ],
            [
             0.5555555555555556,
             "#d8576b"
            ],
            [
             0.6666666666666666,
             "#ed7953"
            ],
            [
             0.7777777777777778,
             "#fb9f3a"
            ],
            [
             0.8888888888888888,
             "#fdca26"
            ],
            [
             1,
             "#f0f921"
            ]
           ]
          },
          "colorway": [
           "#636efa",
           "#EF553B",
           "#00cc96",
           "#ab63fa",
           "#FFA15A",
           "#19d3f3",
           "#FF6692",
           "#B6E880",
           "#FF97FF",
           "#FECB52"
          ],
          "font": {
           "color": "#2a3f5f"
          },
          "geo": {
           "bgcolor": "white",
           "lakecolor": "white",
           "landcolor": "#E5ECF6",
           "showlakes": true,
           "showland": true,
           "subunitcolor": "white"
          },
          "hoverlabel": {
           "align": "left"
          },
          "hovermode": "closest",
          "mapbox": {
           "style": "light"
          },
          "paper_bgcolor": "white",
          "plot_bgcolor": "#E5ECF6",
          "polar": {
           "angularaxis": {
            "gridcolor": "white",
            "linecolor": "white",
            "ticks": ""
           },
           "bgcolor": "#E5ECF6",
           "radialaxis": {
            "gridcolor": "white",
            "linecolor": "white",
            "ticks": ""
           }
          },
          "scene": {
           "xaxis": {
            "backgroundcolor": "#E5ECF6",
            "gridcolor": "white",
            "gridwidth": 2,
            "linecolor": "white",
            "showbackground": true,
            "ticks": "",
            "zerolinecolor": "white"
           },
           "yaxis": {
            "backgroundcolor": "#E5ECF6",
            "gridcolor": "white",
            "gridwidth": 2,
            "linecolor": "white",
            "showbackground": true,
            "ticks": "",
            "zerolinecolor": "white"
           },
           "zaxis": {
            "backgroundcolor": "#E5ECF6",
            "gridcolor": "white",
            "gridwidth": 2,
            "linecolor": "white",
            "showbackground": true,
            "ticks": "",
            "zerolinecolor": "white"
           }
          },
          "shapedefaults": {
           "line": {
            "color": "#2a3f5f"
           }
          },
          "ternary": {
           "aaxis": {
            "gridcolor": "white",
            "linecolor": "white",
            "ticks": ""
           },
           "baxis": {
            "gridcolor": "white",
            "linecolor": "white",
            "ticks": ""
           },
           "bgcolor": "#E5ECF6",
           "caxis": {
            "gridcolor": "white",
            "linecolor": "white",
            "ticks": ""
           }
          },
          "title": {
           "x": 0.05
          },
          "xaxis": {
           "automargin": true,
           "gridcolor": "white",
           "linecolor": "white",
           "ticks": "",
           "title": {
            "standoff": 15
           },
           "zerolinecolor": "white",
           "zerolinewidth": 2
          },
          "yaxis": {
           "automargin": true,
           "gridcolor": "white",
           "linecolor": "white",
           "ticks": "",
           "title": {
            "standoff": 15
           },
           "zerolinecolor": "white",
           "zerolinewidth": 2
          }
         }
        }
       }
      },
      "text/html": [
       "<div>                            <div id=\"4da582cf-106e-46ad-ba7c-bd2f6891faa2\" class=\"plotly-graph-div\" style=\"height:525px; width:100%;\"></div>            <script type=\"text/javascript\">                require([\"plotly\"], function(Plotly) {                    window.PLOTLYENV=window.PLOTLYENV || {};                                    if (document.getElementById(\"4da582cf-106e-46ad-ba7c-bd2f6891faa2\")) {                    Plotly.newPlot(                        \"4da582cf-106e-46ad-ba7c-bd2f6891faa2\",                        [{\"mode\":\"lines\",\"name\":\"It Wasn't Me\",\"r\":[0.852,0.604,0.0642,0.327,0.0,0.327,0.667,0.852],\"theta\":[\"danceability\",\"energy\",\"speechiness\",\"liveness\",\"instrumentalness\",\"liveness\",\"valence\",\"danceability\"],\"type\":\"scatterpolar\"},{\"mode\":\"lines\",\"name\":\"Funky Kingston\",\"r\":[0.777,0.458,0.0841,0.0423,0.00295,0.0423,0.961,0.777],\"theta\":[\"danceability\",\"energy\",\"speechiness\",\"liveness\",\"instrumentalness\",\"liveness\",\"valence\",\"danceability\"],\"type\":\"scatterpolar\"},{\"mode\":\"lines\",\"name\":\"Sure Shot\",\"r\":[0.692,0.799,0.164,0.301,0.0,0.301,0.549,0.692],\"theta\":[\"danceability\",\"energy\",\"speechiness\",\"liveness\",\"instrumentalness\",\"liveness\",\"valence\",\"danceability\"],\"type\":\"scatterpolar\"},{\"mode\":\"lines\",\"name\":\"Follow Follow\",\"r\":[0.803,0.882,0.413,0.359,1.06e-05,0.359,0.804,0.803],\"theta\":[\"danceability\",\"energy\",\"speechiness\",\"liveness\",\"instrumentalness\",\"liveness\",\"valence\",\"danceability\"],\"type\":\"scatterpolar\"},{\"mode\":\"lines\",\"name\":\"Straight Outta Compton\",\"r\":[0.779,0.984,0.212,0.534,0.0,0.534,0.402,0.779],\"theta\":[\"danceability\",\"energy\",\"speechiness\",\"liveness\",\"instrumentalness\",\"liveness\",\"valence\",\"danceability\"],\"type\":\"scatterpolar\"},{\"mode\":\"lines\",\"name\":\"Boombastic\",\"r\":[0.867,0.538,0.361,0.316,1.75e-05,0.316,0.781,0.867],\"theta\":[\"danceability\",\"energy\",\"speechiness\",\"liveness\",\"instrumentalness\",\"liveness\",\"valence\",\"danceability\"],\"type\":\"scatterpolar\"},{\"mode\":\"lines\",\"name\":\"Ice Ice Baby - Radio Edit\",\"r\":[0.977,0.488,0.12,0.0826,0.0,0.0826,0.77,0.977],\"theta\":[\"danceability\",\"energy\",\"speechiness\",\"liveness\",\"instrumentalness\",\"liveness\",\"valence\",\"danceability\"],\"type\":\"scatterpolar\"},{\"mode\":\"lines\",\"name\":\"In The Summertime\",\"r\":[0.734,0.684,0.227,0.0497,0.0,0.0497,0.962,0.734],\"theta\":[\"danceability\",\"energy\",\"speechiness\",\"liveness\",\"instrumentalness\",\"liveness\",\"valence\",\"danceability\"],\"type\":\"scatterpolar\"},{\"mode\":\"lines\",\"name\":\"Colt 40ty Fiva\",\"r\":[0.666,0.751,0.216,0.294,0.0,0.294,0.607,0.666],\"theta\":[\"danceability\",\"energy\",\"speechiness\",\"liveness\",\"instrumentalness\",\"liveness\",\"valence\",\"danceability\"],\"type\":\"scatterpolar\"},{\"mode\":\"lines\",\"name\":\"No Diggity\",\"r\":[0.867,0.646,0.288,0.279,0.0,0.279,0.67,0.867],\"theta\":[\"danceability\",\"energy\",\"speechiness\",\"liveness\",\"instrumentalness\",\"liveness\",\"valence\",\"danceability\"],\"type\":\"scatterpolar\"},{\"mode\":\"lines\",\"name\":\"Play That Funky Music\",\"r\":[0.851,0.514,0.165,0.381,3.58e-06,0.381,0.573,0.851],\"theta\":[\"danceability\",\"energy\",\"speechiness\",\"liveness\",\"instrumentalness\",\"liveness\",\"valence\",\"danceability\"],\"type\":\"scatterpolar\"},{\"mode\":\"lines\",\"name\":\"Shoop\",\"r\":[0.939,0.675,0.211,0.0565,0.0,0.0565,0.795,0.939],\"theta\":[\"danceability\",\"energy\",\"speechiness\",\"liveness\",\"instrumentalness\",\"liveness\",\"valence\",\"danceability\"],\"type\":\"scatterpolar\"},{\"mode\":\"lines\",\"name\":\"Jump Around\",\"r\":[0.854,0.71,0.0793,0.166,8.72e-05,0.166,0.818,0.854],\"theta\":[\"danceability\",\"energy\",\"speechiness\",\"liveness\",\"instrumentalness\",\"liveness\",\"valence\",\"danceability\"],\"type\":\"scatterpolar\"},{\"mode\":\"lines\",\"name\":\"Hip Hop Hooray\",\"r\":[0.862,0.642,0.101,0.272,0.0,0.272,0.765,0.862],\"theta\":[\"danceability\",\"energy\",\"speechiness\",\"liveness\",\"instrumentalness\",\"liveness\",\"valence\",\"danceability\"],\"type\":\"scatterpolar\"},{\"mode\":\"lines\",\"name\":\"Crazy Rap (Colt 45 & 2 Zig Zags)\",\"r\":[0.927,0.367,0.382,0.132,0.0,0.132,0.576,0.927],\"theta\":[\"danceability\",\"energy\",\"speechiness\",\"liveness\",\"instrumentalness\",\"liveness\",\"valence\",\"danceability\"],\"type\":\"scatterpolar\"},{\"mode\":\"lines\",\"name\":\"Here Comes the Hotstepper - Heartical Mix\",\"r\":[0.889,0.454,0.221,0.203,0.000186,0.203,0.436,0.889],\"theta\":[\"danceability\",\"energy\",\"speechiness\",\"liveness\",\"instrumentalness\",\"liveness\",\"valence\",\"danceability\"],\"type\":\"scatterpolar\"}],                        {\"template\":{\"data\":{\"bar\":[{\"error_x\":{\"color\":\"#2a3f5f\"},\"error_y\":{\"color\":\"#2a3f5f\"},\"marker\":{\"line\":{\"color\":\"#E5ECF6\",\"width\":0.5},\"pattern\":{\"fillmode\":\"overlay\",\"size\":10,\"solidity\":0.2}},\"type\":\"bar\"}],\"barpolar\":[{\"marker\":{\"line\":{\"color\":\"#E5ECF6\",\"width\":0.5},\"pattern\":{\"fillmode\":\"overlay\",\"size\":10,\"solidity\":0.2}},\"type\":\"barpolar\"}],\"carpet\":[{\"aaxis\":{\"endlinecolor\":\"#2a3f5f\",\"gridcolor\":\"white\",\"linecolor\":\"white\",\"minorgridcolor\":\"white\",\"startlinecolor\":\"#2a3f5f\"},\"baxis\":{\"endlinecolor\":\"#2a3f5f\",\"gridcolor\":\"white\",\"linecolor\":\"white\",\"minorgridcolor\":\"white\",\"startlinecolor\":\"#2a3f5f\"},\"type\":\"carpet\"}],\"choropleth\":[{\"colorbar\":{\"outlinewidth\":0,\"ticks\":\"\"},\"type\":\"choropleth\"}],\"contour\":[{\"colorbar\":{\"outlinewidth\":0,\"ticks\":\"\"},\"colorscale\":[[0.0,\"#0d0887\"],[0.1111111111111111,\"#46039f\"],[0.2222222222222222,\"#7201a8\"],[0.3333333333333333,\"#9c179e\"],[0.4444444444444444,\"#bd3786\"],[0.5555555555555556,\"#d8576b\"],[0.6666666666666666,\"#ed7953\"],[0.7777777777777778,\"#fb9f3a\"],[0.8888888888888888,\"#fdca26\"],[1.0,\"#f0f921\"]],\"type\":\"contour\"}],\"contourcarpet\":[{\"colorbar\":{\"outlinewidth\":0,\"ticks\":\"\"},\"type\":\"contourcarpet\"}],\"heatmap\":[{\"colorbar\":{\"outlinewidth\":0,\"ticks\":\"\"},\"colorscale\":[[0.0,\"#0d0887\"],[0.1111111111111111,\"#46039f\"],[0.2222222222222222,\"#7201a8\"],[0.3333333333333333,\"#9c179e\"],[0.4444444444444444,\"#bd3786\"],[0.5555555555555556,\"#d8576b\"],[0.6666666666666666,\"#ed7953\"],[0.7777777777777778,\"#fb9f3a\"],[0.8888888888888888,\"#fdca26\"],[1.0,\"#f0f921\"]],\"type\":\"heatmap\"}],\"heatmapgl\":[{\"colorbar\":{\"outlinewidth\":0,\"ticks\":\"\"},\"colorscale\":[[0.0,\"#0d0887\"],[0.1111111111111111,\"#46039f\"],[0.2222222222222222,\"#7201a8\"],[0.3333333333333333,\"#9c179e\"],[0.4444444444444444,\"#bd3786\"],[0.5555555555555556,\"#d8576b\"],[0.6666666666666666,\"#ed7953\"],[0.7777777777777778,\"#fb9f3a\"],[0.8888888888888888,\"#fdca26\"],[1.0,\"#f0f921\"]],\"type\":\"heatmapgl\"}],\"histogram\":[{\"marker\":{\"pattern\":{\"fillmode\":\"overlay\",\"size\":10,\"solidity\":0.2}},\"type\":\"histogram\"}],\"histogram2d\":[{\"colorbar\":{\"outlinewidth\":0,\"ticks\":\"\"},\"colorscale\":[[0.0,\"#0d0887\"],[0.1111111111111111,\"#46039f\"],[0.2222222222222222,\"#7201a8\"],[0.3333333333333333,\"#9c179e\"],[0.4444444444444444,\"#bd3786\"],[0.5555555555555556,\"#d8576b\"],[0.6666666666666666,\"#ed7953\"],[0.7777777777777778,\"#fb9f3a\"],[0.8888888888888888,\"#fdca26\"],[1.0,\"#f0f921\"]],\"type\":\"histogram2d\"}],\"histogram2dcontour\":[{\"colorbar\":{\"outlinewidth\":0,\"ticks\":\"\"},\"colorscale\":[[0.0,\"#0d0887\"],[0.1111111111111111,\"#46039f\"],[0.2222222222222222,\"#7201a8\"],[0.3333333333333333,\"#9c179e\"],[0.4444444444444444,\"#bd3786\"],[0.5555555555555556,\"#d8576b\"],[0.6666666666666666,\"#ed7953\"],[0.7777777777777778,\"#fb9f3a\"],[0.8888888888888888,\"#fdca26\"],[1.0,\"#f0f921\"]],\"type\":\"histogram2dcontour\"}],\"mesh3d\":[{\"colorbar\":{\"outlinewidth\":0,\"ticks\":\"\"},\"type\":\"mesh3d\"}],\"parcoords\":[{\"line\":{\"colorbar\":{\"outlinewidth\":0,\"ticks\":\"\"}},\"type\":\"parcoords\"}],\"pie\":[{\"automargin\":true,\"type\":\"pie\"}],\"scatter\":[{\"marker\":{\"colorbar\":{\"outlinewidth\":0,\"ticks\":\"\"}},\"type\":\"scatter\"}],\"scatter3d\":[{\"line\":{\"colorbar\":{\"outlinewidth\":0,\"ticks\":\"\"}},\"marker\":{\"colorbar\":{\"outlinewidth\":0,\"ticks\":\"\"}},\"type\":\"scatter3d\"}],\"scattercarpet\":[{\"marker\":{\"colorbar\":{\"outlinewidth\":0,\"ticks\":\"\"}},\"type\":\"scattercarpet\"}],\"scattergeo\":[{\"marker\":{\"colorbar\":{\"outlinewidth\":0,\"ticks\":\"\"}},\"type\":\"scattergeo\"}],\"scattergl\":[{\"marker\":{\"colorbar\":{\"outlinewidth\":0,\"ticks\":\"\"}},\"type\":\"scattergl\"}],\"scattermapbox\":[{\"marker\":{\"colorbar\":{\"outlinewidth\":0,\"ticks\":\"\"}},\"type\":\"scattermapbox\"}],\"scatterpolar\":[{\"marker\":{\"colorbar\":{\"outlinewidth\":0,\"ticks\":\"\"}},\"type\":\"scatterpolar\"}],\"scatterpolargl\":[{\"marker\":{\"colorbar\":{\"outlinewidth\":0,\"ticks\":\"\"}},\"type\":\"scatterpolargl\"}],\"scatterternary\":[{\"marker\":{\"colorbar\":{\"outlinewidth\":0,\"ticks\":\"\"}},\"type\":\"scatterternary\"}],\"surface\":[{\"colorbar\":{\"outlinewidth\":0,\"ticks\":\"\"},\"colorscale\":[[0.0,\"#0d0887\"],[0.1111111111111111,\"#46039f\"],[0.2222222222222222,\"#7201a8\"],[0.3333333333333333,\"#9c179e\"],[0.4444444444444444,\"#bd3786\"],[0.5555555555555556,\"#d8576b\"],[0.6666666666666666,\"#ed7953\"],[0.7777777777777778,\"#fb9f3a\"],[0.8888888888888888,\"#fdca26\"],[1.0,\"#f0f921\"]],\"type\":\"surface\"}],\"table\":[{\"cells\":{\"fill\":{\"color\":\"#EBF0F8\"},\"line\":{\"color\":\"white\"}},\"header\":{\"fill\":{\"color\":\"#C8D4E3\"},\"line\":{\"color\":\"white\"}},\"type\":\"table\"}]},\"layout\":{\"annotationdefaults\":{\"arrowcolor\":\"#2a3f5f\",\"arrowhead\":0,\"arrowwidth\":1},\"autotypenumbers\":\"strict\",\"coloraxis\":{\"colorbar\":{\"outlinewidth\":0,\"ticks\":\"\"}},\"colorscale\":{\"diverging\":[[0,\"#8e0152\"],[0.1,\"#c51b7d\"],[0.2,\"#de77ae\"],[0.3,\"#f1b6da\"],[0.4,\"#fde0ef\"],[0.5,\"#f7f7f7\"],[0.6,\"#e6f5d0\"],[0.7,\"#b8e186\"],[0.8,\"#7fbc41\"],[0.9,\"#4d9221\"],[1,\"#276419\"]],\"sequential\":[[0.0,\"#0d0887\"],[0.1111111111111111,\"#46039f\"],[0.2222222222222222,\"#7201a8\"],[0.3333333333333333,\"#9c179e\"],[0.4444444444444444,\"#bd3786\"],[0.5555555555555556,\"#d8576b\"],[0.6666666666666666,\"#ed7953\"],[0.7777777777777778,\"#fb9f3a\"],[0.8888888888888888,\"#fdca26\"],[1.0,\"#f0f921\"]],\"sequentialminus\":[[0.0,\"#0d0887\"],[0.1111111111111111,\"#46039f\"],[0.2222222222222222,\"#7201a8\"],[0.3333333333333333,\"#9c179e\"],[0.4444444444444444,\"#bd3786\"],[0.5555555555555556,\"#d8576b\"],[0.6666666666666666,\"#ed7953\"],[0.7777777777777778,\"#fb9f3a\"],[0.8888888888888888,\"#fdca26\"],[1.0,\"#f0f921\"]]},\"colorway\":[\"#636efa\",\"#EF553B\",\"#00cc96\",\"#ab63fa\",\"#FFA15A\",\"#19d3f3\",\"#FF6692\",\"#B6E880\",\"#FF97FF\",\"#FECB52\"],\"font\":{\"color\":\"#2a3f5f\"},\"geo\":{\"bgcolor\":\"white\",\"lakecolor\":\"white\",\"landcolor\":\"#E5ECF6\",\"showlakes\":true,\"showland\":true,\"subunitcolor\":\"white\"},\"hoverlabel\":{\"align\":\"left\"},\"hovermode\":\"closest\",\"mapbox\":{\"style\":\"light\"},\"paper_bgcolor\":\"white\",\"plot_bgcolor\":\"#E5ECF6\",\"polar\":{\"angularaxis\":{\"gridcolor\":\"white\",\"linecolor\":\"white\",\"ticks\":\"\"},\"bgcolor\":\"#E5ECF6\",\"radialaxis\":{\"gridcolor\":\"white\",\"linecolor\":\"white\",\"ticks\":\"\"}},\"scene\":{\"xaxis\":{\"backgroundcolor\":\"#E5ECF6\",\"gridcolor\":\"white\",\"gridwidth\":2,\"linecolor\":\"white\",\"showbackground\":true,\"ticks\":\"\",\"zerolinecolor\":\"white\"},\"yaxis\":{\"backgroundcolor\":\"#E5ECF6\",\"gridcolor\":\"white\",\"gridwidth\":2,\"linecolor\":\"white\",\"showbackground\":true,\"ticks\":\"\",\"zerolinecolor\":\"white\"},\"zaxis\":{\"backgroundcolor\":\"#E5ECF6\",\"gridcolor\":\"white\",\"gridwidth\":2,\"linecolor\":\"white\",\"showbackground\":true,\"ticks\":\"\",\"zerolinecolor\":\"white\"}},\"shapedefaults\":{\"line\":{\"color\":\"#2a3f5f\"}},\"ternary\":{\"aaxis\":{\"gridcolor\":\"white\",\"linecolor\":\"white\",\"ticks\":\"\"},\"baxis\":{\"gridcolor\":\"white\",\"linecolor\":\"white\",\"ticks\":\"\"},\"bgcolor\":\"#E5ECF6\",\"caxis\":{\"gridcolor\":\"white\",\"linecolor\":\"white\",\"ticks\":\"\"}},\"title\":{\"x\":0.05},\"xaxis\":{\"automargin\":true,\"gridcolor\":\"white\",\"linecolor\":\"white\",\"ticks\":\"\",\"title\":{\"standoff\":15},\"zerolinecolor\":\"white\",\"zerolinewidth\":2},\"yaxis\":{\"automargin\":true,\"gridcolor\":\"white\",\"linecolor\":\"white\",\"ticks\":\"\",\"title\":{\"standoff\":15},\"zerolinecolor\":\"white\",\"zerolinewidth\":2}}}},                        {\"responsive\": true}                    ).then(function(){\n",
       "                            \n",
       "var gd = document.getElementById('4da582cf-106e-46ad-ba7c-bd2f6891faa2');\n",
       "var x = new MutationObserver(function (mutations, observer) {{\n",
       "        var display = window.getComputedStyle(gd).display;\n",
       "        if (!display || display === 'none') {{\n",
       "            console.log([gd, 'removed!']);\n",
       "            Plotly.purge(gd);\n",
       "            observer.disconnect();\n",
       "        }}\n",
       "}});\n",
       "\n",
       "// Listen for the removal of the full notebook cells\n",
       "var notebookContainer = gd.closest('#notebook-container');\n",
       "if (notebookContainer) {{\n",
       "    x.observe(notebookContainer, {childList: true});\n",
       "}}\n",
       "\n",
       "// Listen for the clearing of the current output cell\n",
       "var outputEl = gd.closest('.output');\n",
       "if (outputEl) {{\n",
       "    x.observe(outputEl, {childList: true});\n",
       "}}\n",
       "\n",
       "                        })                };                });            </script>        </div>"
      ]
     },
     "metadata": {},
     "output_type": "display_data"
    }
   ],
   "source": [
    "import plotly.graph_objects as go\n",
    "import plotly.offline as pyo\n",
    "\n",
    "length = len(audio_features_df)\n",
    "input_data = audio_features_df.sample(length).copy()\n",
    "\n",
    "feature_columns = [\"danceability\", \"energy\", \"speechiness\", \"liveness\", \"instrumentalness\", \"liveness\",\"valence\", \"danceability\"]\n",
    "\n",
    "def createRadarElement(row, feature_cols):\n",
    "    return go.Scatterpolar(\n",
    "        r = row[feature_cols].values.tolist(), \n",
    "        theta = feature_cols, \n",
    "        mode = 'lines', \n",
    "        name = row['track_name'])\n",
    "\n",
    "data = list(input_data.apply(createRadarElement, axis=1, args=(feature_columns, )))  \n",
    "\n",
    "fig = go.Figure(data, )\n",
    "fig.show()"
   ]
  },
  {
   "cell_type": "code",
   "execution_count": null,
   "metadata": {},
   "outputs": [],
   "source": []
  }
 ],
 "metadata": {
  "colab": {
   "collapsed_sections": [],
   "provenance": []
  },
  "kernelspec": {
   "display_name": "Python 3 (ipykernel)",
   "language": "python",
   "name": "python3"
  },
  "language_info": {
   "codemirror_mode": {
    "name": "ipython",
    "version": 3
   },
   "file_extension": ".py",
   "mimetype": "text/x-python",
   "name": "python",
   "nbconvert_exporter": "python",
   "pygments_lexer": "ipython3",
   "version": "3.9.12"
  }
 },
 "nbformat": 4,
 "nbformat_minor": 1
}

{
 "cells": [
  {
   "cell_type": "markdown",
   "metadata": {
    "id": "WhdBzidHIImH"
   },
   "source": [
    "## Pandas = Python for Data Analysis\n",
    "\n",
    "Pandas = Python for Data Analysis\n",
    "* High-performance manipulation of text, integers, numbers, dates\n",
    "* Data alignment, reshaping, pivoting\n",
    "* Intelligent slicing, grouping, and subsetting\n",
    "* Merging and joining of sets\n",
    "* Integrated modules for analysis, plots, visualizations, maps, networks\n",
    "\n",
    "Read more [here](https://pandas.pydata.org/about/\n",
    ").\n",
    "\n",
    "Tutorials [here](https://www.w3schools.com/python/pandas/default.asp).\n",
    "\n",
    "Pandas Cheat Sheet:  [here](https://pandas.pydata.org/Pandas_Cheat_Sheet.pdf).\n",
    "\n",
    "\n",
    "\n",
    "\n"
   ]
  },
  {
   "cell_type": "markdown",
   "metadata": {
    "id": "dZVsIj-mIImH"
   },
   "source": [
    "# Import Libraries\n",
    "\n",
    "Before we can do anything we need to import the python tools we need:\n",
    "\n",
    "* **pandas** is the main library\n",
    "* **matplot** will help us render graphs and charts\n",
    "* **numpy** performs mathematical operations on arrays\n",
    "* there are dozens of other standard libraries; if they work with Python, they will work with Jupyter and Pandas"
   ]
  },
  {
   "cell_type": "code",
   "execution_count": null,
   "metadata": {
    "ExecuteTime": {
     "end_time": "2022-02-10T23:28:15.994052Z",
     "start_time": "2022-02-10T23:28:14.791696Z"
    },
    "id": "3_H8IHsFIImI"
   },
   "outputs": [],
   "source": [
    "import pandas as pd\n",
    "import matplotlib.pyplot as plt\n",
    "import numpy as np\n"
   ]
  },
  {
   "cell_type": "markdown",
   "metadata": {
    "id": "-b7jBmh9RMPG"
   },
   "source": [
    "# Import Data\n",
    "\n",
    "Pandas **data frames** are the basic unit upon which all operations take place.  Data frames are like spreadsheets, with columns and rows.\n",
    "\n",
    "Indeed, Pandas can easily import spreadsheets in **CSV** (comma separated values) format.  We will also import data from databases in **JSON** format (Java Script Object Notation), similar to a Python dictionary.  There are special scripts for working with JSON, too.\n",
    "\n",
    "Pandas can export as well as import these formats (among others).\n",
    "\n"
   ]
  },
  {
   "cell_type": "markdown",
   "metadata": {
    "id": "d38L5K7zkiy9"
   },
   "source": [
    "# Meet the Beatles\n",
    "\n",
    "We begin with data about the albums and songs issued by the Beatles. The data are drawn from two sources:\n",
    "\n",
    "* A set from **Spotify** includes information about 193 songs, albums, years, plus other acoustic ratings that Spotify uses to characterize tracks. View these data as a Google spreadsheet [here](https://docs.google.com/spreadsheets/d/1CBiNbxqF4FHWMkFv-C6nl7AyOJUFqycrR-EvWvDZEWY/edit#gid=953807965).\n",
    "\n",
    "* A set compiled by a team at the **University of Belgrade (Serbia)** that contains information about over 300 Beatles songs:  author(s), lead singer(s), album, musical genre(s), and standing in the Top 50 Billboard charts.  View these data on Github [here]('https://github.com/inteligentni/Class-05-Feature-engineering/blob/master/The%20Beatles%20songs%20dataset%2C%20v1%2C%20no%20NAs.csv')).\n",
    "\n",
    "We will work with both of these sets, and in the process learn how to inspect, clean, combine, filter, group, and analyze the information they contain.\n",
    "\n",
    "We give the URL of the CSV file a name (simply for convenience), then pass that name to the `read_csv('source_file_name')` method, and name the resulting data frame.\n",
    "\n",
    "```\n",
    "beatles_spotify_csv = 'https://docs.google.com/spreadsheets/d/e/2PACX-1vRCv45ldJmq0isl2bvWok7AbD5C6JWA0Xf1tBqow5ngX7_ox8c2d846PnH9iLp_SikzgYmvdPHe9k7G/pub?output=csv'\n",
    "\n",
    "beatles_spotify = pd.read_csv(beatles_spotify_csv)\n",
    "\n",
    "```\n",
    "\n",
    "or \n",
    "\n",
    "```\n",
    "beatles_billboard_csv = 'https://raw.githubusercontent.com/inteligentni/Class-05-Feature-engineering/master/The%20Beatles%20songs%20dataset%2C%20v1%2C%20no%20NAs.csv'\n",
    "\n",
    "beatles_billboard = pd.read_csv(beatles_billboard_csv)\n",
    "```"
   ]
  },
  {
   "cell_type": "code",
   "execution_count": null,
   "metadata": {
    "id": "tIVBIYR-QQTr"
   },
   "outputs": [],
   "source": [
    "beatles_spotify_csv = 'https://docs.google.com/spreadsheets/d/e/2PACX-1vRCv45ldJmq0isl2bvWok7AbD5C6JWA0Xf1tBqow5ngX7_ox8c2d846PnH9iLp_SikzgYmvdPHe9k7G/pub?output=csv'\n"
   ]
  },
  {
   "cell_type": "code",
   "execution_count": null,
   "metadata": {
    "ExecuteTime": {
     "end_time": "2022-02-10T23:28:16.147645Z",
     "start_time": "2022-02-10T23:28:16.132349Z"
    },
    "colab": {
     "base_uri": "https://localhost:8080/",
     "height": 424
    },
    "executionInfo": {
     "elapsed": 1111,
     "status": "ok",
     "timestamp": 1660232474922,
     "user": {
      "displayName": "Richard Freedman",
      "userId": "15551081619854298243"
     },
     "user_tz": 240
    },
    "id": "MVcLXEIyIImN",
    "outputId": "34b33fc2-6cac-4728-a050-4647f59ead86"
   },
   "outputs": [],
   "source": [
    "beatles_spotify = pd.read_csv(beatles_spotify_csv)\n",
    "beatles_spotify"
   ]
  },
  {
   "cell_type": "code",
   "execution_count": null,
   "metadata": {
    "id": "QiDJ_cSICuAt"
   },
   "outputs": [],
   "source": [
    "beatles_billboard_csv = 'https://raw.githubusercontent.com/inteligentni/Class-05-Feature-engineering/master/The%20Beatles%20songs%20dataset%2C%20v1%2C%20no%20NAs.csv'\n"
   ]
  },
  {
   "cell_type": "code",
   "execution_count": null,
   "metadata": {
    "colab": {
     "base_uri": "https://localhost:8080/",
     "height": 624
    },
    "executionInfo": {
     "elapsed": 202,
     "status": "ok",
     "timestamp": 1660241648119,
     "user": {
      "displayName": "Richard Freedman",
      "userId": "15551081619854298243"
     },
     "user_tz": 240
    },
    "id": "xB08ySUYFziJ",
    "outputId": "558f1974-7c85-4823-df4d-6d0a8b66469f"
   },
   "outputs": [],
   "source": [
    "beatles_billboard = pd.read_csv(beatles_billboard_csv)\n",
    "beatles_billboard"
   ]
  },
  {
   "cell_type": "markdown",
   "metadata": {
    "id": "yIAtzsXQIImO"
   },
   "source": [
    "Inspect the DataFrame\n",
    "\n",
    "Now we can look at the data in various ways to see what is here. The first column is the `index` (and begins with \"0\").\n",
    "\n",
    "\n",
    "* `beatles_spotify.info()` will show the names, number and data types of the columns\n",
    "* `beatles_spotify.shape` will tell us the size of our frame:  how many **rows and columns**, like `(193, 11)`.  Note:  normally these methods are followed by `()`.  This one is not.\n",
    "* `beatles_spotify.describe()` delivers basic statistical information about the set, such as count, average, mean, standard deviation, and basic percentiles.\n",
    "\n",
    "\n"
   ]
  },
  {
   "cell_type": "code",
   "execution_count": null,
   "metadata": {
    "colab": {
     "base_uri": "https://localhost:8080/"
    },
    "executionInfo": {
     "elapsed": 157,
     "status": "ok",
     "timestamp": 1660232475232,
     "user": {
      "displayName": "Richard Freedman",
      "userId": "15551081619854298243"
     },
     "user_tz": 240
    },
    "id": "CbIFQJCTtz_K",
    "outputId": "393db622-65e2-440f-d429-4638d56be7f4"
   },
   "outputs": [],
   "source": [
    "beatles_spotify.info()"
   ]
  },
  {
   "cell_type": "code",
   "execution_count": null,
   "metadata": {
    "colab": {
     "base_uri": "https://localhost:8080/"
    },
    "executionInfo": {
     "elapsed": 2,
     "status": "ok",
     "timestamp": 1660232475232,
     "user": {
      "displayName": "Richard Freedman",
      "userId": "15551081619854298243"
     },
     "user_tz": 240
    },
    "id": "n_a9QswNrGDD",
    "outputId": "85fcaab0-476c-46fb-ba0a-bf37b8e6476e"
   },
   "outputs": [],
   "source": [
    "beatles_spotify.shape"
   ]
  },
  {
   "cell_type": "code",
   "execution_count": null,
   "metadata": {
    "ExecuteTime": {
     "end_time": "2022-02-10T23:28:16.169861Z",
     "start_time": "2022-02-10T23:28:16.150328Z"
    },
    "colab": {
     "base_uri": "https://localhost:8080/",
     "height": 300
    },
    "executionInfo": {
     "elapsed": 153,
     "status": "ok",
     "timestamp": 1660232475384,
     "user": {
      "displayName": "Richard Freedman",
      "userId": "15551081619854298243"
     },
     "user_tz": 240
    },
    "id": "9EZrZJFzIImO",
    "outputId": "be3ec806-3f70-4b7e-d5e2-47fefc106949"
   },
   "outputs": [],
   "source": [
    "beatles_spotify.describe()"
   ]
  },
  {
   "cell_type": "markdown",
   "metadata": {
    "id": "sxDSJfuFr_D0"
   },
   "source": [
    "# Working with Rows\n",
    "\n",
    "By default Pandas shows only the first and last five rows of any data frame.  There are various ways to see others:\n",
    "\n",
    "* **All rows**, set `pandas.set_option('display.max_rows', None)` or `pd.options.display.max_rows = 9999` before you display the frame.\n",
    "* **Head** rows (default of five from the start, but can be any number):  `beatles_spotify.head(20)`\n",
    "* **Tail** rows (default of five from the end, but can be any number):  `beatles_spotify.tail(20)`\n",
    "* **Sample** a random sampling of x rows:  `beatles_spotify.sample(20)`\n",
    "\n",
    "\n",
    "#### Selecting Rows:  `loc` and `iloc`\n",
    "\n",
    "* **iloc** to select rows by **index number** (the left-hand column) use `iloc`. The syntax puts rows before columns, as in `beatles_spotify.iloc[startrow:endrow, startcolumn:endcolumn]`.  Thus rows 10-15 (and all columns) of our dataframe would be `beatles_spotify.iloc[10:15, :]`.  Note:  the first number is *inclusive* but the second is *exclusive*.  So `10:15` will yield rows 10, 11, 12, 13, 14, but *not* 15.\n",
    "* **loc** to select rows by **label** of the left-hand column (as when you might have an index of strings), use `loc`.  This is useful when our index is a string rather than a number.  It is especially useful for working with columns.\n",
    "\n",
    "Pandas Cheat Sheet:  [here](https://pandas.pydata.org/Pandas_Cheat_Sheet.pdf).\n",
    "\n",
    "\n"
   ]
  },
  {
   "cell_type": "code",
   "execution_count": null,
   "metadata": {
    "colab": {
     "base_uri": "https://localhost:8080/",
     "height": 206
    },
    "executionInfo": {
     "elapsed": 168,
     "status": "ok",
     "timestamp": 1660232475549,
     "user": {
      "displayName": "Richard Freedman",
      "userId": "15551081619854298243"
     },
     "user_tz": 240
    },
    "id": "UzzmHzfjvumv",
    "outputId": "3538c313-5556-49c8-90f2-ee3e88c40e36"
   },
   "outputs": [],
   "source": [
    "beatles_spotify.iloc[10:15,]"
   ]
  },
  {
   "cell_type": "markdown",
   "metadata": {
    "id": "M0GBzE-1IImQ"
   },
   "source": [
    "# Working with Columns\n",
    "\n",
    "\n",
    "We now start to look more closely the columns.\n",
    "\n",
    "\n",
    "* **column names** as a list:  `beatles_spotify.columns`\n",
    "* **rename a column**:  `beatles_billboard[\"album\"] = beatles_billboard[\"Album.debut\"]` or `beatles_billboard.rename(columns = {'Album.debut':'album'})`\n",
    "* **drop a column**: `beatles_billboard.drop(columns=['Album.debut'])`.  Note that these must be presented as a list, even if there is only one!\n",
    "* **add a column**; in this case we might want to create a column based on condition in another (like \"Instrumental\" as a Boolean ):   \n",
    "* **data types** of the columns:  `beatles_spotify.dtypes`.  Note that we can do something similar with `beatles_spotify.info()`.  To change data type, see Cleaning and Checking Data, below.\n",
    "* **sort the columns** alphabetically:  `beatles_spotify.columns.sort_values()`\n",
    "* **move or reorganize columns** by specifying a new order; this would also work to drop certain columns ommitted from the list:\n",
    "\n",
    "```\n",
    "column_list = ['Title', 'Year', 'Album.debut', 'Genre','Songwriter', 'Top.50.Billboard']\n",
    "beatles_billboard_short = beatles_billboard[column_list]\n",
    "beatles_billboard_short\n",
    "```\n",
    "\n",
    "\n",
    "An individual column is called a **series**\n",
    "* **One column**:  `beatles_spotify[\"year\"]`\n",
    "* Count the **number of unique values** in a single column: `beatles_spotify[\"album\"].nunique()`\n",
    "* Count the **number of entries** for each value in a column:  `beatles_spotify[\"album\"].value_counts()`\n",
    "\n",
    "Pandas Cheat Sheet:  [here](https://pandas.pydata.org/Pandas_Cheat_Sheet.pdf).\n",
    "\n",
    "\n"
   ]
  },
  {
   "cell_type": "code",
   "execution_count": null,
   "metadata": {
    "ExecuteTime": {
     "end_time": "2022-02-10T23:28:16.182453Z",
     "start_time": "2022-02-10T23:28:16.178472Z"
    },
    "colab": {
     "base_uri": "https://localhost:8080/"
    },
    "executionInfo": {
     "elapsed": 6,
     "status": "ok",
     "timestamp": 1660232475550,
     "user": {
      "displayName": "Richard Freedman",
      "userId": "15551081619854298243"
     },
     "user_tz": 240
    },
    "id": "Xx6aHmNeIImR",
    "outputId": "87ac8183-3922-4de1-db03-10af94498710"
   },
   "outputs": [],
   "source": [
    "beatles_billboard.columns"
   ]
  },
  {
   "cell_type": "code",
   "execution_count": null,
   "metadata": {
    "colab": {
     "base_uri": "https://localhost:8080/"
    },
    "executionInfo": {
     "elapsed": 4,
     "status": "ok",
     "timestamp": 1660232475550,
     "user": {
      "displayName": "Richard Freedman",
      "userId": "15551081619854298243"
     },
     "user_tz": 240
    },
    "id": "RyzdFkeGR5xH",
    "outputId": "fbafbfd6-2568-4edb-9d49-7a0b1eab38aa"
   },
   "outputs": [],
   "source": [
    "beatles_spotify.dtypes"
   ]
  },
  {
   "cell_type": "code",
   "execution_count": null,
   "metadata": {
    "colab": {
     "base_uri": "https://localhost:8080/"
    },
    "executionInfo": {
     "elapsed": 3,
     "status": "ok",
     "timestamp": 1660232475550,
     "user": {
      "displayName": "Richard Freedman",
      "userId": "15551081619854298243"
     },
     "user_tz": 240
    },
    "id": "Y1nX_dADIKYs",
    "outputId": "9391a935-87a5-4796-f927-90f4998dad27"
   },
   "outputs": [],
   "source": [
    "beatles_billboard.dtypes"
   ]
  },
  {
   "cell_type": "code",
   "execution_count": null,
   "metadata": {
    "ExecuteTime": {
     "end_time": "2022-02-10T23:28:16.188822Z",
     "start_time": "2022-02-10T23:28:16.184107Z"
    },
    "colab": {
     "base_uri": "https://localhost:8080/"
    },
    "executionInfo": {
     "elapsed": 185,
     "status": "ok",
     "timestamp": 1660232475733,
     "user": {
      "displayName": "Richard Freedman",
      "userId": "15551081619854298243"
     },
     "user_tz": 240
    },
    "id": "wVlYx_hRIImS",
    "outputId": "39aca69b-c283-4827-f297-1fd2460b1bec"
   },
   "outputs": [],
   "source": [
    "beatles_spotify.columns.sort_values()"
   ]
  },
  {
   "cell_type": "code",
   "execution_count": null,
   "metadata": {
    "colab": {
     "base_uri": "https://localhost:8080/",
     "height": 537
    },
    "executionInfo": {
     "elapsed": 7,
     "status": "ok",
     "timestamp": 1660232475733,
     "user": {
      "displayName": "Richard Freedman",
      "userId": "15551081619854298243"
     },
     "user_tz": 240
    },
    "id": "h8R6sEowXhbO",
    "outputId": "ef8319fc-98a7-4bca-f2bf-581b5e6557f3"
   },
   "outputs": [],
   "source": [
    "column_list = ['Title', 'Year', 'Album.debut', 'Genre','Songwriter', 'Top.50.Billboard']\n",
    "beatles_billboard_short = beatles_billboard[column_list]\n",
    "beatles_billboard_short"
   ]
  },
  {
   "cell_type": "markdown",
   "metadata": {
    "id": "ocLkZ8C3R6Rr"
   },
   "source": [
    "An individual column is represented as a \"Series\"\n",
    "\n",
    "```\n",
    "beatles_spotify[\"song\"]\n",
    "```"
   ]
  },
  {
   "cell_type": "code",
   "execution_count": null,
   "metadata": {
    "colab": {
     "base_uri": "https://localhost:8080/"
    },
    "executionInfo": {
     "elapsed": 6,
     "status": "ok",
     "timestamp": 1660232475733,
     "user": {
      "displayName": "Richard Freedman",
      "userId": "15551081619854298243"
     },
     "user_tz": 240
    },
    "id": "1pBcI6eeTTLK",
    "outputId": "8e8907e1-4db2-41d2-fa86-dee0e6a0d1e8"
   },
   "outputs": [],
   "source": [
    "beatles_spotify[\"song\"]"
   ]
  },
  {
   "cell_type": "markdown",
   "metadata": {
    "id": "wFgZ20kbR9a1"
   },
   "source": [
    "# Cleaning and Checking Data\n",
    "\n",
    "Missing data or data encoded as the wrong type will result in errors of various kinds.  See more [here](https://www.w3schools.com/python/pandas/pandas_cleaning.asp).\n",
    "\n",
    "\n",
    "\n",
    "**The NaN Problem**. In Python there is a difference between a \"0\" and nothing.  The latter is a Null, which represents \"no data at all.\"  Nulls will result in errors when you attempt to perform some operation on them.  You cannot add to or compare something to a Null.  Nor can you test whether a Null contains some set of characters or matches a word. \n",
    "\n",
    "* **Find the NaN's**:  `df[df.isna().any(axis=1)]`, or for the billboard data:  `beatles_billboard[beatles_billboard.isna().any(axis=1)]`.  \n",
    "\n",
    "* **Fill the NaN's**. If you are performing mathematical operations, You can fill missing values with some default number or string. The solution will probably vary from one column to the next (since some are integers, some dates, and are text):  `beatles_billboard.fillna(\"-\")` would fill *all NaN* with the same string.  But we could instead try something that would be more meaningful.  For example: `beatles_billboard['Album.debut'].fillna(\"unreleased\", inplace=True)`\n",
    "* If you are trying to filter a data frame by a particular keyword or condition, you can treat the Nulls as \"False\" and thereby ignore them.\n",
    "\n",
    "**Duplicate rows** can also create errors, or distort your results.  Find them:  `duplicate = beatles_billboard[beatles_billboard.duplicated()]\n",
    "duplicate` (in this case there are none).  Remove them automatically with `beatles.drop_duplicates()`\n",
    "\n",
    "**Wrong Data Type** in a given column is another common error (particularly since Pandas attempts to guess the correct data type when importing from CSV or JSON).  In our beatles_spotify dataset, notice that the data type for 'energy' is `object`, which in the context of Pandas means it is a Python `string`.  As such we cannot perform mathematical operations on it. Change the data type with the `astype()` method:\n",
    "\n",
    "```\n",
    "beatles_spotify['energy'] = beatles_spotify['energy'].astype(np.float64)\n",
    "```\n",
    "\n",
    "The same thing can happen with **date=time** information.  In our orignal datasets, the \"Year\" columms are in fact integers.  This works fine for basic sorting.  But Pandas has an intelligent format for working with date-time information that allows us to sort by month-day-year, or create 'bins' representing quarters, decades, centuries.  \n",
    "\n",
    "So you will need to check the original data type, then convert to strings before converting to **date-time format**.  For example:\n",
    "\n",
    "```\n",
    "\n",
    "beatles_billboard[\"Year\"] = beatles_billboard[\"Year\"].astype(str)\n",
    "\n",
    "```\n",
    "\n",
    "Then convert that string to **datetime** format (in this case, in a new column, for comparison):\n",
    "\n",
    "```\n",
    "beatles_billboard[\"Year_DT\"] = pd.to_datetime(beatles_billboard[\"Year\"], format='%Y')\n",
    "```\n",
    "And then reorder the columns for clarity:\n",
    "\n",
    "```\n",
    "beatles_billboard_sorted = beatles_billboard.iloc[:, [0, 1, 9, 3, 4, 5, 6, 7, 8]]\n",
    "beatles_billboard_sorted.head()\n",
    "\n",
    "\n",
    "```\n",
    "\n",
    "**Wrong or Inconsistent Format** as when spelling or capitalization are different for the same item across many rows or columns.  There are Pandas methods to help with this process. \n",
    "\n",
    "\n",
    "**Incorrect Data**.  This is more difficult, since you will need to know the details of the errors, and how to correct them.  But Python and Pandas can help you automate the process.\n",
    "\n",
    "See more [here](https://towardsdatascience.com/simplify-your-dataset-cleaning-with-pandas-75951b23568e)."
   ]
  },
  {
   "cell_type": "markdown",
   "metadata": {
    "colab": {
     "base_uri": "https://localhost:8080/",
     "height": 49
    },
    "executionInfo": {
     "elapsed": 4,
     "status": "ok",
     "timestamp": 1660232475733,
     "user": {
      "displayName": "Richard Freedman",
      "userId": "15551081619854298243"
     },
     "user_tz": 240
    },
    "id": "6BoUqg12FTUt",
    "outputId": "15294f4b-0baf-4d8e-e5cb-77317566b3fb"
   },
   "source": [
    "#### Cleaning Data with Functions\n",
    "\n",
    "Let's imagine that you have a dataset in which a particular column contains data that are inconsistent:  in some places for the name of an artist you have `John Lennon`, and other places `John Lenin`.  You could correct them by hand in a Spreadsheet.  But there is an easier way with a Python **function**.\n",
    "\n",
    "You will first want to understand all the values you are trying to correct.  So here you would use Pandas/Python **set** method on all the values of the df[\"column\"] in question:\n",
    "\n",
    "`set(df[\"Artist\"])`\n",
    "\n",
    "Now that you know what the problem values are, write a **function** that corrects `John Lenin` to `John Lennon`.  If you don't recall **functions** see **NB A Python Basics**!\n",
    "```\n",
    "\n",
    "def name_check:\n",
    "    if df[\"Artist\"] == \"John Lenin\":\n",
    "        return \"John Lennon\"\n",
    "```\n",
    "In this case the **return** statement makes the result available for the next step in the process.\n",
    "\n",
    "But how to run this over **all rows** of a data frame?  We can easily do this with the **apply** method. In effect it **apply** allows us to automatically pass over all rows in the data frame, transforming only the column we select.  \n",
    "\n",
    "`df['column'] = df['column'].apply(name_check)`\n",
    "\n",
    "Note that we could use this approach not only for correcting data, but for creating **new columns** based on **existing columns**.  For example:  a Boolean column (True/False) based on the result of the contents of another column.  Here the new column will report True for any row where the column \"artist\" contains the string \"Lennon\".  \n",
    "\n",
    "`df['By_Lennon'] = df['artist'].str.contains(\"Lennon\")`\n",
    "\n",
    "We can then use the Boolean column to filter the entire frame (see below)."
   ]
  },
  {
   "cell_type": "code",
   "execution_count": null,
   "metadata": {
    "id": "Hk9H6oKmT4sk"
   },
   "outputs": [],
   "source": [
    "# try out some of the methods above!\n",
    "\n"
   ]
  },
  {
   "cell_type": "code",
   "execution_count": null,
   "metadata": {
    "colab": {
     "base_uri": "https://localhost:8080/",
     "height": 580
    },
    "executionInfo": {
     "elapsed": 168,
     "status": "ok",
     "timestamp": 1660241362309,
     "user": {
      "displayName": "Richard Freedman",
      "userId": "15551081619854298243"
     },
     "user_tz": 240
    },
    "id": "UH9M72_BI7HR",
    "outputId": "30fb80c4-3304-49af-e86f-4b6f8a4cbb6d"
   },
   "outputs": [],
   "source": [
    "# Check for NA's anywhere\n",
    "\n",
    "beatles_billboard[beatles_billboard.isna().any(axis=1)]\n"
   ]
  },
  {
   "cell_type": "code",
   "execution_count": null,
   "metadata": {
    "id": "UiOu5VahQLOD"
   },
   "outputs": [],
   "source": [
    "# replace NA's in Album column with 'unreleased'\n",
    "\n",
    "beatles_billboard['Album.debut'].fillna(\"unreleased\", inplace=True)\n"
   ]
  },
  {
   "cell_type": "code",
   "execution_count": null,
   "metadata": {
    "colab": {
     "base_uri": "https://localhost:8080/",
     "height": 337
    },
    "executionInfo": {
     "elapsed": 168,
     "status": "ok",
     "timestamp": 1660241661025,
     "user": {
      "displayName": "Richard Freedman",
      "userId": "15551081619854298243"
     },
     "user_tz": 240
    },
    "id": "Mk3xW2NzGFPS",
    "outputId": "dd65c16b-db54-4b39-e26e-5a45d23a4a92"
   },
   "outputs": [],
   "source": [
    "beatles_billboard[\"Year\"] = beatles_billboard[\"Year\"].astype(str)\n",
    "beatles_billboard[\"Year_DT\"] = pd.to_datetime(beatles_billboard[\"Year\"], format='%Y')\n",
    "beatles_billboard_sorted = beatles_billboard.iloc[:, [0, 1, 9, 3, 4, 5, 6, 7, 8]]\n",
    "beatles_billboard_sorted.head()"
   ]
  },
  {
   "cell_type": "markdown",
   "metadata": {
    "id": "RLSigKPO8yei"
   },
   "source": [
    "# Count, Sort, and Filter\n",
    "\n",
    "Pandas affords many ways to take stock of your data, with built-in functions counts of values, means, averages, and other statistical information.  Many of these are detailed on the [Pandas Cheat Sheet](https://pandas.pydata.org/Pandas_Cheat_Sheet.pdf).  But the following will be useful for us:\n",
    "\n",
    "* **Sort Values** in any column.  This ascending (alphabetically or numerically) by default, but can be reversed.  Example:  `beatles_spotify.sort_values(\"danceability\")`\n",
    "* **Count Values** in any column.  For example: `beatles_billboard[\"Album.debut\"].value_counts()`\n",
    "\n",
    "* It is also possible to **select some subset of rows or columns** by name or index position.  See above, and the Pandas Cheat Sheet.\n",
    "\n",
    "* **Filter rows based on some logical condition or string** in one or more columns.  There are several possibilities.  Note the differences between **`str.contains()`** (matches full contents of cell) and **isin([\"sub_string_1\", \"sub_string_2\"])** (which matches any number of shorter strings within a cell).\n",
    "\n",
    ">> The **`str.contains(\"some text here\")`** method will work if the text matches the **full contents** of the cell. For example here we filter to tracks with \"unreleased\" in the Album.debut column:\n",
    "\n",
    ">> ```\n",
    "beatles_billboard[beatles_billboard['Album.debut'].str.contains(\"unreleased\")]\n",
    "```\n",
    "\n",
    "\n",
    ">> The **items within \"[ ]\" become a Boolean series**, which is then used to **mask** the complete data trame (rows with \"True\" are retained).\n",
    "\n",
    "\n",
    ">> But we can also **invert the Boolean series**, so that the string \"unreleased\" is **False**.  \"~\" (the tilde) is used to invert the mask:\n",
    "\n",
    ">>```\n",
    "beatles_billboard[~beatles_billboard['Album.debut'].str.contains(\"unreleased\")]\n",
    "```\n",
    ">> Or we can **filter with two conditions** (the above, plus \"Year < 1965\":\n",
    ">> ```\n",
    "beatles_billboard[(beatles_billboard['Album.debut'].str.contains(\"unreleased\")) & (beatles_billboard['Year'] < 1965)]\n",
    "```\n",
    "\n",
    ">> The **isin()** method works if you are looking for one or more substrings in a given cell.  Note that the strings must be presented as a \"list\", thus **`isin([\"substring_1\", \"substring_2\"])`**.  For example, this, which returns either \"Lennon\" or \"McCartney\" (in any context within that column):\n",
    "\n",
    ">> ```\n",
    "beatles_billboard[beatles_billboard['Songwriter'].isin([\"Lennon\", \"McCartney\"])]\n",
    "```\n",
    "\n",
    "\n",
    "\n",
    "\n",
    "\n",
    "\n"
   ]
  },
  {
   "cell_type": "code",
   "execution_count": null,
   "metadata": {
    "colab": {
     "base_uri": "https://localhost:8080/",
     "height": 424
    },
    "executionInfo": {
     "elapsed": 259,
     "status": "ok",
     "timestamp": 1660232476148,
     "user": {
      "displayName": "Richard Freedman",
      "userId": "15551081619854298243"
     },
     "user_tz": 240
    },
    "id": "8SAZXFIA-pHC",
    "outputId": "8a4d9e02-de86-4895-e751-3a9f610eb8c4"
   },
   "outputs": [],
   "source": [
    "beatles_spotify.sort_values(\"danceability\")"
   ]
  },
  {
   "cell_type": "code",
   "execution_count": null,
   "metadata": {
    "ExecuteTime": {
     "end_time": "2022-02-10T23:28:16.211530Z",
     "start_time": "2022-02-10T23:28:16.206232Z"
    },
    "colab": {
     "base_uri": "https://localhost:8080/"
    },
    "executionInfo": {
     "elapsed": 6,
     "status": "ok",
     "timestamp": 1660232476148,
     "user": {
      "displayName": "Richard Freedman",
      "userId": "15551081619854298243"
     },
     "user_tz": 240
    },
    "id": "7dILy_6EIImT",
    "outputId": "cccdcf7e-eca6-43f7-fd53-75530f17dff0"
   },
   "outputs": [],
   "source": [
    "beatles_billboard[\"Album.debut\"].value_counts()"
   ]
  },
  {
   "cell_type": "code",
   "execution_count": null,
   "metadata": {
    "colab": {
     "base_uri": "https://localhost:8080/",
     "height": 870
    },
    "executionInfo": {
     "elapsed": 167,
     "status": "ok",
     "timestamp": 1660232476312,
     "user": {
      "displayName": "Richard Freedman",
      "userId": "15551081619854298243"
     },
     "user_tz": 240
    },
    "id": "merM5d_wQOLG",
    "outputId": "bc1c7cfd-fa18-4a68-b937-9178417d71bb"
   },
   "outputs": [],
   "source": [
    "# filter to show _only_ not released songs\n",
    "beatles_billboard[beatles_billboard['Album.debut'].str.contains(\"unreleased\")]"
   ]
  },
  {
   "cell_type": "code",
   "execution_count": null,
   "metadata": {
    "colab": {
     "base_uri": "https://localhost:8080/",
     "height": 624
    },
    "executionInfo": {
     "elapsed": 5,
     "status": "ok",
     "timestamp": 1660232476312,
     "user": {
      "displayName": "Richard Freedman",
      "userId": "15551081619854298243"
     },
     "user_tz": 240
    },
    "id": "RGGlZBWBlQ1u",
    "outputId": "64a5ac6e-8f0a-4f12-80a4-26ef897b65d5"
   },
   "outputs": [],
   "source": [
    "# filter to show the opposite:  Exclude Unreleased\n",
    "beatles_billboard[~beatles_billboard['Album.debut'].str.contains(\"unreleased\")]"
   ]
  },
  {
   "cell_type": "code",
   "execution_count": null,
   "metadata": {
    "colab": {
     "base_uri": "https://localhost:8080/",
     "height": 394
    },
    "executionInfo": {
     "elapsed": 5,
     "status": "ok",
     "timestamp": 1660232476313,
     "user": {
      "displayName": "Richard Freedman",
      "userId": "15551081619854298243"
     },
     "user_tz": 240
    },
    "id": "dbDmHZDiAm93",
    "outputId": "ce9a4e67-cbde-4eda-a2dc-00fee0aba9c0"
   },
   "outputs": [],
   "source": [
    "\n",
    "beatles_billboard[(beatles_billboard['Album.debut'].str.contains(\"unreleased\")) & (beatles_billboard['Year'] < 1965)]"
   ]
  },
  {
   "cell_type": "code",
   "execution_count": null,
   "metadata": {
    "colab": {
     "base_uri": "https://localhost:8080/",
     "height": 641
    },
    "executionInfo": {
     "elapsed": 171,
     "status": "ok",
     "timestamp": 1660243248704,
     "user": {
      "displayName": "Richard Freedman",
      "userId": "15551081619854298243"
     },
     "user_tz": 240
    },
    "id": "XdlBedNIGvuu",
    "outputId": "3483062b-1616-4779-97d6-70bf883112da"
   },
   "outputs": [],
   "source": [
    "beatles_billboard[beatles_billboard['Songwriter'].isin([\"Lennon\", \"McCartney\"])]"
   ]
  },
  {
   "cell_type": "markdown",
   "metadata": {
    "id": "nCMWrCJqIImi"
   },
   "source": [
    "# Combining, Joining, and Merging DataFrames\n",
    "\n",
    "We can merge the two Beatles data frame on the basis of some shared columns.  It is not necessary for the columns to have the same name, but they need to share the same items (like 'songs')\n",
    "\n",
    "* In this case the **Published_In** column in the emblems list corresponds to the **Book_Id**\n",
    "* In Pandas, the two frames to be joined are called \"left\" and \"right\"\n",
    "* The \"suffixes\" argument tells Pandas how to handle fields are otherwise named identically in the source files"
   ]
  },
  {
   "cell_type": "code",
   "execution_count": null,
   "metadata": {
    "ExecuteTime": {
     "end_time": "2022-02-10T23:28:17.168374Z",
     "start_time": "2022-02-10T23:28:17.160461Z"
    },
    "colab": {
     "base_uri": "https://localhost:8080/",
     "height": 1000
    },
    "executionInfo": {
     "elapsed": 158,
     "status": "ok",
     "timestamp": 1660232476467,
     "user": {
      "displayName": "Richard Freedman",
      "userId": "15551081619854298243"
     },
     "user_tz": 240
    },
    "id": "zyZ8DaF6IImi",
    "outputId": "0173c52b-460c-465d-c1c1-9296dfecefe5"
   },
   "outputs": [],
   "source": [
    "beatles_combined = pd.merge(right=beatles_spotify, \n",
    "         left=beatles_billboard, \n",
    "         right_on=\"song\", \n",
    "         left_on=\"Title\", \n",
    "         how=\"left\")\n",
    "\n",
    "beatles_combined"
   ]
  },
  {
   "cell_type": "markdown",
   "metadata": {
    "id": "oVgYF0U3IIma"
   },
   "source": []
  },
  {
   "cell_type": "code",
   "execution_count": null,
   "metadata": {
    "ExecuteTime": {
     "end_time": "2022-02-10T23:28:17.024471Z",
     "start_time": "2022-02-10T23:28:17.020505Z"
    },
    "colab": {
     "base_uri": "https://localhost:8080/",
     "height": 320
    },
    "executionInfo": {
     "elapsed": 167,
     "status": "ok",
     "timestamp": 1660234416434,
     "user": {
      "displayName": "Richard Freedman",
      "userId": "15551081619854298243"
     },
     "user_tz": 240
    },
    "id": "WSqz7U-ZIIma",
    "outputId": "c3e5a87a-8f91-4234-a7a4-e92d983aa192"
   },
   "outputs": [],
   "source": [
    "# not very meaningful!\n",
    "# Better:  use billboard data and find mean ranking of those in the top 50 by year.\n",
    "\n",
    "top_50 = beatles_billboard[beatles_billboard[\"Top.50.Billboard\"] > 0].sort_values('Year')\n",
    "top_50.tail()"
   ]
  },
  {
   "cell_type": "markdown",
   "metadata": {
    "id": "tKciC8SYIIma"
   },
   "source": [
    "___"
   ]
  },
  {
   "cell_type": "markdown",
   "metadata": {
    "id": "li7cXHOWIImj"
   },
   "source": [
    "___"
   ]
  },
  {
   "cell_type": "markdown",
   "metadata": {
    "id": "NpOdPT8GIIml"
   },
   "source": [
    "# Groupby Functions\n",
    "\n",
    "Learn more about Groupby [here](https://medium.com/towards-data-science/pandas-groupby-aggregate-transform-filter-c95ba3444bbb).\n",
    "\n",
    "\n",
    "**Groupby** functions allow you to organize and analyze data that share certain features.  For instance, we could find the **number of songs per album**:\n",
    "```\n",
    "beatles_billboard.groupby(\"Album.debut\")[\"Title\"].count()\n",
    "```\n",
    "Or focus on the relative activity of Lennon and McCartney across the years, first by filtering to only their work:\n",
    "\n",
    "```\n",
    "beatles_jl_pm = beatles_billboard[beatles_billboard['Songwriter'].isin([\"Lennon\", \"McCartney\"])]\n",
    "\n",
    "```\n",
    "\n",
    "Then find the 'groups':\n",
    "\n",
    "```\n",
    "grouped = beatles_jl_pm.groupby([\"Songwriter\"])\n",
    "grouped.groups\n",
    "```\n",
    "\n",
    "And inspect a single \"group\":\n",
    "\n",
    "```\n",
    "grouped.get_group(\"Lennon\")\n",
    "```\n",
    "\n",
    "And finally to compare the outputs by grouping via two columns, songwriter and year.\n",
    "\n",
    "\"Size\" considers _all_ the rows (even ones with NaNs).\n",
    "\n",
    "\"Count\" includes only the rows with valid data.\n",
    "\n",
    "```\n",
    "beatles_jl_pm.groupby(['Songwriter','Year']).size()\n",
    "```\n",
    "\n",
    "```beatles_jl_pm.groupby(['Songwriter','Year']).count()```\n",
    "\n",
    "There are many other functions that can be applied to aggregate, filter and transform data within groups!  See the essay above for a guide.\n",
    "\n"
   ]
  },
  {
   "cell_type": "code",
   "execution_count": null,
   "metadata": {
    "colab": {
     "base_uri": "https://localhost:8080/"
    },
    "executionInfo": {
     "elapsed": 149,
     "status": "ok",
     "timestamp": 1660243644019,
     "user": {
      "displayName": "Richard Freedman",
      "userId": "15551081619854298243"
     },
     "user_tz": 240
    },
    "id": "7C_8ChU2J0cn",
    "outputId": "324ea182-78b7-4e73-805b-52ffedca3d95"
   },
   "outputs": [],
   "source": [
    "beatles_billboard.groupby(\"Album.debut\")[\"Title\"].count()\n"
   ]
  },
  {
   "cell_type": "code",
   "execution_count": null,
   "metadata": {
    "id": "1t9l4KEOPLfv"
   },
   "outputs": [],
   "source": [
    "beatles_jl_pm = beatles_billboard[beatles_billboard['Songwriter'].isin([\"Lennon\", \"McCartney\"])]"
   ]
  },
  {
   "cell_type": "code",
   "execution_count": null,
   "metadata": {
    "colab": {
     "base_uri": "https://localhost:8080/"
    },
    "executionInfo": {
     "elapsed": 144,
     "status": "ok",
     "timestamp": 1660244195954,
     "user": {
      "displayName": "Richard Freedman",
      "userId": "15551081619854298243"
     },
     "user_tz": 240
    },
    "id": "xVCHBLgWPYgc",
    "outputId": "7f0af52b-07b5-4dbd-dbdb-f20f33606cef"
   },
   "outputs": [],
   "source": [
    "grouped = beatles_jl_pm.groupby([\"Songwriter\"])\n",
    "grouped.groups"
   ]
  },
  {
   "cell_type": "code",
   "execution_count": null,
   "metadata": {
    "colab": {
     "base_uri": "https://localhost:8080/",
     "height": 641
    },
    "executionInfo": {
     "elapsed": 167,
     "status": "ok",
     "timestamp": 1660244323213,
     "user": {
      "displayName": "Richard Freedman",
      "userId": "15551081619854298243"
     },
     "user_tz": 240
    },
    "id": "X0R0kHT0PaRE",
    "outputId": "30ec109d-833f-4c71-87e2-1ab33971692d"
   },
   "outputs": [],
   "source": [
    "\n",
    "grouped.get_group(\"Lennon\")"
   ]
  },
  {
   "cell_type": "code",
   "execution_count": null,
   "metadata": {
    "colab": {
     "base_uri": "https://localhost:8080/"
    },
    "executionInfo": {
     "elapsed": 143,
     "status": "ok",
     "timestamp": 1660244422394,
     "user": {
      "displayName": "Richard Freedman",
      "userId": "15551081619854298243"
     },
     "user_tz": 240
    },
    "id": "sut4RIX7RtFB",
    "outputId": "202130eb-516b-4247-a912-9189ebec1336"
   },
   "outputs": [],
   "source": [
    "beatles_jl_pm.groupby(['Songwriter','Year']).size()"
   ]
  },
  {
   "cell_type": "markdown",
   "metadata": {
    "id": "PQ4tq0nXIImZ"
   },
   "source": [
    "# Charts and Graphs\n",
    "\n",
    "Through libraries like **matplot**, Pandas can quickly produce histograms, charts, and graphs of various kinds (these can even be saved as PNG files for publications).\n",
    "\n",
    "For example: a histogram of the count of songs per albumn.\n",
    "\n",
    "```\n",
    "beatles_spotify[\"album\"].hist(figsize=(10, 5), bins=100)\n",
    "plt.xlabel(\"Album\")\n",
    "plt.xticks(rotation = 60) # Rotates X-Axis Ticks by 60-degrees\n",
    "plt.ylabel(\"Song Count\")\n",
    "plt.show()\n",
    "```\n",
    "\n",
    "\n",
    "Various built-in math functions allow us to run basic statistics.  Libraries like `numpy` permit many more!"
   ]
  },
  {
   "cell_type": "code",
   "execution_count": null,
   "metadata": {
    "ExecuteTime": {
     "end_time": "2022-02-10T23:28:17.018496Z",
     "start_time": "2022-02-10T23:28:16.303719Z"
    },
    "colab": {
     "base_uri": "https://localhost:8080/",
     "height": 495
    },
    "executionInfo": {
     "elapsed": 636,
     "status": "ok",
     "timestamp": 1660232494053,
     "user": {
      "displayName": "Richard Freedman",
      "userId": "15551081619854298243"
     },
     "user_tz": 240
    },
    "id": "QJ4rWHsEIImZ",
    "outputId": "fe248cf1-be7b-452f-b245-c2dc52a14881"
   },
   "outputs": [],
   "source": [
    "beatles_spotify[\"album\"].hist(figsize=(10, 5), bins=100)\n",
    "plt.xlabel(\"Album\")\n",
    "plt.xticks(rotation = 60) # Rotates X-Axis Ticks by 60-degrees\n",
    "\n",
    "plt.ylabel(\"Song Count\")\n",
    "plt.show()"
   ]
  },
  {
   "cell_type": "code",
   "execution_count": null,
   "metadata": {
    "colab": {
     "base_uri": "https://localhost:8080/",
     "height": 767
    },
    "executionInfo": {
     "elapsed": 1084,
     "status": "ok",
     "timestamp": 1660234528445,
     "user": {
      "displayName": "Richard Freedman",
      "userId": "15551081619854298243"
     },
     "user_tz": 240
    },
    "id": "BOtSW6eclIjy",
    "outputId": "5fcdf34b-2b95-4e8d-e56d-61662ae87e39"
   },
   "outputs": [],
   "source": [
    "top_50 = beatles_billboard[beatles_billboard[\"Top.50.Billboard\"] > 0].sort_values('Year')\n",
    "\n",
    "top_50.set_index('Title', inplace=True)\n",
    "top_50['top-down'] = 50 - top_50['Top.50.Billboard']\n",
    "top_50['top-down'].plot(kind=\"bar\", figsize=(15, 10))\n",
    "# ax = plt.gca()\n",
    "# ax.invert_yaxis()\n",
    "plt.title(\"Beatles Top 50 Hits 1962-1969\")\n",
    "plt.xlabel(\"Song Title\")\n",
    "plt.ylabel(\"Position in Top 50\")\n",
    "plt.show()"
   ]
  }
 ],
 "metadata": {
  "colab": {
   "collapsed_sections": [],
   "name": "M255_B_Pandas.ipynb",
   "provenance": [],
   "toc_visible": true
  },
  "kernelspec": {
   "display_name": "Python 3 (ipykernel)",
   "language": "python",
   "name": "python3"
  },
  "language_info": {
   "codemirror_mode": {
    "name": "ipython",
    "version": 3
   },
   "file_extension": ".py",
   "mimetype": "text/x-python",
   "name": "python",
   "nbconvert_exporter": "python",
   "pygments_lexer": "ipython3",
   "version": "3.9.12"
  },
  "toc": {
   "base_numbering": 1,
   "nav_menu": {},
   "number_sections": true,
   "sideBar": true,
   "skip_h1_title": false,
   "title_cell": "Table of Contents",
   "title_sidebar": "Contents",
   "toc_cell": false,
   "toc_position": {},
   "toc_section_display": true,
   "toc_window_display": false
  }
 },
 "nbformat": 4,
 "nbformat_minor": 1
}

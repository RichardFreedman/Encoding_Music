{
 "cells": [
  {
   "attachments": {},
   "cell_type": "markdown",
   "metadata": {
    "id": "6v3KxaNEb4rV"
   },
   "source": [
    "___________\n",
    "# **Music Data Analysis: Spotify API with Pandas, Altair, and NetworkX**\n",
    "\n",
    "This notebook illustrates several ways to operate Spotify API using Spotipy – a Python package designed to enable user-friendly (ish) interactions with Spotify's music metadata. In Part I of this notebook, we will use Spotipy and Pandas to **set up a DataFrame containing a collection of songs (tracks)** found by a playlist ID. Then, we will investigate ways to **visually represent and compare** this collection using Altair (Part II) and explore the basics of **network graph visualization** using Pyvis and NetworkX.\n",
    "\n",
    "You can learn more about these resources here:\n",
    "* [Spotify API](https://developer.spotify.com/documentation/web-api/)\n",
    "* [Spotipy](https://spotipy.readthedocs.io/en/master/#)\n",
    "* [Pandas](https://pandas.pydata.org/)\n",
    "* [Altair](https://altair-viz.github.io/)\n",
    "* [Pyvis](https://pyvis.readthedocs.io/en/latest/)\n",
    "* [NetworkX](https://networkx.org/)\n",
    "\n",
    "### Brief Introduction: Spotify, APIs, Spotify API\n",
    "\n",
    "As many of you know, **Spotify** is a paid music streaming web application launched in 2006. The service has about 182 million subscribers and hosts more than 70 million tracks. In 2014, Spotify released **Spotify API**, a web-based interface that allows anyone with a Spotify account to search, analyze, and manipulate Spotify's music metadata. In short, **an API** is a piece of software that enables two or more programs to talk to each other. You can learn more about APIs [here](https://en.wikipedia.org/wiki/API).\n",
    "\n",
    "Going through this notebook, you'll be able to request Spotify API access for your personal notebook and perform all sorts of analyses on the tracks, users, artists, albums, and playlists of your interest. While some of the material covered in this Notebook is very basic, some elements might seem quite puzzling. Please don't hesitate to reach out and ask questions.\n",
    "______"
   ]
  },
  {
   "attachments": {},
   "cell_type": "markdown",
   "metadata": {
    "id": "ImFERGv_da1f"
   },
   "source": [
    "## **Part 1: Setting up**\n",
    "#### Step 1.1: Importing Python Libraries"
   ]
  },
  {
   "cell_type": "code",
   "execution_count": 1,
   "metadata": {
    "id": "J0sq_fZkn5bu"
   },
   "outputs": [],
   "source": [
    "import pandas as pd\n",
    "import numpy as np\n",
    "import random\n",
    "import altair as alt\n",
    "import requests\n",
    "import inspect\n",
    "import spotipy\n",
    "from spotipy.oauth2 import SpotifyClientCredentials\n",
    "import networkx as nx\n",
    "import networkx.algorithms.community as nx_comm\n",
    "import matplotlib.cm as cm\n",
    "import matplotlib.pyplot as plt\n",
    "import pyvis\n",
    "from pyvis import network as net\n",
    "from itertools import combinations\n",
    "from community import community_louvain\n",
    "from copy import deepcopy\n",
    "import plotly.graph_objects as go\n",
    "import plotly.offline as pyo"
   ]
  },
  {
   "attachments": {},
   "cell_type": "markdown",
   "metadata": {
    "id": "Sy8V7SUQc4GQ"
   },
   "source": [
    "#### Step 1.2: Providing User Credentials\n",
    "\n",
    "\n",
    "In order to utilize the functionality of Spotify's API, you'll need to establish a connection between the local endpoint (your laptop) and the API (cloud). To do that, you'll need to create a **web client** (read more [here](https://en.wikipedia.org/wiki/Client_(computing))).\n",
    "\n",
    "A web client typically requires authentication parameters **(key and secret)**. Spotify API uses OAuth2.0 authorization scheme. As we don't want to trouble you with setting up your own tokens, we have created one common set of login credentials for this course. You can learn more about authentication [here](https://en.wikipedia.org/wiki/OAuth).\n",
    "\n",
    "Please find the tokens below:"
   ]
  },
  {
   "cell_type": "code",
   "execution_count": 2,
   "metadata": {
    "id": "vkLBlIayb35S"
   },
   "outputs": [],
   "source": [
    "# storing the credentials:\n",
    "CLIENT_ID = \"YOUR ID\"\n",
    "CLIENT_SECRET = \"YOUR SECRET\"\n",
    "my_username = \"YOUR USERNAME\"\n",
    "\n",
    "# instantiating the client\n",
    "# source: Max Hilsdorf (https://towardsdatascience.com/how-to-create-large-music-datasets-using-spotipy-40e7242cc6a6)\n",
    "client_credentials_manager = SpotifyClientCredentials(client_id=CLIENT_ID, client_secret=CLIENT_SECRET)\n",
    "sp = spotipy.Spotify(client_credentials_manager=client_credentials_manager)"
   ]
  },
  {
   "attachments": {},
   "cell_type": "markdown",
   "metadata": {
    "id": "lZansqNwdUPx"
   },
   "source": [
    "At this point, you should be perfectly able to access the API! Hence, we move on to scraping and analyzing music metadata."
   ]
  },
  {
   "attachments": {},
   "cell_type": "markdown",
   "metadata": {
    "id": "H23n1XqrdZhG"
   },
   "source": [
    "----------\n",
    "## **Part 2: Analyzing Playlists**\n",
    "\n",
    "### Step 2.1: Obtaining Data"
   ]
  },
  {
   "attachments": {},
   "cell_type": "markdown",
   "metadata": {
    "id": "UJvRL0UpeFV2"
   },
   "source": [
    "We can **get tracks in a playlist** of a user using the *sp.user_playlist_tracks(username, playlist)* method and turning it into a Pandas DataFrame. The two parameters we need for this are **user ID** and **playlist ID**; they can be easily found on the Spotify website or in the Spotify app. Just look in the URL bar and copy the IDs as Strings.\n",
    "\n",
    "In this we are using the following data:\n",
    "* \"sx47r9lq4dwrjx1r0ct9f9m09\": Oleh's **Spotify User ID**. Typically, a Spotify ID is formatted somewhat nicer (e.g. \"barackobama\" but Oleh somehow messed his up...\n",
    "* \"7KfWEjHxpcOIkqvDqMW5RV\": the **Playlist ID** for one of Oleh's playlists. \n",
    "\n",
    "Both playlist ID and User ID **can be found in a web browser** when accessing the User's or Playlist's webpage.\n",
    "\n",
    "* for example, Oleh's Spotify User page can be found at: \"https://open.spotify.com/user/sx47r9lq4dwrjx1r0ct9f9m09\", and you can see that the User ID is what follows ater \"...user/\", meaning \"sx47r9lq4dwrjx1r0ct9f9m09\"\n",
    "* for example, Spotify's featured Pop Mix playlist can be found at: \"https://open.spotify.com/playlist/37i9dQZF1EQncLwOalG3K7\", and you can find the Playlist ID ater \"...playlist/\", meaning \"37i9dQZF1EQncLwOalG3K7\""
   ]
  },
  {
   "cell_type": "code",
   "execution_count": 3,
   "metadata": {
    "colab": {
     "base_uri": "https://localhost:8080/",
     "height": 551
    },
    "id": "8YlTIyS9uXR-",
    "outputId": "96bd66cc-2833-4ea7-8845-a62209cac2a7"
   },
   "outputs": [],
   "source": [
    "full_40 = pd.DataFrame(sp.playlist_items(\"7cmryeqK3ftJ4L6IzobBax\"))\n",
    "sample_10_A = pd.DataFrame(sp.playlist_items(\"1NppEwvZhkjeG3ZTYoOwVM\"))\n",
    "sample_10_B = pd.DataFrame(sp.playlist_items(\"2hfOGugGPsjfPTYKlZojom\"))\n",
    "\n"
   ]
  },
  {
   "attachments": {},
   "cell_type": "markdown",
   "metadata": {
    "id": "TzSVH6dJpaBM"
   },
   "source": [
    "We can take a look at an **individual track** here:"
   ]
  },
  {
   "attachments": {},
   "cell_type": "markdown",
   "metadata": {},
   "source": [
    "As you can see, each track has **a large number of recorded audio features**. These are typically generated by Spotify and cover various musical aspects, ranging from Loudness to Liveness, from Danceability to Duration, and from Tempo to Time Signature. The feature values are of different **data types**: \"key\" is an **Integer**, \"energy\" is a **Float**, \"id\" is a **String**, and \"mode\" is a **Boolean** represented as Integer. As you work your way through this notebook, you will discover many options to count, bin, sort, graph, and connect variables and values of different types.\n",
    "\n",
    "Consider the function below (courtesy of Max Hilsdorf), which can help us **loop through the items of a playlist and get every track's [audio] features of interest**:"
   ]
  },
  {
   "cell_type": "code",
   "execution_count": 3,
   "metadata": {
    "id": "x7Cz453aiOoO"
   },
   "outputs": [],
   "source": [
    "# This function is created based on Max Hilsdorf's article\n",
    "# Source: https://towardsdatascience.com/how-to-create-large-music-datasets-using-spotipy-40e7242cc6a6\n",
    "def get_audio_features_df(playlist):\n",
    "    \n",
    "    # Create an empty dataframe\n",
    "    playlist_features_list = [\"artist\", \"album\", \"track_name\", \"track_id\",\"danceability\",\"energy\",\"key\",\"loudness\",\"mode\", \"speechiness\",\"instrumentalness\",\"liveness\",\"valence\",\"tempo\", \"duration_ms\",\"time_signature\"]\n",
    "    playlist_df = pd.DataFrame(columns = playlist_features_list)\n",
    "    \n",
    "    # Loop through every track in the playlist, extract features and append the features to the playlist df\n",
    "    for track in playlist[\"items\"]:\n",
    "        # Create empty dict\n",
    "        playlist_features = {}\n",
    "        # Get metadata\n",
    "        playlist_features[\"artist\"] = track[\"track\"][\"album\"][\"artists\"][0][\"name\"]\n",
    "        playlist_features[\"album\"] = track[\"track\"][\"album\"][\"name\"]\n",
    "        playlist_features[\"track_name\"] = track[\"track\"][\"name\"]\n",
    "        playlist_features[\"track_id\"] = track[\"track\"][\"id\"]\n",
    "        \n",
    "        # Get audio features\n",
    "        audio_features = sp.audio_features(playlist_features[\"track_id\"])[0]\n",
    "        for feature in playlist_features_list[4:]:\n",
    "            playlist_features[feature] = audio_features[feature]\n",
    "        \n",
    "        # Concat the DataFrames\n",
    "        track_df = pd.DataFrame(playlist_features, index = [0])\n",
    "        playlist_df = pd.concat([playlist_df, track_df], ignore_index = True)\n",
    "        \n",
    "    return playlist_df"
   ]
  },
  {
   "attachments": {},
   "cell_type": "markdown",
   "metadata": {},
   "source": [
    "Note: the **@playlist parameter** (that is passed in to the get_audio_features_df() method) should be a **DataFrame consisting of several track objects**. In our case, we have one such collection stored in **playlist_tracks**, which we got from calling sp.user_playlist_tracks() on a playlist and storing it as a Pandas DataFrame. \n",
    "\n",
    "Hence, we run the get_audio_features_df() method on our collection to obtain the **audio features DataFrame** for the tracks in **playlist_tracks**."
   ]
  },
  {
   "cell_type": "code",
   "execution_count": 5,
   "metadata": {
    "colab": {
     "base_uri": "https://localhost:8080/",
     "height": 997
    },
    "id": "XGeTvyWRjFod",
    "outputId": "03703c93-84be-4801-970f-06fbeae7899b"
   },
   "outputs": [
    {
     "data": {
      "text/html": [
       "<div>\n",
       "<style scoped>\n",
       "    .dataframe tbody tr th:only-of-type {\n",
       "        vertical-align: middle;\n",
       "    }\n",
       "\n",
       "    .dataframe tbody tr th {\n",
       "        vertical-align: top;\n",
       "    }\n",
       "\n",
       "    .dataframe thead th {\n",
       "        text-align: right;\n",
       "    }\n",
       "</style>\n",
       "<table border=\"1\" class=\"dataframe\">\n",
       "  <thead>\n",
       "    <tr style=\"text-align: right;\">\n",
       "      <th></th>\n",
       "      <th>artist</th>\n",
       "      <th>album</th>\n",
       "      <th>track_name</th>\n",
       "      <th>track_id</th>\n",
       "      <th>danceability</th>\n",
       "      <th>energy</th>\n",
       "      <th>key</th>\n",
       "      <th>loudness</th>\n",
       "      <th>mode</th>\n",
       "      <th>speechiness</th>\n",
       "      <th>instrumentalness</th>\n",
       "      <th>liveness</th>\n",
       "      <th>valence</th>\n",
       "      <th>tempo</th>\n",
       "      <th>duration_ms</th>\n",
       "      <th>time_signature</th>\n",
       "    </tr>\n",
       "  </thead>\n",
       "  <tbody>\n",
       "    <tr>\n",
       "      <th>0</th>\n",
       "      <td>Aretha Franklin</td>\n",
       "      <td>Respect - The Very Best of</td>\n",
       "      <td>I Say a Little Prayer</td>\n",
       "      <td>0FD8KMG4pHp0O9clTpChjp</td>\n",
       "      <td>0.590</td>\n",
       "      <td>0.355</td>\n",
       "      <td>9</td>\n",
       "      <td>-14.051</td>\n",
       "      <td>1</td>\n",
       "      <td>0.0352</td>\n",
       "      <td>0</td>\n",
       "      <td>0.0585</td>\n",
       "      <td>0.499</td>\n",
       "      <td>133.030</td>\n",
       "      <td>216773</td>\n",
       "      <td>4</td>\n",
       "    </tr>\n",
       "    <tr>\n",
       "      <th>1</th>\n",
       "      <td>Ben E. King</td>\n",
       "      <td>Stand By Me</td>\n",
       "      <td>Stand By Me</td>\n",
       "      <td>2KQM3kDM0zMBC9iynePBbS</td>\n",
       "      <td>0.653</td>\n",
       "      <td>0.334</td>\n",
       "      <td>9</td>\n",
       "      <td>-6.955</td>\n",
       "      <td>1</td>\n",
       "      <td>0.0313</td>\n",
       "      <td>0.000035</td>\n",
       "      <td>0.1230</td>\n",
       "      <td>0.665</td>\n",
       "      <td>119.460</td>\n",
       "      <td>174253</td>\n",
       "      <td>4</td>\n",
       "    </tr>\n",
       "    <tr>\n",
       "      <th>2</th>\n",
       "      <td>Louis Armstrong</td>\n",
       "      <td>What A Wonderful World</td>\n",
       "      <td>What A Wonderful World</td>\n",
       "      <td>29U7stRjqHU6rMiS8BfaI9</td>\n",
       "      <td>0.271</td>\n",
       "      <td>0.165</td>\n",
       "      <td>5</td>\n",
       "      <td>-20.652</td>\n",
       "      <td>1</td>\n",
       "      <td>0.0351</td>\n",
       "      <td>0.000002</td>\n",
       "      <td>0.1180</td>\n",
       "      <td>0.203</td>\n",
       "      <td>77.082</td>\n",
       "      <td>139227</td>\n",
       "      <td>4</td>\n",
       "    </tr>\n",
       "    <tr>\n",
       "      <th>3</th>\n",
       "      <td>Santana</td>\n",
       "      <td>Abraxas</td>\n",
       "      <td>Oye Como Va</td>\n",
       "      <td>5u6y4u5EgDv0peILf60H5t</td>\n",
       "      <td>0.736</td>\n",
       "      <td>0.379</td>\n",
       "      <td>7</td>\n",
       "      <td>-13.208</td>\n",
       "      <td>1</td>\n",
       "      <td>0.0539</td>\n",
       "      <td>0.345</td>\n",
       "      <td>0.1040</td>\n",
       "      <td>0.948</td>\n",
       "      <td>128.399</td>\n",
       "      <td>256933</td>\n",
       "      <td>4</td>\n",
       "    </tr>\n",
       "    <tr>\n",
       "      <th>4</th>\n",
       "      <td>The Temptations</td>\n",
       "      <td>The Temptations Sing Smokey</td>\n",
       "      <td>My Girl</td>\n",
       "      <td>745H5CctFr12Mo7cqa1BMH</td>\n",
       "      <td>0.572</td>\n",
       "      <td>0.418</td>\n",
       "      <td>0</td>\n",
       "      <td>-10.738</td>\n",
       "      <td>1</td>\n",
       "      <td>0.0349</td>\n",
       "      <td>0</td>\n",
       "      <td>0.0961</td>\n",
       "      <td>0.694</td>\n",
       "      <td>104.566</td>\n",
       "      <td>165000</td>\n",
       "      <td>4</td>\n",
       "    </tr>\n",
       "  </tbody>\n",
       "</table>\n",
       "</div>"
      ],
      "text/plain": [
       "            artist                        album              track_name  \\\n",
       "0  Aretha Franklin   Respect - The Very Best of   I Say a Little Prayer   \n",
       "1      Ben E. King                  Stand By Me             Stand By Me   \n",
       "2  Louis Armstrong       What A Wonderful World  What A Wonderful World   \n",
       "3          Santana                      Abraxas             Oye Como Va   \n",
       "4  The Temptations  The Temptations Sing Smokey                 My Girl   \n",
       "\n",
       "                 track_id  danceability  energy key  loudness mode  \\\n",
       "0  0FD8KMG4pHp0O9clTpChjp         0.590   0.355   9   -14.051    1   \n",
       "1  2KQM3kDM0zMBC9iynePBbS         0.653   0.334   9    -6.955    1   \n",
       "2  29U7stRjqHU6rMiS8BfaI9         0.271   0.165   5   -20.652    1   \n",
       "3  5u6y4u5EgDv0peILf60H5t         0.736   0.379   7   -13.208    1   \n",
       "4  745H5CctFr12Mo7cqa1BMH         0.572   0.418   0   -10.738    1   \n",
       "\n",
       "   speechiness instrumentalness  liveness  valence    tempo duration_ms  \\\n",
       "0       0.0352                0    0.0585    0.499  133.030      216773   \n",
       "1       0.0313         0.000035    0.1230    0.665  119.460      174253   \n",
       "2       0.0351         0.000002    0.1180    0.203   77.082      139227   \n",
       "3       0.0539            0.345    0.1040    0.948  128.399      256933   \n",
       "4       0.0349                0    0.0961    0.694  104.566      165000   \n",
       "\n",
       "  time_signature  \n",
       "0              4  \n",
       "1              4  \n",
       "2              4  \n",
       "3              4  \n",
       "4              4  "
      ]
     },
     "execution_count": 5,
     "metadata": {},
     "output_type": "execute_result"
    }
   ],
   "source": [
    "audio_features_df = get_audio_features_df(sample_10_B)\n",
    "len(audio_features_df)\n",
    "audio_features_df.head()"
   ]
  },
  {
   "attachments": {},
   "cell_type": "markdown",
   "metadata": {},
   "source": [
    "As you can see above, our new DataFrame contains **Spotify's audio features for every track in the provided playlist**.\n",
    "\n",
    "### Step 2.2: Charting Data with Radar Plot\n",
    "\n",
    ">`feature_columns = [\"danceability\", \"energy\", \"speechiness\", \"liveness\", \"instrumentalness\", \"valence\", \"danceability\"]\n",
    "def createRadarElement(row, feature_cols):\n",
    "    return go.Scatterpolar(\n",
    "        r = row[feature_cols].values.tolist(), \n",
    "        theta = feature_cols, \n",
    "        mode = 'lines', \n",
    "        name = row['track_name'])\n",
    "def get_radar_plot(playlist_id, features_list):\n",
    "    current_playlist_audio_df = get_audio_features_df(pd.DataFrame(sp.playlist_items(playlist_id)))\n",
    "    current_data = list(current_playlist_audio_df.apply(createRadarElement, axis=1, args=(features_list, )))  \n",
    "    fig = go.Figure(current_data, )\n",
    "    fig.write_image(playlist_id + '.png', width=1200, height=800)\n",
    "def get_radar_plots(playlist_id_list, features_list):\n",
    "    for item in playlist_id_list:\n",
    "        get_radar_plot(item, features_list)`\n",
    "\n"
   ]
  },
  {
   "attachments": {},
   "cell_type": "markdown",
   "metadata": {},
   "source": [
    "### Import Libraries and Define Functions"
   ]
  },
  {
   "cell_type": "code",
   "execution_count": 8,
   "metadata": {},
   "outputs": [],
   "source": [
    "feature_columns = [\"danceability\", \"energy\", \"speechiness\", \"liveness\", \"instrumentalness\", \"valence\", \"danceability\"]\n",
    "\n",
    "def createRadarElement(row, feature_cols):\n",
    "    return go.Scatterpolar(\n",
    "        r = row[feature_cols].values.tolist(), \n",
    "        theta = feature_cols, \n",
    "        mode = 'lines', \n",
    "        name = row['track_name'])\n",
    "\n",
    "def get_radar_plot(playlist_id, features_list):\n",
    "    current_playlist_audio_df = get_audio_features_df(pd.DataFrame(sp.playlist_items(playlist_id)))\n",
    "    current_data = list(current_playlist_audio_df.apply(createRadarElement, axis=1, args=(features_list, )))  \n",
    "    fig = go.Figure(current_data, )\n",
    "    fig.show(renderer='iframe')\n",
    "    fig.write_image(playlist_id + '.png', width=1200, height=800)\n",
    "    \n",
    "def get_radar_plots(playlist_id_list, features_list):\n",
    "    for item in playlist_id_list:\n",
    "        get_radar_plot(item, features_list)"
   ]
  },
  {
   "attachments": {},
   "cell_type": "markdown",
   "metadata": {},
   "source": [
    "#### Define set of Playlists and Create Radar Plots\n",
    "\n",
    "Note:  the plot will be rendered as the given filename in the main folder of your Jupyter Hub.  To see it, 'refresh' the folder and click on that file!\n",
    "\n"
   ]
  },
  {
   "attachments": {},
   "cell_type": "markdown",
   "metadata": {},
   "source": [
    "### For One Playlist:"
   ]
  },
  {
   "cell_type": "code",
   "execution_count": 9,
   "metadata": {},
   "outputs": [
    {
     "data": {
      "text/html": [
       "<iframe\n",
       "    scrolling=\"no\"\n",
       "    width=\"100%\"\n",
       "    height=\"545px\"\n",
       "    src=\"iframe_figures/figure_9.html\"\n",
       "    frameborder=\"0\"\n",
       "    allowfullscreen\n",
       "></iframe>\n"
      ]
     },
     "metadata": {},
     "output_type": "display_data"
    }
   ],
   "source": [
    "playlist_id = \"1NppEwvZhkjeG3ZTYoOwVM\"\n",
    "get_radar_plot(playlist_id, feature_columns)"
   ]
  },
  {
   "attachments": {},
   "cell_type": "markdown",
   "metadata": {},
   "source": [
    "### For Several Playlists:"
   ]
  },
  {
   "cell_type": "code",
   "execution_count": 10,
   "metadata": {},
   "outputs": [
    {
     "data": {
      "text/html": [
       "<iframe\n",
       "    scrolling=\"no\"\n",
       "    width=\"100%\"\n",
       "    height=\"545px\"\n",
       "    src=\"iframe_figures/figure_10.html\"\n",
       "    frameborder=\"0\"\n",
       "    allowfullscreen\n",
       "></iframe>\n"
      ]
     },
     "metadata": {},
     "output_type": "display_data"
    },
    {
     "data": {
      "text/html": [
       "<iframe\n",
       "    scrolling=\"no\"\n",
       "    width=\"100%\"\n",
       "    height=\"545px\"\n",
       "    src=\"iframe_figures/figure_10.html\"\n",
       "    frameborder=\"0\"\n",
       "    allowfullscreen\n",
       "></iframe>\n"
      ]
     },
     "metadata": {},
     "output_type": "display_data"
    }
   ],
   "source": [
    "list_of_playlists = [\"1NppEwvZhkjeG3ZTYoOwVM\",\n",
    "                \"2hfOGugGPsjfPTYKlZojom\"]\n",
    "#                 \"6QWlhkFUKDxhW91gfMisNl\",\n",
    "#                 \"1d4mKuQzM62pmSqrQKU9EX\",\n",
    "#                 \"5NuMif6wvlJeJv4dMuX5eh\",\n",
    "#                 \"4sWTtloXKghMS1cz48f2qI\"]\n",
    "\n",
    "get_radar_plots(list_of_playlists, feature_columns)"
   ]
  },
  {
   "cell_type": "code",
   "execution_count": null,
   "metadata": {},
   "outputs": [],
   "source": []
  }
 ],
 "metadata": {
  "colab": {
   "collapsed_sections": [],
   "provenance": []
  },
  "kernelspec": {
   "display_name": "Python 3 (ipykernel)",
   "language": "python",
   "name": "python3"
  },
  "language_info": {
   "codemirror_mode": {
    "name": "ipython",
    "version": 3
   },
   "file_extension": ".py",
   "mimetype": "text/x-python",
   "name": "python",
   "nbconvert_exporter": "python",
   "pygments_lexer": "ipython3",
   "version": "3.9.12"
  }
 },
 "nbformat": 4,
 "nbformat_minor": 1
}

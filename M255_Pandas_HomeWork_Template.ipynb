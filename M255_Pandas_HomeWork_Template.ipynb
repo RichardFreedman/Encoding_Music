{
 "cells": [
  {
   "cell_type": "markdown",
   "metadata": {},
   "source": [
    "____________________\n",
    "# Music 255: Pandas Homework"
   ]
  },
  {
   "cell_type": "markdown",
   "metadata": {
    "id": "WhdBzidHIImH"
   },
   "source": [
    "In this homework assignment, you will get a chance to work on:\n",
    "\n",
    "* **data clean up**: type checking, formatting, variable range\n",
    "* **filtering and sorting**: producing desired subsets of data\n",
    "* **customization**: creating new columns, entries, merging datasets\n",
    "\n",
    "Read more about Pandas [here](https://pandas.pydata.org/about/\n",
    ").\n",
    "\n",
    "Find Pandas Tutorials [here](https://www.w3schools.com/python/pandas/default.asp).\n",
    "\n",
    "Pandas Cheat Sheet:  [here](https://pandas.pydata.org/Pandas_Cheat_Sheet.pdf).\n",
    "\n",
    "Also remember the guide to various Pandas features in the **M225_B_Pandas Jupyter Notebook**, \n",
    "which uses data sets for the Beatles to demonstrate the methods."
   ]
  },
  {
   "cell_type": "markdown",
   "metadata": {
    "id": "dZVsIj-mIImH"
   },
   "source": [
    "#### Setup: Import Libraries"
   ]
  },
  {
   "cell_type": "code",
   "execution_count": 3,
   "metadata": {
    "ExecuteTime": {
     "end_time": "2022-02-10T23:28:15.994052Z",
     "start_time": "2022-02-10T23:28:14.791696Z"
    },
    "id": "3_H8IHsFIImI"
   },
   "outputs": [],
   "source": [
    "import pandas as pd\n",
    "import matplotlib.pyplot as plt\n",
    "import numpy as np"
   ]
  },
  {
   "cell_type": "markdown",
   "metadata": {},
   "source": [
    "____________________"
   ]
  },
  {
   "cell_type": "markdown",
   "metadata": {},
   "source": [
    "# Part 1: Import Data\n",
    "\n",
    "As a reminder:\n",
    "\n",
    "\n",
    "Pandas **data frames** are the basic unit upon which all operations take place.  Data frames are like spreadsheets, with columns and rows.\n",
    "\n",
    "Indeed, Pandas can easily import spreadsheets in **CSV** (comma-separated values) format.  We will also import data from databases in **JSON** format (JavaScript Object Notation), similar to a Python dictionary.  There are special scripts for working with JSON, too.\n",
    "\n",
    "Pandas can export as well as import these formats (among others)."
   ]
  },
  {
   "cell_type": "markdown",
   "metadata": {},
   "source": [
    "In this portion of the homework, you will be asked to import one of the four datasets we compiled for you:\n",
    "\n",
    "* Beatles: https://docs.google.com/spreadsheets/d/e/2PACX-1vS5BmNaCGD2fZW_csT6pQHD42pkAP9Dy-Vm5qnbQl03Y4ZvAbp_b5NRFNQ0fBSBCvpN6RCxowRc9AQ_/pub?output=csv  <br><br>\n",
    "* Rolling Stones: https://docs.google.com/spreadsheets/d/e/2PACX-1vQHD3EgBmbdiAAhiS_wML0suRow6r8q26x8k3g7QqyjaGAjDyp0nEymaasQiuDgtDEYm0HOD1MZaJUJ/pub?output=csv <br><br>\n",
    "* Led Zeppelin: https://docs.google.com/spreadsheets/d/e/2PACX-1vQx7QDXjfB4d_7tav01q0zyZMaGrffldBhUenDJaJt03DH4bTTOneM8srUnJ8zkQ425_xIIXXty5Dzy/pub?output=csv <br><br>\n",
    "* Bob Dylan: https://docs.google.com/spreadsheets/d/e/2PACX-1vRW3Vi8boPnwbnAwI1sRkJ-D4mF24esW1KvWm7rMueD4hFp2Vu6zXHCgOtEgkD383ZHgQow0j2DKGEM/pub?output=csv\n",
    "\n",
    "Use the cell below to save your dataset into a Pandas DataFrame:"
   ]
  },
  {
   "cell_type": "code",
   "execution_count": 30,
   "metadata": {},
   "outputs": [],
   "source": [
    "url = \"paste the link to your dataset here\"\n",
    "imported_dataset = pd.read_csv(url)"
   ]
  },
  {
   "cell_type": "markdown",
   "metadata": {},
   "source": [
    "In the cell below, write a code that will output the **first three rows** of your DataFrame:"
   ]
  },
  {
   "cell_type": "code",
   "execution_count": 31,
   "metadata": {},
   "outputs": [],
   "source": [
    "# make this cell output the first three rows of your DataFrame"
   ]
  },
  {
   "cell_type": "markdown",
   "metadata": {},
   "source": [
    "It is also important to obtain the metadata for your dataset. Typically, a data sample is described by its mean, standard deviation, size, shape, and datatypes. Please use the cell above to print out all available **information about your dataset** (use Lab Notebook B for reference):"
   ]
  },
  {
   "cell_type": "code",
   "execution_count": 32,
   "metadata": {},
   "outputs": [],
   "source": [
    "# describe your dataset"
   ]
  },
  {
   "cell_type": "markdown",
   "metadata": {},
   "source": [
    "____________________\n",
    "# Part 2: Data Clean Up\n",
    "\n",
    "Once you're familiar with your data, it likely needs to be cleaned. Some common practices include **type checking**, **dropping NaNs (Not a Number's)**, and **removing duplicate entries**. In the cells below, you'll get a chance to practice each of these techniques.\n",
    "\n",
    "#### Step 2.1: Type Checking\n",
    "\n",
    "One of the features provided by your Spotify Datasets is named \"mode\" and stands for the Musical Mode of a track. While Spotify's scores are typically binary (0 => Minor; 1 => Major), we sometimes encounter errors in these files: e.g. someone entered \"Major\" instead of 1.\n",
    "\n",
    "First, we ask you to type check your dataFrame. There is a built-in Pandas method that does this. Please use the cell below to output the **dataTypes for your DataFrame**:"
   ]
  },
  {
   "cell_type": "code",
   "execution_count": 33,
   "metadata": {},
   "outputs": [],
   "source": [
    "# use this cell to check the data types of your DataFrame"
   ]
  },
  {
   "cell_type": "markdown",
   "metadata": {},
   "source": [
    "At this point, you should be able to see that the \"mode\" column is of type Object. This is because it features both Integers (0's and 1's) and Strings (\"Major\" and \"Minor\"), so Python puts the values in an Object wrapper. \n",
    "\n",
    "At this point, we want to check to see what are all possible values in the column. Value range checking could be accomplished by calling Python's **set()** function on the DataFrame column. Please output the **set of all values of the \"mode\" column** in the cell below:"
   ]
  },
  {
   "cell_type": "code",
   "execution_count": 34,
   "metadata": {},
   "outputs": [],
   "source": [
    "# produce the set of all values in the \"mode\" column here"
   ]
  },
  {
   "cell_type": "markdown",
   "metadata": {},
   "source": [
    "In order to clean up this column, you'll need to **write a function** to clean up your data. This could be accomplished by **defining a function** and **applying it within the column**, or by utilizing the **lambda function definition**. \n",
    "\n",
    "Please use the cell below to **clean up the \"mode\" column**:"
   ]
  },
  {
   "cell_type": "code",
   "execution_count": 36,
   "metadata": {},
   "outputs": [
    {
     "data": {
      "text/plain": [
       "{'0', '1', 'Major', 'Minor'}"
      ]
     },
     "execution_count": 36,
     "metadata": {},
     "output_type": "execute_result"
    }
   ],
   "source": [
    "# your clean-up code here"
   ]
  },
  {
   "cell_type": "markdown",
   "metadata": {},
   "source": [
    "At this point, your \"mode\" column should only feature 1's and 0's. Please use the cell below to produce the **set of all values** in the column: "
   ]
  },
  {
   "cell_type": "code",
   "execution_count": null,
   "metadata": {},
   "outputs": [],
   "source": [
    "# produce the new set of all values in the \"mode\" column here"
   ]
  },
  {
   "cell_type": "markdown",
   "metadata": {},
   "source": [
    "#### Step 2.2: NaN Check\n",
    "\n",
    "Another useful data clean-up technique is getting rid of (known as \"dropping\") the empty values. In Python, a missing value is considered a NaN -- short for Not a Number (also known as None). In your Spotify dataset, several track entries (represented as dataset rows) have NaN/None in the \"valence\" column.\n",
    "\n",
    "In the cell below, produce a line of code that will **drop NaN's** in your dataset. Then, use Pandas to check for NaN's (see lab example)."
   ]
  },
  {
   "cell_type": "code",
   "execution_count": null,
   "metadata": {},
   "outputs": [],
   "source": [
    "# drop the None values; check if any left"
   ]
  },
  {
   "cell_type": "markdown",
   "metadata": {},
   "source": [
    "#### Step 2.3: Uniqueness\n",
    "\n",
    "Finally, sometimes it is very important to check for the uniqueness of the data entries. In the case of your Spotify dataset, we want to make sure no entry is repeated -- as we know that the same song featured in two different albums would be represented as two distinct entries.\n",
    "\n",
    "Please use the cell below to **remove duplicates** from your DataFrame."
   ]
  },
  {
   "cell_type": "code",
   "execution_count": null,
   "metadata": {},
   "outputs": [],
   "source": [
    "# remove duplicates here"
   ]
  },
  {
   "cell_type": "markdown",
   "metadata": {},
   "source": [
    "____________________\n",
    "# Part 3: Rearranging Data\n",
    "\n",
    "At this point, you should have a cleaned-up and well-compiled dataset that is ready to be analyzed. As part of configuring your data to fit your analysis purposes, you will often have to **rearrange, sort, filter, group, or bin** your entries. \n",
    "\n",
    "#### Step 3.1: Column Order\n",
    "\n",
    "Sometimes, you would have to **switch your columns around** in order to make your data appear a certain way. Please use the cell below to swap the \"loudness\" and \"mode\" columns in your dataset. Output the dataset's column names to showcase your result."
   ]
  },
  {
   "cell_type": "code",
   "execution_count": 15,
   "metadata": {},
   "outputs": [],
   "source": [
    "# rearrange columns here: return the columns names list"
   ]
  },
  {
   "cell_type": "markdown",
   "metadata": {},
   "source": [
    "#### Step 3.2: Row Order\n",
    "\n",
    "Similarly, sometimes you would have to **rearrange rows**. Use the cell below to swap rows 2 and 3. Output the head of the dataset to illustrate the change:"
   ]
  },
  {
   "cell_type": "code",
   "execution_count": 16,
   "metadata": {},
   "outputs": [],
   "source": [
    "# swap rows 2 and 3 here"
   ]
  },
  {
   "cell_type": "markdown",
   "metadata": {},
   "source": [
    "#### Step 3.3: Sorting\n",
    "\n",
    "Oftentimes, data needs to be sorted. Use the cell below to **sort the entries** in your DataFrame **based on energy**. That is, based on the values in the \"energy\" column (in ascending order). Output the first 10 rows of your dataset to illustrate the result: "
   ]
  },
  {
   "cell_type": "code",
   "execution_count": null,
   "metadata": {},
   "outputs": [],
   "source": [
    "# sort your data here"
   ]
  },
  {
   "cell_type": "markdown",
   "metadata": {},
   "source": [
    "#### Step 3.4: Filtering \n",
    "\n",
    "When working with data, you would often want to focus on a set of entries that match a criterion of interest. Naturally, Pandas has a very useful built-in filtering method: *pandas.DataFrame.filter*. You can read more about it [here](https://pandas.pydata.org/docs/reference/api/pandas.DataFrame.filter.html)\n",
    "\n",
    "Use the cell below to **filter all entries** and output those that have a score of 1 in the \"mode\" column and \"valence\" score > 0.7:"
   ]
  },
  {
   "cell_type": "code",
   "execution_count": null,
   "metadata": {},
   "outputs": [],
   "source": [
    "# filter your data here"
   ]
  },
  {
   "cell_type": "markdown",
   "metadata": {},
   "source": [
    "#### Step 3.5: Binning \n",
    "\n",
    "Another important tool is being able to categorize data. Oftentimes, this is done through \"binning\" -- assigning the entry to one of several discrete categories based on some continuous value. In our specific example, we will use the values in the \"danceability\" column (expressed as floats ranging from 0 to 1) to classify a track as a Dance Tune (0 => Not a Dance Tune; 1 => Definitely a Dance Tune). \n",
    "\n",
    "First, you need to think about picking a certain threshold value. Is Get Back by the Beatles (0.628 danceability rating) a Dance Tune? How about Doctor Robert (0.392 danceability score)? Use the code cell below to **pick your danceability threshold value** and save it as a variable. "
   ]
  },
  {
   "cell_type": "code",
   "execution_count": null,
   "metadata": {},
   "outputs": [],
   "source": [
    "# save your danceability threshold here"
   ]
  },
  {
   "cell_type": "markdown",
   "metadata": {},
   "source": [
    "Edit this cell to provide **verbal explanation** regarding your choice:\n",
    "\n",
    "#### Why I chose my threshold: "
   ]
  },
  {
   "cell_type": "markdown",
   "metadata": {},
   "source": [
    "Now, use the threshold you selected to **produce a column named \"DanceTune\"**. The new column should say *True* (boolean) **if a track has a danceability score equal to or above your chosen threshold**. Output the column to illustrate your result:"
   ]
  },
  {
   "cell_type": "code",
   "execution_count": null,
   "metadata": {},
   "outputs": [],
   "source": [
    "# bin danceability here; output the new column"
   ]
  },
  {
   "cell_type": "markdown",
   "metadata": {},
   "source": [
    "#### Step 3.6: Categorical Binning\n",
    "\n",
    "Sometimes, a simple True/False ranking isn't enough. For example, the \"tempo\" column provides the Beat Per Minute musical tempo value for a given track; this value typically ranges between 1 and ~500 bpm. While it is possible to classify tracks into Slow and Not Slow, it might be more useful to, for example, categorize them into \"Slow\", \"Medium\", and \"Fast\". \n",
    "\n",
    "Similarly to the previous task, use the space below to **come up with two relative thresholds** that would separate tempo into Slow, Medium, and Fast:"
   ]
  },
  {
   "cell_type": "code",
   "execution_count": null,
   "metadata": {},
   "outputs": [],
   "source": [
    "# save your tempo thresholds here"
   ]
  },
  {
   "cell_type": "markdown",
   "metadata": {},
   "source": [
    "Edit this cell to provide **verbal explanation** regarding your choice:\n",
    "\n",
    "#### Why I chose my thresholds: "
   ]
  },
  {
   "cell_type": "markdown",
   "metadata": {},
   "source": [
    "Now, use the threshold you selected to **produce a column named \"Pace\"**. The new column should say \"*Slow*\" (String) if a track has a tempo score below your lower threshold, \"*Medium*\" (String) if it has a tempo score equal to or above your lower threshold but below your upper threshold, and \"*Fast*\" (String) if its score is above your upper threshold. Output the column to illustrate your result:"
   ]
  },
  {
   "cell_type": "code",
   "execution_count": 18,
   "metadata": {},
   "outputs": [],
   "source": [
    "# add the new column here"
   ]
  },
  {
   "cell_type": "markdown",
   "metadata": {},
   "source": [
    "#### Step 3.7: Concatenating DataFrames\n",
    "\n",
    "As you are working with multiple datasets, you might find it useful to combine several datasets. There are two main ways to combine datasets: merging and concatenating. First, we ask you to explore **concatenating DataFrames** using Pandas' built-in *pandas.concat*.\n",
    "\n",
    "You can read more about Concatenation [here](https://pandas.pydata.org/docs/reference/api/pandas.concat.html).\n",
    "\n",
    " Use the cell below to import one of the other datasets (provided in the Import Data portion of this assignment) as a Pandas DataFrame and then concatenate it with your current dataset vertically **as a new dataset** (think about columns you have added). \n",
    "\n",
    "Output the new DataFrame to illustrate your result: "
   ]
  },
  {
   "cell_type": "code",
   "execution_count": null,
   "metadata": {},
   "outputs": [],
   "source": [
    "# produce the new combined DataFrame here:"
   ]
  },
  {
   "cell_type": "markdown",
   "metadata": {},
   "source": [
    "#### Step 3.8: Merging DataFrames\n",
    "\n",
    "While concatenating datasets usually means appending more entries that have the same features (columns), **merging DataFrames** enables appending new features (columns) for the same (or new) entries in your DataFrame. Here, we ask you to **merge two datasets** using Pandas' built-in *pandas.DataFrame.merge*.\n",
    "\n",
    "You can read more about Merging [here](https://pandas.pydata.org/docs/reference/api/pandas.DataFrame.merge.html).\n",
    "\n",
    "In order to help you explore merging, we created four datasets that feature Spotify's \"popularity\" ranking for the songs contained in the datasets you imported earlier. These additional datasets consist of four columns: \"artist\", \"track_name\", \"track_id\", and \"popularity\", and your task is to **merge** them so that your current DataFrame will have a new column containing the popularity ranking for each of the songs.\n",
    "\n",
    "Please find a link to your respective here:\n",
    "* Beatles popularity: https://docs.google.com/spreadsheets/d/e/2PACX-1vSf9XcJhVAgeLOsyfuiYlqrzeNKieKUkK3t6ciWUvU2OeNVVPYwd0k-GuHRIJqboZm-iXq_0w1BgNpT/pub?output=csv\n",
    "* Rolling Stones popularity: https://docs.google.com/spreadsheets/d/e/2PACX-1vQTUY4IuZ46dVg4-GrYUg0VpyM5cAlgY1UwDmo4p2QPJhpQxTr6SE5Go2ZVuSQO-bmQir6T1VFpoMGp/pub?output=csv\n",
    "* Led Zeppelin popularity: https://docs.google.com/spreadsheets/d/e/2PACX-1vSPa8PgnlqkxtVch_FpnV1y2G1MVu54KddLYrYcswQVEWa0Cu-ZRIrOPjmq2h_uT1QAnX8JPNppFcxy/pub?output=csv\n",
    "* Bob Dylan popularity: https://docs.google.com/spreadsheets/d/e/2PACX-1vTA6lVKOQ7YBpqGPHtyQHwZi58cdubeN2qE686ga682xLHp95EOrq2NaNoyWZ2Rpo_ZqdY_xyIbA1bc/pub?output=csv\n",
    "\n",
    "Use the cell below to import one of the other datasets as a Pandas DataFrame and then merge it with your current dataset (horizontally) **in place** (updating the current DataFrame). You should think about the columns you have added and make sure no columns repeat. \n",
    "\n",
    "Output the new DataFrame to illustrate your result: "
   ]
  },
  {
   "cell_type": "markdown",
   "metadata": {},
   "source": [
    "____________________\n",
    "# Part 4: Data Analysis\n",
    "\n",
    "As a final portion of this assignment, we ask you to explore some Data Analysis techniques in Pandas.\n",
    "\n",
    "#### Step 4.1: Correlation\n",
    "\n",
    "One useful metric of two variables relating to each other is the **correlation coefficient**. In general, the correlation coefficient is a measure of how closely related are the data for two variables: whether the points form a linear relationship.\n",
    "\n",
    "You can read more about Correlation Coefficients [here](https://en.wikipedia.org/wiki/Correlation_coefficient).\n",
    "\n",
    "There are several ways to measure correlation in Pandas, including pairwise correlation (read more [here](https://pandas.pydata.org/docs/reference/api/pandas.Series.corr.html#pandas.Series.corr)) and the correlation matrix (read more [here](https://pandas.pydata.org/docs/reference/api/pandas.DataFrame.corr.html)).\n",
    "\n",
    " Use the cell below to **find the Pearson correlation coefficient** between two variables (think columns) of your choice within your dataset:"
   ]
  },
  {
   "cell_type": "code",
   "execution_count": 19,
   "metadata": {},
   "outputs": [],
   "source": [
    "# explore correlation here"
   ]
  },
  {
   "cell_type": "markdown",
   "metadata": {},
   "source": [
    "Use this cell to explain why you chose the two variables and what you were able to find:\n",
    "\n",
    "#### Why I chose my thresholds:\n"
   ]
  },
  {
   "cell_type": "markdown",
   "metadata": {},
   "source": [
    "#### Step 4.2: Count\n",
    "\n",
    "Another tool you might find useful is **counting data entries** that match a given condition. Use the cell below to count DanceTunes that are Slow:"
   ]
  },
  {
   "cell_type": "code",
   "execution_count": null,
   "metadata": {},
   "outputs": [],
   "source": [
    "# count entries here"
   ]
  },
  {
   "cell_type": "markdown",
   "metadata": {},
   "source": [
    "#### Step 4.3: Simple Charts\n",
    "\n",
    "Finally, it is extremely useful to produce visual results for your data. There are many types of charts to choose from, including Scatterplots, Pie Charts, Histograms, and many others. You can read more about matplotlib graphs [here](https://pandas.pydata.org/pandas-docs/version/0.13/visualization.html) and find some useful altair information [here](https://pbpython.com/altair-intro.html).\n",
    "\n",
    "Use the cell below to **produce a simple scatter plot** using matplotlib or altair based on two variables of your choice:"
   ]
  },
  {
   "cell_type": "code",
   "execution_count": null,
   "metadata": {},
   "outputs": [],
   "source": [
    "# produce your scatter plot here"
   ]
  },
  {
   "cell_type": "markdown",
   "metadata": {},
   "source": [
    "Use this cell to explain why you chose the variables to graph out and how one could interpret the results:\n",
    "\n",
    "#### Thoughts:"
   ]
  },
  {
   "cell_type": "markdown",
   "metadata": {},
   "source": [
    "____________________\n",
    "# Reflections (optional)\n",
    "\n",
    "Please use this space to reflect on your experience, ask any additional questions, or suggest changes to this or other assignments."
   ]
  }
 ],
 "metadata": {
  "colab": {
   "collapsed_sections": [],
   "name": "M255_B_Pandas.ipynb",
   "provenance": [],
   "toc_visible": true
  },
  "kernelspec": {
   "display_name": "Python 3 (ipykernel)",
   "language": "python",
   "name": "python3"
  },
  "language_info": {
   "codemirror_mode": {
    "name": "ipython",
    "version": 3
   },
   "file_extension": ".py",
   "mimetype": "text/x-python",
   "name": "python",
   "nbconvert_exporter": "python",
   "pygments_lexer": "ipython3",
   "version": "3.9.12-final"
  },
  "toc": {
   "base_numbering": 1,
   "nav_menu": {},
   "number_sections": true,
   "sideBar": true,
   "skip_h1_title": false,
   "title_cell": "Table of Contents",
   "title_sidebar": "Contents",
   "toc_cell": false,
   "toc_position": {},
   "toc_section_display": true,
   "toc_window_display": false
  }
 },
 "nbformat": 4,
 "nbformat_minor": 1
}
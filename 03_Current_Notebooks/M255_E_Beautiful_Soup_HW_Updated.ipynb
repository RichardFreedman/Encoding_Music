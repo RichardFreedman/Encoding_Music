{
 "cells": [
  {
   "cell_type": "markdown",
   "metadata": {},
   "source": [
    "____________________\n",
    "# Music 255: XML Encoding and Beautiful Soup"
   ]
  },
  {
   "cell_type": "markdown",
   "metadata": {
    "id": "WhdBzidHIImH"
   },
   "source": [
    "In this homework assignment, you will get an opportunity to engage, explore, and experiment with **XML** files through Python and **Beautiful Soup**. As mentioned in class, **XML** stands for **eXtensible Markup Language** and mainly serves to transport and store data. At its core, XML was designed to be **both machine- and human-readable**. In the case of music files, the common encoding standard is **MEI**, which stands for **Music Encoding Initiative** and is built on top of the XML framework.\n",
    "\n",
    "\n",
    "Mainly, this homework focuses on:\n",
    "\n",
    "* **access**: downloading, storing, reading, processing XML files\n",
    "* **analysis**: performing basic quantitative and qualitative analysis of XML files\n",
    "* **interpretation**: exploring the meaning and utility of XML files from both analytical and creative perspectives \n",
    "\n",
    "As we deal with these files, we will make use of Beautiful Soup – a Python library that makes interacting with XML and HTML friendly and comfortable. Or at least tries to... You can access Beautiful Soup's documentation [here](https://www.crummy.com/software/BeautifulSoup/bs4/doc/).\n",
    "\n",
    "XML files are guided by **markup rules**, which you can read more about [here](https://www.w3schools.com/xml/xml_syntax.asp) and consist of **elements**, which you can dive into [here](https://www.w3schools.com/xml/xml_elements.asp).\n",
    "\n",
    "MEI files are primarily XML files with music-specific sections, elements, and structure. You can learn more about MEI [here](https://music-encoding.org/).\n",
    "\n",
    "\n",
    "#### Find your pieces from the CRIM Corpus:\n",
    "\n",
    "* Each of you will focus on ONE model and its derivative Mass. Find your set [here](https://docs.google.com/spreadsheets/d/140JbgdPz1yBsbnF_umN3iq-nmC9drLgBtJ9Qd4hk6zE/edit#gid=0).\n",
    "\n",
    "----"
   ]
  },
  {
   "cell_type": "markdown",
   "metadata": {
    "id": "dZVsIj-mIImH"
   },
   "source": [
    "#### Setup: Importing Python Libraries"
   ]
  },
  {
   "cell_type": "code",
   "execution_count": 1,
   "metadata": {
    "ExecuteTime": {
     "end_time": "2022-02-10T23:28:15.994052Z",
     "start_time": "2022-02-10T23:28:14.791696Z"
    },
    "id": "3_H8IHsFIImI"
   },
   "outputs": [],
   "source": [
    "import pandas as pd\n",
    "import matplotlib.pyplot as plt\n",
    "import numpy as np\n",
    "import os\n",
    "from bs4 import BeautifulSoup as bs\n",
    "import optparse\n",
    "import sys\n",
    "from pathlib import Path\n",
    "import requests\n",
    "from lxml import etree\n",
    "import re\n",
    "from collections import Counter"
   ]
  },
  {
   "cell_type": "markdown",
   "metadata": {},
   "source": [
    "____________________\n",
    "# Part 1: Import Data\n",
    "\n",
    "As your first and perhaps most important step, you'll have to go find some data. For this homework assignment, we will work with *these files*, which you can access *here*. Once you've picked your file and copied its URL, use the function provided below to **import it as a JSON object**:"
   ]
  },
  {
   "cell_type": "code",
   "execution_count": 5,
   "metadata": {},
   "outputs": [],
   "source": [
    "# function to extract xml document from given url\n",
    "def getXML(url):\n",
    "    # request for xml document of given url\n",
    "    response = requests.get(url)    \n",
    "    # response will be provided in JSON format\n",
    "    return response.text"
   ]
  },
  {
   "cell_type": "markdown",
   "metadata": {},
   "source": [
    "In the cell below, **read in your file** and store it in the \"xml_document\" variable:"
   ]
  },
  {
   "cell_type": "code",
   "execution_count": 6,
   "metadata": {},
   "outputs": [],
   "source": [
    "# xml_document = ...\n",
    "\n",
    "xml_document = 'https://crimproject.org/mei/CRIM_Model_0008.mei'"
   ]
  },
  {
   "cell_type": "markdown",
   "metadata": {},
   "source": [
    "Once you've imported a file, you should be able to **convert it into a Beautiful Soup Object**:"
   ]
  },
  {
   "cell_type": "code",
   "execution_count": 7,
   "metadata": {},
   "outputs": [],
   "source": [
    "soup = bs(xml_document, 'xml')"
   ]
  },
  {
   "cell_type": "markdown",
   "metadata": {},
   "source": [
    "____________________\n",
    "# Part 2: Data Exploration\n",
    "\n",
    "In this part of the homework, we ask you to **investigate your file**. The **MEI** framework tends to be easy to understand (as it is meant to be human-readable, too!) – and given some simple tools you should be able to successfully navigate your data.\n",
    "\n",
    "#### Step 2.0: Document\n",
    "\n",
    "First, let's take a look at the document as a whole. Make the cell below **print the \"pretty\"** version of your MEI file:"
   ]
  },
  {
   "cell_type": "code",
   "execution_count": 8,
   "metadata": {},
   "outputs": [],
   "source": [
    "# print the file"
   ]
  },
  {
   "cell_type": "markdown",
   "metadata": {},
   "source": [
    "#### Step 2.1: General Info\n",
    "\n",
    "Generally, every MEI file has some information about its contents. This typically covers the encoding standard, creators and editors involved with the file, and its structure.\n",
    "\n",
    "First, get your file's **Title Statement** (hint: look for the \"titleStmt\" tag):"
   ]
  },
  {
   "cell_type": "code",
   "execution_count": 33,
   "metadata": {},
   "outputs": [],
   "source": [
    "# output your file's title statement here"
   ]
  },
  {
   "cell_type": "markdown",
   "metadata": {},
   "source": [
    "#### Step 2.2: Moving Down\n",
    "\n",
    "As you have probably noticed by now, MEI (and XML, generally) files follow a **tree-like structure**. Any document has its elements defined recursively, as its children. Intuitively, **children** are elements contained within a broader element (think section), also known as **parent**.\n",
    "\n",
    "In a way, the Title Statement (\"\\<titleStmt>\") element is a wrapper for all things that define a Title Statement. Mainly, a typical MEI Title Statement describes the piece's title and the people involved with the piece in some capacity. \n",
    "\n",
    "Use the cell below to **find all children** of the document's Title Statement:"
   ]
  },
  {
   "cell_type": "code",
   "execution_count": null,
   "metadata": {},
   "outputs": [],
   "source": [
    "# get all children here"
   ]
  },
  {
   "cell_type": "markdown",
   "metadata": {},
   "source": [
    "What are some of your observations about these elements? How much do they share with the parent element? How would you go about identifying any relation between these child elements? \n",
    "\n",
    "Use the Markdown cell below to note some of your thoughts:"
   ]
  },
  {
   "cell_type": "markdown",
   "metadata": {},
   "source": [
    "`Your thoughts here`"
   ]
  },
  {
   "cell_type": "markdown",
   "metadata": {},
   "source": [
    "In our specific case, the CRIM MEI documents always have several **sections** (\"\\<section>\"). The sections in a piece usually demarcate important divisions within a Model or Mass, and typically have a large number of \"children\" elements associated with them. \n",
    "\n",
    "Use the cell below to **find the first section** of your piece:"
   ]
  },
  {
   "cell_type": "code",
   "execution_count": null,
   "metadata": {},
   "outputs": [],
   "source": [
    "# return the first section here"
   ]
  },
  {
   "cell_type": "markdown",
   "metadata": {},
   "source": [
    "Typically, one of the 'children' elements associated with a **section** is a **measure** (\"\\<measure>\"). This should logically make sense to you, as you think about the document as a musical piece, not just an XML mess. Measures contain several things, including but not limited to **staves, layers, notes, syllables**.\n",
    "\n",
    "**Rests** are an important part of musical notation, but remember that since a rest cannot contain a syllable (or most other performance markings, such as dynamic levels) they must be a different kind of tag/element from **notes**.  So be on the look-out for these! \n",
    "\n",
    "Use the cell below to find the **first measure of the first section** in your piece:"
   ]
  },
  {
   "cell_type": "code",
   "execution_count": null,
   "metadata": {},
   "outputs": [],
   "source": [
    "# return the first measure here"
   ]
  },
  {
   "cell_type": "markdown",
   "metadata": {},
   "source": [
    "As we briefly mentioned before, measures tend to have notes. Notes are *also* children of measures.\n",
    "\n",
    "Use the cell below to **find all notes** in the first measure of your piece:"
   ]
  },
  {
   "cell_type": "code",
   "execution_count": null,
   "metadata": {},
   "outputs": [],
   "source": [
    "# return the notes in the first measure here"
   ]
  },
  {
   "cell_type": "markdown",
   "metadata": {},
   "source": [
    "Finally, a nice formatting tool is **\"stripping\"** the text, which essentially means removing any unnecessary white spaces. \n",
    "\n",
    "Use the space below to **iterate over the list of all first-measure notes** you just produced, accessing their pitch names (`note[\"pname\"]`), and printing the \"stripped\" pitch name (`note[\"pname\"].strip()`) \\[hint: \"for\" loop is a great choice here\\]:"
   ]
  },
  {
   "cell_type": "code",
   "execution_count": null,
   "metadata": {},
   "outputs": [],
   "source": [
    "# iterate over the array of notes here"
   ]
  },
  {
   "cell_type": "markdown",
   "metadata": {},
   "source": [
    "It's important to pause here and think about your work. What are some useful aspects of XML's tree-like structure? Why is it a tree after all? Can you think of a different data structure to represent your document?\n",
    "\n",
    "Use the Markdown cell below to record your thoughts:"
   ]
  },
  {
   "cell_type": "markdown",
   "metadata": {},
   "source": [
    "`your thoughts here`"
   ]
  },
  {
   "cell_type": "markdown",
   "metadata": {},
   "source": [
    "#### Step 2.3: Moving Up\n",
    "\n",
    "Working the opposite way around, you should be able to get to the entire (original) document given just one of its children. This can be done rather easily using Beautiful Soup and its recursive tree navigation.\n",
    "\n",
    "First, use the cell below to **pick one note element in the piece** (could be one of the notes in the first measure, or the very last note in a particular staff) and optionally store it as a variable:"
   ]
  },
  {
   "cell_type": "code",
   "execution_count": null,
   "metadata": {},
   "outputs": [],
   "source": [
    "# pick a note here"
   ]
  },
  {
   "cell_type": "markdown",
   "metadata": {},
   "source": [
    "Now that you have a note, you can use Beautiful Soup's hierarchy methods to access all of its parents. This can be done in a number of ways, including but not limited to:\n",
    "\n",
    "* `element.parent.parent.parent...`\n",
    "* `element.parents`\n",
    "* `element.find_parents()`\n",
    "\n",
    "Use the cell below to **find all parents** of the note you stored:"
   ]
  },
  {
   "cell_type": "code",
   "execution_count": null,
   "metadata": {},
   "outputs": [],
   "source": [
    "# find all parents here"
   ]
  },
  {
   "cell_type": "markdown",
   "metadata": {},
   "source": [
    "Finally, it might be useful to make sure that homogenous elements oftentimes have **different parents**. \n",
    "\n",
    "Use the cell below to **find two notes** that have **different parents** \\[note: different doesn't imply \"of different types (tags)\"\\]: "
   ]
  },
  {
   "cell_type": "code",
   "execution_count": null,
   "metadata": {},
   "outputs": [],
   "source": [
    "# find the two notes here"
   ]
  },
  {
   "cell_type": "markdown",
   "metadata": {},
   "source": [
    "#### Step 2.3: Moving Sideways\n",
    "\n",
    "As hierarchically-related elements are named children and parents, elements **at the same depth** are called **siblings**. Typically, siblings can be both **homogenous** – for example, two neighboring sections, which serve the same purpose – and **heterogeneous** – for example, a **Title Statement** features a **Title** and a **Statement of Responsibility**, which are on the same level yet serve different purposes. \n",
    "\n",
    "Perhaps one meaningful way to illustrate the sibling concept would be to work with **people**. Use the cell below to **find the first person** (\\<persName>) involved with your piece \\[note: people involved are children of the Title Statement\\]:"
   ]
  },
  {
   "cell_type": "code",
   "execution_count": null,
   "metadata": {},
   "outputs": [],
   "source": [
    "# get the first person here"
   ]
  },
  {
   "cell_type": "markdown",
   "metadata": {},
   "source": [
    "Naturally, every other person involved with the same piece would relate to the first person as their **sibling element** – as they share their parent element. \n",
    "\n",
    "Use the cell below to **find the next siblings** of the first person involved with the piece:"
   ]
  },
  {
   "cell_type": "code",
   "execution_count": null,
   "metadata": {},
   "outputs": [],
   "source": [
    "# find next siblings of the first person here"
   ]
  },
  {
   "cell_type": "markdown",
   "metadata": {},
   "source": [
    "As you deal with people involved with the piece, you might think to yourself, \"wait a second, I'm involved too\". Or something along those lines. \n",
    "\n",
    "Anyway, use this next code cell to **create a new \\<persName> element** with its string value (`element.string`) equal to your name and its \"role\" attribute (`element[\"role\"]`) equal to your name. Return the element in the cell:"
   ]
  },
  {
   "cell_type": "code",
   "execution_count": null,
   "metadata": {},
   "outputs": [],
   "source": [
    "# return your new element here"
   ]
  },
  {
   "cell_type": "markdown",
   "metadata": {},
   "source": [
    "Now, use the cell below to **append the new \\<persName> element** to the Statement of Responsibility of your document (`soup.titleStmt.respStmt`):"
   ]
  },
  {
   "cell_type": "code",
   "execution_count": null,
   "metadata": {},
   "outputs": [],
   "source": [
    "# append the element here"
   ]
  },
  {
   "cell_type": "markdown",
   "metadata": {},
   "source": [
    "Finally, let's check the results of our work. Use the cell below to find the first person (\\<persName>) involved with the piece and **return its next siblings**:"
   ]
  },
  {
   "cell_type": "code",
   "execution_count": null,
   "metadata": {},
   "outputs": [],
   "source": [
    "# all next siblings here"
   ]
  },
  {
   "cell_type": "markdown",
   "metadata": {},
   "source": [
    "Did you notice anything interesting about the sibling-element structure? What are some common similarities between the sibling elements? What are some differences? Is sibling search an efficient parsing method?\n",
    "\n",
    "Use the Markdown cell below to share your thoughts:"
   ]
  },
  {
   "cell_type": "markdown",
   "metadata": {},
   "source": [
    "`your thoughts here`"
   ]
  },
  {
   "cell_type": "markdown",
   "metadata": {},
   "source": [
    "____________________\n",
    "# Part 3: Data Analysis\n",
    "\n",
    "In this part, we'll use some of the familiar Python-based statistics and Data visualization tools to analyze your file. \n",
    "\n",
    "#### Step 3.1: Search\n",
    "\n",
    "First, let's perform a simple element search on the document. While there is a multitude of ways to approach this, we typically recommend looking for all elements that match a given condition on a document level.\n",
    "\n",
    "Use the cell below to **find all notes**, extract their pitch class (that is the generic name of the note, like \"c\"), and store them in a **Pandas DataFrame** (`pd.DataFrame(...)`).  \n",
    "\n",
    "Note that here we are finding an **attribute** of an **element**!"
   ]
  },
  {
   "cell_type": "code",
   "execution_count": null,
   "metadata": {},
   "outputs": [],
   "source": [
    "# return the all notes DataFrame here"
   ]
  },
  {
   "cell_type": "markdown",
   "metadata": {},
   "source": [
    "Let's look at these visually! Use the cell below to **produce a pitch class histogram** for the piece.\n",
    "\n",
    "Note that we could dig more deeply into the pitches by taking note of the **octave** no less than the **pitch class** of each note.  This would tell us the span of each voice, something of interest to performers as they decide what to sing.  Doing this in one step with Beautiful Soup, however, is tricky, since we would need to get both the **pname** and the **oct** for each note.  As it happens, **CRIM Intervals** can do this kind of job quite easily, as we will discover later!"
   ]
  },
  {
   "cell_type": "code",
   "execution_count": null,
   "metadata": {},
   "outputs": [],
   "source": [
    "# pitch histogram"
   ]
  },
  {
   "cell_type": "markdown",
   "metadata": {},
   "source": [
    "Now prepared with the general distribution of pitch classes, let's check the final notes in each voice part (staff).  These notes are particularly important, since Renaissance musicians understood these as part of the 'modality' of the composition (something like the key).\n",
    "\n",
    "How will you go about finding the **last note of the last measure in each voice**?\n",
    "\n"
   ]
  },
  {
   "cell_type": "code",
   "execution_count": null,
   "metadata": {},
   "outputs": [],
   "source": [
    "# list final pitch in each voice part"
   ]
  },
  {
   "cell_type": "markdown",
   "metadata": {},
   "source": [
    "Now compare the results of the last two tasks:  are the last notes also ones that figure prominently in the full list of pitches for the piece?  "
   ]
  },
  {
   "cell_type": "code",
   "execution_count": null,
   "metadata": {},
   "outputs": [],
   "source": [
    "# your comments on pitch histogram compared with final pitch list"
   ]
  },
  {
   "cell_type": "markdown",
   "metadata": {},
   "source": [
    "#### Step 3.2: Categorical Search\n",
    "\n",
    "One useful way to analyze your document is by describing the elements within your elements of interest. As an illustration of this, it might be useful to look at how many notes are featured in each measure.\n",
    "\n",
    "First, use the cell below to **find all measures** of the piece.  Here we are finding an **element**."
   ]
  },
  {
   "cell_type": "code",
   "execution_count": null,
   "metadata": {},
   "outputs": [],
   "source": [
    "# find all measures here"
   ]
  },
  {
   "cell_type": "markdown",
   "metadata": {},
   "source": [
    "Now, use the cell below to iterate over the measures and count how many notes each of them has (typically, using `len(measure.find_all(\"note\"))`). Your result should be a **list** of numbers, each representing **how many notes there were in a particular measure**:"
   ]
  },
  {
   "cell_type": "code",
   "execution_count": null,
   "metadata": {},
   "outputs": [],
   "source": [
    "# list of measure notes here"
   ]
  },
  {
   "cell_type": "markdown",
   "metadata": {},
   "source": [
    "Let's visualize this one, too! Pass your list into `plt.plot(...)` to **produce a graph** for your series in the cell below.  This will be a basic plot of the activity in a piece."
   ]
  },
  {
   "cell_type": "code",
   "execution_count": null,
   "metadata": {},
   "outputs": [],
   "source": [
    "# your line chart here"
   ]
  },
  {
   "cell_type": "markdown",
   "metadata": {},
   "source": [
    "____________________\n",
    "# Part 4: Sandbox\n",
    "\n",
    "In this final part of the homework, you are asked to combine some of the tools you have employed in sections 2 and 3 – as well as the lab – in order to **explore** an aspect of your piece you are particularly curious about and **reflect** on it.\n",
    "\n",
    "Some of the possible mini-projects include:\n",
    "* pitch distribution for voices\n",
    "* true pitch distribution (including octaves, sharps, flats etc)\n",
    "* find the most mathematically and musically interesting measure: why? \n",
    "* compare sections? how does the piece change?\n",
    "* compare model and mass\n",
    "* whatever else interests you!\n",
    "\n",
    "Good luck!"
   ]
  },
  {
   "cell_type": "code",
   "execution_count": null,
   "metadata": {},
   "outputs": [],
   "source": [
    "# your exploration here"
   ]
  },
  {
   "cell_type": "markdown",
   "metadata": {},
   "source": [
    "____________________\n",
    "# Reflections (optional)\n",
    "\n",
    "Please use this space to reflect on your experience, ask any additional questions, or suggest changes to this or other assignments."
   ]
  },
  {
   "cell_type": "markdown",
   "metadata": {},
   "source": []
  }
 ],
 "metadata": {
  "colab": {
   "collapsed_sections": [],
   "name": "M255_B_Pandas.ipynb",
   "provenance": [],
   "toc_visible": true
  },
  "kernelspec": {
   "display_name": "Python 3 (ipykernel)",
   "language": "python",
   "name": "python3"
  },
  "language_info": {
   "codemirror_mode": {
    "name": "ipython",
    "version": 3
   },
   "file_extension": ".py",
   "mimetype": "text/x-python",
   "name": "python",
   "nbconvert_exporter": "python",
   "pygments_lexer": "ipython3",
   "version": "3.10.8"
  },
  "toc": {
   "base_numbering": 1,
   "nav_menu": {},
   "number_sections": true,
   "sideBar": true,
   "skip_h1_title": false,
   "title_cell": "Table of Contents",
   "title_sidebar": "Contents",
   "toc_cell": false,
   "toc_position": {},
   "toc_section_display": true,
   "toc_window_display": false
  }
 },
 "nbformat": 4,
 "nbformat_minor": 1
}

{
 "cells": [
  {
   "cell_type": "code",
   "execution_count": null,
   "metadata": {
    "colab": {
     "base_uri": "https://localhost:8080/"
    },
    "id": "x2jMQWm2ZiHe",
    "outputId": "bd2bb790-bcd4-4acb-b2ce-8997119b81b7"
   },
   "outputs": [
    {
     "name": "stdout",
     "output_type": "stream",
     "text": [
      "Looking in indexes: https://pypi.org/simple, https://us-python.pkg.dev/colab-wheels/public/simple/\n",
      "Collecting spotipy\n",
      "  Downloading spotipy-2.20.0-py3-none-any.whl (27 kB)\n",
      "Requirement already satisfied: six>=1.15.0 in /usr/local/lib/python3.7/dist-packages (from spotipy) (1.15.0)\n",
      "Collecting redis>=3.5.3\n",
      "  Downloading redis-4.3.4-py3-none-any.whl (246 kB)\n",
      "\u001b[K     |████████████████████████████████| 246 kB 3.2 MB/s \n",
      "\u001b[?25hCollecting urllib3>=1.26.0\n",
      "  Downloading urllib3-1.26.12-py2.py3-none-any.whl (140 kB)\n",
      "\u001b[K     |████████████████████████████████| 140 kB 29.1 MB/s \n",
      "\u001b[?25hCollecting requests>=2.25.0\n",
      "  Downloading requests-2.28.1-py3-none-any.whl (62 kB)\n",
      "\u001b[K     |████████████████████████████████| 62 kB 1.4 MB/s \n",
      "\u001b[?25hRequirement already satisfied: typing-extensions in /usr/local/lib/python3.7/dist-packages (from redis>=3.5.3->spotipy) (4.1.1)\n",
      "Requirement already satisfied: importlib-metadata>=1.0 in /usr/local/lib/python3.7/dist-packages (from redis>=3.5.3->spotipy) (5.0.0)\n",
      "Requirement already satisfied: async-timeout>=4.0.2 in /usr/local/lib/python3.7/dist-packages (from redis>=3.5.3->spotipy) (4.0.2)\n",
      "Requirement already satisfied: packaging>=20.4 in /usr/local/lib/python3.7/dist-packages (from redis>=3.5.3->spotipy) (21.3)\n",
      "Collecting deprecated>=1.2.3\n",
      "  Downloading Deprecated-1.2.13-py2.py3-none-any.whl (9.6 kB)\n",
      "Requirement already satisfied: wrapt<2,>=1.10 in /usr/local/lib/python3.7/dist-packages (from deprecated>=1.2.3->redis>=3.5.3->spotipy) (1.14.1)\n",
      "Requirement already satisfied: zipp>=0.5 in /usr/local/lib/python3.7/dist-packages (from importlib-metadata>=1.0->redis>=3.5.3->spotipy) (3.8.1)\n",
      "Requirement already satisfied: pyparsing!=3.0.5,>=2.0.2 in /usr/local/lib/python3.7/dist-packages (from packaging>=20.4->redis>=3.5.3->spotipy) (3.0.9)\n",
      "Requirement already satisfied: idna<4,>=2.5 in /usr/local/lib/python3.7/dist-packages (from requests>=2.25.0->spotipy) (2.10)\n",
      "Requirement already satisfied: certifi>=2017.4.17 in /usr/local/lib/python3.7/dist-packages (from requests>=2.25.0->spotipy) (2022.9.24)\n",
      "Requirement already satisfied: charset-normalizer<3,>=2 in /usr/local/lib/python3.7/dist-packages (from requests>=2.25.0->spotipy) (2.1.1)\n",
      "Installing collected packages: urllib3, deprecated, requests, redis, spotipy\n",
      "  Attempting uninstall: urllib3\n",
      "    Found existing installation: urllib3 1.24.3\n",
      "    Uninstalling urllib3-1.24.3:\n",
      "      Successfully uninstalled urllib3-1.24.3\n",
      "  Attempting uninstall: requests\n",
      "    Found existing installation: requests 2.23.0\n",
      "    Uninstalling requests-2.23.0:\n",
      "      Successfully uninstalled requests-2.23.0\n",
      "Successfully installed deprecated-1.2.13 redis-4.3.4 requests-2.28.1 spotipy-2.20.0 urllib3-1.26.12\n",
      "Looking in indexes: https://pypi.org/simple, https://us-python.pkg.dev/colab-wheels/public/simple/\n",
      "Collecting pyvis\n",
      "  Downloading pyvis-0.3.0.tar.gz (592 kB)\n",
      "\u001b[K     |████████████████████████████████| 592 kB 1.9 MB/s \n",
      "\u001b[?25hRequirement already satisfied: jinja2>=2.9.6 in /usr/local/lib/python3.7/dist-packages (from pyvis) (2.11.3)\n",
      "Requirement already satisfied: networkx>=1.11 in /usr/local/lib/python3.7/dist-packages (from pyvis) (2.6.3)\n",
      "Requirement already satisfied: ipython>=5.3.0 in /usr/local/lib/python3.7/dist-packages (from pyvis) (7.9.0)\n",
      "Collecting jsonpickle>=1.4.1\n",
      "  Downloading jsonpickle-2.2.0-py2.py3-none-any.whl (39 kB)\n",
      "Requirement already satisfied: pexpect in /usr/local/lib/python3.7/dist-packages (from ipython>=5.3.0->pyvis) (4.8.0)\n",
      "Requirement already satisfied: setuptools>=18.5 in /usr/local/lib/python3.7/dist-packages (from ipython>=5.3.0->pyvis) (57.4.0)\n",
      "Requirement already satisfied: pygments in /usr/local/lib/python3.7/dist-packages (from ipython>=5.3.0->pyvis) (2.6.1)\n",
      "Requirement already satisfied: pickleshare in /usr/local/lib/python3.7/dist-packages (from ipython>=5.3.0->pyvis) (0.7.5)\n",
      "Collecting jedi>=0.10\n",
      "  Downloading jedi-0.18.1-py2.py3-none-any.whl (1.6 MB)\n",
      "\u001b[K     |████████████████████████████████| 1.6 MB 35.6 MB/s \n",
      "\u001b[?25hRequirement already satisfied: traitlets>=4.2 in /usr/local/lib/python3.7/dist-packages (from ipython>=5.3.0->pyvis) (5.1.1)\n",
      "Requirement already satisfied: backcall in /usr/local/lib/python3.7/dist-packages (from ipython>=5.3.0->pyvis) (0.2.0)\n",
      "Requirement already satisfied: decorator in /usr/local/lib/python3.7/dist-packages (from ipython>=5.3.0->pyvis) (4.4.2)\n",
      "Requirement already satisfied: prompt-toolkit<2.1.0,>=2.0.0 in /usr/local/lib/python3.7/dist-packages (from ipython>=5.3.0->pyvis) (2.0.10)\n",
      "Requirement already satisfied: parso<0.9.0,>=0.8.0 in /usr/local/lib/python3.7/dist-packages (from jedi>=0.10->ipython>=5.3.0->pyvis) (0.8.3)\n",
      "Requirement already satisfied: MarkupSafe>=0.23 in /usr/local/lib/python3.7/dist-packages (from jinja2>=2.9.6->pyvis) (2.0.1)\n",
      "Requirement already satisfied: importlib-metadata in /usr/local/lib/python3.7/dist-packages (from jsonpickle>=1.4.1->pyvis) (5.0.0)\n",
      "Requirement already satisfied: wcwidth in /usr/local/lib/python3.7/dist-packages (from prompt-toolkit<2.1.0,>=2.0.0->ipython>=5.3.0->pyvis) (0.2.5)\n",
      "Requirement already satisfied: six>=1.9.0 in /usr/local/lib/python3.7/dist-packages (from prompt-toolkit<2.1.0,>=2.0.0->ipython>=5.3.0->pyvis) (1.15.0)\n",
      "Requirement already satisfied: typing-extensions>=3.6.4 in /usr/local/lib/python3.7/dist-packages (from importlib-metadata->jsonpickle>=1.4.1->pyvis) (4.1.1)\n",
      "Requirement already satisfied: zipp>=0.5 in /usr/local/lib/python3.7/dist-packages (from importlib-metadata->jsonpickle>=1.4.1->pyvis) (3.8.1)\n",
      "Requirement already satisfied: ptyprocess>=0.5 in /usr/local/lib/python3.7/dist-packages (from pexpect->ipython>=5.3.0->pyvis) (0.7.0)\n",
      "Building wheels for collected packages: pyvis\n",
      "  Building wheel for pyvis (setup.py) ... \u001b[?25l\u001b[?25hdone\n",
      "  Created wheel for pyvis: filename=pyvis-0.3.0-py3-none-any.whl size=600250 sha256=48b848fc0eb480ef12fe12aa9a28371d4dffb9845064a27e8f1a9aacc5cdef80\n",
      "  Stored in directory: /root/.cache/pip/wheels/57/74/32/e404e0d76fbb2dc4e3791b821cfae6a69c1a6677ded99dc8b7\n",
      "Successfully built pyvis\n",
      "Installing collected packages: jedi, jsonpickle, pyvis\n",
      "Successfully installed jedi-0.18.1 jsonpickle-2.2.0 pyvis-0.3.0\n"
     ]
    }
   ],
   "source": [
    "!pip install spotipy\n",
    "!pip install pyvis"
   ]
  },
  {
   "cell_type": "code",
   "execution_count": null,
   "metadata": {
    "id": "w7odhuL_ZnYW"
   },
   "outputs": [],
   "source": [
    "import pandas as pd\n",
    "import numpy as np\n",
    "import random\n",
    "import altair as alt\n",
    "import requests\n",
    "import inspect\n",
    "import spotipy\n",
    "from spotipy.oauth2 import SpotifyClientCredentials\n",
    "import networkx as nx\n",
    "import networkx.algorithms.community as nx_comm\n",
    "import matplotlib.cm as cm\n",
    "import matplotlib.pyplot as plt\n",
    "import pyvis\n",
    "from pyvis import network as net\n",
    "from itertools import combinations\n",
    "from community import community_louvain\n",
    "from copy import deepcopy\n",
    "from sklearn.linear_model import LinearRegression\n",
    "import seaborn as sns\n",
    "from sklearn.model_selection import train_test_split\n",
    "from sklearn.metrics import mean_squared_error, r2_score"
   ]
  },
  {
   "cell_type": "code",
   "execution_count": null,
   "metadata": {
    "id": "QltMNcfAZqJ2"
   },
   "outputs": [],
   "source": [
    "# storing the credentials:\n",
    "CLIENT_ID = \"116bae2a86fd4737862816c5f45d4c36\"\n",
    "CLIENT_SECRET = \"4f4a732d83d04cfa94acc26d2b77169f\"\n",
    "my_username = \"sx47r9lq4dwrjx1r0ct9f9m09\"\n",
    "\n",
    "# instantiating the client\n",
    "# source: Max Hilsdorf (https://towardsdatascience.com/how-to-create-large-music-datasets-using-spotipy-40e7242cc6a6)\n",
    "client_credentials_manager = SpotifyClientCredentials(client_id=CLIENT_ID, client_secret=CLIENT_SECRET)\n",
    "sp = spotipy.Spotify(client_credentials_manager=client_credentials_manager)"
   ]
  },
  {
   "cell_type": "markdown",
   "metadata": {
    "id": "IQV0ZD7LZtVe"
   },
   "source": [
    "# Bailey's Section     \n",
    "\n",
    "Questions:\n",
    "* Are there correlations betwen popularity and audio features?\n",
    "* Construct a simple linear regression with popularity as the response variable, and quantitative variables within all the audio features. Train and test the performance of the regression with R^2.\n",
    "* Within the Top40 subsets, what are the top 3 picked songs and plot a graph of related artists within 1 generation for each artist.\n",
    "* Pick 3 users and examine if there are some patterns in danceability and speechiness."
   ]
  },
  {
   "cell_type": "code",
   "execution_count": null,
   "metadata": {
    "id": "A-MkRA8FZuCK"
   },
   "outputs": [],
   "source": [
    "all_play_list = [\"6Er5rSv7eawUDyK2gzSa47\", \"3wfcrfxMNAQZRnfjvSnoNv\", \"4sWTtloXKghMS1cz48f2qI\",\"2Jts9QKHfyaGi0oeVFSeN0\",\"1g44fvkwYsjasjPcy0HGOC\",\n",
    "                 \"0tjQYEAydt0REulno4PYiC\",\"5YS9zh4bCOpJqhenIJfFyw\",\"4NC377bgf15Vwymy1yMR9A\",\"0opioCiJiL23i467NPjq5O\",\"4OsLXBh1nRf9638lyC0wuI\",\n",
    "                 \"4kiakE4MVsxanqJHdTJwDU\",\"6rao6zxPX8rBRZYQBtg0lh\",\"16rZpzLucvgWLOEULEyKBM\",\"7fqBcrxNGMjbwTAeCBTzL6\",\"1jPGGXaawH9yUzTZBei5Hi\",\n",
    "                 \"6r9PUfQYGPaBSnYve8cUHf\",\"6ThSPlQWB8mdyyJPqTLxyd\",\"5szvg6CvBqEmY2axuwweNT\",\"5zUcUebsycpS23ffo3Av5C\",\"45uK9eH3RujsqlSRVMW98K\",\n",
    "                 \"6JaCaTSXvLCEXlPXswEIH8\",\"63i6KMziOwU2yfCU7FJAfe\",\"1U3moBdv9hDIy4FVSF0NDl\",\"0dWk3ugBnoaztsCzY2WR4R\",\"4hL4BxaNoBHiPfoDgQeqUA\",\n",
    "                 \"5cdB8qvSa0V42uHE54W4X1\",\"1xOIzbTTAgirN5PdfWfqnz\",\"05TJaXT9IQeLnB0sNStFlo\",\"5taHWErP8pC1xhtSWWPYLE\",\"3k606c4g6XPJFPupzmwSNJ\",\n",
    "                 \"53qBETrCJQ6EFMro3RFeVN\",\"5MPTim2q6agXKcYyEGeJjc\",\"6t1GwwI6JvES6I3PWrmgIr\",\"1ECGflprVeWBWgJKqh2We5\",\"7hIYT6eLgtTgFeEwaGqY6l\",\n",
    "                 \"7I076Vit9Fd65C9fVNlPy0\",\"4xV24s6m1s6mPrilnsBqBa\",\"5QxWG2oKSylpTg9qS5rPRr\",\"5NuMif6wvlJeJv4dMuX5eh\"]\n",
    "top_40 = [\"1NppEwvZhkjeG3ZTYoOwVM\",\"2hfOGugGPsjfPTYKlZojom\",\"6QWlhkFUKDxhW91gfMisNl\",\"1d4mKuQzM62pmSqrQKU9EX\",\"07UNN5sIx1dYmAOmLPri3B\",\n",
    "          \"3cfp7fWCHVXPl6JiBnmkLQ\",\"7E5YHVj7yA5SVthGIAJ67g\",\"5NuMif6wvlJeJv4dMuX5eh\",\"5QxWG2oKSylpTg9qS5rPRr\",\"4xV24s6m1s6mPrilnsBqBa\",\"1kaDWd90UWUByF4Tu2UPVx\",\n",
    "          \"3DmSmomqxsSehMhccpPbWP\",\"3Nd7XuKMH3RjQ6nF7n2kcv\",\"5LVjFO57XKpRNV5vzzDmP5\",\"4AITV0hEKFEjLcy5dJBrtC\",\"0QZa8PuiIKpSRDXFcbc2y2\"]"
   ]
  },
  {
   "cell_type": "markdown",
   "metadata": {
    "id": "R0Krs3miEyRO"
   },
   "source": [
    "The above cells contains two list. \"all_play_list\" is a list containing mostly the other lists, and \"top_40\" contains all top_40 playlists."
   ]
  },
  {
   "cell_type": "code",
   "execution_count": null,
   "metadata": {
    "id": "bsYcWU73Zxbd"
   },
   "outputs": [],
   "source": [
    "def get_audio_features_df(playlist):\n",
    "    \n",
    "    # Create an empty dataframe\n",
    "    playlist_features_list = [\"artist\", \"album\", \"track_name\", \"track_id\",\"danceability\",\"energy\",\"key\",\"loudness\",\"mode\", \"speechiness\",\"instrumentalness\",\"liveness\",\"valence\",\"tempo\", \"duration_ms\",\"time_signature\"]\n",
    "    playlist_df = pd.DataFrame(columns = playlist_features_list)\n",
    "    \n",
    "    # Loop through every track in the playlist, extract features and append the features to the playlist df\n",
    "    for track in playlist[\"items\"]:\n",
    "        # Create empty dict\n",
    "        playlist_features = {}\n",
    "        # Get metadata\n",
    "        playlist_features[\"artist\"] = track[\"track\"][\"album\"][\"artists\"][0][\"name\"]\n",
    "        playlist_features[\"album\"] = track[\"track\"][\"album\"][\"name\"]\n",
    "        playlist_features[\"track_name\"] = track[\"track\"][\"name\"]\n",
    "        playlist_features[\"track_id\"] = track[\"track\"][\"id\"]\n",
    "        playlist_features[\"popularity\"] = track[\"track\"][\"popularity\"]\n",
    "        \n",
    "        # Get audio features\n",
    "        audio_features = sp.audio_features(playlist_features[\"track_id\"])[0]\n",
    "        for feature in playlist_features_list[4:]:\n",
    "            playlist_features[feature] = audio_features[feature]\n",
    "        \n",
    "        # Concat the DataFrames\n",
    "        track_df = pd.DataFrame(playlist_features, index = [0])\n",
    "        playlist_df = pd.concat([playlist_df, track_df], ignore_index = True)\n",
    "        \n",
    "    return playlist_df"
   ]
  },
  {
   "cell_type": "code",
   "execution_count": null,
   "metadata": {
    "id": "wDAVYGo3Zzd0"
   },
   "outputs": [],
   "source": [
    "playlist_df_list = []\n",
    "for playlist in all_play_list:\n",
    "  temp_playlist_df = pd.DataFrame(sp.playlist_items(playlist))\n",
    "  temp_playlist_audio = get_audio_features_df(temp_playlist_df)\n",
    "  temp_playlist_audio[\"playlist_name\"] = sp.playlist(playlist)[\"name\"]\n",
    "  playlist_df_list.append(temp_playlist_audio)\n",
    "    \n",
    "# Concatenating the Audio Features DataFrames\n",
    "playlists_df = pd.concat(playlist_df_list)\n",
    "playlists_df.to_csv(\"full.csv\")\n",
    "\n",
    "df_list = []\n",
    "for playlist in top_40:\n",
    "  temp_playlist_df = pd.DataFrame(sp.playlist_items(playlist))\n",
    "  temp_playlist_audio = get_audio_features_df(temp_playlist_df)\n",
    "  temp_playlist_audio[\"playlist_name\"] = sp.playlist(playlist)[\"name\"]\n",
    "  df_list.append(temp_playlist_audio)\n",
    "    \n",
    "# Concatenating the Audio Features DataFrames\n",
    "playlists = pd.concat(df_list)\n",
    "playlists.to_csv(\"top40.csv\")\n"
   ]
  },
  {
   "cell_type": "markdown",
   "metadata": {
    "id": "SQSfqwt8sKIU"
   },
   "source": [
    "The above cell gets all the audio features and popularity for all the tracks in the \"all_play_list\" storing some playlists and concatenate them into one dataframe. Finally, it will save the dataframe to a csv to make the data reusable and save some time by not calling spotify API every time. Information on the top_40 playlists are also saved into a csv. "
   ]
  },
  {
   "cell_type": "code",
   "execution_count": null,
   "metadata": {
    "id": "Xk1vo-cjZ143"
   },
   "outputs": [],
   "source": [
    "data = pd.read_csv(\"full.csv\")\n",
    "plt.figure(figsize=(16,16))\n",
    "sns.heatmap(data.corr(), annot=True, cmap=\"Greens\")\n",
    "plt.show()"
   ]
  },
  {
   "cell_type": "markdown",
   "metadata": {
    "id": "eJZQC7dmjcQM"
   },
   "source": [
    "In the above cells, I used almost all playlists and concatenate all the songs' audio features into one single dataframe. Then, I use a heatmap to visualize the correlation. As we can see, most of the features are not highly correlated linearly. \"loudness\" is highly correlated with \"energy\". Looking at the popularity row (the last row), we can see that loudness has the highest correlation with popularity. "
   ]
  },
  {
   "cell_type": "code",
   "execution_count": null,
   "metadata": {
    "id": "fBbhtxaLkOaa"
   },
   "outputs": [],
   "source": [
    "quantitative_variables = [\"danceability\",\"energy\",\"loudness\",\"speechiness\",\n",
    "                          \"instrumentalness\",\"liveness\",\"valence\",\"tempo\",\"duration_ms\"]\n",
    "X = data[quantitative_variables].to_numpy()\n",
    "y = data[\"popularity\"].to_numpy()\n",
    "x_train, x_test, y_train,  y_test = train_test_split(X,y, train_size=0.7, shuffle=True, random_state=42)"
   ]
  },
  {
   "cell_type": "markdown",
   "metadata": {
    "id": "ImdcyIB_sDDO"
   },
   "source": [
    "In the above cell, I store all the quantitative variables within the audio features into X (the feature matrix) and the response variable popularity into y. Then, I split the X,y into training and testing sets. The training set will be used to train the linear regression model, and the testing set will only be used to test the performance of the regression using R^2. "
   ]
  },
  {
   "cell_type": "code",
   "execution_count": null,
   "metadata": {
    "colab": {
     "base_uri": "https://localhost:8080/"
    },
    "id": "MjEE46-YuzwJ",
    "outputId": "fecf8734-c0f0-4948-d4b6-8ee8d8486197"
   },
   "outputs": [
    {
     "name": "stdout",
     "output_type": "stream",
     "text": [
      "The mean sqaured error is: 384.7595631156008\n",
      "R^2 is: 0.1657521435660012\n"
     ]
    }
   ],
   "source": [
    "model = LinearRegression()\n",
    "model.fit(x_train,y_train)\n",
    "weights = model.coef_\n",
    "intercept = model.intercept_\n",
    "test_predictions = model.predict(x_test)\n",
    "print(f\"The mean sqaured error is: {mean_squared_error(y_test,test_predictions)}\")\n",
    "print(f\"R^2 is: {model.score(x_test,y_test)}\")"
   ]
  },
  {
   "cell_type": "markdown",
   "metadata": {
    "id": "nBxB-P4l9DtV"
   },
   "source": [
    "In the above cell, I fitted a linear regression between the audio features and popularity. We can see that R^2 is really low which means that only 16.68% variation is the audio features are explained by their linear relationship with popularity. In other words, the current linear regression is not a good model for predicting the popularity. We can do some transformations such as box-cox transformation to improve the performance our model, but transformation of linear regression itself is a huge project, so I am not going to details here. Another problem that may contribute the failure of the model is that there could be other predictors that heavily influence popularity but are not included in our model. Our previous heatmap of linear correlation suggests that linear regression without transformation may not work since audio features don't have high correlation with popularity."
   ]
  },
  {
   "cell_type": "code",
   "execution_count": null,
   "metadata": {
    "colab": {
     "base_uri": "https://localhost:8080/"
    },
    "id": "D4HGkSt0w-5R",
    "outputId": "ff7875f3-306d-43fe-859f-4718903a8779"
   },
   "outputs": [
    {
     "name": "stdout",
     "output_type": "stream",
     "text": [
      "                 artist                  track_name  popularity\n",
      "0         Frank Sinatra      Strangers In The Night        70.0\n",
      "1       The Temptations                     My Girl        80.0\n",
      "2       Aretha Franklin       I Say a Little Prayer        59.0\n",
      "3       Ella Fitzgerald  Dream A Little Dream Of Me        48.0\n",
      "4          Janis Joplin                       Maybe        59.0\n",
      "..                  ...                         ...         ...\n",
      "156  Jefferson Airplane                White Rabbit        72.0\n",
      "157        Otis Redding     Try a Little Tenderness        63.0\n",
      "158         Nina Simone                   Sinnerman        63.0\n",
      "159     Louis Armstrong      What A Wonderful World        69.0\n",
      "160     Ella Fitzgerald  Dream A Little Dream Of Me        48.0\n",
      "\n",
      "[161 rows x 3 columns]\n",
      "What A Wonderful World                                                          9\n",
      "I Say a Little Prayer                                                           9\n",
      "My Girl                                                                         9\n",
      "Stand By Me                                                                     8\n",
      "Ain't No Sunshine                                                               7\n",
      "Dream A Little Dream Of Me                                                      7\n",
      "Leaving on a Jet Plane                                                          7\n",
      "Ramble On - 1990 Remaster                                                       7\n",
      "Georgia on My Mind                                                              7\n",
      "America                                                                         6\n",
      "Helplessly Hoping - 2005 Remaster                                               5\n",
      "You Can't Always Get What You Want                                              5\n",
      "Hey Jude                                                                        4\n",
      "Wild World                                                                      4\n",
      "Strangers In The Night                                                          4\n",
      "Turn! Turn! Turn! (To Everything There Is a Season)                             4\n",
      "Oye Como Va                                                                     4\n",
      "A Change Is Gonna Come                                                          4\n",
      "I'd Rather Go Blind                                                             4\n",
      "Maybe                                                                           4\n",
      "Little Wing                                                                     4\n",
      "Sinnerman                                                                       3\n",
      "Try a Little Tenderness                                                         3\n",
      "In the Midnight Hour                                                            3\n",
      "Bird on the Wire                                                                3\n",
      "Like a Rolling Stone                                                            3\n",
      "Folsom Prison Blues - Live at Folsom State Prison, Folsom, CA - January 1968    2\n",
      "With A Little Help From My Friends                                              2\n",
      "Many Rivers To Cross                                                            2\n",
      "She's Got You - Single Version                                                  2\n",
      "People Get Ready                                                                2\n",
      "The Thrill Is Gone                                                              2\n",
      "The Tracks Of My Tears                                                          2\n",
      "I'll Fly Away                                                                   2\n",
      "Behind Blue Eyes                                                                2\n",
      "Encinitas                                                                       1\n",
      "The Night They Drove Old Dixie Down                                             1\n",
      "I Saw the Light                                                                 1\n",
      "Spoonful                                                                        1\n",
      "Hurdy Gurdy Man                                                                 1\n",
      "White Rabbit                                                                    1\n",
      "Name: track_name, dtype: int64\n"
     ]
    }
   ],
   "source": [
    "top40_data = pd.read_csv(\"top40.csv\")\n",
    "print(top40_data[[\"artist\",\"track_name\",\"popularity\"]])\n",
    "print(top40_data['track_name'].value_counts())"
   ]
  },
  {
   "cell_type": "markdown",
   "metadata": {
    "id": "zrOgasnREuI6"
   },
   "source": [
    "In the above cell, I computed how many times each track is selected as part of a top_40 playlist. And the top5 tracks are: What A Wonderful World, I Say a Little Prayer, My Girl."
   ]
  },
  {
   "cell_type": "code",
   "execution_count": null,
   "metadata": {
    "id": "yxwAMUm5MZYF"
   },
   "outputs": [],
   "source": [
    "def get_related_artists(pd1,pd2,pd3):\n",
    "  artists=[]\n",
    "  result = []\n",
    "  names1 = pd1[\"name\"].to_numpy()  \n",
    "  names2 = pd2[\"name\"].to_numpy()\n",
    "  names3 = pd3[\"name\"].to_numpy()\n",
    "  for name in names1:\n",
    "    artists.append(name)\n",
    "  \n",
    "  for name in names2:\n",
    "    if name in artists:\n",
    "      result.append(name)\n",
    "  \n",
    "  for name in names3:\n",
    "    if name in artists:\n",
    "      result.append(name)\n",
    "  \n",
    "  for name in names2:\n",
    "    if name in names3 and name not in artists:\n",
    "      result.append(name)\n",
    "  \n",
    "  if (len(result)==0):\n",
    "    return \"No related artists found!\"\n",
    "  return result"
   ]
  },
  {
   "cell_type": "markdown",
   "metadata": {
    "id": "Y_w00i_aROAK"
   },
   "source": [
    "The above function takes three parameters which are 3 dataframes containing the related artist names. This function will return a list of related artists for the 3 dataframes."
   ]
  },
  {
   "cell_type": "code",
   "execution_count": null,
   "metadata": {
    "colab": {
     "base_uri": "https://localhost:8080/"
    },
    "id": "sAGYanz6FfBH",
    "outputId": "5c72540a-0f1e-4b0f-e383-24289ca3830d"
   },
   "outputs": [
    {
     "name": "stdout",
     "output_type": "stream",
     "text": [
      "['Gladys Knight & The Pips', 'Jackie Wilson', 'The Supremes', 'Smokey Robinson & The Miracles', 'Four Tops', 'Martha Reeves & The Vandellas', 'The Spinners', 'Harold Melvin & The Blue Notes']\n"
     ]
    }
   ],
   "source": [
    "louis_armstrong = \"19eLuQmk9aCobbVDHc6eek\"\n",
    "popularity1=69.0\n",
    "name1=\"Louis Armstrong\"\n",
    "aretha_franklin =\"7nwUJBm0HE4ZxD3f5cy5ok\"\n",
    "popularity2=59.0\n",
    "name2 = \"Aretha Franklin\"\n",
    "the_temptations =\"3RwQ26hR2tJtA8F9p2n7jG\"\n",
    "popularity3=80\n",
    "name3 = \"The Temptations\"\n",
    "\n",
    "armstrong_related = pd.DataFrame(sp.artist_related_artists(louis_armstrong)[\"artists\"])\n",
    "franklin_related = pd.DataFrame(sp.artist_related_artists(aretha_franklin)[\"artists\"])\n",
    "temptations_related = pd.DataFrame(sp.artist_related_artists(the_temptations)[\"artists\"])\n",
    "related_artist = get_related_artists(armstrong_related,franklin_related,temptations_related)\n",
    "print(related_artist)"
   ]
  },
  {
   "cell_type": "markdown",
   "metadata": {
    "id": "9RIf2sjNRgBt"
   },
   "source": [
    "From the above output, we can see that Louis Armstrong, Aretha Franklin, and The Temptations are actually connected through other artists within their generation."
   ]
  },
  {
   "cell_type": "code",
   "execution_count": null,
   "metadata": {
    "id": "QloLSPbSR-i4"
   },
   "outputs": [],
   "source": [
    "def add_related_artists(starting_artist_name, starting_artist_id, existing_graph, limit, order_group=None):\n",
    "    # get artists related to the current artist\n",
    "    current_artist_related = pd.DataFrame(sp.artist_related_artists(starting_artist_id)[\"artists\"])\n",
    "    # loop through the related artists, add nodes and edges\n",
    "    for i in range(limit):\n",
    "        # check if node already exists\n",
    "        if current_artist_related.loc[i][\"name\"] not in existing_graph.get_nodes():\n",
    "            if order_group:\n",
    "                existing_graph.add_node(current_artist_related.loc[i][\"name\"], value=int(current_artist_related.loc[i][\"popularity\"]), group=order_group)\n",
    "            else:\n",
    "                existing_graph.add_node(current_artist_related.loc[i][\"name\"], value=int(current_artist_related.loc[i][\"popularity\"]), group=(i + 1))\n",
    "        # add edge\n",
    "\n",
    "        existing_graph.add_edge(starting_artist_name, current_artist_related.loc[i][\"name\"])"
   ]
  },
  {
   "cell_type": "code",
   "execution_count": null,
   "metadata": {
    "id": "PjX8cFT-LK2q"
   },
   "outputs": [],
   "source": [
    "limit=10\n",
    "armstrong_related = pd.DataFrame(sp.artist_related_artists(louis_armstrong)[\"artists\"]).loc[0:(limit-1)]\n",
    "franklin_related = pd.DataFrame(sp.artist_related_artists(aretha_franklin)[\"artists\"]).loc[0:(limit-1)]\n",
    "temptations_related = pd.DataFrame(sp.artist_related_artists(the_temptations)[\"artists\"]).loc[0:(limit-1)]\n",
    "\n",
    "# armstrong network\n",
    "artist_network1 = net.Network(notebook=True)\n",
    "artist_network1.add_node(name1, value=popularity1, color=\"#fffff\", group=0)\n",
    "add_related_artists(name1, louis_armstrong, artist_network1, limit)\n",
    "for i in range(limit):\n",
    "    add_related_artists(armstrong_related.loc[i][\"name\"], armstrong_related.loc[i][\"id\"], artist_network1, limit, (i+1))\n",
    "artist_network1.show(\"armstrong.html\")\n",
    "\n",
    "# franklin network\n",
    "artist_network2 = net.Network(notebook=True)\n",
    "artist_network2.add_node(name2, value=popularity2, color=\"#fffff\", group=0)\n",
    "add_related_artists(name2, aretha_franklin, artist_network2, limit)\n",
    "for i in range(limit):\n",
    "    add_related_artists(franklin_related.loc[i][\"name\"], franklin_related.loc[i][\"id\"], artist_network2, limit, (i+1))\n",
    "artist_network2.show(\"franklin.html\")\n",
    "\n",
    "# temptations network\n",
    "artist_network3 = net.Network(notebook=True)\n",
    "artist_network3.add_node(name3, value=popularity3, color=\"#fffff\", group=0)\n",
    "\n",
    "add_related_artists(name3, the_temptations, artist_network3, limit)\n",
    "# Running through the once-related artists\n",
    "for i in range(limit):\n",
    "    add_related_artists(temptations_related.loc[i][\"name\"], temptations_related.loc[i][\"id\"], artist_network3, limit, (i+1))\n",
    "\n",
    "# Showing the Network Graph\n",
    "artist_network3.show(\"temptations.html\")\n"
   ]
  },
  {
   "cell_type": "markdown",
   "metadata": {
    "id": "J-cPNHP_WN2A"
   },
   "source": [
    "colab doesn't show the network. To view the network, please look at colab files and download 3 html files: \"armstrong.html\",\"franklin.html\",\"temptations.html\". After downloading the files, open them in any internet browser. In the above cell, I built 3 networks for Louis Armstrong, Aretha Franklin, and the Temptations respectively. "
   ]
  },
  {
   "cell_type": "code",
   "execution_count": null,
   "metadata": {
    "id": "X8OIk_11XJyN"
   },
   "outputs": [],
   "source": [
    "gs_playlist_tracks = pd.DataFrame(sp.user_playlist_tracks(\"313pk3sai2bekdmtoefrbjmbv5ey\", \"6Er5rSv7eawUDyK2gzSa47\"))\n",
    "gs_playlist_tracks_audio_df = get_audio_features_df(gs_playlist_tracks)\n",
    "gs_playlist_tracks_audio_df[\"Author\"] = \"Author1\"\n",
    "\n",
    "gs_playlist_tracks2 = pd.DataFrame(sp.user_playlist_tracks(\"316b7eir5onpduebous2uyrqwxue\", \"4sWTtloXKghMS1cz48f2qI\"))\n",
    "gs_playlist_tracks_audio_df2 = get_audio_features_df(gs_playlist_tracks2)\n",
    "gs_playlist_tracks_audio_df2[\"Author\"] = \"Author2\"\n",
    "\n",
    "gs_playlist_tracks3 = pd.DataFrame(sp.user_playlist_tracks(\"4uxd1wpjsxqvlpni1ixj09ipn\", \"5YS9zh4bCOpJqhenIJfFyw\"))\n",
    "gs_playlist_tracks_audio_df3 = get_audio_features_df(gs_playlist_tracks3)\n",
    "gs_playlist_tracks_audio_df3[\"Author\"] = \"Author3\"\n",
    "\n",
    "combined = pd.concat([gs_playlist_tracks_audio_df, gs_playlist_tracks_audio_df2, gs_playlist_tracks_audio_df3], ignore_index=True)"
   ]
  },
  {
   "cell_type": "markdown",
   "metadata": {
    "id": "YCB50LlBaskP"
   },
   "source": [
    "In the above cell, I picked 3 playlists from 3 users and combine them into one dataframe for the graph below."
   ]
  },
  {
   "cell_type": "code",
   "execution_count": null,
   "metadata": {
    "colab": {
     "base_uri": "https://localhost:8080/",
     "height": 537
    },
    "id": "l0-wE3LtY-ly",
    "outputId": "afe24099-634c-426b-ba28-81f7370fcdfc"
   },
   "outputs": [
    {
     "data": {
      "text/html": [
       "\n",
       "<div id=\"altair-viz-5494e6d683f8436fbbe042e6f163f5a7\"></div>\n",
       "<script type=\"text/javascript\">\n",
       "  var VEGA_DEBUG = (typeof VEGA_DEBUG == \"undefined\") ? {} : VEGA_DEBUG;\n",
       "  (function(spec, embedOpt){\n",
       "    let outputDiv = document.currentScript.previousElementSibling;\n",
       "    if (outputDiv.id !== \"altair-viz-5494e6d683f8436fbbe042e6f163f5a7\") {\n",
       "      outputDiv = document.getElementById(\"altair-viz-5494e6d683f8436fbbe042e6f163f5a7\");\n",
       "    }\n",
       "    const paths = {\n",
       "      \"vega\": \"https://cdn.jsdelivr.net/npm//vega@5?noext\",\n",
       "      \"vega-lib\": \"https://cdn.jsdelivr.net/npm//vega-lib?noext\",\n",
       "      \"vega-lite\": \"https://cdn.jsdelivr.net/npm//vega-lite@4.17.0?noext\",\n",
       "      \"vega-embed\": \"https://cdn.jsdelivr.net/npm//vega-embed@6?noext\",\n",
       "    };\n",
       "\n",
       "    function maybeLoadScript(lib, version) {\n",
       "      var key = `${lib.replace(\"-\", \"\")}_version`;\n",
       "      return (VEGA_DEBUG[key] == version) ?\n",
       "        Promise.resolve(paths[lib]) :\n",
       "        new Promise(function(resolve, reject) {\n",
       "          var s = document.createElement('script');\n",
       "          document.getElementsByTagName(\"head\")[0].appendChild(s);\n",
       "          s.async = true;\n",
       "          s.onload = () => {\n",
       "            VEGA_DEBUG[key] = version;\n",
       "            return resolve(paths[lib]);\n",
       "          };\n",
       "          s.onerror = () => reject(`Error loading script: ${paths[lib]}`);\n",
       "          s.src = paths[lib];\n",
       "        });\n",
       "    }\n",
       "\n",
       "    function showError(err) {\n",
       "      outputDiv.innerHTML = `<div class=\"error\" style=\"color:red;\">${err}</div>`;\n",
       "      throw err;\n",
       "    }\n",
       "\n",
       "    function displayChart(vegaEmbed) {\n",
       "      vegaEmbed(outputDiv, spec, embedOpt)\n",
       "        .catch(err => showError(`Javascript Error: ${err.message}<br>This usually means there's a typo in your chart specification. See the javascript console for the full traceback.`));\n",
       "    }\n",
       "\n",
       "    if(typeof define === \"function\" && define.amd) {\n",
       "      requirejs.config({paths});\n",
       "      require([\"vega-embed\"], displayChart, err => showError(`Error loading script: ${err.message}`));\n",
       "    } else {\n",
       "      maybeLoadScript(\"vega\", \"5\")\n",
       "        .then(() => maybeLoadScript(\"vega-lite\", \"4.17.0\"))\n",
       "        .then(() => maybeLoadScript(\"vega-embed\", \"6\"))\n",
       "        .catch(showError)\n",
       "        .then(() => displayChart(vegaEmbed));\n",
       "    }\n",
       "  })({\"config\": {\"view\": {\"continuousWidth\": 400, \"continuousHeight\": 300}}, \"data\": {\"name\": \"data-126dca9d9cb0be4974a0300d5e490f2f\"}, \"mark\": \"point\", \"encoding\": {\"color\": {\"field\": \"Author\", \"type\": \"nominal\"}, \"tooltip\": [{\"field\": \"artist\", \"type\": \"nominal\"}, {\"field\": \"track_name\", \"type\": \"nominal\"}], \"x\": {\"field\": \"track_name\", \"sort\": null, \"type\": \"nominal\"}, \"y\": {\"field\": \"danceability\", \"type\": \"quantitative\"}}, \"width\": 1000, \"$schema\": \"https://vega.github.io/schema/vega-lite/v4.17.0.json\", \"datasets\": {\"data-126dca9d9cb0be4974a0300d5e490f2f\": [{\"artist\": \"Cam\\u00e9lia Jordana\", \"album\": \"Camelia Jordana\", \"track_name\": \"Moi c'est\", \"track_id\": \"0cgWTzGYVUWELohSykTxrb\", \"danceability\": 0.862, \"energy\": 0.409, \"key\": 6, \"loudness\": -10.255, \"mode\": 0, \"speechiness\": 0.0399, \"instrumentalness\": 0.0871, \"liveness\": 0.0927, \"valence\": 0.8, \"tempo\": 135.013, \"duration_ms\": 170893, \"time_signature\": 4, \"popularity\": 56.0, \"Author\": \"Author1\"}, {\"artist\": \"Audrey Hepburn\", \"album\": \"Moon River (Breakfast at Tiffany's) [Remastered]\", \"track_name\": \"Moon River (From Breakfast at Tiffany's) [Remastered]\", \"track_id\": \"1XwAKjAZ1xDZOcuyZoqce4\", \"danceability\": 0.381, \"energy\": 0.0251, \"key\": 10, \"loudness\": -19.128, \"mode\": 1, \"speechiness\": 0.0327, \"instrumentalness\": 0.00109, \"liveness\": 0.099, \"valence\": 0.173, \"tempo\": 85.968, \"duration_ms\": 123160, \"time_signature\": 3, \"popularity\": 56.0, \"Author\": \"Author1\"}, {\"artist\": \"Camera Obscura\", \"album\": \"Underachievers Please Try Harder\", \"track_name\": \"Suspended From Class\", \"track_id\": \"2YDmCSVs46QrhD2sqYGGqx\", \"danceability\": 0.582, \"energy\": 0.562, \"key\": 9, \"loudness\": -8.985, \"mode\": 1, \"speechiness\": 0.0258, \"instrumentalness\": 0.0126, \"liveness\": 0.0682, \"valence\": 0.707, \"tempo\": 131.629, \"duration_ms\": 226227, \"time_signature\": 4, \"popularity\": 32.0, \"Author\": \"Author1\"}, {\"artist\": \"Julie London\", \"album\": \"Julie Is Her Name\", \"track_name\": \"Cry Me A River\", \"track_id\": \"7f6AAixCrVar1ZY7RPHDfM\", \"danceability\": 0.496, \"energy\": 0.0688, \"key\": 4, \"loudness\": -14.927, \"mode\": 0, \"speechiness\": 0.0545, \"instrumentalness\": 0.00229, \"liveness\": 0.112, \"valence\": 0.161, \"tempo\": 119.898, \"duration_ms\": 178573, \"time_signature\": 4, \"popularity\": 59.0, \"Author\": \"Author1\"}, {\"artist\": \"The Smiths\", \"album\": \"Hatful of Hollow\", \"track_name\": \"Please, Please, Please, Let Me Get What I Want - 2011 Remaster\", \"track_id\": \"6BrMEbPSSj55nQhkgf6DnE\", \"danceability\": 0.241, \"energy\": 0.468, \"key\": 2, \"loudness\": -9.579, \"mode\": 1, \"speechiness\": 0.0272, \"instrumentalness\": 0.0, \"liveness\": 0.161, \"valence\": 0.451, \"tempo\": 91.581, \"duration_ms\": 112707, \"time_signature\": 3, \"popularity\": 69.0, \"Author\": \"Author1\"}, {\"artist\": \"H\\u00e9l\\u00e8ne Grimaud\", \"album\": \"Chopin / Rachmaninov: Piano Sonatas\", \"track_name\": \"Piano Sonata No. 2 in B Flat Minor, Op. 36: II. Non allegro - Lento\", \"track_id\": \"79O3P99BRXIOWuARKZXNnT\", \"danceability\": 0.255, \"energy\": 0.0496, \"key\": 4, \"loudness\": -24.645, \"mode\": 0, \"speechiness\": 0.0469, \"instrumentalness\": 0.869, \"liveness\": 0.0686, \"valence\": 0.0385, \"tempo\": 72.575, \"duration_ms\": 445800, \"time_signature\": 4, \"popularity\": 4.0, \"Author\": \"Author1\"}, {\"artist\": \"Fred Astaire\", \"album\": \"Funny Face (Original Motion Picture Soundtrack / Expanded Edition)\", \"track_name\": \"Basal Metabolism (Based On How Long Has This Been Going On)\", \"track_id\": \"3jV7xeKd7V5suD6w9qCT2m\", \"danceability\": 0.491, \"energy\": 0.445, \"key\": 4, \"loudness\": -10.695, \"mode\": 0, \"speechiness\": 0.074, \"instrumentalness\": 0.164, \"liveness\": 0.0694, \"valence\": 0.451, \"tempo\": 114.497, \"duration_ms\": 173960, \"time_signature\": 4, \"popularity\": 12.0, \"Author\": \"Author1\"}, {\"artist\": \"Phoebe Bridgers\", \"album\": \"Stranger in the Alps (Deluxe Edition)\", \"track_name\": \"Motion Sickness\", \"track_id\": \"25Syi9wnfn6ZGAmiOBypPq\", \"danceability\": 0.651, \"energy\": 0.546, \"key\": 1, \"loudness\": -9.021, \"mode\": 1, \"speechiness\": 0.0357, \"instrumentalness\": 0.0437, \"liveness\": 0.0842, \"valence\": 0.623, \"tempo\": 107.021, \"duration_ms\": 229760, \"time_signature\": 4, \"popularity\": 65.0, \"Author\": \"Author1\"}, {\"artist\": \"The Buttertones\", \"album\": \"Buttertones\", \"track_name\": \"Dionysus\", \"track_id\": \"7wYU1avLwl1Gtkib8OTrZp\", \"danceability\": 0.331, \"energy\": 0.61, \"key\": 9, \"loudness\": -8.138, \"mode\": 1, \"speechiness\": 0.0293, \"instrumentalness\": 0.0548, \"liveness\": 0.14, \"valence\": 0.55, \"tempo\": 132.746, \"duration_ms\": 209040, \"time_signature\": 4, \"popularity\": 52.0, \"Author\": \"Author1\"}, {\"artist\": \"Brandi Carlile\", \"album\": \"Bear Creek\", \"track_name\": \"Heart's Content\", \"track_id\": \"0pegFWSUOTiG0sLVEfxtvA\", \"danceability\": 0.564, \"energy\": 0.209, \"key\": 3, \"loudness\": -8.922, \"mode\": 1, \"speechiness\": 0.0317, \"instrumentalness\": 3.99e-05, \"liveness\": 0.107, \"valence\": 0.402, \"tempo\": 109.024, \"duration_ms\": 214667, \"time_signature\": 4, \"popularity\": 60.0, \"Author\": \"Author1\"}, {\"artist\": \"Various Artists\", \"album\": \"Shrek\", \"track_name\": \"Hallelujah\", \"track_id\": \"5USZyz6dnBEn1oLsKcAKQy\", \"danceability\": 0.344, \"energy\": 0.196, \"key\": 9, \"loudness\": -7.518, \"mode\": 0, \"speechiness\": 0.032, \"instrumentalness\": 0, \"liveness\": 0.104, \"valence\": 0.45, \"tempo\": 72.609, \"duration_ms\": 248800, \"time_signature\": 4, \"popularity\": 58.0, \"Author\": \"Author2\"}, {\"artist\": \"Tori Kelly\", \"album\": \"Hallelujah (From \\\"Sing\\\" Original Motion Picture Soundtrack)\", \"track_name\": \"Hallelujah\", \"track_id\": \"3wWinz94TSPWe6CgTaSK6x\", \"danceability\": 0.229, \"energy\": 0.239, \"key\": 1, \"loudness\": -9.146, \"mode\": 0, \"speechiness\": 0.0307, \"instrumentalness\": 0, \"liveness\": 0.117, \"valence\": 0.202, \"tempo\": 94.69, \"duration_ms\": 207987, \"time_signature\": 3, \"popularity\": 54.0, \"Author\": \"Author2\"}, {\"artist\": \"Pentatonix\", \"album\": \"A Pentatonix Christmas Deluxe\", \"track_name\": \"Hallelujah\", \"track_id\": \"0HZk0QsXPhMNAWNDR3rYE8\", \"danceability\": 0.364, \"energy\": 0.378, \"key\": 7, \"loudness\": -7.381, \"mode\": 0, \"speechiness\": 0.0331, \"instrumentalness\": 0, \"liveness\": 0.339, \"valence\": 0.366, \"tempo\": 89.918, \"duration_ms\": 268960, \"time_signature\": 3, \"popularity\": 61.0, \"Author\": \"Author2\"}, {\"artist\": \"Kate Voegele\", \"album\": \"Don't Look Away\", \"track_name\": \"Hallelujah\", \"track_id\": \"5OqW09kxGmc6b5xGFmln1b\", \"danceability\": 0.593, \"energy\": 0.217, \"key\": 2, \"loudness\": -7.474, \"mode\": 0, \"speechiness\": 0.0282, \"instrumentalness\": 0, \"liveness\": 0.117, \"valence\": 0.365, \"tempo\": 107.918, \"duration_ms\": 294200, \"time_signature\": 3, \"popularity\": 40.0, \"Author\": \"Author2\"}, {\"artist\": \"Jason Castro\", \"album\": \"Jason Castro (Deluxe)\", \"track_name\": \"Hallelujah\", \"track_id\": \"6hsP7b83RjEY51ENfo1ZOc\", \"danceability\": 0.343, \"energy\": 0.241, \"key\": 0, \"loudness\": -10.98, \"mode\": 1, \"speechiness\": 0.0367, \"instrumentalness\": 0, \"liveness\": 0.107, \"valence\": 0.169, \"tempo\": 184.232, \"duration_ms\": 233240, \"time_signature\": 3, \"popularity\": 37.0, \"Author\": \"Author2\"}, {\"artist\": \"Junkie XL\", \"album\": \"Zack Snyder's Justice League (Original Motion Picture Soundtrack)\", \"track_name\": \"Hallelujah\", \"track_id\": \"6y3zNyQbSnMN50uXN0r3X3\", \"danceability\": 0.355, \"energy\": 0.193, \"key\": 8, \"loudness\": -11.068, \"mode\": 1, \"speechiness\": 0.039, \"instrumentalness\": 3.33e-06, \"liveness\": 0.132, \"valence\": 0.0693, \"tempo\": 103.78, \"duration_ms\": 370787, \"time_signature\": 4, \"popularity\": 32.0, \"Author\": \"Author2\"}, {\"artist\": \"John Cale\", \"album\": \"Hallelujah\", \"track_name\": \"Hallelujah - Fragments [Single Version]\", \"track_id\": \"56GBItqD18Be9iN7zGqMX5\", \"danceability\": 0.35, \"energy\": 0.272, \"key\": 0, \"loudness\": -8.655, \"mode\": 1, \"speechiness\": 0.0271, \"instrumentalness\": 6.88e-06, \"liveness\": 0.984, \"valence\": 0.232, \"tempo\": 100.325, \"duration_ms\": 281919, \"time_signature\": 3, \"popularity\": 41.0, \"Author\": \"Author2\"}, {\"artist\": \"k.d. lang\", \"album\": \"Recollection\", \"track_name\": \"Hallelujah\", \"track_id\": \"5S0pF13mOsTnYweFwFy4D0\", \"danceability\": 0.339, \"energy\": 0.184, \"key\": 4, \"loudness\": -8.624, \"mode\": 1, \"speechiness\": 0.0289, \"instrumentalness\": 2.71e-06, \"liveness\": 0.109, \"valence\": 0.0989, \"tempo\": 76.053, \"duration_ms\": 308440, \"time_signature\": 4, \"popularity\": 52.0, \"Author\": \"Author2\"}, {\"artist\": \"Jordan Smith\", \"album\": \"The Complete Season 9 Collection (The Voice Performance)\", \"track_name\": \"Hallelujah - The Voice Performance\", \"track_id\": \"3LLYIitFpZSmXY95rQxw0E\", \"danceability\": 0.401, \"energy\": 0.373, \"key\": 2, \"loudness\": -6.947, \"mode\": 1, \"speechiness\": 0.0257, \"instrumentalness\": 0, \"liveness\": 0.117, \"valence\": 0.109, \"tempo\": 94.523, \"duration_ms\": 189093, \"time_signature\": 3, \"popularity\": 36.0, \"Author\": \"Author2\"}, {\"artist\": \"Alexandra Burke\", \"album\": \"Overcome\", \"track_name\": \"Hallelujah\", \"track_id\": \"5IaR621NoOM6i5KTcuNRHM\", \"danceability\": 0.177, \"energy\": 0.425, \"key\": 2, \"loudness\": -6.211, \"mode\": 0, \"speechiness\": 0.0291, \"instrumentalness\": 0, \"liveness\": 0.195, \"valence\": 0.0942, \"tempo\": 182.571, \"duration_ms\": 217827, \"time_signature\": 3, \"popularity\": 65.0, \"Author\": \"Author2\"}, {\"artist\": \"Leonard Cohen\", \"album\": \"Various Positions\", \"track_name\": \"Hallelujah\", \"track_id\": \"7yzbimr8WVyAtBX3Eg6UL9\", \"danceability\": 0.28, \"energy\": 0.344, \"key\": 0, \"loudness\": -12.577, \"mode\": 1, \"speechiness\": 0.0293, \"instrumentalness\": 0.00642, \"liveness\": 0.133, \"valence\": 0.232, \"tempo\": 171.143, \"duration_ms\": 277160, \"time_signature\": 3, \"popularity\": 64.0, \"Author\": \"Author2\"}, {\"artist\": \"Etta James\", \"album\": \"Tell Mama\", \"track_name\": \"I'd Rather Go Blind\", \"track_id\": \"1kPBT8S2wJFNAyBMnGVZgL\", \"danceability\": 0.477, \"energy\": 0.433, \"key\": 11, \"loudness\": -6.473, \"mode\": 0, \"speechiness\": 0.0247, \"instrumentalness\": 0.000195, \"liveness\": 0.151, \"valence\": 0.611, \"tempo\": 82.52, \"duration_ms\": 156653, \"time_signature\": 3, \"popularity\": 71.0, \"Author\": \"Author3\"}, {\"artist\": \"Leonard Cohen\", \"album\": \"Songs From A Room\", \"track_name\": \"Bird on the Wire\", \"track_id\": \"3M0QK0bYdiGMu6JNoPk8YG\", \"danceability\": 0.402, \"energy\": 0.114, \"key\": 9, \"loudness\": -15.691, \"mode\": 1, \"speechiness\": 0.0321, \"instrumentalness\": 0.0024, \"liveness\": 0.318, \"valence\": 0.191, \"tempo\": 128.332, \"duration_ms\": 206373, \"time_signature\": 3, \"popularity\": 50.0, \"Author\": \"Author3\"}, {\"artist\": \"Bill Withers\", \"album\": \"Just As I Am\", \"track_name\": \"Ain't No Sunshine\", \"track_id\": \"1k1Bqnv2R0uJXQN4u6LKYt\", \"danceability\": 0.527, \"energy\": 0.415, \"key\": 4, \"loudness\": -11.451, \"mode\": 0, \"speechiness\": 0.122, \"instrumentalness\": 1.72e-05, \"liveness\": 0.117, \"valence\": 0.515, \"tempo\": 78.169, \"duration_ms\": 125093, \"time_signature\": 4, \"popularity\": 79.0, \"Author\": \"Author3\"}, {\"artist\": \"Smokey Robinson & The Miracles\", \"album\": \"Going To A Go-Go\", \"track_name\": \"The Tracks Of My Tears\", \"track_id\": \"6QyQmdvQ1ywNccYa0pwLNQ\", \"danceability\": 0.502, \"energy\": 0.333, \"key\": 7, \"loudness\": -10.914, \"mode\": 1, \"speechiness\": 0.0264, \"instrumentalness\": 0.0, \"liveness\": 0.222, \"valence\": 0.729, \"tempo\": 96.982, \"duration_ms\": 174360, \"time_signature\": 4, \"popularity\": 63.0, \"Author\": \"Author3\"}, {\"artist\": \"B.B. King\", \"album\": \"Completely Well\", \"track_name\": \"The Thrill Is Gone\", \"track_id\": \"4NQfrmGs9iQXVQI9IpRhjM\", \"danceability\": 0.547, \"energy\": 0.46, \"key\": 11, \"loudness\": -8.759, \"mode\": 0, \"speechiness\": 0.0256, \"instrumentalness\": 0.442, \"liveness\": 0.0983, \"valence\": 0.543, \"tempo\": 90.768, \"duration_ms\": 324733, \"time_signature\": 4, \"popularity\": 63.0, \"Author\": \"Author3\"}, {\"artist\": \"The Who\", \"album\": \"Who's Next (Deluxe Edition)\", \"track_name\": \"Behind Blue Eyes\", \"track_id\": \"0cKk8BKEi7zXbdrYdyqBP5\", \"danceability\": 0.394, \"energy\": 0.622, \"key\": 4, \"loudness\": -8.258, \"mode\": 0, \"speechiness\": 0.0336, \"instrumentalness\": 4.45e-05, \"liveness\": 0.0892, \"valence\": 0.342, \"tempo\": 126.844, \"duration_ms\": 221427, \"time_signature\": 4, \"popularity\": 72.0, \"Author\": \"Author3\"}, {\"artist\": \"Jimmy Cliff\", \"album\": \"Wonderful World, Beautiful People\", \"track_name\": \"Many Rivers To Cross\", \"track_id\": \"1dZxI6OuzwJ283y3gOU1Kq\", \"danceability\": 0.399, \"energy\": 0.212, \"key\": 5, \"loudness\": -16.03, \"mode\": 1, \"speechiness\": 0.0747, \"instrumentalness\": 0.000434, \"liveness\": 0.116, \"valence\": 0.149, \"tempo\": 137.76, \"duration_ms\": 164067, \"time_signature\": 4, \"popularity\": 50.0, \"Author\": \"Author3\"}, {\"artist\": \"Ben E. King\", \"album\": \"Stand By Me\", \"track_name\": \"Stand By Me\", \"track_id\": \"2KQM3kDM0zMBC9iynePBbS\", \"danceability\": 0.653, \"energy\": 0.334, \"key\": 9, \"loudness\": -6.955, \"mode\": 1, \"speechiness\": 0.0313, \"instrumentalness\": 3.47e-05, \"liveness\": 0.123, \"valence\": 0.665, \"tempo\": 119.46, \"duration_ms\": 174253, \"time_signature\": 4, \"popularity\": 58.0, \"Author\": \"Author3\"}, {\"artist\": \"Wilson Pickett\", \"album\": \"Hey Jude\", \"track_name\": \"Hey Jude\", \"track_id\": \"1MMp1H2Kib2BCDtdL5nL63\", \"danceability\": 0.561, \"energy\": 0.385, \"key\": 6, \"loudness\": -15.33, \"mode\": 1, \"speechiness\": 0.0323, \"instrumentalness\": 0.000496, \"liveness\": 0.171, \"valence\": 0.664, \"tempo\": 81.599, \"duration_ms\": 247733, \"time_signature\": 4, \"popularity\": 54.0, \"Author\": \"Author3\"}, {\"artist\": \"The Rolling Stones\", \"album\": \"Let It Bleed\", \"track_name\": \"You Can't Always Get What You Want\", \"track_id\": \"6lFZbCc7pn6Lme1NP7qQqQ\", \"danceability\": 0.32, \"energy\": 0.62, \"key\": 0, \"loudness\": -9.686, \"mode\": 1, \"speechiness\": 0.0594, \"instrumentalness\": 6.36e-05, \"liveness\": 0.253, \"valence\": 0.472, \"tempo\": 86.327, \"duration_ms\": 448720, \"time_signature\": 4, \"popularity\": 69.0, \"Author\": \"Author3\"}]}}, {\"mode\": \"vega-lite\"});\n",
       "</script>"
      ],
      "text/plain": [
       "alt.Chart(...)"
      ]
     },
     "execution_count": 125,
     "metadata": {},
     "output_type": "execute_result"
    }
   ],
   "source": [
    "alt.Chart(combined).mark_point().encode(\n",
    "    x=alt.X(\"track_name\", sort=None),\n",
    "    y='danceability',\n",
    "    color=\"Author\",\n",
    "    tooltip=[\"artist\", \"track_name\"]\n",
    ").properties(\n",
    "    width=1000\n",
    ")"
   ]
  },
  {
   "cell_type": "markdown",
   "metadata": {
    "id": "fb59V4Gda6C9"
   },
   "source": [
    "In the above cell, I plotted the danceability of all the songs from the 3 playlists, and we can see that most of the danceability lied between 0.2 and 0.6. For these 3 users, they prefer lower danceability."
   ]
  },
  {
   "cell_type": "code",
   "execution_count": null,
   "metadata": {
    "colab": {
     "base_uri": "https://localhost:8080/",
     "height": 532
    },
    "id": "Zk9PR7paZ1eb",
    "outputId": "0e7a280f-0c1b-4170-9841-38bb658a7d45"
   },
   "outputs": [
    {
     "data": {
      "text/html": [
       "\n",
       "<div id=\"altair-viz-698ede976d1945bcbf15acce8eb8b8d7\"></div>\n",
       "<script type=\"text/javascript\">\n",
       "  var VEGA_DEBUG = (typeof VEGA_DEBUG == \"undefined\") ? {} : VEGA_DEBUG;\n",
       "  (function(spec, embedOpt){\n",
       "    let outputDiv = document.currentScript.previousElementSibling;\n",
       "    if (outputDiv.id !== \"altair-viz-698ede976d1945bcbf15acce8eb8b8d7\") {\n",
       "      outputDiv = document.getElementById(\"altair-viz-698ede976d1945bcbf15acce8eb8b8d7\");\n",
       "    }\n",
       "    const paths = {\n",
       "      \"vega\": \"https://cdn.jsdelivr.net/npm//vega@5?noext\",\n",
       "      \"vega-lib\": \"https://cdn.jsdelivr.net/npm//vega-lib?noext\",\n",
       "      \"vega-lite\": \"https://cdn.jsdelivr.net/npm//vega-lite@4.17.0?noext\",\n",
       "      \"vega-embed\": \"https://cdn.jsdelivr.net/npm//vega-embed@6?noext\",\n",
       "    };\n",
       "\n",
       "    function maybeLoadScript(lib, version) {\n",
       "      var key = `${lib.replace(\"-\", \"\")}_version`;\n",
       "      return (VEGA_DEBUG[key] == version) ?\n",
       "        Promise.resolve(paths[lib]) :\n",
       "        new Promise(function(resolve, reject) {\n",
       "          var s = document.createElement('script');\n",
       "          document.getElementsByTagName(\"head\")[0].appendChild(s);\n",
       "          s.async = true;\n",
       "          s.onload = () => {\n",
       "            VEGA_DEBUG[key] = version;\n",
       "            return resolve(paths[lib]);\n",
       "          };\n",
       "          s.onerror = () => reject(`Error loading script: ${paths[lib]}`);\n",
       "          s.src = paths[lib];\n",
       "        });\n",
       "    }\n",
       "\n",
       "    function showError(err) {\n",
       "      outputDiv.innerHTML = `<div class=\"error\" style=\"color:red;\">${err}</div>`;\n",
       "      throw err;\n",
       "    }\n",
       "\n",
       "    function displayChart(vegaEmbed) {\n",
       "      vegaEmbed(outputDiv, spec, embedOpt)\n",
       "        .catch(err => showError(`Javascript Error: ${err.message}<br>This usually means there's a typo in your chart specification. See the javascript console for the full traceback.`));\n",
       "    }\n",
       "\n",
       "    if(typeof define === \"function\" && define.amd) {\n",
       "      requirejs.config({paths});\n",
       "      require([\"vega-embed\"], displayChart, err => showError(`Error loading script: ${err.message}`));\n",
       "    } else {\n",
       "      maybeLoadScript(\"vega\", \"5\")\n",
       "        .then(() => maybeLoadScript(\"vega-lite\", \"4.17.0\"))\n",
       "        .then(() => maybeLoadScript(\"vega-embed\", \"6\"))\n",
       "        .catch(showError)\n",
       "        .then(() => displayChart(vegaEmbed));\n",
       "    }\n",
       "  })({\"config\": {\"view\": {\"continuousWidth\": 400, \"continuousHeight\": 300}}, \"data\": {\"name\": \"data-126dca9d9cb0be4974a0300d5e490f2f\"}, \"mark\": \"point\", \"encoding\": {\"color\": {\"field\": \"Author\", \"type\": \"nominal\"}, \"tooltip\": [{\"field\": \"artist\", \"type\": \"nominal\"}, {\"field\": \"track_name\", \"type\": \"nominal\"}], \"x\": {\"field\": \"track_name\", \"sort\": null, \"type\": \"nominal\"}, \"y\": {\"field\": \"speechiness\", \"type\": \"quantitative\"}}, \"width\": 1000, \"$schema\": \"https://vega.github.io/schema/vega-lite/v4.17.0.json\", \"datasets\": {\"data-126dca9d9cb0be4974a0300d5e490f2f\": [{\"artist\": \"Cam\\u00e9lia Jordana\", \"album\": \"Camelia Jordana\", \"track_name\": \"Moi c'est\", \"track_id\": \"0cgWTzGYVUWELohSykTxrb\", \"danceability\": 0.862, \"energy\": 0.409, \"key\": 6, \"loudness\": -10.255, \"mode\": 0, \"speechiness\": 0.0399, \"instrumentalness\": 0.0871, \"liveness\": 0.0927, \"valence\": 0.8, \"tempo\": 135.013, \"duration_ms\": 170893, \"time_signature\": 4, \"popularity\": 56.0, \"Author\": \"Author1\"}, {\"artist\": \"Audrey Hepburn\", \"album\": \"Moon River (Breakfast at Tiffany's) [Remastered]\", \"track_name\": \"Moon River (From Breakfast at Tiffany's) [Remastered]\", \"track_id\": \"1XwAKjAZ1xDZOcuyZoqce4\", \"danceability\": 0.381, \"energy\": 0.0251, \"key\": 10, \"loudness\": -19.128, \"mode\": 1, \"speechiness\": 0.0327, \"instrumentalness\": 0.00109, \"liveness\": 0.099, \"valence\": 0.173, \"tempo\": 85.968, \"duration_ms\": 123160, \"time_signature\": 3, \"popularity\": 56.0, \"Author\": \"Author1\"}, {\"artist\": \"Camera Obscura\", \"album\": \"Underachievers Please Try Harder\", \"track_name\": \"Suspended From Class\", \"track_id\": \"2YDmCSVs46QrhD2sqYGGqx\", \"danceability\": 0.582, \"energy\": 0.562, \"key\": 9, \"loudness\": -8.985, \"mode\": 1, \"speechiness\": 0.0258, \"instrumentalness\": 0.0126, \"liveness\": 0.0682, \"valence\": 0.707, \"tempo\": 131.629, \"duration_ms\": 226227, \"time_signature\": 4, \"popularity\": 32.0, \"Author\": \"Author1\"}, {\"artist\": \"Julie London\", \"album\": \"Julie Is Her Name\", \"track_name\": \"Cry Me A River\", \"track_id\": \"7f6AAixCrVar1ZY7RPHDfM\", \"danceability\": 0.496, \"energy\": 0.0688, \"key\": 4, \"loudness\": -14.927, \"mode\": 0, \"speechiness\": 0.0545, \"instrumentalness\": 0.00229, \"liveness\": 0.112, \"valence\": 0.161, \"tempo\": 119.898, \"duration_ms\": 178573, \"time_signature\": 4, \"popularity\": 59.0, \"Author\": \"Author1\"}, {\"artist\": \"The Smiths\", \"album\": \"Hatful of Hollow\", \"track_name\": \"Please, Please, Please, Let Me Get What I Want - 2011 Remaster\", \"track_id\": \"6BrMEbPSSj55nQhkgf6DnE\", \"danceability\": 0.241, \"energy\": 0.468, \"key\": 2, \"loudness\": -9.579, \"mode\": 1, \"speechiness\": 0.0272, \"instrumentalness\": 0.0, \"liveness\": 0.161, \"valence\": 0.451, \"tempo\": 91.581, \"duration_ms\": 112707, \"time_signature\": 3, \"popularity\": 69.0, \"Author\": \"Author1\"}, {\"artist\": \"H\\u00e9l\\u00e8ne Grimaud\", \"album\": \"Chopin / Rachmaninov: Piano Sonatas\", \"track_name\": \"Piano Sonata No. 2 in B Flat Minor, Op. 36: II. Non allegro - Lento\", \"track_id\": \"79O3P99BRXIOWuARKZXNnT\", \"danceability\": 0.255, \"energy\": 0.0496, \"key\": 4, \"loudness\": -24.645, \"mode\": 0, \"speechiness\": 0.0469, \"instrumentalness\": 0.869, \"liveness\": 0.0686, \"valence\": 0.0385, \"tempo\": 72.575, \"duration_ms\": 445800, \"time_signature\": 4, \"popularity\": 4.0, \"Author\": \"Author1\"}, {\"artist\": \"Fred Astaire\", \"album\": \"Funny Face (Original Motion Picture Soundtrack / Expanded Edition)\", \"track_name\": \"Basal Metabolism (Based On How Long Has This Been Going On)\", \"track_id\": \"3jV7xeKd7V5suD6w9qCT2m\", \"danceability\": 0.491, \"energy\": 0.445, \"key\": 4, \"loudness\": -10.695, \"mode\": 0, \"speechiness\": 0.074, \"instrumentalness\": 0.164, \"liveness\": 0.0694, \"valence\": 0.451, \"tempo\": 114.497, \"duration_ms\": 173960, \"time_signature\": 4, \"popularity\": 12.0, \"Author\": \"Author1\"}, {\"artist\": \"Phoebe Bridgers\", \"album\": \"Stranger in the Alps (Deluxe Edition)\", \"track_name\": \"Motion Sickness\", \"track_id\": \"25Syi9wnfn6ZGAmiOBypPq\", \"danceability\": 0.651, \"energy\": 0.546, \"key\": 1, \"loudness\": -9.021, \"mode\": 1, \"speechiness\": 0.0357, \"instrumentalness\": 0.0437, \"liveness\": 0.0842, \"valence\": 0.623, \"tempo\": 107.021, \"duration_ms\": 229760, \"time_signature\": 4, \"popularity\": 65.0, \"Author\": \"Author1\"}, {\"artist\": \"The Buttertones\", \"album\": \"Buttertones\", \"track_name\": \"Dionysus\", \"track_id\": \"7wYU1avLwl1Gtkib8OTrZp\", \"danceability\": 0.331, \"energy\": 0.61, \"key\": 9, \"loudness\": -8.138, \"mode\": 1, \"speechiness\": 0.0293, \"instrumentalness\": 0.0548, \"liveness\": 0.14, \"valence\": 0.55, \"tempo\": 132.746, \"duration_ms\": 209040, \"time_signature\": 4, \"popularity\": 52.0, \"Author\": \"Author1\"}, {\"artist\": \"Brandi Carlile\", \"album\": \"Bear Creek\", \"track_name\": \"Heart's Content\", \"track_id\": \"0pegFWSUOTiG0sLVEfxtvA\", \"danceability\": 0.564, \"energy\": 0.209, \"key\": 3, \"loudness\": -8.922, \"mode\": 1, \"speechiness\": 0.0317, \"instrumentalness\": 3.99e-05, \"liveness\": 0.107, \"valence\": 0.402, \"tempo\": 109.024, \"duration_ms\": 214667, \"time_signature\": 4, \"popularity\": 60.0, \"Author\": \"Author1\"}, {\"artist\": \"Various Artists\", \"album\": \"Shrek\", \"track_name\": \"Hallelujah\", \"track_id\": \"5USZyz6dnBEn1oLsKcAKQy\", \"danceability\": 0.344, \"energy\": 0.196, \"key\": 9, \"loudness\": -7.518, \"mode\": 0, \"speechiness\": 0.032, \"instrumentalness\": 0, \"liveness\": 0.104, \"valence\": 0.45, \"tempo\": 72.609, \"duration_ms\": 248800, \"time_signature\": 4, \"popularity\": 58.0, \"Author\": \"Author2\"}, {\"artist\": \"Tori Kelly\", \"album\": \"Hallelujah (From \\\"Sing\\\" Original Motion Picture Soundtrack)\", \"track_name\": \"Hallelujah\", \"track_id\": \"3wWinz94TSPWe6CgTaSK6x\", \"danceability\": 0.229, \"energy\": 0.239, \"key\": 1, \"loudness\": -9.146, \"mode\": 0, \"speechiness\": 0.0307, \"instrumentalness\": 0, \"liveness\": 0.117, \"valence\": 0.202, \"tempo\": 94.69, \"duration_ms\": 207987, \"time_signature\": 3, \"popularity\": 54.0, \"Author\": \"Author2\"}, {\"artist\": \"Pentatonix\", \"album\": \"A Pentatonix Christmas Deluxe\", \"track_name\": \"Hallelujah\", \"track_id\": \"0HZk0QsXPhMNAWNDR3rYE8\", \"danceability\": 0.364, \"energy\": 0.378, \"key\": 7, \"loudness\": -7.381, \"mode\": 0, \"speechiness\": 0.0331, \"instrumentalness\": 0, \"liveness\": 0.339, \"valence\": 0.366, \"tempo\": 89.918, \"duration_ms\": 268960, \"time_signature\": 3, \"popularity\": 61.0, \"Author\": \"Author2\"}, {\"artist\": \"Kate Voegele\", \"album\": \"Don't Look Away\", \"track_name\": \"Hallelujah\", \"track_id\": \"5OqW09kxGmc6b5xGFmln1b\", \"danceability\": 0.593, \"energy\": 0.217, \"key\": 2, \"loudness\": -7.474, \"mode\": 0, \"speechiness\": 0.0282, \"instrumentalness\": 0, \"liveness\": 0.117, \"valence\": 0.365, \"tempo\": 107.918, \"duration_ms\": 294200, \"time_signature\": 3, \"popularity\": 40.0, \"Author\": \"Author2\"}, {\"artist\": \"Jason Castro\", \"album\": \"Jason Castro (Deluxe)\", \"track_name\": \"Hallelujah\", \"track_id\": \"6hsP7b83RjEY51ENfo1ZOc\", \"danceability\": 0.343, \"energy\": 0.241, \"key\": 0, \"loudness\": -10.98, \"mode\": 1, \"speechiness\": 0.0367, \"instrumentalness\": 0, \"liveness\": 0.107, \"valence\": 0.169, \"tempo\": 184.232, \"duration_ms\": 233240, \"time_signature\": 3, \"popularity\": 37.0, \"Author\": \"Author2\"}, {\"artist\": \"Junkie XL\", \"album\": \"Zack Snyder's Justice League (Original Motion Picture Soundtrack)\", \"track_name\": \"Hallelujah\", \"track_id\": \"6y3zNyQbSnMN50uXN0r3X3\", \"danceability\": 0.355, \"energy\": 0.193, \"key\": 8, \"loudness\": -11.068, \"mode\": 1, \"speechiness\": 0.039, \"instrumentalness\": 3.33e-06, \"liveness\": 0.132, \"valence\": 0.0693, \"tempo\": 103.78, \"duration_ms\": 370787, \"time_signature\": 4, \"popularity\": 32.0, \"Author\": \"Author2\"}, {\"artist\": \"John Cale\", \"album\": \"Hallelujah\", \"track_name\": \"Hallelujah - Fragments [Single Version]\", \"track_id\": \"56GBItqD18Be9iN7zGqMX5\", \"danceability\": 0.35, \"energy\": 0.272, \"key\": 0, \"loudness\": -8.655, \"mode\": 1, \"speechiness\": 0.0271, \"instrumentalness\": 6.88e-06, \"liveness\": 0.984, \"valence\": 0.232, \"tempo\": 100.325, \"duration_ms\": 281919, \"time_signature\": 3, \"popularity\": 41.0, \"Author\": \"Author2\"}, {\"artist\": \"k.d. lang\", \"album\": \"Recollection\", \"track_name\": \"Hallelujah\", \"track_id\": \"5S0pF13mOsTnYweFwFy4D0\", \"danceability\": 0.339, \"energy\": 0.184, \"key\": 4, \"loudness\": -8.624, \"mode\": 1, \"speechiness\": 0.0289, \"instrumentalness\": 2.71e-06, \"liveness\": 0.109, \"valence\": 0.0989, \"tempo\": 76.053, \"duration_ms\": 308440, \"time_signature\": 4, \"popularity\": 52.0, \"Author\": \"Author2\"}, {\"artist\": \"Jordan Smith\", \"album\": \"The Complete Season 9 Collection (The Voice Performance)\", \"track_name\": \"Hallelujah - The Voice Performance\", \"track_id\": \"3LLYIitFpZSmXY95rQxw0E\", \"danceability\": 0.401, \"energy\": 0.373, \"key\": 2, \"loudness\": -6.947, \"mode\": 1, \"speechiness\": 0.0257, \"instrumentalness\": 0, \"liveness\": 0.117, \"valence\": 0.109, \"tempo\": 94.523, \"duration_ms\": 189093, \"time_signature\": 3, \"popularity\": 36.0, \"Author\": \"Author2\"}, {\"artist\": \"Alexandra Burke\", \"album\": \"Overcome\", \"track_name\": \"Hallelujah\", \"track_id\": \"5IaR621NoOM6i5KTcuNRHM\", \"danceability\": 0.177, \"energy\": 0.425, \"key\": 2, \"loudness\": -6.211, \"mode\": 0, \"speechiness\": 0.0291, \"instrumentalness\": 0, \"liveness\": 0.195, \"valence\": 0.0942, \"tempo\": 182.571, \"duration_ms\": 217827, \"time_signature\": 3, \"popularity\": 65.0, \"Author\": \"Author2\"}, {\"artist\": \"Leonard Cohen\", \"album\": \"Various Positions\", \"track_name\": \"Hallelujah\", \"track_id\": \"7yzbimr8WVyAtBX3Eg6UL9\", \"danceability\": 0.28, \"energy\": 0.344, \"key\": 0, \"loudness\": -12.577, \"mode\": 1, \"speechiness\": 0.0293, \"instrumentalness\": 0.00642, \"liveness\": 0.133, \"valence\": 0.232, \"tempo\": 171.143, \"duration_ms\": 277160, \"time_signature\": 3, \"popularity\": 64.0, \"Author\": \"Author2\"}, {\"artist\": \"Etta James\", \"album\": \"Tell Mama\", \"track_name\": \"I'd Rather Go Blind\", \"track_id\": \"1kPBT8S2wJFNAyBMnGVZgL\", \"danceability\": 0.477, \"energy\": 0.433, \"key\": 11, \"loudness\": -6.473, \"mode\": 0, \"speechiness\": 0.0247, \"instrumentalness\": 0.000195, \"liveness\": 0.151, \"valence\": 0.611, \"tempo\": 82.52, \"duration_ms\": 156653, \"time_signature\": 3, \"popularity\": 71.0, \"Author\": \"Author3\"}, {\"artist\": \"Leonard Cohen\", \"album\": \"Songs From A Room\", \"track_name\": \"Bird on the Wire\", \"track_id\": \"3M0QK0bYdiGMu6JNoPk8YG\", \"danceability\": 0.402, \"energy\": 0.114, \"key\": 9, \"loudness\": -15.691, \"mode\": 1, \"speechiness\": 0.0321, \"instrumentalness\": 0.0024, \"liveness\": 0.318, \"valence\": 0.191, \"tempo\": 128.332, \"duration_ms\": 206373, \"time_signature\": 3, \"popularity\": 50.0, \"Author\": \"Author3\"}, {\"artist\": \"Bill Withers\", \"album\": \"Just As I Am\", \"track_name\": \"Ain't No Sunshine\", \"track_id\": \"1k1Bqnv2R0uJXQN4u6LKYt\", \"danceability\": 0.527, \"energy\": 0.415, \"key\": 4, \"loudness\": -11.451, \"mode\": 0, \"speechiness\": 0.122, \"instrumentalness\": 1.72e-05, \"liveness\": 0.117, \"valence\": 0.515, \"tempo\": 78.169, \"duration_ms\": 125093, \"time_signature\": 4, \"popularity\": 79.0, \"Author\": \"Author3\"}, {\"artist\": \"Smokey Robinson & The Miracles\", \"album\": \"Going To A Go-Go\", \"track_name\": \"The Tracks Of My Tears\", \"track_id\": \"6QyQmdvQ1ywNccYa0pwLNQ\", \"danceability\": 0.502, \"energy\": 0.333, \"key\": 7, \"loudness\": -10.914, \"mode\": 1, \"speechiness\": 0.0264, \"instrumentalness\": 0.0, \"liveness\": 0.222, \"valence\": 0.729, \"tempo\": 96.982, \"duration_ms\": 174360, \"time_signature\": 4, \"popularity\": 63.0, \"Author\": \"Author3\"}, {\"artist\": \"B.B. King\", \"album\": \"Completely Well\", \"track_name\": \"The Thrill Is Gone\", \"track_id\": \"4NQfrmGs9iQXVQI9IpRhjM\", \"danceability\": 0.547, \"energy\": 0.46, \"key\": 11, \"loudness\": -8.759, \"mode\": 0, \"speechiness\": 0.0256, \"instrumentalness\": 0.442, \"liveness\": 0.0983, \"valence\": 0.543, \"tempo\": 90.768, \"duration_ms\": 324733, \"time_signature\": 4, \"popularity\": 63.0, \"Author\": \"Author3\"}, {\"artist\": \"The Who\", \"album\": \"Who's Next (Deluxe Edition)\", \"track_name\": \"Behind Blue Eyes\", \"track_id\": \"0cKk8BKEi7zXbdrYdyqBP5\", \"danceability\": 0.394, \"energy\": 0.622, \"key\": 4, \"loudness\": -8.258, \"mode\": 0, \"speechiness\": 0.0336, \"instrumentalness\": 4.45e-05, \"liveness\": 0.0892, \"valence\": 0.342, \"tempo\": 126.844, \"duration_ms\": 221427, \"time_signature\": 4, \"popularity\": 72.0, \"Author\": \"Author3\"}, {\"artist\": \"Jimmy Cliff\", \"album\": \"Wonderful World, Beautiful People\", \"track_name\": \"Many Rivers To Cross\", \"track_id\": \"1dZxI6OuzwJ283y3gOU1Kq\", \"danceability\": 0.399, \"energy\": 0.212, \"key\": 5, \"loudness\": -16.03, \"mode\": 1, \"speechiness\": 0.0747, \"instrumentalness\": 0.000434, \"liveness\": 0.116, \"valence\": 0.149, \"tempo\": 137.76, \"duration_ms\": 164067, \"time_signature\": 4, \"popularity\": 50.0, \"Author\": \"Author3\"}, {\"artist\": \"Ben E. King\", \"album\": \"Stand By Me\", \"track_name\": \"Stand By Me\", \"track_id\": \"2KQM3kDM0zMBC9iynePBbS\", \"danceability\": 0.653, \"energy\": 0.334, \"key\": 9, \"loudness\": -6.955, \"mode\": 1, \"speechiness\": 0.0313, \"instrumentalness\": 3.47e-05, \"liveness\": 0.123, \"valence\": 0.665, \"tempo\": 119.46, \"duration_ms\": 174253, \"time_signature\": 4, \"popularity\": 58.0, \"Author\": \"Author3\"}, {\"artist\": \"Wilson Pickett\", \"album\": \"Hey Jude\", \"track_name\": \"Hey Jude\", \"track_id\": \"1MMp1H2Kib2BCDtdL5nL63\", \"danceability\": 0.561, \"energy\": 0.385, \"key\": 6, \"loudness\": -15.33, \"mode\": 1, \"speechiness\": 0.0323, \"instrumentalness\": 0.000496, \"liveness\": 0.171, \"valence\": 0.664, \"tempo\": 81.599, \"duration_ms\": 247733, \"time_signature\": 4, \"popularity\": 54.0, \"Author\": \"Author3\"}, {\"artist\": \"The Rolling Stones\", \"album\": \"Let It Bleed\", \"track_name\": \"You Can't Always Get What You Want\", \"track_id\": \"6lFZbCc7pn6Lme1NP7qQqQ\", \"danceability\": 0.32, \"energy\": 0.62, \"key\": 0, \"loudness\": -9.686, \"mode\": 1, \"speechiness\": 0.0594, \"instrumentalness\": 6.36e-05, \"liveness\": 0.253, \"valence\": 0.472, \"tempo\": 86.327, \"duration_ms\": 448720, \"time_signature\": 4, \"popularity\": 69.0, \"Author\": \"Author3\"}]}}, {\"mode\": \"vega-lite\"});\n",
       "</script>"
      ],
      "text/plain": [
       "alt.Chart(...)"
      ]
     },
     "execution_count": 126,
     "metadata": {},
     "output_type": "execute_result"
    }
   ],
   "source": [
    "alt.Chart(combined).mark_point().encode(\n",
    "    x=alt.X(\"track_name\", sort=None),\n",
    "    y='speechiness',\n",
    "    color=\"Author\",\n",
    "    tooltip=[\"artist\", \"track_name\"]\n",
    ").properties(\n",
    "    width=1000\n",
    ")"
   ]
  },
  {
   "cell_type": "markdown",
   "metadata": {
    "id": "ymdIkfacbZBX"
   },
   "source": [
    "In the above cell, I plotted the speechiness of all the songs from the 3 playlists, and we can see that all songs have pretty low speechiness. "
   ]
  },
  {
   "cell_type": "markdown",
   "metadata": {
    "id": "QzPj6z3qakIC"
   },
   "source": [
    "#Ben's Section"
   ]
  },
  {
   "cell_type": "markdown",
   "metadata": {
    "id": "pzqlOlVOzQqr"
   },
   "source": [
    "Degrees of removal measurement:\n",
    "Given Artist X and Artist Y, how many generations of related artists to X does it take to find Y?\n",
    "\n",
    "This metric is inspired by the \"6 degrees of seperation\" theory:\n",
    "https://en.wikipedia.org/wiki/Six_degrees_of_separation\n",
    "\n",
    "\n",
    "The algorithm:\n",
    "\n",
    "Generate 5 related artists for both X and Y. Then generate 5 artists for each of these related artists and repeat this process, only adding artists that have not yet been added. Keep a running list of artists in the X tree and in the Y tree. If at any point an Artist Z is found in both lists, then calculate the shortest path between X and Y through Z. If 5 generations are run on each side before any Z is found, then return -1 (signifying no relation between X and Y)\n",
    "\n",
    "Notes:\n",
    "\n",
    "The space and runtime complexity can be very high, so we limit the number of generations to 5 each (2*(5^5) items to return in worst case). Spotify can only generate 20 related artists to a given artist, so the total data frame is not guaranteed to be that large (e.g. if all 20 of an artist's related artists are already in the data frame).\n",
    "\n"
   ]
  },
  {
   "cell_type": "code",
   "execution_count": null,
   "metadata": {
    "id": "fPLrinVdamJo"
   },
   "outputs": [],
   "source": [
    "# (BM)\n",
    "bobdylan = \"74ASZWbe4lXaubB36ztrGX\"\n",
    "arianagrande = \"66CXWjxzNUsdJxJ2JdwvnR\"\n",
    "beatles = \"3WrFJ7ztbogyGnTHbHJFl2\"\n",
    "lennon = \"4x1nvY2FN8jxqAFA0DA02H\"\n",
    "\n",
    "\n",
    "def get_five_related(artist,generation, currentTree):\n",
    "  related_artists = pd.DataFrame(sp.artist_related_artists(artist)[\"artists\"])\n",
    "  data = []\n",
    "  i = 0\n",
    "  while (len(data)<5 and i<20):\n",
    "    if related_artists[\"id\"][i] not in currentTree.values:   #### issue here\n",
    "      data.append([related_artists[\"id\"][i], generation+1,related_artists[\"name\"][i]])\n",
    "    i+=1\n",
    "  return pd.DataFrame(data, columns = [\"artists\", \"generation\",\"name\"])\n",
    "\n",
    "\n",
    "def degree_of_seperation(X,Y):\n",
    "\n",
    "  current_X_tree = pd.DataFrame([[X,0, sp.artist(X)[\"name\"]]], columns = [\"artists\", \"generation\",\"name\"])\n",
    "  current_Y_tree = pd.DataFrame([[Y,0, sp.artist(Y)[\"name\"]]], columns = [\"artists\", \"generation\",\"name\"])\n",
    "  \n",
    "  starting_X = 0\n",
    "  starting_Y = 0\n",
    "\n",
    "  for generation in range(5):\n",
    "\n",
    "    temp_X_tree = pd.DataFrame(columns = [\"artists\", \"generation\",\"name\"])\n",
    "\n",
    "    for index in range(starting_X,len(current_X_tree)):\n",
    "      new_X_tree = get_five_related(current_X_tree[\"artists\"].iloc[index],generation,current_X_tree)\n",
    "\n",
    "      for index in range(len(new_X_tree)):\n",
    "        check_artist = new_X_tree[\"artists\"].iloc[index]\n",
    "        # if there is a match\n",
    "        if check_artist in current_Y_tree[\"artists\"].values:  ##### issue here\n",
    "          # return the sum of the two generation counts\n",
    "          y_val = current_Y_tree[current_Y_tree[\"artists\"]==check_artist]\n",
    "          return new_X_tree[\"generation\"].iloc[index] + y_val[\"generation\"].iloc[0]\n",
    "      temp_X_tree = pd.concat([temp_X_tree, new_X_tree])\n",
    "    \n",
    "    # update starting index\n",
    "    starting_X = len(current_X_tree)\n",
    "    # update current_X_tree with temp_X_tree\n",
    "    current_X_tree = pd.concat([current_X_tree, temp_X_tree])\n",
    "\n",
    "    temp_Y_tree = pd.DataFrame(columns = [\"artists\", \"generation\",\"name\"])\n",
    "\n",
    "    for index in range(starting_Y,len(current_Y_tree)):\n",
    "      new_Y_tree = get_five_related(current_Y_tree[\"artists\"].iloc[index],generation,current_Y_tree)\n",
    "      \n",
    "      for index in range(len(new_Y_tree)):\n",
    "        check_artist = new_Y_tree[\"artists\"].iloc[index]\n",
    "        # if there is a match\n",
    "        if check_artist in current_X_tree[\"artists\"].values:    ###### issue here\n",
    "          # return the sum of the two generation counts\n",
    "          x_val = current_X_tree[current_X_tree[\"artists\"]==check_artist]\n",
    "          return new_Y_tree[\"generation\"].iloc[index] + x_val[\"generation\"].iloc[0]\n",
    "      temp_Y_tree = pd.concat([temp_Y_tree, new_Y_tree])\n",
    "      \n",
    "    # update starting index\n",
    "    starting_Y = len(current_Y_tree)\n",
    "    # update current_Y_tree with temp_Y_tree\n",
    "    current_Y_tree = pd.concat([current_Y_tree, temp_Y_tree])\n",
    "  \n",
    "  return -1"
   ]
  },
  {
   "cell_type": "code",
   "execution_count": null,
   "metadata": {
    "colab": {
     "base_uri": "https://localhost:8080/"
    },
    "id": "w29IEaYgz9pN",
    "outputId": "7455a652-557c-43cf-97de-4b918fcfe06a"
   },
   "outputs": [
    {
     "data": {
      "text/plain": [
       "1"
      ]
     },
     "execution_count": 29,
     "metadata": {},
     "output_type": "execute_result"
    }
   ],
   "source": [
    "# should return 1\n",
    "degree_of_seperation(beatles, lennon)"
   ]
  },
  {
   "cell_type": "code",
   "execution_count": null,
   "metadata": {
    "colab": {
     "base_uri": "https://localhost:8080/"
    },
    "id": "cu1_POhBz-pg",
    "outputId": "f728f8fd-e618-4c5b-8919-cdd93299bacc"
   },
   "outputs": [
    {
     "data": {
      "text/plain": [
       "4"
      ]
     },
     "execution_count": 7,
     "metadata": {},
     "output_type": "execute_result"
    }
   ],
   "source": [
    "# returned 4 when I ran this\n",
    "degree_of_seperation(beatles, bobdylan)\n"
   ]
  },
  {
   "cell_type": "code",
   "execution_count": null,
   "metadata": {
    "id": "Z01OnWEU4Wzp"
   },
   "outputs": [],
   "source": [
    "# took a while to run, but eventually returned 10 (coincidentally, this is the max degree of seperation this algorithm can find)\n",
    "degree_of_seperation(arianagrande, bobdylan)"
   ]
  },
  {
   "cell_type": "markdown",
   "metadata": {
    "id": "JLqexjo2zPS7"
   },
   "source": [
    "The cells above shows the potential for using this \"degree of separation\" metric for analyzing playlists and comparing artists. We may find that artists for an \"imagned persona\" playlist are more or less removed from one another than artists for a \"mood\" playlist. Artists in \"Genre A\" may have more variation in degree of removal than artists from \"Genre B.\"\n",
    "\n",
    "In the cell below, I will compare average degree of seperation between artists in three playlists: \n",
    "*   \"Songs to Punch Drywall To\"\n",
    "*   \"your 20s are for losing your mind\"\n",
    "*   \"Hallelujah Covers\"\n",
    "\n",
    "My hypothesis in this analyzation is that the average degree of seperation will be lower for the imagined persona playlist (your 20s are for losing your mind) than in the thematic playlist (Songs to Punch Drywall To). My logic here is that an imagined person is likely to listen to related artists, whereas an imagned mood might span across a wider range of artists. In addition, I am curious to see the average degree of seperation for the playlist of covers.\n",
    "\n",
    "\n"
   ]
  },
  {
   "cell_type": "code",
   "execution_count": null,
   "metadata": {
    "id": "VO53E4w94QqP"
   },
   "outputs": [],
   "source": [
    "user1 = \"4uxd1wpjsxqvlpni1ixj09ipn\"\n",
    "rage = \"0opioCiJiL23i467NPjq5O\"\n",
    "\n",
    "user2 = \"313pk3sai2bekdmtoefrbjmbv5ey\"\n",
    "twenties = \"6Er5rSv7eawUDyK2gzSa47\"\n",
    "\n",
    "user3 = \"316b7eir5onpduebous2uyrqwxue\"\n",
    "hallelujah = \"4sWTtloXKghMS1cz48f2qI\"\n",
    "\n",
    "def listofartists(playlist,username):\n",
    "    pl = pd.DataFrame(sp.user_playlist_tracks(username, playlist))\n",
    "    output = []\n",
    "    for track in pl[\"items\"]:\n",
    "        output.append(track[\"track\"][\"album\"][\"artists\"][0][\"id\"])\n",
    "    return output\n",
    "\n",
    "def average_dos(playlist,username):\n",
    "  data = []\n",
    "  for artist1 in listofartists(playlist,username):\n",
    "    for artist2 in listofartists(playlist,username):\n",
    "      if artist1 != artist2:\n",
    "        data.append(degree_of_seperation(artist1,artist2))\n",
    "  dataframe = pd.DataFrame(data, columns = [\"degree of seperation\"]) # this data frame could be useful for other types of analysis later on\n",
    "  if -1 in data:\n",
    "    return \"Error: could not find the degree of seperation for all artists\"  # unfortunately, I am not sure what to do in the case that no match is found\n",
    "  else:\n",
    "    return sum(data)/len(data)\n",
    "\n",
    "\n"
   ]
  },
  {
   "cell_type": "code",
   "execution_count": null,
   "metadata": {
    "colab": {
     "base_uri": "https://localhost:8080/",
     "height": 328
    },
    "id": "4yrdqzza9klT",
    "outputId": "45d8e288-88bc-45af-d9c4-b9a8deace181"
   },
   "outputs": [
    {
     "ename": "KeyboardInterrupt",
     "evalue": "ignored",
     "output_type": "error",
     "traceback": [
      "\u001b[0;31m---------------------------------------------------------------------------\u001b[0m",
      "\u001b[0;31mKeyboardInterrupt\u001b[0m                         Traceback (most recent call last)",
      "\u001b[0;32m<ipython-input-33-45fd584d9b00>\u001b[0m in \u001b[0;36m<module>\u001b[0;34m\u001b[0m\n\u001b[1;32m      1\u001b[0m \u001b[0;31m# would expect this to be relatively high\u001b[0m\u001b[0;34m\u001b[0m\u001b[0;34m\u001b[0m\u001b[0;34m\u001b[0m\u001b[0m\n\u001b[0;32m----> 2\u001b[0;31m \u001b[0maverage_dos\u001b[0m\u001b[0;34m(\u001b[0m\u001b[0mrage\u001b[0m\u001b[0;34m,\u001b[0m\u001b[0muser1\u001b[0m\u001b[0;34m)\u001b[0m\u001b[0;34m\u001b[0m\u001b[0;34m\u001b[0m\u001b[0m\n\u001b[0m",
      "\u001b[0;32m<ipython-input-30-7fd9f80f657a>\u001b[0m in \u001b[0;36maverage_dos\u001b[0;34m(playlist, username)\u001b[0m\n\u001b[1;32m     20\u001b[0m     \u001b[0;32mfor\u001b[0m \u001b[0martist2\u001b[0m \u001b[0;32min\u001b[0m \u001b[0mlistofartists\u001b[0m\u001b[0;34m(\u001b[0m\u001b[0mplaylist\u001b[0m\u001b[0;34m,\u001b[0m\u001b[0musername\u001b[0m\u001b[0;34m)\u001b[0m\u001b[0;34m:\u001b[0m\u001b[0;34m\u001b[0m\u001b[0;34m\u001b[0m\u001b[0m\n\u001b[1;32m     21\u001b[0m       \u001b[0;32mif\u001b[0m \u001b[0martist1\u001b[0m \u001b[0;34m!=\u001b[0m \u001b[0martist2\u001b[0m\u001b[0;34m:\u001b[0m\u001b[0;34m\u001b[0m\u001b[0;34m\u001b[0m\u001b[0m\n\u001b[0;32m---> 22\u001b[0;31m         \u001b[0mdata\u001b[0m\u001b[0;34m.\u001b[0m\u001b[0mappend\u001b[0m\u001b[0;34m(\u001b[0m\u001b[0mdegree_of_seperation\u001b[0m\u001b[0;34m(\u001b[0m\u001b[0martist1\u001b[0m\u001b[0;34m,\u001b[0m\u001b[0martist2\u001b[0m\u001b[0;34m)\u001b[0m\u001b[0;34m)\u001b[0m\u001b[0;34m\u001b[0m\u001b[0;34m\u001b[0m\u001b[0m\n\u001b[0m\u001b[1;32m     23\u001b[0m   \u001b[0mdataframe\u001b[0m \u001b[0;34m=\u001b[0m \u001b[0mpd\u001b[0m\u001b[0;34m.\u001b[0m\u001b[0mDataFrame\u001b[0m\u001b[0;34m(\u001b[0m\u001b[0mdata\u001b[0m\u001b[0;34m,\u001b[0m \u001b[0mcolumns\u001b[0m \u001b[0;34m=\u001b[0m \u001b[0;34m[\u001b[0m\u001b[0;34m\"degree of seperation\"\u001b[0m\u001b[0;34m]\u001b[0m\u001b[0;34m)\u001b[0m \u001b[0;31m# this data frame could be useful for other types of analysis later on\u001b[0m\u001b[0;34m\u001b[0m\u001b[0;34m\u001b[0m\u001b[0m\n\u001b[1;32m     24\u001b[0m   \u001b[0;32mif\u001b[0m \u001b[0;34m-\u001b[0m\u001b[0;36m1\u001b[0m \u001b[0;32min\u001b[0m \u001b[0mdata\u001b[0m\u001b[0;34m:\u001b[0m\u001b[0;34m\u001b[0m\u001b[0;34m\u001b[0m\u001b[0m\n",
      "\u001b[0;32m<ipython-input-5-2378bcdb1625>\u001b[0m in \u001b[0;36mdegree_of_seperation\u001b[0;34m(X, Y)\u001b[0m\n\u001b[1;32m     49\u001b[0m \u001b[0;34m\u001b[0m\u001b[0m\n\u001b[1;32m     50\u001b[0m     \u001b[0;32mfor\u001b[0m \u001b[0mindex\u001b[0m \u001b[0;32min\u001b[0m \u001b[0mrange\u001b[0m\u001b[0;34m(\u001b[0m\u001b[0mstarting_Y\u001b[0m\u001b[0;34m,\u001b[0m\u001b[0mlen\u001b[0m\u001b[0;34m(\u001b[0m\u001b[0mcurrent_Y_tree\u001b[0m\u001b[0;34m)\u001b[0m\u001b[0;34m)\u001b[0m\u001b[0;34m:\u001b[0m\u001b[0;34m\u001b[0m\u001b[0;34m\u001b[0m\u001b[0m\n\u001b[0;32m---> 51\u001b[0;31m       \u001b[0mnew_Y_tree\u001b[0m \u001b[0;34m=\u001b[0m \u001b[0mget_five_related\u001b[0m\u001b[0;34m(\u001b[0m\u001b[0mcurrent_Y_tree\u001b[0m\u001b[0;34m[\u001b[0m\u001b[0;34m\"artists\"\u001b[0m\u001b[0;34m]\u001b[0m\u001b[0;34m.\u001b[0m\u001b[0miloc\u001b[0m\u001b[0;34m[\u001b[0m\u001b[0mindex\u001b[0m\u001b[0;34m]\u001b[0m\u001b[0;34m,\u001b[0m\u001b[0mgeneration\u001b[0m\u001b[0;34m,\u001b[0m\u001b[0mcurrent_Y_tree\u001b[0m\u001b[0;34m)\u001b[0m\u001b[0;34m\u001b[0m\u001b[0;34m\u001b[0m\u001b[0m\n\u001b[0m\u001b[1;32m     52\u001b[0m \u001b[0;34m\u001b[0m\u001b[0m\n\u001b[1;32m     53\u001b[0m       \u001b[0;32mfor\u001b[0m \u001b[0mindex\u001b[0m \u001b[0;32min\u001b[0m \u001b[0mrange\u001b[0m\u001b[0;34m(\u001b[0m\u001b[0mlen\u001b[0m\u001b[0;34m(\u001b[0m\u001b[0mnew_Y_tree\u001b[0m\u001b[0;34m)\u001b[0m\u001b[0;34m)\u001b[0m\u001b[0;34m:\u001b[0m\u001b[0;34m\u001b[0m\u001b[0;34m\u001b[0m\u001b[0m\n",
      "\u001b[0;32m<ipython-input-5-2378bcdb1625>\u001b[0m in \u001b[0;36mget_five_related\u001b[0;34m(artist, generation, currentTree)\u001b[0m\n\u001b[1;32m      7\u001b[0m \u001b[0;34m\u001b[0m\u001b[0m\n\u001b[1;32m      8\u001b[0m \u001b[0;32mdef\u001b[0m \u001b[0mget_five_related\u001b[0m\u001b[0;34m(\u001b[0m\u001b[0martist\u001b[0m\u001b[0;34m,\u001b[0m\u001b[0mgeneration\u001b[0m\u001b[0;34m,\u001b[0m \u001b[0mcurrentTree\u001b[0m\u001b[0;34m)\u001b[0m\u001b[0;34m:\u001b[0m\u001b[0;34m\u001b[0m\u001b[0;34m\u001b[0m\u001b[0m\n\u001b[0;32m----> 9\u001b[0;31m   \u001b[0mrelated_artists\u001b[0m \u001b[0;34m=\u001b[0m \u001b[0mpd\u001b[0m\u001b[0;34m.\u001b[0m\u001b[0mDataFrame\u001b[0m\u001b[0;34m(\u001b[0m\u001b[0msp\u001b[0m\u001b[0;34m.\u001b[0m\u001b[0martist_related_artists\u001b[0m\u001b[0;34m(\u001b[0m\u001b[0martist\u001b[0m\u001b[0;34m)\u001b[0m\u001b[0;34m[\u001b[0m\u001b[0;34m\"artists\"\u001b[0m\u001b[0;34m]\u001b[0m\u001b[0;34m)\u001b[0m\u001b[0;34m\u001b[0m\u001b[0;34m\u001b[0m\u001b[0m\n\u001b[0m\u001b[1;32m     10\u001b[0m   \u001b[0mdata\u001b[0m \u001b[0;34m=\u001b[0m \u001b[0;34m[\u001b[0m\u001b[0;34m]\u001b[0m\u001b[0;34m\u001b[0m\u001b[0;34m\u001b[0m\u001b[0m\n\u001b[1;32m     11\u001b[0m   \u001b[0mi\u001b[0m \u001b[0;34m=\u001b[0m \u001b[0;36m0\u001b[0m\u001b[0;34m\u001b[0m\u001b[0;34m\u001b[0m\u001b[0m\n",
      "\u001b[0;32m/usr/local/lib/python3.7/dist-packages/spotipy/client.py\u001b[0m in \u001b[0;36martist_related_artists\u001b[0;34m(self, artist_id)\u001b[0m\n\u001b[1;32m    419\u001b[0m         \"\"\"\n\u001b[1;32m    420\u001b[0m         \u001b[0mtrid\u001b[0m \u001b[0;34m=\u001b[0m \u001b[0mself\u001b[0m\u001b[0;34m.\u001b[0m\u001b[0m_get_id\u001b[0m\u001b[0;34m(\u001b[0m\u001b[0;34m\"artist\"\u001b[0m\u001b[0;34m,\u001b[0m \u001b[0martist_id\u001b[0m\u001b[0;34m)\u001b[0m\u001b[0;34m\u001b[0m\u001b[0;34m\u001b[0m\u001b[0m\n\u001b[0;32m--> 421\u001b[0;31m         \u001b[0;32mreturn\u001b[0m \u001b[0mself\u001b[0m\u001b[0;34m.\u001b[0m\u001b[0m_get\u001b[0m\u001b[0;34m(\u001b[0m\u001b[0;34m\"artists/\"\u001b[0m \u001b[0;34m+\u001b[0m \u001b[0mtrid\u001b[0m \u001b[0;34m+\u001b[0m \u001b[0;34m\"/related-artists\"\u001b[0m\u001b[0;34m)\u001b[0m\u001b[0;34m\u001b[0m\u001b[0;34m\u001b[0m\u001b[0m\n\u001b[0m\u001b[1;32m    422\u001b[0m \u001b[0;34m\u001b[0m\u001b[0m\n\u001b[1;32m    423\u001b[0m     \u001b[0;32mdef\u001b[0m \u001b[0malbum\u001b[0m\u001b[0;34m(\u001b[0m\u001b[0mself\u001b[0m\u001b[0;34m,\u001b[0m \u001b[0malbum_id\u001b[0m\u001b[0;34m)\u001b[0m\u001b[0;34m:\u001b[0m\u001b[0;34m\u001b[0m\u001b[0;34m\u001b[0m\u001b[0m\n",
      "\u001b[0;32m/usr/local/lib/python3.7/dist-packages/spotipy/client.py\u001b[0m in \u001b[0;36m_get\u001b[0;34m(self, url, args, payload, **kwargs)\u001b[0m\n\u001b[1;32m    295\u001b[0m             \u001b[0mkwargs\u001b[0m\u001b[0;34m.\u001b[0m\u001b[0mupdate\u001b[0m\u001b[0;34m(\u001b[0m\u001b[0margs\u001b[0m\u001b[0;34m)\u001b[0m\u001b[0;34m\u001b[0m\u001b[0;34m\u001b[0m\u001b[0m\n\u001b[1;32m    296\u001b[0m \u001b[0;34m\u001b[0m\u001b[0m\n\u001b[0;32m--> 297\u001b[0;31m         \u001b[0;32mreturn\u001b[0m \u001b[0mself\u001b[0m\u001b[0;34m.\u001b[0m\u001b[0m_internal_call\u001b[0m\u001b[0;34m(\u001b[0m\u001b[0;34m\"GET\"\u001b[0m\u001b[0;34m,\u001b[0m \u001b[0murl\u001b[0m\u001b[0;34m,\u001b[0m \u001b[0mpayload\u001b[0m\u001b[0;34m,\u001b[0m \u001b[0mkwargs\u001b[0m\u001b[0;34m)\u001b[0m\u001b[0;34m\u001b[0m\u001b[0;34m\u001b[0m\u001b[0m\n\u001b[0m\u001b[1;32m    298\u001b[0m \u001b[0;34m\u001b[0m\u001b[0m\n\u001b[1;32m    299\u001b[0m     \u001b[0;32mdef\u001b[0m \u001b[0m_post\u001b[0m\u001b[0;34m(\u001b[0m\u001b[0mself\u001b[0m\u001b[0;34m,\u001b[0m \u001b[0murl\u001b[0m\u001b[0;34m,\u001b[0m \u001b[0margs\u001b[0m\u001b[0;34m=\u001b[0m\u001b[0;32mNone\u001b[0m\u001b[0;34m,\u001b[0m \u001b[0mpayload\u001b[0m\u001b[0;34m=\u001b[0m\u001b[0;32mNone\u001b[0m\u001b[0;34m,\u001b[0m \u001b[0;34m**\u001b[0m\u001b[0mkwargs\u001b[0m\u001b[0;34m)\u001b[0m\u001b[0;34m:\u001b[0m\u001b[0;34m\u001b[0m\u001b[0;34m\u001b[0m\u001b[0m\n",
      "\u001b[0;32m/usr/local/lib/python3.7/dist-packages/spotipy/client.py\u001b[0m in \u001b[0;36m_internal_call\u001b[0;34m(self, method, url, payload, params)\u001b[0m\n\u001b[1;32m    240\u001b[0m             response = self._session.request(\n\u001b[1;32m    241\u001b[0m                 \u001b[0mmethod\u001b[0m\u001b[0;34m,\u001b[0m \u001b[0murl\u001b[0m\u001b[0;34m,\u001b[0m \u001b[0mheaders\u001b[0m\u001b[0;34m=\u001b[0m\u001b[0mheaders\u001b[0m\u001b[0;34m,\u001b[0m \u001b[0mproxies\u001b[0m\u001b[0;34m=\u001b[0m\u001b[0mself\u001b[0m\u001b[0;34m.\u001b[0m\u001b[0mproxies\u001b[0m\u001b[0;34m,\u001b[0m\u001b[0;34m\u001b[0m\u001b[0;34m\u001b[0m\u001b[0m\n\u001b[0;32m--> 242\u001b[0;31m                 \u001b[0mtimeout\u001b[0m\u001b[0;34m=\u001b[0m\u001b[0mself\u001b[0m\u001b[0;34m.\u001b[0m\u001b[0mrequests_timeout\u001b[0m\u001b[0;34m,\u001b[0m \u001b[0;34m**\u001b[0m\u001b[0margs\u001b[0m\u001b[0;34m\u001b[0m\u001b[0;34m\u001b[0m\u001b[0m\n\u001b[0m\u001b[1;32m    243\u001b[0m             )\n\u001b[1;32m    244\u001b[0m \u001b[0;34m\u001b[0m\u001b[0m\n",
      "\u001b[0;32m/usr/local/lib/python3.7/dist-packages/requests/sessions.py\u001b[0m in \u001b[0;36mrequest\u001b[0;34m(self, method, url, params, data, headers, cookies, files, auth, timeout, allow_redirects, proxies, hooks, stream, verify, cert, json)\u001b[0m\n\u001b[1;32m    585\u001b[0m         }\n\u001b[1;32m    586\u001b[0m         \u001b[0msend_kwargs\u001b[0m\u001b[0;34m.\u001b[0m\u001b[0mupdate\u001b[0m\u001b[0;34m(\u001b[0m\u001b[0msettings\u001b[0m\u001b[0;34m)\u001b[0m\u001b[0;34m\u001b[0m\u001b[0;34m\u001b[0m\u001b[0m\n\u001b[0;32m--> 587\u001b[0;31m         \u001b[0mresp\u001b[0m \u001b[0;34m=\u001b[0m \u001b[0mself\u001b[0m\u001b[0;34m.\u001b[0m\u001b[0msend\u001b[0m\u001b[0;34m(\u001b[0m\u001b[0mprep\u001b[0m\u001b[0;34m,\u001b[0m \u001b[0;34m**\u001b[0m\u001b[0msend_kwargs\u001b[0m\u001b[0;34m)\u001b[0m\u001b[0;34m\u001b[0m\u001b[0;34m\u001b[0m\u001b[0m\n\u001b[0m\u001b[1;32m    588\u001b[0m \u001b[0;34m\u001b[0m\u001b[0m\n\u001b[1;32m    589\u001b[0m         \u001b[0;32mreturn\u001b[0m \u001b[0mresp\u001b[0m\u001b[0;34m\u001b[0m\u001b[0;34m\u001b[0m\u001b[0m\n",
      "\u001b[0;32m/usr/local/lib/python3.7/dist-packages/requests/sessions.py\u001b[0m in \u001b[0;36msend\u001b[0;34m(self, request, **kwargs)\u001b[0m\n\u001b[1;32m    699\u001b[0m \u001b[0;34m\u001b[0m\u001b[0m\n\u001b[1;32m    700\u001b[0m         \u001b[0;31m# Send the request\u001b[0m\u001b[0;34m\u001b[0m\u001b[0;34m\u001b[0m\u001b[0;34m\u001b[0m\u001b[0m\n\u001b[0;32m--> 701\u001b[0;31m         \u001b[0mr\u001b[0m \u001b[0;34m=\u001b[0m \u001b[0madapter\u001b[0m\u001b[0;34m.\u001b[0m\u001b[0msend\u001b[0m\u001b[0;34m(\u001b[0m\u001b[0mrequest\u001b[0m\u001b[0;34m,\u001b[0m \u001b[0;34m**\u001b[0m\u001b[0mkwargs\u001b[0m\u001b[0;34m)\u001b[0m\u001b[0;34m\u001b[0m\u001b[0;34m\u001b[0m\u001b[0m\n\u001b[0m\u001b[1;32m    702\u001b[0m \u001b[0;34m\u001b[0m\u001b[0m\n\u001b[1;32m    703\u001b[0m         \u001b[0;31m# Total elapsed time of the request (approximately)\u001b[0m\u001b[0;34m\u001b[0m\u001b[0;34m\u001b[0m\u001b[0;34m\u001b[0m\u001b[0m\n",
      "\u001b[0;32m/usr/local/lib/python3.7/dist-packages/requests/adapters.py\u001b[0m in \u001b[0;36msend\u001b[0;34m(self, request, stream, timeout, verify, cert, proxies)\u001b[0m\n\u001b[1;32m    497\u001b[0m                     \u001b[0mdecode_content\u001b[0m\u001b[0;34m=\u001b[0m\u001b[0;32mFalse\u001b[0m\u001b[0;34m,\u001b[0m\u001b[0;34m\u001b[0m\u001b[0;34m\u001b[0m\u001b[0m\n\u001b[1;32m    498\u001b[0m                     \u001b[0mretries\u001b[0m\u001b[0;34m=\u001b[0m\u001b[0mself\u001b[0m\u001b[0;34m.\u001b[0m\u001b[0mmax_retries\u001b[0m\u001b[0;34m,\u001b[0m\u001b[0;34m\u001b[0m\u001b[0;34m\u001b[0m\u001b[0m\n\u001b[0;32m--> 499\u001b[0;31m                     \u001b[0mtimeout\u001b[0m\u001b[0;34m=\u001b[0m\u001b[0mtimeout\u001b[0m\u001b[0;34m,\u001b[0m\u001b[0;34m\u001b[0m\u001b[0;34m\u001b[0m\u001b[0m\n\u001b[0m\u001b[1;32m    500\u001b[0m                 )\n\u001b[1;32m    501\u001b[0m \u001b[0;34m\u001b[0m\u001b[0m\n",
      "\u001b[0;32m/usr/local/lib/python3.7/dist-packages/urllib3/connectionpool.py\u001b[0m in \u001b[0;36murlopen\u001b[0;34m(self, method, url, body, headers, retries, redirect, assert_same_host, timeout, pool_timeout, release_conn, chunked, body_pos, **response_kw)\u001b[0m\n\u001b[1;32m    874\u001b[0m \u001b[0;34m\u001b[0m\u001b[0m\n\u001b[1;32m    875\u001b[0m             \u001b[0mresponse\u001b[0m\u001b[0;34m.\u001b[0m\u001b[0mdrain_conn\u001b[0m\u001b[0;34m(\u001b[0m\u001b[0;34m)\u001b[0m\u001b[0;34m\u001b[0m\u001b[0;34m\u001b[0m\u001b[0m\n\u001b[0;32m--> 876\u001b[0;31m             \u001b[0mretries\u001b[0m\u001b[0;34m.\u001b[0m\u001b[0msleep\u001b[0m\u001b[0;34m(\u001b[0m\u001b[0mresponse\u001b[0m\u001b[0;34m)\u001b[0m\u001b[0;34m\u001b[0m\u001b[0;34m\u001b[0m\u001b[0m\n\u001b[0m\u001b[1;32m    877\u001b[0m             \u001b[0mlog\u001b[0m\u001b[0;34m.\u001b[0m\u001b[0mdebug\u001b[0m\u001b[0;34m(\u001b[0m\u001b[0;34m\"Retry: %s\"\u001b[0m\u001b[0;34m,\u001b[0m \u001b[0murl\u001b[0m\u001b[0;34m)\u001b[0m\u001b[0;34m\u001b[0m\u001b[0;34m\u001b[0m\u001b[0m\n\u001b[1;32m    878\u001b[0m             return self.urlopen(\n",
      "\u001b[0;32m/usr/local/lib/python3.7/dist-packages/urllib3/util/retry.py\u001b[0m in \u001b[0;36msleep\u001b[0;34m(self, response)\u001b[0m\n\u001b[1;32m    426\u001b[0m \u001b[0;34m\u001b[0m\u001b[0m\n\u001b[1;32m    427\u001b[0m         \u001b[0;32mif\u001b[0m \u001b[0mself\u001b[0m\u001b[0;34m.\u001b[0m\u001b[0mrespect_retry_after_header\u001b[0m \u001b[0;32mand\u001b[0m \u001b[0mresponse\u001b[0m\u001b[0;34m:\u001b[0m\u001b[0;34m\u001b[0m\u001b[0;34m\u001b[0m\u001b[0m\n\u001b[0;32m--> 428\u001b[0;31m             \u001b[0mslept\u001b[0m \u001b[0;34m=\u001b[0m \u001b[0mself\u001b[0m\u001b[0;34m.\u001b[0m\u001b[0msleep_for_retry\u001b[0m\u001b[0;34m(\u001b[0m\u001b[0mresponse\u001b[0m\u001b[0;34m)\u001b[0m\u001b[0;34m\u001b[0m\u001b[0;34m\u001b[0m\u001b[0m\n\u001b[0m\u001b[1;32m    429\u001b[0m             \u001b[0;32mif\u001b[0m \u001b[0mslept\u001b[0m\u001b[0;34m:\u001b[0m\u001b[0;34m\u001b[0m\u001b[0;34m\u001b[0m\u001b[0m\n\u001b[1;32m    430\u001b[0m                 \u001b[0;32mreturn\u001b[0m\u001b[0;34m\u001b[0m\u001b[0;34m\u001b[0m\u001b[0m\n",
      "\u001b[0;32m/usr/local/lib/python3.7/dist-packages/urllib3/util/retry.py\u001b[0m in \u001b[0;36msleep_for_retry\u001b[0;34m(self, response)\u001b[0m\n\u001b[1;32m    405\u001b[0m         \u001b[0mretry_after\u001b[0m \u001b[0;34m=\u001b[0m \u001b[0mself\u001b[0m\u001b[0;34m.\u001b[0m\u001b[0mget_retry_after\u001b[0m\u001b[0;34m(\u001b[0m\u001b[0mresponse\u001b[0m\u001b[0;34m)\u001b[0m\u001b[0;34m\u001b[0m\u001b[0;34m\u001b[0m\u001b[0m\n\u001b[1;32m    406\u001b[0m         \u001b[0;32mif\u001b[0m \u001b[0mretry_after\u001b[0m\u001b[0;34m:\u001b[0m\u001b[0;34m\u001b[0m\u001b[0;34m\u001b[0m\u001b[0m\n\u001b[0;32m--> 407\u001b[0;31m             \u001b[0mtime\u001b[0m\u001b[0;34m.\u001b[0m\u001b[0msleep\u001b[0m\u001b[0;34m(\u001b[0m\u001b[0mretry_after\u001b[0m\u001b[0;34m)\u001b[0m\u001b[0;34m\u001b[0m\u001b[0;34m\u001b[0m\u001b[0m\n\u001b[0m\u001b[1;32m    408\u001b[0m             \u001b[0;32mreturn\u001b[0m \u001b[0;32mTrue\u001b[0m\u001b[0;34m\u001b[0m\u001b[0;34m\u001b[0m\u001b[0m\n\u001b[1;32m    409\u001b[0m \u001b[0;34m\u001b[0m\u001b[0m\n",
      "\u001b[0;31mKeyboardInterrupt\u001b[0m: "
     ]
    }
   ],
   "source": [
    "# would expect this to be relatively high\n",
    "average_dos(rage,user1)"
   ]
  },
  {
   "cell_type": "code",
   "execution_count": null,
   "metadata": {
    "id": "1VxYhIcB9pcb"
   },
   "outputs": [],
   "source": [
    "# would expect this to be relatively low\n",
    "average_dos(twenties,user2)"
   ]
  },
  {
   "cell_type": "code",
   "execution_count": null,
   "metadata": {
    "colab": {
     "base_uri": "https://localhost:8080/",
     "height": 536
    },
    "id": "OIQbzTU-5-5k",
    "outputId": "093eba75-788e-42c6-983f-b61f49dff695"
   },
   "outputs": [
    {
     "ename": "ConnectionError",
     "evalue": "ignored",
     "output_type": "error",
     "traceback": [
      "\u001b[0;31m---------------------------------------------------------------------------\u001b[0m",
      "\u001b[0;31mConnectionResetError\u001b[0m                      Traceback (most recent call last)",
      "\u001b[0;32m/usr/local/lib/python3.7/dist-packages/urllib3/connectionpool.py\u001b[0m in \u001b[0;36murlopen\u001b[0;34m(self, method, url, body, headers, retries, redirect, assert_same_host, timeout, pool_timeout, release_conn, chunked, body_pos, **response_kw)\u001b[0m\n\u001b[1;32m    709\u001b[0m                 \u001b[0mheaders\u001b[0m\u001b[0;34m=\u001b[0m\u001b[0mheaders\u001b[0m\u001b[0;34m,\u001b[0m\u001b[0;34m\u001b[0m\u001b[0;34m\u001b[0m\u001b[0m\n\u001b[0;32m--> 710\u001b[0;31m                 \u001b[0mchunked\u001b[0m\u001b[0;34m=\u001b[0m\u001b[0mchunked\u001b[0m\u001b[0;34m,\u001b[0m\u001b[0;34m\u001b[0m\u001b[0;34m\u001b[0m\u001b[0m\n\u001b[0m\u001b[1;32m    711\u001b[0m             )\n",
      "\u001b[0;32m/usr/local/lib/python3.7/dist-packages/urllib3/connectionpool.py\u001b[0m in \u001b[0;36m_make_request\u001b[0;34m(self, conn, method, url, timeout, chunked, **httplib_request_kw)\u001b[0m\n\u001b[1;32m    448\u001b[0m                     \u001b[0;31m# Otherwise it looks like a bug in the code.\u001b[0m\u001b[0;34m\u001b[0m\u001b[0;34m\u001b[0m\u001b[0;34m\u001b[0m\u001b[0m\n\u001b[0;32m--> 449\u001b[0;31m                     \u001b[0msix\u001b[0m\u001b[0;34m.\u001b[0m\u001b[0mraise_from\u001b[0m\u001b[0;34m(\u001b[0m\u001b[0me\u001b[0m\u001b[0;34m,\u001b[0m \u001b[0;32mNone\u001b[0m\u001b[0;34m)\u001b[0m\u001b[0;34m\u001b[0m\u001b[0;34m\u001b[0m\u001b[0m\n\u001b[0m\u001b[1;32m    450\u001b[0m         \u001b[0;32mexcept\u001b[0m \u001b[0;34m(\u001b[0m\u001b[0mSocketTimeout\u001b[0m\u001b[0;34m,\u001b[0m \u001b[0mBaseSSLError\u001b[0m\u001b[0;34m,\u001b[0m \u001b[0mSocketError\u001b[0m\u001b[0;34m)\u001b[0m \u001b[0;32mas\u001b[0m \u001b[0me\u001b[0m\u001b[0;34m:\u001b[0m\u001b[0;34m\u001b[0m\u001b[0;34m\u001b[0m\u001b[0m\n",
      "\u001b[0;32m/usr/local/lib/python3.7/dist-packages/urllib3/packages/six.py\u001b[0m in \u001b[0;36mraise_from\u001b[0;34m(value, from_value)\u001b[0m\n",
      "\u001b[0;32m/usr/local/lib/python3.7/dist-packages/urllib3/connectionpool.py\u001b[0m in \u001b[0;36m_make_request\u001b[0;34m(self, conn, method, url, timeout, chunked, **httplib_request_kw)\u001b[0m\n\u001b[1;32m    443\u001b[0m                 \u001b[0;32mtry\u001b[0m\u001b[0;34m:\u001b[0m\u001b[0;34m\u001b[0m\u001b[0;34m\u001b[0m\u001b[0m\n\u001b[0;32m--> 444\u001b[0;31m                     \u001b[0mhttplib_response\u001b[0m \u001b[0;34m=\u001b[0m \u001b[0mconn\u001b[0m\u001b[0;34m.\u001b[0m\u001b[0mgetresponse\u001b[0m\u001b[0;34m(\u001b[0m\u001b[0;34m)\u001b[0m\u001b[0;34m\u001b[0m\u001b[0;34m\u001b[0m\u001b[0m\n\u001b[0m\u001b[1;32m    445\u001b[0m                 \u001b[0;32mexcept\u001b[0m \u001b[0mBaseException\u001b[0m \u001b[0;32mas\u001b[0m \u001b[0me\u001b[0m\u001b[0;34m:\u001b[0m\u001b[0;34m\u001b[0m\u001b[0;34m\u001b[0m\u001b[0m\n",
      "\u001b[0;32m/usr/lib/python3.7/http/client.py\u001b[0m in \u001b[0;36mgetresponse\u001b[0;34m(self)\u001b[0m\n\u001b[1;32m   1372\u001b[0m             \u001b[0;32mtry\u001b[0m\u001b[0;34m:\u001b[0m\u001b[0;34m\u001b[0m\u001b[0;34m\u001b[0m\u001b[0m\n\u001b[0;32m-> 1373\u001b[0;31m                 \u001b[0mresponse\u001b[0m\u001b[0;34m.\u001b[0m\u001b[0mbegin\u001b[0m\u001b[0;34m(\u001b[0m\u001b[0;34m)\u001b[0m\u001b[0;34m\u001b[0m\u001b[0;34m\u001b[0m\u001b[0m\n\u001b[0m\u001b[1;32m   1374\u001b[0m             \u001b[0;32mexcept\u001b[0m \u001b[0mConnectionError\u001b[0m\u001b[0;34m:\u001b[0m\u001b[0;34m\u001b[0m\u001b[0;34m\u001b[0m\u001b[0m\n",
      "\u001b[0;32m/usr/lib/python3.7/http/client.py\u001b[0m in \u001b[0;36mbegin\u001b[0;34m(self)\u001b[0m\n\u001b[1;32m    318\u001b[0m         \u001b[0;32mwhile\u001b[0m \u001b[0;32mTrue\u001b[0m\u001b[0;34m:\u001b[0m\u001b[0;34m\u001b[0m\u001b[0;34m\u001b[0m\u001b[0m\n\u001b[0;32m--> 319\u001b[0;31m             \u001b[0mversion\u001b[0m\u001b[0;34m,\u001b[0m \u001b[0mstatus\u001b[0m\u001b[0;34m,\u001b[0m \u001b[0mreason\u001b[0m \u001b[0;34m=\u001b[0m \u001b[0mself\u001b[0m\u001b[0;34m.\u001b[0m\u001b[0m_read_status\u001b[0m\u001b[0;34m(\u001b[0m\u001b[0;34m)\u001b[0m\u001b[0;34m\u001b[0m\u001b[0;34m\u001b[0m\u001b[0m\n\u001b[0m\u001b[1;32m    320\u001b[0m             \u001b[0;32mif\u001b[0m \u001b[0mstatus\u001b[0m \u001b[0;34m!=\u001b[0m \u001b[0mCONTINUE\u001b[0m\u001b[0;34m:\u001b[0m\u001b[0;34m\u001b[0m\u001b[0;34m\u001b[0m\u001b[0m\n",
      "\u001b[0;32m/usr/lib/python3.7/http/client.py\u001b[0m in \u001b[0;36m_read_status\u001b[0;34m(self)\u001b[0m\n\u001b[1;32m    279\u001b[0m     \u001b[0;32mdef\u001b[0m \u001b[0m_read_status\u001b[0m\u001b[0;34m(\u001b[0m\u001b[0mself\u001b[0m\u001b[0;34m)\u001b[0m\u001b[0;34m:\u001b[0m\u001b[0;34m\u001b[0m\u001b[0;34m\u001b[0m\u001b[0m\n\u001b[0;32m--> 280\u001b[0;31m         \u001b[0mline\u001b[0m \u001b[0;34m=\u001b[0m \u001b[0mstr\u001b[0m\u001b[0;34m(\u001b[0m\u001b[0mself\u001b[0m\u001b[0;34m.\u001b[0m\u001b[0mfp\u001b[0m\u001b[0;34m.\u001b[0m\u001b[0mreadline\u001b[0m\u001b[0;34m(\u001b[0m\u001b[0m_MAXLINE\u001b[0m \u001b[0;34m+\u001b[0m \u001b[0;36m1\u001b[0m\u001b[0;34m)\u001b[0m\u001b[0;34m,\u001b[0m \u001b[0;34m\"iso-8859-1\"\u001b[0m\u001b[0;34m)\u001b[0m\u001b[0;34m\u001b[0m\u001b[0;34m\u001b[0m\u001b[0m\n\u001b[0m\u001b[1;32m    281\u001b[0m         \u001b[0;32mif\u001b[0m \u001b[0mlen\u001b[0m\u001b[0;34m(\u001b[0m\u001b[0mline\u001b[0m\u001b[0;34m)\u001b[0m \u001b[0;34m>\u001b[0m \u001b[0m_MAXLINE\u001b[0m\u001b[0;34m:\u001b[0m\u001b[0;34m\u001b[0m\u001b[0;34m\u001b[0m\u001b[0m\n",
      "\u001b[0;32m/usr/lib/python3.7/socket.py\u001b[0m in \u001b[0;36mreadinto\u001b[0;34m(self, b)\u001b[0m\n\u001b[1;32m    588\u001b[0m             \u001b[0;32mtry\u001b[0m\u001b[0;34m:\u001b[0m\u001b[0;34m\u001b[0m\u001b[0;34m\u001b[0m\u001b[0m\n\u001b[0;32m--> 589\u001b[0;31m                 \u001b[0;32mreturn\u001b[0m \u001b[0mself\u001b[0m\u001b[0;34m.\u001b[0m\u001b[0m_sock\u001b[0m\u001b[0;34m.\u001b[0m\u001b[0mrecv_into\u001b[0m\u001b[0;34m(\u001b[0m\u001b[0mb\u001b[0m\u001b[0;34m)\u001b[0m\u001b[0;34m\u001b[0m\u001b[0;34m\u001b[0m\u001b[0m\n\u001b[0m\u001b[1;32m    590\u001b[0m             \u001b[0;32mexcept\u001b[0m \u001b[0mtimeout\u001b[0m\u001b[0;34m:\u001b[0m\u001b[0;34m\u001b[0m\u001b[0;34m\u001b[0m\u001b[0m\n",
      "\u001b[0;32m/usr/lib/python3.7/ssl.py\u001b[0m in \u001b[0;36mrecv_into\u001b[0;34m(self, buffer, nbytes, flags)\u001b[0m\n\u001b[1;32m   1070\u001b[0m                   self.__class__)\n\u001b[0;32m-> 1071\u001b[0;31m             \u001b[0;32mreturn\u001b[0m \u001b[0mself\u001b[0m\u001b[0;34m.\u001b[0m\u001b[0mread\u001b[0m\u001b[0;34m(\u001b[0m\u001b[0mnbytes\u001b[0m\u001b[0;34m,\u001b[0m \u001b[0mbuffer\u001b[0m\u001b[0;34m)\u001b[0m\u001b[0;34m\u001b[0m\u001b[0;34m\u001b[0m\u001b[0m\n\u001b[0m\u001b[1;32m   1072\u001b[0m         \u001b[0;32melse\u001b[0m\u001b[0;34m:\u001b[0m\u001b[0;34m\u001b[0m\u001b[0;34m\u001b[0m\u001b[0m\n",
      "\u001b[0;32m/usr/lib/python3.7/ssl.py\u001b[0m in \u001b[0;36mread\u001b[0;34m(self, len, buffer)\u001b[0m\n\u001b[1;32m    928\u001b[0m             \u001b[0;32mif\u001b[0m \u001b[0mbuffer\u001b[0m \u001b[0;32mis\u001b[0m \u001b[0;32mnot\u001b[0m \u001b[0;32mNone\u001b[0m\u001b[0;34m:\u001b[0m\u001b[0;34m\u001b[0m\u001b[0;34m\u001b[0m\u001b[0m\n\u001b[0;32m--> 929\u001b[0;31m                 \u001b[0;32mreturn\u001b[0m \u001b[0mself\u001b[0m\u001b[0;34m.\u001b[0m\u001b[0m_sslobj\u001b[0m\u001b[0;34m.\u001b[0m\u001b[0mread\u001b[0m\u001b[0;34m(\u001b[0m\u001b[0mlen\u001b[0m\u001b[0;34m,\u001b[0m \u001b[0mbuffer\u001b[0m\u001b[0;34m)\u001b[0m\u001b[0;34m\u001b[0m\u001b[0;34m\u001b[0m\u001b[0m\n\u001b[0m\u001b[1;32m    930\u001b[0m             \u001b[0;32melse\u001b[0m\u001b[0;34m:\u001b[0m\u001b[0;34m\u001b[0m\u001b[0;34m\u001b[0m\u001b[0m\n",
      "\u001b[0;31mConnectionResetError\u001b[0m: [Errno 104] Connection reset by peer",
      "\nDuring handling of the above exception, another exception occurred:\n",
      "\u001b[0;31mProtocolError\u001b[0m                             Traceback (most recent call last)",
      "\u001b[0;32m/usr/local/lib/python3.7/dist-packages/requests/adapters.py\u001b[0m in \u001b[0;36msend\u001b[0;34m(self, request, stream, timeout, verify, cert, proxies)\u001b[0m\n\u001b[1;32m    498\u001b[0m                     \u001b[0mretries\u001b[0m\u001b[0;34m=\u001b[0m\u001b[0mself\u001b[0m\u001b[0;34m.\u001b[0m\u001b[0mmax_retries\u001b[0m\u001b[0;34m,\u001b[0m\u001b[0;34m\u001b[0m\u001b[0;34m\u001b[0m\u001b[0m\n\u001b[0;32m--> 499\u001b[0;31m                     \u001b[0mtimeout\u001b[0m\u001b[0;34m=\u001b[0m\u001b[0mtimeout\u001b[0m\u001b[0;34m,\u001b[0m\u001b[0;34m\u001b[0m\u001b[0;34m\u001b[0m\u001b[0m\n\u001b[0m\u001b[1;32m    500\u001b[0m                 )\n",
      "\u001b[0;32m/usr/local/lib/python3.7/dist-packages/urllib3/connectionpool.py\u001b[0m in \u001b[0;36murlopen\u001b[0;34m(self, method, url, body, headers, retries, redirect, assert_same_host, timeout, pool_timeout, release_conn, chunked, body_pos, **response_kw)\u001b[0m\n\u001b[1;32m    787\u001b[0m             retries = retries.increment(\n\u001b[0;32m--> 788\u001b[0;31m                 \u001b[0mmethod\u001b[0m\u001b[0;34m,\u001b[0m \u001b[0murl\u001b[0m\u001b[0;34m,\u001b[0m \u001b[0merror\u001b[0m\u001b[0;34m=\u001b[0m\u001b[0me\u001b[0m\u001b[0;34m,\u001b[0m \u001b[0m_pool\u001b[0m\u001b[0;34m=\u001b[0m\u001b[0mself\u001b[0m\u001b[0;34m,\u001b[0m \u001b[0m_stacktrace\u001b[0m\u001b[0;34m=\u001b[0m\u001b[0msys\u001b[0m\u001b[0;34m.\u001b[0m\u001b[0mexc_info\u001b[0m\u001b[0;34m(\u001b[0m\u001b[0;34m)\u001b[0m\u001b[0;34m[\u001b[0m\u001b[0;36m2\u001b[0m\u001b[0;34m]\u001b[0m\u001b[0;34m\u001b[0m\u001b[0;34m\u001b[0m\u001b[0m\n\u001b[0m\u001b[1;32m    789\u001b[0m             )\n",
      "\u001b[0;32m/usr/local/lib/python3.7/dist-packages/urllib3/util/retry.py\u001b[0m in \u001b[0;36mincrement\u001b[0;34m(self, method, url, response, error, _pool, _stacktrace)\u001b[0m\n\u001b[1;32m    549\u001b[0m             \u001b[0;32mif\u001b[0m \u001b[0mread\u001b[0m \u001b[0;32mis\u001b[0m \u001b[0;32mFalse\u001b[0m \u001b[0;32mor\u001b[0m \u001b[0;32mnot\u001b[0m \u001b[0mself\u001b[0m\u001b[0;34m.\u001b[0m\u001b[0m_is_method_retryable\u001b[0m\u001b[0;34m(\u001b[0m\u001b[0mmethod\u001b[0m\u001b[0;34m)\u001b[0m\u001b[0;34m:\u001b[0m\u001b[0;34m\u001b[0m\u001b[0;34m\u001b[0m\u001b[0m\n\u001b[0;32m--> 550\u001b[0;31m                 \u001b[0;32mraise\u001b[0m \u001b[0msix\u001b[0m\u001b[0;34m.\u001b[0m\u001b[0mreraise\u001b[0m\u001b[0;34m(\u001b[0m\u001b[0mtype\u001b[0m\u001b[0;34m(\u001b[0m\u001b[0merror\u001b[0m\u001b[0;34m)\u001b[0m\u001b[0;34m,\u001b[0m \u001b[0merror\u001b[0m\u001b[0;34m,\u001b[0m \u001b[0m_stacktrace\u001b[0m\u001b[0;34m)\u001b[0m\u001b[0;34m\u001b[0m\u001b[0;34m\u001b[0m\u001b[0m\n\u001b[0m\u001b[1;32m    551\u001b[0m             \u001b[0;32melif\u001b[0m \u001b[0mread\u001b[0m \u001b[0;32mis\u001b[0m \u001b[0;32mnot\u001b[0m \u001b[0;32mNone\u001b[0m\u001b[0;34m:\u001b[0m\u001b[0;34m\u001b[0m\u001b[0;34m\u001b[0m\u001b[0m\n",
      "\u001b[0;32m/usr/local/lib/python3.7/dist-packages/urllib3/packages/six.py\u001b[0m in \u001b[0;36mreraise\u001b[0;34m(tp, value, tb)\u001b[0m\n\u001b[1;32m    768\u001b[0m             \u001b[0;32mif\u001b[0m \u001b[0mvalue\u001b[0m\u001b[0;34m.\u001b[0m\u001b[0m__traceback__\u001b[0m \u001b[0;32mis\u001b[0m \u001b[0;32mnot\u001b[0m \u001b[0mtb\u001b[0m\u001b[0;34m:\u001b[0m\u001b[0;34m\u001b[0m\u001b[0;34m\u001b[0m\u001b[0m\n\u001b[0;32m--> 769\u001b[0;31m                 \u001b[0;32mraise\u001b[0m \u001b[0mvalue\u001b[0m\u001b[0;34m.\u001b[0m\u001b[0mwith_traceback\u001b[0m\u001b[0;34m(\u001b[0m\u001b[0mtb\u001b[0m\u001b[0;34m)\u001b[0m\u001b[0;34m\u001b[0m\u001b[0;34m\u001b[0m\u001b[0m\n\u001b[0m\u001b[1;32m    770\u001b[0m             \u001b[0;32mraise\u001b[0m \u001b[0mvalue\u001b[0m\u001b[0;34m\u001b[0m\u001b[0;34m\u001b[0m\u001b[0m\n",
      "\u001b[0;32m/usr/local/lib/python3.7/dist-packages/urllib3/connectionpool.py\u001b[0m in \u001b[0;36murlopen\u001b[0;34m(self, method, url, body, headers, retries, redirect, assert_same_host, timeout, pool_timeout, release_conn, chunked, body_pos, **response_kw)\u001b[0m\n\u001b[1;32m    709\u001b[0m                 \u001b[0mheaders\u001b[0m\u001b[0;34m=\u001b[0m\u001b[0mheaders\u001b[0m\u001b[0;34m,\u001b[0m\u001b[0;34m\u001b[0m\u001b[0;34m\u001b[0m\u001b[0m\n\u001b[0;32m--> 710\u001b[0;31m                 \u001b[0mchunked\u001b[0m\u001b[0;34m=\u001b[0m\u001b[0mchunked\u001b[0m\u001b[0;34m,\u001b[0m\u001b[0;34m\u001b[0m\u001b[0;34m\u001b[0m\u001b[0m\n\u001b[0m\u001b[1;32m    711\u001b[0m             )\n",
      "\u001b[0;32m/usr/local/lib/python3.7/dist-packages/urllib3/connectionpool.py\u001b[0m in \u001b[0;36m_make_request\u001b[0;34m(self, conn, method, url, timeout, chunked, **httplib_request_kw)\u001b[0m\n\u001b[1;32m    448\u001b[0m                     \u001b[0;31m# Otherwise it looks like a bug in the code.\u001b[0m\u001b[0;34m\u001b[0m\u001b[0;34m\u001b[0m\u001b[0;34m\u001b[0m\u001b[0m\n\u001b[0;32m--> 449\u001b[0;31m                     \u001b[0msix\u001b[0m\u001b[0;34m.\u001b[0m\u001b[0mraise_from\u001b[0m\u001b[0;34m(\u001b[0m\u001b[0me\u001b[0m\u001b[0;34m,\u001b[0m \u001b[0;32mNone\u001b[0m\u001b[0;34m)\u001b[0m\u001b[0;34m\u001b[0m\u001b[0;34m\u001b[0m\u001b[0m\n\u001b[0m\u001b[1;32m    450\u001b[0m         \u001b[0;32mexcept\u001b[0m \u001b[0;34m(\u001b[0m\u001b[0mSocketTimeout\u001b[0m\u001b[0;34m,\u001b[0m \u001b[0mBaseSSLError\u001b[0m\u001b[0;34m,\u001b[0m \u001b[0mSocketError\u001b[0m\u001b[0;34m)\u001b[0m \u001b[0;32mas\u001b[0m \u001b[0me\u001b[0m\u001b[0;34m:\u001b[0m\u001b[0;34m\u001b[0m\u001b[0;34m\u001b[0m\u001b[0m\n",
      "\u001b[0;32m/usr/local/lib/python3.7/dist-packages/urllib3/packages/six.py\u001b[0m in \u001b[0;36mraise_from\u001b[0;34m(value, from_value)\u001b[0m\n",
      "\u001b[0;32m/usr/local/lib/python3.7/dist-packages/urllib3/connectionpool.py\u001b[0m in \u001b[0;36m_make_request\u001b[0;34m(self, conn, method, url, timeout, chunked, **httplib_request_kw)\u001b[0m\n\u001b[1;32m    443\u001b[0m                 \u001b[0;32mtry\u001b[0m\u001b[0;34m:\u001b[0m\u001b[0;34m\u001b[0m\u001b[0;34m\u001b[0m\u001b[0m\n\u001b[0;32m--> 444\u001b[0;31m                     \u001b[0mhttplib_response\u001b[0m \u001b[0;34m=\u001b[0m \u001b[0mconn\u001b[0m\u001b[0;34m.\u001b[0m\u001b[0mgetresponse\u001b[0m\u001b[0;34m(\u001b[0m\u001b[0;34m)\u001b[0m\u001b[0;34m\u001b[0m\u001b[0;34m\u001b[0m\u001b[0m\n\u001b[0m\u001b[1;32m    445\u001b[0m                 \u001b[0;32mexcept\u001b[0m \u001b[0mBaseException\u001b[0m \u001b[0;32mas\u001b[0m \u001b[0me\u001b[0m\u001b[0;34m:\u001b[0m\u001b[0;34m\u001b[0m\u001b[0;34m\u001b[0m\u001b[0m\n",
      "\u001b[0;32m/usr/lib/python3.7/http/client.py\u001b[0m in \u001b[0;36mgetresponse\u001b[0;34m(self)\u001b[0m\n\u001b[1;32m   1372\u001b[0m             \u001b[0;32mtry\u001b[0m\u001b[0;34m:\u001b[0m\u001b[0;34m\u001b[0m\u001b[0;34m\u001b[0m\u001b[0m\n\u001b[0;32m-> 1373\u001b[0;31m                 \u001b[0mresponse\u001b[0m\u001b[0;34m.\u001b[0m\u001b[0mbegin\u001b[0m\u001b[0;34m(\u001b[0m\u001b[0;34m)\u001b[0m\u001b[0;34m\u001b[0m\u001b[0;34m\u001b[0m\u001b[0m\n\u001b[0m\u001b[1;32m   1374\u001b[0m             \u001b[0;32mexcept\u001b[0m \u001b[0mConnectionError\u001b[0m\u001b[0;34m:\u001b[0m\u001b[0;34m\u001b[0m\u001b[0;34m\u001b[0m\u001b[0m\n",
      "\u001b[0;32m/usr/lib/python3.7/http/client.py\u001b[0m in \u001b[0;36mbegin\u001b[0;34m(self)\u001b[0m\n\u001b[1;32m    318\u001b[0m         \u001b[0;32mwhile\u001b[0m \u001b[0;32mTrue\u001b[0m\u001b[0;34m:\u001b[0m\u001b[0;34m\u001b[0m\u001b[0;34m\u001b[0m\u001b[0m\n\u001b[0;32m--> 319\u001b[0;31m             \u001b[0mversion\u001b[0m\u001b[0;34m,\u001b[0m \u001b[0mstatus\u001b[0m\u001b[0;34m,\u001b[0m \u001b[0mreason\u001b[0m \u001b[0;34m=\u001b[0m \u001b[0mself\u001b[0m\u001b[0;34m.\u001b[0m\u001b[0m_read_status\u001b[0m\u001b[0;34m(\u001b[0m\u001b[0;34m)\u001b[0m\u001b[0;34m\u001b[0m\u001b[0;34m\u001b[0m\u001b[0m\n\u001b[0m\u001b[1;32m    320\u001b[0m             \u001b[0;32mif\u001b[0m \u001b[0mstatus\u001b[0m \u001b[0;34m!=\u001b[0m \u001b[0mCONTINUE\u001b[0m\u001b[0;34m:\u001b[0m\u001b[0;34m\u001b[0m\u001b[0;34m\u001b[0m\u001b[0m\n",
      "\u001b[0;32m/usr/lib/python3.7/http/client.py\u001b[0m in \u001b[0;36m_read_status\u001b[0;34m(self)\u001b[0m\n\u001b[1;32m    279\u001b[0m     \u001b[0;32mdef\u001b[0m \u001b[0m_read_status\u001b[0m\u001b[0;34m(\u001b[0m\u001b[0mself\u001b[0m\u001b[0;34m)\u001b[0m\u001b[0;34m:\u001b[0m\u001b[0;34m\u001b[0m\u001b[0;34m\u001b[0m\u001b[0m\n\u001b[0;32m--> 280\u001b[0;31m         \u001b[0mline\u001b[0m \u001b[0;34m=\u001b[0m \u001b[0mstr\u001b[0m\u001b[0;34m(\u001b[0m\u001b[0mself\u001b[0m\u001b[0;34m.\u001b[0m\u001b[0mfp\u001b[0m\u001b[0;34m.\u001b[0m\u001b[0mreadline\u001b[0m\u001b[0;34m(\u001b[0m\u001b[0m_MAXLINE\u001b[0m \u001b[0;34m+\u001b[0m \u001b[0;36m1\u001b[0m\u001b[0;34m)\u001b[0m\u001b[0;34m,\u001b[0m \u001b[0;34m\"iso-8859-1\"\u001b[0m\u001b[0;34m)\u001b[0m\u001b[0;34m\u001b[0m\u001b[0;34m\u001b[0m\u001b[0m\n\u001b[0m\u001b[1;32m    281\u001b[0m         \u001b[0;32mif\u001b[0m \u001b[0mlen\u001b[0m\u001b[0;34m(\u001b[0m\u001b[0mline\u001b[0m\u001b[0;34m)\u001b[0m \u001b[0;34m>\u001b[0m \u001b[0m_MAXLINE\u001b[0m\u001b[0;34m:\u001b[0m\u001b[0;34m\u001b[0m\u001b[0;34m\u001b[0m\u001b[0m\n",
      "\u001b[0;32m/usr/lib/python3.7/socket.py\u001b[0m in \u001b[0;36mreadinto\u001b[0;34m(self, b)\u001b[0m\n\u001b[1;32m    588\u001b[0m             \u001b[0;32mtry\u001b[0m\u001b[0;34m:\u001b[0m\u001b[0;34m\u001b[0m\u001b[0;34m\u001b[0m\u001b[0m\n\u001b[0;32m--> 589\u001b[0;31m                 \u001b[0;32mreturn\u001b[0m \u001b[0mself\u001b[0m\u001b[0;34m.\u001b[0m\u001b[0m_sock\u001b[0m\u001b[0;34m.\u001b[0m\u001b[0mrecv_into\u001b[0m\u001b[0;34m(\u001b[0m\u001b[0mb\u001b[0m\u001b[0;34m)\u001b[0m\u001b[0;34m\u001b[0m\u001b[0;34m\u001b[0m\u001b[0m\n\u001b[0m\u001b[1;32m    590\u001b[0m             \u001b[0;32mexcept\u001b[0m \u001b[0mtimeout\u001b[0m\u001b[0;34m:\u001b[0m\u001b[0;34m\u001b[0m\u001b[0;34m\u001b[0m\u001b[0m\n",
      "\u001b[0;32m/usr/lib/python3.7/ssl.py\u001b[0m in \u001b[0;36mrecv_into\u001b[0;34m(self, buffer, nbytes, flags)\u001b[0m\n\u001b[1;32m   1070\u001b[0m                   self.__class__)\n\u001b[0;32m-> 1071\u001b[0;31m             \u001b[0;32mreturn\u001b[0m \u001b[0mself\u001b[0m\u001b[0;34m.\u001b[0m\u001b[0mread\u001b[0m\u001b[0;34m(\u001b[0m\u001b[0mnbytes\u001b[0m\u001b[0;34m,\u001b[0m \u001b[0mbuffer\u001b[0m\u001b[0;34m)\u001b[0m\u001b[0;34m\u001b[0m\u001b[0;34m\u001b[0m\u001b[0m\n\u001b[0m\u001b[1;32m   1072\u001b[0m         \u001b[0;32melse\u001b[0m\u001b[0;34m:\u001b[0m\u001b[0;34m\u001b[0m\u001b[0;34m\u001b[0m\u001b[0m\n",
      "\u001b[0;32m/usr/lib/python3.7/ssl.py\u001b[0m in \u001b[0;36mread\u001b[0;34m(self, len, buffer)\u001b[0m\n\u001b[1;32m    928\u001b[0m             \u001b[0;32mif\u001b[0m \u001b[0mbuffer\u001b[0m \u001b[0;32mis\u001b[0m \u001b[0;32mnot\u001b[0m \u001b[0;32mNone\u001b[0m\u001b[0;34m:\u001b[0m\u001b[0;34m\u001b[0m\u001b[0;34m\u001b[0m\u001b[0m\n\u001b[0;32m--> 929\u001b[0;31m                 \u001b[0;32mreturn\u001b[0m \u001b[0mself\u001b[0m\u001b[0;34m.\u001b[0m\u001b[0m_sslobj\u001b[0m\u001b[0;34m.\u001b[0m\u001b[0mread\u001b[0m\u001b[0;34m(\u001b[0m\u001b[0mlen\u001b[0m\u001b[0;34m,\u001b[0m \u001b[0mbuffer\u001b[0m\u001b[0;34m)\u001b[0m\u001b[0;34m\u001b[0m\u001b[0;34m\u001b[0m\u001b[0m\n\u001b[0m\u001b[1;32m    930\u001b[0m             \u001b[0;32melse\u001b[0m\u001b[0;34m:\u001b[0m\u001b[0;34m\u001b[0m\u001b[0;34m\u001b[0m\u001b[0m\n",
      "\u001b[0;31mProtocolError\u001b[0m: ('Connection aborted.', ConnectionResetError(104, 'Connection reset by peer'))",
      "\nDuring handling of the above exception, another exception occurred:\n",
      "\u001b[0;31mConnectionError\u001b[0m                           Traceback (most recent call last)",
      "\u001b[0;32m<ipython-input-27-7c60562285b4>\u001b[0m in \u001b[0;36m<module>\u001b[0;34m\u001b[0m\n\u001b[1;32m      1\u001b[0m \u001b[0;31m# interested to see how this compares\u001b[0m\u001b[0;34m\u001b[0m\u001b[0;34m\u001b[0m\u001b[0;34m\u001b[0m\u001b[0m\n\u001b[0;32m----> 2\u001b[0;31m \u001b[0maverage_dos\u001b[0m\u001b[0;34m(\u001b[0m\u001b[0mhallelujah\u001b[0m\u001b[0;34m,\u001b[0m\u001b[0muser3\u001b[0m\u001b[0;34m)\u001b[0m\u001b[0;34m\u001b[0m\u001b[0;34m\u001b[0m\u001b[0m\n\u001b[0m",
      "\u001b[0;32m<ipython-input-24-45367a209bbd>\u001b[0m in \u001b[0;36maverage_dos\u001b[0;34m(playlist, username)\u001b[0m\n\u001b[1;32m     17\u001b[0m \u001b[0;32mdef\u001b[0m \u001b[0maverage_dos\u001b[0m\u001b[0;34m(\u001b[0m\u001b[0mplaylist\u001b[0m\u001b[0;34m,\u001b[0m\u001b[0musername\u001b[0m\u001b[0;34m)\u001b[0m\u001b[0;34m:\u001b[0m\u001b[0;34m\u001b[0m\u001b[0;34m\u001b[0m\u001b[0m\n\u001b[1;32m     18\u001b[0m   \u001b[0mdata\u001b[0m \u001b[0;34m=\u001b[0m \u001b[0;34m[\u001b[0m\u001b[0;34m]\u001b[0m\u001b[0;34m\u001b[0m\u001b[0;34m\u001b[0m\u001b[0m\n\u001b[0;32m---> 19\u001b[0;31m   \u001b[0;32mfor\u001b[0m \u001b[0martist1\u001b[0m \u001b[0;32min\u001b[0m \u001b[0mlistofartists\u001b[0m\u001b[0;34m(\u001b[0m\u001b[0mplaylist\u001b[0m\u001b[0;34m,\u001b[0m\u001b[0musername\u001b[0m\u001b[0;34m)\u001b[0m\u001b[0;34m:\u001b[0m\u001b[0;34m\u001b[0m\u001b[0;34m\u001b[0m\u001b[0m\n\u001b[0m\u001b[1;32m     20\u001b[0m     \u001b[0;32mfor\u001b[0m \u001b[0martist2\u001b[0m \u001b[0;32min\u001b[0m \u001b[0mlistofartists\u001b[0m\u001b[0;34m(\u001b[0m\u001b[0mplaylist\u001b[0m\u001b[0;34m,\u001b[0m\u001b[0musername\u001b[0m\u001b[0;34m)\u001b[0m\u001b[0;34m:\u001b[0m\u001b[0;34m\u001b[0m\u001b[0;34m\u001b[0m\u001b[0m\n\u001b[1;32m     21\u001b[0m       \u001b[0;32mif\u001b[0m \u001b[0martist1\u001b[0m \u001b[0;34m!=\u001b[0m \u001b[0martist2\u001b[0m\u001b[0;34m:\u001b[0m\u001b[0;34m\u001b[0m\u001b[0;34m\u001b[0m\u001b[0m\n",
      "\u001b[0;32m<ipython-input-24-45367a209bbd>\u001b[0m in \u001b[0;36mlistofartists\u001b[0;34m(playlist, username)\u001b[0m\n\u001b[1;32m      9\u001b[0m \u001b[0;34m\u001b[0m\u001b[0m\n\u001b[1;32m     10\u001b[0m \u001b[0;32mdef\u001b[0m \u001b[0mlistofartists\u001b[0m\u001b[0;34m(\u001b[0m\u001b[0mplaylist\u001b[0m\u001b[0;34m,\u001b[0m\u001b[0musername\u001b[0m\u001b[0;34m)\u001b[0m\u001b[0;34m:\u001b[0m\u001b[0;34m\u001b[0m\u001b[0;34m\u001b[0m\u001b[0m\n\u001b[0;32m---> 11\u001b[0;31m     \u001b[0mpl\u001b[0m \u001b[0;34m=\u001b[0m \u001b[0mpd\u001b[0m\u001b[0;34m.\u001b[0m\u001b[0mDataFrame\u001b[0m\u001b[0;34m(\u001b[0m\u001b[0msp\u001b[0m\u001b[0;34m.\u001b[0m\u001b[0muser_playlist_tracks\u001b[0m\u001b[0;34m(\u001b[0m\u001b[0musername\u001b[0m\u001b[0;34m,\u001b[0m \u001b[0mplaylist\u001b[0m\u001b[0;34m)\u001b[0m\u001b[0;34m)\u001b[0m\u001b[0;34m\u001b[0m\u001b[0;34m\u001b[0m\u001b[0m\n\u001b[0m\u001b[1;32m     12\u001b[0m     \u001b[0moutput\u001b[0m \u001b[0;34m=\u001b[0m \u001b[0;34m[\u001b[0m\u001b[0;34m]\u001b[0m\u001b[0;34m\u001b[0m\u001b[0;34m\u001b[0m\u001b[0m\n\u001b[1;32m     13\u001b[0m     \u001b[0;32mfor\u001b[0m \u001b[0mtrack\u001b[0m \u001b[0;32min\u001b[0m \u001b[0mpl\u001b[0m\u001b[0;34m[\u001b[0m\u001b[0;34m\"items\"\u001b[0m\u001b[0;34m]\u001b[0m\u001b[0;34m:\u001b[0m\u001b[0;34m\u001b[0m\u001b[0;34m\u001b[0m\u001b[0m\n",
      "\u001b[0;32m/usr/local/lib/python3.7/dist-packages/spotipy/client.py\u001b[0m in \u001b[0;36muser_playlist_tracks\u001b[0;34m(self, user, playlist_id, fields, limit, offset, market)\u001b[0m\n\u001b[1;32m    750\u001b[0m             \u001b[0moffset\u001b[0m\u001b[0;34m=\u001b[0m\u001b[0moffset\u001b[0m\u001b[0;34m,\u001b[0m\u001b[0;34m\u001b[0m\u001b[0;34m\u001b[0m\u001b[0m\n\u001b[1;32m    751\u001b[0m             \u001b[0mfields\u001b[0m\u001b[0;34m=\u001b[0m\u001b[0mfields\u001b[0m\u001b[0;34m,\u001b[0m\u001b[0;34m\u001b[0m\u001b[0;34m\u001b[0m\u001b[0m\n\u001b[0;32m--> 752\u001b[0;31m             \u001b[0mmarket\u001b[0m\u001b[0;34m=\u001b[0m\u001b[0mmarket\u001b[0m\u001b[0;34m,\u001b[0m\u001b[0;34m\u001b[0m\u001b[0;34m\u001b[0m\u001b[0m\n\u001b[0m\u001b[1;32m    753\u001b[0m         )\n\u001b[1;32m    754\u001b[0m \u001b[0;34m\u001b[0m\u001b[0m\n",
      "\u001b[0;32m/usr/local/lib/python3.7/dist-packages/spotipy/client.py\u001b[0m in \u001b[0;36mplaylist_tracks\u001b[0;34m(self, playlist_id, fields, limit, offset, market, additional_types)\u001b[0m\n\u001b[1;32m    648\u001b[0m         )\n\u001b[1;32m    649\u001b[0m         return self.playlist_items(playlist_id, fields, limit, offset,\n\u001b[0;32m--> 650\u001b[0;31m                                    market, additional_types)\n\u001b[0m\u001b[1;32m    651\u001b[0m \u001b[0;34m\u001b[0m\u001b[0m\n\u001b[1;32m    652\u001b[0m     def playlist_items(\n",
      "\u001b[0;32m/usr/local/lib/python3.7/dist-packages/spotipy/client.py\u001b[0m in \u001b[0;36mplaylist_items\u001b[0;34m(self, playlist_id, fields, limit, offset, market, additional_types)\u001b[0m\n\u001b[1;32m    677\u001b[0m             \u001b[0mfields\u001b[0m\u001b[0;34m=\u001b[0m\u001b[0mfields\u001b[0m\u001b[0;34m,\u001b[0m\u001b[0;34m\u001b[0m\u001b[0;34m\u001b[0m\u001b[0m\n\u001b[1;32m    678\u001b[0m             \u001b[0mmarket\u001b[0m\u001b[0;34m=\u001b[0m\u001b[0mmarket\u001b[0m\u001b[0;34m,\u001b[0m\u001b[0;34m\u001b[0m\u001b[0;34m\u001b[0m\u001b[0m\n\u001b[0;32m--> 679\u001b[0;31m             \u001b[0madditional_types\u001b[0m\u001b[0;34m=\u001b[0m\u001b[0;34m\",\"\u001b[0m\u001b[0;34m.\u001b[0m\u001b[0mjoin\u001b[0m\u001b[0;34m(\u001b[0m\u001b[0madditional_types\u001b[0m\u001b[0;34m)\u001b[0m\u001b[0;34m\u001b[0m\u001b[0;34m\u001b[0m\u001b[0m\n\u001b[0m\u001b[1;32m    680\u001b[0m         )\n\u001b[1;32m    681\u001b[0m \u001b[0;34m\u001b[0m\u001b[0m\n",
      "\u001b[0;32m/usr/local/lib/python3.7/dist-packages/spotipy/client.py\u001b[0m in \u001b[0;36m_get\u001b[0;34m(self, url, args, payload, **kwargs)\u001b[0m\n\u001b[1;32m    295\u001b[0m             \u001b[0mkwargs\u001b[0m\u001b[0;34m.\u001b[0m\u001b[0mupdate\u001b[0m\u001b[0;34m(\u001b[0m\u001b[0margs\u001b[0m\u001b[0;34m)\u001b[0m\u001b[0;34m\u001b[0m\u001b[0;34m\u001b[0m\u001b[0m\n\u001b[1;32m    296\u001b[0m \u001b[0;34m\u001b[0m\u001b[0m\n\u001b[0;32m--> 297\u001b[0;31m         \u001b[0;32mreturn\u001b[0m \u001b[0mself\u001b[0m\u001b[0;34m.\u001b[0m\u001b[0m_internal_call\u001b[0m\u001b[0;34m(\u001b[0m\u001b[0;34m\"GET\"\u001b[0m\u001b[0;34m,\u001b[0m \u001b[0murl\u001b[0m\u001b[0;34m,\u001b[0m \u001b[0mpayload\u001b[0m\u001b[0;34m,\u001b[0m \u001b[0mkwargs\u001b[0m\u001b[0;34m)\u001b[0m\u001b[0;34m\u001b[0m\u001b[0;34m\u001b[0m\u001b[0m\n\u001b[0m\u001b[1;32m    298\u001b[0m \u001b[0;34m\u001b[0m\u001b[0m\n\u001b[1;32m    299\u001b[0m     \u001b[0;32mdef\u001b[0m \u001b[0m_post\u001b[0m\u001b[0;34m(\u001b[0m\u001b[0mself\u001b[0m\u001b[0;34m,\u001b[0m \u001b[0murl\u001b[0m\u001b[0;34m,\u001b[0m \u001b[0margs\u001b[0m\u001b[0;34m=\u001b[0m\u001b[0;32mNone\u001b[0m\u001b[0;34m,\u001b[0m \u001b[0mpayload\u001b[0m\u001b[0;34m=\u001b[0m\u001b[0;32mNone\u001b[0m\u001b[0;34m,\u001b[0m \u001b[0;34m**\u001b[0m\u001b[0mkwargs\u001b[0m\u001b[0;34m)\u001b[0m\u001b[0;34m:\u001b[0m\u001b[0;34m\u001b[0m\u001b[0;34m\u001b[0m\u001b[0m\n",
      "\u001b[0;32m/usr/local/lib/python3.7/dist-packages/spotipy/client.py\u001b[0m in \u001b[0;36m_internal_call\u001b[0;34m(self, method, url, payload, params)\u001b[0m\n\u001b[1;32m    219\u001b[0m         \u001b[0;32mif\u001b[0m \u001b[0;32mnot\u001b[0m \u001b[0murl\u001b[0m\u001b[0;34m.\u001b[0m\u001b[0mstartswith\u001b[0m\u001b[0;34m(\u001b[0m\u001b[0;34m\"http\"\u001b[0m\u001b[0;34m)\u001b[0m\u001b[0;34m:\u001b[0m\u001b[0;34m\u001b[0m\u001b[0;34m\u001b[0m\u001b[0m\n\u001b[1;32m    220\u001b[0m             \u001b[0murl\u001b[0m \u001b[0;34m=\u001b[0m \u001b[0mself\u001b[0m\u001b[0;34m.\u001b[0m\u001b[0mprefix\u001b[0m \u001b[0;34m+\u001b[0m \u001b[0murl\u001b[0m\u001b[0;34m\u001b[0m\u001b[0;34m\u001b[0m\u001b[0m\n\u001b[0;32m--> 221\u001b[0;31m         \u001b[0mheaders\u001b[0m \u001b[0;34m=\u001b[0m \u001b[0mself\u001b[0m\u001b[0;34m.\u001b[0m\u001b[0m_auth_headers\u001b[0m\u001b[0;34m(\u001b[0m\u001b[0;34m)\u001b[0m\u001b[0;34m\u001b[0m\u001b[0;34m\u001b[0m\u001b[0m\n\u001b[0m\u001b[1;32m    222\u001b[0m \u001b[0;34m\u001b[0m\u001b[0m\n\u001b[1;32m    223\u001b[0m         \u001b[0;32mif\u001b[0m \u001b[0;34m\"content_type\"\u001b[0m \u001b[0;32min\u001b[0m \u001b[0margs\u001b[0m\u001b[0;34m[\u001b[0m\u001b[0;34m\"params\"\u001b[0m\u001b[0;34m]\u001b[0m\u001b[0;34m:\u001b[0m\u001b[0;34m\u001b[0m\u001b[0;34m\u001b[0m\u001b[0m\n",
      "\u001b[0;32m/usr/local/lib/python3.7/dist-packages/spotipy/client.py\u001b[0m in \u001b[0;36m_auth_headers\u001b[0;34m(self)\u001b[0m\n\u001b[1;32m    210\u001b[0m             \u001b[0;32mreturn\u001b[0m \u001b[0;34m{\u001b[0m\u001b[0;34m}\u001b[0m\u001b[0;34m\u001b[0m\u001b[0;34m\u001b[0m\u001b[0m\n\u001b[1;32m    211\u001b[0m         \u001b[0;32mtry\u001b[0m\u001b[0;34m:\u001b[0m\u001b[0;34m\u001b[0m\u001b[0;34m\u001b[0m\u001b[0m\n\u001b[0;32m--> 212\u001b[0;31m             \u001b[0mtoken\u001b[0m \u001b[0;34m=\u001b[0m \u001b[0mself\u001b[0m\u001b[0;34m.\u001b[0m\u001b[0mauth_manager\u001b[0m\u001b[0;34m.\u001b[0m\u001b[0mget_access_token\u001b[0m\u001b[0;34m(\u001b[0m\u001b[0mas_dict\u001b[0m\u001b[0;34m=\u001b[0m\u001b[0;32mFalse\u001b[0m\u001b[0;34m)\u001b[0m\u001b[0;34m\u001b[0m\u001b[0;34m\u001b[0m\u001b[0m\n\u001b[0m\u001b[1;32m    213\u001b[0m         \u001b[0;32mexcept\u001b[0m \u001b[0mTypeError\u001b[0m\u001b[0;34m:\u001b[0m\u001b[0;34m\u001b[0m\u001b[0;34m\u001b[0m\u001b[0m\n\u001b[1;32m    214\u001b[0m             \u001b[0mtoken\u001b[0m \u001b[0;34m=\u001b[0m \u001b[0mself\u001b[0m\u001b[0;34m.\u001b[0m\u001b[0mauth_manager\u001b[0m\u001b[0;34m.\u001b[0m\u001b[0mget_access_token\u001b[0m\u001b[0;34m(\u001b[0m\u001b[0;34m)\u001b[0m\u001b[0;34m\u001b[0m\u001b[0;34m\u001b[0m\u001b[0m\n",
      "\u001b[0;32m/usr/local/lib/python3.7/dist-packages/spotipy/oauth2.py\u001b[0m in \u001b[0;36mget_access_token\u001b[0;34m(self, as_dict, check_cache)\u001b[0m\n\u001b[1;32m    236\u001b[0m                 \u001b[0;32mreturn\u001b[0m \u001b[0mtoken_info\u001b[0m \u001b[0;32mif\u001b[0m \u001b[0mas_dict\u001b[0m \u001b[0;32melse\u001b[0m \u001b[0mtoken_info\u001b[0m\u001b[0;34m[\u001b[0m\u001b[0;34m\"access_token\"\u001b[0m\u001b[0;34m]\u001b[0m\u001b[0;34m\u001b[0m\u001b[0;34m\u001b[0m\u001b[0m\n\u001b[1;32m    237\u001b[0m \u001b[0;34m\u001b[0m\u001b[0m\n\u001b[0;32m--> 238\u001b[0;31m         \u001b[0mtoken_info\u001b[0m \u001b[0;34m=\u001b[0m \u001b[0mself\u001b[0m\u001b[0;34m.\u001b[0m\u001b[0m_request_access_token\u001b[0m\u001b[0;34m(\u001b[0m\u001b[0;34m)\u001b[0m\u001b[0;34m\u001b[0m\u001b[0;34m\u001b[0m\u001b[0m\n\u001b[0m\u001b[1;32m    239\u001b[0m         \u001b[0mtoken_info\u001b[0m \u001b[0;34m=\u001b[0m \u001b[0mself\u001b[0m\u001b[0;34m.\u001b[0m\u001b[0m_add_custom_values_to_token_info\u001b[0m\u001b[0;34m(\u001b[0m\u001b[0mtoken_info\u001b[0m\u001b[0;34m)\u001b[0m\u001b[0;34m\u001b[0m\u001b[0;34m\u001b[0m\u001b[0m\n\u001b[1;32m    240\u001b[0m         \u001b[0mself\u001b[0m\u001b[0;34m.\u001b[0m\u001b[0mcache_handler\u001b[0m\u001b[0;34m.\u001b[0m\u001b[0msave_token_to_cache\u001b[0m\u001b[0;34m(\u001b[0m\u001b[0mtoken_info\u001b[0m\u001b[0;34m)\u001b[0m\u001b[0;34m\u001b[0m\u001b[0;34m\u001b[0m\u001b[0m\n",
      "\u001b[0;32m/usr/local/lib/python3.7/dist-packages/spotipy/oauth2.py\u001b[0m in \u001b[0;36m_request_access_token\u001b[0;34m(self)\u001b[0m\n\u001b[1;32m    261\u001b[0m                 \u001b[0mverify\u001b[0m\u001b[0;34m=\u001b[0m\u001b[0;32mTrue\u001b[0m\u001b[0;34m,\u001b[0m\u001b[0;34m\u001b[0m\u001b[0;34m\u001b[0m\u001b[0m\n\u001b[1;32m    262\u001b[0m                 \u001b[0mproxies\u001b[0m\u001b[0;34m=\u001b[0m\u001b[0mself\u001b[0m\u001b[0;34m.\u001b[0m\u001b[0mproxies\u001b[0m\u001b[0;34m,\u001b[0m\u001b[0;34m\u001b[0m\u001b[0;34m\u001b[0m\u001b[0m\n\u001b[0;32m--> 263\u001b[0;31m                 \u001b[0mtimeout\u001b[0m\u001b[0;34m=\u001b[0m\u001b[0mself\u001b[0m\u001b[0;34m.\u001b[0m\u001b[0mrequests_timeout\u001b[0m\u001b[0;34m,\u001b[0m\u001b[0;34m\u001b[0m\u001b[0;34m\u001b[0m\u001b[0m\n\u001b[0m\u001b[1;32m    264\u001b[0m             )\n\u001b[1;32m    265\u001b[0m             \u001b[0mresponse\u001b[0m\u001b[0;34m.\u001b[0m\u001b[0mraise_for_status\u001b[0m\u001b[0;34m(\u001b[0m\u001b[0;34m)\u001b[0m\u001b[0;34m\u001b[0m\u001b[0;34m\u001b[0m\u001b[0m\n",
      "\u001b[0;32m/usr/local/lib/python3.7/dist-packages/requests/sessions.py\u001b[0m in \u001b[0;36mpost\u001b[0;34m(self, url, data, json, **kwargs)\u001b[0m\n\u001b[1;32m    633\u001b[0m         \"\"\"\n\u001b[1;32m    634\u001b[0m \u001b[0;34m\u001b[0m\u001b[0m\n\u001b[0;32m--> 635\u001b[0;31m         \u001b[0;32mreturn\u001b[0m \u001b[0mself\u001b[0m\u001b[0;34m.\u001b[0m\u001b[0mrequest\u001b[0m\u001b[0;34m(\u001b[0m\u001b[0;34m\"POST\"\u001b[0m\u001b[0;34m,\u001b[0m \u001b[0murl\u001b[0m\u001b[0;34m,\u001b[0m \u001b[0mdata\u001b[0m\u001b[0;34m=\u001b[0m\u001b[0mdata\u001b[0m\u001b[0;34m,\u001b[0m \u001b[0mjson\u001b[0m\u001b[0;34m=\u001b[0m\u001b[0mjson\u001b[0m\u001b[0;34m,\u001b[0m \u001b[0;34m**\u001b[0m\u001b[0mkwargs\u001b[0m\u001b[0;34m)\u001b[0m\u001b[0;34m\u001b[0m\u001b[0;34m\u001b[0m\u001b[0m\n\u001b[0m\u001b[1;32m    636\u001b[0m \u001b[0;34m\u001b[0m\u001b[0m\n\u001b[1;32m    637\u001b[0m     \u001b[0;32mdef\u001b[0m \u001b[0mput\u001b[0m\u001b[0;34m(\u001b[0m\u001b[0mself\u001b[0m\u001b[0;34m,\u001b[0m \u001b[0murl\u001b[0m\u001b[0;34m,\u001b[0m \u001b[0mdata\u001b[0m\u001b[0;34m=\u001b[0m\u001b[0;32mNone\u001b[0m\u001b[0;34m,\u001b[0m \u001b[0;34m**\u001b[0m\u001b[0mkwargs\u001b[0m\u001b[0;34m)\u001b[0m\u001b[0;34m:\u001b[0m\u001b[0;34m\u001b[0m\u001b[0;34m\u001b[0m\u001b[0m\n",
      "\u001b[0;32m/usr/local/lib/python3.7/dist-packages/requests/sessions.py\u001b[0m in \u001b[0;36mrequest\u001b[0;34m(self, method, url, params, data, headers, cookies, files, auth, timeout, allow_redirects, proxies, hooks, stream, verify, cert, json)\u001b[0m\n\u001b[1;32m    585\u001b[0m         }\n\u001b[1;32m    586\u001b[0m         \u001b[0msend_kwargs\u001b[0m\u001b[0;34m.\u001b[0m\u001b[0mupdate\u001b[0m\u001b[0;34m(\u001b[0m\u001b[0msettings\u001b[0m\u001b[0;34m)\u001b[0m\u001b[0;34m\u001b[0m\u001b[0;34m\u001b[0m\u001b[0m\n\u001b[0;32m--> 587\u001b[0;31m         \u001b[0mresp\u001b[0m \u001b[0;34m=\u001b[0m \u001b[0mself\u001b[0m\u001b[0;34m.\u001b[0m\u001b[0msend\u001b[0m\u001b[0;34m(\u001b[0m\u001b[0mprep\u001b[0m\u001b[0;34m,\u001b[0m \u001b[0;34m**\u001b[0m\u001b[0msend_kwargs\u001b[0m\u001b[0;34m)\u001b[0m\u001b[0;34m\u001b[0m\u001b[0;34m\u001b[0m\u001b[0m\n\u001b[0m\u001b[1;32m    588\u001b[0m \u001b[0;34m\u001b[0m\u001b[0m\n\u001b[1;32m    589\u001b[0m         \u001b[0;32mreturn\u001b[0m \u001b[0mresp\u001b[0m\u001b[0;34m\u001b[0m\u001b[0;34m\u001b[0m\u001b[0m\n",
      "\u001b[0;32m/usr/local/lib/python3.7/dist-packages/requests/sessions.py\u001b[0m in \u001b[0;36msend\u001b[0;34m(self, request, **kwargs)\u001b[0m\n\u001b[1;32m    699\u001b[0m \u001b[0;34m\u001b[0m\u001b[0m\n\u001b[1;32m    700\u001b[0m         \u001b[0;31m# Send the request\u001b[0m\u001b[0;34m\u001b[0m\u001b[0;34m\u001b[0m\u001b[0;34m\u001b[0m\u001b[0m\n\u001b[0;32m--> 701\u001b[0;31m         \u001b[0mr\u001b[0m \u001b[0;34m=\u001b[0m \u001b[0madapter\u001b[0m\u001b[0;34m.\u001b[0m\u001b[0msend\u001b[0m\u001b[0;34m(\u001b[0m\u001b[0mrequest\u001b[0m\u001b[0;34m,\u001b[0m \u001b[0;34m**\u001b[0m\u001b[0mkwargs\u001b[0m\u001b[0;34m)\u001b[0m\u001b[0;34m\u001b[0m\u001b[0;34m\u001b[0m\u001b[0m\n\u001b[0m\u001b[1;32m    702\u001b[0m \u001b[0;34m\u001b[0m\u001b[0m\n\u001b[1;32m    703\u001b[0m         \u001b[0;31m# Total elapsed time of the request (approximately)\u001b[0m\u001b[0;34m\u001b[0m\u001b[0;34m\u001b[0m\u001b[0;34m\u001b[0m\u001b[0m\n",
      "\u001b[0;32m/usr/local/lib/python3.7/dist-packages/requests/adapters.py\u001b[0m in \u001b[0;36msend\u001b[0;34m(self, request, stream, timeout, verify, cert, proxies)\u001b[0m\n\u001b[1;32m    545\u001b[0m \u001b[0;34m\u001b[0m\u001b[0m\n\u001b[1;32m    546\u001b[0m         \u001b[0;32mexcept\u001b[0m \u001b[0;34m(\u001b[0m\u001b[0mProtocolError\u001b[0m\u001b[0;34m,\u001b[0m \u001b[0mOSError\u001b[0m\u001b[0;34m)\u001b[0m \u001b[0;32mas\u001b[0m \u001b[0merr\u001b[0m\u001b[0;34m:\u001b[0m\u001b[0;34m\u001b[0m\u001b[0;34m\u001b[0m\u001b[0m\n\u001b[0;32m--> 547\u001b[0;31m             \u001b[0;32mraise\u001b[0m \u001b[0mConnectionError\u001b[0m\u001b[0;34m(\u001b[0m\u001b[0merr\u001b[0m\u001b[0;34m,\u001b[0m \u001b[0mrequest\u001b[0m\u001b[0;34m=\u001b[0m\u001b[0mrequest\u001b[0m\u001b[0;34m)\u001b[0m\u001b[0;34m\u001b[0m\u001b[0;34m\u001b[0m\u001b[0m\n\u001b[0m\u001b[1;32m    548\u001b[0m \u001b[0;34m\u001b[0m\u001b[0m\n\u001b[1;32m    549\u001b[0m         \u001b[0;32mexcept\u001b[0m \u001b[0mMaxRetryError\u001b[0m \u001b[0;32mas\u001b[0m \u001b[0me\u001b[0m\u001b[0;34m:\u001b[0m\u001b[0;34m\u001b[0m\u001b[0;34m\u001b[0m\u001b[0m\n",
      "\u001b[0;31mConnectionError\u001b[0m: ('Connection aborted.', ConnectionResetError(104, 'Connection reset by peer'))"
     ]
    }
   ],
   "source": [
    "# interested to see how this compares\n",
    "average_dos(hallelujah,user3)"
   ]
  },
  {
   "cell_type": "code",
   "execution_count": null,
   "metadata": {
    "id": "GqWElV1QDJ8x"
   },
   "outputs": [],
   "source": []
  }
 ],
 "metadata": {
  "colab": {
   "collapsed_sections": [],
   "provenance": []
  },
  "kernelspec": {
   "display_name": "Python 3 (ipykernel)",
   "language": "python",
   "name": "python3"
  },
  "language_info": {
   "codemirror_mode": {
    "name": "ipython",
    "version": 3
   },
   "file_extension": ".py",
   "mimetype": "text/x-python",
   "name": "python",
   "nbconvert_exporter": "python",
   "pygments_lexer": "ipython3",
   "version": "3.9.12"
  }
 },
 "nbformat": 4,
 "nbformat_minor": 1
}

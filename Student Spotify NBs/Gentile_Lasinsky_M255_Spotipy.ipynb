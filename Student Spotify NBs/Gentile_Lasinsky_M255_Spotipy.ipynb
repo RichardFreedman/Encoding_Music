{
 "cells": [
  {
   "cell_type": "markdown",
   "metadata": {
    "id": "nedogKb3_mMb"
   },
   "source": [
    "Notebook by Joseph Gentile + Nicholas Lasinsky. Markdown cells denoted with (N) or (J) depending on who wrote it. Joseph assembled and wrote most of the code and did most of the markdowns in the notebook, while Nicholas did a write up of our shared thoughts/discussions/challenges and submitted it himself.\n",
    "\n",
    "(J)The question we're looking it is as follows. Among the playlists, many of the sub-selections of the 40 songs are categorized by some variety of \"these are the songs that I recognize\" or \"these are songs I have nostalgia for.\" Effectively, those sub-lists consist of songs the students, all of whom are generally in the early 20s demographic, like. Meanwhile, among the student-generated playlists, many of them are composited based on what the given student thinks some early-20's person would enjoy. So, our idea was to compile these two separate lists, of what students like and what they think a student around their age would like, and compare to see any discrepencies. The data set is decidedly not very rigorous, probably not enough to draw the most meaningful conclusions, but we figured it's a good enough idea to let us practice with the tools and see what discrepencies there are between the two."
   ]
  },
  {
   "cell_type": "markdown",
   "metadata": {
    "id": "XYjC-KlusXs0"
   },
   "source": [
    "(J)Just copy/pasting stuff from the other doc to set up all the libraries"
   ]
  },
  {
   "cell_type": "code",
   "execution_count": 1,
   "metadata": {
    "colab": {
     "base_uri": "https://localhost:8080/"
    },
    "id": "o-JwmWGcrtK0",
    "outputId": "e380f6af-2d7c-4885-d649-9f35ed880042"
   },
   "outputs": [
    {
     "name": "stdout",
     "output_type": "stream",
     "text": [
      "Requirement already satisfied: spotipy in /Users/rfreedma/opt/anaconda3/envs/intervals/lib/python3.9/site-packages (2.20.0)\n",
      "Requirement already satisfied: requests>=2.25.0 in /Users/rfreedma/opt/anaconda3/envs/intervals/lib/python3.9/site-packages (from spotipy) (2.27.0)\n",
      "Requirement already satisfied: redis>=3.5.3 in /Users/rfreedma/opt/anaconda3/envs/intervals/lib/python3.9/site-packages (from spotipy) (4.3.4)\n",
      "Requirement already satisfied: six>=1.15.0 in /Users/rfreedma/opt/anaconda3/envs/intervals/lib/python3.9/site-packages (from spotipy) (1.15.0)\n",
      "Requirement already satisfied: urllib3>=1.26.0 in /Users/rfreedma/opt/anaconda3/envs/intervals/lib/python3.9/site-packages (from spotipy) (1.26.12)\n",
      "Requirement already satisfied: deprecated>=1.2.3 in /Users/rfreedma/opt/anaconda3/envs/intervals/lib/python3.9/site-packages (from redis>=3.5.3->spotipy) (1.2.13)\n",
      "Requirement already satisfied: packaging>=20.4 in /Users/rfreedma/opt/anaconda3/envs/intervals/lib/python3.9/site-packages (from redis>=3.5.3->spotipy) (21.3)\n",
      "Requirement already satisfied: async-timeout>=4.0.2 in /Users/rfreedma/opt/anaconda3/envs/intervals/lib/python3.9/site-packages (from redis>=3.5.3->spotipy) (4.0.2)\n",
      "Requirement already satisfied: wrapt<2,>=1.10 in /Users/rfreedma/opt/anaconda3/envs/intervals/lib/python3.9/site-packages (from deprecated>=1.2.3->redis>=3.5.3->spotipy) (1.14.1)\n",
      "Requirement already satisfied: pyparsing!=3.0.5,>=2.0.2 in /Users/rfreedma/opt/anaconda3/envs/intervals/lib/python3.9/site-packages (from packaging>=20.4->redis>=3.5.3->spotipy) (3.0.9)\n",
      "Requirement already satisfied: idna<4,>=2.5 in /Users/rfreedma/opt/anaconda3/envs/intervals/lib/python3.9/site-packages (from requests>=2.25.0->spotipy) (3.1)\n",
      "Requirement already satisfied: certifi>=2017.4.17 in /Users/rfreedma/opt/anaconda3/envs/intervals/lib/python3.9/site-packages (from requests>=2.25.0->spotipy) (2020.12.5)\n",
      "Requirement already satisfied: charset-normalizer~=2.0.0 in /Users/rfreedma/opt/anaconda3/envs/intervals/lib/python3.9/site-packages (from requests>=2.25.0->spotipy) (2.0.12)\n",
      "Note: you may need to restart the kernel to use updated packages.\n"
     ]
    }
   ],
   "source": [
    "pip install spotipy"
   ]
  },
  {
   "cell_type": "code",
   "execution_count": 2,
   "metadata": {
    "colab": {
     "base_uri": "https://localhost:8080/"
    },
    "id": "wMhoAuOsr9XG",
    "outputId": "481d2a35-98df-4df5-efa0-746fdc4bafd4"
   },
   "outputs": [
    {
     "name": "stdout",
     "output_type": "stream",
     "text": [
      "Requirement already satisfied: pyvis in /Users/rfreedma/opt/anaconda3/envs/intervals/lib/python3.9/site-packages (0.1.9)\n",
      "Requirement already satisfied: jinja2>=2.9.6 in /Users/rfreedma/opt/anaconda3/envs/intervals/lib/python3.9/site-packages (from pyvis) (3.1.2)\n",
      "Requirement already satisfied: ipython>=5.3.0 in /Users/rfreedma/opt/anaconda3/envs/intervals/lib/python3.9/site-packages (from pyvis) (8.5.0)\n",
      "Requirement already satisfied: jsonpickle>=1.4.1 in /Users/rfreedma/opt/anaconda3/envs/intervals/lib/python3.9/site-packages (from pyvis) (2.2.0)\n",
      "Requirement already satisfied: networkx>=1.11 in /Users/rfreedma/opt/anaconda3/envs/intervals/lib/python3.9/site-packages (from pyvis) (2.8.6)\n",
      "Requirement already satisfied: matplotlib-inline in /Users/rfreedma/opt/anaconda3/envs/intervals/lib/python3.9/site-packages (from ipython>=5.3.0->pyvis) (0.1.6)\n",
      "Requirement already satisfied: prompt-toolkit<3.1.0,>3.0.1 in /Users/rfreedma/opt/anaconda3/envs/intervals/lib/python3.9/site-packages (from ipython>=5.3.0->pyvis) (3.0.31)\n",
      "Requirement already satisfied: jedi>=0.16 in /Users/rfreedma/opt/anaconda3/envs/intervals/lib/python3.9/site-packages (from ipython>=5.3.0->pyvis) (0.18.1)\n",
      "Requirement already satisfied: stack-data in /Users/rfreedma/opt/anaconda3/envs/intervals/lib/python3.9/site-packages (from ipython>=5.3.0->pyvis) (0.5.1)\n",
      "Requirement already satisfied: decorator in /Users/rfreedma/opt/anaconda3/envs/intervals/lib/python3.9/site-packages (from ipython>=5.3.0->pyvis) (5.1.1)\n",
      "Requirement already satisfied: pexpect>4.3 in /Users/rfreedma/opt/anaconda3/envs/intervals/lib/python3.9/site-packages (from ipython>=5.3.0->pyvis) (4.8.0)\n",
      "Requirement already satisfied: pickleshare in /Users/rfreedma/opt/anaconda3/envs/intervals/lib/python3.9/site-packages (from ipython>=5.3.0->pyvis) (0.7.5)\n",
      "Requirement already satisfied: pygments>=2.4.0 in /Users/rfreedma/opt/anaconda3/envs/intervals/lib/python3.9/site-packages (from ipython>=5.3.0->pyvis) (2.13.0)\n",
      "Requirement already satisfied: traitlets>=5 in /Users/rfreedma/opt/anaconda3/envs/intervals/lib/python3.9/site-packages (from ipython>=5.3.0->pyvis) (5.4.0)\n",
      "Requirement already satisfied: backcall in /Users/rfreedma/opt/anaconda3/envs/intervals/lib/python3.9/site-packages (from ipython>=5.3.0->pyvis) (0.2.0)\n",
      "Requirement already satisfied: appnope in /Users/rfreedma/opt/anaconda3/envs/intervals/lib/python3.9/site-packages (from ipython>=5.3.0->pyvis) (0.1.3)\n",
      "Requirement already satisfied: parso<0.9.0,>=0.8.0 in /Users/rfreedma/opt/anaconda3/envs/intervals/lib/python3.9/site-packages (from jedi>=0.16->ipython>=5.3.0->pyvis) (0.8.3)\n",
      "Requirement already satisfied: MarkupSafe>=2.0 in /Users/rfreedma/opt/anaconda3/envs/intervals/lib/python3.9/site-packages (from jinja2>=2.9.6->pyvis) (2.1.1)\n",
      "Requirement already satisfied: ptyprocess>=0.5 in /Users/rfreedma/opt/anaconda3/envs/intervals/lib/python3.9/site-packages (from pexpect>4.3->ipython>=5.3.0->pyvis) (0.7.0)\n",
      "Requirement already satisfied: wcwidth in /Users/rfreedma/opt/anaconda3/envs/intervals/lib/python3.9/site-packages (from prompt-toolkit<3.1.0,>3.0.1->ipython>=5.3.0->pyvis) (0.2.5)\n",
      "Requirement already satisfied: asttokens in /Users/rfreedma/opt/anaconda3/envs/intervals/lib/python3.9/site-packages (from stack-data->ipython>=5.3.0->pyvis) (2.0.8)\n",
      "Requirement already satisfied: pure-eval in /Users/rfreedma/opt/anaconda3/envs/intervals/lib/python3.9/site-packages (from stack-data->ipython>=5.3.0->pyvis) (0.2.2)\n",
      "Requirement already satisfied: executing in /Users/rfreedma/opt/anaconda3/envs/intervals/lib/python3.9/site-packages (from stack-data->ipython>=5.3.0->pyvis) (1.1.0)\n",
      "Requirement already satisfied: six in /Users/rfreedma/opt/anaconda3/envs/intervals/lib/python3.9/site-packages (from asttokens->stack-data->ipython>=5.3.0->pyvis) (1.15.0)\n",
      "Note: you may need to restart the kernel to use updated packages.\n"
     ]
    }
   ],
   "source": [
    "pip install pyvis"
   ]
  },
  {
   "cell_type": "code",
   "execution_count": 3,
   "metadata": {
    "id": "MgBXHcMqr_xh"
   },
   "outputs": [],
   "source": [
    "import pandas as pd\n",
    "import numpy as np\n",
    "import random\n",
    "import altair as alt\n",
    "import requests\n",
    "import inspect\n",
    "import spotipy\n",
    "from spotipy.oauth2 import SpotifyClientCredentials\n",
    "import networkx as nx\n",
    "import networkx.algorithms.community as nx_comm\n",
    "import matplotlib.cm as cm\n",
    "import matplotlib.pyplot as plt\n",
    "import pyvis\n",
    "from pyvis import network as net\n",
    "from itertools import combinations\n",
    "from community import community_louvain\n",
    "from copy import deepcopy"
   ]
  },
  {
   "cell_type": "code",
   "execution_count": 4,
   "metadata": {
    "id": "PJUNnBDBsOyc"
   },
   "outputs": [],
   "source": [
    "# storing the credentials:\n",
    "CLIENT_ID = \"116bae2a86fd4737862816c5f45d4c36\"\n",
    "CLIENT_SECRET = \"4f4a732d83d04cfa94acc26d2b77169f\"\n",
    "my_username = \"sx47r9lq4dwrjx1r0ct9f9m09\"\n",
    "\n",
    "# instantiating the client\n",
    "# source: Max Hilsdorf (https://towardsdatascience.com/how-to-create-large-music-datasets-using-spotipy-40e7242cc6a6)\n",
    "client_credentials_manager = SpotifyClientCredentials(client_id=CLIENT_ID, client_secret=CLIENT_SECRET)\n",
    "sp = spotipy.Spotify(client_credentials_manager=client_credentials_manager)"
   ]
  },
  {
   "cell_type": "code",
   "execution_count": 5,
   "metadata": {
    "colab": {
     "base_uri": "https://localhost:8080/",
     "height": 551
    },
    "id": "nkrx56yYsSaN",
    "outputId": "b56e00df-080d-4736-8f64-05cb26cfcc4d"
   },
   "outputs": [
    {
     "data": {
      "text/html": [
       "<div>\n",
       "<style scoped>\n",
       "    .dataframe tbody tr th:only-of-type {\n",
       "        vertical-align: middle;\n",
       "    }\n",
       "\n",
       "    .dataframe tbody tr th {\n",
       "        vertical-align: top;\n",
       "    }\n",
       "\n",
       "    .dataframe thead th {\n",
       "        text-align: right;\n",
       "    }\n",
       "</style>\n",
       "<table border=\"1\" class=\"dataframe\">\n",
       "  <thead>\n",
       "    <tr style=\"text-align: right;\">\n",
       "      <th></th>\n",
       "      <th>href</th>\n",
       "      <th>items</th>\n",
       "      <th>limit</th>\n",
       "      <th>next</th>\n",
       "      <th>offset</th>\n",
       "      <th>previous</th>\n",
       "      <th>total</th>\n",
       "    </tr>\n",
       "  </thead>\n",
       "  <tbody>\n",
       "    <tr>\n",
       "      <th>0</th>\n",
       "      <td>https://api.spotify.com/v1/playlists/7KfWEjHxp...</td>\n",
       "      <td>{'added_at': '2020-06-24T18:22:18Z', 'added_by...</td>\n",
       "      <td>100</td>\n",
       "      <td>None</td>\n",
       "      <td>0</td>\n",
       "      <td>None</td>\n",
       "      <td>16</td>\n",
       "    </tr>\n",
       "    <tr>\n",
       "      <th>1</th>\n",
       "      <td>https://api.spotify.com/v1/playlists/7KfWEjHxp...</td>\n",
       "      <td>{'added_at': '2020-06-24T18:22:32Z', 'added_by...</td>\n",
       "      <td>100</td>\n",
       "      <td>None</td>\n",
       "      <td>0</td>\n",
       "      <td>None</td>\n",
       "      <td>16</td>\n",
       "    </tr>\n",
       "    <tr>\n",
       "      <th>2</th>\n",
       "      <td>https://api.spotify.com/v1/playlists/7KfWEjHxp...</td>\n",
       "      <td>{'added_at': '2020-06-24T18:22:50Z', 'added_by...</td>\n",
       "      <td>100</td>\n",
       "      <td>None</td>\n",
       "      <td>0</td>\n",
       "      <td>None</td>\n",
       "      <td>16</td>\n",
       "    </tr>\n",
       "    <tr>\n",
       "      <th>3</th>\n",
       "      <td>https://api.spotify.com/v1/playlists/7KfWEjHxp...</td>\n",
       "      <td>{'added_at': '2020-06-24T18:23:10Z', 'added_by...</td>\n",
       "      <td>100</td>\n",
       "      <td>None</td>\n",
       "      <td>0</td>\n",
       "      <td>None</td>\n",
       "      <td>16</td>\n",
       "    </tr>\n",
       "    <tr>\n",
       "      <th>4</th>\n",
       "      <td>https://api.spotify.com/v1/playlists/7KfWEjHxp...</td>\n",
       "      <td>{'added_at': '2020-06-24T18:23:22Z', 'added_by...</td>\n",
       "      <td>100</td>\n",
       "      <td>None</td>\n",
       "      <td>0</td>\n",
       "      <td>None</td>\n",
       "      <td>16</td>\n",
       "    </tr>\n",
       "    <tr>\n",
       "      <th>5</th>\n",
       "      <td>https://api.spotify.com/v1/playlists/7KfWEjHxp...</td>\n",
       "      <td>{'added_at': '2020-06-24T18:23:38Z', 'added_by...</td>\n",
       "      <td>100</td>\n",
       "      <td>None</td>\n",
       "      <td>0</td>\n",
       "      <td>None</td>\n",
       "      <td>16</td>\n",
       "    </tr>\n",
       "    <tr>\n",
       "      <th>6</th>\n",
       "      <td>https://api.spotify.com/v1/playlists/7KfWEjHxp...</td>\n",
       "      <td>{'added_at': '2020-06-24T18:26:57Z', 'added_by...</td>\n",
       "      <td>100</td>\n",
       "      <td>None</td>\n",
       "      <td>0</td>\n",
       "      <td>None</td>\n",
       "      <td>16</td>\n",
       "    </tr>\n",
       "    <tr>\n",
       "      <th>7</th>\n",
       "      <td>https://api.spotify.com/v1/playlists/7KfWEjHxp...</td>\n",
       "      <td>{'added_at': '2020-06-24T18:31:50Z', 'added_by...</td>\n",
       "      <td>100</td>\n",
       "      <td>None</td>\n",
       "      <td>0</td>\n",
       "      <td>None</td>\n",
       "      <td>16</td>\n",
       "    </tr>\n",
       "    <tr>\n",
       "      <th>8</th>\n",
       "      <td>https://api.spotify.com/v1/playlists/7KfWEjHxp...</td>\n",
       "      <td>{'added_at': '2020-06-24T18:35:09Z', 'added_by...</td>\n",
       "      <td>100</td>\n",
       "      <td>None</td>\n",
       "      <td>0</td>\n",
       "      <td>None</td>\n",
       "      <td>16</td>\n",
       "    </tr>\n",
       "    <tr>\n",
       "      <th>9</th>\n",
       "      <td>https://api.spotify.com/v1/playlists/7KfWEjHxp...</td>\n",
       "      <td>{'added_at': '2020-06-24T18:38:34Z', 'added_by...</td>\n",
       "      <td>100</td>\n",
       "      <td>None</td>\n",
       "      <td>0</td>\n",
       "      <td>None</td>\n",
       "      <td>16</td>\n",
       "    </tr>\n",
       "    <tr>\n",
       "      <th>10</th>\n",
       "      <td>https://api.spotify.com/v1/playlists/7KfWEjHxp...</td>\n",
       "      <td>{'added_at': '2020-06-24T18:39:36Z', 'added_by...</td>\n",
       "      <td>100</td>\n",
       "      <td>None</td>\n",
       "      <td>0</td>\n",
       "      <td>None</td>\n",
       "      <td>16</td>\n",
       "    </tr>\n",
       "    <tr>\n",
       "      <th>11</th>\n",
       "      <td>https://api.spotify.com/v1/playlists/7KfWEjHxp...</td>\n",
       "      <td>{'added_at': '2020-07-15T07:20:04Z', 'added_by...</td>\n",
       "      <td>100</td>\n",
       "      <td>None</td>\n",
       "      <td>0</td>\n",
       "      <td>None</td>\n",
       "      <td>16</td>\n",
       "    </tr>\n",
       "    <tr>\n",
       "      <th>12</th>\n",
       "      <td>https://api.spotify.com/v1/playlists/7KfWEjHxp...</td>\n",
       "      <td>{'added_at': '2020-09-08T00:26:48Z', 'added_by...</td>\n",
       "      <td>100</td>\n",
       "      <td>None</td>\n",
       "      <td>0</td>\n",
       "      <td>None</td>\n",
       "      <td>16</td>\n",
       "    </tr>\n",
       "    <tr>\n",
       "      <th>13</th>\n",
       "      <td>https://api.spotify.com/v1/playlists/7KfWEjHxp...</td>\n",
       "      <td>{'added_at': '2020-10-16T06:39:34Z', 'added_by...</td>\n",
       "      <td>100</td>\n",
       "      <td>None</td>\n",
       "      <td>0</td>\n",
       "      <td>None</td>\n",
       "      <td>16</td>\n",
       "    </tr>\n",
       "    <tr>\n",
       "      <th>14</th>\n",
       "      <td>https://api.spotify.com/v1/playlists/7KfWEjHxp...</td>\n",
       "      <td>{'added_at': '2020-10-16T06:53:54Z', 'added_by...</td>\n",
       "      <td>100</td>\n",
       "      <td>None</td>\n",
       "      <td>0</td>\n",
       "      <td>None</td>\n",
       "      <td>16</td>\n",
       "    </tr>\n",
       "    <tr>\n",
       "      <th>15</th>\n",
       "      <td>https://api.spotify.com/v1/playlists/7KfWEjHxp...</td>\n",
       "      <td>{'added_at': '2020-10-16T07:00:04Z', 'added_by...</td>\n",
       "      <td>100</td>\n",
       "      <td>None</td>\n",
       "      <td>0</td>\n",
       "      <td>None</td>\n",
       "      <td>16</td>\n",
       "    </tr>\n",
       "  </tbody>\n",
       "</table>\n",
       "</div>"
      ],
      "text/plain": [
       "                                                 href  \\\n",
       "0   https://api.spotify.com/v1/playlists/7KfWEjHxp...   \n",
       "1   https://api.spotify.com/v1/playlists/7KfWEjHxp...   \n",
       "2   https://api.spotify.com/v1/playlists/7KfWEjHxp...   \n",
       "3   https://api.spotify.com/v1/playlists/7KfWEjHxp...   \n",
       "4   https://api.spotify.com/v1/playlists/7KfWEjHxp...   \n",
       "5   https://api.spotify.com/v1/playlists/7KfWEjHxp...   \n",
       "6   https://api.spotify.com/v1/playlists/7KfWEjHxp...   \n",
       "7   https://api.spotify.com/v1/playlists/7KfWEjHxp...   \n",
       "8   https://api.spotify.com/v1/playlists/7KfWEjHxp...   \n",
       "9   https://api.spotify.com/v1/playlists/7KfWEjHxp...   \n",
       "10  https://api.spotify.com/v1/playlists/7KfWEjHxp...   \n",
       "11  https://api.spotify.com/v1/playlists/7KfWEjHxp...   \n",
       "12  https://api.spotify.com/v1/playlists/7KfWEjHxp...   \n",
       "13  https://api.spotify.com/v1/playlists/7KfWEjHxp...   \n",
       "14  https://api.spotify.com/v1/playlists/7KfWEjHxp...   \n",
       "15  https://api.spotify.com/v1/playlists/7KfWEjHxp...   \n",
       "\n",
       "                                                items  limit  next  offset  \\\n",
       "0   {'added_at': '2020-06-24T18:22:18Z', 'added_by...    100  None       0   \n",
       "1   {'added_at': '2020-06-24T18:22:32Z', 'added_by...    100  None       0   \n",
       "2   {'added_at': '2020-06-24T18:22:50Z', 'added_by...    100  None       0   \n",
       "3   {'added_at': '2020-06-24T18:23:10Z', 'added_by...    100  None       0   \n",
       "4   {'added_at': '2020-06-24T18:23:22Z', 'added_by...    100  None       0   \n",
       "5   {'added_at': '2020-06-24T18:23:38Z', 'added_by...    100  None       0   \n",
       "6   {'added_at': '2020-06-24T18:26:57Z', 'added_by...    100  None       0   \n",
       "7   {'added_at': '2020-06-24T18:31:50Z', 'added_by...    100  None       0   \n",
       "8   {'added_at': '2020-06-24T18:35:09Z', 'added_by...    100  None       0   \n",
       "9   {'added_at': '2020-06-24T18:38:34Z', 'added_by...    100  None       0   \n",
       "10  {'added_at': '2020-06-24T18:39:36Z', 'added_by...    100  None       0   \n",
       "11  {'added_at': '2020-07-15T07:20:04Z', 'added_by...    100  None       0   \n",
       "12  {'added_at': '2020-09-08T00:26:48Z', 'added_by...    100  None       0   \n",
       "13  {'added_at': '2020-10-16T06:39:34Z', 'added_by...    100  None       0   \n",
       "14  {'added_at': '2020-10-16T06:53:54Z', 'added_by...    100  None       0   \n",
       "15  {'added_at': '2020-10-16T07:00:04Z', 'added_by...    100  None       0   \n",
       "\n",
       "   previous  total  \n",
       "0      None     16  \n",
       "1      None     16  \n",
       "2      None     16  \n",
       "3      None     16  \n",
       "4      None     16  \n",
       "5      None     16  \n",
       "6      None     16  \n",
       "7      None     16  \n",
       "8      None     16  \n",
       "9      None     16  \n",
       "10     None     16  \n",
       "11     None     16  \n",
       "12     None     16  \n",
       "13     None     16  \n",
       "14     None     16  \n",
       "15     None     16  "
      ]
     },
     "execution_count": 5,
     "metadata": {},
     "output_type": "execute_result"
    }
   ],
   "source": [
    "# playlist_tracks(user_id: String, playlist_id: String): json_dict\n",
    "playlist_tracks = pd.DataFrame(sp.user_playlist_tracks(\"sx47r9lq4dwrjx1r0ct9f9m09\", \"7KfWEjHxpcOIkqvDqMW5RV\"))\n",
    "playlist_tracks"
   ]
  },
  {
   "cell_type": "markdown",
   "metadata": {
    "id": "ru1iw5XpvCaD"
   },
   "source": [
    "(J)To combine playlists using some code from notebook C -- function taken from there."
   ]
  },
  {
   "cell_type": "code",
   "execution_count": 6,
   "metadata": {
    "id": "NaqNDlbSvIK8"
   },
   "outputs": [],
   "source": [
    "# This function is created based on Max Hilsdorf's article\n",
    "# Source: https://towardsdatascience.com/how-to-create-large-music-datasets-using-spotipy-40e7242cc6a6\n",
    "def get_audio_features_df(playlist):\n",
    "    \n",
    "    # Create an empty dataframe\n",
    "    playlist_features_list = [\"artist\", \"album\", \"track_name\", \"track_id\",\"danceability\",\"energy\",\"key\",\"loudness\",\"mode\", \"speechiness\",\"instrumentalness\",\"liveness\",\"valence\",\"tempo\", \"duration_ms\",\"time_signature\"]\n",
    "    playlist_df = pd.DataFrame(columns = playlist_features_list)\n",
    "    \n",
    "    # Loop through every track in the playlist, extract features and append the features to the playlist df\n",
    "    for track in playlist[\"items\"]:\n",
    "        # Create empty dict\n",
    "        playlist_features = {}\n",
    "        # Get metadata\n",
    "        playlist_features[\"artist\"] = track[\"track\"][\"album\"][\"artists\"][0][\"name\"]\n",
    "        playlist_features[\"album\"] = track[\"track\"][\"album\"][\"name\"]\n",
    "        playlist_features[\"track_name\"] = track[\"track\"][\"name\"]\n",
    "        playlist_features[\"track_id\"] = track[\"track\"][\"id\"]\n",
    "        \n",
    "        # Get audio features\n",
    "        audio_features = sp.audio_features(playlist_features[\"track_id\"])[0]\n",
    "        for feature in playlist_features_list[4:]:\n",
    "            playlist_features[feature] = audio_features[feature]\n",
    "        \n",
    "        # Concat the DataFrames\n",
    "        track_df = pd.DataFrame(playlist_features, index = [0])\n",
    "        playlist_df = pd.concat([playlist_df, track_df], ignore_index = True)\n",
    "        \n",
    "    return playlist_df"
   ]
  },
  {
   "cell_type": "markdown",
   "metadata": {
    "id": "hFrQyoCAstV1"
   },
   "source": [
    "(J)The question we're asking is that we're looking at two subsections of the playlists given. The first are playlists from the selection of 40 that were chosen as something along the lines of \"songs I recognize/like.\" The second are student generated playlists that claim to belong to a demographic of around early 20s. So, we have a selection of songs that students say they recognize/like, and a selection of songs that students claim that a 20-something would like. Thus, the idea is to analyze the disparity of characteristics of songs we know we like, and think someone of our age group would like.\n",
    "\n",
    "To that effect, I'm making a combined dataframe with info from all songs from playlists consisting of songs students recognized/liked, as well as both separate categories individually. First is the subset of the top 40 playlists. Playlist links below:\n",
    "\n",
    "2hfOGugGPsjfPTYKlZojom\n",
    "07UNN5sIx1dYmAOmLPri3B\n",
    "3cfp7fWCHVXPl6JiBnmkLQ\n",
    "5QxWG2oKSylpTg9qS5rPRr\n",
    "4xV24s6m1s6mPrilnsBqBa\n",
    "1kaDWd90UWUByF4Tu2UPVx\n",
    "5LVjFO57XKpRNV5vzzDmP5\n",
    "0QZa8PuiIKpSRDXFcbc2y2\n"
   ]
  },
  {
   "cell_type": "code",
   "execution_count": 7,
   "metadata": {
    "id": "T5q7XokkspY4"
   },
   "outputs": [],
   "source": [
    "#Combined List\n",
    "playlist_list = []\n",
    "#Subset of top 40 List\n",
    "playlist_40s_list = []\n",
    "playlist_40s_IDS = [\"2hfOGugGPsjfPTYKlZojom\",\n",
    "                              \"07UNN5sIx1dYmAOmLPri3B\",\n",
    "                              \"3cfp7fWCHVXPl6JiBnmkLQ\",\n",
    "                              \"5QxWG2oKSylpTg9qS5rPRr\",\n",
    "                              \"4xV24s6m1s6mPrilnsBqBa\",\n",
    "                              \"1kaDWd90UWUByF4Tu2UPVx\",\n",
    "                              \"5LVjFO57XKpRNV5vzzDmP5\",\n",
    "                              \"0QZa8PuiIKpSRDXFcbc2y2\"]\n",
    "\n",
    "for item in playlist_40s_IDS:\n",
    "  temp_playlist_df = pd.DataFrame(sp.playlist_items(item))\n",
    "  temp_playlist_audio = get_audio_features_df(temp_playlist_df)\n",
    "  temp_playlist_audio[\"playlist_name\"] = sp.playlist(item)[\"name\"]\n",
    "  #Sets new Group column divided into Whattheylike and Thinktheylike which distinguishes both groups in the combined dataframe.\n",
    "  temp_playlist_audio[\"Group\"] = \"Whattheylike\"\n",
    "  playlist_list.append(temp_playlist_audio)\n",
    "  playlist_40s_list.append(temp_playlist_audio)\n",
    "\n",
    "  playlist_top_40s = pd.concat(playlist_40s_list)\n",
    "  playlist_top_40s"
   ]
  },
  {
   "cell_type": "markdown",
   "metadata": {
    "id": "h3JY9xWyszOe"
   },
   "source": [
    "(J)Sets up the playlist for songs we think a 20-something would like, as well as gets a separate combined playlist. Playlist links below:\n",
    "1QaBNtgCIzTDoXMjz3EfDM?si=6b33a7c74e4a450b;\n",
    "7fqBcrxNGMjbwTAeCBTzL6;\n",
    "4kiakE4MVsxanqJHdTJwDU;\n",
    "4NC377bgf15Vwymy1yMR9A;\n",
    "1g44fvkwYsjasjPcy0HGOC;\n",
    "playlist/6Er5rSv7eawUDyK2gzSa47;\n"
   ]
  },
  {
   "cell_type": "code",
   "execution_count": 8,
   "metadata": {
    "colab": {
     "base_uri": "https://localhost:8080/",
     "height": 835
    },
    "id": "QfaH0m2PspcT",
    "outputId": "2e8f2859-58b4-49df-91e7-6f895f653acd"
   },
   "outputs": [
    {
     "data": {
      "text/html": [
       "<div>\n",
       "<style scoped>\n",
       "    .dataframe tbody tr th:only-of-type {\n",
       "        vertical-align: middle;\n",
       "    }\n",
       "\n",
       "    .dataframe tbody tr th {\n",
       "        vertical-align: top;\n",
       "    }\n",
       "\n",
       "    .dataframe thead th {\n",
       "        text-align: right;\n",
       "    }\n",
       "</style>\n",
       "<table border=\"1\" class=\"dataframe\">\n",
       "  <thead>\n",
       "    <tr style=\"text-align: right;\">\n",
       "      <th></th>\n",
       "      <th>artist</th>\n",
       "      <th>album</th>\n",
       "      <th>track_name</th>\n",
       "      <th>track_id</th>\n",
       "      <th>danceability</th>\n",
       "      <th>energy</th>\n",
       "      <th>key</th>\n",
       "      <th>loudness</th>\n",
       "      <th>mode</th>\n",
       "      <th>speechiness</th>\n",
       "      <th>instrumentalness</th>\n",
       "      <th>liveness</th>\n",
       "      <th>valence</th>\n",
       "      <th>tempo</th>\n",
       "      <th>duration_ms</th>\n",
       "      <th>time_signature</th>\n",
       "      <th>playlist_name</th>\n",
       "      <th>Group</th>\n",
       "    </tr>\n",
       "  </thead>\n",
       "  <tbody>\n",
       "    <tr>\n",
       "      <th>0</th>\n",
       "      <td>Aretha Franklin</td>\n",
       "      <td>Respect - The Very Best of</td>\n",
       "      <td>I Say a Little Prayer</td>\n",
       "      <td>0FD8KMG4pHp0O9clTpChjp</td>\n",
       "      <td>0.590</td>\n",
       "      <td>0.3550</td>\n",
       "      <td>9</td>\n",
       "      <td>-14.051</td>\n",
       "      <td>1</td>\n",
       "      <td>0.0352</td>\n",
       "      <td>0</td>\n",
       "      <td>0.0585</td>\n",
       "      <td>0.4990</td>\n",
       "      <td>133.030</td>\n",
       "      <td>216773</td>\n",
       "      <td>4</td>\n",
       "      <td>Most Familiar With</td>\n",
       "      <td>Whattheylike</td>\n",
       "    </tr>\n",
       "    <tr>\n",
       "      <th>1</th>\n",
       "      <td>Ben E. King</td>\n",
       "      <td>Stand By Me</td>\n",
       "      <td>Stand By Me</td>\n",
       "      <td>2KQM3kDM0zMBC9iynePBbS</td>\n",
       "      <td>0.653</td>\n",
       "      <td>0.3340</td>\n",
       "      <td>9</td>\n",
       "      <td>-6.955</td>\n",
       "      <td>1</td>\n",
       "      <td>0.0313</td>\n",
       "      <td>0.000035</td>\n",
       "      <td>0.1230</td>\n",
       "      <td>0.6650</td>\n",
       "      <td>119.460</td>\n",
       "      <td>174253</td>\n",
       "      <td>4</td>\n",
       "      <td>Most Familiar With</td>\n",
       "      <td>Whattheylike</td>\n",
       "    </tr>\n",
       "    <tr>\n",
       "      <th>2</th>\n",
       "      <td>Louis Armstrong</td>\n",
       "      <td>What A Wonderful World</td>\n",
       "      <td>What A Wonderful World</td>\n",
       "      <td>29U7stRjqHU6rMiS8BfaI9</td>\n",
       "      <td>0.271</td>\n",
       "      <td>0.1650</td>\n",
       "      <td>5</td>\n",
       "      <td>-20.652</td>\n",
       "      <td>1</td>\n",
       "      <td>0.0351</td>\n",
       "      <td>0.000002</td>\n",
       "      <td>0.1180</td>\n",
       "      <td>0.2030</td>\n",
       "      <td>77.082</td>\n",
       "      <td>139227</td>\n",
       "      <td>4</td>\n",
       "      <td>Most Familiar With</td>\n",
       "      <td>Whattheylike</td>\n",
       "    </tr>\n",
       "    <tr>\n",
       "      <th>3</th>\n",
       "      <td>Santana</td>\n",
       "      <td>Abraxas</td>\n",
       "      <td>Oye Como Va</td>\n",
       "      <td>5u6y4u5EgDv0peILf60H5t</td>\n",
       "      <td>0.736</td>\n",
       "      <td>0.3790</td>\n",
       "      <td>7</td>\n",
       "      <td>-13.208</td>\n",
       "      <td>1</td>\n",
       "      <td>0.0539</td>\n",
       "      <td>0.345</td>\n",
       "      <td>0.1040</td>\n",
       "      <td>0.9480</td>\n",
       "      <td>128.399</td>\n",
       "      <td>256933</td>\n",
       "      <td>4</td>\n",
       "      <td>Most Familiar With</td>\n",
       "      <td>Whattheylike</td>\n",
       "    </tr>\n",
       "    <tr>\n",
       "      <th>4</th>\n",
       "      <td>The Temptations</td>\n",
       "      <td>The Temptations Sing Smokey</td>\n",
       "      <td>My Girl</td>\n",
       "      <td>745H5CctFr12Mo7cqa1BMH</td>\n",
       "      <td>0.572</td>\n",
       "      <td>0.4180</td>\n",
       "      <td>0</td>\n",
       "      <td>-10.738</td>\n",
       "      <td>1</td>\n",
       "      <td>0.0349</td>\n",
       "      <td>0</td>\n",
       "      <td>0.0961</td>\n",
       "      <td>0.6940</td>\n",
       "      <td>104.566</td>\n",
       "      <td>165000</td>\n",
       "      <td>4</td>\n",
       "      <td>Most Familiar With</td>\n",
       "      <td>Whattheylike</td>\n",
       "    </tr>\n",
       "    <tr>\n",
       "      <th>...</th>\n",
       "      <td>...</td>\n",
       "      <td>...</td>\n",
       "      <td>...</td>\n",
       "      <td>...</td>\n",
       "      <td>...</td>\n",
       "      <td>...</td>\n",
       "      <td>...</td>\n",
       "      <td>...</td>\n",
       "      <td>...</td>\n",
       "      <td>...</td>\n",
       "      <td>...</td>\n",
       "      <td>...</td>\n",
       "      <td>...</td>\n",
       "      <td>...</td>\n",
       "      <td>...</td>\n",
       "      <td>...</td>\n",
       "      <td>...</td>\n",
       "      <td>...</td>\n",
       "    </tr>\n",
       "    <tr>\n",
       "      <th>5</th>\n",
       "      <td>Hélène Grimaud</td>\n",
       "      <td>Chopin / Rachmaninov: Piano Sonatas</td>\n",
       "      <td>Piano Sonata No. 2 in B Flat Minor, Op. 36: II...</td>\n",
       "      <td>79O3P99BRXIOWuARKZXNnT</td>\n",
       "      <td>0.255</td>\n",
       "      <td>0.0496</td>\n",
       "      <td>4</td>\n",
       "      <td>-24.645</td>\n",
       "      <td>0</td>\n",
       "      <td>0.0469</td>\n",
       "      <td>0.869</td>\n",
       "      <td>0.0686</td>\n",
       "      <td>0.0385</td>\n",
       "      <td>72.575</td>\n",
       "      <td>445800</td>\n",
       "      <td>4</td>\n",
       "      <td>your 20s are for losing your mind</td>\n",
       "      <td>Thinktheylike</td>\n",
       "    </tr>\n",
       "    <tr>\n",
       "      <th>6</th>\n",
       "      <td>Fred Astaire</td>\n",
       "      <td>Funny Face (Original Motion Picture Soundtrack...</td>\n",
       "      <td>Basal Metabolism (Based On How Long Has This B...</td>\n",
       "      <td>3jV7xeKd7V5suD6w9qCT2m</td>\n",
       "      <td>0.491</td>\n",
       "      <td>0.4450</td>\n",
       "      <td>4</td>\n",
       "      <td>-10.695</td>\n",
       "      <td>0</td>\n",
       "      <td>0.0740</td>\n",
       "      <td>0.164</td>\n",
       "      <td>0.0694</td>\n",
       "      <td>0.4510</td>\n",
       "      <td>114.497</td>\n",
       "      <td>173960</td>\n",
       "      <td>4</td>\n",
       "      <td>your 20s are for losing your mind</td>\n",
       "      <td>Thinktheylike</td>\n",
       "    </tr>\n",
       "    <tr>\n",
       "      <th>7</th>\n",
       "      <td>Phoebe Bridgers</td>\n",
       "      <td>Stranger in the Alps (Deluxe Edition)</td>\n",
       "      <td>Motion Sickness</td>\n",
       "      <td>25Syi9wnfn6ZGAmiOBypPq</td>\n",
       "      <td>0.651</td>\n",
       "      <td>0.5460</td>\n",
       "      <td>1</td>\n",
       "      <td>-9.021</td>\n",
       "      <td>1</td>\n",
       "      <td>0.0357</td>\n",
       "      <td>0.0437</td>\n",
       "      <td>0.0842</td>\n",
       "      <td>0.6230</td>\n",
       "      <td>107.021</td>\n",
       "      <td>229760</td>\n",
       "      <td>4</td>\n",
       "      <td>your 20s are for losing your mind</td>\n",
       "      <td>Thinktheylike</td>\n",
       "    </tr>\n",
       "    <tr>\n",
       "      <th>8</th>\n",
       "      <td>The Buttertones</td>\n",
       "      <td>Buttertones</td>\n",
       "      <td>Dionysus</td>\n",
       "      <td>7wYU1avLwl1Gtkib8OTrZp</td>\n",
       "      <td>0.331</td>\n",
       "      <td>0.6100</td>\n",
       "      <td>9</td>\n",
       "      <td>-8.138</td>\n",
       "      <td>1</td>\n",
       "      <td>0.0293</td>\n",
       "      <td>0.0548</td>\n",
       "      <td>0.1400</td>\n",
       "      <td>0.5500</td>\n",
       "      <td>132.746</td>\n",
       "      <td>209040</td>\n",
       "      <td>4</td>\n",
       "      <td>your 20s are for losing your mind</td>\n",
       "      <td>Thinktheylike</td>\n",
       "    </tr>\n",
       "    <tr>\n",
       "      <th>9</th>\n",
       "      <td>Brandi Carlile</td>\n",
       "      <td>Bear Creek</td>\n",
       "      <td>Heart's Content</td>\n",
       "      <td>0pegFWSUOTiG0sLVEfxtvA</td>\n",
       "      <td>0.564</td>\n",
       "      <td>0.2090</td>\n",
       "      <td>3</td>\n",
       "      <td>-8.922</td>\n",
       "      <td>1</td>\n",
       "      <td>0.0317</td>\n",
       "      <td>0.00004</td>\n",
       "      <td>0.1070</td>\n",
       "      <td>0.4020</td>\n",
       "      <td>109.024</td>\n",
       "      <td>214667</td>\n",
       "      <td>4</td>\n",
       "      <td>your 20s are for losing your mind</td>\n",
       "      <td>Thinktheylike</td>\n",
       "    </tr>\n",
       "  </tbody>\n",
       "</table>\n",
       "<p>146 rows × 18 columns</p>\n",
       "</div>"
      ],
      "text/plain": [
       "             artist                                              album  \\\n",
       "0   Aretha Franklin                         Respect - The Very Best of   \n",
       "1       Ben E. King                                        Stand By Me   \n",
       "2   Louis Armstrong                             What A Wonderful World   \n",
       "3           Santana                                            Abraxas   \n",
       "4   The Temptations                        The Temptations Sing Smokey   \n",
       "..              ...                                                ...   \n",
       "5    Hélène Grimaud                Chopin / Rachmaninov: Piano Sonatas   \n",
       "6      Fred Astaire  Funny Face (Original Motion Picture Soundtrack...   \n",
       "7   Phoebe Bridgers              Stranger in the Alps (Deluxe Edition)   \n",
       "8   The Buttertones                                        Buttertones   \n",
       "9    Brandi Carlile                                         Bear Creek   \n",
       "\n",
       "                                           track_name                track_id  \\\n",
       "0                               I Say a Little Prayer  0FD8KMG4pHp0O9clTpChjp   \n",
       "1                                         Stand By Me  2KQM3kDM0zMBC9iynePBbS   \n",
       "2                              What A Wonderful World  29U7stRjqHU6rMiS8BfaI9   \n",
       "3                                         Oye Como Va  5u6y4u5EgDv0peILf60H5t   \n",
       "4                                             My Girl  745H5CctFr12Mo7cqa1BMH   \n",
       "..                                                ...                     ...   \n",
       "5   Piano Sonata No. 2 in B Flat Minor, Op. 36: II...  79O3P99BRXIOWuARKZXNnT   \n",
       "6   Basal Metabolism (Based On How Long Has This B...  3jV7xeKd7V5suD6w9qCT2m   \n",
       "7                                     Motion Sickness  25Syi9wnfn6ZGAmiOBypPq   \n",
       "8                                            Dionysus  7wYU1avLwl1Gtkib8OTrZp   \n",
       "9                                     Heart's Content  0pegFWSUOTiG0sLVEfxtvA   \n",
       "\n",
       "    danceability  energy key  loudness mode  speechiness instrumentalness  \\\n",
       "0          0.590  0.3550   9   -14.051    1       0.0352                0   \n",
       "1          0.653  0.3340   9    -6.955    1       0.0313         0.000035   \n",
       "2          0.271  0.1650   5   -20.652    1       0.0351         0.000002   \n",
       "3          0.736  0.3790   7   -13.208    1       0.0539            0.345   \n",
       "4          0.572  0.4180   0   -10.738    1       0.0349                0   \n",
       "..           ...     ...  ..       ...  ...          ...              ...   \n",
       "5          0.255  0.0496   4   -24.645    0       0.0469            0.869   \n",
       "6          0.491  0.4450   4   -10.695    0       0.0740            0.164   \n",
       "7          0.651  0.5460   1    -9.021    1       0.0357           0.0437   \n",
       "8          0.331  0.6100   9    -8.138    1       0.0293           0.0548   \n",
       "9          0.564  0.2090   3    -8.922    1       0.0317          0.00004   \n",
       "\n",
       "    liveness  valence    tempo duration_ms time_signature  \\\n",
       "0     0.0585   0.4990  133.030      216773              4   \n",
       "1     0.1230   0.6650  119.460      174253              4   \n",
       "2     0.1180   0.2030   77.082      139227              4   \n",
       "3     0.1040   0.9480  128.399      256933              4   \n",
       "4     0.0961   0.6940  104.566      165000              4   \n",
       "..       ...      ...      ...         ...            ...   \n",
       "5     0.0686   0.0385   72.575      445800              4   \n",
       "6     0.0694   0.4510  114.497      173960              4   \n",
       "7     0.0842   0.6230  107.021      229760              4   \n",
       "8     0.1400   0.5500  132.746      209040              4   \n",
       "9     0.1070   0.4020  109.024      214667              4   \n",
       "\n",
       "                        playlist_name          Group  \n",
       "0                  Most Familiar With   Whattheylike  \n",
       "1                  Most Familiar With   Whattheylike  \n",
       "2                  Most Familiar With   Whattheylike  \n",
       "3                  Most Familiar With   Whattheylike  \n",
       "4                  Most Familiar With   Whattheylike  \n",
       "..                                ...            ...  \n",
       "5   your 20s are for losing your mind  Thinktheylike  \n",
       "6   your 20s are for losing your mind  Thinktheylike  \n",
       "7   your 20s are for losing your mind  Thinktheylike  \n",
       "8   your 20s are for losing your mind  Thinktheylike  \n",
       "9   your 20s are for losing your mind  Thinktheylike  \n",
       "\n",
       "[146 rows x 18 columns]"
      ]
     },
     "execution_count": 8,
     "metadata": {},
     "output_type": "execute_result"
    }
   ],
   "source": [
    "playlist_20s_list = []\n",
    "playlist_20s_IDS = [\"1QaBNtgCIzTDoXMjz3EfDM\",\n",
    "                    \"7fqBcrxNGMjbwTAeCBTzL6\",\n",
    "                    \"4kiakE4MVsxanqJHdTJwDU\",\n",
    "                    \"4NC377bgf15Vwymy1yMR9A\",\n",
    "                    \"1g44fvkwYsjasjPcy0HGOC\",\n",
    "                    \"6Er5rSv7eawUDyK2gzSa47\"]\n",
    "\n",
    "\n",
    "for item in playlist_20s_IDS:\n",
    "  temp_playlist_df = pd.DataFrame(sp.playlist_items(item))\n",
    "  temp_playlist_audio = get_audio_features_df(temp_playlist_df)\n",
    "  temp_playlist_audio[\"playlist_name\"] = sp.playlist(item)[\"name\"]\n",
    "  temp_playlist_audio[\"Group\"] = \"Thinktheylike\"\n",
    "  playlist_list.append(temp_playlist_audio)\n",
    "  playlist_20s_list.append(temp_playlist_audio)\n",
    "\n",
    "#What we think 20's people would like\n",
    "playlist_20s = pd.concat(playlist_20s_list)\n",
    "\n",
    "#The combined playlist\n",
    "young_people_playlist = pd.concat(playlist_list)\n",
    "young_people_playlist"
   ]
  },
  {
   "cell_type": "markdown",
   "metadata": {
    "id": "1rwjArx7n0_7"
   },
   "source": [
    "(J) Here we started the process of sorting our two datasets by danceability, in the hopes that this would make any graphs we created more legible. \n",
    "In retrospect, wound up not to be useful but we left it here just in case."
   ]
  },
  {
   "cell_type": "code",
   "execution_count": 9,
   "metadata": {
    "colab": {
     "base_uri": "https://localhost:8080/",
     "height": 922
    },
    "id": "BLJgmQV5g3Ro",
    "outputId": "ac6ddc96-120a-4af6-fa7b-c638f9fde579"
   },
   "outputs": [
    {
     "data": {
      "text/html": [
       "<div>\n",
       "<style scoped>\n",
       "    .dataframe tbody tr th:only-of-type {\n",
       "        vertical-align: middle;\n",
       "    }\n",
       "\n",
       "    .dataframe tbody tr th {\n",
       "        vertical-align: top;\n",
       "    }\n",
       "\n",
       "    .dataframe thead th {\n",
       "        text-align: right;\n",
       "    }\n",
       "</style>\n",
       "<table border=\"1\" class=\"dataframe\">\n",
       "  <thead>\n",
       "    <tr style=\"text-align: right;\">\n",
       "      <th></th>\n",
       "      <th>artist</th>\n",
       "      <th>album</th>\n",
       "      <th>track_name</th>\n",
       "      <th>track_id</th>\n",
       "      <th>danceability</th>\n",
       "      <th>energy</th>\n",
       "      <th>key</th>\n",
       "      <th>loudness</th>\n",
       "      <th>mode</th>\n",
       "      <th>speechiness</th>\n",
       "      <th>instrumentalness</th>\n",
       "      <th>liveness</th>\n",
       "      <th>valence</th>\n",
       "      <th>tempo</th>\n",
       "      <th>duration_ms</th>\n",
       "      <th>time_signature</th>\n",
       "      <th>playlist_name</th>\n",
       "      <th>Group</th>\n",
       "    </tr>\n",
       "  </thead>\n",
       "  <tbody>\n",
       "    <tr>\n",
       "      <th>3</th>\n",
       "      <td>Mac Miller</td>\n",
       "      <td>Watching Movies with the Sound Off</td>\n",
       "      <td>Youforia</td>\n",
       "      <td>2dLYzJHP5Zc6xuMNLnhH16</td>\n",
       "      <td>0.146</td>\n",
       "      <td>0.6060</td>\n",
       "      <td>8</td>\n",
       "      <td>-6.305</td>\n",
       "      <td>1</td>\n",
       "      <td>0.0428</td>\n",
       "      <td>0.0</td>\n",
       "      <td>0.1110</td>\n",
       "      <td>0.0920</td>\n",
       "      <td>178.981</td>\n",
       "      <td>237777</td>\n",
       "      <td>3</td>\n",
       "      <td>MUSC255:Lonely_Loner</td>\n",
       "      <td>Thinktheylike</td>\n",
       "    </tr>\n",
       "    <tr>\n",
       "      <th>4</th>\n",
       "      <td>The Smiths</td>\n",
       "      <td>Hatful of Hollow</td>\n",
       "      <td>Please, Please, Please, Let Me Get What I Want...</td>\n",
       "      <td>6BrMEbPSSj55nQhkgf6DnE</td>\n",
       "      <td>0.241</td>\n",
       "      <td>0.4680</td>\n",
       "      <td>2</td>\n",
       "      <td>-9.579</td>\n",
       "      <td>1</td>\n",
       "      <td>0.0272</td>\n",
       "      <td>0.0</td>\n",
       "      <td>0.1610</td>\n",
       "      <td>0.4510</td>\n",
       "      <td>91.581</td>\n",
       "      <td>112707</td>\n",
       "      <td>3</td>\n",
       "      <td>your 20s are for losing your mind</td>\n",
       "      <td>Thinktheylike</td>\n",
       "    </tr>\n",
       "    <tr>\n",
       "      <th>4</th>\n",
       "      <td>Andrew Skeet</td>\n",
       "      <td>The Greatest Video Game Music</td>\n",
       "      <td>Super Mario Galaxy: Gusty Garden Galaxy</td>\n",
       "      <td>05XPxcgHp4I4CFlOhMnskS</td>\n",
       "      <td>0.249</td>\n",
       "      <td>0.3160</td>\n",
       "      <td>1</td>\n",
       "      <td>-14.587</td>\n",
       "      <td>1</td>\n",
       "      <td>0.0368</td>\n",
       "      <td>0.963</td>\n",
       "      <td>0.2940</td>\n",
       "      <td>0.3200</td>\n",
       "      <td>153.897</td>\n",
       "      <td>229777</td>\n",
       "      <td>4</td>\n",
       "      <td>Aidans Shower Playlist</td>\n",
       "      <td>Thinktheylike</td>\n",
       "    </tr>\n",
       "    <tr>\n",
       "      <th>5</th>\n",
       "      <td>Hélène Grimaud</td>\n",
       "      <td>Chopin / Rachmaninov: Piano Sonatas</td>\n",
       "      <td>Piano Sonata No. 2 in B Flat Minor, Op. 36: II...</td>\n",
       "      <td>79O3P99BRXIOWuARKZXNnT</td>\n",
       "      <td>0.255</td>\n",
       "      <td>0.0496</td>\n",
       "      <td>4</td>\n",
       "      <td>-24.645</td>\n",
       "      <td>0</td>\n",
       "      <td>0.0469</td>\n",
       "      <td>0.869</td>\n",
       "      <td>0.0686</td>\n",
       "      <td>0.0385</td>\n",
       "      <td>72.575</td>\n",
       "      <td>445800</td>\n",
       "      <td>4</td>\n",
       "      <td>your 20s are for losing your mind</td>\n",
       "      <td>Thinktheylike</td>\n",
       "    </tr>\n",
       "    <tr>\n",
       "      <th>6</th>\n",
       "      <td>David Bowie</td>\n",
       "      <td>Best of Bowie</td>\n",
       "      <td>Space Oddity - 1999 Remaster</td>\n",
       "      <td>22yy03IdKXGRUFMQX8EfBv</td>\n",
       "      <td>0.310</td>\n",
       "      <td>0.4230</td>\n",
       "      <td>0</td>\n",
       "      <td>-12.902</td>\n",
       "      <td>1</td>\n",
       "      <td>0.0324</td>\n",
       "      <td>0.000013</td>\n",
       "      <td>0.3650</td>\n",
       "      <td>0.4570</td>\n",
       "      <td>136.205</td>\n",
       "      <td>316333</td>\n",
       "      <td>4</td>\n",
       "      <td>POV: You Just Discovered Popular Music Older t...</td>\n",
       "      <td>Thinktheylike</td>\n",
       "    </tr>\n",
       "    <tr>\n",
       "      <th>...</th>\n",
       "      <td>...</td>\n",
       "      <td>...</td>\n",
       "      <td>...</td>\n",
       "      <td>...</td>\n",
       "      <td>...</td>\n",
       "      <td>...</td>\n",
       "      <td>...</td>\n",
       "      <td>...</td>\n",
       "      <td>...</td>\n",
       "      <td>...</td>\n",
       "      <td>...</td>\n",
       "      <td>...</td>\n",
       "      <td>...</td>\n",
       "      <td>...</td>\n",
       "      <td>...</td>\n",
       "      <td>...</td>\n",
       "      <td>...</td>\n",
       "      <td>...</td>\n",
       "    </tr>\n",
       "    <tr>\n",
       "      <th>9</th>\n",
       "      <td>Wilson Pickett</td>\n",
       "      <td>In the Midnight Hour</td>\n",
       "      <td>In the Midnight Hour</td>\n",
       "      <td>4NRQwaks9r58tTDvr4iEyv</td>\n",
       "      <td>0.750</td>\n",
       "      <td>0.4440</td>\n",
       "      <td>4</td>\n",
       "      <td>-8.630</td>\n",
       "      <td>1</td>\n",
       "      <td>0.0403</td>\n",
       "      <td>0.000004</td>\n",
       "      <td>0.1180</td>\n",
       "      <td>0.8490</td>\n",
       "      <td>111.919</td>\n",
       "      <td>157160</td>\n",
       "      <td>4</td>\n",
       "      <td>Nostalgia</td>\n",
       "      <td>Whattheylike</td>\n",
       "    </tr>\n",
       "    <tr>\n",
       "      <th>4</th>\n",
       "      <td>Wilson Pickett</td>\n",
       "      <td>In the Midnight Hour</td>\n",
       "      <td>In the Midnight Hour</td>\n",
       "      <td>4NRQwaks9r58tTDvr4iEyv</td>\n",
       "      <td>0.750</td>\n",
       "      <td>0.4440</td>\n",
       "      <td>4</td>\n",
       "      <td>-8.630</td>\n",
       "      <td>1</td>\n",
       "      <td>0.0403</td>\n",
       "      <td>0.000004</td>\n",
       "      <td>0.1180</td>\n",
       "      <td>0.8490</td>\n",
       "      <td>111.919</td>\n",
       "      <td>157160</td>\n",
       "      <td>4</td>\n",
       "      <td>10 From List of 40</td>\n",
       "      <td>Whattheylike</td>\n",
       "    </tr>\n",
       "    <tr>\n",
       "      <th>9</th>\n",
       "      <td>Wilson Pickett</td>\n",
       "      <td>In the Midnight Hour</td>\n",
       "      <td>In the Midnight Hour</td>\n",
       "      <td>4NRQwaks9r58tTDvr4iEyv</td>\n",
       "      <td>0.750</td>\n",
       "      <td>0.4440</td>\n",
       "      <td>4</td>\n",
       "      <td>-8.630</td>\n",
       "      <td>1</td>\n",
       "      <td>0.0403</td>\n",
       "      <td>0.000004</td>\n",
       "      <td>0.1180</td>\n",
       "      <td>0.8490</td>\n",
       "      <td>111.919</td>\n",
       "      <td>157160</td>\n",
       "      <td>4</td>\n",
       "      <td>Most Familiar With</td>\n",
       "      <td>Whattheylike</td>\n",
       "    </tr>\n",
       "    <tr>\n",
       "      <th>10</th>\n",
       "      <td>Goth Babe</td>\n",
       "      <td>Encinitas</td>\n",
       "      <td>Encinitas</td>\n",
       "      <td>4tO2Ol08xzay6zcfhDKpuN</td>\n",
       "      <td>0.760</td>\n",
       "      <td>0.5770</td>\n",
       "      <td>7</td>\n",
       "      <td>-4.981</td>\n",
       "      <td>1</td>\n",
       "      <td>0.0908</td>\n",
       "      <td>0.00352</td>\n",
       "      <td>0.4450</td>\n",
       "      <td>0.5530</td>\n",
       "      <td>116.020</td>\n",
       "      <td>171724</td>\n",
       "      <td>4</td>\n",
       "      <td>10 From List of 40</td>\n",
       "      <td>Whattheylike</td>\n",
       "    </tr>\n",
       "    <tr>\n",
       "      <th>4</th>\n",
       "      <td>Howlin' Wolf</td>\n",
       "      <td>Howlin' Wolf</td>\n",
       "      <td>Spoonful</td>\n",
       "      <td>7j02rdE5RVtNcNMuLGY5SS</td>\n",
       "      <td>0.821</td>\n",
       "      <td>0.3760</td>\n",
       "      <td>0</td>\n",
       "      <td>-13.622</td>\n",
       "      <td>1</td>\n",
       "      <td>0.0487</td>\n",
       "      <td>0.000014</td>\n",
       "      <td>0.1060</td>\n",
       "      <td>0.8240</td>\n",
       "      <td>119.039</td>\n",
       "      <td>170000</td>\n",
       "      <td>4</td>\n",
       "      <td>List of 40 Selection</td>\n",
       "      <td>Whattheylike</td>\n",
       "    </tr>\n",
       "  </tbody>\n",
       "</table>\n",
       "<p>146 rows × 18 columns</p>\n",
       "</div>"
      ],
      "text/plain": [
       "            artist                                album  \\\n",
       "3       Mac Miller   Watching Movies with the Sound Off   \n",
       "4       The Smiths                     Hatful of Hollow   \n",
       "4     Andrew Skeet        The Greatest Video Game Music   \n",
       "5   Hélène Grimaud  Chopin / Rachmaninov: Piano Sonatas   \n",
       "6      David Bowie                        Best of Bowie   \n",
       "..             ...                                  ...   \n",
       "9   Wilson Pickett                 In the Midnight Hour   \n",
       "4   Wilson Pickett                 In the Midnight Hour   \n",
       "9   Wilson Pickett                 In the Midnight Hour   \n",
       "10       Goth Babe                            Encinitas   \n",
       "4     Howlin' Wolf                         Howlin' Wolf   \n",
       "\n",
       "                                           track_name                track_id  \\\n",
       "3                                            Youforia  2dLYzJHP5Zc6xuMNLnhH16   \n",
       "4   Please, Please, Please, Let Me Get What I Want...  6BrMEbPSSj55nQhkgf6DnE   \n",
       "4             Super Mario Galaxy: Gusty Garden Galaxy  05XPxcgHp4I4CFlOhMnskS   \n",
       "5   Piano Sonata No. 2 in B Flat Minor, Op. 36: II...  79O3P99BRXIOWuARKZXNnT   \n",
       "6                        Space Oddity - 1999 Remaster  22yy03IdKXGRUFMQX8EfBv   \n",
       "..                                                ...                     ...   \n",
       "9                                In the Midnight Hour  4NRQwaks9r58tTDvr4iEyv   \n",
       "4                                In the Midnight Hour  4NRQwaks9r58tTDvr4iEyv   \n",
       "9                                In the Midnight Hour  4NRQwaks9r58tTDvr4iEyv   \n",
       "10                                          Encinitas  4tO2Ol08xzay6zcfhDKpuN   \n",
       "4                                            Spoonful  7j02rdE5RVtNcNMuLGY5SS   \n",
       "\n",
       "    danceability  energy key  loudness mode  speechiness instrumentalness  \\\n",
       "3          0.146  0.6060   8    -6.305    1       0.0428              0.0   \n",
       "4          0.241  0.4680   2    -9.579    1       0.0272              0.0   \n",
       "4          0.249  0.3160   1   -14.587    1       0.0368            0.963   \n",
       "5          0.255  0.0496   4   -24.645    0       0.0469            0.869   \n",
       "6          0.310  0.4230   0   -12.902    1       0.0324         0.000013   \n",
       "..           ...     ...  ..       ...  ...          ...              ...   \n",
       "9          0.750  0.4440   4    -8.630    1       0.0403         0.000004   \n",
       "4          0.750  0.4440   4    -8.630    1       0.0403         0.000004   \n",
       "9          0.750  0.4440   4    -8.630    1       0.0403         0.000004   \n",
       "10         0.760  0.5770   7    -4.981    1       0.0908          0.00352   \n",
       "4          0.821  0.3760   0   -13.622    1       0.0487         0.000014   \n",
       "\n",
       "    liveness  valence    tempo duration_ms time_signature  \\\n",
       "3     0.1110   0.0920  178.981      237777              3   \n",
       "4     0.1610   0.4510   91.581      112707              3   \n",
       "4     0.2940   0.3200  153.897      229777              4   \n",
       "5     0.0686   0.0385   72.575      445800              4   \n",
       "6     0.3650   0.4570  136.205      316333              4   \n",
       "..       ...      ...      ...         ...            ...   \n",
       "9     0.1180   0.8490  111.919      157160              4   \n",
       "4     0.1180   0.8490  111.919      157160              4   \n",
       "9     0.1180   0.8490  111.919      157160              4   \n",
       "10    0.4450   0.5530  116.020      171724              4   \n",
       "4     0.1060   0.8240  119.039      170000              4   \n",
       "\n",
       "                                        playlist_name          Group  \n",
       "3                                MUSC255:Lonely_Loner  Thinktheylike  \n",
       "4                   your 20s are for losing your mind  Thinktheylike  \n",
       "4                              Aidans Shower Playlist  Thinktheylike  \n",
       "5                   your 20s are for losing your mind  Thinktheylike  \n",
       "6   POV: You Just Discovered Popular Music Older t...  Thinktheylike  \n",
       "..                                                ...            ...  \n",
       "9                                           Nostalgia   Whattheylike  \n",
       "4                                  10 From List of 40   Whattheylike  \n",
       "9                                  Most Familiar With   Whattheylike  \n",
       "10                                 10 From List of 40   Whattheylike  \n",
       "4                                List of 40 Selection   Whattheylike  \n",
       "\n",
       "[146 rows x 18 columns]"
      ]
     },
     "execution_count": 9,
     "metadata": {},
     "output_type": "execute_result"
    }
   ],
   "source": [
    "pl_20s_dance = playlist_20s.sort_values(\"danceability\")\n",
    "pl_40s_dance = playlist_top_40s.sort_values(\"danceability\")\n",
    "pl_dance = pd.concat([pl_20s_dance,pl_40s_dance])\n",
    "pl_dance"
   ]
  },
  {
   "cell_type": "markdown",
   "metadata": {
    "id": "Gt-z3M3EoBXg"
   },
   "source": [
    "(N)Next came an actual attempt at graphing. We first tried a simple x-y chart, listing tracks' danceability scores from ascending to descending, but decided that this wasn't the most heplpful way to visualize the data. Instead, we settled on a histogram, with bars colored accoridng to our two datasets. Looking at some of this preliminary charting, it seems like \"thinktheylike\" tracks tend to have higher danceability scores—or at least display a more extreme tail. Perhaps this suggests that our conception of what twenty-somethings like is more extreme than the music they are actially drawn to from a playlist. "
   ]
  },
  {
   "cell_type": "code",
   "execution_count": 10,
   "metadata": {
    "colab": {
     "base_uri": "https://localhost:8080/",
     "height": 368
    },
    "id": "8NRINQCIw9-U",
    "outputId": "194b0fa5-2f74-488c-d1d8-c5efbc259b29"
   },
   "outputs": [
    {
     "data": {
      "text/html": [
       "\n",
       "<div id=\"altair-viz-f999d4edfb63429eb48b7442b5a90925\"></div>\n",
       "<script type=\"text/javascript\">\n",
       "  (function(spec, embedOpt){\n",
       "    let outputDiv = document.currentScript.previousElementSibling;\n",
       "    if (outputDiv.id !== \"altair-viz-f999d4edfb63429eb48b7442b5a90925\") {\n",
       "      outputDiv = document.getElementById(\"altair-viz-f999d4edfb63429eb48b7442b5a90925\");\n",
       "    }\n",
       "    const paths = {\n",
       "      \"vega\": \"https://cdn.jsdelivr.net/npm//vega@5?noext\",\n",
       "      \"vega-lib\": \"https://cdn.jsdelivr.net/npm//vega-lib?noext\",\n",
       "      \"vega-lite\": \"https://cdn.jsdelivr.net/npm//vega-lite@4.8.1?noext\",\n",
       "      \"vega-embed\": \"https://cdn.jsdelivr.net/npm//vega-embed@6?noext\",\n",
       "    };\n",
       "\n",
       "    function loadScript(lib) {\n",
       "      return new Promise(function(resolve, reject) {\n",
       "        var s = document.createElement('script');\n",
       "        s.src = paths[lib];\n",
       "        s.async = true;\n",
       "        s.onload = () => resolve(paths[lib]);\n",
       "        s.onerror = () => reject(`Error loading script: ${paths[lib]}`);\n",
       "        document.getElementsByTagName(\"head\")[0].appendChild(s);\n",
       "      });\n",
       "    }\n",
       "\n",
       "    function showError(err) {\n",
       "      outputDiv.innerHTML = `<div class=\"error\" style=\"color:red;\">${err}</div>`;\n",
       "      throw err;\n",
       "    }\n",
       "\n",
       "    function displayChart(vegaEmbed) {\n",
       "      vegaEmbed(outputDiv, spec, embedOpt)\n",
       "        .catch(err => showError(`Javascript Error: ${err.message}<br>This usually means there's a typo in your chart specification. See the javascript console for the full traceback.`));\n",
       "    }\n",
       "\n",
       "    if(typeof define === \"function\" && define.amd) {\n",
       "      requirejs.config({paths});\n",
       "      require([\"vega-embed\"], displayChart, err => showError(`Error loading script: ${err.message}`));\n",
       "    } else if (typeof vegaEmbed === \"function\") {\n",
       "      displayChart(vegaEmbed);\n",
       "    } else {\n",
       "      loadScript(\"vega\")\n",
       "        .then(() => loadScript(\"vega-lite\"))\n",
       "        .then(() => loadScript(\"vega-embed\"))\n",
       "        .catch(showError)\n",
       "        .then(() => displayChart(vegaEmbed));\n",
       "    }\n",
       "  })({\"config\": {\"view\": {\"continuousWidth\": 400, \"continuousHeight\": 300}}, \"data\": {\"name\": \"data-193956893d17802c10a67178a5e3f6b4\"}, \"mark\": \"bar\", \"encoding\": {\"color\": {\"type\": \"nominal\", \"field\": \"Group\"}, \"tooltip\": [{\"type\": \"nominal\", \"field\": \"artist\"}, {\"type\": \"nominal\", \"field\": \"track_name\"}], \"x\": {\"type\": \"quantitative\", \"bin\": true, \"field\": \"danceability\"}, \"y\": {\"type\": \"quantitative\", \"aggregate\": \"count\"}}, \"width\": 1000, \"$schema\": \"https://vega.github.io/schema/vega-lite/v4.8.1.json\", \"datasets\": {\"data-193956893d17802c10a67178a5e3f6b4\": [{\"artist\": \"Aretha Franklin\", \"album\": \"Respect - The Very Best of\", \"track_name\": \"I Say a Little Prayer\", \"track_id\": \"0FD8KMG4pHp0O9clTpChjp\", \"danceability\": 0.59, \"energy\": 0.355, \"key\": 9, \"loudness\": -14.051, \"mode\": 1, \"speechiness\": 0.0352, \"instrumentalness\": 0, \"liveness\": 0.0585, \"valence\": 0.499, \"tempo\": 133.03, \"duration_ms\": 216773, \"time_signature\": 4, \"playlist_name\": \"Most Familiar With\", \"Group\": \"Whattheylike\"}, {\"artist\": \"Ben E. King\", \"album\": \"Stand By Me\", \"track_name\": \"Stand By Me\", \"track_id\": \"2KQM3kDM0zMBC9iynePBbS\", \"danceability\": 0.653, \"energy\": 0.334, \"key\": 9, \"loudness\": -6.955, \"mode\": 1, \"speechiness\": 0.0313, \"instrumentalness\": 3.47e-05, \"liveness\": 0.123, \"valence\": 0.665, \"tempo\": 119.46, \"duration_ms\": 174253, \"time_signature\": 4, \"playlist_name\": \"Most Familiar With\", \"Group\": \"Whattheylike\"}, {\"artist\": \"Louis Armstrong\", \"album\": \"What A Wonderful World\", \"track_name\": \"What A Wonderful World\", \"track_id\": \"29U7stRjqHU6rMiS8BfaI9\", \"danceability\": 0.271, \"energy\": 0.165, \"key\": 5, \"loudness\": -20.652, \"mode\": 1, \"speechiness\": 0.0351, \"instrumentalness\": 1.6e-06, \"liveness\": 0.118, \"valence\": 0.203, \"tempo\": 77.082, \"duration_ms\": 139227, \"time_signature\": 4, \"playlist_name\": \"Most Familiar With\", \"Group\": \"Whattheylike\"}, {\"artist\": \"Santana\", \"album\": \"Abraxas\", \"track_name\": \"Oye Como Va\", \"track_id\": \"5u6y4u5EgDv0peILf60H5t\", \"danceability\": 0.736, \"energy\": 0.379, \"key\": 7, \"loudness\": -13.208, \"mode\": 1, \"speechiness\": 0.0539, \"instrumentalness\": 0.345, \"liveness\": 0.104, \"valence\": 0.948, \"tempo\": 128.399, \"duration_ms\": 256933, \"time_signature\": 4, \"playlist_name\": \"Most Familiar With\", \"Group\": \"Whattheylike\"}, {\"artist\": \"The Temptations\", \"album\": \"The Temptations Sing Smokey\", \"track_name\": \"My Girl\", \"track_id\": \"745H5CctFr12Mo7cqa1BMH\", \"danceability\": 0.572, \"energy\": 0.418, \"key\": 0, \"loudness\": -10.738, \"mode\": 1, \"speechiness\": 0.0349, \"instrumentalness\": 0, \"liveness\": 0.0961, \"valence\": 0.694, \"tempo\": 104.566, \"duration_ms\": 165000, \"time_signature\": 4, \"playlist_name\": \"Most Familiar With\", \"Group\": \"Whattheylike\"}, {\"artist\": \"Etta James\", \"album\": \"Tell Mama\", \"track_name\": \"I'd Rather Go Blind\", \"track_id\": \"1kPBT8S2wJFNAyBMnGVZgL\", \"danceability\": 0.477, \"energy\": 0.433, \"key\": 11, \"loudness\": -6.473, \"mode\": 0, \"speechiness\": 0.0247, \"instrumentalness\": 0.000195, \"liveness\": 0.151, \"valence\": 0.611, \"tempo\": 82.52, \"duration_ms\": 156653, \"time_signature\": 3, \"playlist_name\": \"Most Familiar With\", \"Group\": \"Whattheylike\"}, {\"artist\": \"Ella Fitzgerald\", \"album\": \"Ella And Basie\", \"track_name\": \"Dream A Little Dream Of Me\", \"track_id\": \"7sO8fLoq7H3er7C24UtLiF\", \"danceability\": 0.283, \"energy\": 0.0738, \"key\": 7, \"loudness\": -23.595, \"mode\": 1, \"speechiness\": 0.0763, \"instrumentalness\": 0, \"liveness\": 0.105, \"valence\": 0.223, \"tempo\": 72.034, \"duration_ms\": 246160, \"time_signature\": 4, \"playlist_name\": \"Most Familiar With\", \"Group\": \"Whattheylike\"}, {\"artist\": \"The Byrds\", \"album\": \"Turn! Turn! Turn!\", \"track_name\": \"Turn! Turn! Turn! (To Everything There Is a Season)\", \"track_id\": \"5qBqBdfTEIWJwAS0Jm2F5R\", \"danceability\": 0.451, \"energy\": 0.818, \"key\": 2, \"loudness\": -8.124, \"mode\": 1, \"speechiness\": 0.0439, \"instrumentalness\": 2.92e-05, \"liveness\": 0.052, \"valence\": 0.755, \"tempo\": 124.532, \"duration_ms\": 229360, \"time_signature\": 4, \"playlist_name\": \"Most Familiar With\", \"Group\": \"Whattheylike\"}, {\"artist\": \"Bill Withers\", \"album\": \"Just As I Am\", \"track_name\": \"Ain't No Sunshine\", \"track_id\": \"1k1Bqnv2R0uJXQN4u6LKYt\", \"danceability\": 0.527, \"energy\": 0.415, \"key\": 4, \"loudness\": -11.451, \"mode\": 0, \"speechiness\": 0.122, \"instrumentalness\": 1.72e-05, \"liveness\": 0.117, \"valence\": 0.515, \"tempo\": 78.169, \"duration_ms\": 125093, \"time_signature\": 4, \"playlist_name\": \"Most Familiar With\", \"Group\": \"Whattheylike\"}, {\"artist\": \"Wilson Pickett\", \"album\": \"In the Midnight Hour\", \"track_name\": \"In the Midnight Hour\", \"track_id\": \"4NRQwaks9r58tTDvr4iEyv\", \"danceability\": 0.75, \"energy\": 0.444, \"key\": 4, \"loudness\": -8.63, \"mode\": 1, \"speechiness\": 0.0403, \"instrumentalness\": 3.69e-06, \"liveness\": 0.118, \"valence\": 0.849, \"tempo\": 111.919, \"duration_ms\": 157160, \"time_signature\": 4, \"playlist_name\": \"Most Familiar With\", \"Group\": \"Whattheylike\"}, {\"artist\": \"Ben E. King\", \"album\": \"Stand By Me\", \"track_name\": \"Stand By Me\", \"track_id\": \"2KQM3kDM0zMBC9iynePBbS\", \"danceability\": 0.653, \"energy\": 0.334, \"key\": 9, \"loudness\": -6.955, \"mode\": 1, \"speechiness\": 0.0313, \"instrumentalness\": 3.47e-05, \"liveness\": 0.123, \"valence\": 0.665, \"tempo\": 119.46, \"duration_ms\": 174253, \"time_signature\": 4, \"playlist_name\": \"Communities Playlist\", \"Group\": \"Whattheylike\"}, {\"artist\": \"Sam Cooke\", \"album\": \"Ain't That Good News\", \"track_name\": \"A Change Is Gonna Come\", \"track_id\": \"0KOE1hat4SIer491XKk4Pa\", \"danceability\": 0.212, \"energy\": 0.383, \"key\": 10, \"loudness\": -10.071, \"mode\": 1, \"speechiness\": 0.0347, \"instrumentalness\": 0.0, \"liveness\": 0.299, \"valence\": 0.452, \"tempo\": 173.79, \"duration_ms\": 191160, \"time_signature\": 3, \"playlist_name\": \"Communities Playlist\", \"Group\": \"Whattheylike\"}, {\"artist\": \"Louis Armstrong\", \"album\": \"What A Wonderful World\", \"track_name\": \"What A Wonderful World\", \"track_id\": \"29U7stRjqHU6rMiS8BfaI9\", \"danceability\": 0.271, \"energy\": 0.165, \"key\": 5, \"loudness\": -20.652, \"mode\": 1, \"speechiness\": 0.0351, \"instrumentalness\": 1.6e-06, \"liveness\": 0.118, \"valence\": 0.203, \"tempo\": 77.082, \"duration_ms\": 139227, \"time_signature\": 4, \"playlist_name\": \"Communities Playlist\", \"Group\": \"Whattheylike\"}, {\"artist\": \"Bill Withers\", \"album\": \"Just As I Am\", \"track_name\": \"Ain't No Sunshine\", \"track_id\": \"1k1Bqnv2R0uJXQN4u6LKYt\", \"danceability\": 0.527, \"energy\": 0.415, \"key\": 4, \"loudness\": -11.451, \"mode\": 0, \"speechiness\": 0.122, \"instrumentalness\": 1.72e-05, \"liveness\": 0.117, \"valence\": 0.515, \"tempo\": 78.169, \"duration_ms\": 125093, \"time_signature\": 4, \"playlist_name\": \"Communities Playlist\", \"Group\": \"Whattheylike\"}, {\"artist\": \"Ray Charles\", \"album\": \"True Genius\", \"track_name\": \"Georgia on My Mind\", \"track_id\": \"6yMGxqKj0218mFR5KqsMRq\", \"danceability\": 0.19, \"energy\": 0.323, \"key\": 7, \"loudness\": -12.405, \"mode\": 1, \"speechiness\": 0.0303, \"instrumentalness\": 2.17e-06, \"liveness\": 0.176, \"valence\": 0.281, \"tempo\": 94.34, \"duration_ms\": 219560, \"time_signature\": 4, \"playlist_name\": \"Communities Playlist\", \"Group\": \"Whattheylike\"}, {\"artist\": \"The Temptations\", \"album\": \"The Temptations Sing Smokey\", \"track_name\": \"My Girl\", \"track_id\": \"745H5CctFr12Mo7cqa1BMH\", \"danceability\": 0.572, \"energy\": 0.418, \"key\": 0, \"loudness\": -10.738, \"mode\": 1, \"speechiness\": 0.0349, \"instrumentalness\": 0.0, \"liveness\": 0.0961, \"valence\": 0.694, \"tempo\": 104.566, \"duration_ms\": 165000, \"time_signature\": 4, \"playlist_name\": \"Communities Playlist\", \"Group\": \"Whattheylike\"}, {\"artist\": \"The Band\", \"album\": \"The Band\", \"track_name\": \"The Night They Drove Old Dixie Down\", \"track_id\": \"2nvcTDmZkRWKNMAL29sLHo\", \"danceability\": 0.505, \"energy\": 0.483, \"key\": 0, \"loudness\": -9.272, \"mode\": 1, \"speechiness\": 0.0334, \"instrumentalness\": 0.0, \"liveness\": 0.222, \"valence\": 0.484, \"tempo\": 125.839, \"duration_ms\": 211787, \"time_signature\": 4, \"playlist_name\": \"Communities Playlist\", \"Group\": \"Whattheylike\"}, {\"artist\": \"Nina Simone\", \"album\": \"Pastel Blues\", \"track_name\": \"Sinnerman\", \"track_id\": \"5xRP5iyVdGglqlY4Vcjhkx\", \"danceability\": 0.436, \"energy\": 0.543, \"key\": 11, \"loudness\": -13.351, \"mode\": 0, \"speechiness\": 0.0962, \"instrumentalness\": 9.35e-06, \"liveness\": 0.0937, \"valence\": 0.663, \"tempo\": 148.282, \"duration_ms\": 622000, \"time_signature\": 4, \"playlist_name\": \"Communities Playlist\", \"Group\": \"Whattheylike\"}, {\"artist\": \"Janis Joplin\", \"album\": \"I Got Dem Ol' Kozmic Blues Again Mama!\", \"track_name\": \"Maybe\", \"track_id\": \"0xGSeBsG4V8Scc5YqpZQ66\", \"danceability\": 0.4, \"energy\": 0.35, \"key\": 8, \"loudness\": -11.401, \"mode\": 1, \"speechiness\": 0.0345, \"instrumentalness\": 0.0397, \"liveness\": 0.103, \"valence\": 0.328, \"tempo\": 83.389, \"duration_ms\": 219133, \"time_signature\": 4, \"playlist_name\": \"Communities Playlist\", \"Group\": \"Whattheylike\"}, {\"artist\": \"Santana\", \"album\": \"Abraxas\", \"track_name\": \"Oye Como Va\", \"track_id\": \"5u6y4u5EgDv0peILf60H5t\", \"danceability\": 0.736, \"energy\": 0.379, \"key\": 7, \"loudness\": -13.208, \"mode\": 1, \"speechiness\": 0.0539, \"instrumentalness\": 0.345, \"liveness\": 0.104, \"valence\": 0.948, \"tempo\": 128.399, \"duration_ms\": 256933, \"time_signature\": 4, \"playlist_name\": \"Communities Playlist\", \"Group\": \"Whattheylike\"}, {\"artist\": \"The Temptations\", \"album\": \"The Temptations Sing Smokey\", \"track_name\": \"My Girl\", \"track_id\": \"745H5CctFr12Mo7cqa1BMH\", \"danceability\": 0.572, \"energy\": 0.418, \"key\": 0, \"loudness\": -10.738, \"mode\": 1, \"speechiness\": 0.0349, \"instrumentalness\": 0, \"liveness\": 0.0961, \"valence\": 0.694, \"tempo\": 104.566, \"duration_ms\": 165000, \"time_signature\": 4, \"playlist_name\": \"10 From List of 40\", \"Group\": \"Whattheylike\"}, {\"artist\": \"Wilson Pickett\", \"album\": \"Hey Jude\", \"track_name\": \"Hey Jude\", \"track_id\": \"1MMp1H2Kib2BCDtdL5nL63\", \"danceability\": 0.561, \"energy\": 0.385, \"key\": 6, \"loudness\": -15.33, \"mode\": 1, \"speechiness\": 0.0323, \"instrumentalness\": 0.000496, \"liveness\": 0.171, \"valence\": 0.664, \"tempo\": 81.599, \"duration_ms\": 247733, \"time_signature\": 4, \"playlist_name\": \"10 From List of 40\", \"Group\": \"Whattheylike\"}, {\"artist\": \"Ray Charles\", \"album\": \"True Genius\", \"track_name\": \"Georgia on My Mind\", \"track_id\": \"6yMGxqKj0218mFR5KqsMRq\", \"danceability\": 0.19, \"energy\": 0.323, \"key\": 7, \"loudness\": -12.405, \"mode\": 1, \"speechiness\": 0.0303, \"instrumentalness\": 2.17e-06, \"liveness\": 0.176, \"valence\": 0.281, \"tempo\": 94.34, \"duration_ms\": 219560, \"time_signature\": 4, \"playlist_name\": \"10 From List of 40\", \"Group\": \"Whattheylike\"}, {\"artist\": \"The Rolling Stones\", \"album\": \"Let It Bleed\", \"track_name\": \"You Can't Always Get What You Want\", \"track_id\": \"6lFZbCc7pn6Lme1NP7qQqQ\", \"danceability\": 0.32, \"energy\": 0.62, \"key\": 0, \"loudness\": -9.686, \"mode\": 1, \"speechiness\": 0.0594, \"instrumentalness\": 6.36e-05, \"liveness\": 0.253, \"valence\": 0.472, \"tempo\": 86.327, \"duration_ms\": 448720, \"time_signature\": 4, \"playlist_name\": \"10 From List of 40\", \"Group\": \"Whattheylike\"}, {\"artist\": \"Wilson Pickett\", \"album\": \"In the Midnight Hour\", \"track_name\": \"In the Midnight Hour\", \"track_id\": \"4NRQwaks9r58tTDvr4iEyv\", \"danceability\": 0.75, \"energy\": 0.444, \"key\": 4, \"loudness\": -8.63, \"mode\": 1, \"speechiness\": 0.0403, \"instrumentalness\": 3.69e-06, \"liveness\": 0.118, \"valence\": 0.849, \"tempo\": 111.919, \"duration_ms\": 157160, \"time_signature\": 4, \"playlist_name\": \"10 From List of 40\", \"Group\": \"Whattheylike\"}, {\"artist\": \"Led Zeppelin\", \"album\": \"Led Zeppelin II (1994 Remaster)\", \"track_name\": \"Ramble On - 1990 Remaster\", \"track_id\": \"3MODES4TNtygekLl146Dxd\", \"danceability\": 0.468, \"energy\": 0.607, \"key\": 9, \"loudness\": -11.367, \"mode\": 1, \"speechiness\": 0.0336, \"instrumentalness\": 0.000852, \"liveness\": 0.225, \"valence\": 0.886, \"tempo\": 98.429, \"duration_ms\": 263333, \"time_signature\": 4, \"playlist_name\": \"10 From List of 40\", \"Group\": \"Whattheylike\"}, {\"artist\": \"Otis Redding\", \"album\": \"Complete & Unbelievable: The Otis Redding Dictionary of Soul\", \"track_name\": \"Try a Little Tenderness\", \"track_id\": \"36AlMHDBFwSsD3FQOy1R81\", \"danceability\": 0.587, \"energy\": 0.133, \"key\": 9, \"loudness\": -15.151, \"mode\": 0, \"speechiness\": 0.0565, \"instrumentalness\": 2.26e-05, \"liveness\": 0.258, \"valence\": 0.068, \"tempo\": 102.938, \"duration_ms\": 201733, \"time_signature\": 4, \"playlist_name\": \"10 From List of 40\", \"Group\": \"Whattheylike\"}, {\"artist\": \"Louis Armstrong\", \"album\": \"What A Wonderful World\", \"track_name\": \"What A Wonderful World\", \"track_id\": \"29U7stRjqHU6rMiS8BfaI9\", \"danceability\": 0.271, \"energy\": 0.165, \"key\": 5, \"loudness\": -20.652, \"mode\": 1, \"speechiness\": 0.0351, \"instrumentalness\": 1.6e-06, \"liveness\": 0.118, \"valence\": 0.203, \"tempo\": 77.082, \"duration_ms\": 139227, \"time_signature\": 4, \"playlist_name\": \"10 From List of 40\", \"Group\": \"Whattheylike\"}, {\"artist\": \"Etta James\", \"album\": \"Tell Mama\", \"track_name\": \"I'd Rather Go Blind\", \"track_id\": \"1kPBT8S2wJFNAyBMnGVZgL\", \"danceability\": 0.477, \"energy\": 0.433, \"key\": 11, \"loudness\": -6.473, \"mode\": 0, \"speechiness\": 0.0247, \"instrumentalness\": 0.000195, \"liveness\": 0.151, \"valence\": 0.611, \"tempo\": 82.52, \"duration_ms\": 156653, \"time_signature\": 3, \"playlist_name\": \"10 From List of 40\", \"Group\": \"Whattheylike\"}, {\"artist\": \"Crosby, Stills & Nash\", \"album\": \"Crosby, Stills & Nash\", \"track_name\": \"Helplessly Hoping - 2005 Remaster\", \"track_id\": \"1UKobFsdqNXQb8OthimCKe\", \"danceability\": 0.483, \"energy\": 0.159, \"key\": 7, \"loudness\": -13.648, \"mode\": 1, \"speechiness\": 0.0353, \"instrumentalness\": 0, \"liveness\": 0.111, \"valence\": 0.423, \"tempo\": 146.721, \"duration_ms\": 157893, \"time_signature\": 4, \"playlist_name\": \"10 From List of 40\", \"Group\": \"Whattheylike\"}, {\"artist\": \"Goth Babe\", \"album\": \"Encinitas\", \"track_name\": \"Encinitas\", \"track_id\": \"4tO2Ol08xzay6zcfhDKpuN\", \"danceability\": 0.76, \"energy\": 0.577, \"key\": 7, \"loudness\": -4.981, \"mode\": 1, \"speechiness\": 0.0908, \"instrumentalness\": 0.00352, \"liveness\": 0.445, \"valence\": 0.553, \"tempo\": 116.02, \"duration_ms\": 171724, \"time_signature\": 4, \"playlist_name\": \"10 From List of 40\", \"Group\": \"Whattheylike\"}, {\"artist\": \"Led Zeppelin\", \"album\": \"Led Zeppelin II (1994 Remaster)\", \"track_name\": \"Ramble On - 1990 Remaster\", \"track_id\": \"3MODES4TNtygekLl146Dxd\", \"danceability\": 0.468, \"energy\": 0.607, \"key\": 9, \"loudness\": -11.367, \"mode\": 1, \"speechiness\": 0.0336, \"instrumentalness\": 0.000852, \"liveness\": 0.225, \"valence\": 0.886, \"tempo\": 98.429, \"duration_ms\": 263333, \"time_signature\": 4, \"playlist_name\": \"list of 40 subset\", \"Group\": \"Whattheylike\"}, {\"artist\": \"Peter, Paul and Mary\", \"album\": \"Album 1700\", \"track_name\": \"Leaving on a Jet Plane\", \"track_id\": \"6ZSTinOwx5dKFYc6iYyGDn\", \"danceability\": 0.414, \"energy\": 0.167, \"key\": 9, \"loudness\": -16.519, \"mode\": 1, \"speechiness\": 0.0484, \"instrumentalness\": 0.0, \"liveness\": 0.117, \"valence\": 0.384, \"tempo\": 133.45, \"duration_ms\": 207240, \"time_signature\": 4, \"playlist_name\": \"list of 40 subset\", \"Group\": \"Whattheylike\"}, {\"artist\": \"The Who\", \"album\": \"Who's Next (Deluxe Edition)\", \"track_name\": \"Behind Blue Eyes\", \"track_id\": \"0cKk8BKEi7zXbdrYdyqBP5\", \"danceability\": 0.394, \"energy\": 0.622, \"key\": 4, \"loudness\": -8.258, \"mode\": 0, \"speechiness\": 0.0336, \"instrumentalness\": 4.45e-05, \"liveness\": 0.0892, \"valence\": 0.342, \"tempo\": 126.844, \"duration_ms\": 221427, \"time_signature\": 4, \"playlist_name\": \"list of 40 subset\", \"Group\": \"Whattheylike\"}, {\"artist\": \"Joe Cocker\", \"album\": \"With A Little Help From My Friends\", \"track_name\": \"With A Little Help From My Friends\", \"track_id\": \"0YZ3J8xzGwLOg4yEgST1YK\", \"danceability\": 0.307, \"energy\": 0.43, \"key\": 2, \"loudness\": -11.333, \"mode\": 1, \"speechiness\": 0.0629, \"instrumentalness\": 0.000994, \"liveness\": 0.0988, \"valence\": 0.305, \"tempo\": 145.224, \"duration_ms\": 312173, \"time_signature\": 3, \"playlist_name\": \"list of 40 subset\", \"Group\": \"Whattheylike\"}, {\"artist\": \"The Rolling Stones\", \"album\": \"Let It Bleed\", \"track_name\": \"You Can't Always Get What You Want\", \"track_id\": \"6lFZbCc7pn6Lme1NP7qQqQ\", \"danceability\": 0.32, \"energy\": 0.62, \"key\": 0, \"loudness\": -9.686, \"mode\": 1, \"speechiness\": 0.0594, \"instrumentalness\": 6.36e-05, \"liveness\": 0.253, \"valence\": 0.472, \"tempo\": 86.327, \"duration_ms\": 448720, \"time_signature\": 4, \"playlist_name\": \"list of 40 subset\", \"Group\": \"Whattheylike\"}, {\"artist\": \"Jimi Hendrix\", \"album\": \"Axis: Bold As Love\", \"track_name\": \"Little Wing\", \"track_id\": \"1Eolhana7nKHYpcYpdVcT5\", \"danceability\": 0.515, \"energy\": 0.534, \"key\": 6, \"loudness\": -8.045, \"mode\": 1, \"speechiness\": 0.0768, \"instrumentalness\": 0.00278, \"liveness\": 0.0547, \"valence\": 0.426, \"tempo\": 70.776, \"duration_ms\": 145747, \"time_signature\": 4, \"playlist_name\": \"list of 40 subset\", \"Group\": \"Whattheylike\"}, {\"artist\": \"Simon & Garfunkel\", \"album\": \"Bookends\", \"track_name\": \"America\", \"track_id\": \"6dfhF1BDGmhM69fnCb6wSC\", \"danceability\": 0.259, \"energy\": 0.241, \"key\": 2, \"loudness\": -15.955, \"mode\": 1, \"speechiness\": 0.042, \"instrumentalness\": 6.62e-06, \"liveness\": 0.0849, \"valence\": 0.275, \"tempo\": 178.453, \"duration_ms\": 215293, \"time_signature\": 3, \"playlist_name\": \"list of 40 subset\", \"Group\": \"Whattheylike\"}, {\"artist\": \"Yusuf / Cat Stevens\", \"album\": \"Tea For The Tillerman (Remastered 2020)\", \"track_name\": \"Wild World\", \"track_id\": \"7mjSHL2Eb0kAwiKbvNNyD9\", \"danceability\": 0.48, \"energy\": 0.542, \"key\": 0, \"loudness\": -8.51, \"mode\": 1, \"speechiness\": 0.0348, \"instrumentalness\": 0.000609, \"liveness\": 0.113, \"valence\": 0.567, \"tempo\": 152.853, \"duration_ms\": 200560, \"time_signature\": 4, \"playlist_name\": \"list of 40 subset\", \"Group\": \"Whattheylike\"}, {\"artist\": \"B.B. King\", \"album\": \"Completely Well\", \"track_name\": \"The Thrill Is Gone\", \"track_id\": \"4NQfrmGs9iQXVQI9IpRhjM\", \"danceability\": 0.547, \"energy\": 0.46, \"key\": 11, \"loudness\": -8.759, \"mode\": 0, \"speechiness\": 0.0256, \"instrumentalness\": 0.442, \"liveness\": 0.0983, \"valence\": 0.543, \"tempo\": 90.768, \"duration_ms\": 324733, \"time_signature\": 4, \"playlist_name\": \"list of 40 subset\", \"Group\": \"Whattheylike\"}, {\"artist\": \"Jimmy Cliff\", \"album\": \"Wonderful World, Beautiful People\", \"track_name\": \"Many Rivers To Cross\", \"track_id\": \"1dZxI6OuzwJ283y3gOU1Kq\", \"danceability\": 0.399, \"energy\": 0.212, \"key\": 5, \"loudness\": -16.03, \"mode\": 1, \"speechiness\": 0.0747, \"instrumentalness\": 0.000434, \"liveness\": 0.116, \"valence\": 0.149, \"tempo\": 137.76, \"duration_ms\": 164067, \"time_signature\": 4, \"playlist_name\": \"list of 40 subset\", \"Group\": \"Whattheylike\"}, {\"artist\": \"Santana\", \"album\": \"Abraxas\", \"track_name\": \"Oye Como Va\", \"track_id\": \"5u6y4u5EgDv0peILf60H5t\", \"danceability\": 0.736, \"energy\": 0.379, \"key\": 7, \"loudness\": -13.208, \"mode\": 1, \"speechiness\": 0.0539, \"instrumentalness\": 0.345, \"liveness\": 0.104, \"valence\": 0.948, \"tempo\": 128.399, \"duration_ms\": 256933, \"time_signature\": 4, \"playlist_name\": \"List of 40 Selection\", \"Group\": \"Whattheylike\"}, {\"artist\": \"Led Zeppelin\", \"album\": \"Led Zeppelin II (1994 Remaster)\", \"track_name\": \"Ramble On - 1990 Remaster\", \"track_id\": \"3MODES4TNtygekLl146Dxd\", \"danceability\": 0.468, \"energy\": 0.607, \"key\": 9, \"loudness\": -11.367, \"mode\": 1, \"speechiness\": 0.0336, \"instrumentalness\": 0.000852, \"liveness\": 0.225, \"valence\": 0.886, \"tempo\": 98.429, \"duration_ms\": 263333, \"time_signature\": 4, \"playlist_name\": \"List of 40 Selection\", \"Group\": \"Whattheylike\"}, {\"artist\": \"Louis Armstrong\", \"album\": \"What A Wonderful World\", \"track_name\": \"What A Wonderful World\", \"track_id\": \"29U7stRjqHU6rMiS8BfaI9\", \"danceability\": 0.271, \"energy\": 0.165, \"key\": 5, \"loudness\": -20.652, \"mode\": 1, \"speechiness\": 0.0351, \"instrumentalness\": 1.6e-06, \"liveness\": 0.118, \"valence\": 0.203, \"tempo\": 77.082, \"duration_ms\": 139227, \"time_signature\": 4, \"playlist_name\": \"List of 40 Selection\", \"Group\": \"Whattheylike\"}, {\"artist\": \"The Rolling Stones\", \"album\": \"Let It Bleed\", \"track_name\": \"You Can't Always Get What You Want\", \"track_id\": \"6lFZbCc7pn6Lme1NP7qQqQ\", \"danceability\": 0.32, \"energy\": 0.62, \"key\": 0, \"loudness\": -9.686, \"mode\": 1, \"speechiness\": 0.0594, \"instrumentalness\": 6.36e-05, \"liveness\": 0.253, \"valence\": 0.472, \"tempo\": 86.327, \"duration_ms\": 448720, \"time_signature\": 4, \"playlist_name\": \"List of 40 Selection\", \"Group\": \"Whattheylike\"}, {\"artist\": \"Howlin' Wolf\", \"album\": \"Howlin' Wolf\", \"track_name\": \"Spoonful\", \"track_id\": \"7j02rdE5RVtNcNMuLGY5SS\", \"danceability\": 0.821, \"energy\": 0.376, \"key\": 0, \"loudness\": -13.622, \"mode\": 1, \"speechiness\": 0.0487, \"instrumentalness\": 1.39e-05, \"liveness\": 0.106, \"valence\": 0.824, \"tempo\": 119.039, \"duration_ms\": 170000, \"time_signature\": 4, \"playlist_name\": \"List of 40 Selection\", \"Group\": \"Whattheylike\"}, {\"artist\": \"Jimi Hendrix\", \"album\": \"Axis: Bold As Love\", \"track_name\": \"Little Wing\", \"track_id\": \"1Eolhana7nKHYpcYpdVcT5\", \"danceability\": 0.515, \"energy\": 0.534, \"key\": 6, \"loudness\": -8.045, \"mode\": 1, \"speechiness\": 0.0768, \"instrumentalness\": 0.00278, \"liveness\": 0.0547, \"valence\": 0.426, \"tempo\": 70.776, \"duration_ms\": 145747, \"time_signature\": 4, \"playlist_name\": \"List of 40 Selection\", \"Group\": \"Whattheylike\"}, {\"artist\": \"Ben E. King\", \"album\": \"Stand By Me\", \"track_name\": \"Stand By Me\", \"track_id\": \"2KQM3kDM0zMBC9iynePBbS\", \"danceability\": 0.653, \"energy\": 0.334, \"key\": 9, \"loudness\": -6.955, \"mode\": 1, \"speechiness\": 0.0313, \"instrumentalness\": 3.47e-05, \"liveness\": 0.123, \"valence\": 0.665, \"tempo\": 119.46, \"duration_ms\": 174253, \"time_signature\": 4, \"playlist_name\": \"List of 40 Selection\", \"Group\": \"Whattheylike\"}, {\"artist\": \"Donovan\", \"album\": \"The Hurdy Gurdy Man\", \"track_name\": \"Hurdy Gurdy Man\", \"track_id\": \"7AL6qzIDHIX7pEUWrzNiIs\", \"danceability\": 0.405, \"energy\": 0.463, \"key\": 0, \"loudness\": -16.167, \"mode\": 1, \"speechiness\": 0.0542, \"instrumentalness\": 0.0442, \"liveness\": 0.392, \"valence\": 0.542, \"tempo\": 79.451, \"duration_ms\": 193467, \"time_signature\": 4, \"playlist_name\": \"List of 40 Selection\", \"Group\": \"Whattheylike\"}, {\"artist\": \"The Byrds\", \"album\": \"Turn! Turn! Turn!\", \"track_name\": \"Turn! Turn! Turn! (To Everything There Is a Season)\", \"track_id\": \"5qBqBdfTEIWJwAS0Jm2F5R\", \"danceability\": 0.451, \"energy\": 0.818, \"key\": 2, \"loudness\": -8.124, \"mode\": 1, \"speechiness\": 0.0439, \"instrumentalness\": 2.92e-05, \"liveness\": 0.052, \"valence\": 0.755, \"tempo\": 124.532, \"duration_ms\": 229360, \"time_signature\": 4, \"playlist_name\": \"List of 40 Selection\", \"Group\": \"Whattheylike\"}, {\"artist\": \"Patsy Cline\", \"album\": \"Sentimentally Yours\", \"track_name\": \"She's Got You - Single Version\", \"track_id\": \"4H1POasJbrLNaQirsIH29e\", \"danceability\": 0.388, \"energy\": 0.143, \"key\": 5, \"loudness\": -17.545, \"mode\": 1, \"speechiness\": 0.0416, \"instrumentalness\": 0.000865, \"liveness\": 0.1, \"valence\": 0.578, \"tempo\": 182.665, \"duration_ms\": 181800, \"time_signature\": 3, \"playlist_name\": \"List of 40 Selection\", \"Group\": \"Whattheylike\"}, {\"artist\": \"Sam Cooke\", \"album\": \"Ain't That Good News\", \"track_name\": \"A Change Is Gonna Come\", \"track_id\": \"0KOE1hat4SIer491XKk4Pa\", \"danceability\": 0.212, \"energy\": 0.383, \"key\": 10, \"loudness\": -10.071, \"mode\": 1, \"speechiness\": 0.0347, \"instrumentalness\": 0, \"liveness\": 0.299, \"valence\": 0.452, \"tempo\": 173.79, \"duration_ms\": 191160, \"time_signature\": 3, \"playlist_name\": \"EM - Subset of 40 List\", \"Group\": \"Whattheylike\"}, {\"artist\": \"Crosby, Stills & Nash\", \"album\": \"Crosby, Stills & Nash\", \"track_name\": \"Helplessly Hoping - 2005 Remaster\", \"track_id\": \"1UKobFsdqNXQb8OthimCKe\", \"danceability\": 0.483, \"energy\": 0.159, \"key\": 7, \"loudness\": -13.648, \"mode\": 1, \"speechiness\": 0.0353, \"instrumentalness\": 0, \"liveness\": 0.111, \"valence\": 0.423, \"tempo\": 146.721, \"duration_ms\": 157893, \"time_signature\": 4, \"playlist_name\": \"EM - Subset of 40 List\", \"Group\": \"Whattheylike\"}, {\"artist\": \"Peter, Paul and Mary\", \"album\": \"Album 1700\", \"track_name\": \"Leaving on a Jet Plane\", \"track_id\": \"6ZSTinOwx5dKFYc6iYyGDn\", \"danceability\": 0.414, \"energy\": 0.167, \"key\": 9, \"loudness\": -16.519, \"mode\": 1, \"speechiness\": 0.0484, \"instrumentalness\": 0, \"liveness\": 0.117, \"valence\": 0.384, \"tempo\": 133.45, \"duration_ms\": 207240, \"time_signature\": 4, \"playlist_name\": \"EM - Subset of 40 List\", \"Group\": \"Whattheylike\"}, {\"artist\": \"Bill Withers\", \"album\": \"Just As I Am\", \"track_name\": \"Ain't No Sunshine\", \"track_id\": \"1k1Bqnv2R0uJXQN4u6LKYt\", \"danceability\": 0.527, \"energy\": 0.415, \"key\": 4, \"loudness\": -11.451, \"mode\": 0, \"speechiness\": 0.122, \"instrumentalness\": 1.72e-05, \"liveness\": 0.117, \"valence\": 0.515, \"tempo\": 78.169, \"duration_ms\": 125093, \"time_signature\": 4, \"playlist_name\": \"EM - Subset of 40 List\", \"Group\": \"Whattheylike\"}, {\"artist\": \"Ray Charles\", \"album\": \"True Genius\", \"track_name\": \"Georgia on My Mind\", \"track_id\": \"6yMGxqKj0218mFR5KqsMRq\", \"danceability\": 0.19, \"energy\": 0.323, \"key\": 7, \"loudness\": -12.405, \"mode\": 1, \"speechiness\": 0.0303, \"instrumentalness\": 2.17e-06, \"liveness\": 0.176, \"valence\": 0.281, \"tempo\": 94.34, \"duration_ms\": 219560, \"time_signature\": 4, \"playlist_name\": \"EM - Subset of 40 List\", \"Group\": \"Whattheylike\"}, {\"artist\": \"The Temptations\", \"album\": \"The Temptations Sing Smokey\", \"track_name\": \"My Girl\", \"track_id\": \"745H5CctFr12Mo7cqa1BMH\", \"danceability\": 0.572, \"energy\": 0.418, \"key\": 0, \"loudness\": -10.738, \"mode\": 1, \"speechiness\": 0.0349, \"instrumentalness\": 0, \"liveness\": 0.0961, \"valence\": 0.694, \"tempo\": 104.566, \"duration_ms\": 165000, \"time_signature\": 4, \"playlist_name\": \"EM - Subset of 40 List\", \"Group\": \"Whattheylike\"}, {\"artist\": \"Aretha Franklin\", \"album\": \"Respect - The Very Best of\", \"track_name\": \"I Say a Little Prayer\", \"track_id\": \"0FD8KMG4pHp0O9clTpChjp\", \"danceability\": 0.59, \"energy\": 0.355, \"key\": 9, \"loudness\": -14.051, \"mode\": 1, \"speechiness\": 0.0352, \"instrumentalness\": 0, \"liveness\": 0.0585, \"valence\": 0.499, \"tempo\": 133.03, \"duration_ms\": 216773, \"time_signature\": 4, \"playlist_name\": \"EM - Subset of 40 List\", \"Group\": \"Whattheylike\"}, {\"artist\": \"Simon & Garfunkel\", \"album\": \"Bookends\", \"track_name\": \"America\", \"track_id\": \"6dfhF1BDGmhM69fnCb6wSC\", \"danceability\": 0.259, \"energy\": 0.241, \"key\": 2, \"loudness\": -15.955, \"mode\": 1, \"speechiness\": 0.042, \"instrumentalness\": 6.62e-06, \"liveness\": 0.0849, \"valence\": 0.275, \"tempo\": 178.453, \"duration_ms\": 215293, \"time_signature\": 3, \"playlist_name\": \"EM - Subset of 40 List\", \"Group\": \"Whattheylike\"}, {\"artist\": \"Otis Redding\", \"album\": \"Complete & Unbelievable: The Otis Redding Dictionary of Soul\", \"track_name\": \"Try a Little Tenderness\", \"track_id\": \"36AlMHDBFwSsD3FQOy1R81\", \"danceability\": 0.587, \"energy\": 0.133, \"key\": 9, \"loudness\": -15.151, \"mode\": 0, \"speechiness\": 0.0565, \"instrumentalness\": 2.26e-05, \"liveness\": 0.258, \"valence\": 0.068, \"tempo\": 102.938, \"duration_ms\": 201733, \"time_signature\": 4, \"playlist_name\": \"EM - Subset of 40 List\", \"Group\": \"Whattheylike\"}, {\"artist\": \"Nina Simone\", \"album\": \"Pastel Blues\", \"track_name\": \"Sinnerman\", \"track_id\": \"5xRP5iyVdGglqlY4Vcjhkx\", \"danceability\": 0.436, \"energy\": 0.543, \"key\": 11, \"loudness\": -13.351, \"mode\": 0, \"speechiness\": 0.0962, \"instrumentalness\": 9.35e-06, \"liveness\": 0.0937, \"valence\": 0.663, \"tempo\": 148.282, \"duration_ms\": 622000, \"time_signature\": 4, \"playlist_name\": \"EM - Subset of 40 List\", \"Group\": \"Whattheylike\"}, {\"artist\": \"The Temptations\", \"album\": \"The Temptations Sing Smokey\", \"track_name\": \"My Girl\", \"track_id\": \"745H5CctFr12Mo7cqa1BMH\", \"danceability\": 0.572, \"energy\": 0.418, \"key\": 0, \"loudness\": -10.738, \"mode\": 1, \"speechiness\": 0.0349, \"instrumentalness\": 0, \"liveness\": 0.0961, \"valence\": 0.694, \"tempo\": 104.566, \"duration_ms\": 165000, \"time_signature\": 4, \"playlist_name\": \"Nostalgia\", \"Group\": \"Whattheylike\"}, {\"artist\": \"Aretha Franklin\", \"album\": \"Respect - The Very Best of\", \"track_name\": \"I Say a Little Prayer\", \"track_id\": \"0FD8KMG4pHp0O9clTpChjp\", \"danceability\": 0.59, \"energy\": 0.355, \"key\": 9, \"loudness\": -14.051, \"mode\": 1, \"speechiness\": 0.0352, \"instrumentalness\": 0, \"liveness\": 0.0585, \"valence\": 0.499, \"tempo\": 133.03, \"duration_ms\": 216773, \"time_signature\": 4, \"playlist_name\": \"Nostalgia\", \"Group\": \"Whattheylike\"}, {\"artist\": \"Sam Cooke\", \"album\": \"Ain't That Good News\", \"track_name\": \"A Change Is Gonna Come\", \"track_id\": \"0KOE1hat4SIer491XKk4Pa\", \"danceability\": 0.212, \"energy\": 0.383, \"key\": 10, \"loudness\": -10.071, \"mode\": 1, \"speechiness\": 0.0347, \"instrumentalness\": 0, \"liveness\": 0.299, \"valence\": 0.452, \"tempo\": 173.79, \"duration_ms\": 191160, \"time_signature\": 3, \"playlist_name\": \"Nostalgia\", \"Group\": \"Whattheylike\"}, {\"artist\": \"Louis Armstrong\", \"album\": \"What A Wonderful World\", \"track_name\": \"What A Wonderful World\", \"track_id\": \"29U7stRjqHU6rMiS8BfaI9\", \"danceability\": 0.271, \"energy\": 0.165, \"key\": 5, \"loudness\": -20.652, \"mode\": 1, \"speechiness\": 0.0351, \"instrumentalness\": 1.6e-06, \"liveness\": 0.118, \"valence\": 0.203, \"tempo\": 77.082, \"duration_ms\": 139227, \"time_signature\": 4, \"playlist_name\": \"Nostalgia\", \"Group\": \"Whattheylike\"}, {\"artist\": \"Frank Sinatra\", \"album\": \"Strangers In The Night (Expanded Edition)\", \"track_name\": \"Strangers In The Night\", \"track_id\": \"74VR3AkGPhbYXnxcOYa16x\", \"danceability\": 0.259, \"energy\": 0.473, \"key\": 5, \"loudness\": -8.275, \"mode\": 1, \"speechiness\": 0.0295, \"instrumentalness\": 0, \"liveness\": 0.201, \"valence\": 0.539, \"tempo\": 90.348, \"duration_ms\": 157867, \"time_signature\": 4, \"playlist_name\": \"Nostalgia\", \"Group\": \"Whattheylike\"}, {\"artist\": \"Ella Fitzgerald\", \"album\": \"Ella And Basie\", \"track_name\": \"Dream A Little Dream Of Me\", \"track_id\": \"7sO8fLoq7H3er7C24UtLiF\", \"danceability\": 0.283, \"energy\": 0.0738, \"key\": 7, \"loudness\": -23.595, \"mode\": 1, \"speechiness\": 0.0763, \"instrumentalness\": 0, \"liveness\": 0.105, \"valence\": 0.223, \"tempo\": 72.034, \"duration_ms\": 246160, \"time_signature\": 4, \"playlist_name\": \"Nostalgia\", \"Group\": \"Whattheylike\"}, {\"artist\": \"Ray Charles\", \"album\": \"True Genius\", \"track_name\": \"Georgia on My Mind\", \"track_id\": \"6yMGxqKj0218mFR5KqsMRq\", \"danceability\": 0.19, \"energy\": 0.323, \"key\": 7, \"loudness\": -12.405, \"mode\": 1, \"speechiness\": 0.0303, \"instrumentalness\": 2.17e-06, \"liveness\": 0.176, \"valence\": 0.281, \"tempo\": 94.34, \"duration_ms\": 219560, \"time_signature\": 4, \"playlist_name\": \"Nostalgia\", \"Group\": \"Whattheylike\"}, {\"artist\": \"Bill Withers\", \"album\": \"Just As I Am\", \"track_name\": \"Ain't No Sunshine\", \"track_id\": \"1k1Bqnv2R0uJXQN4u6LKYt\", \"danceability\": 0.527, \"energy\": 0.415, \"key\": 4, \"loudness\": -11.451, \"mode\": 0, \"speechiness\": 0.122, \"instrumentalness\": 1.72e-05, \"liveness\": 0.117, \"valence\": 0.515, \"tempo\": 78.169, \"duration_ms\": 125093, \"time_signature\": 4, \"playlist_name\": \"Nostalgia\", \"Group\": \"Whattheylike\"}, {\"artist\": \"Santana\", \"album\": \"Abraxas\", \"track_name\": \"Oye Como Va\", \"track_id\": \"5u6y4u5EgDv0peILf60H5t\", \"danceability\": 0.736, \"energy\": 0.379, \"key\": 7, \"loudness\": -13.208, \"mode\": 1, \"speechiness\": 0.0539, \"instrumentalness\": 0.345, \"liveness\": 0.104, \"valence\": 0.948, \"tempo\": 128.399, \"duration_ms\": 256933, \"time_signature\": 4, \"playlist_name\": \"Nostalgia\", \"Group\": \"Whattheylike\"}, {\"artist\": \"Wilson Pickett\", \"album\": \"In the Midnight Hour\", \"track_name\": \"In the Midnight Hour\", \"track_id\": \"4NRQwaks9r58tTDvr4iEyv\", \"danceability\": 0.75, \"energy\": 0.444, \"key\": 4, \"loudness\": -8.63, \"mode\": 1, \"speechiness\": 0.0403, \"instrumentalness\": 3.69e-06, \"liveness\": 0.118, \"valence\": 0.849, \"tempo\": 111.919, \"duration_ms\": 157160, \"time_signature\": 4, \"playlist_name\": \"Nostalgia\", \"Group\": \"Whattheylike\"}, {\"artist\": \"Aretha Franklin\", \"album\": \"Respect - The Very Best of\", \"track_name\": \"I Say a Little Prayer\", \"track_id\": \"0FD8KMG4pHp0O9clTpChjp\", \"danceability\": 0.59, \"energy\": 0.355, \"key\": 9, \"loudness\": -14.051, \"mode\": 1, \"speechiness\": 0.0352, \"instrumentalness\": 0, \"liveness\": 0.0585, \"valence\": 0.499, \"tempo\": 133.03, \"duration_ms\": 216773, \"time_signature\": 4, \"playlist_name\": \"MUSC255: Subset_of_40\", \"Group\": \"Whattheylike\"}, {\"artist\": \"Ben E. King\", \"album\": \"Stand By Me\", \"track_name\": \"Stand By Me\", \"track_id\": \"2KQM3kDM0zMBC9iynePBbS\", \"danceability\": 0.653, \"energy\": 0.334, \"key\": 9, \"loudness\": -6.955, \"mode\": 1, \"speechiness\": 0.0313, \"instrumentalness\": 3.47e-05, \"liveness\": 0.123, \"valence\": 0.665, \"tempo\": 119.46, \"duration_ms\": 174253, \"time_signature\": 4, \"playlist_name\": \"MUSC255: Subset_of_40\", \"Group\": \"Whattheylike\"}, {\"artist\": \"Jimi Hendrix\", \"album\": \"Axis: Bold As Love\", \"track_name\": \"Little Wing\", \"track_id\": \"1Eolhana7nKHYpcYpdVcT5\", \"danceability\": 0.515, \"energy\": 0.534, \"key\": 6, \"loudness\": -8.045, \"mode\": 1, \"speechiness\": 0.0768, \"instrumentalness\": 0.00278, \"liveness\": 0.0547, \"valence\": 0.426, \"tempo\": 70.776, \"duration_ms\": 145747, \"time_signature\": 4, \"playlist_name\": \"MUSC255: Subset_of_40\", \"Group\": \"Whattheylike\"}, {\"artist\": \"Simon & Garfunkel\", \"album\": \"Bookends\", \"track_name\": \"America\", \"track_id\": \"6dfhF1BDGmhM69fnCb6wSC\", \"danceability\": 0.259, \"energy\": 0.241, \"key\": 2, \"loudness\": -15.955, \"mode\": 1, \"speechiness\": 0.042, \"instrumentalness\": 6.62e-06, \"liveness\": 0.0849, \"valence\": 0.275, \"tempo\": 178.453, \"duration_ms\": 215293, \"time_signature\": 3, \"playlist_name\": \"MUSC255: Subset_of_40\", \"Group\": \"Whattheylike\"}, {\"artist\": \"Leonard Cohen\", \"album\": \"Songs From A Room\", \"track_name\": \"Bird on the Wire\", \"track_id\": \"3M0QK0bYdiGMu6JNoPk8YG\", \"danceability\": 0.402, \"energy\": 0.114, \"key\": 9, \"loudness\": -15.691, \"mode\": 1, \"speechiness\": 0.0321, \"instrumentalness\": 0.0024, \"liveness\": 0.318, \"valence\": 0.191, \"tempo\": 128.332, \"duration_ms\": 206373, \"time_signature\": 3, \"playlist_name\": \"MUSC255: Subset_of_40\", \"Group\": \"Whattheylike\"}, {\"artist\": \"Jefferson Airplane\", \"album\": \"Surrealistic Pillow\", \"track_name\": \"White Rabbit\", \"track_id\": \"4vpeKl0vMGdAXpZiQB2Dtd\", \"danceability\": 0.551, \"energy\": 0.293, \"key\": 2, \"loudness\": -12.503, \"mode\": 1, \"speechiness\": 0.0272, \"instrumentalness\": 0.000273, \"liveness\": 0.0864, \"valence\": 0.322, \"tempo\": 106.798, \"duration_ms\": 150640, \"time_signature\": 4, \"playlist_name\": \"MUSC255: Subset_of_40\", \"Group\": \"Whattheylike\"}, {\"artist\": \"Otis Redding\", \"album\": \"Complete & Unbelievable: The Otis Redding Dictionary of Soul\", \"track_name\": \"Try a Little Tenderness\", \"track_id\": \"36AlMHDBFwSsD3FQOy1R81\", \"danceability\": 0.587, \"energy\": 0.133, \"key\": 9, \"loudness\": -15.151, \"mode\": 0, \"speechiness\": 0.0565, \"instrumentalness\": 2.26e-05, \"liveness\": 0.258, \"valence\": 0.068, \"tempo\": 102.938, \"duration_ms\": 201733, \"time_signature\": 4, \"playlist_name\": \"MUSC255: Subset_of_40\", \"Group\": \"Whattheylike\"}, {\"artist\": \"Nina Simone\", \"album\": \"Pastel Blues\", \"track_name\": \"Sinnerman\", \"track_id\": \"5xRP5iyVdGglqlY4Vcjhkx\", \"danceability\": 0.436, \"energy\": 0.543, \"key\": 11, \"loudness\": -13.351, \"mode\": 0, \"speechiness\": 0.0962, \"instrumentalness\": 9.35e-06, \"liveness\": 0.0937, \"valence\": 0.663, \"tempo\": 148.282, \"duration_ms\": 622000, \"time_signature\": 4, \"playlist_name\": \"MUSC255: Subset_of_40\", \"Group\": \"Whattheylike\"}, {\"artist\": \"Louis Armstrong\", \"album\": \"What A Wonderful World\", \"track_name\": \"What A Wonderful World\", \"track_id\": \"29U7stRjqHU6rMiS8BfaI9\", \"danceability\": 0.271, \"energy\": 0.165, \"key\": 5, \"loudness\": -20.652, \"mode\": 1, \"speechiness\": 0.0351, \"instrumentalness\": 1.6e-06, \"liveness\": 0.118, \"valence\": 0.203, \"tempo\": 77.082, \"duration_ms\": 139227, \"time_signature\": 4, \"playlist_name\": \"MUSC255: Subset_of_40\", \"Group\": \"Whattheylike\"}, {\"artist\": \"Ella Fitzgerald\", \"album\": \"Ella And Basie\", \"track_name\": \"Dream A Little Dream Of Me\", \"track_id\": \"7sO8fLoq7H3er7C24UtLiF\", \"danceability\": 0.283, \"energy\": 0.0738, \"key\": 7, \"loudness\": -23.595, \"mode\": 1, \"speechiness\": 0.0763, \"instrumentalness\": 0, \"liveness\": 0.105, \"valence\": 0.223, \"tempo\": 72.034, \"duration_ms\": 246160, \"time_signature\": 4, \"playlist_name\": \"MUSC255: Subset_of_40\", \"Group\": \"Whattheylike\"}, {\"artist\": \"Post Malone\", \"album\": \"Stoney (Deluxe)\", \"track_name\": \"Feeling Whitney\", \"track_id\": \"35r28RDot7nPE7y9K9H7l0\", \"danceability\": 0.412, \"energy\": 0.227, \"key\": 0, \"loudness\": -12.696, \"mode\": 1, \"speechiness\": 0.0359, \"instrumentalness\": 4.69e-06, \"liveness\": 0.282, \"valence\": 0.226, \"tempo\": 80.111, \"duration_ms\": 257267, \"time_signature\": 4, \"playlist_name\": \"MUSC255:Lonely_Loner\", \"Group\": \"Thinktheylike\"}, {\"artist\": \"Kendrick Lamar\", \"album\": \"DAMN.\", \"track_name\": \"LOVE. FEAT. ZACARI.\", \"track_id\": \"6PGoSes0D9eUDeeAafB2As\", \"danceability\": 0.8, \"energy\": 0.585, \"key\": 10, \"loudness\": -7.343, \"mode\": 1, \"speechiness\": 0.0924, \"instrumentalness\": 0.0, \"liveness\": 0.153, \"valence\": 0.779, \"tempo\": 126.058, \"duration_ms\": 213400, \"time_signature\": 4, \"playlist_name\": \"MUSC255:Lonely_Loner\", \"Group\": \"Thinktheylike\"}, {\"artist\": \"Frank Ocean\", \"album\": \"channel ORANGE\", \"track_name\": \"Lost\", \"track_id\": \"3GZD6HmiNUhxXYf8Gch723\", \"danceability\": 0.913, \"energy\": 0.603, \"key\": 8, \"loudness\": -4.892, \"mode\": 1, \"speechiness\": 0.226, \"instrumentalness\": 0.000503, \"liveness\": 0.167, \"valence\": 0.497, \"tempo\": 123.061, \"duration_ms\": 234093, \"time_signature\": 4, \"playlist_name\": \"MUSC255:Lonely_Loner\", \"Group\": \"Thinktheylike\"}, {\"artist\": \"Mac Miller\", \"album\": \"Watching Movies with the Sound Off\", \"track_name\": \"Youforia\", \"track_id\": \"2dLYzJHP5Zc6xuMNLnhH16\", \"danceability\": 0.146, \"energy\": 0.606, \"key\": 8, \"loudness\": -6.305, \"mode\": 1, \"speechiness\": 0.0428, \"instrumentalness\": 0.0, \"liveness\": 0.111, \"valence\": 0.092, \"tempo\": 178.981, \"duration_ms\": 237777, \"time_signature\": 3, \"playlist_name\": \"MUSC255:Lonely_Loner\", \"Group\": \"Thinktheylike\"}, {\"artist\": \"TSUKI\", \"album\": \"I Knew You so Well (feat. Shiloh Dynasty)\", \"track_name\": \"I Knew You so Well (feat. Shiloh Dynasty)\", \"track_id\": \"4Ey5V66mJkAWBsDr70kBvG\", \"danceability\": 0.857, \"energy\": 0.397, \"key\": 5, \"loudness\": -10.078, \"mode\": 0, \"speechiness\": 0.333, \"instrumentalness\": 0.58, \"liveness\": 0.934, \"valence\": 0.443, \"tempo\": 85.002, \"duration_ms\": 153177, \"time_signature\": 4, \"playlist_name\": \"MUSC255:Lonely_Loner\", \"Group\": \"Thinktheylike\"}, {\"artist\": \"me7k\", \"album\": \"Is It Too Much to Ask For\", \"track_name\": \"Is It Too Much to Ask For\", \"track_id\": \"5KPSKv02jtAsI7fmpT7enC\", \"danceability\": 0.901, \"energy\": 0.467, \"key\": 10, \"loudness\": -9.142, \"mode\": 1, \"speechiness\": 0.0586, \"instrumentalness\": 0.0153, \"liveness\": 0.105, \"valence\": 0.58, \"tempo\": 105.586, \"duration_ms\": 100587, \"time_signature\": 4, \"playlist_name\": \"MUSC255:Lonely_Loner\", \"Group\": \"Thinktheylike\"}, {\"artist\": \"Drake\", \"album\": \"Take Care (Deluxe)\", \"track_name\": \"Marvins Room\", \"track_id\": \"047fCsbO4NdmwCBn8pcUXl\", \"danceability\": 0.492, \"energy\": 0.26, \"key\": 9, \"loudness\": -17.341, \"mode\": 0, \"speechiness\": 0.0921, \"instrumentalness\": 0.00178, \"liveness\": 0.0705, \"valence\": 0.312, \"tempo\": 111.519, \"duration_ms\": 347227, \"time_signature\": 5, \"playlist_name\": \"MUSC255:Lonely_Loner\", \"Group\": \"Thinktheylike\"}, {\"artist\": \"J. Cole\", \"album\": \"2014 Forest Hills Drive\", \"track_name\": \"Hello\", \"track_id\": \"30Chv2SmIry70YwtmtaKnj\", \"danceability\": 0.598, \"energy\": 0.7, \"key\": 9, \"loudness\": -8.565, \"mode\": 0, \"speechiness\": 0.22, \"instrumentalness\": 1.13e-05, \"liveness\": 0.106, \"valence\": 0.329, \"tempo\": 159.899, \"duration_ms\": 219173, \"time_signature\": 4, \"playlist_name\": \"MUSC255:Lonely_Loner\", \"Group\": \"Thinktheylike\"}, {\"artist\": \"Billie Eilish\", \"album\": \"dont smile at me\", \"track_name\": \"idontwannabeyouanymore\", \"track_id\": \"41zXlQxzTi6cGAjpOXyLYH\", \"danceability\": 0.483, \"energy\": 0.412, \"key\": 7, \"loudness\": -8.461, \"mode\": 1, \"speechiness\": 0.0402, \"instrumentalness\": 0.0, \"liveness\": 0.116, \"valence\": 0.247, \"tempo\": 170.163, \"duration_ms\": 203569, \"time_signature\": 3, \"playlist_name\": \"MUSC255:Lonely_Loner\", \"Group\": \"Thinktheylike\"}, {\"artist\": \"Chance the Rapper\", \"album\": \"Coloring Book\", \"track_name\": \"Same Drugs\", \"track_id\": \"6m9qPYXmhge2QhBLfFKnVF\", \"danceability\": 0.461, \"energy\": 0.293, \"key\": 6, \"loudness\": -9.52, \"mode\": 1, \"speechiness\": 0.0555, \"instrumentalness\": 9.95e-06, \"liveness\": 0.0936, \"valence\": 0.531, \"tempo\": 180.297, \"duration_ms\": 257775, \"time_signature\": 4, \"playlist_name\": \"MUSC255:Lonely_Loner\", \"Group\": \"Thinktheylike\"}, {\"artist\": \"Goth Babe\", \"album\": \"Encinitas\", \"track_name\": \"Encinitas\", \"track_id\": \"4tO2Ol08xzay6zcfhDKpuN\", \"danceability\": 0.76, \"energy\": 0.577, \"key\": 7, \"loudness\": -4.981, \"mode\": 1, \"speechiness\": 0.0908, \"instrumentalness\": 0.00352, \"liveness\": 0.445, \"valence\": 0.553, \"tempo\": 116.02, \"duration_ms\": 171724, \"time_signature\": 4, \"playlist_name\": \"My Summer Playlist\", \"Group\": \"Thinktheylike\"}, {\"artist\": \"Steve Lacy\", \"album\": \"Gemini Rights\", \"track_name\": \"Bad Habit\", \"track_id\": \"4k6Uh1HXdhtusDW5y8Gbvy\", \"danceability\": 0.686, \"energy\": 0.494, \"key\": 1, \"loudness\": -7.093, \"mode\": 1, \"speechiness\": 0.0355, \"instrumentalness\": 5.8e-05, \"liveness\": 0.402, \"valence\": 0.7, \"tempo\": 168.946, \"duration_ms\": 232067, \"time_signature\": 4, \"playlist_name\": \"My Summer Playlist\", \"Group\": \"Thinktheylike\"}, {\"artist\": \"Dominic Fike\", \"album\": \"What Could Possibly Go Wrong\", \"track_name\": \"Wurli\", \"track_id\": \"5MSshyHGM9ajWSEoBcR0jv\", \"danceability\": 0.482, \"energy\": 0.837, \"key\": 11, \"loudness\": -3.696, \"mode\": 1, \"speechiness\": 0.0639, \"instrumentalness\": 0.0216, \"liveness\": 0.132, \"valence\": 0.0787, \"tempo\": 91.968, \"duration_ms\": 150620, \"time_signature\": 4, \"playlist_name\": \"My Summer Playlist\", \"Group\": \"Thinktheylike\"}, {\"artist\": \"Remi Wolf\", \"album\": \"We Love Dogs!\", \"track_name\": \"Photo ID (with Dominic Fike)\", \"track_id\": \"1F35Dmog9pekyCVnH1eQpl\", \"danceability\": 0.75, \"energy\": 0.829, \"key\": 1, \"loudness\": -4.942, \"mode\": 1, \"speechiness\": 0.0915, \"instrumentalness\": 0.0, \"liveness\": 0.279, \"valence\": 0.87, \"tempo\": 115.894, \"duration_ms\": 209971, \"time_signature\": 4, \"playlist_name\": \"My Summer Playlist\", \"Group\": \"Thinktheylike\"}, {\"artist\": \"Nicky Youre\", \"album\": \"Sunroof\", \"track_name\": \"Sunroof\", \"track_id\": \"3RfTeIrWS8LNrfHYwechtt\", \"danceability\": 0.768, \"energy\": 0.716, \"key\": 10, \"loudness\": -5.11, \"mode\": 1, \"speechiness\": 0.0404, \"instrumentalness\": 0.0, \"liveness\": 0.15, \"valence\": 0.841, \"tempo\": 131.43, \"duration_ms\": 163026, \"time_signature\": 4, \"playlist_name\": \"My Summer Playlist\", \"Group\": \"Thinktheylike\"}, {\"artist\": \"Glass Animals\", \"album\": \"Dreamland\", \"track_name\": \"Tangerine\", \"track_id\": \"40rOlDoGejXXF4B0BYsjx8\", \"danceability\": 0.845, \"energy\": 0.583, \"key\": 9, \"loudness\": -5.948, \"mode\": 0, \"speechiness\": 0.0773, \"instrumentalness\": 0.000536, \"liveness\": 0.1, \"valence\": 0.842, \"tempo\": 149.941, \"duration_ms\": 200584, \"time_signature\": 4, \"playlist_name\": \"My Summer Playlist\", \"Group\": \"Thinktheylike\"}, {\"artist\": \"The Griswolds\", \"album\": \"Nice to Meet Ya!\", \"track_name\": \"Nice to Meet Ya!\", \"track_id\": \"0llZHj92zlvNoX8pvhdguD\", \"danceability\": 0.547, \"energy\": 0.865, \"key\": 10, \"loudness\": -5.377, \"mode\": 0, \"speechiness\": 0.0761, \"instrumentalness\": 0.00361, \"liveness\": 0.0721, \"valence\": 0.855, \"tempo\": 164.886, \"duration_ms\": 171401, \"time_signature\": 4, \"playlist_name\": \"My Summer Playlist\", \"Group\": \"Thinktheylike\"}, {\"artist\": \"Glass Animals\", \"album\": \"How To Be A Human Being\", \"track_name\": \"Youth\", \"track_id\": \"1LPGwuFgIzbJoShfDdw7MY\", \"danceability\": 0.648, \"energy\": 0.718, \"key\": 9, \"loudness\": -7.765, \"mode\": 0, \"speechiness\": 0.0298, \"instrumentalness\": 0.00156, \"liveness\": 0.112, \"valence\": 0.785, \"tempo\": 96.017, \"duration_ms\": 230693, \"time_signature\": 4, \"playlist_name\": \"My Summer Playlist\", \"Group\": \"Thinktheylike\"}, {\"artist\": \"Goth Babe\", \"album\": \"I Wanna Help Your Mind\", \"track_name\": \"I Wanna Help Your Mind\", \"track_id\": \"08ZZ7SILfKcreLtA3K6Gqr\", \"danceability\": 0.747, \"energy\": 0.725, \"key\": 8, \"loudness\": -8.517, \"mode\": 1, \"speechiness\": 0.215, \"instrumentalness\": 0.197, \"liveness\": 0.0688, \"valence\": 0.799, \"tempo\": 119.942, \"duration_ms\": 171938, \"time_signature\": 4, \"playlist_name\": \"My Summer Playlist\", \"Group\": \"Thinktheylike\"}, {\"artist\": \"Dominic Fike\", \"album\": \"What Could Possibly Go Wrong\", \"track_name\": \"Double Negative (Skeleton Milkshake)\", \"track_id\": \"7ACT6YaXbYvl7hRWEOOEHQ\", \"danceability\": 0.689, \"energy\": 0.858, \"key\": 4, \"loudness\": -2.868, \"mode\": 1, \"speechiness\": 0.161, \"instrumentalness\": 0.0, \"liveness\": 0.129, \"valence\": 0.643, \"tempo\": 153.977, \"duration_ms\": 126465, \"time_signature\": 4, \"playlist_name\": \"My Summer Playlist\", \"Group\": \"Thinktheylike\"}, {\"artist\": \"\\u30a2\\u30c8\\u30e9\\u30b9\\u30b5\\u30a6\\u30f3\\u30c9\\u30c1\\u30fc\\u30e0\", \"album\": \"PERSONA5 ORIGINAL SOUNDTRACK\", \"track_name\": \"Beneath the Mask\", \"track_id\": \"5XLXrm5JVMdOus1fWmTOFw\", \"danceability\": 0.717, \"energy\": 0.466, \"key\": 5, \"loudness\": -12.434, \"mode\": 1, \"speechiness\": 0.0259, \"instrumentalness\": 0.105, \"liveness\": 0.161, \"valence\": 0.644, \"tempo\": 147.966, \"duration_ms\": 277880, \"time_signature\": 4, \"playlist_name\": \"Aidans Shower Playlist\", \"Group\": \"Thinktheylike\"}, {\"artist\": \"DS Music\", \"album\": \"Aria of the Soul (From \\\"Persona 5\\\")\", \"track_name\": \"Aria of the Soul (From \\\"Persona 5\\\")\", \"track_id\": \"6Et51Jb2Jj8Fg9FVwdlzEx\", \"danceability\": 0.398, \"energy\": 0.224, \"key\": 2, \"loudness\": -12.949, \"mode\": 1, \"speechiness\": 0.0622, \"instrumentalness\": 0.919, \"liveness\": 0.106, \"valence\": 0.114, \"tempo\": 98.783, \"duration_ms\": 170899, \"time_signature\": 4, \"playlist_name\": \"Aidans Shower Playlist\", \"Group\": \"Thinktheylike\"}, {\"artist\": \"Streaming Music Studios\", \"album\": \"The Legend of Zelda: Breath of the Wild - A Piano Collection\", \"track_name\": \"Kass's Theme (From \\\"The Legend of Zelda: Breath of the Wild\\\") [Piano Version]\", \"track_id\": \"4GbeaulUGgkDkuCZJ95CLE\", \"danceability\": 0.584, \"energy\": 0.17, \"key\": 9, \"loudness\": -20.902, \"mode\": 0, \"speechiness\": 0.0641, \"instrumentalness\": 0.858, \"liveness\": 0.106, \"valence\": 0.338, \"tempo\": 169.748, \"duration_ms\": 60831, \"time_signature\": 3, \"playlist_name\": \"Aidans Shower Playlist\", \"Group\": \"Thinktheylike\"}, {\"artist\": \"The Marcus Hedges Trend Orchestra\", \"album\": \"The Wind Waker Orchestrated\", \"track_name\": \"The Great Sea\", \"track_id\": \"1D644kNnetS59dp2wUoVMl\", \"danceability\": 0.373, \"energy\": 0.442, \"key\": 2, \"loudness\": -11.403, \"mode\": 1, \"speechiness\": 0.0331, \"instrumentalness\": 0.847, \"liveness\": 0.331, \"valence\": 0.351, \"tempo\": 139.895, \"duration_ms\": 227861, \"time_signature\": 4, \"playlist_name\": \"Aidans Shower Playlist\", \"Group\": \"Thinktheylike\"}, {\"artist\": \"Andrew Skeet\", \"album\": \"The Greatest Video Game Music\", \"track_name\": \"Super Mario Galaxy: Gusty Garden Galaxy\", \"track_id\": \"05XPxcgHp4I4CFlOhMnskS\", \"danceability\": 0.249, \"energy\": 0.316, \"key\": 1, \"loudness\": -14.587, \"mode\": 1, \"speechiness\": 0.0368, \"instrumentalness\": 0.963, \"liveness\": 0.294, \"valence\": 0.32, \"tempo\": 153.897, \"duration_ms\": 229777, \"time_signature\": 4, \"playlist_name\": \"Aidans Shower Playlist\", \"Group\": \"Thinktheylike\"}, {\"artist\": \"Arcade Player\", \"album\": \"Super Mario Galaxy, Greatest Themes & Sounds\", \"track_name\": \"Battlerock Galaxy\", \"track_id\": \"5HegnNzBAn6XsL4XTpBHIq\", \"danceability\": 0.471, \"energy\": 0.0859, \"key\": 4, \"loudness\": -13.043, \"mode\": 1, \"speechiness\": 0.0316, \"instrumentalness\": 0.917, \"liveness\": 0.132, \"valence\": 0.217, \"tempo\": 137.955, \"duration_ms\": 204521, \"time_signature\": 4, \"playlist_name\": \"Aidans Shower Playlist\", \"Group\": \"Thinktheylike\"}, {\"artist\": \"Various Artists\", \"album\": \"\\u30da\\u30eb\\u30bd\\u30ca4 \\u30aa\\u30ea\\u30b8\\u30ca\\u30eb\\u30fb\\u30b5\\u30a6\\u30f3\\u30c9\\u30c8\\u30e9\\u30c3\\u30af\", \"track_name\": \"Your Affection\", \"track_id\": \"6idKSeBnFz49htgvyWoMro\", \"danceability\": 0.687, \"energy\": 0.884, \"key\": 11, \"loudness\": -5.91, \"mode\": 1, \"speechiness\": 0.0342, \"instrumentalness\": 0.000617, \"liveness\": 0.334, \"valence\": 0.744, \"tempo\": 119.026, \"duration_ms\": 172013, \"time_signature\": 4, \"playlist_name\": \"Aidans Shower Playlist\", \"Group\": \"Thinktheylike\"}, {\"artist\": \"\\u30a2\\u30c8\\u30e9\\u30b9\\u30b5\\u30a6\\u30f3\\u30c9\\u30c1\\u30fc\\u30e0\", \"album\": \"PERSONA5 ORIGINAL SOUNDTRACK\", \"track_name\": \"Life Will Change\", \"track_id\": \"0LNyWv4RYKbaXIvzk6nMxZ\", \"danceability\": 0.702, \"energy\": 0.92, \"key\": 0, \"loudness\": -5.121, \"mode\": 0, \"speechiness\": 0.0363, \"instrumentalness\": 0.0133, \"liveness\": 0.127, \"valence\": 0.625, \"tempo\": 131.986, \"duration_ms\": 262027, \"time_signature\": 4, \"playlist_name\": \"Aidans Shower Playlist\", \"Group\": \"Thinktheylike\"}, {\"artist\": \"Thennecan\", \"album\": \"The Battle for Everyone's Souls (From \\\"Persona 3\\\")\", \"track_name\": \"The Battle for Everyone's Souls (From \\\"Persona 3\\\")\", \"track_id\": \"6Mf81jUHqt2RPldYSl2P2F\", \"danceability\": 0.441, \"energy\": 0.735, \"key\": 11, \"loudness\": -6.598, \"mode\": 0, \"speechiness\": 0.0331, \"instrumentalness\": 0.859, \"liveness\": 0.0611, \"valence\": 0.256, \"tempo\": 150.044, \"duration_ms\": 338800, \"time_signature\": 4, \"playlist_name\": \"Aidans Shower Playlist\", \"Group\": \"Thinktheylike\"}, {\"artist\": \"Various Artists\", \"album\": \"\\u30da\\u30eb\\u30bd\\u30ca3 \\u30aa\\u30ea\\u30b8\\u30ca\\u30eb\\u30fb\\u30b5\\u30a6\\u30f3\\u30c9\\u30c8\\u30e9\\u30c3\\u30af\", \"track_name\": \"\\u30ad\\u30df\\u306e\\u8a18\\u61b6\", \"track_id\": \"34RdcQ0rkkbdjbx7ks6BJF\", \"danceability\": 0.649, \"energy\": 0.802, \"key\": 2, \"loudness\": -7.947, \"mode\": 1, \"speechiness\": 0.028, \"instrumentalness\": 0.0, \"liveness\": 0.252, \"valence\": 0.819, \"tempo\": 111.979, \"duration_ms\": 369387, \"time_signature\": 4, \"playlist_name\": \"Aidans Shower Playlist\", \"Group\": \"Thinktheylike\"}, {\"artist\": \"Radiohead\", \"album\": \"Pablo Honey\", \"track_name\": \"Creep\", \"track_id\": \"70LcF31zb1H0PyJoS1Sx1r\", \"danceability\": 0.515, \"energy\": 0.43, \"key\": 7, \"loudness\": -9.935, \"mode\": 1, \"speechiness\": 0.0372, \"instrumentalness\": 0.000133, \"liveness\": 0.129, \"valence\": 0.104, \"tempo\": 91.844, \"duration_ms\": 238640, \"time_signature\": 4, \"playlist_name\": \"POV: You Just Discovered Popular Music Older than You and are Making it Your Entire Personality\", \"Group\": \"Thinktheylike\"}, {\"artist\": \"Queen\", \"album\": \"Stone Cold Classics\", \"track_name\": \"Bohemian Rhapsody\", \"track_id\": \"6l8GvAyoUZwWDgF1e4822w\", \"danceability\": 0.397, \"energy\": 0.386, \"key\": 0, \"loudness\": -10.405, \"mode\": 0, \"speechiness\": 0.0503, \"instrumentalness\": 0.0, \"liveness\": 0.188, \"valence\": 0.21, \"tempo\": 144.242, \"duration_ms\": 355400, \"time_signature\": 4, \"playlist_name\": \"POV: You Just Discovered Popular Music Older than You and are Making it Your Entire Personality\", \"Group\": \"Thinktheylike\"}, {\"artist\": \"Eagles\", \"album\": \"Hotel California (2013 Remaster)\", \"track_name\": \"Hotel California - 2013 Remaster\", \"track_id\": \"40riOy7x9W7GXjyGp4pjAv\", \"danceability\": 0.579, \"energy\": 0.508, \"key\": 2, \"loudness\": -9.484, \"mode\": 1, \"speechiness\": 0.027, \"instrumentalness\": 0.000494, \"liveness\": 0.0575, \"valence\": 0.609, \"tempo\": 147.125, \"duration_ms\": 391376, \"time_signature\": 4, \"playlist_name\": \"POV: You Just Discovered Popular Music Older than You and are Making it Your Entire Personality\", \"Group\": \"Thinktheylike\"}, {\"artist\": \"Led Zeppelin\", \"album\": \"Led Zeppelin IV (Deluxe Edition)\", \"track_name\": \"Stairway to Heaven - Remaster\", \"track_id\": \"5CQ30WqJwcep0pYcV4AMNc\", \"danceability\": 0.338, \"energy\": 0.34, \"key\": 9, \"loudness\": -12.049, \"mode\": 0, \"speechiness\": 0.0339, \"instrumentalness\": 0.0032, \"liveness\": 0.116, \"valence\": 0.197, \"tempo\": 82.433, \"duration_ms\": 482830, \"time_signature\": 4, \"playlist_name\": \"POV: You Just Discovered Popular Music Older than You and are Making it Your Entire Personality\", \"Group\": \"Thinktheylike\"}, {\"artist\": \"Nirvana\", \"album\": \"Nevermind (Remastered)\", \"track_name\": \"Smells Like Teen Spirit\", \"track_id\": \"5ghIJDpPoe3CfHMGu71E6T\", \"danceability\": 0.502, \"energy\": 0.912, \"key\": 1, \"loudness\": -4.556, \"mode\": 1, \"speechiness\": 0.0564, \"instrumentalness\": 0.000173, \"liveness\": 0.106, \"valence\": 0.72, \"tempo\": 116.761, \"duration_ms\": 301920, \"time_signature\": 4, \"playlist_name\": \"POV: You Just Discovered Popular Music Older than You and are Making it Your Entire Personality\", \"Group\": \"Thinktheylike\"}, {\"artist\": \"Elton John\", \"album\": \"Honky Chateau\", \"track_name\": \"Rocket Man (I Think It's Going To Be A Long, Long Time)\", \"track_id\": \"3gdewACMIVMEWVbyb8O9sY\", \"danceability\": 0.601, \"energy\": 0.532, \"key\": 10, \"loudness\": -9.119, \"mode\": 1, \"speechiness\": 0.0286, \"instrumentalness\": 6.25e-06, \"liveness\": 0.0925, \"valence\": 0.341, \"tempo\": 136.571, \"duration_ms\": 281613, \"time_signature\": 4, \"playlist_name\": \"POV: You Just Discovered Popular Music Older than You and are Making it Your Entire Personality\", \"Group\": \"Thinktheylike\"}, {\"artist\": \"David Bowie\", \"album\": \"Best of Bowie\", \"track_name\": \"Space Oddity - 1999 Remaster\", \"track_id\": \"22yy03IdKXGRUFMQX8EfBv\", \"danceability\": 0.31, \"energy\": 0.423, \"key\": 0, \"loudness\": -12.902, \"mode\": 1, \"speechiness\": 0.0324, \"instrumentalness\": 1.35e-05, \"liveness\": 0.365, \"valence\": 0.457, \"tempo\": 136.205, \"duration_ms\": 316333, \"time_signature\": 4, \"playlist_name\": \"POV: You Just Discovered Popular Music Older than You and are Making it Your Entire Personality\", \"Group\": \"Thinktheylike\"}, {\"artist\": \"Electric Light Orchestra\", \"album\": \"Out of the Blue\", \"track_name\": \"Mr. Blue Sky\", \"track_id\": \"2RlgNHKcydI9sayD2Df2xp\", \"danceability\": 0.388, \"energy\": 0.338, \"key\": 10, \"loudness\": -10.054, \"mode\": 1, \"speechiness\": 0.0329, \"instrumentalness\": 3.73e-06, \"liveness\": 0.248, \"valence\": 0.478, \"tempo\": 177.765, \"duration_ms\": 303373, \"time_signature\": 4, \"playlist_name\": \"POV: You Just Discovered Popular Music Older than You and are Making it Your Entire Personality\", \"Group\": \"Thinktheylike\"}, {\"artist\": \"Guns N' Roses\", \"album\": \"Appetite For Destruction\", \"track_name\": \"Sweet Child O' Mine\", \"track_id\": \"7snQQk1zcKl8gZ92AnueZW\", \"danceability\": 0.446, \"energy\": 0.952, \"key\": 6, \"loudness\": -5.321, \"mode\": 1, \"speechiness\": 0.0523, \"instrumentalness\": 0.0857, \"liveness\": 0.112, \"valence\": 0.624, \"tempo\": 125.303, \"duration_ms\": 356067, \"time_signature\": 4, \"playlist_name\": \"POV: You Just Discovered Popular Music Older than You and are Making it Your Entire Personality\", \"Group\": \"Thinktheylike\"}, {\"artist\": \"AC/DC\", \"album\": \"Back In Black\", \"track_name\": \"Back In Black\", \"track_id\": \"08mG3Y1vljYA6bvDt4Wqkj\", \"danceability\": 0.31, \"energy\": 0.7, \"key\": 9, \"loudness\": -5.678, \"mode\": 1, \"speechiness\": 0.047, \"instrumentalness\": 0.00965, \"liveness\": 0.0828, \"valence\": 0.763, \"tempo\": 188.386, \"duration_ms\": 255493, \"time_signature\": 4, \"playlist_name\": \"POV: You Just Discovered Popular Music Older than You and are Making it Your Entire Personality\", \"Group\": \"Thinktheylike\"}, {\"artist\": \"The Rolling Stones\", \"album\": \"Beggars Banquet (50th Anniversary Edition)\", \"track_name\": \"Sympathy For The Devil - 50th Anniversary Edition\", \"track_id\": \"1Ud6moTC0KyXMq1Oxfien0\", \"danceability\": 0.702, \"energy\": 0.668, \"key\": 9, \"loudness\": -9.237, \"mode\": 1, \"speechiness\": 0.214, \"instrumentalness\": 0.0, \"liveness\": 0.0588, \"valence\": 0.561, \"tempo\": 116.063, \"duration_ms\": 378147, \"time_signature\": 4, \"playlist_name\": \"POV: You Just Discovered Popular Music Older than You and are Making it Your Entire Personality\", \"Group\": \"Thinktheylike\"}, {\"artist\": \"Jimi Hendrix\", \"album\": \"Electric Ladyland\", \"track_name\": \"All Along the Watchtower\", \"track_id\": \"2aoo2jlRnM3A0NyLQqMN2f\", \"danceability\": 0.438, \"energy\": 0.805, \"key\": 8, \"loudness\": -6.237, \"mode\": 1, \"speechiness\": 0.0624, \"instrumentalness\": 5.69e-05, \"liveness\": 0.0842, \"valence\": 0.564, \"tempo\": 113.253, \"duration_ms\": 240800, \"time_signature\": 4, \"playlist_name\": \"POV: You Just Discovered Popular Music Older than You and are Making it Your Entire Personality\", \"Group\": \"Thinktheylike\"}, {\"artist\": \"Sammy Rae & The Friends\", \"album\": \"The Good Life\", \"track_name\": \"Kick It to Me\", \"track_id\": \"6QZbDUZEgkwaVWROtWzjQ0\", \"danceability\": 0.597, \"energy\": 0.675, \"key\": 2, \"loudness\": -6.431, \"mode\": 1, \"speechiness\": 0.0569, \"instrumentalness\": 1.45e-05, \"liveness\": 0.168, \"valence\": 0.823, \"tempo\": 160.057, \"duration_ms\": 387600, \"time_signature\": 4, \"playlist_name\": \"M255 \\u201cChilly Friday in Philly\\u201d\", \"Group\": \"Thinktheylike\"}, {\"artist\": \"Lake Street Dive\", \"album\": \"Obviously\", \"track_name\": \"Hypotheticals\", \"track_id\": \"5lE2EFXt4muvLFMGQg4hZN\", \"danceability\": 0.69, \"energy\": 0.664, \"key\": 1, \"loudness\": -6.488, \"mode\": 1, \"speechiness\": 0.0562, \"instrumentalness\": 0.00762, \"liveness\": 0.0496, \"valence\": 0.383, \"tempo\": 164.145, \"duration_ms\": 230178, \"time_signature\": 4, \"playlist_name\": \"M255 \\u201cChilly Friday in Philly\\u201d\", \"Group\": \"Thinktheylike\"}, {\"artist\": \"Stevie Wonder\", \"album\": \"Innervisions\", \"track_name\": \"Don't You Worry 'Bout A Thing\", \"track_id\": \"1QvWxgZvTU0w8rlPRE5Zrv\", \"danceability\": 0.714, \"energy\": 0.726, \"key\": 11, \"loudness\": -9.218, \"mode\": 1, \"speechiness\": 0.0408, \"instrumentalness\": 0.0, \"liveness\": 0.066, \"valence\": 0.92, \"tempo\": 124.71, \"duration_ms\": 284840, \"time_signature\": 4, \"playlist_name\": \"M255 \\u201cChilly Friday in Philly\\u201d\", \"Group\": \"Thinktheylike\"}, {\"artist\": \"Various Artists\", \"album\": \"Surf's Up Music From The Motion Picture\", \"track_name\": \"Into Yesterday\", \"track_id\": \"02TQFXm2cV6uwOr2OmlYBC\", \"danceability\": 0.666, \"energy\": 0.788, \"key\": 11, \"loudness\": -6.821, \"mode\": 1, \"speechiness\": 0.0335, \"instrumentalness\": 0.000145, \"liveness\": 0.15, \"valence\": 0.922, \"tempo\": 91.018, \"duration_ms\": 251467, \"time_signature\": 4, \"playlist_name\": \"M255 \\u201cChilly Friday in Philly\\u201d\", \"Group\": \"Thinktheylike\"}, {\"artist\": \"RELIC\", \"album\": \"Ghost\", \"track_name\": \"Ghost\", \"track_id\": \"6MvT7w4FeYJNfimIljosNs\", \"danceability\": 0.435, \"energy\": 0.386, \"key\": 3, \"loudness\": -8.983, \"mode\": 0, \"speechiness\": 0.0313, \"instrumentalness\": 0.000619, \"liveness\": 0.112, \"valence\": 0.183, \"tempo\": 160.285, \"duration_ms\": 297000, \"time_signature\": 4, \"playlist_name\": \"M255 \\u201cChilly Friday in Philly\\u201d\", \"Group\": \"Thinktheylike\"}, {\"artist\": \"The Smiths\", \"album\": \"The Queen Is Dead\", \"track_name\": \"There Is a Light That Never Goes Out - 2011 Remaster\", \"track_id\": \"0WQiDwKJclirSYG9v5tayI\", \"danceability\": 0.523, \"energy\": 0.769, \"key\": 4, \"loudness\": -5.855, \"mode\": 1, \"speechiness\": 0.0269, \"instrumentalness\": 0.0, \"liveness\": 0.136, \"valence\": 0.876, \"tempo\": 136.162, \"duration_ms\": 244587, \"time_signature\": 4, \"playlist_name\": \"M255 \\u201cChilly Friday in Philly\\u201d\", \"Group\": \"Thinktheylike\"}, {\"artist\": \"Jub\\u00ebl\", \"album\": \"Dancing In The Moonlight (feat. NEIMY)\", \"track_name\": \"Dancing In The Moonlight (feat. NEIMY)\", \"track_id\": \"4GSDkZt7GcmzBWmsMcpaVO\", \"danceability\": 0.659, \"energy\": 0.615, \"key\": 11, \"loudness\": -5.865, \"mode\": 0, \"speechiness\": 0.0644, \"instrumentalness\": 0.0, \"liveness\": 0.187, \"valence\": 0.193, \"tempo\": 119.843, \"duration_ms\": 164010, \"time_signature\": 4, \"playlist_name\": \"M255 \\u201cChilly Friday in Philly\\u201d\", \"Group\": \"Thinktheylike\"}, {\"artist\": \"Champagne Lane\", \"album\": \"Praying for a Little Rain\", \"track_name\": \"Praying for a Little Rain\", \"track_id\": \"20z1RaI92IQhdeIr8y8uVi\", \"danceability\": 0.623, \"energy\": 0.626, \"key\": 3, \"loudness\": -10.003, \"mode\": 1, \"speechiness\": 0.059, \"instrumentalness\": 0.000198, \"liveness\": 0.103, \"valence\": 0.441, \"tempo\": 99.953, \"duration_ms\": 248011, \"time_signature\": 4, \"playlist_name\": \"M255 \\u201cChilly Friday in Philly\\u201d\", \"Group\": \"Thinktheylike\"}, {\"artist\": \"Lawrence\", \"album\": \"Breakfast\", \"track_name\": \"Do You Wanna Do Nothing with Me?\", \"track_id\": \"2M7UdnD0fEaryh8TnCvqFX\", \"danceability\": 0.548, \"energy\": 0.611, \"key\": 1, \"loudness\": -9.0, \"mode\": 0, \"speechiness\": 0.131, \"instrumentalness\": 0.00247, \"liveness\": 0.0762, \"valence\": 0.725, \"tempo\": 201.985, \"duration_ms\": 251853, \"time_signature\": 4, \"playlist_name\": \"M255 \\u201cChilly Friday in Philly\\u201d\", \"Group\": \"Thinktheylike\"}, {\"artist\": \"Adele\", \"album\": \"19\", \"track_name\": \"Right As Rain\", \"track_id\": \"6oW04c2E7lebl09WHsBAWO\", \"danceability\": 0.842, \"energy\": 0.679, \"key\": 1, \"loudness\": -5.876, \"mode\": 1, \"speechiness\": 0.0846, \"instrumentalness\": 0.0, \"liveness\": 0.0891, \"valence\": 0.918, \"tempo\": 137.2, \"duration_ms\": 197347, \"time_signature\": 4, \"playlist_name\": \"M255 \\u201cChilly Friday in Philly\\u201d\", \"Group\": \"Thinktheylike\"}, {\"artist\": \"Sublime\", \"album\": \"Sublime\", \"track_name\": \"Santeria\", \"track_id\": \"2hnMS47jN0etwvFPzYk11f\", \"danceability\": 0.682, \"energy\": 0.765, \"key\": 1, \"loudness\": -5.021, \"mode\": 0, \"speechiness\": 0.0395, \"instrumentalness\": 3.42e-05, \"liveness\": 0.188, \"valence\": 0.567, \"tempo\": 90.807, \"duration_ms\": 182747, \"time_signature\": 4, \"playlist_name\": \"M255 \\u201cChilly Friday in Philly\\u201d\", \"Group\": \"Thinktheylike\"}, {\"artist\": \"One Direction\", \"album\": \"FOUR (Deluxe)\", \"track_name\": \"Steal My Girl\", \"track_id\": \"2Bs4jQEGMycglOfWPBqrVG\", \"danceability\": 0.536, \"energy\": 0.768, \"key\": 10, \"loudness\": -5.948, \"mode\": 0, \"speechiness\": 0.0347, \"instrumentalness\": 0.0, \"liveness\": 0.114, \"valence\": 0.545, \"tempo\": 77.217, \"duration_ms\": 228133, \"time_signature\": 4, \"playlist_name\": \"M255 \\u201cChilly Friday in Philly\\u201d\", \"Group\": \"Thinktheylike\"}, {\"artist\": \"Dan + Shay\", \"album\": \"Glad You Exist\", \"track_name\": \"Glad You Exist\", \"track_id\": \"472vIK1ldetTxRxG3ovaiY\", \"danceability\": 0.748, \"energy\": 0.551, \"key\": 11, \"loudness\": -6.12, \"mode\": 1, \"speechiness\": 0.0349, \"instrumentalness\": 0.0, \"liveness\": 0.119, \"valence\": 0.66, \"tempo\": 103.953, \"duration_ms\": 144533, \"time_signature\": 4, \"playlist_name\": \"M255 \\u201cChilly Friday in Philly\\u201d\", \"Group\": \"Thinktheylike\"}, {\"artist\": \"Cam\\u00e9lia Jordana\", \"album\": \"Camelia Jordana\", \"track_name\": \"Moi c'est\", \"track_id\": \"0cgWTzGYVUWELohSykTxrb\", \"danceability\": 0.862, \"energy\": 0.409, \"key\": 6, \"loudness\": -10.255, \"mode\": 0, \"speechiness\": 0.0399, \"instrumentalness\": 0.0871, \"liveness\": 0.0927, \"valence\": 0.8, \"tempo\": 135.013, \"duration_ms\": 170893, \"time_signature\": 4, \"playlist_name\": \"your 20s are for losing your mind\", \"Group\": \"Thinktheylike\"}, {\"artist\": \"Audrey Hepburn\", \"album\": \"Moon River (Breakfast at Tiffany's) [Remastered]\", \"track_name\": \"Moon River (From Breakfast at Tiffany's) [Remastered]\", \"track_id\": \"1XwAKjAZ1xDZOcuyZoqce4\", \"danceability\": 0.381, \"energy\": 0.0251, \"key\": 10, \"loudness\": -19.128, \"mode\": 1, \"speechiness\": 0.0327, \"instrumentalness\": 0.00109, \"liveness\": 0.099, \"valence\": 0.173, \"tempo\": 85.968, \"duration_ms\": 123160, \"time_signature\": 3, \"playlist_name\": \"your 20s are for losing your mind\", \"Group\": \"Thinktheylike\"}, {\"artist\": \"Camera Obscura\", \"album\": \"Underachievers Please Try Harder\", \"track_name\": \"Suspended From Class\", \"track_id\": \"2YDmCSVs46QrhD2sqYGGqx\", \"danceability\": 0.582, \"energy\": 0.562, \"key\": 9, \"loudness\": -8.985, \"mode\": 1, \"speechiness\": 0.0258, \"instrumentalness\": 0.0126, \"liveness\": 0.0682, \"valence\": 0.707, \"tempo\": 131.629, \"duration_ms\": 226227, \"time_signature\": 4, \"playlist_name\": \"your 20s are for losing your mind\", \"Group\": \"Thinktheylike\"}, {\"artist\": \"Julie London\", \"album\": \"Julie Is Her Name\", \"track_name\": \"Cry Me A River\", \"track_id\": \"7f6AAixCrVar1ZY7RPHDfM\", \"danceability\": 0.496, \"energy\": 0.0688, \"key\": 4, \"loudness\": -14.927, \"mode\": 0, \"speechiness\": 0.0545, \"instrumentalness\": 0.00229, \"liveness\": 0.112, \"valence\": 0.161, \"tempo\": 119.898, \"duration_ms\": 178573, \"time_signature\": 4, \"playlist_name\": \"your 20s are for losing your mind\", \"Group\": \"Thinktheylike\"}, {\"artist\": \"The Smiths\", \"album\": \"Hatful of Hollow\", \"track_name\": \"Please, Please, Please, Let Me Get What I Want - 2011 Remaster\", \"track_id\": \"6BrMEbPSSj55nQhkgf6DnE\", \"danceability\": 0.241, \"energy\": 0.468, \"key\": 2, \"loudness\": -9.579, \"mode\": 1, \"speechiness\": 0.0272, \"instrumentalness\": 0.0, \"liveness\": 0.161, \"valence\": 0.451, \"tempo\": 91.581, \"duration_ms\": 112707, \"time_signature\": 3, \"playlist_name\": \"your 20s are for losing your mind\", \"Group\": \"Thinktheylike\"}, {\"artist\": \"H\\u00e9l\\u00e8ne Grimaud\", \"album\": \"Chopin / Rachmaninov: Piano Sonatas\", \"track_name\": \"Piano Sonata No. 2 in B Flat Minor, Op. 36: II. Non allegro - Lento\", \"track_id\": \"79O3P99BRXIOWuARKZXNnT\", \"danceability\": 0.255, \"energy\": 0.0496, \"key\": 4, \"loudness\": -24.645, \"mode\": 0, \"speechiness\": 0.0469, \"instrumentalness\": 0.869, \"liveness\": 0.0686, \"valence\": 0.0385, \"tempo\": 72.575, \"duration_ms\": 445800, \"time_signature\": 4, \"playlist_name\": \"your 20s are for losing your mind\", \"Group\": \"Thinktheylike\"}, {\"artist\": \"Fred Astaire\", \"album\": \"Funny Face (Original Motion Picture Soundtrack / Expanded Edition)\", \"track_name\": \"Basal Metabolism (Based On How Long Has This Been Going On)\", \"track_id\": \"3jV7xeKd7V5suD6w9qCT2m\", \"danceability\": 0.491, \"energy\": 0.445, \"key\": 4, \"loudness\": -10.695, \"mode\": 0, \"speechiness\": 0.074, \"instrumentalness\": 0.164, \"liveness\": 0.0694, \"valence\": 0.451, \"tempo\": 114.497, \"duration_ms\": 173960, \"time_signature\": 4, \"playlist_name\": \"your 20s are for losing your mind\", \"Group\": \"Thinktheylike\"}, {\"artist\": \"Phoebe Bridgers\", \"album\": \"Stranger in the Alps (Deluxe Edition)\", \"track_name\": \"Motion Sickness\", \"track_id\": \"25Syi9wnfn6ZGAmiOBypPq\", \"danceability\": 0.651, \"energy\": 0.546, \"key\": 1, \"loudness\": -9.021, \"mode\": 1, \"speechiness\": 0.0357, \"instrumentalness\": 0.0437, \"liveness\": 0.0842, \"valence\": 0.623, \"tempo\": 107.021, \"duration_ms\": 229760, \"time_signature\": 4, \"playlist_name\": \"your 20s are for losing your mind\", \"Group\": \"Thinktheylike\"}, {\"artist\": \"The Buttertones\", \"album\": \"Buttertones\", \"track_name\": \"Dionysus\", \"track_id\": \"7wYU1avLwl1Gtkib8OTrZp\", \"danceability\": 0.331, \"energy\": 0.61, \"key\": 9, \"loudness\": -8.138, \"mode\": 1, \"speechiness\": 0.0293, \"instrumentalness\": 0.0548, \"liveness\": 0.14, \"valence\": 0.55, \"tempo\": 132.746, \"duration_ms\": 209040, \"time_signature\": 4, \"playlist_name\": \"your 20s are for losing your mind\", \"Group\": \"Thinktheylike\"}, {\"artist\": \"Brandi Carlile\", \"album\": \"Bear Creek\", \"track_name\": \"Heart's Content\", \"track_id\": \"0pegFWSUOTiG0sLVEfxtvA\", \"danceability\": 0.564, \"energy\": 0.209, \"key\": 3, \"loudness\": -8.922, \"mode\": 1, \"speechiness\": 0.0317, \"instrumentalness\": 3.99e-05, \"liveness\": 0.107, \"valence\": 0.402, \"tempo\": 109.024, \"duration_ms\": 214667, \"time_signature\": 4, \"playlist_name\": \"your 20s are for losing your mind\", \"Group\": \"Thinktheylike\"}]}}, {\"mode\": \"vega-lite\"});\n",
       "</script>"
      ],
      "text/plain": [
       "alt.Chart(...)"
      ]
     },
     "execution_count": 10,
     "metadata": {},
     "output_type": "execute_result"
    }
   ],
   "source": [
    "#alt.Chart(pl_dance).mark_point().encode(\n",
    " #   x=alt.X(\"track_name\", sort=None),\n",
    "  #  y='danceability',\n",
    "   # color=\"Author\",\n",
    "    #tooltip=[\"artist\", \"track_name\"]\n",
    "#).properties(\n",
    " #   width=1000\n",
    "#)\n",
    "\n",
    "alt.Chart(young_people_playlist).mark_bar().encode(\n",
    "    alt.X(\"danceability\", bin=True),\n",
    "    y='count()',\n",
    "    color=\"Group\",tooltip=[\"artist\", \"track_name\"]\n",
    ").properties(width = 1000\n",
    ")"
   ]
  },
  {
   "cell_type": "markdown",
   "metadata": {
    "id": "4vEf_LjVooVO"
   },
   "source": [
    "(N)This scatterplot seems to also suggest some extremes; \"thinktheylike\" seems to have more high energy songs, even while liveness is relativley constant, save for the one outlier of \"I Knew You So Well\" in the Thinktheylike group."
   ]
  },
  {
   "cell_type": "code",
   "execution_count": 11,
   "metadata": {
    "colab": {
     "base_uri": "https://localhost:8080/",
     "height": 368
    },
    "id": "yOkju4PMhIaw",
    "outputId": "92b61a76-d404-4a55-f3c4-e721b39e2b1e"
   },
   "outputs": [
    {
     "data": {
      "text/html": [
       "\n",
       "<div id=\"altair-viz-561925fed7144c8198268ae67974606e\"></div>\n",
       "<script type=\"text/javascript\">\n",
       "  (function(spec, embedOpt){\n",
       "    let outputDiv = document.currentScript.previousElementSibling;\n",
       "    if (outputDiv.id !== \"altair-viz-561925fed7144c8198268ae67974606e\") {\n",
       "      outputDiv = document.getElementById(\"altair-viz-561925fed7144c8198268ae67974606e\");\n",
       "    }\n",
       "    const paths = {\n",
       "      \"vega\": \"https://cdn.jsdelivr.net/npm//vega@5?noext\",\n",
       "      \"vega-lib\": \"https://cdn.jsdelivr.net/npm//vega-lib?noext\",\n",
       "      \"vega-lite\": \"https://cdn.jsdelivr.net/npm//vega-lite@4.8.1?noext\",\n",
       "      \"vega-embed\": \"https://cdn.jsdelivr.net/npm//vega-embed@6?noext\",\n",
       "    };\n",
       "\n",
       "    function loadScript(lib) {\n",
       "      return new Promise(function(resolve, reject) {\n",
       "        var s = document.createElement('script');\n",
       "        s.src = paths[lib];\n",
       "        s.async = true;\n",
       "        s.onload = () => resolve(paths[lib]);\n",
       "        s.onerror = () => reject(`Error loading script: ${paths[lib]}`);\n",
       "        document.getElementsByTagName(\"head\")[0].appendChild(s);\n",
       "      });\n",
       "    }\n",
       "\n",
       "    function showError(err) {\n",
       "      outputDiv.innerHTML = `<div class=\"error\" style=\"color:red;\">${err}</div>`;\n",
       "      throw err;\n",
       "    }\n",
       "\n",
       "    function displayChart(vegaEmbed) {\n",
       "      vegaEmbed(outputDiv, spec, embedOpt)\n",
       "        .catch(err => showError(`Javascript Error: ${err.message}<br>This usually means there's a typo in your chart specification. See the javascript console for the full traceback.`));\n",
       "    }\n",
       "\n",
       "    if(typeof define === \"function\" && define.amd) {\n",
       "      requirejs.config({paths});\n",
       "      require([\"vega-embed\"], displayChart, err => showError(`Error loading script: ${err.message}`));\n",
       "    } else if (typeof vegaEmbed === \"function\") {\n",
       "      displayChart(vegaEmbed);\n",
       "    } else {\n",
       "      loadScript(\"vega\")\n",
       "        .then(() => loadScript(\"vega-lite\"))\n",
       "        .then(() => loadScript(\"vega-embed\"))\n",
       "        .catch(showError)\n",
       "        .then(() => displayChart(vegaEmbed));\n",
       "    }\n",
       "  })({\"config\": {\"view\": {\"continuousWidth\": 400, \"continuousHeight\": 300}}, \"data\": {\"name\": \"data-193956893d17802c10a67178a5e3f6b4\"}, \"mark\": \"point\", \"encoding\": {\"color\": {\"type\": \"nominal\", \"field\": \"Group\"}, \"tooltip\": [{\"type\": \"nominal\", \"field\": \"artist\"}, {\"type\": \"nominal\", \"field\": \"track_name\"}], \"x\": {\"type\": \"quantitative\", \"field\": \"liveness\"}, \"y\": {\"type\": \"quantitative\", \"field\": \"energy\"}}, \"$schema\": \"https://vega.github.io/schema/vega-lite/v4.8.1.json\", \"datasets\": {\"data-193956893d17802c10a67178a5e3f6b4\": [{\"artist\": \"Aretha Franklin\", \"album\": \"Respect - The Very Best of\", \"track_name\": \"I Say a Little Prayer\", \"track_id\": \"0FD8KMG4pHp0O9clTpChjp\", \"danceability\": 0.59, \"energy\": 0.355, \"key\": 9, \"loudness\": -14.051, \"mode\": 1, \"speechiness\": 0.0352, \"instrumentalness\": 0, \"liveness\": 0.0585, \"valence\": 0.499, \"tempo\": 133.03, \"duration_ms\": 216773, \"time_signature\": 4, \"playlist_name\": \"Most Familiar With\", \"Group\": \"Whattheylike\"}, {\"artist\": \"Ben E. King\", \"album\": \"Stand By Me\", \"track_name\": \"Stand By Me\", \"track_id\": \"2KQM3kDM0zMBC9iynePBbS\", \"danceability\": 0.653, \"energy\": 0.334, \"key\": 9, \"loudness\": -6.955, \"mode\": 1, \"speechiness\": 0.0313, \"instrumentalness\": 3.47e-05, \"liveness\": 0.123, \"valence\": 0.665, \"tempo\": 119.46, \"duration_ms\": 174253, \"time_signature\": 4, \"playlist_name\": \"Most Familiar With\", \"Group\": \"Whattheylike\"}, {\"artist\": \"Louis Armstrong\", \"album\": \"What A Wonderful World\", \"track_name\": \"What A Wonderful World\", \"track_id\": \"29U7stRjqHU6rMiS8BfaI9\", \"danceability\": 0.271, \"energy\": 0.165, \"key\": 5, \"loudness\": -20.652, \"mode\": 1, \"speechiness\": 0.0351, \"instrumentalness\": 1.6e-06, \"liveness\": 0.118, \"valence\": 0.203, \"tempo\": 77.082, \"duration_ms\": 139227, \"time_signature\": 4, \"playlist_name\": \"Most Familiar With\", \"Group\": \"Whattheylike\"}, {\"artist\": \"Santana\", \"album\": \"Abraxas\", \"track_name\": \"Oye Como Va\", \"track_id\": \"5u6y4u5EgDv0peILf60H5t\", \"danceability\": 0.736, \"energy\": 0.379, \"key\": 7, \"loudness\": -13.208, \"mode\": 1, \"speechiness\": 0.0539, \"instrumentalness\": 0.345, \"liveness\": 0.104, \"valence\": 0.948, \"tempo\": 128.399, \"duration_ms\": 256933, \"time_signature\": 4, \"playlist_name\": \"Most Familiar With\", \"Group\": \"Whattheylike\"}, {\"artist\": \"The Temptations\", \"album\": \"The Temptations Sing Smokey\", \"track_name\": \"My Girl\", \"track_id\": \"745H5CctFr12Mo7cqa1BMH\", \"danceability\": 0.572, \"energy\": 0.418, \"key\": 0, \"loudness\": -10.738, \"mode\": 1, \"speechiness\": 0.0349, \"instrumentalness\": 0, \"liveness\": 0.0961, \"valence\": 0.694, \"tempo\": 104.566, \"duration_ms\": 165000, \"time_signature\": 4, \"playlist_name\": \"Most Familiar With\", \"Group\": \"Whattheylike\"}, {\"artist\": \"Etta James\", \"album\": \"Tell Mama\", \"track_name\": \"I'd Rather Go Blind\", \"track_id\": \"1kPBT8S2wJFNAyBMnGVZgL\", \"danceability\": 0.477, \"energy\": 0.433, \"key\": 11, \"loudness\": -6.473, \"mode\": 0, \"speechiness\": 0.0247, \"instrumentalness\": 0.000195, \"liveness\": 0.151, \"valence\": 0.611, \"tempo\": 82.52, \"duration_ms\": 156653, \"time_signature\": 3, \"playlist_name\": \"Most Familiar With\", \"Group\": \"Whattheylike\"}, {\"artist\": \"Ella Fitzgerald\", \"album\": \"Ella And Basie\", \"track_name\": \"Dream A Little Dream Of Me\", \"track_id\": \"7sO8fLoq7H3er7C24UtLiF\", \"danceability\": 0.283, \"energy\": 0.0738, \"key\": 7, \"loudness\": -23.595, \"mode\": 1, \"speechiness\": 0.0763, \"instrumentalness\": 0, \"liveness\": 0.105, \"valence\": 0.223, \"tempo\": 72.034, \"duration_ms\": 246160, \"time_signature\": 4, \"playlist_name\": \"Most Familiar With\", \"Group\": \"Whattheylike\"}, {\"artist\": \"The Byrds\", \"album\": \"Turn! Turn! Turn!\", \"track_name\": \"Turn! Turn! Turn! (To Everything There Is a Season)\", \"track_id\": \"5qBqBdfTEIWJwAS0Jm2F5R\", \"danceability\": 0.451, \"energy\": 0.818, \"key\": 2, \"loudness\": -8.124, \"mode\": 1, \"speechiness\": 0.0439, \"instrumentalness\": 2.92e-05, \"liveness\": 0.052, \"valence\": 0.755, \"tempo\": 124.532, \"duration_ms\": 229360, \"time_signature\": 4, \"playlist_name\": \"Most Familiar With\", \"Group\": \"Whattheylike\"}, {\"artist\": \"Bill Withers\", \"album\": \"Just As I Am\", \"track_name\": \"Ain't No Sunshine\", \"track_id\": \"1k1Bqnv2R0uJXQN4u6LKYt\", \"danceability\": 0.527, \"energy\": 0.415, \"key\": 4, \"loudness\": -11.451, \"mode\": 0, \"speechiness\": 0.122, \"instrumentalness\": 1.72e-05, \"liveness\": 0.117, \"valence\": 0.515, \"tempo\": 78.169, \"duration_ms\": 125093, \"time_signature\": 4, \"playlist_name\": \"Most Familiar With\", \"Group\": \"Whattheylike\"}, {\"artist\": \"Wilson Pickett\", \"album\": \"In the Midnight Hour\", \"track_name\": \"In the Midnight Hour\", \"track_id\": \"4NRQwaks9r58tTDvr4iEyv\", \"danceability\": 0.75, \"energy\": 0.444, \"key\": 4, \"loudness\": -8.63, \"mode\": 1, \"speechiness\": 0.0403, \"instrumentalness\": 3.69e-06, \"liveness\": 0.118, \"valence\": 0.849, \"tempo\": 111.919, \"duration_ms\": 157160, \"time_signature\": 4, \"playlist_name\": \"Most Familiar With\", \"Group\": \"Whattheylike\"}, {\"artist\": \"Ben E. King\", \"album\": \"Stand By Me\", \"track_name\": \"Stand By Me\", \"track_id\": \"2KQM3kDM0zMBC9iynePBbS\", \"danceability\": 0.653, \"energy\": 0.334, \"key\": 9, \"loudness\": -6.955, \"mode\": 1, \"speechiness\": 0.0313, \"instrumentalness\": 3.47e-05, \"liveness\": 0.123, \"valence\": 0.665, \"tempo\": 119.46, \"duration_ms\": 174253, \"time_signature\": 4, \"playlist_name\": \"Communities Playlist\", \"Group\": \"Whattheylike\"}, {\"artist\": \"Sam Cooke\", \"album\": \"Ain't That Good News\", \"track_name\": \"A Change Is Gonna Come\", \"track_id\": \"0KOE1hat4SIer491XKk4Pa\", \"danceability\": 0.212, \"energy\": 0.383, \"key\": 10, \"loudness\": -10.071, \"mode\": 1, \"speechiness\": 0.0347, \"instrumentalness\": 0.0, \"liveness\": 0.299, \"valence\": 0.452, \"tempo\": 173.79, \"duration_ms\": 191160, \"time_signature\": 3, \"playlist_name\": \"Communities Playlist\", \"Group\": \"Whattheylike\"}, {\"artist\": \"Louis Armstrong\", \"album\": \"What A Wonderful World\", \"track_name\": \"What A Wonderful World\", \"track_id\": \"29U7stRjqHU6rMiS8BfaI9\", \"danceability\": 0.271, \"energy\": 0.165, \"key\": 5, \"loudness\": -20.652, \"mode\": 1, \"speechiness\": 0.0351, \"instrumentalness\": 1.6e-06, \"liveness\": 0.118, \"valence\": 0.203, \"tempo\": 77.082, \"duration_ms\": 139227, \"time_signature\": 4, \"playlist_name\": \"Communities Playlist\", \"Group\": \"Whattheylike\"}, {\"artist\": \"Bill Withers\", \"album\": \"Just As I Am\", \"track_name\": \"Ain't No Sunshine\", \"track_id\": \"1k1Bqnv2R0uJXQN4u6LKYt\", \"danceability\": 0.527, \"energy\": 0.415, \"key\": 4, \"loudness\": -11.451, \"mode\": 0, \"speechiness\": 0.122, \"instrumentalness\": 1.72e-05, \"liveness\": 0.117, \"valence\": 0.515, \"tempo\": 78.169, \"duration_ms\": 125093, \"time_signature\": 4, \"playlist_name\": \"Communities Playlist\", \"Group\": \"Whattheylike\"}, {\"artist\": \"Ray Charles\", \"album\": \"True Genius\", \"track_name\": \"Georgia on My Mind\", \"track_id\": \"6yMGxqKj0218mFR5KqsMRq\", \"danceability\": 0.19, \"energy\": 0.323, \"key\": 7, \"loudness\": -12.405, \"mode\": 1, \"speechiness\": 0.0303, \"instrumentalness\": 2.17e-06, \"liveness\": 0.176, \"valence\": 0.281, \"tempo\": 94.34, \"duration_ms\": 219560, \"time_signature\": 4, \"playlist_name\": \"Communities Playlist\", \"Group\": \"Whattheylike\"}, {\"artist\": \"The Temptations\", \"album\": \"The Temptations Sing Smokey\", \"track_name\": \"My Girl\", \"track_id\": \"745H5CctFr12Mo7cqa1BMH\", \"danceability\": 0.572, \"energy\": 0.418, \"key\": 0, \"loudness\": -10.738, \"mode\": 1, \"speechiness\": 0.0349, \"instrumentalness\": 0.0, \"liveness\": 0.0961, \"valence\": 0.694, \"tempo\": 104.566, \"duration_ms\": 165000, \"time_signature\": 4, \"playlist_name\": \"Communities Playlist\", \"Group\": \"Whattheylike\"}, {\"artist\": \"The Band\", \"album\": \"The Band\", \"track_name\": \"The Night They Drove Old Dixie Down\", \"track_id\": \"2nvcTDmZkRWKNMAL29sLHo\", \"danceability\": 0.505, \"energy\": 0.483, \"key\": 0, \"loudness\": -9.272, \"mode\": 1, \"speechiness\": 0.0334, \"instrumentalness\": 0.0, \"liveness\": 0.222, \"valence\": 0.484, \"tempo\": 125.839, \"duration_ms\": 211787, \"time_signature\": 4, \"playlist_name\": \"Communities Playlist\", \"Group\": \"Whattheylike\"}, {\"artist\": \"Nina Simone\", \"album\": \"Pastel Blues\", \"track_name\": \"Sinnerman\", \"track_id\": \"5xRP5iyVdGglqlY4Vcjhkx\", \"danceability\": 0.436, \"energy\": 0.543, \"key\": 11, \"loudness\": -13.351, \"mode\": 0, \"speechiness\": 0.0962, \"instrumentalness\": 9.35e-06, \"liveness\": 0.0937, \"valence\": 0.663, \"tempo\": 148.282, \"duration_ms\": 622000, \"time_signature\": 4, \"playlist_name\": \"Communities Playlist\", \"Group\": \"Whattheylike\"}, {\"artist\": \"Janis Joplin\", \"album\": \"I Got Dem Ol' Kozmic Blues Again Mama!\", \"track_name\": \"Maybe\", \"track_id\": \"0xGSeBsG4V8Scc5YqpZQ66\", \"danceability\": 0.4, \"energy\": 0.35, \"key\": 8, \"loudness\": -11.401, \"mode\": 1, \"speechiness\": 0.0345, \"instrumentalness\": 0.0397, \"liveness\": 0.103, \"valence\": 0.328, \"tempo\": 83.389, \"duration_ms\": 219133, \"time_signature\": 4, \"playlist_name\": \"Communities Playlist\", \"Group\": \"Whattheylike\"}, {\"artist\": \"Santana\", \"album\": \"Abraxas\", \"track_name\": \"Oye Como Va\", \"track_id\": \"5u6y4u5EgDv0peILf60H5t\", \"danceability\": 0.736, \"energy\": 0.379, \"key\": 7, \"loudness\": -13.208, \"mode\": 1, \"speechiness\": 0.0539, \"instrumentalness\": 0.345, \"liveness\": 0.104, \"valence\": 0.948, \"tempo\": 128.399, \"duration_ms\": 256933, \"time_signature\": 4, \"playlist_name\": \"Communities Playlist\", \"Group\": \"Whattheylike\"}, {\"artist\": \"The Temptations\", \"album\": \"The Temptations Sing Smokey\", \"track_name\": \"My Girl\", \"track_id\": \"745H5CctFr12Mo7cqa1BMH\", \"danceability\": 0.572, \"energy\": 0.418, \"key\": 0, \"loudness\": -10.738, \"mode\": 1, \"speechiness\": 0.0349, \"instrumentalness\": 0, \"liveness\": 0.0961, \"valence\": 0.694, \"tempo\": 104.566, \"duration_ms\": 165000, \"time_signature\": 4, \"playlist_name\": \"10 From List of 40\", \"Group\": \"Whattheylike\"}, {\"artist\": \"Wilson Pickett\", \"album\": \"Hey Jude\", \"track_name\": \"Hey Jude\", \"track_id\": \"1MMp1H2Kib2BCDtdL5nL63\", \"danceability\": 0.561, \"energy\": 0.385, \"key\": 6, \"loudness\": -15.33, \"mode\": 1, \"speechiness\": 0.0323, \"instrumentalness\": 0.000496, \"liveness\": 0.171, \"valence\": 0.664, \"tempo\": 81.599, \"duration_ms\": 247733, \"time_signature\": 4, \"playlist_name\": \"10 From List of 40\", \"Group\": \"Whattheylike\"}, {\"artist\": \"Ray Charles\", \"album\": \"True Genius\", \"track_name\": \"Georgia on My Mind\", \"track_id\": \"6yMGxqKj0218mFR5KqsMRq\", \"danceability\": 0.19, \"energy\": 0.323, \"key\": 7, \"loudness\": -12.405, \"mode\": 1, \"speechiness\": 0.0303, \"instrumentalness\": 2.17e-06, \"liveness\": 0.176, \"valence\": 0.281, \"tempo\": 94.34, \"duration_ms\": 219560, \"time_signature\": 4, \"playlist_name\": \"10 From List of 40\", \"Group\": \"Whattheylike\"}, {\"artist\": \"The Rolling Stones\", \"album\": \"Let It Bleed\", \"track_name\": \"You Can't Always Get What You Want\", \"track_id\": \"6lFZbCc7pn6Lme1NP7qQqQ\", \"danceability\": 0.32, \"energy\": 0.62, \"key\": 0, \"loudness\": -9.686, \"mode\": 1, \"speechiness\": 0.0594, \"instrumentalness\": 6.36e-05, \"liveness\": 0.253, \"valence\": 0.472, \"tempo\": 86.327, \"duration_ms\": 448720, \"time_signature\": 4, \"playlist_name\": \"10 From List of 40\", \"Group\": \"Whattheylike\"}, {\"artist\": \"Wilson Pickett\", \"album\": \"In the Midnight Hour\", \"track_name\": \"In the Midnight Hour\", \"track_id\": \"4NRQwaks9r58tTDvr4iEyv\", \"danceability\": 0.75, \"energy\": 0.444, \"key\": 4, \"loudness\": -8.63, \"mode\": 1, \"speechiness\": 0.0403, \"instrumentalness\": 3.69e-06, \"liveness\": 0.118, \"valence\": 0.849, \"tempo\": 111.919, \"duration_ms\": 157160, \"time_signature\": 4, \"playlist_name\": \"10 From List of 40\", \"Group\": \"Whattheylike\"}, {\"artist\": \"Led Zeppelin\", \"album\": \"Led Zeppelin II (1994 Remaster)\", \"track_name\": \"Ramble On - 1990 Remaster\", \"track_id\": \"3MODES4TNtygekLl146Dxd\", \"danceability\": 0.468, \"energy\": 0.607, \"key\": 9, \"loudness\": -11.367, \"mode\": 1, \"speechiness\": 0.0336, \"instrumentalness\": 0.000852, \"liveness\": 0.225, \"valence\": 0.886, \"tempo\": 98.429, \"duration_ms\": 263333, \"time_signature\": 4, \"playlist_name\": \"10 From List of 40\", \"Group\": \"Whattheylike\"}, {\"artist\": \"Otis Redding\", \"album\": \"Complete & Unbelievable: The Otis Redding Dictionary of Soul\", \"track_name\": \"Try a Little Tenderness\", \"track_id\": \"36AlMHDBFwSsD3FQOy1R81\", \"danceability\": 0.587, \"energy\": 0.133, \"key\": 9, \"loudness\": -15.151, \"mode\": 0, \"speechiness\": 0.0565, \"instrumentalness\": 2.26e-05, \"liveness\": 0.258, \"valence\": 0.068, \"tempo\": 102.938, \"duration_ms\": 201733, \"time_signature\": 4, \"playlist_name\": \"10 From List of 40\", \"Group\": \"Whattheylike\"}, {\"artist\": \"Louis Armstrong\", \"album\": \"What A Wonderful World\", \"track_name\": \"What A Wonderful World\", \"track_id\": \"29U7stRjqHU6rMiS8BfaI9\", \"danceability\": 0.271, \"energy\": 0.165, \"key\": 5, \"loudness\": -20.652, \"mode\": 1, \"speechiness\": 0.0351, \"instrumentalness\": 1.6e-06, \"liveness\": 0.118, \"valence\": 0.203, \"tempo\": 77.082, \"duration_ms\": 139227, \"time_signature\": 4, \"playlist_name\": \"10 From List of 40\", \"Group\": \"Whattheylike\"}, {\"artist\": \"Etta James\", \"album\": \"Tell Mama\", \"track_name\": \"I'd Rather Go Blind\", \"track_id\": \"1kPBT8S2wJFNAyBMnGVZgL\", \"danceability\": 0.477, \"energy\": 0.433, \"key\": 11, \"loudness\": -6.473, \"mode\": 0, \"speechiness\": 0.0247, \"instrumentalness\": 0.000195, \"liveness\": 0.151, \"valence\": 0.611, \"tempo\": 82.52, \"duration_ms\": 156653, \"time_signature\": 3, \"playlist_name\": \"10 From List of 40\", \"Group\": \"Whattheylike\"}, {\"artist\": \"Crosby, Stills & Nash\", \"album\": \"Crosby, Stills & Nash\", \"track_name\": \"Helplessly Hoping - 2005 Remaster\", \"track_id\": \"1UKobFsdqNXQb8OthimCKe\", \"danceability\": 0.483, \"energy\": 0.159, \"key\": 7, \"loudness\": -13.648, \"mode\": 1, \"speechiness\": 0.0353, \"instrumentalness\": 0, \"liveness\": 0.111, \"valence\": 0.423, \"tempo\": 146.721, \"duration_ms\": 157893, \"time_signature\": 4, \"playlist_name\": \"10 From List of 40\", \"Group\": \"Whattheylike\"}, {\"artist\": \"Goth Babe\", \"album\": \"Encinitas\", \"track_name\": \"Encinitas\", \"track_id\": \"4tO2Ol08xzay6zcfhDKpuN\", \"danceability\": 0.76, \"energy\": 0.577, \"key\": 7, \"loudness\": -4.981, \"mode\": 1, \"speechiness\": 0.0908, \"instrumentalness\": 0.00352, \"liveness\": 0.445, \"valence\": 0.553, \"tempo\": 116.02, \"duration_ms\": 171724, \"time_signature\": 4, \"playlist_name\": \"10 From List of 40\", \"Group\": \"Whattheylike\"}, {\"artist\": \"Led Zeppelin\", \"album\": \"Led Zeppelin II (1994 Remaster)\", \"track_name\": \"Ramble On - 1990 Remaster\", \"track_id\": \"3MODES4TNtygekLl146Dxd\", \"danceability\": 0.468, \"energy\": 0.607, \"key\": 9, \"loudness\": -11.367, \"mode\": 1, \"speechiness\": 0.0336, \"instrumentalness\": 0.000852, \"liveness\": 0.225, \"valence\": 0.886, \"tempo\": 98.429, \"duration_ms\": 263333, \"time_signature\": 4, \"playlist_name\": \"list of 40 subset\", \"Group\": \"Whattheylike\"}, {\"artist\": \"Peter, Paul and Mary\", \"album\": \"Album 1700\", \"track_name\": \"Leaving on a Jet Plane\", \"track_id\": \"6ZSTinOwx5dKFYc6iYyGDn\", \"danceability\": 0.414, \"energy\": 0.167, \"key\": 9, \"loudness\": -16.519, \"mode\": 1, \"speechiness\": 0.0484, \"instrumentalness\": 0.0, \"liveness\": 0.117, \"valence\": 0.384, \"tempo\": 133.45, \"duration_ms\": 207240, \"time_signature\": 4, \"playlist_name\": \"list of 40 subset\", \"Group\": \"Whattheylike\"}, {\"artist\": \"The Who\", \"album\": \"Who's Next (Deluxe Edition)\", \"track_name\": \"Behind Blue Eyes\", \"track_id\": \"0cKk8BKEi7zXbdrYdyqBP5\", \"danceability\": 0.394, \"energy\": 0.622, \"key\": 4, \"loudness\": -8.258, \"mode\": 0, \"speechiness\": 0.0336, \"instrumentalness\": 4.45e-05, \"liveness\": 0.0892, \"valence\": 0.342, \"tempo\": 126.844, \"duration_ms\": 221427, \"time_signature\": 4, \"playlist_name\": \"list of 40 subset\", \"Group\": \"Whattheylike\"}, {\"artist\": \"Joe Cocker\", \"album\": \"With A Little Help From My Friends\", \"track_name\": \"With A Little Help From My Friends\", \"track_id\": \"0YZ3J8xzGwLOg4yEgST1YK\", \"danceability\": 0.307, \"energy\": 0.43, \"key\": 2, \"loudness\": -11.333, \"mode\": 1, \"speechiness\": 0.0629, \"instrumentalness\": 0.000994, \"liveness\": 0.0988, \"valence\": 0.305, \"tempo\": 145.224, \"duration_ms\": 312173, \"time_signature\": 3, \"playlist_name\": \"list of 40 subset\", \"Group\": \"Whattheylike\"}, {\"artist\": \"The Rolling Stones\", \"album\": \"Let It Bleed\", \"track_name\": \"You Can't Always Get What You Want\", \"track_id\": \"6lFZbCc7pn6Lme1NP7qQqQ\", \"danceability\": 0.32, \"energy\": 0.62, \"key\": 0, \"loudness\": -9.686, \"mode\": 1, \"speechiness\": 0.0594, \"instrumentalness\": 6.36e-05, \"liveness\": 0.253, \"valence\": 0.472, \"tempo\": 86.327, \"duration_ms\": 448720, \"time_signature\": 4, \"playlist_name\": \"list of 40 subset\", \"Group\": \"Whattheylike\"}, {\"artist\": \"Jimi Hendrix\", \"album\": \"Axis: Bold As Love\", \"track_name\": \"Little Wing\", \"track_id\": \"1Eolhana7nKHYpcYpdVcT5\", \"danceability\": 0.515, \"energy\": 0.534, \"key\": 6, \"loudness\": -8.045, \"mode\": 1, \"speechiness\": 0.0768, \"instrumentalness\": 0.00278, \"liveness\": 0.0547, \"valence\": 0.426, \"tempo\": 70.776, \"duration_ms\": 145747, \"time_signature\": 4, \"playlist_name\": \"list of 40 subset\", \"Group\": \"Whattheylike\"}, {\"artist\": \"Simon & Garfunkel\", \"album\": \"Bookends\", \"track_name\": \"America\", \"track_id\": \"6dfhF1BDGmhM69fnCb6wSC\", \"danceability\": 0.259, \"energy\": 0.241, \"key\": 2, \"loudness\": -15.955, \"mode\": 1, \"speechiness\": 0.042, \"instrumentalness\": 6.62e-06, \"liveness\": 0.0849, \"valence\": 0.275, \"tempo\": 178.453, \"duration_ms\": 215293, \"time_signature\": 3, \"playlist_name\": \"list of 40 subset\", \"Group\": \"Whattheylike\"}, {\"artist\": \"Yusuf / Cat Stevens\", \"album\": \"Tea For The Tillerman (Remastered 2020)\", \"track_name\": \"Wild World\", \"track_id\": \"7mjSHL2Eb0kAwiKbvNNyD9\", \"danceability\": 0.48, \"energy\": 0.542, \"key\": 0, \"loudness\": -8.51, \"mode\": 1, \"speechiness\": 0.0348, \"instrumentalness\": 0.000609, \"liveness\": 0.113, \"valence\": 0.567, \"tempo\": 152.853, \"duration_ms\": 200560, \"time_signature\": 4, \"playlist_name\": \"list of 40 subset\", \"Group\": \"Whattheylike\"}, {\"artist\": \"B.B. King\", \"album\": \"Completely Well\", \"track_name\": \"The Thrill Is Gone\", \"track_id\": \"4NQfrmGs9iQXVQI9IpRhjM\", \"danceability\": 0.547, \"energy\": 0.46, \"key\": 11, \"loudness\": -8.759, \"mode\": 0, \"speechiness\": 0.0256, \"instrumentalness\": 0.442, \"liveness\": 0.0983, \"valence\": 0.543, \"tempo\": 90.768, \"duration_ms\": 324733, \"time_signature\": 4, \"playlist_name\": \"list of 40 subset\", \"Group\": \"Whattheylike\"}, {\"artist\": \"Jimmy Cliff\", \"album\": \"Wonderful World, Beautiful People\", \"track_name\": \"Many Rivers To Cross\", \"track_id\": \"1dZxI6OuzwJ283y3gOU1Kq\", \"danceability\": 0.399, \"energy\": 0.212, \"key\": 5, \"loudness\": -16.03, \"mode\": 1, \"speechiness\": 0.0747, \"instrumentalness\": 0.000434, \"liveness\": 0.116, \"valence\": 0.149, \"tempo\": 137.76, \"duration_ms\": 164067, \"time_signature\": 4, \"playlist_name\": \"list of 40 subset\", \"Group\": \"Whattheylike\"}, {\"artist\": \"Santana\", \"album\": \"Abraxas\", \"track_name\": \"Oye Como Va\", \"track_id\": \"5u6y4u5EgDv0peILf60H5t\", \"danceability\": 0.736, \"energy\": 0.379, \"key\": 7, \"loudness\": -13.208, \"mode\": 1, \"speechiness\": 0.0539, \"instrumentalness\": 0.345, \"liveness\": 0.104, \"valence\": 0.948, \"tempo\": 128.399, \"duration_ms\": 256933, \"time_signature\": 4, \"playlist_name\": \"List of 40 Selection\", \"Group\": \"Whattheylike\"}, {\"artist\": \"Led Zeppelin\", \"album\": \"Led Zeppelin II (1994 Remaster)\", \"track_name\": \"Ramble On - 1990 Remaster\", \"track_id\": \"3MODES4TNtygekLl146Dxd\", \"danceability\": 0.468, \"energy\": 0.607, \"key\": 9, \"loudness\": -11.367, \"mode\": 1, \"speechiness\": 0.0336, \"instrumentalness\": 0.000852, \"liveness\": 0.225, \"valence\": 0.886, \"tempo\": 98.429, \"duration_ms\": 263333, \"time_signature\": 4, \"playlist_name\": \"List of 40 Selection\", \"Group\": \"Whattheylike\"}, {\"artist\": \"Louis Armstrong\", \"album\": \"What A Wonderful World\", \"track_name\": \"What A Wonderful World\", \"track_id\": \"29U7stRjqHU6rMiS8BfaI9\", \"danceability\": 0.271, \"energy\": 0.165, \"key\": 5, \"loudness\": -20.652, \"mode\": 1, \"speechiness\": 0.0351, \"instrumentalness\": 1.6e-06, \"liveness\": 0.118, \"valence\": 0.203, \"tempo\": 77.082, \"duration_ms\": 139227, \"time_signature\": 4, \"playlist_name\": \"List of 40 Selection\", \"Group\": \"Whattheylike\"}, {\"artist\": \"The Rolling Stones\", \"album\": \"Let It Bleed\", \"track_name\": \"You Can't Always Get What You Want\", \"track_id\": \"6lFZbCc7pn6Lme1NP7qQqQ\", \"danceability\": 0.32, \"energy\": 0.62, \"key\": 0, \"loudness\": -9.686, \"mode\": 1, \"speechiness\": 0.0594, \"instrumentalness\": 6.36e-05, \"liveness\": 0.253, \"valence\": 0.472, \"tempo\": 86.327, \"duration_ms\": 448720, \"time_signature\": 4, \"playlist_name\": \"List of 40 Selection\", \"Group\": \"Whattheylike\"}, {\"artist\": \"Howlin' Wolf\", \"album\": \"Howlin' Wolf\", \"track_name\": \"Spoonful\", \"track_id\": \"7j02rdE5RVtNcNMuLGY5SS\", \"danceability\": 0.821, \"energy\": 0.376, \"key\": 0, \"loudness\": -13.622, \"mode\": 1, \"speechiness\": 0.0487, \"instrumentalness\": 1.39e-05, \"liveness\": 0.106, \"valence\": 0.824, \"tempo\": 119.039, \"duration_ms\": 170000, \"time_signature\": 4, \"playlist_name\": \"List of 40 Selection\", \"Group\": \"Whattheylike\"}, {\"artist\": \"Jimi Hendrix\", \"album\": \"Axis: Bold As Love\", \"track_name\": \"Little Wing\", \"track_id\": \"1Eolhana7nKHYpcYpdVcT5\", \"danceability\": 0.515, \"energy\": 0.534, \"key\": 6, \"loudness\": -8.045, \"mode\": 1, \"speechiness\": 0.0768, \"instrumentalness\": 0.00278, \"liveness\": 0.0547, \"valence\": 0.426, \"tempo\": 70.776, \"duration_ms\": 145747, \"time_signature\": 4, \"playlist_name\": \"List of 40 Selection\", \"Group\": \"Whattheylike\"}, {\"artist\": \"Ben E. King\", \"album\": \"Stand By Me\", \"track_name\": \"Stand By Me\", \"track_id\": \"2KQM3kDM0zMBC9iynePBbS\", \"danceability\": 0.653, \"energy\": 0.334, \"key\": 9, \"loudness\": -6.955, \"mode\": 1, \"speechiness\": 0.0313, \"instrumentalness\": 3.47e-05, \"liveness\": 0.123, \"valence\": 0.665, \"tempo\": 119.46, \"duration_ms\": 174253, \"time_signature\": 4, \"playlist_name\": \"List of 40 Selection\", \"Group\": \"Whattheylike\"}, {\"artist\": \"Donovan\", \"album\": \"The Hurdy Gurdy Man\", \"track_name\": \"Hurdy Gurdy Man\", \"track_id\": \"7AL6qzIDHIX7pEUWrzNiIs\", \"danceability\": 0.405, \"energy\": 0.463, \"key\": 0, \"loudness\": -16.167, \"mode\": 1, \"speechiness\": 0.0542, \"instrumentalness\": 0.0442, \"liveness\": 0.392, \"valence\": 0.542, \"tempo\": 79.451, \"duration_ms\": 193467, \"time_signature\": 4, \"playlist_name\": \"List of 40 Selection\", \"Group\": \"Whattheylike\"}, {\"artist\": \"The Byrds\", \"album\": \"Turn! Turn! Turn!\", \"track_name\": \"Turn! Turn! Turn! (To Everything There Is a Season)\", \"track_id\": \"5qBqBdfTEIWJwAS0Jm2F5R\", \"danceability\": 0.451, \"energy\": 0.818, \"key\": 2, \"loudness\": -8.124, \"mode\": 1, \"speechiness\": 0.0439, \"instrumentalness\": 2.92e-05, \"liveness\": 0.052, \"valence\": 0.755, \"tempo\": 124.532, \"duration_ms\": 229360, \"time_signature\": 4, \"playlist_name\": \"List of 40 Selection\", \"Group\": \"Whattheylike\"}, {\"artist\": \"Patsy Cline\", \"album\": \"Sentimentally Yours\", \"track_name\": \"She's Got You - Single Version\", \"track_id\": \"4H1POasJbrLNaQirsIH29e\", \"danceability\": 0.388, \"energy\": 0.143, \"key\": 5, \"loudness\": -17.545, \"mode\": 1, \"speechiness\": 0.0416, \"instrumentalness\": 0.000865, \"liveness\": 0.1, \"valence\": 0.578, \"tempo\": 182.665, \"duration_ms\": 181800, \"time_signature\": 3, \"playlist_name\": \"List of 40 Selection\", \"Group\": \"Whattheylike\"}, {\"artist\": \"Sam Cooke\", \"album\": \"Ain't That Good News\", \"track_name\": \"A Change Is Gonna Come\", \"track_id\": \"0KOE1hat4SIer491XKk4Pa\", \"danceability\": 0.212, \"energy\": 0.383, \"key\": 10, \"loudness\": -10.071, \"mode\": 1, \"speechiness\": 0.0347, \"instrumentalness\": 0, \"liveness\": 0.299, \"valence\": 0.452, \"tempo\": 173.79, \"duration_ms\": 191160, \"time_signature\": 3, \"playlist_name\": \"EM - Subset of 40 List\", \"Group\": \"Whattheylike\"}, {\"artist\": \"Crosby, Stills & Nash\", \"album\": \"Crosby, Stills & Nash\", \"track_name\": \"Helplessly Hoping - 2005 Remaster\", \"track_id\": \"1UKobFsdqNXQb8OthimCKe\", \"danceability\": 0.483, \"energy\": 0.159, \"key\": 7, \"loudness\": -13.648, \"mode\": 1, \"speechiness\": 0.0353, \"instrumentalness\": 0, \"liveness\": 0.111, \"valence\": 0.423, \"tempo\": 146.721, \"duration_ms\": 157893, \"time_signature\": 4, \"playlist_name\": \"EM - Subset of 40 List\", \"Group\": \"Whattheylike\"}, {\"artist\": \"Peter, Paul and Mary\", \"album\": \"Album 1700\", \"track_name\": \"Leaving on a Jet Plane\", \"track_id\": \"6ZSTinOwx5dKFYc6iYyGDn\", \"danceability\": 0.414, \"energy\": 0.167, \"key\": 9, \"loudness\": -16.519, \"mode\": 1, \"speechiness\": 0.0484, \"instrumentalness\": 0, \"liveness\": 0.117, \"valence\": 0.384, \"tempo\": 133.45, \"duration_ms\": 207240, \"time_signature\": 4, \"playlist_name\": \"EM - Subset of 40 List\", \"Group\": \"Whattheylike\"}, {\"artist\": \"Bill Withers\", \"album\": \"Just As I Am\", \"track_name\": \"Ain't No Sunshine\", \"track_id\": \"1k1Bqnv2R0uJXQN4u6LKYt\", \"danceability\": 0.527, \"energy\": 0.415, \"key\": 4, \"loudness\": -11.451, \"mode\": 0, \"speechiness\": 0.122, \"instrumentalness\": 1.72e-05, \"liveness\": 0.117, \"valence\": 0.515, \"tempo\": 78.169, \"duration_ms\": 125093, \"time_signature\": 4, \"playlist_name\": \"EM - Subset of 40 List\", \"Group\": \"Whattheylike\"}, {\"artist\": \"Ray Charles\", \"album\": \"True Genius\", \"track_name\": \"Georgia on My Mind\", \"track_id\": \"6yMGxqKj0218mFR5KqsMRq\", \"danceability\": 0.19, \"energy\": 0.323, \"key\": 7, \"loudness\": -12.405, \"mode\": 1, \"speechiness\": 0.0303, \"instrumentalness\": 2.17e-06, \"liveness\": 0.176, \"valence\": 0.281, \"tempo\": 94.34, \"duration_ms\": 219560, \"time_signature\": 4, \"playlist_name\": \"EM - Subset of 40 List\", \"Group\": \"Whattheylike\"}, {\"artist\": \"The Temptations\", \"album\": \"The Temptations Sing Smokey\", \"track_name\": \"My Girl\", \"track_id\": \"745H5CctFr12Mo7cqa1BMH\", \"danceability\": 0.572, \"energy\": 0.418, \"key\": 0, \"loudness\": -10.738, \"mode\": 1, \"speechiness\": 0.0349, \"instrumentalness\": 0, \"liveness\": 0.0961, \"valence\": 0.694, \"tempo\": 104.566, \"duration_ms\": 165000, \"time_signature\": 4, \"playlist_name\": \"EM - Subset of 40 List\", \"Group\": \"Whattheylike\"}, {\"artist\": \"Aretha Franklin\", \"album\": \"Respect - The Very Best of\", \"track_name\": \"I Say a Little Prayer\", \"track_id\": \"0FD8KMG4pHp0O9clTpChjp\", \"danceability\": 0.59, \"energy\": 0.355, \"key\": 9, \"loudness\": -14.051, \"mode\": 1, \"speechiness\": 0.0352, \"instrumentalness\": 0, \"liveness\": 0.0585, \"valence\": 0.499, \"tempo\": 133.03, \"duration_ms\": 216773, \"time_signature\": 4, \"playlist_name\": \"EM - Subset of 40 List\", \"Group\": \"Whattheylike\"}, {\"artist\": \"Simon & Garfunkel\", \"album\": \"Bookends\", \"track_name\": \"America\", \"track_id\": \"6dfhF1BDGmhM69fnCb6wSC\", \"danceability\": 0.259, \"energy\": 0.241, \"key\": 2, \"loudness\": -15.955, \"mode\": 1, \"speechiness\": 0.042, \"instrumentalness\": 6.62e-06, \"liveness\": 0.0849, \"valence\": 0.275, \"tempo\": 178.453, \"duration_ms\": 215293, \"time_signature\": 3, \"playlist_name\": \"EM - Subset of 40 List\", \"Group\": \"Whattheylike\"}, {\"artist\": \"Otis Redding\", \"album\": \"Complete & Unbelievable: The Otis Redding Dictionary of Soul\", \"track_name\": \"Try a Little Tenderness\", \"track_id\": \"36AlMHDBFwSsD3FQOy1R81\", \"danceability\": 0.587, \"energy\": 0.133, \"key\": 9, \"loudness\": -15.151, \"mode\": 0, \"speechiness\": 0.0565, \"instrumentalness\": 2.26e-05, \"liveness\": 0.258, \"valence\": 0.068, \"tempo\": 102.938, \"duration_ms\": 201733, \"time_signature\": 4, \"playlist_name\": \"EM - Subset of 40 List\", \"Group\": \"Whattheylike\"}, {\"artist\": \"Nina Simone\", \"album\": \"Pastel Blues\", \"track_name\": \"Sinnerman\", \"track_id\": \"5xRP5iyVdGglqlY4Vcjhkx\", \"danceability\": 0.436, \"energy\": 0.543, \"key\": 11, \"loudness\": -13.351, \"mode\": 0, \"speechiness\": 0.0962, \"instrumentalness\": 9.35e-06, \"liveness\": 0.0937, \"valence\": 0.663, \"tempo\": 148.282, \"duration_ms\": 622000, \"time_signature\": 4, \"playlist_name\": \"EM - Subset of 40 List\", \"Group\": \"Whattheylike\"}, {\"artist\": \"The Temptations\", \"album\": \"The Temptations Sing Smokey\", \"track_name\": \"My Girl\", \"track_id\": \"745H5CctFr12Mo7cqa1BMH\", \"danceability\": 0.572, \"energy\": 0.418, \"key\": 0, \"loudness\": -10.738, \"mode\": 1, \"speechiness\": 0.0349, \"instrumentalness\": 0, \"liveness\": 0.0961, \"valence\": 0.694, \"tempo\": 104.566, \"duration_ms\": 165000, \"time_signature\": 4, \"playlist_name\": \"Nostalgia\", \"Group\": \"Whattheylike\"}, {\"artist\": \"Aretha Franklin\", \"album\": \"Respect - The Very Best of\", \"track_name\": \"I Say a Little Prayer\", \"track_id\": \"0FD8KMG4pHp0O9clTpChjp\", \"danceability\": 0.59, \"energy\": 0.355, \"key\": 9, \"loudness\": -14.051, \"mode\": 1, \"speechiness\": 0.0352, \"instrumentalness\": 0, \"liveness\": 0.0585, \"valence\": 0.499, \"tempo\": 133.03, \"duration_ms\": 216773, \"time_signature\": 4, \"playlist_name\": \"Nostalgia\", \"Group\": \"Whattheylike\"}, {\"artist\": \"Sam Cooke\", \"album\": \"Ain't That Good News\", \"track_name\": \"A Change Is Gonna Come\", \"track_id\": \"0KOE1hat4SIer491XKk4Pa\", \"danceability\": 0.212, \"energy\": 0.383, \"key\": 10, \"loudness\": -10.071, \"mode\": 1, \"speechiness\": 0.0347, \"instrumentalness\": 0, \"liveness\": 0.299, \"valence\": 0.452, \"tempo\": 173.79, \"duration_ms\": 191160, \"time_signature\": 3, \"playlist_name\": \"Nostalgia\", \"Group\": \"Whattheylike\"}, {\"artist\": \"Louis Armstrong\", \"album\": \"What A Wonderful World\", \"track_name\": \"What A Wonderful World\", \"track_id\": \"29U7stRjqHU6rMiS8BfaI9\", \"danceability\": 0.271, \"energy\": 0.165, \"key\": 5, \"loudness\": -20.652, \"mode\": 1, \"speechiness\": 0.0351, \"instrumentalness\": 1.6e-06, \"liveness\": 0.118, \"valence\": 0.203, \"tempo\": 77.082, \"duration_ms\": 139227, \"time_signature\": 4, \"playlist_name\": \"Nostalgia\", \"Group\": \"Whattheylike\"}, {\"artist\": \"Frank Sinatra\", \"album\": \"Strangers In The Night (Expanded Edition)\", \"track_name\": \"Strangers In The Night\", \"track_id\": \"74VR3AkGPhbYXnxcOYa16x\", \"danceability\": 0.259, \"energy\": 0.473, \"key\": 5, \"loudness\": -8.275, \"mode\": 1, \"speechiness\": 0.0295, \"instrumentalness\": 0, \"liveness\": 0.201, \"valence\": 0.539, \"tempo\": 90.348, \"duration_ms\": 157867, \"time_signature\": 4, \"playlist_name\": \"Nostalgia\", \"Group\": \"Whattheylike\"}, {\"artist\": \"Ella Fitzgerald\", \"album\": \"Ella And Basie\", \"track_name\": \"Dream A Little Dream Of Me\", \"track_id\": \"7sO8fLoq7H3er7C24UtLiF\", \"danceability\": 0.283, \"energy\": 0.0738, \"key\": 7, \"loudness\": -23.595, \"mode\": 1, \"speechiness\": 0.0763, \"instrumentalness\": 0, \"liveness\": 0.105, \"valence\": 0.223, \"tempo\": 72.034, \"duration_ms\": 246160, \"time_signature\": 4, \"playlist_name\": \"Nostalgia\", \"Group\": \"Whattheylike\"}, {\"artist\": \"Ray Charles\", \"album\": \"True Genius\", \"track_name\": \"Georgia on My Mind\", \"track_id\": \"6yMGxqKj0218mFR5KqsMRq\", \"danceability\": 0.19, \"energy\": 0.323, \"key\": 7, \"loudness\": -12.405, \"mode\": 1, \"speechiness\": 0.0303, \"instrumentalness\": 2.17e-06, \"liveness\": 0.176, \"valence\": 0.281, \"tempo\": 94.34, \"duration_ms\": 219560, \"time_signature\": 4, \"playlist_name\": \"Nostalgia\", \"Group\": \"Whattheylike\"}, {\"artist\": \"Bill Withers\", \"album\": \"Just As I Am\", \"track_name\": \"Ain't No Sunshine\", \"track_id\": \"1k1Bqnv2R0uJXQN4u6LKYt\", \"danceability\": 0.527, \"energy\": 0.415, \"key\": 4, \"loudness\": -11.451, \"mode\": 0, \"speechiness\": 0.122, \"instrumentalness\": 1.72e-05, \"liveness\": 0.117, \"valence\": 0.515, \"tempo\": 78.169, \"duration_ms\": 125093, \"time_signature\": 4, \"playlist_name\": \"Nostalgia\", \"Group\": \"Whattheylike\"}, {\"artist\": \"Santana\", \"album\": \"Abraxas\", \"track_name\": \"Oye Como Va\", \"track_id\": \"5u6y4u5EgDv0peILf60H5t\", \"danceability\": 0.736, \"energy\": 0.379, \"key\": 7, \"loudness\": -13.208, \"mode\": 1, \"speechiness\": 0.0539, \"instrumentalness\": 0.345, \"liveness\": 0.104, \"valence\": 0.948, \"tempo\": 128.399, \"duration_ms\": 256933, \"time_signature\": 4, \"playlist_name\": \"Nostalgia\", \"Group\": \"Whattheylike\"}, {\"artist\": \"Wilson Pickett\", \"album\": \"In the Midnight Hour\", \"track_name\": \"In the Midnight Hour\", \"track_id\": \"4NRQwaks9r58tTDvr4iEyv\", \"danceability\": 0.75, \"energy\": 0.444, \"key\": 4, \"loudness\": -8.63, \"mode\": 1, \"speechiness\": 0.0403, \"instrumentalness\": 3.69e-06, \"liveness\": 0.118, \"valence\": 0.849, \"tempo\": 111.919, \"duration_ms\": 157160, \"time_signature\": 4, \"playlist_name\": \"Nostalgia\", \"Group\": \"Whattheylike\"}, {\"artist\": \"Aretha Franklin\", \"album\": \"Respect - The Very Best of\", \"track_name\": \"I Say a Little Prayer\", \"track_id\": \"0FD8KMG4pHp0O9clTpChjp\", \"danceability\": 0.59, \"energy\": 0.355, \"key\": 9, \"loudness\": -14.051, \"mode\": 1, \"speechiness\": 0.0352, \"instrumentalness\": 0, \"liveness\": 0.0585, \"valence\": 0.499, \"tempo\": 133.03, \"duration_ms\": 216773, \"time_signature\": 4, \"playlist_name\": \"MUSC255: Subset_of_40\", \"Group\": \"Whattheylike\"}, {\"artist\": \"Ben E. King\", \"album\": \"Stand By Me\", \"track_name\": \"Stand By Me\", \"track_id\": \"2KQM3kDM0zMBC9iynePBbS\", \"danceability\": 0.653, \"energy\": 0.334, \"key\": 9, \"loudness\": -6.955, \"mode\": 1, \"speechiness\": 0.0313, \"instrumentalness\": 3.47e-05, \"liveness\": 0.123, \"valence\": 0.665, \"tempo\": 119.46, \"duration_ms\": 174253, \"time_signature\": 4, \"playlist_name\": \"MUSC255: Subset_of_40\", \"Group\": \"Whattheylike\"}, {\"artist\": \"Jimi Hendrix\", \"album\": \"Axis: Bold As Love\", \"track_name\": \"Little Wing\", \"track_id\": \"1Eolhana7nKHYpcYpdVcT5\", \"danceability\": 0.515, \"energy\": 0.534, \"key\": 6, \"loudness\": -8.045, \"mode\": 1, \"speechiness\": 0.0768, \"instrumentalness\": 0.00278, \"liveness\": 0.0547, \"valence\": 0.426, \"tempo\": 70.776, \"duration_ms\": 145747, \"time_signature\": 4, \"playlist_name\": \"MUSC255: Subset_of_40\", \"Group\": \"Whattheylike\"}, {\"artist\": \"Simon & Garfunkel\", \"album\": \"Bookends\", \"track_name\": \"America\", \"track_id\": \"6dfhF1BDGmhM69fnCb6wSC\", \"danceability\": 0.259, \"energy\": 0.241, \"key\": 2, \"loudness\": -15.955, \"mode\": 1, \"speechiness\": 0.042, \"instrumentalness\": 6.62e-06, \"liveness\": 0.0849, \"valence\": 0.275, \"tempo\": 178.453, \"duration_ms\": 215293, \"time_signature\": 3, \"playlist_name\": \"MUSC255: Subset_of_40\", \"Group\": \"Whattheylike\"}, {\"artist\": \"Leonard Cohen\", \"album\": \"Songs From A Room\", \"track_name\": \"Bird on the Wire\", \"track_id\": \"3M0QK0bYdiGMu6JNoPk8YG\", \"danceability\": 0.402, \"energy\": 0.114, \"key\": 9, \"loudness\": -15.691, \"mode\": 1, \"speechiness\": 0.0321, \"instrumentalness\": 0.0024, \"liveness\": 0.318, \"valence\": 0.191, \"tempo\": 128.332, \"duration_ms\": 206373, \"time_signature\": 3, \"playlist_name\": \"MUSC255: Subset_of_40\", \"Group\": \"Whattheylike\"}, {\"artist\": \"Jefferson Airplane\", \"album\": \"Surrealistic Pillow\", \"track_name\": \"White Rabbit\", \"track_id\": \"4vpeKl0vMGdAXpZiQB2Dtd\", \"danceability\": 0.551, \"energy\": 0.293, \"key\": 2, \"loudness\": -12.503, \"mode\": 1, \"speechiness\": 0.0272, \"instrumentalness\": 0.000273, \"liveness\": 0.0864, \"valence\": 0.322, \"tempo\": 106.798, \"duration_ms\": 150640, \"time_signature\": 4, \"playlist_name\": \"MUSC255: Subset_of_40\", \"Group\": \"Whattheylike\"}, {\"artist\": \"Otis Redding\", \"album\": \"Complete & Unbelievable: The Otis Redding Dictionary of Soul\", \"track_name\": \"Try a Little Tenderness\", \"track_id\": \"36AlMHDBFwSsD3FQOy1R81\", \"danceability\": 0.587, \"energy\": 0.133, \"key\": 9, \"loudness\": -15.151, \"mode\": 0, \"speechiness\": 0.0565, \"instrumentalness\": 2.26e-05, \"liveness\": 0.258, \"valence\": 0.068, \"tempo\": 102.938, \"duration_ms\": 201733, \"time_signature\": 4, \"playlist_name\": \"MUSC255: Subset_of_40\", \"Group\": \"Whattheylike\"}, {\"artist\": \"Nina Simone\", \"album\": \"Pastel Blues\", \"track_name\": \"Sinnerman\", \"track_id\": \"5xRP5iyVdGglqlY4Vcjhkx\", \"danceability\": 0.436, \"energy\": 0.543, \"key\": 11, \"loudness\": -13.351, \"mode\": 0, \"speechiness\": 0.0962, \"instrumentalness\": 9.35e-06, \"liveness\": 0.0937, \"valence\": 0.663, \"tempo\": 148.282, \"duration_ms\": 622000, \"time_signature\": 4, \"playlist_name\": \"MUSC255: Subset_of_40\", \"Group\": \"Whattheylike\"}, {\"artist\": \"Louis Armstrong\", \"album\": \"What A Wonderful World\", \"track_name\": \"What A Wonderful World\", \"track_id\": \"29U7stRjqHU6rMiS8BfaI9\", \"danceability\": 0.271, \"energy\": 0.165, \"key\": 5, \"loudness\": -20.652, \"mode\": 1, \"speechiness\": 0.0351, \"instrumentalness\": 1.6e-06, \"liveness\": 0.118, \"valence\": 0.203, \"tempo\": 77.082, \"duration_ms\": 139227, \"time_signature\": 4, \"playlist_name\": \"MUSC255: Subset_of_40\", \"Group\": \"Whattheylike\"}, {\"artist\": \"Ella Fitzgerald\", \"album\": \"Ella And Basie\", \"track_name\": \"Dream A Little Dream Of Me\", \"track_id\": \"7sO8fLoq7H3er7C24UtLiF\", \"danceability\": 0.283, \"energy\": 0.0738, \"key\": 7, \"loudness\": -23.595, \"mode\": 1, \"speechiness\": 0.0763, \"instrumentalness\": 0, \"liveness\": 0.105, \"valence\": 0.223, \"tempo\": 72.034, \"duration_ms\": 246160, \"time_signature\": 4, \"playlist_name\": \"MUSC255: Subset_of_40\", \"Group\": \"Whattheylike\"}, {\"artist\": \"Post Malone\", \"album\": \"Stoney (Deluxe)\", \"track_name\": \"Feeling Whitney\", \"track_id\": \"35r28RDot7nPE7y9K9H7l0\", \"danceability\": 0.412, \"energy\": 0.227, \"key\": 0, \"loudness\": -12.696, \"mode\": 1, \"speechiness\": 0.0359, \"instrumentalness\": 4.69e-06, \"liveness\": 0.282, \"valence\": 0.226, \"tempo\": 80.111, \"duration_ms\": 257267, \"time_signature\": 4, \"playlist_name\": \"MUSC255:Lonely_Loner\", \"Group\": \"Thinktheylike\"}, {\"artist\": \"Kendrick Lamar\", \"album\": \"DAMN.\", \"track_name\": \"LOVE. FEAT. ZACARI.\", \"track_id\": \"6PGoSes0D9eUDeeAafB2As\", \"danceability\": 0.8, \"energy\": 0.585, \"key\": 10, \"loudness\": -7.343, \"mode\": 1, \"speechiness\": 0.0924, \"instrumentalness\": 0.0, \"liveness\": 0.153, \"valence\": 0.779, \"tempo\": 126.058, \"duration_ms\": 213400, \"time_signature\": 4, \"playlist_name\": \"MUSC255:Lonely_Loner\", \"Group\": \"Thinktheylike\"}, {\"artist\": \"Frank Ocean\", \"album\": \"channel ORANGE\", \"track_name\": \"Lost\", \"track_id\": \"3GZD6HmiNUhxXYf8Gch723\", \"danceability\": 0.913, \"energy\": 0.603, \"key\": 8, \"loudness\": -4.892, \"mode\": 1, \"speechiness\": 0.226, \"instrumentalness\": 0.000503, \"liveness\": 0.167, \"valence\": 0.497, \"tempo\": 123.061, \"duration_ms\": 234093, \"time_signature\": 4, \"playlist_name\": \"MUSC255:Lonely_Loner\", \"Group\": \"Thinktheylike\"}, {\"artist\": \"Mac Miller\", \"album\": \"Watching Movies with the Sound Off\", \"track_name\": \"Youforia\", \"track_id\": \"2dLYzJHP5Zc6xuMNLnhH16\", \"danceability\": 0.146, \"energy\": 0.606, \"key\": 8, \"loudness\": -6.305, \"mode\": 1, \"speechiness\": 0.0428, \"instrumentalness\": 0.0, \"liveness\": 0.111, \"valence\": 0.092, \"tempo\": 178.981, \"duration_ms\": 237777, \"time_signature\": 3, \"playlist_name\": \"MUSC255:Lonely_Loner\", \"Group\": \"Thinktheylike\"}, {\"artist\": \"TSUKI\", \"album\": \"I Knew You so Well (feat. Shiloh Dynasty)\", \"track_name\": \"I Knew You so Well (feat. Shiloh Dynasty)\", \"track_id\": \"4Ey5V66mJkAWBsDr70kBvG\", \"danceability\": 0.857, \"energy\": 0.397, \"key\": 5, \"loudness\": -10.078, \"mode\": 0, \"speechiness\": 0.333, \"instrumentalness\": 0.58, \"liveness\": 0.934, \"valence\": 0.443, \"tempo\": 85.002, \"duration_ms\": 153177, \"time_signature\": 4, \"playlist_name\": \"MUSC255:Lonely_Loner\", \"Group\": \"Thinktheylike\"}, {\"artist\": \"me7k\", \"album\": \"Is It Too Much to Ask For\", \"track_name\": \"Is It Too Much to Ask For\", \"track_id\": \"5KPSKv02jtAsI7fmpT7enC\", \"danceability\": 0.901, \"energy\": 0.467, \"key\": 10, \"loudness\": -9.142, \"mode\": 1, \"speechiness\": 0.0586, \"instrumentalness\": 0.0153, \"liveness\": 0.105, \"valence\": 0.58, \"tempo\": 105.586, \"duration_ms\": 100587, \"time_signature\": 4, \"playlist_name\": \"MUSC255:Lonely_Loner\", \"Group\": \"Thinktheylike\"}, {\"artist\": \"Drake\", \"album\": \"Take Care (Deluxe)\", \"track_name\": \"Marvins Room\", \"track_id\": \"047fCsbO4NdmwCBn8pcUXl\", \"danceability\": 0.492, \"energy\": 0.26, \"key\": 9, \"loudness\": -17.341, \"mode\": 0, \"speechiness\": 0.0921, \"instrumentalness\": 0.00178, \"liveness\": 0.0705, \"valence\": 0.312, \"tempo\": 111.519, \"duration_ms\": 347227, \"time_signature\": 5, \"playlist_name\": \"MUSC255:Lonely_Loner\", \"Group\": \"Thinktheylike\"}, {\"artist\": \"J. Cole\", \"album\": \"2014 Forest Hills Drive\", \"track_name\": \"Hello\", \"track_id\": \"30Chv2SmIry70YwtmtaKnj\", \"danceability\": 0.598, \"energy\": 0.7, \"key\": 9, \"loudness\": -8.565, \"mode\": 0, \"speechiness\": 0.22, \"instrumentalness\": 1.13e-05, \"liveness\": 0.106, \"valence\": 0.329, \"tempo\": 159.899, \"duration_ms\": 219173, \"time_signature\": 4, \"playlist_name\": \"MUSC255:Lonely_Loner\", \"Group\": \"Thinktheylike\"}, {\"artist\": \"Billie Eilish\", \"album\": \"dont smile at me\", \"track_name\": \"idontwannabeyouanymore\", \"track_id\": \"41zXlQxzTi6cGAjpOXyLYH\", \"danceability\": 0.483, \"energy\": 0.412, \"key\": 7, \"loudness\": -8.461, \"mode\": 1, \"speechiness\": 0.0402, \"instrumentalness\": 0.0, \"liveness\": 0.116, \"valence\": 0.247, \"tempo\": 170.163, \"duration_ms\": 203569, \"time_signature\": 3, \"playlist_name\": \"MUSC255:Lonely_Loner\", \"Group\": \"Thinktheylike\"}, {\"artist\": \"Chance the Rapper\", \"album\": \"Coloring Book\", \"track_name\": \"Same Drugs\", \"track_id\": \"6m9qPYXmhge2QhBLfFKnVF\", \"danceability\": 0.461, \"energy\": 0.293, \"key\": 6, \"loudness\": -9.52, \"mode\": 1, \"speechiness\": 0.0555, \"instrumentalness\": 9.95e-06, \"liveness\": 0.0936, \"valence\": 0.531, \"tempo\": 180.297, \"duration_ms\": 257775, \"time_signature\": 4, \"playlist_name\": \"MUSC255:Lonely_Loner\", \"Group\": \"Thinktheylike\"}, {\"artist\": \"Goth Babe\", \"album\": \"Encinitas\", \"track_name\": \"Encinitas\", \"track_id\": \"4tO2Ol08xzay6zcfhDKpuN\", \"danceability\": 0.76, \"energy\": 0.577, \"key\": 7, \"loudness\": -4.981, \"mode\": 1, \"speechiness\": 0.0908, \"instrumentalness\": 0.00352, \"liveness\": 0.445, \"valence\": 0.553, \"tempo\": 116.02, \"duration_ms\": 171724, \"time_signature\": 4, \"playlist_name\": \"My Summer Playlist\", \"Group\": \"Thinktheylike\"}, {\"artist\": \"Steve Lacy\", \"album\": \"Gemini Rights\", \"track_name\": \"Bad Habit\", \"track_id\": \"4k6Uh1HXdhtusDW5y8Gbvy\", \"danceability\": 0.686, \"energy\": 0.494, \"key\": 1, \"loudness\": -7.093, \"mode\": 1, \"speechiness\": 0.0355, \"instrumentalness\": 5.8e-05, \"liveness\": 0.402, \"valence\": 0.7, \"tempo\": 168.946, \"duration_ms\": 232067, \"time_signature\": 4, \"playlist_name\": \"My Summer Playlist\", \"Group\": \"Thinktheylike\"}, {\"artist\": \"Dominic Fike\", \"album\": \"What Could Possibly Go Wrong\", \"track_name\": \"Wurli\", \"track_id\": \"5MSshyHGM9ajWSEoBcR0jv\", \"danceability\": 0.482, \"energy\": 0.837, \"key\": 11, \"loudness\": -3.696, \"mode\": 1, \"speechiness\": 0.0639, \"instrumentalness\": 0.0216, \"liveness\": 0.132, \"valence\": 0.0787, \"tempo\": 91.968, \"duration_ms\": 150620, \"time_signature\": 4, \"playlist_name\": \"My Summer Playlist\", \"Group\": \"Thinktheylike\"}, {\"artist\": \"Remi Wolf\", \"album\": \"We Love Dogs!\", \"track_name\": \"Photo ID (with Dominic Fike)\", \"track_id\": \"1F35Dmog9pekyCVnH1eQpl\", \"danceability\": 0.75, \"energy\": 0.829, \"key\": 1, \"loudness\": -4.942, \"mode\": 1, \"speechiness\": 0.0915, \"instrumentalness\": 0.0, \"liveness\": 0.279, \"valence\": 0.87, \"tempo\": 115.894, \"duration_ms\": 209971, \"time_signature\": 4, \"playlist_name\": \"My Summer Playlist\", \"Group\": \"Thinktheylike\"}, {\"artist\": \"Nicky Youre\", \"album\": \"Sunroof\", \"track_name\": \"Sunroof\", \"track_id\": \"3RfTeIrWS8LNrfHYwechtt\", \"danceability\": 0.768, \"energy\": 0.716, \"key\": 10, \"loudness\": -5.11, \"mode\": 1, \"speechiness\": 0.0404, \"instrumentalness\": 0.0, \"liveness\": 0.15, \"valence\": 0.841, \"tempo\": 131.43, \"duration_ms\": 163026, \"time_signature\": 4, \"playlist_name\": \"My Summer Playlist\", \"Group\": \"Thinktheylike\"}, {\"artist\": \"Glass Animals\", \"album\": \"Dreamland\", \"track_name\": \"Tangerine\", \"track_id\": \"40rOlDoGejXXF4B0BYsjx8\", \"danceability\": 0.845, \"energy\": 0.583, \"key\": 9, \"loudness\": -5.948, \"mode\": 0, \"speechiness\": 0.0773, \"instrumentalness\": 0.000536, \"liveness\": 0.1, \"valence\": 0.842, \"tempo\": 149.941, \"duration_ms\": 200584, \"time_signature\": 4, \"playlist_name\": \"My Summer Playlist\", \"Group\": \"Thinktheylike\"}, {\"artist\": \"The Griswolds\", \"album\": \"Nice to Meet Ya!\", \"track_name\": \"Nice to Meet Ya!\", \"track_id\": \"0llZHj92zlvNoX8pvhdguD\", \"danceability\": 0.547, \"energy\": 0.865, \"key\": 10, \"loudness\": -5.377, \"mode\": 0, \"speechiness\": 0.0761, \"instrumentalness\": 0.00361, \"liveness\": 0.0721, \"valence\": 0.855, \"tempo\": 164.886, \"duration_ms\": 171401, \"time_signature\": 4, \"playlist_name\": \"My Summer Playlist\", \"Group\": \"Thinktheylike\"}, {\"artist\": \"Glass Animals\", \"album\": \"How To Be A Human Being\", \"track_name\": \"Youth\", \"track_id\": \"1LPGwuFgIzbJoShfDdw7MY\", \"danceability\": 0.648, \"energy\": 0.718, \"key\": 9, \"loudness\": -7.765, \"mode\": 0, \"speechiness\": 0.0298, \"instrumentalness\": 0.00156, \"liveness\": 0.112, \"valence\": 0.785, \"tempo\": 96.017, \"duration_ms\": 230693, \"time_signature\": 4, \"playlist_name\": \"My Summer Playlist\", \"Group\": \"Thinktheylike\"}, {\"artist\": \"Goth Babe\", \"album\": \"I Wanna Help Your Mind\", \"track_name\": \"I Wanna Help Your Mind\", \"track_id\": \"08ZZ7SILfKcreLtA3K6Gqr\", \"danceability\": 0.747, \"energy\": 0.725, \"key\": 8, \"loudness\": -8.517, \"mode\": 1, \"speechiness\": 0.215, \"instrumentalness\": 0.197, \"liveness\": 0.0688, \"valence\": 0.799, \"tempo\": 119.942, \"duration_ms\": 171938, \"time_signature\": 4, \"playlist_name\": \"My Summer Playlist\", \"Group\": \"Thinktheylike\"}, {\"artist\": \"Dominic Fike\", \"album\": \"What Could Possibly Go Wrong\", \"track_name\": \"Double Negative (Skeleton Milkshake)\", \"track_id\": \"7ACT6YaXbYvl7hRWEOOEHQ\", \"danceability\": 0.689, \"energy\": 0.858, \"key\": 4, \"loudness\": -2.868, \"mode\": 1, \"speechiness\": 0.161, \"instrumentalness\": 0.0, \"liveness\": 0.129, \"valence\": 0.643, \"tempo\": 153.977, \"duration_ms\": 126465, \"time_signature\": 4, \"playlist_name\": \"My Summer Playlist\", \"Group\": \"Thinktheylike\"}, {\"artist\": \"\\u30a2\\u30c8\\u30e9\\u30b9\\u30b5\\u30a6\\u30f3\\u30c9\\u30c1\\u30fc\\u30e0\", \"album\": \"PERSONA5 ORIGINAL SOUNDTRACK\", \"track_name\": \"Beneath the Mask\", \"track_id\": \"5XLXrm5JVMdOus1fWmTOFw\", \"danceability\": 0.717, \"energy\": 0.466, \"key\": 5, \"loudness\": -12.434, \"mode\": 1, \"speechiness\": 0.0259, \"instrumentalness\": 0.105, \"liveness\": 0.161, \"valence\": 0.644, \"tempo\": 147.966, \"duration_ms\": 277880, \"time_signature\": 4, \"playlist_name\": \"Aidans Shower Playlist\", \"Group\": \"Thinktheylike\"}, {\"artist\": \"DS Music\", \"album\": \"Aria of the Soul (From \\\"Persona 5\\\")\", \"track_name\": \"Aria of the Soul (From \\\"Persona 5\\\")\", \"track_id\": \"6Et51Jb2Jj8Fg9FVwdlzEx\", \"danceability\": 0.398, \"energy\": 0.224, \"key\": 2, \"loudness\": -12.949, \"mode\": 1, \"speechiness\": 0.0622, \"instrumentalness\": 0.919, \"liveness\": 0.106, \"valence\": 0.114, \"tempo\": 98.783, \"duration_ms\": 170899, \"time_signature\": 4, \"playlist_name\": \"Aidans Shower Playlist\", \"Group\": \"Thinktheylike\"}, {\"artist\": \"Streaming Music Studios\", \"album\": \"The Legend of Zelda: Breath of the Wild - A Piano Collection\", \"track_name\": \"Kass's Theme (From \\\"The Legend of Zelda: Breath of the Wild\\\") [Piano Version]\", \"track_id\": \"4GbeaulUGgkDkuCZJ95CLE\", \"danceability\": 0.584, \"energy\": 0.17, \"key\": 9, \"loudness\": -20.902, \"mode\": 0, \"speechiness\": 0.0641, \"instrumentalness\": 0.858, \"liveness\": 0.106, \"valence\": 0.338, \"tempo\": 169.748, \"duration_ms\": 60831, \"time_signature\": 3, \"playlist_name\": \"Aidans Shower Playlist\", \"Group\": \"Thinktheylike\"}, {\"artist\": \"The Marcus Hedges Trend Orchestra\", \"album\": \"The Wind Waker Orchestrated\", \"track_name\": \"The Great Sea\", \"track_id\": \"1D644kNnetS59dp2wUoVMl\", \"danceability\": 0.373, \"energy\": 0.442, \"key\": 2, \"loudness\": -11.403, \"mode\": 1, \"speechiness\": 0.0331, \"instrumentalness\": 0.847, \"liveness\": 0.331, \"valence\": 0.351, \"tempo\": 139.895, \"duration_ms\": 227861, \"time_signature\": 4, \"playlist_name\": \"Aidans Shower Playlist\", \"Group\": \"Thinktheylike\"}, {\"artist\": \"Andrew Skeet\", \"album\": \"The Greatest Video Game Music\", \"track_name\": \"Super Mario Galaxy: Gusty Garden Galaxy\", \"track_id\": \"05XPxcgHp4I4CFlOhMnskS\", \"danceability\": 0.249, \"energy\": 0.316, \"key\": 1, \"loudness\": -14.587, \"mode\": 1, \"speechiness\": 0.0368, \"instrumentalness\": 0.963, \"liveness\": 0.294, \"valence\": 0.32, \"tempo\": 153.897, \"duration_ms\": 229777, \"time_signature\": 4, \"playlist_name\": \"Aidans Shower Playlist\", \"Group\": \"Thinktheylike\"}, {\"artist\": \"Arcade Player\", \"album\": \"Super Mario Galaxy, Greatest Themes & Sounds\", \"track_name\": \"Battlerock Galaxy\", \"track_id\": \"5HegnNzBAn6XsL4XTpBHIq\", \"danceability\": 0.471, \"energy\": 0.0859, \"key\": 4, \"loudness\": -13.043, \"mode\": 1, \"speechiness\": 0.0316, \"instrumentalness\": 0.917, \"liveness\": 0.132, \"valence\": 0.217, \"tempo\": 137.955, \"duration_ms\": 204521, \"time_signature\": 4, \"playlist_name\": \"Aidans Shower Playlist\", \"Group\": \"Thinktheylike\"}, {\"artist\": \"Various Artists\", \"album\": \"\\u30da\\u30eb\\u30bd\\u30ca4 \\u30aa\\u30ea\\u30b8\\u30ca\\u30eb\\u30fb\\u30b5\\u30a6\\u30f3\\u30c9\\u30c8\\u30e9\\u30c3\\u30af\", \"track_name\": \"Your Affection\", \"track_id\": \"6idKSeBnFz49htgvyWoMro\", \"danceability\": 0.687, \"energy\": 0.884, \"key\": 11, \"loudness\": -5.91, \"mode\": 1, \"speechiness\": 0.0342, \"instrumentalness\": 0.000617, \"liveness\": 0.334, \"valence\": 0.744, \"tempo\": 119.026, \"duration_ms\": 172013, \"time_signature\": 4, \"playlist_name\": \"Aidans Shower Playlist\", \"Group\": \"Thinktheylike\"}, {\"artist\": \"\\u30a2\\u30c8\\u30e9\\u30b9\\u30b5\\u30a6\\u30f3\\u30c9\\u30c1\\u30fc\\u30e0\", \"album\": \"PERSONA5 ORIGINAL SOUNDTRACK\", \"track_name\": \"Life Will Change\", \"track_id\": \"0LNyWv4RYKbaXIvzk6nMxZ\", \"danceability\": 0.702, \"energy\": 0.92, \"key\": 0, \"loudness\": -5.121, \"mode\": 0, \"speechiness\": 0.0363, \"instrumentalness\": 0.0133, \"liveness\": 0.127, \"valence\": 0.625, \"tempo\": 131.986, \"duration_ms\": 262027, \"time_signature\": 4, \"playlist_name\": \"Aidans Shower Playlist\", \"Group\": \"Thinktheylike\"}, {\"artist\": \"Thennecan\", \"album\": \"The Battle for Everyone's Souls (From \\\"Persona 3\\\")\", \"track_name\": \"The Battle for Everyone's Souls (From \\\"Persona 3\\\")\", \"track_id\": \"6Mf81jUHqt2RPldYSl2P2F\", \"danceability\": 0.441, \"energy\": 0.735, \"key\": 11, \"loudness\": -6.598, \"mode\": 0, \"speechiness\": 0.0331, \"instrumentalness\": 0.859, \"liveness\": 0.0611, \"valence\": 0.256, \"tempo\": 150.044, \"duration_ms\": 338800, \"time_signature\": 4, \"playlist_name\": \"Aidans Shower Playlist\", \"Group\": \"Thinktheylike\"}, {\"artist\": \"Various Artists\", \"album\": \"\\u30da\\u30eb\\u30bd\\u30ca3 \\u30aa\\u30ea\\u30b8\\u30ca\\u30eb\\u30fb\\u30b5\\u30a6\\u30f3\\u30c9\\u30c8\\u30e9\\u30c3\\u30af\", \"track_name\": \"\\u30ad\\u30df\\u306e\\u8a18\\u61b6\", \"track_id\": \"34RdcQ0rkkbdjbx7ks6BJF\", \"danceability\": 0.649, \"energy\": 0.802, \"key\": 2, \"loudness\": -7.947, \"mode\": 1, \"speechiness\": 0.028, \"instrumentalness\": 0.0, \"liveness\": 0.252, \"valence\": 0.819, \"tempo\": 111.979, \"duration_ms\": 369387, \"time_signature\": 4, \"playlist_name\": \"Aidans Shower Playlist\", \"Group\": \"Thinktheylike\"}, {\"artist\": \"Radiohead\", \"album\": \"Pablo Honey\", \"track_name\": \"Creep\", \"track_id\": \"70LcF31zb1H0PyJoS1Sx1r\", \"danceability\": 0.515, \"energy\": 0.43, \"key\": 7, \"loudness\": -9.935, \"mode\": 1, \"speechiness\": 0.0372, \"instrumentalness\": 0.000133, \"liveness\": 0.129, \"valence\": 0.104, \"tempo\": 91.844, \"duration_ms\": 238640, \"time_signature\": 4, \"playlist_name\": \"POV: You Just Discovered Popular Music Older than You and are Making it Your Entire Personality\", \"Group\": \"Thinktheylike\"}, {\"artist\": \"Queen\", \"album\": \"Stone Cold Classics\", \"track_name\": \"Bohemian Rhapsody\", \"track_id\": \"6l8GvAyoUZwWDgF1e4822w\", \"danceability\": 0.397, \"energy\": 0.386, \"key\": 0, \"loudness\": -10.405, \"mode\": 0, \"speechiness\": 0.0503, \"instrumentalness\": 0.0, \"liveness\": 0.188, \"valence\": 0.21, \"tempo\": 144.242, \"duration_ms\": 355400, \"time_signature\": 4, \"playlist_name\": \"POV: You Just Discovered Popular Music Older than You and are Making it Your Entire Personality\", \"Group\": \"Thinktheylike\"}, {\"artist\": \"Eagles\", \"album\": \"Hotel California (2013 Remaster)\", \"track_name\": \"Hotel California - 2013 Remaster\", \"track_id\": \"40riOy7x9W7GXjyGp4pjAv\", \"danceability\": 0.579, \"energy\": 0.508, \"key\": 2, \"loudness\": -9.484, \"mode\": 1, \"speechiness\": 0.027, \"instrumentalness\": 0.000494, \"liveness\": 0.0575, \"valence\": 0.609, \"tempo\": 147.125, \"duration_ms\": 391376, \"time_signature\": 4, \"playlist_name\": \"POV: You Just Discovered Popular Music Older than You and are Making it Your Entire Personality\", \"Group\": \"Thinktheylike\"}, {\"artist\": \"Led Zeppelin\", \"album\": \"Led Zeppelin IV (Deluxe Edition)\", \"track_name\": \"Stairway to Heaven - Remaster\", \"track_id\": \"5CQ30WqJwcep0pYcV4AMNc\", \"danceability\": 0.338, \"energy\": 0.34, \"key\": 9, \"loudness\": -12.049, \"mode\": 0, \"speechiness\": 0.0339, \"instrumentalness\": 0.0032, \"liveness\": 0.116, \"valence\": 0.197, \"tempo\": 82.433, \"duration_ms\": 482830, \"time_signature\": 4, \"playlist_name\": \"POV: You Just Discovered Popular Music Older than You and are Making it Your Entire Personality\", \"Group\": \"Thinktheylike\"}, {\"artist\": \"Nirvana\", \"album\": \"Nevermind (Remastered)\", \"track_name\": \"Smells Like Teen Spirit\", \"track_id\": \"5ghIJDpPoe3CfHMGu71E6T\", \"danceability\": 0.502, \"energy\": 0.912, \"key\": 1, \"loudness\": -4.556, \"mode\": 1, \"speechiness\": 0.0564, \"instrumentalness\": 0.000173, \"liveness\": 0.106, \"valence\": 0.72, \"tempo\": 116.761, \"duration_ms\": 301920, \"time_signature\": 4, \"playlist_name\": \"POV: You Just Discovered Popular Music Older than You and are Making it Your Entire Personality\", \"Group\": \"Thinktheylike\"}, {\"artist\": \"Elton John\", \"album\": \"Honky Chateau\", \"track_name\": \"Rocket Man (I Think It's Going To Be A Long, Long Time)\", \"track_id\": \"3gdewACMIVMEWVbyb8O9sY\", \"danceability\": 0.601, \"energy\": 0.532, \"key\": 10, \"loudness\": -9.119, \"mode\": 1, \"speechiness\": 0.0286, \"instrumentalness\": 6.25e-06, \"liveness\": 0.0925, \"valence\": 0.341, \"tempo\": 136.571, \"duration_ms\": 281613, \"time_signature\": 4, \"playlist_name\": \"POV: You Just Discovered Popular Music Older than You and are Making it Your Entire Personality\", \"Group\": \"Thinktheylike\"}, {\"artist\": \"David Bowie\", \"album\": \"Best of Bowie\", \"track_name\": \"Space Oddity - 1999 Remaster\", \"track_id\": \"22yy03IdKXGRUFMQX8EfBv\", \"danceability\": 0.31, \"energy\": 0.423, \"key\": 0, \"loudness\": -12.902, \"mode\": 1, \"speechiness\": 0.0324, \"instrumentalness\": 1.35e-05, \"liveness\": 0.365, \"valence\": 0.457, \"tempo\": 136.205, \"duration_ms\": 316333, \"time_signature\": 4, \"playlist_name\": \"POV: You Just Discovered Popular Music Older than You and are Making it Your Entire Personality\", \"Group\": \"Thinktheylike\"}, {\"artist\": \"Electric Light Orchestra\", \"album\": \"Out of the Blue\", \"track_name\": \"Mr. Blue Sky\", \"track_id\": \"2RlgNHKcydI9sayD2Df2xp\", \"danceability\": 0.388, \"energy\": 0.338, \"key\": 10, \"loudness\": -10.054, \"mode\": 1, \"speechiness\": 0.0329, \"instrumentalness\": 3.73e-06, \"liveness\": 0.248, \"valence\": 0.478, \"tempo\": 177.765, \"duration_ms\": 303373, \"time_signature\": 4, \"playlist_name\": \"POV: You Just Discovered Popular Music Older than You and are Making it Your Entire Personality\", \"Group\": \"Thinktheylike\"}, {\"artist\": \"Guns N' Roses\", \"album\": \"Appetite For Destruction\", \"track_name\": \"Sweet Child O' Mine\", \"track_id\": \"7snQQk1zcKl8gZ92AnueZW\", \"danceability\": 0.446, \"energy\": 0.952, \"key\": 6, \"loudness\": -5.321, \"mode\": 1, \"speechiness\": 0.0523, \"instrumentalness\": 0.0857, \"liveness\": 0.112, \"valence\": 0.624, \"tempo\": 125.303, \"duration_ms\": 356067, \"time_signature\": 4, \"playlist_name\": \"POV: You Just Discovered Popular Music Older than You and are Making it Your Entire Personality\", \"Group\": \"Thinktheylike\"}, {\"artist\": \"AC/DC\", \"album\": \"Back In Black\", \"track_name\": \"Back In Black\", \"track_id\": \"08mG3Y1vljYA6bvDt4Wqkj\", \"danceability\": 0.31, \"energy\": 0.7, \"key\": 9, \"loudness\": -5.678, \"mode\": 1, \"speechiness\": 0.047, \"instrumentalness\": 0.00965, \"liveness\": 0.0828, \"valence\": 0.763, \"tempo\": 188.386, \"duration_ms\": 255493, \"time_signature\": 4, \"playlist_name\": \"POV: You Just Discovered Popular Music Older than You and are Making it Your Entire Personality\", \"Group\": \"Thinktheylike\"}, {\"artist\": \"The Rolling Stones\", \"album\": \"Beggars Banquet (50th Anniversary Edition)\", \"track_name\": \"Sympathy For The Devil - 50th Anniversary Edition\", \"track_id\": \"1Ud6moTC0KyXMq1Oxfien0\", \"danceability\": 0.702, \"energy\": 0.668, \"key\": 9, \"loudness\": -9.237, \"mode\": 1, \"speechiness\": 0.214, \"instrumentalness\": 0.0, \"liveness\": 0.0588, \"valence\": 0.561, \"tempo\": 116.063, \"duration_ms\": 378147, \"time_signature\": 4, \"playlist_name\": \"POV: You Just Discovered Popular Music Older than You and are Making it Your Entire Personality\", \"Group\": \"Thinktheylike\"}, {\"artist\": \"Jimi Hendrix\", \"album\": \"Electric Ladyland\", \"track_name\": \"All Along the Watchtower\", \"track_id\": \"2aoo2jlRnM3A0NyLQqMN2f\", \"danceability\": 0.438, \"energy\": 0.805, \"key\": 8, \"loudness\": -6.237, \"mode\": 1, \"speechiness\": 0.0624, \"instrumentalness\": 5.69e-05, \"liveness\": 0.0842, \"valence\": 0.564, \"tempo\": 113.253, \"duration_ms\": 240800, \"time_signature\": 4, \"playlist_name\": \"POV: You Just Discovered Popular Music Older than You and are Making it Your Entire Personality\", \"Group\": \"Thinktheylike\"}, {\"artist\": \"Sammy Rae & The Friends\", \"album\": \"The Good Life\", \"track_name\": \"Kick It to Me\", \"track_id\": \"6QZbDUZEgkwaVWROtWzjQ0\", \"danceability\": 0.597, \"energy\": 0.675, \"key\": 2, \"loudness\": -6.431, \"mode\": 1, \"speechiness\": 0.0569, \"instrumentalness\": 1.45e-05, \"liveness\": 0.168, \"valence\": 0.823, \"tempo\": 160.057, \"duration_ms\": 387600, \"time_signature\": 4, \"playlist_name\": \"M255 \\u201cChilly Friday in Philly\\u201d\", \"Group\": \"Thinktheylike\"}, {\"artist\": \"Lake Street Dive\", \"album\": \"Obviously\", \"track_name\": \"Hypotheticals\", \"track_id\": \"5lE2EFXt4muvLFMGQg4hZN\", \"danceability\": 0.69, \"energy\": 0.664, \"key\": 1, \"loudness\": -6.488, \"mode\": 1, \"speechiness\": 0.0562, \"instrumentalness\": 0.00762, \"liveness\": 0.0496, \"valence\": 0.383, \"tempo\": 164.145, \"duration_ms\": 230178, \"time_signature\": 4, \"playlist_name\": \"M255 \\u201cChilly Friday in Philly\\u201d\", \"Group\": \"Thinktheylike\"}, {\"artist\": \"Stevie Wonder\", \"album\": \"Innervisions\", \"track_name\": \"Don't You Worry 'Bout A Thing\", \"track_id\": \"1QvWxgZvTU0w8rlPRE5Zrv\", \"danceability\": 0.714, \"energy\": 0.726, \"key\": 11, \"loudness\": -9.218, \"mode\": 1, \"speechiness\": 0.0408, \"instrumentalness\": 0.0, \"liveness\": 0.066, \"valence\": 0.92, \"tempo\": 124.71, \"duration_ms\": 284840, \"time_signature\": 4, \"playlist_name\": \"M255 \\u201cChilly Friday in Philly\\u201d\", \"Group\": \"Thinktheylike\"}, {\"artist\": \"Various Artists\", \"album\": \"Surf's Up Music From The Motion Picture\", \"track_name\": \"Into Yesterday\", \"track_id\": \"02TQFXm2cV6uwOr2OmlYBC\", \"danceability\": 0.666, \"energy\": 0.788, \"key\": 11, \"loudness\": -6.821, \"mode\": 1, \"speechiness\": 0.0335, \"instrumentalness\": 0.000145, \"liveness\": 0.15, \"valence\": 0.922, \"tempo\": 91.018, \"duration_ms\": 251467, \"time_signature\": 4, \"playlist_name\": \"M255 \\u201cChilly Friday in Philly\\u201d\", \"Group\": \"Thinktheylike\"}, {\"artist\": \"RELIC\", \"album\": \"Ghost\", \"track_name\": \"Ghost\", \"track_id\": \"6MvT7w4FeYJNfimIljosNs\", \"danceability\": 0.435, \"energy\": 0.386, \"key\": 3, \"loudness\": -8.983, \"mode\": 0, \"speechiness\": 0.0313, \"instrumentalness\": 0.000619, \"liveness\": 0.112, \"valence\": 0.183, \"tempo\": 160.285, \"duration_ms\": 297000, \"time_signature\": 4, \"playlist_name\": \"M255 \\u201cChilly Friday in Philly\\u201d\", \"Group\": \"Thinktheylike\"}, {\"artist\": \"The Smiths\", \"album\": \"The Queen Is Dead\", \"track_name\": \"There Is a Light That Never Goes Out - 2011 Remaster\", \"track_id\": \"0WQiDwKJclirSYG9v5tayI\", \"danceability\": 0.523, \"energy\": 0.769, \"key\": 4, \"loudness\": -5.855, \"mode\": 1, \"speechiness\": 0.0269, \"instrumentalness\": 0.0, \"liveness\": 0.136, \"valence\": 0.876, \"tempo\": 136.162, \"duration_ms\": 244587, \"time_signature\": 4, \"playlist_name\": \"M255 \\u201cChilly Friday in Philly\\u201d\", \"Group\": \"Thinktheylike\"}, {\"artist\": \"Jub\\u00ebl\", \"album\": \"Dancing In The Moonlight (feat. NEIMY)\", \"track_name\": \"Dancing In The Moonlight (feat. NEIMY)\", \"track_id\": \"4GSDkZt7GcmzBWmsMcpaVO\", \"danceability\": 0.659, \"energy\": 0.615, \"key\": 11, \"loudness\": -5.865, \"mode\": 0, \"speechiness\": 0.0644, \"instrumentalness\": 0.0, \"liveness\": 0.187, \"valence\": 0.193, \"tempo\": 119.843, \"duration_ms\": 164010, \"time_signature\": 4, \"playlist_name\": \"M255 \\u201cChilly Friday in Philly\\u201d\", \"Group\": \"Thinktheylike\"}, {\"artist\": \"Champagne Lane\", \"album\": \"Praying for a Little Rain\", \"track_name\": \"Praying for a Little Rain\", \"track_id\": \"20z1RaI92IQhdeIr8y8uVi\", \"danceability\": 0.623, \"energy\": 0.626, \"key\": 3, \"loudness\": -10.003, \"mode\": 1, \"speechiness\": 0.059, \"instrumentalness\": 0.000198, \"liveness\": 0.103, \"valence\": 0.441, \"tempo\": 99.953, \"duration_ms\": 248011, \"time_signature\": 4, \"playlist_name\": \"M255 \\u201cChilly Friday in Philly\\u201d\", \"Group\": \"Thinktheylike\"}, {\"artist\": \"Lawrence\", \"album\": \"Breakfast\", \"track_name\": \"Do You Wanna Do Nothing with Me?\", \"track_id\": \"2M7UdnD0fEaryh8TnCvqFX\", \"danceability\": 0.548, \"energy\": 0.611, \"key\": 1, \"loudness\": -9.0, \"mode\": 0, \"speechiness\": 0.131, \"instrumentalness\": 0.00247, \"liveness\": 0.0762, \"valence\": 0.725, \"tempo\": 201.985, \"duration_ms\": 251853, \"time_signature\": 4, \"playlist_name\": \"M255 \\u201cChilly Friday in Philly\\u201d\", \"Group\": \"Thinktheylike\"}, {\"artist\": \"Adele\", \"album\": \"19\", \"track_name\": \"Right As Rain\", \"track_id\": \"6oW04c2E7lebl09WHsBAWO\", \"danceability\": 0.842, \"energy\": 0.679, \"key\": 1, \"loudness\": -5.876, \"mode\": 1, \"speechiness\": 0.0846, \"instrumentalness\": 0.0, \"liveness\": 0.0891, \"valence\": 0.918, \"tempo\": 137.2, \"duration_ms\": 197347, \"time_signature\": 4, \"playlist_name\": \"M255 \\u201cChilly Friday in Philly\\u201d\", \"Group\": \"Thinktheylike\"}, {\"artist\": \"Sublime\", \"album\": \"Sublime\", \"track_name\": \"Santeria\", \"track_id\": \"2hnMS47jN0etwvFPzYk11f\", \"danceability\": 0.682, \"energy\": 0.765, \"key\": 1, \"loudness\": -5.021, \"mode\": 0, \"speechiness\": 0.0395, \"instrumentalness\": 3.42e-05, \"liveness\": 0.188, \"valence\": 0.567, \"tempo\": 90.807, \"duration_ms\": 182747, \"time_signature\": 4, \"playlist_name\": \"M255 \\u201cChilly Friday in Philly\\u201d\", \"Group\": \"Thinktheylike\"}, {\"artist\": \"One Direction\", \"album\": \"FOUR (Deluxe)\", \"track_name\": \"Steal My Girl\", \"track_id\": \"2Bs4jQEGMycglOfWPBqrVG\", \"danceability\": 0.536, \"energy\": 0.768, \"key\": 10, \"loudness\": -5.948, \"mode\": 0, \"speechiness\": 0.0347, \"instrumentalness\": 0.0, \"liveness\": 0.114, \"valence\": 0.545, \"tempo\": 77.217, \"duration_ms\": 228133, \"time_signature\": 4, \"playlist_name\": \"M255 \\u201cChilly Friday in Philly\\u201d\", \"Group\": \"Thinktheylike\"}, {\"artist\": \"Dan + Shay\", \"album\": \"Glad You Exist\", \"track_name\": \"Glad You Exist\", \"track_id\": \"472vIK1ldetTxRxG3ovaiY\", \"danceability\": 0.748, \"energy\": 0.551, \"key\": 11, \"loudness\": -6.12, \"mode\": 1, \"speechiness\": 0.0349, \"instrumentalness\": 0.0, \"liveness\": 0.119, \"valence\": 0.66, \"tempo\": 103.953, \"duration_ms\": 144533, \"time_signature\": 4, \"playlist_name\": \"M255 \\u201cChilly Friday in Philly\\u201d\", \"Group\": \"Thinktheylike\"}, {\"artist\": \"Cam\\u00e9lia Jordana\", \"album\": \"Camelia Jordana\", \"track_name\": \"Moi c'est\", \"track_id\": \"0cgWTzGYVUWELohSykTxrb\", \"danceability\": 0.862, \"energy\": 0.409, \"key\": 6, \"loudness\": -10.255, \"mode\": 0, \"speechiness\": 0.0399, \"instrumentalness\": 0.0871, \"liveness\": 0.0927, \"valence\": 0.8, \"tempo\": 135.013, \"duration_ms\": 170893, \"time_signature\": 4, \"playlist_name\": \"your 20s are for losing your mind\", \"Group\": \"Thinktheylike\"}, {\"artist\": \"Audrey Hepburn\", \"album\": \"Moon River (Breakfast at Tiffany's) [Remastered]\", \"track_name\": \"Moon River (From Breakfast at Tiffany's) [Remastered]\", \"track_id\": \"1XwAKjAZ1xDZOcuyZoqce4\", \"danceability\": 0.381, \"energy\": 0.0251, \"key\": 10, \"loudness\": -19.128, \"mode\": 1, \"speechiness\": 0.0327, \"instrumentalness\": 0.00109, \"liveness\": 0.099, \"valence\": 0.173, \"tempo\": 85.968, \"duration_ms\": 123160, \"time_signature\": 3, \"playlist_name\": \"your 20s are for losing your mind\", \"Group\": \"Thinktheylike\"}, {\"artist\": \"Camera Obscura\", \"album\": \"Underachievers Please Try Harder\", \"track_name\": \"Suspended From Class\", \"track_id\": \"2YDmCSVs46QrhD2sqYGGqx\", \"danceability\": 0.582, \"energy\": 0.562, \"key\": 9, \"loudness\": -8.985, \"mode\": 1, \"speechiness\": 0.0258, \"instrumentalness\": 0.0126, \"liveness\": 0.0682, \"valence\": 0.707, \"tempo\": 131.629, \"duration_ms\": 226227, \"time_signature\": 4, \"playlist_name\": \"your 20s are for losing your mind\", \"Group\": \"Thinktheylike\"}, {\"artist\": \"Julie London\", \"album\": \"Julie Is Her Name\", \"track_name\": \"Cry Me A River\", \"track_id\": \"7f6AAixCrVar1ZY7RPHDfM\", \"danceability\": 0.496, \"energy\": 0.0688, \"key\": 4, \"loudness\": -14.927, \"mode\": 0, \"speechiness\": 0.0545, \"instrumentalness\": 0.00229, \"liveness\": 0.112, \"valence\": 0.161, \"tempo\": 119.898, \"duration_ms\": 178573, \"time_signature\": 4, \"playlist_name\": \"your 20s are for losing your mind\", \"Group\": \"Thinktheylike\"}, {\"artist\": \"The Smiths\", \"album\": \"Hatful of Hollow\", \"track_name\": \"Please, Please, Please, Let Me Get What I Want - 2011 Remaster\", \"track_id\": \"6BrMEbPSSj55nQhkgf6DnE\", \"danceability\": 0.241, \"energy\": 0.468, \"key\": 2, \"loudness\": -9.579, \"mode\": 1, \"speechiness\": 0.0272, \"instrumentalness\": 0.0, \"liveness\": 0.161, \"valence\": 0.451, \"tempo\": 91.581, \"duration_ms\": 112707, \"time_signature\": 3, \"playlist_name\": \"your 20s are for losing your mind\", \"Group\": \"Thinktheylike\"}, {\"artist\": \"H\\u00e9l\\u00e8ne Grimaud\", \"album\": \"Chopin / Rachmaninov: Piano Sonatas\", \"track_name\": \"Piano Sonata No. 2 in B Flat Minor, Op. 36: II. Non allegro - Lento\", \"track_id\": \"79O3P99BRXIOWuARKZXNnT\", \"danceability\": 0.255, \"energy\": 0.0496, \"key\": 4, \"loudness\": -24.645, \"mode\": 0, \"speechiness\": 0.0469, \"instrumentalness\": 0.869, \"liveness\": 0.0686, \"valence\": 0.0385, \"tempo\": 72.575, \"duration_ms\": 445800, \"time_signature\": 4, \"playlist_name\": \"your 20s are for losing your mind\", \"Group\": \"Thinktheylike\"}, {\"artist\": \"Fred Astaire\", \"album\": \"Funny Face (Original Motion Picture Soundtrack / Expanded Edition)\", \"track_name\": \"Basal Metabolism (Based On How Long Has This Been Going On)\", \"track_id\": \"3jV7xeKd7V5suD6w9qCT2m\", \"danceability\": 0.491, \"energy\": 0.445, \"key\": 4, \"loudness\": -10.695, \"mode\": 0, \"speechiness\": 0.074, \"instrumentalness\": 0.164, \"liveness\": 0.0694, \"valence\": 0.451, \"tempo\": 114.497, \"duration_ms\": 173960, \"time_signature\": 4, \"playlist_name\": \"your 20s are for losing your mind\", \"Group\": \"Thinktheylike\"}, {\"artist\": \"Phoebe Bridgers\", \"album\": \"Stranger in the Alps (Deluxe Edition)\", \"track_name\": \"Motion Sickness\", \"track_id\": \"25Syi9wnfn6ZGAmiOBypPq\", \"danceability\": 0.651, \"energy\": 0.546, \"key\": 1, \"loudness\": -9.021, \"mode\": 1, \"speechiness\": 0.0357, \"instrumentalness\": 0.0437, \"liveness\": 0.0842, \"valence\": 0.623, \"tempo\": 107.021, \"duration_ms\": 229760, \"time_signature\": 4, \"playlist_name\": \"your 20s are for losing your mind\", \"Group\": \"Thinktheylike\"}, {\"artist\": \"The Buttertones\", \"album\": \"Buttertones\", \"track_name\": \"Dionysus\", \"track_id\": \"7wYU1avLwl1Gtkib8OTrZp\", \"danceability\": 0.331, \"energy\": 0.61, \"key\": 9, \"loudness\": -8.138, \"mode\": 1, \"speechiness\": 0.0293, \"instrumentalness\": 0.0548, \"liveness\": 0.14, \"valence\": 0.55, \"tempo\": 132.746, \"duration_ms\": 209040, \"time_signature\": 4, \"playlist_name\": \"your 20s are for losing your mind\", \"Group\": \"Thinktheylike\"}, {\"artist\": \"Brandi Carlile\", \"album\": \"Bear Creek\", \"track_name\": \"Heart's Content\", \"track_id\": \"0pegFWSUOTiG0sLVEfxtvA\", \"danceability\": 0.564, \"energy\": 0.209, \"key\": 3, \"loudness\": -8.922, \"mode\": 1, \"speechiness\": 0.0317, \"instrumentalness\": 3.99e-05, \"liveness\": 0.107, \"valence\": 0.402, \"tempo\": 109.024, \"duration_ms\": 214667, \"time_signature\": 4, \"playlist_name\": \"your 20s are for losing your mind\", \"Group\": \"Thinktheylike\"}]}}, {\"mode\": \"vega-lite\"});\n",
       "</script>"
      ],
      "text/plain": [
       "alt.Chart(...)"
      ]
     },
     "execution_count": 11,
     "metadata": {},
     "output_type": "execute_result"
    }
   ],
   "source": [
    "alt.Chart(young_people_playlist).mark_point().encode(\n",
    "    x=\"liveness\",\n",
    "    y=\"energy\",\n",
    "    color=\"Group\",tooltip=[\"artist\", \"track_name\"]\n",
    ")"
   ]
  },
  {
   "cell_type": "markdown",
   "metadata": {
    "id": "gpRPGilrxxmk"
   },
   "source": [
    "(N) These radar plots represent the fruits of a lot of experimentation, and an effort to find the best way to display differences between our datasets with this tool. A few pitfalls included: tempo and loudness values distorting the entire plot (which we removed to solve the issue), an uncertainty in which values to plot; and uncertainty around the proper sample size. In the end, we went with a sample size of half the total dataset, and plotted danceability, speechiness, liveness, valence, instrumentalness, and energy.\n"
   ]
  },
  {
   "cell_type": "code",
   "execution_count": 13,
   "metadata": {
    "colab": {
     "base_uri": "https://localhost:8080/",
     "height": 1000
    },
    "id": "8NXzHYAUneup",
    "outputId": "970f4265-2aef-4f44-fc08-6135ea2ec998"
   },
   "outputs": [
    {
     "data": {
      "application/vnd.plotly.v1+json": {
       "config": {
        "plotlyServerURL": "https://plot.ly"
       },
       "data": [
        {
         "mode": "lines",
         "name": "Moon River (From Breakfast at Tiffany's) [Remastered]",
         "r": [
          0.381,
          0.0251,
          0.0327,
          0.099,
          0.173,
          0.00109,
          0.381
         ],
         "theta": [
          "danceability",
          "energy",
          "speechiness",
          "liveness",
          "valence",
          "instrumentalness",
          "danceability"
         ],
         "type": "scatterpolar"
        },
        {
         "mode": "lines",
         "name": "Feeling Whitney",
         "r": [
          0.412,
          0.227,
          0.0359,
          0.282,
          0.226,
          4.69e-06,
          0.412
         ],
         "theta": [
          "danceability",
          "energy",
          "speechiness",
          "liveness",
          "valence",
          "instrumentalness",
          "danceability"
         ],
         "type": "scatterpolar"
        },
        {
         "mode": "lines",
         "name": "Dionysus",
         "r": [
          0.331,
          0.61,
          0.0293,
          0.14,
          0.55,
          0.0548,
          0.331
         ],
         "theta": [
          "danceability",
          "energy",
          "speechiness",
          "liveness",
          "valence",
          "instrumentalness",
          "danceability"
         ],
         "type": "scatterpolar"
        },
        {
         "mode": "lines",
         "name": "Moi c'est",
         "r": [
          0.862,
          0.409,
          0.0399,
          0.0927,
          0.8,
          0.0871,
          0.862
         ],
         "theta": [
          "danceability",
          "energy",
          "speechiness",
          "liveness",
          "valence",
          "instrumentalness",
          "danceability"
         ],
         "type": "scatterpolar"
        },
        {
         "mode": "lines",
         "name": "I Knew You so Well (feat. Shiloh Dynasty)",
         "r": [
          0.857,
          0.397,
          0.333,
          0.934,
          0.443,
          0.58,
          0.857
         ],
         "theta": [
          "danceability",
          "energy",
          "speechiness",
          "liveness",
          "valence",
          "instrumentalness",
          "danceability"
         ],
         "type": "scatterpolar"
        },
        {
         "mode": "lines",
         "name": "Tangerine",
         "r": [
          0.845,
          0.583,
          0.0773,
          0.1,
          0.842,
          0.000536,
          0.845
         ],
         "theta": [
          "danceability",
          "energy",
          "speechiness",
          "liveness",
          "valence",
          "instrumentalness",
          "danceability"
         ],
         "type": "scatterpolar"
        },
        {
         "mode": "lines",
         "name": "Wurli",
         "r": [
          0.482,
          0.837,
          0.0639,
          0.132,
          0.0787,
          0.0216,
          0.482
         ],
         "theta": [
          "danceability",
          "energy",
          "speechiness",
          "liveness",
          "valence",
          "instrumentalness",
          "danceability"
         ],
         "type": "scatterpolar"
        },
        {
         "mode": "lines",
         "name": "Heart's Content",
         "r": [
          0.564,
          0.209,
          0.0317,
          0.107,
          0.402,
          3.99e-05,
          0.564
         ],
         "theta": [
          "danceability",
          "energy",
          "speechiness",
          "liveness",
          "valence",
          "instrumentalness",
          "danceability"
         ],
         "type": "scatterpolar"
        },
        {
         "mode": "lines",
         "name": "Don't You Worry 'Bout A Thing",
         "r": [
          0.714,
          0.726,
          0.0408,
          0.066,
          0.92,
          0,
          0.714
         ],
         "theta": [
          "danceability",
          "energy",
          "speechiness",
          "liveness",
          "valence",
          "instrumentalness",
          "danceability"
         ],
         "type": "scatterpolar"
        },
        {
         "mode": "lines",
         "name": "Bad Habit",
         "r": [
          0.686,
          0.494,
          0.0355,
          0.402,
          0.7,
          5.8e-05,
          0.686
         ],
         "theta": [
          "danceability",
          "energy",
          "speechiness",
          "liveness",
          "valence",
          "instrumentalness",
          "danceability"
         ],
         "type": "scatterpolar"
        },
        {
         "mode": "lines",
         "name": "Sweet Child O' Mine",
         "r": [
          0.446,
          0.952,
          0.0523,
          0.112,
          0.624,
          0.0857,
          0.446
         ],
         "theta": [
          "danceability",
          "energy",
          "speechiness",
          "liveness",
          "valence",
          "instrumentalness",
          "danceability"
         ],
         "type": "scatterpolar"
        },
        {
         "mode": "lines",
         "name": "Space Oddity - 1999 Remaster",
         "r": [
          0.31,
          0.423,
          0.0324,
          0.365,
          0.457,
          1.35e-05,
          0.31
         ],
         "theta": [
          "danceability",
          "energy",
          "speechiness",
          "liveness",
          "valence",
          "instrumentalness",
          "danceability"
         ],
         "type": "scatterpolar"
        },
        {
         "mode": "lines",
         "name": "Motion Sickness",
         "r": [
          0.651,
          0.546,
          0.0357,
          0.0842,
          0.623,
          0.0437,
          0.651
         ],
         "theta": [
          "danceability",
          "energy",
          "speechiness",
          "liveness",
          "valence",
          "instrumentalness",
          "danceability"
         ],
         "type": "scatterpolar"
        },
        {
         "mode": "lines",
         "name": "Dancing In The Moonlight (feat. NEIMY)",
         "r": [
          0.659,
          0.615,
          0.0644,
          0.187,
          0.193,
          0,
          0.659
         ],
         "theta": [
          "danceability",
          "energy",
          "speechiness",
          "liveness",
          "valence",
          "instrumentalness",
          "danceability"
         ],
         "type": "scatterpolar"
        },
        {
         "mode": "lines",
         "name": "Life Will Change",
         "r": [
          0.702,
          0.92,
          0.0363,
          0.127,
          0.625,
          0.0133,
          0.702
         ],
         "theta": [
          "danceability",
          "energy",
          "speechiness",
          "liveness",
          "valence",
          "instrumentalness",
          "danceability"
         ],
         "type": "scatterpolar"
        },
        {
         "mode": "lines",
         "name": "Aria of the Soul (From \"Persona 5\")",
         "r": [
          0.398,
          0.224,
          0.0622,
          0.106,
          0.114,
          0.919,
          0.398
         ],
         "theta": [
          "danceability",
          "energy",
          "speechiness",
          "liveness",
          "valence",
          "instrumentalness",
          "danceability"
         ],
         "type": "scatterpolar"
        },
        {
         "mode": "lines",
         "name": "Marvins Room",
         "r": [
          0.492,
          0.26,
          0.0921,
          0.0705,
          0.312,
          0.00178,
          0.492
         ],
         "theta": [
          "danceability",
          "energy",
          "speechiness",
          "liveness",
          "valence",
          "instrumentalness",
          "danceability"
         ],
         "type": "scatterpolar"
        },
        {
         "mode": "lines",
         "name": "idontwannabeyouanymore",
         "r": [
          0.483,
          0.412,
          0.0402,
          0.116,
          0.247,
          0,
          0.483
         ],
         "theta": [
          "danceability",
          "energy",
          "speechiness",
          "liveness",
          "valence",
          "instrumentalness",
          "danceability"
         ],
         "type": "scatterpolar"
        },
        {
         "mode": "lines",
         "name": "Do You Wanna Do Nothing with Me?",
         "r": [
          0.548,
          0.611,
          0.131,
          0.0762,
          0.725,
          0.00247,
          0.548
         ],
         "theta": [
          "danceability",
          "energy",
          "speechiness",
          "liveness",
          "valence",
          "instrumentalness",
          "danceability"
         ],
         "type": "scatterpolar"
        },
        {
         "mode": "lines",
         "name": "Youth",
         "r": [
          0.648,
          0.718,
          0.0298,
          0.112,
          0.785,
          0.00156,
          0.648
         ],
         "theta": [
          "danceability",
          "energy",
          "speechiness",
          "liveness",
          "valence",
          "instrumentalness",
          "danceability"
         ],
         "type": "scatterpolar"
        },
        {
         "mode": "lines",
         "name": "There Is a Light That Never Goes Out - 2011 Remaster",
         "r": [
          0.523,
          0.769,
          0.0269,
          0.136,
          0.876,
          0,
          0.523
         ],
         "theta": [
          "danceability",
          "energy",
          "speechiness",
          "liveness",
          "valence",
          "instrumentalness",
          "danceability"
         ],
         "type": "scatterpolar"
        },
        {
         "mode": "lines",
         "name": "Suspended From Class",
         "r": [
          0.582,
          0.562,
          0.0258,
          0.0682,
          0.707,
          0.0126,
          0.582
         ],
         "theta": [
          "danceability",
          "energy",
          "speechiness",
          "liveness",
          "valence",
          "instrumentalness",
          "danceability"
         ],
         "type": "scatterpolar"
        },
        {
         "mode": "lines",
         "name": "Photo ID (with Dominic Fike)",
         "r": [
          0.75,
          0.829,
          0.0915,
          0.279,
          0.87,
          0,
          0.75
         ],
         "theta": [
          "danceability",
          "energy",
          "speechiness",
          "liveness",
          "valence",
          "instrumentalness",
          "danceability"
         ],
         "type": "scatterpolar"
        },
        {
         "mode": "lines",
         "name": "Basal Metabolism (Based On How Long Has This Been Going On)",
         "r": [
          0.491,
          0.445,
          0.074,
          0.0694,
          0.451,
          0.164,
          0.491
         ],
         "theta": [
          "danceability",
          "energy",
          "speechiness",
          "liveness",
          "valence",
          "instrumentalness",
          "danceability"
         ],
         "type": "scatterpolar"
        },
        {
         "mode": "lines",
         "name": "Rocket Man (I Think It's Going To Be A Long, Long Time)",
         "r": [
          0.601,
          0.532,
          0.0286,
          0.0925,
          0.341,
          6.25e-06,
          0.601
         ],
         "theta": [
          "danceability",
          "energy",
          "speechiness",
          "liveness",
          "valence",
          "instrumentalness",
          "danceability"
         ],
         "type": "scatterpolar"
        },
        {
         "mode": "lines",
         "name": "Encinitas",
         "r": [
          0.76,
          0.577,
          0.0908,
          0.445,
          0.553,
          0.00352,
          0.76
         ],
         "theta": [
          "danceability",
          "energy",
          "speechiness",
          "liveness",
          "valence",
          "instrumentalness",
          "danceability"
         ],
         "type": "scatterpolar"
        },
        {
         "mode": "lines",
         "name": "Smells Like Teen Spirit",
         "r": [
          0.502,
          0.912,
          0.0564,
          0.106,
          0.72,
          0.000173,
          0.502
         ],
         "theta": [
          "danceability",
          "energy",
          "speechiness",
          "liveness",
          "valence",
          "instrumentalness",
          "danceability"
         ],
         "type": "scatterpolar"
        },
        {
         "mode": "lines",
         "name": "The Battle for Everyone's Souls (From \"Persona 3\")",
         "r": [
          0.441,
          0.735,
          0.0331,
          0.0611,
          0.256,
          0.859,
          0.441
         ],
         "theta": [
          "danceability",
          "energy",
          "speechiness",
          "liveness",
          "valence",
          "instrumentalness",
          "danceability"
         ],
         "type": "scatterpolar"
        },
        {
         "mode": "lines",
         "name": "Hypotheticals",
         "r": [
          0.69,
          0.664,
          0.0562,
          0.0496,
          0.383,
          0.00762,
          0.69
         ],
         "theta": [
          "danceability",
          "energy",
          "speechiness",
          "liveness",
          "valence",
          "instrumentalness",
          "danceability"
         ],
         "type": "scatterpolar"
        },
        {
         "mode": "lines",
         "name": "Lost",
         "r": [
          0.913,
          0.603,
          0.226,
          0.167,
          0.497,
          0.000503,
          0.913
         ],
         "theta": [
          "danceability",
          "energy",
          "speechiness",
          "liveness",
          "valence",
          "instrumentalness",
          "danceability"
         ],
         "type": "scatterpolar"
        },
        {
         "mode": "lines",
         "name": "Right As Rain",
         "r": [
          0.842,
          0.679,
          0.0846,
          0.0891,
          0.918,
          0,
          0.842
         ],
         "theta": [
          "danceability",
          "energy",
          "speechiness",
          "liveness",
          "valence",
          "instrumentalness",
          "danceability"
         ],
         "type": "scatterpolar"
        },
        {
         "mode": "lines",
         "name": "Kass's Theme (From \"The Legend of Zelda: Breath of the Wild\") [Piano Version]",
         "r": [
          0.584,
          0.17,
          0.0641,
          0.106,
          0.338,
          0.858,
          0.584
         ],
         "theta": [
          "danceability",
          "energy",
          "speechiness",
          "liveness",
          "valence",
          "instrumentalness",
          "danceability"
         ],
         "type": "scatterpolar"
        }
       ],
       "layout": {
        "template": {
         "data": {
          "bar": [
           {
            "error_x": {
             "color": "#2a3f5f"
            },
            "error_y": {
             "color": "#2a3f5f"
            },
            "marker": {
             "line": {
              "color": "#E5ECF6",
              "width": 0.5
             },
             "pattern": {
              "fillmode": "overlay",
              "size": 10,
              "solidity": 0.2
             }
            },
            "type": "bar"
           }
          ],
          "barpolar": [
           {
            "marker": {
             "line": {
              "color": "#E5ECF6",
              "width": 0.5
             },
             "pattern": {
              "fillmode": "overlay",
              "size": 10,
              "solidity": 0.2
             }
            },
            "type": "barpolar"
           }
          ],
          "carpet": [
           {
            "aaxis": {
             "endlinecolor": "#2a3f5f",
             "gridcolor": "white",
             "linecolor": "white",
             "minorgridcolor": "white",
             "startlinecolor": "#2a3f5f"
            },
            "baxis": {
             "endlinecolor": "#2a3f5f",
             "gridcolor": "white",
             "linecolor": "white",
             "minorgridcolor": "white",
             "startlinecolor": "#2a3f5f"
            },
            "type": "carpet"
           }
          ],
          "choropleth": [
           {
            "colorbar": {
             "outlinewidth": 0,
             "ticks": ""
            },
            "type": "choropleth"
           }
          ],
          "contour": [
           {
            "colorbar": {
             "outlinewidth": 0,
             "ticks": ""
            },
            "colorscale": [
             [
              0,
              "#0d0887"
             ],
             [
              0.1111111111111111,
              "#46039f"
             ],
             [
              0.2222222222222222,
              "#7201a8"
             ],
             [
              0.3333333333333333,
              "#9c179e"
             ],
             [
              0.4444444444444444,
              "#bd3786"
             ],
             [
              0.5555555555555556,
              "#d8576b"
             ],
             [
              0.6666666666666666,
              "#ed7953"
             ],
             [
              0.7777777777777778,
              "#fb9f3a"
             ],
             [
              0.8888888888888888,
              "#fdca26"
             ],
             [
              1,
              "#f0f921"
             ]
            ],
            "type": "contour"
           }
          ],
          "contourcarpet": [
           {
            "colorbar": {
             "outlinewidth": 0,
             "ticks": ""
            },
            "type": "contourcarpet"
           }
          ],
          "heatmap": [
           {
            "colorbar": {
             "outlinewidth": 0,
             "ticks": ""
            },
            "colorscale": [
             [
              0,
              "#0d0887"
             ],
             [
              0.1111111111111111,
              "#46039f"
             ],
             [
              0.2222222222222222,
              "#7201a8"
             ],
             [
              0.3333333333333333,
              "#9c179e"
             ],
             [
              0.4444444444444444,
              "#bd3786"
             ],
             [
              0.5555555555555556,
              "#d8576b"
             ],
             [
              0.6666666666666666,
              "#ed7953"
             ],
             [
              0.7777777777777778,
              "#fb9f3a"
             ],
             [
              0.8888888888888888,
              "#fdca26"
             ],
             [
              1,
              "#f0f921"
             ]
            ],
            "type": "heatmap"
           }
          ],
          "heatmapgl": [
           {
            "colorbar": {
             "outlinewidth": 0,
             "ticks": ""
            },
            "colorscale": [
             [
              0,
              "#0d0887"
             ],
             [
              0.1111111111111111,
              "#46039f"
             ],
             [
              0.2222222222222222,
              "#7201a8"
             ],
             [
              0.3333333333333333,
              "#9c179e"
             ],
             [
              0.4444444444444444,
              "#bd3786"
             ],
             [
              0.5555555555555556,
              "#d8576b"
             ],
             [
              0.6666666666666666,
              "#ed7953"
             ],
             [
              0.7777777777777778,
              "#fb9f3a"
             ],
             [
              0.8888888888888888,
              "#fdca26"
             ],
             [
              1,
              "#f0f921"
             ]
            ],
            "type": "heatmapgl"
           }
          ],
          "histogram": [
           {
            "marker": {
             "pattern": {
              "fillmode": "overlay",
              "size": 10,
              "solidity": 0.2
             }
            },
            "type": "histogram"
           }
          ],
          "histogram2d": [
           {
            "colorbar": {
             "outlinewidth": 0,
             "ticks": ""
            },
            "colorscale": [
             [
              0,
              "#0d0887"
             ],
             [
              0.1111111111111111,
              "#46039f"
             ],
             [
              0.2222222222222222,
              "#7201a8"
             ],
             [
              0.3333333333333333,
              "#9c179e"
             ],
             [
              0.4444444444444444,
              "#bd3786"
             ],
             [
              0.5555555555555556,
              "#d8576b"
             ],
             [
              0.6666666666666666,
              "#ed7953"
             ],
             [
              0.7777777777777778,
              "#fb9f3a"
             ],
             [
              0.8888888888888888,
              "#fdca26"
             ],
             [
              1,
              "#f0f921"
             ]
            ],
            "type": "histogram2d"
           }
          ],
          "histogram2dcontour": [
           {
            "colorbar": {
             "outlinewidth": 0,
             "ticks": ""
            },
            "colorscale": [
             [
              0,
              "#0d0887"
             ],
             [
              0.1111111111111111,
              "#46039f"
             ],
             [
              0.2222222222222222,
              "#7201a8"
             ],
             [
              0.3333333333333333,
              "#9c179e"
             ],
             [
              0.4444444444444444,
              "#bd3786"
             ],
             [
              0.5555555555555556,
              "#d8576b"
             ],
             [
              0.6666666666666666,
              "#ed7953"
             ],
             [
              0.7777777777777778,
              "#fb9f3a"
             ],
             [
              0.8888888888888888,
              "#fdca26"
             ],
             [
              1,
              "#f0f921"
             ]
            ],
            "type": "histogram2dcontour"
           }
          ],
          "mesh3d": [
           {
            "colorbar": {
             "outlinewidth": 0,
             "ticks": ""
            },
            "type": "mesh3d"
           }
          ],
          "parcoords": [
           {
            "line": {
             "colorbar": {
              "outlinewidth": 0,
              "ticks": ""
             }
            },
            "type": "parcoords"
           }
          ],
          "pie": [
           {
            "automargin": true,
            "type": "pie"
           }
          ],
          "scatter": [
           {
            "marker": {
             "colorbar": {
              "outlinewidth": 0,
              "ticks": ""
             }
            },
            "type": "scatter"
           }
          ],
          "scatter3d": [
           {
            "line": {
             "colorbar": {
              "outlinewidth": 0,
              "ticks": ""
             }
            },
            "marker": {
             "colorbar": {
              "outlinewidth": 0,
              "ticks": ""
             }
            },
            "type": "scatter3d"
           }
          ],
          "scattercarpet": [
           {
            "marker": {
             "colorbar": {
              "outlinewidth": 0,
              "ticks": ""
             }
            },
            "type": "scattercarpet"
           }
          ],
          "scattergeo": [
           {
            "marker": {
             "colorbar": {
              "outlinewidth": 0,
              "ticks": ""
             }
            },
            "type": "scattergeo"
           }
          ],
          "scattergl": [
           {
            "marker": {
             "colorbar": {
              "outlinewidth": 0,
              "ticks": ""
             }
            },
            "type": "scattergl"
           }
          ],
          "scattermapbox": [
           {
            "marker": {
             "colorbar": {
              "outlinewidth": 0,
              "ticks": ""
             }
            },
            "type": "scattermapbox"
           }
          ],
          "scatterpolar": [
           {
            "marker": {
             "colorbar": {
              "outlinewidth": 0,
              "ticks": ""
             }
            },
            "type": "scatterpolar"
           }
          ],
          "scatterpolargl": [
           {
            "marker": {
             "colorbar": {
              "outlinewidth": 0,
              "ticks": ""
             }
            },
            "type": "scatterpolargl"
           }
          ],
          "scatterternary": [
           {
            "marker": {
             "colorbar": {
              "outlinewidth": 0,
              "ticks": ""
             }
            },
            "type": "scatterternary"
           }
          ],
          "surface": [
           {
            "colorbar": {
             "outlinewidth": 0,
             "ticks": ""
            },
            "colorscale": [
             [
              0,
              "#0d0887"
             ],
             [
              0.1111111111111111,
              "#46039f"
             ],
             [
              0.2222222222222222,
              "#7201a8"
             ],
             [
              0.3333333333333333,
              "#9c179e"
             ],
             [
              0.4444444444444444,
              "#bd3786"
             ],
             [
              0.5555555555555556,
              "#d8576b"
             ],
             [
              0.6666666666666666,
              "#ed7953"
             ],
             [
              0.7777777777777778,
              "#fb9f3a"
             ],
             [
              0.8888888888888888,
              "#fdca26"
             ],
             [
              1,
              "#f0f921"
             ]
            ],
            "type": "surface"
           }
          ],
          "table": [
           {
            "cells": {
             "fill": {
              "color": "#EBF0F8"
             },
             "line": {
              "color": "white"
             }
            },
            "header": {
             "fill": {
              "color": "#C8D4E3"
             },
             "line": {
              "color": "white"
             }
            },
            "type": "table"
           }
          ]
         },
         "layout": {
          "annotationdefaults": {
           "arrowcolor": "#2a3f5f",
           "arrowhead": 0,
           "arrowwidth": 1
          },
          "autotypenumbers": "strict",
          "coloraxis": {
           "colorbar": {
            "outlinewidth": 0,
            "ticks": ""
           }
          },
          "colorscale": {
           "diverging": [
            [
             0,
             "#8e0152"
            ],
            [
             0.1,
             "#c51b7d"
            ],
            [
             0.2,
             "#de77ae"
            ],
            [
             0.3,
             "#f1b6da"
            ],
            [
             0.4,
             "#fde0ef"
            ],
            [
             0.5,
             "#f7f7f7"
            ],
            [
             0.6,
             "#e6f5d0"
            ],
            [
             0.7,
             "#b8e186"
            ],
            [
             0.8,
             "#7fbc41"
            ],
            [
             0.9,
             "#4d9221"
            ],
            [
             1,
             "#276419"
            ]
           ],
           "sequential": [
            [
             0,
             "#0d0887"
            ],
            [
             0.1111111111111111,
             "#46039f"
            ],
            [
             0.2222222222222222,
             "#7201a8"
            ],
            [
             0.3333333333333333,
             "#9c179e"
            ],
            [
             0.4444444444444444,
             "#bd3786"
            ],
            [
             0.5555555555555556,
             "#d8576b"
            ],
            [
             0.6666666666666666,
             "#ed7953"
            ],
            [
             0.7777777777777778,
             "#fb9f3a"
            ],
            [
             0.8888888888888888,
             "#fdca26"
            ],
            [
             1,
             "#f0f921"
            ]
           ],
           "sequentialminus": [
            [
             0,
             "#0d0887"
            ],
            [
             0.1111111111111111,
             "#46039f"
            ],
            [
             0.2222222222222222,
             "#7201a8"
            ],
            [
             0.3333333333333333,
             "#9c179e"
            ],
            [
             0.4444444444444444,
             "#bd3786"
            ],
            [
             0.5555555555555556,
             "#d8576b"
            ],
            [
             0.6666666666666666,
             "#ed7953"
            ],
            [
             0.7777777777777778,
             "#fb9f3a"
            ],
            [
             0.8888888888888888,
             "#fdca26"
            ],
            [
             1,
             "#f0f921"
            ]
           ]
          },
          "colorway": [
           "#636efa",
           "#EF553B",
           "#00cc96",
           "#ab63fa",
           "#FFA15A",
           "#19d3f3",
           "#FF6692",
           "#B6E880",
           "#FF97FF",
           "#FECB52"
          ],
          "font": {
           "color": "#2a3f5f"
          },
          "geo": {
           "bgcolor": "white",
           "lakecolor": "white",
           "landcolor": "#E5ECF6",
           "showlakes": true,
           "showland": true,
           "subunitcolor": "white"
          },
          "hoverlabel": {
           "align": "left"
          },
          "hovermode": "closest",
          "mapbox": {
           "style": "light"
          },
          "paper_bgcolor": "white",
          "plot_bgcolor": "#E5ECF6",
          "polar": {
           "angularaxis": {
            "gridcolor": "white",
            "linecolor": "white",
            "ticks": ""
           },
           "bgcolor": "#E5ECF6",
           "radialaxis": {
            "gridcolor": "white",
            "linecolor": "white",
            "ticks": ""
           }
          },
          "scene": {
           "xaxis": {
            "backgroundcolor": "#E5ECF6",
            "gridcolor": "white",
            "gridwidth": 2,
            "linecolor": "white",
            "showbackground": true,
            "ticks": "",
            "zerolinecolor": "white"
           },
           "yaxis": {
            "backgroundcolor": "#E5ECF6",
            "gridcolor": "white",
            "gridwidth": 2,
            "linecolor": "white",
            "showbackground": true,
            "ticks": "",
            "zerolinecolor": "white"
           },
           "zaxis": {
            "backgroundcolor": "#E5ECF6",
            "gridcolor": "white",
            "gridwidth": 2,
            "linecolor": "white",
            "showbackground": true,
            "ticks": "",
            "zerolinecolor": "white"
           }
          },
          "shapedefaults": {
           "line": {
            "color": "#2a3f5f"
           }
          },
          "ternary": {
           "aaxis": {
            "gridcolor": "white",
            "linecolor": "white",
            "ticks": ""
           },
           "baxis": {
            "gridcolor": "white",
            "linecolor": "white",
            "ticks": ""
           },
           "bgcolor": "#E5ECF6",
           "caxis": {
            "gridcolor": "white",
            "linecolor": "white",
            "ticks": ""
           }
          },
          "title": {
           "x": 0.05
          },
          "xaxis": {
           "automargin": true,
           "gridcolor": "white",
           "linecolor": "white",
           "ticks": "",
           "title": {
            "standoff": 15
           },
           "zerolinecolor": "white",
           "zerolinewidth": 2
          },
          "yaxis": {
           "automargin": true,
           "gridcolor": "white",
           "linecolor": "white",
           "ticks": "",
           "title": {
            "standoff": 15
           },
           "zerolinecolor": "white",
           "zerolinewidth": 2
          }
         }
        }
       }
      },
      "text/html": [
       "<div>                            <div id=\"2b27bb9e-27f5-47ee-8f8b-9d7f0234026d\" class=\"plotly-graph-div\" style=\"height:525px; width:100%;\"></div>            <script type=\"text/javascript\">                require([\"plotly\"], function(Plotly) {                    window.PLOTLYENV=window.PLOTLYENV || {};                                    if (document.getElementById(\"2b27bb9e-27f5-47ee-8f8b-9d7f0234026d\")) {                    Plotly.newPlot(                        \"2b27bb9e-27f5-47ee-8f8b-9d7f0234026d\",                        [{\"mode\":\"lines\",\"name\":\"Moon River (From Breakfast at Tiffany's) [Remastered]\",\"r\":[0.381,0.0251,0.0327,0.099,0.173,0.00109,0.381],\"theta\":[\"danceability\",\"energy\",\"speechiness\",\"liveness\",\"valence\",\"instrumentalness\",\"danceability\"],\"type\":\"scatterpolar\"},{\"mode\":\"lines\",\"name\":\"Feeling Whitney\",\"r\":[0.412,0.227,0.0359,0.282,0.226,4.69e-06,0.412],\"theta\":[\"danceability\",\"energy\",\"speechiness\",\"liveness\",\"valence\",\"instrumentalness\",\"danceability\"],\"type\":\"scatterpolar\"},{\"mode\":\"lines\",\"name\":\"Dionysus\",\"r\":[0.331,0.61,0.0293,0.14,0.55,0.0548,0.331],\"theta\":[\"danceability\",\"energy\",\"speechiness\",\"liveness\",\"valence\",\"instrumentalness\",\"danceability\"],\"type\":\"scatterpolar\"},{\"mode\":\"lines\",\"name\":\"Moi c'est\",\"r\":[0.862,0.409,0.0399,0.0927,0.8,0.0871,0.862],\"theta\":[\"danceability\",\"energy\",\"speechiness\",\"liveness\",\"valence\",\"instrumentalness\",\"danceability\"],\"type\":\"scatterpolar\"},{\"mode\":\"lines\",\"name\":\"I Knew You so Well (feat. Shiloh Dynasty)\",\"r\":[0.857,0.397,0.333,0.934,0.443,0.58,0.857],\"theta\":[\"danceability\",\"energy\",\"speechiness\",\"liveness\",\"valence\",\"instrumentalness\",\"danceability\"],\"type\":\"scatterpolar\"},{\"mode\":\"lines\",\"name\":\"Tangerine\",\"r\":[0.845,0.583,0.0773,0.1,0.842,0.000536,0.845],\"theta\":[\"danceability\",\"energy\",\"speechiness\",\"liveness\",\"valence\",\"instrumentalness\",\"danceability\"],\"type\":\"scatterpolar\"},{\"mode\":\"lines\",\"name\":\"Wurli\",\"r\":[0.482,0.837,0.0639,0.132,0.0787,0.0216,0.482],\"theta\":[\"danceability\",\"energy\",\"speechiness\",\"liveness\",\"valence\",\"instrumentalness\",\"danceability\"],\"type\":\"scatterpolar\"},{\"mode\":\"lines\",\"name\":\"Heart's Content\",\"r\":[0.564,0.209,0.0317,0.107,0.402,3.99e-05,0.564],\"theta\":[\"danceability\",\"energy\",\"speechiness\",\"liveness\",\"valence\",\"instrumentalness\",\"danceability\"],\"type\":\"scatterpolar\"},{\"mode\":\"lines\",\"name\":\"Don't You Worry 'Bout A Thing\",\"r\":[0.714,0.726,0.0408,0.066,0.92,0.0,0.714],\"theta\":[\"danceability\",\"energy\",\"speechiness\",\"liveness\",\"valence\",\"instrumentalness\",\"danceability\"],\"type\":\"scatterpolar\"},{\"mode\":\"lines\",\"name\":\"Bad Habit\",\"r\":[0.686,0.494,0.0355,0.402,0.7,5.8e-05,0.686],\"theta\":[\"danceability\",\"energy\",\"speechiness\",\"liveness\",\"valence\",\"instrumentalness\",\"danceability\"],\"type\":\"scatterpolar\"},{\"mode\":\"lines\",\"name\":\"Sweet Child O' Mine\",\"r\":[0.446,0.952,0.0523,0.112,0.624,0.0857,0.446],\"theta\":[\"danceability\",\"energy\",\"speechiness\",\"liveness\",\"valence\",\"instrumentalness\",\"danceability\"],\"type\":\"scatterpolar\"},{\"mode\":\"lines\",\"name\":\"Space Oddity - 1999 Remaster\",\"r\":[0.31,0.423,0.0324,0.365,0.457,1.35e-05,0.31],\"theta\":[\"danceability\",\"energy\",\"speechiness\",\"liveness\",\"valence\",\"instrumentalness\",\"danceability\"],\"type\":\"scatterpolar\"},{\"mode\":\"lines\",\"name\":\"Motion Sickness\",\"r\":[0.651,0.546,0.0357,0.0842,0.623,0.0437,0.651],\"theta\":[\"danceability\",\"energy\",\"speechiness\",\"liveness\",\"valence\",\"instrumentalness\",\"danceability\"],\"type\":\"scatterpolar\"},{\"mode\":\"lines\",\"name\":\"Dancing In The Moonlight (feat. NEIMY)\",\"r\":[0.659,0.615,0.0644,0.187,0.193,0.0,0.659],\"theta\":[\"danceability\",\"energy\",\"speechiness\",\"liveness\",\"valence\",\"instrumentalness\",\"danceability\"],\"type\":\"scatterpolar\"},{\"mode\":\"lines\",\"name\":\"Life Will Change\",\"r\":[0.702,0.92,0.0363,0.127,0.625,0.0133,0.702],\"theta\":[\"danceability\",\"energy\",\"speechiness\",\"liveness\",\"valence\",\"instrumentalness\",\"danceability\"],\"type\":\"scatterpolar\"},{\"mode\":\"lines\",\"name\":\"Aria of the Soul (From \\\"Persona 5\\\")\",\"r\":[0.398,0.224,0.0622,0.106,0.114,0.919,0.398],\"theta\":[\"danceability\",\"energy\",\"speechiness\",\"liveness\",\"valence\",\"instrumentalness\",\"danceability\"],\"type\":\"scatterpolar\"},{\"mode\":\"lines\",\"name\":\"Marvins Room\",\"r\":[0.492,0.26,0.0921,0.0705,0.312,0.00178,0.492],\"theta\":[\"danceability\",\"energy\",\"speechiness\",\"liveness\",\"valence\",\"instrumentalness\",\"danceability\"],\"type\":\"scatterpolar\"},{\"mode\":\"lines\",\"name\":\"idontwannabeyouanymore\",\"r\":[0.483,0.412,0.0402,0.116,0.247,0.0,0.483],\"theta\":[\"danceability\",\"energy\",\"speechiness\",\"liveness\",\"valence\",\"instrumentalness\",\"danceability\"],\"type\":\"scatterpolar\"},{\"mode\":\"lines\",\"name\":\"Do You Wanna Do Nothing with Me?\",\"r\":[0.548,0.611,0.131,0.0762,0.725,0.00247,0.548],\"theta\":[\"danceability\",\"energy\",\"speechiness\",\"liveness\",\"valence\",\"instrumentalness\",\"danceability\"],\"type\":\"scatterpolar\"},{\"mode\":\"lines\",\"name\":\"Youth\",\"r\":[0.648,0.718,0.0298,0.112,0.785,0.00156,0.648],\"theta\":[\"danceability\",\"energy\",\"speechiness\",\"liveness\",\"valence\",\"instrumentalness\",\"danceability\"],\"type\":\"scatterpolar\"},{\"mode\":\"lines\",\"name\":\"There Is a Light That Never Goes Out - 2011 Remaster\",\"r\":[0.523,0.769,0.0269,0.136,0.876,0.0,0.523],\"theta\":[\"danceability\",\"energy\",\"speechiness\",\"liveness\",\"valence\",\"instrumentalness\",\"danceability\"],\"type\":\"scatterpolar\"},{\"mode\":\"lines\",\"name\":\"Suspended From Class\",\"r\":[0.582,0.562,0.0258,0.0682,0.707,0.0126,0.582],\"theta\":[\"danceability\",\"energy\",\"speechiness\",\"liveness\",\"valence\",\"instrumentalness\",\"danceability\"],\"type\":\"scatterpolar\"},{\"mode\":\"lines\",\"name\":\"Photo ID (with Dominic Fike)\",\"r\":[0.75,0.829,0.0915,0.279,0.87,0.0,0.75],\"theta\":[\"danceability\",\"energy\",\"speechiness\",\"liveness\",\"valence\",\"instrumentalness\",\"danceability\"],\"type\":\"scatterpolar\"},{\"mode\":\"lines\",\"name\":\"Basal Metabolism (Based On How Long Has This Been Going On)\",\"r\":[0.491,0.445,0.074,0.0694,0.451,0.164,0.491],\"theta\":[\"danceability\",\"energy\",\"speechiness\",\"liveness\",\"valence\",\"instrumentalness\",\"danceability\"],\"type\":\"scatterpolar\"},{\"mode\":\"lines\",\"name\":\"Rocket Man (I Think It's Going To Be A Long, Long Time)\",\"r\":[0.601,0.532,0.0286,0.0925,0.341,6.25e-06,0.601],\"theta\":[\"danceability\",\"energy\",\"speechiness\",\"liveness\",\"valence\",\"instrumentalness\",\"danceability\"],\"type\":\"scatterpolar\"},{\"mode\":\"lines\",\"name\":\"Encinitas\",\"r\":[0.76,0.577,0.0908,0.445,0.553,0.00352,0.76],\"theta\":[\"danceability\",\"energy\",\"speechiness\",\"liveness\",\"valence\",\"instrumentalness\",\"danceability\"],\"type\":\"scatterpolar\"},{\"mode\":\"lines\",\"name\":\"Smells Like Teen Spirit\",\"r\":[0.502,0.912,0.0564,0.106,0.72,0.000173,0.502],\"theta\":[\"danceability\",\"energy\",\"speechiness\",\"liveness\",\"valence\",\"instrumentalness\",\"danceability\"],\"type\":\"scatterpolar\"},{\"mode\":\"lines\",\"name\":\"The Battle for Everyone's Souls (From \\\"Persona 3\\\")\",\"r\":[0.441,0.735,0.0331,0.0611,0.256,0.859,0.441],\"theta\":[\"danceability\",\"energy\",\"speechiness\",\"liveness\",\"valence\",\"instrumentalness\",\"danceability\"],\"type\":\"scatterpolar\"},{\"mode\":\"lines\",\"name\":\"Hypotheticals\",\"r\":[0.69,0.664,0.0562,0.0496,0.383,0.00762,0.69],\"theta\":[\"danceability\",\"energy\",\"speechiness\",\"liveness\",\"valence\",\"instrumentalness\",\"danceability\"],\"type\":\"scatterpolar\"},{\"mode\":\"lines\",\"name\":\"Lost\",\"r\":[0.913,0.603,0.226,0.167,0.497,0.000503,0.913],\"theta\":[\"danceability\",\"energy\",\"speechiness\",\"liveness\",\"valence\",\"instrumentalness\",\"danceability\"],\"type\":\"scatterpolar\"},{\"mode\":\"lines\",\"name\":\"Right As Rain\",\"r\":[0.842,0.679,0.0846,0.0891,0.918,0.0,0.842],\"theta\":[\"danceability\",\"energy\",\"speechiness\",\"liveness\",\"valence\",\"instrumentalness\",\"danceability\"],\"type\":\"scatterpolar\"},{\"mode\":\"lines\",\"name\":\"Kass's Theme (From \\\"The Legend of Zelda: Breath of the Wild\\\") [Piano Version]\",\"r\":[0.584,0.17,0.0641,0.106,0.338,0.858,0.584],\"theta\":[\"danceability\",\"energy\",\"speechiness\",\"liveness\",\"valence\",\"instrumentalness\",\"danceability\"],\"type\":\"scatterpolar\"}],                        {\"template\":{\"data\":{\"bar\":[{\"error_x\":{\"color\":\"#2a3f5f\"},\"error_y\":{\"color\":\"#2a3f5f\"},\"marker\":{\"line\":{\"color\":\"#E5ECF6\",\"width\":0.5},\"pattern\":{\"fillmode\":\"overlay\",\"size\":10,\"solidity\":0.2}},\"type\":\"bar\"}],\"barpolar\":[{\"marker\":{\"line\":{\"color\":\"#E5ECF6\",\"width\":0.5},\"pattern\":{\"fillmode\":\"overlay\",\"size\":10,\"solidity\":0.2}},\"type\":\"barpolar\"}],\"carpet\":[{\"aaxis\":{\"endlinecolor\":\"#2a3f5f\",\"gridcolor\":\"white\",\"linecolor\":\"white\",\"minorgridcolor\":\"white\",\"startlinecolor\":\"#2a3f5f\"},\"baxis\":{\"endlinecolor\":\"#2a3f5f\",\"gridcolor\":\"white\",\"linecolor\":\"white\",\"minorgridcolor\":\"white\",\"startlinecolor\":\"#2a3f5f\"},\"type\":\"carpet\"}],\"choropleth\":[{\"colorbar\":{\"outlinewidth\":0,\"ticks\":\"\"},\"type\":\"choropleth\"}],\"contour\":[{\"colorbar\":{\"outlinewidth\":0,\"ticks\":\"\"},\"colorscale\":[[0.0,\"#0d0887\"],[0.1111111111111111,\"#46039f\"],[0.2222222222222222,\"#7201a8\"],[0.3333333333333333,\"#9c179e\"],[0.4444444444444444,\"#bd3786\"],[0.5555555555555556,\"#d8576b\"],[0.6666666666666666,\"#ed7953\"],[0.7777777777777778,\"#fb9f3a\"],[0.8888888888888888,\"#fdca26\"],[1.0,\"#f0f921\"]],\"type\":\"contour\"}],\"contourcarpet\":[{\"colorbar\":{\"outlinewidth\":0,\"ticks\":\"\"},\"type\":\"contourcarpet\"}],\"heatmap\":[{\"colorbar\":{\"outlinewidth\":0,\"ticks\":\"\"},\"colorscale\":[[0.0,\"#0d0887\"],[0.1111111111111111,\"#46039f\"],[0.2222222222222222,\"#7201a8\"],[0.3333333333333333,\"#9c179e\"],[0.4444444444444444,\"#bd3786\"],[0.5555555555555556,\"#d8576b\"],[0.6666666666666666,\"#ed7953\"],[0.7777777777777778,\"#fb9f3a\"],[0.8888888888888888,\"#fdca26\"],[1.0,\"#f0f921\"]],\"type\":\"heatmap\"}],\"heatmapgl\":[{\"colorbar\":{\"outlinewidth\":0,\"ticks\":\"\"},\"colorscale\":[[0.0,\"#0d0887\"],[0.1111111111111111,\"#46039f\"],[0.2222222222222222,\"#7201a8\"],[0.3333333333333333,\"#9c179e\"],[0.4444444444444444,\"#bd3786\"],[0.5555555555555556,\"#d8576b\"],[0.6666666666666666,\"#ed7953\"],[0.7777777777777778,\"#fb9f3a\"],[0.8888888888888888,\"#fdca26\"],[1.0,\"#f0f921\"]],\"type\":\"heatmapgl\"}],\"histogram\":[{\"marker\":{\"pattern\":{\"fillmode\":\"overlay\",\"size\":10,\"solidity\":0.2}},\"type\":\"histogram\"}],\"histogram2d\":[{\"colorbar\":{\"outlinewidth\":0,\"ticks\":\"\"},\"colorscale\":[[0.0,\"#0d0887\"],[0.1111111111111111,\"#46039f\"],[0.2222222222222222,\"#7201a8\"],[0.3333333333333333,\"#9c179e\"],[0.4444444444444444,\"#bd3786\"],[0.5555555555555556,\"#d8576b\"],[0.6666666666666666,\"#ed7953\"],[0.7777777777777778,\"#fb9f3a\"],[0.8888888888888888,\"#fdca26\"],[1.0,\"#f0f921\"]],\"type\":\"histogram2d\"}],\"histogram2dcontour\":[{\"colorbar\":{\"outlinewidth\":0,\"ticks\":\"\"},\"colorscale\":[[0.0,\"#0d0887\"],[0.1111111111111111,\"#46039f\"],[0.2222222222222222,\"#7201a8\"],[0.3333333333333333,\"#9c179e\"],[0.4444444444444444,\"#bd3786\"],[0.5555555555555556,\"#d8576b\"],[0.6666666666666666,\"#ed7953\"],[0.7777777777777778,\"#fb9f3a\"],[0.8888888888888888,\"#fdca26\"],[1.0,\"#f0f921\"]],\"type\":\"histogram2dcontour\"}],\"mesh3d\":[{\"colorbar\":{\"outlinewidth\":0,\"ticks\":\"\"},\"type\":\"mesh3d\"}],\"parcoords\":[{\"line\":{\"colorbar\":{\"outlinewidth\":0,\"ticks\":\"\"}},\"type\":\"parcoords\"}],\"pie\":[{\"automargin\":true,\"type\":\"pie\"}],\"scatter\":[{\"marker\":{\"colorbar\":{\"outlinewidth\":0,\"ticks\":\"\"}},\"type\":\"scatter\"}],\"scatter3d\":[{\"line\":{\"colorbar\":{\"outlinewidth\":0,\"ticks\":\"\"}},\"marker\":{\"colorbar\":{\"outlinewidth\":0,\"ticks\":\"\"}},\"type\":\"scatter3d\"}],\"scattercarpet\":[{\"marker\":{\"colorbar\":{\"outlinewidth\":0,\"ticks\":\"\"}},\"type\":\"scattercarpet\"}],\"scattergeo\":[{\"marker\":{\"colorbar\":{\"outlinewidth\":0,\"ticks\":\"\"}},\"type\":\"scattergeo\"}],\"scattergl\":[{\"marker\":{\"colorbar\":{\"outlinewidth\":0,\"ticks\":\"\"}},\"type\":\"scattergl\"}],\"scattermapbox\":[{\"marker\":{\"colorbar\":{\"outlinewidth\":0,\"ticks\":\"\"}},\"type\":\"scattermapbox\"}],\"scatterpolar\":[{\"marker\":{\"colorbar\":{\"outlinewidth\":0,\"ticks\":\"\"}},\"type\":\"scatterpolar\"}],\"scatterpolargl\":[{\"marker\":{\"colorbar\":{\"outlinewidth\":0,\"ticks\":\"\"}},\"type\":\"scatterpolargl\"}],\"scatterternary\":[{\"marker\":{\"colorbar\":{\"outlinewidth\":0,\"ticks\":\"\"}},\"type\":\"scatterternary\"}],\"surface\":[{\"colorbar\":{\"outlinewidth\":0,\"ticks\":\"\"},\"colorscale\":[[0.0,\"#0d0887\"],[0.1111111111111111,\"#46039f\"],[0.2222222222222222,\"#7201a8\"],[0.3333333333333333,\"#9c179e\"],[0.4444444444444444,\"#bd3786\"],[0.5555555555555556,\"#d8576b\"],[0.6666666666666666,\"#ed7953\"],[0.7777777777777778,\"#fb9f3a\"],[0.8888888888888888,\"#fdca26\"],[1.0,\"#f0f921\"]],\"type\":\"surface\"}],\"table\":[{\"cells\":{\"fill\":{\"color\":\"#EBF0F8\"},\"line\":{\"color\":\"white\"}},\"header\":{\"fill\":{\"color\":\"#C8D4E3\"},\"line\":{\"color\":\"white\"}},\"type\":\"table\"}]},\"layout\":{\"annotationdefaults\":{\"arrowcolor\":\"#2a3f5f\",\"arrowhead\":0,\"arrowwidth\":1},\"autotypenumbers\":\"strict\",\"coloraxis\":{\"colorbar\":{\"outlinewidth\":0,\"ticks\":\"\"}},\"colorscale\":{\"diverging\":[[0,\"#8e0152\"],[0.1,\"#c51b7d\"],[0.2,\"#de77ae\"],[0.3,\"#f1b6da\"],[0.4,\"#fde0ef\"],[0.5,\"#f7f7f7\"],[0.6,\"#e6f5d0\"],[0.7,\"#b8e186\"],[0.8,\"#7fbc41\"],[0.9,\"#4d9221\"],[1,\"#276419\"]],\"sequential\":[[0.0,\"#0d0887\"],[0.1111111111111111,\"#46039f\"],[0.2222222222222222,\"#7201a8\"],[0.3333333333333333,\"#9c179e\"],[0.4444444444444444,\"#bd3786\"],[0.5555555555555556,\"#d8576b\"],[0.6666666666666666,\"#ed7953\"],[0.7777777777777778,\"#fb9f3a\"],[0.8888888888888888,\"#fdca26\"],[1.0,\"#f0f921\"]],\"sequentialminus\":[[0.0,\"#0d0887\"],[0.1111111111111111,\"#46039f\"],[0.2222222222222222,\"#7201a8\"],[0.3333333333333333,\"#9c179e\"],[0.4444444444444444,\"#bd3786\"],[0.5555555555555556,\"#d8576b\"],[0.6666666666666666,\"#ed7953\"],[0.7777777777777778,\"#fb9f3a\"],[0.8888888888888888,\"#fdca26\"],[1.0,\"#f0f921\"]]},\"colorway\":[\"#636efa\",\"#EF553B\",\"#00cc96\",\"#ab63fa\",\"#FFA15A\",\"#19d3f3\",\"#FF6692\",\"#B6E880\",\"#FF97FF\",\"#FECB52\"],\"font\":{\"color\":\"#2a3f5f\"},\"geo\":{\"bgcolor\":\"white\",\"lakecolor\":\"white\",\"landcolor\":\"#E5ECF6\",\"showlakes\":true,\"showland\":true,\"subunitcolor\":\"white\"},\"hoverlabel\":{\"align\":\"left\"},\"hovermode\":\"closest\",\"mapbox\":{\"style\":\"light\"},\"paper_bgcolor\":\"white\",\"plot_bgcolor\":\"#E5ECF6\",\"polar\":{\"angularaxis\":{\"gridcolor\":\"white\",\"linecolor\":\"white\",\"ticks\":\"\"},\"bgcolor\":\"#E5ECF6\",\"radialaxis\":{\"gridcolor\":\"white\",\"linecolor\":\"white\",\"ticks\":\"\"}},\"scene\":{\"xaxis\":{\"backgroundcolor\":\"#E5ECF6\",\"gridcolor\":\"white\",\"gridwidth\":2,\"linecolor\":\"white\",\"showbackground\":true,\"ticks\":\"\",\"zerolinecolor\":\"white\"},\"yaxis\":{\"backgroundcolor\":\"#E5ECF6\",\"gridcolor\":\"white\",\"gridwidth\":2,\"linecolor\":\"white\",\"showbackground\":true,\"ticks\":\"\",\"zerolinecolor\":\"white\"},\"zaxis\":{\"backgroundcolor\":\"#E5ECF6\",\"gridcolor\":\"white\",\"gridwidth\":2,\"linecolor\":\"white\",\"showbackground\":true,\"ticks\":\"\",\"zerolinecolor\":\"white\"}},\"shapedefaults\":{\"line\":{\"color\":\"#2a3f5f\"}},\"ternary\":{\"aaxis\":{\"gridcolor\":\"white\",\"linecolor\":\"white\",\"ticks\":\"\"},\"baxis\":{\"gridcolor\":\"white\",\"linecolor\":\"white\",\"ticks\":\"\"},\"bgcolor\":\"#E5ECF6\",\"caxis\":{\"gridcolor\":\"white\",\"linecolor\":\"white\",\"ticks\":\"\"}},\"title\":{\"x\":0.05},\"xaxis\":{\"automargin\":true,\"gridcolor\":\"white\",\"linecolor\":\"white\",\"ticks\":\"\",\"title\":{\"standoff\":15},\"zerolinecolor\":\"white\",\"zerolinewidth\":2},\"yaxis\":{\"automargin\":true,\"gridcolor\":\"white\",\"linecolor\":\"white\",\"ticks\":\"\",\"title\":{\"standoff\":15},\"zerolinecolor\":\"white\",\"zerolinewidth\":2}}}},                        {\"responsive\": true}                    ).then(function(){\n",
       "                            \n",
       "var gd = document.getElementById('2b27bb9e-27f5-47ee-8f8b-9d7f0234026d');\n",
       "var x = new MutationObserver(function (mutations, observer) {{\n",
       "        var display = window.getComputedStyle(gd).display;\n",
       "        if (!display || display === 'none') {{\n",
       "            console.log([gd, 'removed!']);\n",
       "            Plotly.purge(gd);\n",
       "            observer.disconnect();\n",
       "        }}\n",
       "}});\n",
       "\n",
       "// Listen for the removal of the full notebook cells\n",
       "var notebookContainer = gd.closest('#notebook-container');\n",
       "if (notebookContainer) {{\n",
       "    x.observe(notebookContainer, {childList: true});\n",
       "}}\n",
       "\n",
       "// Listen for the clearing of the current output cell\n",
       "var outputEl = gd.closest('.output');\n",
       "if (outputEl) {{\n",
       "    x.observe(outputEl, {childList: true});\n",
       "}}\n",
       "\n",
       "                        })                };                });            </script>        </div>"
      ]
     },
     "metadata": {},
     "output_type": "display_data"
    },
    {
     "data": {
      "application/vnd.plotly.v1+json": {
       "config": {
        "plotlyServerURL": "https://plot.ly"
       },
       "data": [
        {
         "mode": "lines",
         "name": "In the Midnight Hour",
         "r": [
          0.75,
          0.444,
          0.0403,
          0.118,
          0.849,
          3.69e-06,
          0.75
         ],
         "theta": [
          "danceability",
          "energy",
          "speechiness",
          "liveness",
          "valence",
          "instrumentalness",
          "danceability"
         ],
         "type": "scatterpolar"
        },
        {
         "mode": "lines",
         "name": "Little Wing",
         "r": [
          0.515,
          0.534,
          0.0768,
          0.0547,
          0.426,
          0.00278,
          0.515
         ],
         "theta": [
          "danceability",
          "energy",
          "speechiness",
          "liveness",
          "valence",
          "instrumentalness",
          "danceability"
         ],
         "type": "scatterpolar"
        },
        {
         "mode": "lines",
         "name": "What A Wonderful World",
         "r": [
          0.271,
          0.165,
          0.0351,
          0.118,
          0.203,
          1.6e-06,
          0.271
         ],
         "theta": [
          "danceability",
          "energy",
          "speechiness",
          "liveness",
          "valence",
          "instrumentalness",
          "danceability"
         ],
         "type": "scatterpolar"
        },
        {
         "mode": "lines",
         "name": "I'd Rather Go Blind",
         "r": [
          0.477,
          0.433,
          0.0247,
          0.151,
          0.611,
          0.000195,
          0.477
         ],
         "theta": [
          "danceability",
          "energy",
          "speechiness",
          "liveness",
          "valence",
          "instrumentalness",
          "danceability"
         ],
         "type": "scatterpolar"
        },
        {
         "mode": "lines",
         "name": "A Change Is Gonna Come",
         "r": [
          0.212,
          0.383,
          0.0347,
          0.299,
          0.452,
          0,
          0.212
         ],
         "theta": [
          "danceability",
          "energy",
          "speechiness",
          "liveness",
          "valence",
          "instrumentalness",
          "danceability"
         ],
         "type": "scatterpolar"
        },
        {
         "mode": "lines",
         "name": "You Can't Always Get What You Want",
         "r": [
          0.32,
          0.62,
          0.0594,
          0.253,
          0.472,
          6.36e-05,
          0.32
         ],
         "theta": [
          "danceability",
          "energy",
          "speechiness",
          "liveness",
          "valence",
          "instrumentalness",
          "danceability"
         ],
         "type": "scatterpolar"
        },
        {
         "mode": "lines",
         "name": "Spoonful",
         "r": [
          0.821,
          0.376,
          0.0487,
          0.106,
          0.824,
          1.39e-05,
          0.821
         ],
         "theta": [
          "danceability",
          "energy",
          "speechiness",
          "liveness",
          "valence",
          "instrumentalness",
          "danceability"
         ],
         "type": "scatterpolar"
        },
        {
         "mode": "lines",
         "name": "Georgia on My Mind",
         "r": [
          0.19,
          0.323,
          0.0303,
          0.176,
          0.281,
          2.17e-06,
          0.19
         ],
         "theta": [
          "danceability",
          "energy",
          "speechiness",
          "liveness",
          "valence",
          "instrumentalness",
          "danceability"
         ],
         "type": "scatterpolar"
        },
        {
         "mode": "lines",
         "name": "Try a Little Tenderness",
         "r": [
          0.587,
          0.133,
          0.0565,
          0.258,
          0.068,
          2.26e-05,
          0.587
         ],
         "theta": [
          "danceability",
          "energy",
          "speechiness",
          "liveness",
          "valence",
          "instrumentalness",
          "danceability"
         ],
         "type": "scatterpolar"
        },
        {
         "mode": "lines",
         "name": "Ain't No Sunshine",
         "r": [
          0.527,
          0.415,
          0.122,
          0.117,
          0.515,
          1.72e-05,
          0.527
         ],
         "theta": [
          "danceability",
          "energy",
          "speechiness",
          "liveness",
          "valence",
          "instrumentalness",
          "danceability"
         ],
         "type": "scatterpolar"
        },
        {
         "mode": "lines",
         "name": "Stand By Me",
         "r": [
          0.653,
          0.334,
          0.0313,
          0.123,
          0.665,
          3.47e-05,
          0.653
         ],
         "theta": [
          "danceability",
          "energy",
          "speechiness",
          "liveness",
          "valence",
          "instrumentalness",
          "danceability"
         ],
         "type": "scatterpolar"
        },
        {
         "mode": "lines",
         "name": "Try a Little Tenderness",
         "r": [
          0.587,
          0.133,
          0.0565,
          0.258,
          0.068,
          2.26e-05,
          0.587
         ],
         "theta": [
          "danceability",
          "energy",
          "speechiness",
          "liveness",
          "valence",
          "instrumentalness",
          "danceability"
         ],
         "type": "scatterpolar"
        },
        {
         "mode": "lines",
         "name": "Ramble On - 1990 Remaster",
         "r": [
          0.468,
          0.607,
          0.0336,
          0.225,
          0.886,
          0.000852,
          0.468
         ],
         "theta": [
          "danceability",
          "energy",
          "speechiness",
          "liveness",
          "valence",
          "instrumentalness",
          "danceability"
         ],
         "type": "scatterpolar"
        },
        {
         "mode": "lines",
         "name": "Ramble On - 1990 Remaster",
         "r": [
          0.468,
          0.607,
          0.0336,
          0.225,
          0.886,
          0.000852,
          0.468
         ],
         "theta": [
          "danceability",
          "energy",
          "speechiness",
          "liveness",
          "valence",
          "instrumentalness",
          "danceability"
         ],
         "type": "scatterpolar"
        },
        {
         "mode": "lines",
         "name": "Hey Jude",
         "r": [
          0.561,
          0.385,
          0.0323,
          0.171,
          0.664,
          0.000496,
          0.561
         ],
         "theta": [
          "danceability",
          "energy",
          "speechiness",
          "liveness",
          "valence",
          "instrumentalness",
          "danceability"
         ],
         "type": "scatterpolar"
        },
        {
         "mode": "lines",
         "name": "Leaving on a Jet Plane",
         "r": [
          0.414,
          0.167,
          0.0484,
          0.117,
          0.384,
          0,
          0.414
         ],
         "theta": [
          "danceability",
          "energy",
          "speechiness",
          "liveness",
          "valence",
          "instrumentalness",
          "danceability"
         ],
         "type": "scatterpolar"
        },
        {
         "mode": "lines",
         "name": "What A Wonderful World",
         "r": [
          0.271,
          0.165,
          0.0351,
          0.118,
          0.203,
          1.6e-06,
          0.271
         ],
         "theta": [
          "danceability",
          "energy",
          "speechiness",
          "liveness",
          "valence",
          "instrumentalness",
          "danceability"
         ],
         "type": "scatterpolar"
        },
        {
         "mode": "lines",
         "name": "I Say a Little Prayer",
         "r": [
          0.59,
          0.355,
          0.0352,
          0.0585,
          0.499,
          0,
          0.59
         ],
         "theta": [
          "danceability",
          "energy",
          "speechiness",
          "liveness",
          "valence",
          "instrumentalness",
          "danceability"
         ],
         "type": "scatterpolar"
        },
        {
         "mode": "lines",
         "name": "Wild World",
         "r": [
          0.48,
          0.542,
          0.0348,
          0.113,
          0.567,
          0.000609,
          0.48
         ],
         "theta": [
          "danceability",
          "energy",
          "speechiness",
          "liveness",
          "valence",
          "instrumentalness",
          "danceability"
         ],
         "type": "scatterpolar"
        },
        {
         "mode": "lines",
         "name": "She's Got You - Single Version",
         "r": [
          0.388,
          0.143,
          0.0416,
          0.1,
          0.578,
          0.000865,
          0.388
         ],
         "theta": [
          "danceability",
          "energy",
          "speechiness",
          "liveness",
          "valence",
          "instrumentalness",
          "danceability"
         ],
         "type": "scatterpolar"
        },
        {
         "mode": "lines",
         "name": "Dream A Little Dream Of Me",
         "r": [
          0.283,
          0.0738,
          0.0763,
          0.105,
          0.223,
          0,
          0.283
         ],
         "theta": [
          "danceability",
          "energy",
          "speechiness",
          "liveness",
          "valence",
          "instrumentalness",
          "danceability"
         ],
         "type": "scatterpolar"
        },
        {
         "mode": "lines",
         "name": "My Girl",
         "r": [
          0.572,
          0.418,
          0.0349,
          0.0961,
          0.694,
          0,
          0.572
         ],
         "theta": [
          "danceability",
          "energy",
          "speechiness",
          "liveness",
          "valence",
          "instrumentalness",
          "danceability"
         ],
         "type": "scatterpolar"
        },
        {
         "mode": "lines",
         "name": "My Girl",
         "r": [
          0.572,
          0.418,
          0.0349,
          0.0961,
          0.694,
          0,
          0.572
         ],
         "theta": [
          "danceability",
          "energy",
          "speechiness",
          "liveness",
          "valence",
          "instrumentalness",
          "danceability"
         ],
         "type": "scatterpolar"
        },
        {
         "mode": "lines",
         "name": "You Can't Always Get What You Want",
         "r": [
          0.32,
          0.62,
          0.0594,
          0.253,
          0.472,
          6.36e-05,
          0.32
         ],
         "theta": [
          "danceability",
          "energy",
          "speechiness",
          "liveness",
          "valence",
          "instrumentalness",
          "danceability"
         ],
         "type": "scatterpolar"
        },
        {
         "mode": "lines",
         "name": "Hurdy Gurdy Man",
         "r": [
          0.405,
          0.463,
          0.0542,
          0.392,
          0.542,
          0.0442,
          0.405
         ],
         "theta": [
          "danceability",
          "energy",
          "speechiness",
          "liveness",
          "valence",
          "instrumentalness",
          "danceability"
         ],
         "type": "scatterpolar"
        },
        {
         "mode": "lines",
         "name": "What A Wonderful World",
         "r": [
          0.271,
          0.165,
          0.0351,
          0.118,
          0.203,
          1.6e-06,
          0.271
         ],
         "theta": [
          "danceability",
          "energy",
          "speechiness",
          "liveness",
          "valence",
          "instrumentalness",
          "danceability"
         ],
         "type": "scatterpolar"
        },
        {
         "mode": "lines",
         "name": "Oye Como Va",
         "r": [
          0.736,
          0.379,
          0.0539,
          0.104,
          0.948,
          0.345,
          0.736
         ],
         "theta": [
          "danceability",
          "energy",
          "speechiness",
          "liveness",
          "valence",
          "instrumentalness",
          "danceability"
         ],
         "type": "scatterpolar"
        },
        {
         "mode": "lines",
         "name": "In the Midnight Hour",
         "r": [
          0.75,
          0.444,
          0.0403,
          0.118,
          0.849,
          3.69e-06,
          0.75
         ],
         "theta": [
          "danceability",
          "energy",
          "speechiness",
          "liveness",
          "valence",
          "instrumentalness",
          "danceability"
         ],
         "type": "scatterpolar"
        },
        {
         "mode": "lines",
         "name": "Behind Blue Eyes",
         "r": [
          0.394,
          0.622,
          0.0336,
          0.0892,
          0.342,
          4.45e-05,
          0.394
         ],
         "theta": [
          "danceability",
          "energy",
          "speechiness",
          "liveness",
          "valence",
          "instrumentalness",
          "danceability"
         ],
         "type": "scatterpolar"
        },
        {
         "mode": "lines",
         "name": "A Change Is Gonna Come",
         "r": [
          0.212,
          0.383,
          0.0347,
          0.299,
          0.452,
          0,
          0.212
         ],
         "theta": [
          "danceability",
          "energy",
          "speechiness",
          "liveness",
          "valence",
          "instrumentalness",
          "danceability"
         ],
         "type": "scatterpolar"
        },
        {
         "mode": "lines",
         "name": "Ain't No Sunshine",
         "r": [
          0.527,
          0.415,
          0.122,
          0.117,
          0.515,
          1.72e-05,
          0.527
         ],
         "theta": [
          "danceability",
          "energy",
          "speechiness",
          "liveness",
          "valence",
          "instrumentalness",
          "danceability"
         ],
         "type": "scatterpolar"
        },
        {
         "mode": "lines",
         "name": "Bird on the Wire",
         "r": [
          0.402,
          0.114,
          0.0321,
          0.318,
          0.191,
          0.0024,
          0.402
         ],
         "theta": [
          "danceability",
          "energy",
          "speechiness",
          "liveness",
          "valence",
          "instrumentalness",
          "danceability"
         ],
         "type": "scatterpolar"
        },
        {
         "mode": "lines",
         "name": "I Say a Little Prayer",
         "r": [
          0.59,
          0.355,
          0.0352,
          0.0585,
          0.499,
          0,
          0.59
         ],
         "theta": [
          "danceability",
          "energy",
          "speechiness",
          "liveness",
          "valence",
          "instrumentalness",
          "danceability"
         ],
         "type": "scatterpolar"
        },
        {
         "mode": "lines",
         "name": "Strangers In The Night",
         "r": [
          0.259,
          0.473,
          0.0295,
          0.201,
          0.539,
          0,
          0.259
         ],
         "theta": [
          "danceability",
          "energy",
          "speechiness",
          "liveness",
          "valence",
          "instrumentalness",
          "danceability"
         ],
         "type": "scatterpolar"
        },
        {
         "mode": "lines",
         "name": "Leaving on a Jet Plane",
         "r": [
          0.414,
          0.167,
          0.0484,
          0.117,
          0.384,
          0,
          0.414
         ],
         "theta": [
          "danceability",
          "energy",
          "speechiness",
          "liveness",
          "valence",
          "instrumentalness",
          "danceability"
         ],
         "type": "scatterpolar"
        },
        {
         "mode": "lines",
         "name": "Turn! Turn! Turn! (To Everything There Is a Season)",
         "r": [
          0.451,
          0.818,
          0.0439,
          0.052,
          0.755,
          2.92e-05,
          0.451
         ],
         "theta": [
          "danceability",
          "energy",
          "speechiness",
          "liveness",
          "valence",
          "instrumentalness",
          "danceability"
         ],
         "type": "scatterpolar"
        },
        {
         "mode": "lines",
         "name": "Dream A Little Dream Of Me",
         "r": [
          0.283,
          0.0738,
          0.0763,
          0.105,
          0.223,
          0,
          0.283
         ],
         "theta": [
          "danceability",
          "energy",
          "speechiness",
          "liveness",
          "valence",
          "instrumentalness",
          "danceability"
         ],
         "type": "scatterpolar"
        },
        {
         "mode": "lines",
         "name": "Sinnerman",
         "r": [
          0.436,
          0.543,
          0.0962,
          0.0937,
          0.663,
          9.35e-06,
          0.436
         ],
         "theta": [
          "danceability",
          "energy",
          "speechiness",
          "liveness",
          "valence",
          "instrumentalness",
          "danceability"
         ],
         "type": "scatterpolar"
        },
        {
         "mode": "lines",
         "name": "The Night They Drove Old Dixie Down",
         "r": [
          0.505,
          0.483,
          0.0334,
          0.222,
          0.484,
          0,
          0.505
         ],
         "theta": [
          "danceability",
          "energy",
          "speechiness",
          "liveness",
          "valence",
          "instrumentalness",
          "danceability"
         ],
         "type": "scatterpolar"
        },
        {
         "mode": "lines",
         "name": "Little Wing",
         "r": [
          0.515,
          0.534,
          0.0768,
          0.0547,
          0.426,
          0.00278,
          0.515
         ],
         "theta": [
          "danceability",
          "energy",
          "speechiness",
          "liveness",
          "valence",
          "instrumentalness",
          "danceability"
         ],
         "type": "scatterpolar"
        }
       ],
       "layout": {
        "template": {
         "data": {
          "bar": [
           {
            "error_x": {
             "color": "#2a3f5f"
            },
            "error_y": {
             "color": "#2a3f5f"
            },
            "marker": {
             "line": {
              "color": "#E5ECF6",
              "width": 0.5
             },
             "pattern": {
              "fillmode": "overlay",
              "size": 10,
              "solidity": 0.2
             }
            },
            "type": "bar"
           }
          ],
          "barpolar": [
           {
            "marker": {
             "line": {
              "color": "#E5ECF6",
              "width": 0.5
             },
             "pattern": {
              "fillmode": "overlay",
              "size": 10,
              "solidity": 0.2
             }
            },
            "type": "barpolar"
           }
          ],
          "carpet": [
           {
            "aaxis": {
             "endlinecolor": "#2a3f5f",
             "gridcolor": "white",
             "linecolor": "white",
             "minorgridcolor": "white",
             "startlinecolor": "#2a3f5f"
            },
            "baxis": {
             "endlinecolor": "#2a3f5f",
             "gridcolor": "white",
             "linecolor": "white",
             "minorgridcolor": "white",
             "startlinecolor": "#2a3f5f"
            },
            "type": "carpet"
           }
          ],
          "choropleth": [
           {
            "colorbar": {
             "outlinewidth": 0,
             "ticks": ""
            },
            "type": "choropleth"
           }
          ],
          "contour": [
           {
            "colorbar": {
             "outlinewidth": 0,
             "ticks": ""
            },
            "colorscale": [
             [
              0,
              "#0d0887"
             ],
             [
              0.1111111111111111,
              "#46039f"
             ],
             [
              0.2222222222222222,
              "#7201a8"
             ],
             [
              0.3333333333333333,
              "#9c179e"
             ],
             [
              0.4444444444444444,
              "#bd3786"
             ],
             [
              0.5555555555555556,
              "#d8576b"
             ],
             [
              0.6666666666666666,
              "#ed7953"
             ],
             [
              0.7777777777777778,
              "#fb9f3a"
             ],
             [
              0.8888888888888888,
              "#fdca26"
             ],
             [
              1,
              "#f0f921"
             ]
            ],
            "type": "contour"
           }
          ],
          "contourcarpet": [
           {
            "colorbar": {
             "outlinewidth": 0,
             "ticks": ""
            },
            "type": "contourcarpet"
           }
          ],
          "heatmap": [
           {
            "colorbar": {
             "outlinewidth": 0,
             "ticks": ""
            },
            "colorscale": [
             [
              0,
              "#0d0887"
             ],
             [
              0.1111111111111111,
              "#46039f"
             ],
             [
              0.2222222222222222,
              "#7201a8"
             ],
             [
              0.3333333333333333,
              "#9c179e"
             ],
             [
              0.4444444444444444,
              "#bd3786"
             ],
             [
              0.5555555555555556,
              "#d8576b"
             ],
             [
              0.6666666666666666,
              "#ed7953"
             ],
             [
              0.7777777777777778,
              "#fb9f3a"
             ],
             [
              0.8888888888888888,
              "#fdca26"
             ],
             [
              1,
              "#f0f921"
             ]
            ],
            "type": "heatmap"
           }
          ],
          "heatmapgl": [
           {
            "colorbar": {
             "outlinewidth": 0,
             "ticks": ""
            },
            "colorscale": [
             [
              0,
              "#0d0887"
             ],
             [
              0.1111111111111111,
              "#46039f"
             ],
             [
              0.2222222222222222,
              "#7201a8"
             ],
             [
              0.3333333333333333,
              "#9c179e"
             ],
             [
              0.4444444444444444,
              "#bd3786"
             ],
             [
              0.5555555555555556,
              "#d8576b"
             ],
             [
              0.6666666666666666,
              "#ed7953"
             ],
             [
              0.7777777777777778,
              "#fb9f3a"
             ],
             [
              0.8888888888888888,
              "#fdca26"
             ],
             [
              1,
              "#f0f921"
             ]
            ],
            "type": "heatmapgl"
           }
          ],
          "histogram": [
           {
            "marker": {
             "pattern": {
              "fillmode": "overlay",
              "size": 10,
              "solidity": 0.2
             }
            },
            "type": "histogram"
           }
          ],
          "histogram2d": [
           {
            "colorbar": {
             "outlinewidth": 0,
             "ticks": ""
            },
            "colorscale": [
             [
              0,
              "#0d0887"
             ],
             [
              0.1111111111111111,
              "#46039f"
             ],
             [
              0.2222222222222222,
              "#7201a8"
             ],
             [
              0.3333333333333333,
              "#9c179e"
             ],
             [
              0.4444444444444444,
              "#bd3786"
             ],
             [
              0.5555555555555556,
              "#d8576b"
             ],
             [
              0.6666666666666666,
              "#ed7953"
             ],
             [
              0.7777777777777778,
              "#fb9f3a"
             ],
             [
              0.8888888888888888,
              "#fdca26"
             ],
             [
              1,
              "#f0f921"
             ]
            ],
            "type": "histogram2d"
           }
          ],
          "histogram2dcontour": [
           {
            "colorbar": {
             "outlinewidth": 0,
             "ticks": ""
            },
            "colorscale": [
             [
              0,
              "#0d0887"
             ],
             [
              0.1111111111111111,
              "#46039f"
             ],
             [
              0.2222222222222222,
              "#7201a8"
             ],
             [
              0.3333333333333333,
              "#9c179e"
             ],
             [
              0.4444444444444444,
              "#bd3786"
             ],
             [
              0.5555555555555556,
              "#d8576b"
             ],
             [
              0.6666666666666666,
              "#ed7953"
             ],
             [
              0.7777777777777778,
              "#fb9f3a"
             ],
             [
              0.8888888888888888,
              "#fdca26"
             ],
             [
              1,
              "#f0f921"
             ]
            ],
            "type": "histogram2dcontour"
           }
          ],
          "mesh3d": [
           {
            "colorbar": {
             "outlinewidth": 0,
             "ticks": ""
            },
            "type": "mesh3d"
           }
          ],
          "parcoords": [
           {
            "line": {
             "colorbar": {
              "outlinewidth": 0,
              "ticks": ""
             }
            },
            "type": "parcoords"
           }
          ],
          "pie": [
           {
            "automargin": true,
            "type": "pie"
           }
          ],
          "scatter": [
           {
            "marker": {
             "colorbar": {
              "outlinewidth": 0,
              "ticks": ""
             }
            },
            "type": "scatter"
           }
          ],
          "scatter3d": [
           {
            "line": {
             "colorbar": {
              "outlinewidth": 0,
              "ticks": ""
             }
            },
            "marker": {
             "colorbar": {
              "outlinewidth": 0,
              "ticks": ""
             }
            },
            "type": "scatter3d"
           }
          ],
          "scattercarpet": [
           {
            "marker": {
             "colorbar": {
              "outlinewidth": 0,
              "ticks": ""
             }
            },
            "type": "scattercarpet"
           }
          ],
          "scattergeo": [
           {
            "marker": {
             "colorbar": {
              "outlinewidth": 0,
              "ticks": ""
             }
            },
            "type": "scattergeo"
           }
          ],
          "scattergl": [
           {
            "marker": {
             "colorbar": {
              "outlinewidth": 0,
              "ticks": ""
             }
            },
            "type": "scattergl"
           }
          ],
          "scattermapbox": [
           {
            "marker": {
             "colorbar": {
              "outlinewidth": 0,
              "ticks": ""
             }
            },
            "type": "scattermapbox"
           }
          ],
          "scatterpolar": [
           {
            "marker": {
             "colorbar": {
              "outlinewidth": 0,
              "ticks": ""
             }
            },
            "type": "scatterpolar"
           }
          ],
          "scatterpolargl": [
           {
            "marker": {
             "colorbar": {
              "outlinewidth": 0,
              "ticks": ""
             }
            },
            "type": "scatterpolargl"
           }
          ],
          "scatterternary": [
           {
            "marker": {
             "colorbar": {
              "outlinewidth": 0,
              "ticks": ""
             }
            },
            "type": "scatterternary"
           }
          ],
          "surface": [
           {
            "colorbar": {
             "outlinewidth": 0,
             "ticks": ""
            },
            "colorscale": [
             [
              0,
              "#0d0887"
             ],
             [
              0.1111111111111111,
              "#46039f"
             ],
             [
              0.2222222222222222,
              "#7201a8"
             ],
             [
              0.3333333333333333,
              "#9c179e"
             ],
             [
              0.4444444444444444,
              "#bd3786"
             ],
             [
              0.5555555555555556,
              "#d8576b"
             ],
             [
              0.6666666666666666,
              "#ed7953"
             ],
             [
              0.7777777777777778,
              "#fb9f3a"
             ],
             [
              0.8888888888888888,
              "#fdca26"
             ],
             [
              1,
              "#f0f921"
             ]
            ],
            "type": "surface"
           }
          ],
          "table": [
           {
            "cells": {
             "fill": {
              "color": "#EBF0F8"
             },
             "line": {
              "color": "white"
             }
            },
            "header": {
             "fill": {
              "color": "#C8D4E3"
             },
             "line": {
              "color": "white"
             }
            },
            "type": "table"
           }
          ]
         },
         "layout": {
          "annotationdefaults": {
           "arrowcolor": "#2a3f5f",
           "arrowhead": 0,
           "arrowwidth": 1
          },
          "autotypenumbers": "strict",
          "coloraxis": {
           "colorbar": {
            "outlinewidth": 0,
            "ticks": ""
           }
          },
          "colorscale": {
           "diverging": [
            [
             0,
             "#8e0152"
            ],
            [
             0.1,
             "#c51b7d"
            ],
            [
             0.2,
             "#de77ae"
            ],
            [
             0.3,
             "#f1b6da"
            ],
            [
             0.4,
             "#fde0ef"
            ],
            [
             0.5,
             "#f7f7f7"
            ],
            [
             0.6,
             "#e6f5d0"
            ],
            [
             0.7,
             "#b8e186"
            ],
            [
             0.8,
             "#7fbc41"
            ],
            [
             0.9,
             "#4d9221"
            ],
            [
             1,
             "#276419"
            ]
           ],
           "sequential": [
            [
             0,
             "#0d0887"
            ],
            [
             0.1111111111111111,
             "#46039f"
            ],
            [
             0.2222222222222222,
             "#7201a8"
            ],
            [
             0.3333333333333333,
             "#9c179e"
            ],
            [
             0.4444444444444444,
             "#bd3786"
            ],
            [
             0.5555555555555556,
             "#d8576b"
            ],
            [
             0.6666666666666666,
             "#ed7953"
            ],
            [
             0.7777777777777778,
             "#fb9f3a"
            ],
            [
             0.8888888888888888,
             "#fdca26"
            ],
            [
             1,
             "#f0f921"
            ]
           ],
           "sequentialminus": [
            [
             0,
             "#0d0887"
            ],
            [
             0.1111111111111111,
             "#46039f"
            ],
            [
             0.2222222222222222,
             "#7201a8"
            ],
            [
             0.3333333333333333,
             "#9c179e"
            ],
            [
             0.4444444444444444,
             "#bd3786"
            ],
            [
             0.5555555555555556,
             "#d8576b"
            ],
            [
             0.6666666666666666,
             "#ed7953"
            ],
            [
             0.7777777777777778,
             "#fb9f3a"
            ],
            [
             0.8888888888888888,
             "#fdca26"
            ],
            [
             1,
             "#f0f921"
            ]
           ]
          },
          "colorway": [
           "#636efa",
           "#EF553B",
           "#00cc96",
           "#ab63fa",
           "#FFA15A",
           "#19d3f3",
           "#FF6692",
           "#B6E880",
           "#FF97FF",
           "#FECB52"
          ],
          "font": {
           "color": "#2a3f5f"
          },
          "geo": {
           "bgcolor": "white",
           "lakecolor": "white",
           "landcolor": "#E5ECF6",
           "showlakes": true,
           "showland": true,
           "subunitcolor": "white"
          },
          "hoverlabel": {
           "align": "left"
          },
          "hovermode": "closest",
          "mapbox": {
           "style": "light"
          },
          "paper_bgcolor": "white",
          "plot_bgcolor": "#E5ECF6",
          "polar": {
           "angularaxis": {
            "gridcolor": "white",
            "linecolor": "white",
            "ticks": ""
           },
           "bgcolor": "#E5ECF6",
           "radialaxis": {
            "gridcolor": "white",
            "linecolor": "white",
            "ticks": ""
           }
          },
          "scene": {
           "xaxis": {
            "backgroundcolor": "#E5ECF6",
            "gridcolor": "white",
            "gridwidth": 2,
            "linecolor": "white",
            "showbackground": true,
            "ticks": "",
            "zerolinecolor": "white"
           },
           "yaxis": {
            "backgroundcolor": "#E5ECF6",
            "gridcolor": "white",
            "gridwidth": 2,
            "linecolor": "white",
            "showbackground": true,
            "ticks": "",
            "zerolinecolor": "white"
           },
           "zaxis": {
            "backgroundcolor": "#E5ECF6",
            "gridcolor": "white",
            "gridwidth": 2,
            "linecolor": "white",
            "showbackground": true,
            "ticks": "",
            "zerolinecolor": "white"
           }
          },
          "shapedefaults": {
           "line": {
            "color": "#2a3f5f"
           }
          },
          "ternary": {
           "aaxis": {
            "gridcolor": "white",
            "linecolor": "white",
            "ticks": ""
           },
           "baxis": {
            "gridcolor": "white",
            "linecolor": "white",
            "ticks": ""
           },
           "bgcolor": "#E5ECF6",
           "caxis": {
            "gridcolor": "white",
            "linecolor": "white",
            "ticks": ""
           }
          },
          "title": {
           "x": 0.05
          },
          "xaxis": {
           "automargin": true,
           "gridcolor": "white",
           "linecolor": "white",
           "ticks": "",
           "title": {
            "standoff": 15
           },
           "zerolinecolor": "white",
           "zerolinewidth": 2
          },
          "yaxis": {
           "automargin": true,
           "gridcolor": "white",
           "linecolor": "white",
           "ticks": "",
           "title": {
            "standoff": 15
           },
           "zerolinecolor": "white",
           "zerolinewidth": 2
          }
         }
        }
       }
      },
      "text/html": [
       "<div>                            <div id=\"fb9e6d3d-e710-41ee-8202-cd33dd04bb54\" class=\"plotly-graph-div\" style=\"height:525px; width:100%;\"></div>            <script type=\"text/javascript\">                require([\"plotly\"], function(Plotly) {                    window.PLOTLYENV=window.PLOTLYENV || {};                                    if (document.getElementById(\"fb9e6d3d-e710-41ee-8202-cd33dd04bb54\")) {                    Plotly.newPlot(                        \"fb9e6d3d-e710-41ee-8202-cd33dd04bb54\",                        [{\"mode\":\"lines\",\"name\":\"In the Midnight Hour\",\"r\":[0.75,0.444,0.0403,0.118,0.849,3.69e-06,0.75],\"theta\":[\"danceability\",\"energy\",\"speechiness\",\"liveness\",\"valence\",\"instrumentalness\",\"danceability\"],\"type\":\"scatterpolar\"},{\"mode\":\"lines\",\"name\":\"Little Wing\",\"r\":[0.515,0.534,0.0768,0.0547,0.426,0.00278,0.515],\"theta\":[\"danceability\",\"energy\",\"speechiness\",\"liveness\",\"valence\",\"instrumentalness\",\"danceability\"],\"type\":\"scatterpolar\"},{\"mode\":\"lines\",\"name\":\"What A Wonderful World\",\"r\":[0.271,0.165,0.0351,0.118,0.203,1.6e-06,0.271],\"theta\":[\"danceability\",\"energy\",\"speechiness\",\"liveness\",\"valence\",\"instrumentalness\",\"danceability\"],\"type\":\"scatterpolar\"},{\"mode\":\"lines\",\"name\":\"I'd Rather Go Blind\",\"r\":[0.477,0.433,0.0247,0.151,0.611,0.000195,0.477],\"theta\":[\"danceability\",\"energy\",\"speechiness\",\"liveness\",\"valence\",\"instrumentalness\",\"danceability\"],\"type\":\"scatterpolar\"},{\"mode\":\"lines\",\"name\":\"A Change Is Gonna Come\",\"r\":[0.212,0.383,0.0347,0.299,0.452,0.0,0.212],\"theta\":[\"danceability\",\"energy\",\"speechiness\",\"liveness\",\"valence\",\"instrumentalness\",\"danceability\"],\"type\":\"scatterpolar\"},{\"mode\":\"lines\",\"name\":\"You Can't Always Get What You Want\",\"r\":[0.32,0.62,0.0594,0.253,0.472,6.36e-05,0.32],\"theta\":[\"danceability\",\"energy\",\"speechiness\",\"liveness\",\"valence\",\"instrumentalness\",\"danceability\"],\"type\":\"scatterpolar\"},{\"mode\":\"lines\",\"name\":\"Spoonful\",\"r\":[0.821,0.376,0.0487,0.106,0.824,1.39e-05,0.821],\"theta\":[\"danceability\",\"energy\",\"speechiness\",\"liveness\",\"valence\",\"instrumentalness\",\"danceability\"],\"type\":\"scatterpolar\"},{\"mode\":\"lines\",\"name\":\"Georgia on My Mind\",\"r\":[0.19,0.323,0.0303,0.176,0.281,2.17e-06,0.19],\"theta\":[\"danceability\",\"energy\",\"speechiness\",\"liveness\",\"valence\",\"instrumentalness\",\"danceability\"],\"type\":\"scatterpolar\"},{\"mode\":\"lines\",\"name\":\"Try a Little Tenderness\",\"r\":[0.587,0.133,0.0565,0.258,0.068,2.26e-05,0.587],\"theta\":[\"danceability\",\"energy\",\"speechiness\",\"liveness\",\"valence\",\"instrumentalness\",\"danceability\"],\"type\":\"scatterpolar\"},{\"mode\":\"lines\",\"name\":\"Ain't No Sunshine\",\"r\":[0.527,0.415,0.122,0.117,0.515,1.72e-05,0.527],\"theta\":[\"danceability\",\"energy\",\"speechiness\",\"liveness\",\"valence\",\"instrumentalness\",\"danceability\"],\"type\":\"scatterpolar\"},{\"mode\":\"lines\",\"name\":\"Stand By Me\",\"r\":[0.653,0.334,0.0313,0.123,0.665,3.47e-05,0.653],\"theta\":[\"danceability\",\"energy\",\"speechiness\",\"liveness\",\"valence\",\"instrumentalness\",\"danceability\"],\"type\":\"scatterpolar\"},{\"mode\":\"lines\",\"name\":\"Try a Little Tenderness\",\"r\":[0.587,0.133,0.0565,0.258,0.068,2.26e-05,0.587],\"theta\":[\"danceability\",\"energy\",\"speechiness\",\"liveness\",\"valence\",\"instrumentalness\",\"danceability\"],\"type\":\"scatterpolar\"},{\"mode\":\"lines\",\"name\":\"Ramble On - 1990 Remaster\",\"r\":[0.468,0.607,0.0336,0.225,0.886,0.000852,0.468],\"theta\":[\"danceability\",\"energy\",\"speechiness\",\"liveness\",\"valence\",\"instrumentalness\",\"danceability\"],\"type\":\"scatterpolar\"},{\"mode\":\"lines\",\"name\":\"Ramble On - 1990 Remaster\",\"r\":[0.468,0.607,0.0336,0.225,0.886,0.000852,0.468],\"theta\":[\"danceability\",\"energy\",\"speechiness\",\"liveness\",\"valence\",\"instrumentalness\",\"danceability\"],\"type\":\"scatterpolar\"},{\"mode\":\"lines\",\"name\":\"Hey Jude\",\"r\":[0.561,0.385,0.0323,0.171,0.664,0.000496,0.561],\"theta\":[\"danceability\",\"energy\",\"speechiness\",\"liveness\",\"valence\",\"instrumentalness\",\"danceability\"],\"type\":\"scatterpolar\"},{\"mode\":\"lines\",\"name\":\"Leaving on a Jet Plane\",\"r\":[0.414,0.167,0.0484,0.117,0.384,0,0.414],\"theta\":[\"danceability\",\"energy\",\"speechiness\",\"liveness\",\"valence\",\"instrumentalness\",\"danceability\"],\"type\":\"scatterpolar\"},{\"mode\":\"lines\",\"name\":\"What A Wonderful World\",\"r\":[0.271,0.165,0.0351,0.118,0.203,1.6e-06,0.271],\"theta\":[\"danceability\",\"energy\",\"speechiness\",\"liveness\",\"valence\",\"instrumentalness\",\"danceability\"],\"type\":\"scatterpolar\"},{\"mode\":\"lines\",\"name\":\"I Say a Little Prayer\",\"r\":[0.59,0.355,0.0352,0.0585,0.499,0,0.59],\"theta\":[\"danceability\",\"energy\",\"speechiness\",\"liveness\",\"valence\",\"instrumentalness\",\"danceability\"],\"type\":\"scatterpolar\"},{\"mode\":\"lines\",\"name\":\"Wild World\",\"r\":[0.48,0.542,0.0348,0.113,0.567,0.000609,0.48],\"theta\":[\"danceability\",\"energy\",\"speechiness\",\"liveness\",\"valence\",\"instrumentalness\",\"danceability\"],\"type\":\"scatterpolar\"},{\"mode\":\"lines\",\"name\":\"She's Got You - Single Version\",\"r\":[0.388,0.143,0.0416,0.1,0.578,0.000865,0.388],\"theta\":[\"danceability\",\"energy\",\"speechiness\",\"liveness\",\"valence\",\"instrumentalness\",\"danceability\"],\"type\":\"scatterpolar\"},{\"mode\":\"lines\",\"name\":\"Dream A Little Dream Of Me\",\"r\":[0.283,0.0738,0.0763,0.105,0.223,0,0.283],\"theta\":[\"danceability\",\"energy\",\"speechiness\",\"liveness\",\"valence\",\"instrumentalness\",\"danceability\"],\"type\":\"scatterpolar\"},{\"mode\":\"lines\",\"name\":\"My Girl\",\"r\":[0.572,0.418,0.0349,0.0961,0.694,0,0.572],\"theta\":[\"danceability\",\"energy\",\"speechiness\",\"liveness\",\"valence\",\"instrumentalness\",\"danceability\"],\"type\":\"scatterpolar\"},{\"mode\":\"lines\",\"name\":\"My Girl\",\"r\":[0.572,0.418,0.0349,0.0961,0.694,0,0.572],\"theta\":[\"danceability\",\"energy\",\"speechiness\",\"liveness\",\"valence\",\"instrumentalness\",\"danceability\"],\"type\":\"scatterpolar\"},{\"mode\":\"lines\",\"name\":\"You Can't Always Get What You Want\",\"r\":[0.32,0.62,0.0594,0.253,0.472,6.36e-05,0.32],\"theta\":[\"danceability\",\"energy\",\"speechiness\",\"liveness\",\"valence\",\"instrumentalness\",\"danceability\"],\"type\":\"scatterpolar\"},{\"mode\":\"lines\",\"name\":\"Hurdy Gurdy Man\",\"r\":[0.405,0.463,0.0542,0.392,0.542,0.0442,0.405],\"theta\":[\"danceability\",\"energy\",\"speechiness\",\"liveness\",\"valence\",\"instrumentalness\",\"danceability\"],\"type\":\"scatterpolar\"},{\"mode\":\"lines\",\"name\":\"What A Wonderful World\",\"r\":[0.271,0.165,0.0351,0.118,0.203,1.6e-06,0.271],\"theta\":[\"danceability\",\"energy\",\"speechiness\",\"liveness\",\"valence\",\"instrumentalness\",\"danceability\"],\"type\":\"scatterpolar\"},{\"mode\":\"lines\",\"name\":\"Oye Como Va\",\"r\":[0.736,0.379,0.0539,0.104,0.948,0.345,0.736],\"theta\":[\"danceability\",\"energy\",\"speechiness\",\"liveness\",\"valence\",\"instrumentalness\",\"danceability\"],\"type\":\"scatterpolar\"},{\"mode\":\"lines\",\"name\":\"In the Midnight Hour\",\"r\":[0.75,0.444,0.0403,0.118,0.849,3.69e-06,0.75],\"theta\":[\"danceability\",\"energy\",\"speechiness\",\"liveness\",\"valence\",\"instrumentalness\",\"danceability\"],\"type\":\"scatterpolar\"},{\"mode\":\"lines\",\"name\":\"Behind Blue Eyes\",\"r\":[0.394,0.622,0.0336,0.0892,0.342,4.45e-05,0.394],\"theta\":[\"danceability\",\"energy\",\"speechiness\",\"liveness\",\"valence\",\"instrumentalness\",\"danceability\"],\"type\":\"scatterpolar\"},{\"mode\":\"lines\",\"name\":\"A Change Is Gonna Come\",\"r\":[0.212,0.383,0.0347,0.299,0.452,0,0.212],\"theta\":[\"danceability\",\"energy\",\"speechiness\",\"liveness\",\"valence\",\"instrumentalness\",\"danceability\"],\"type\":\"scatterpolar\"},{\"mode\":\"lines\",\"name\":\"Ain't No Sunshine\",\"r\":[0.527,0.415,0.122,0.117,0.515,1.72e-05,0.527],\"theta\":[\"danceability\",\"energy\",\"speechiness\",\"liveness\",\"valence\",\"instrumentalness\",\"danceability\"],\"type\":\"scatterpolar\"},{\"mode\":\"lines\",\"name\":\"Bird on the Wire\",\"r\":[0.402,0.114,0.0321,0.318,0.191,0.0024,0.402],\"theta\":[\"danceability\",\"energy\",\"speechiness\",\"liveness\",\"valence\",\"instrumentalness\",\"danceability\"],\"type\":\"scatterpolar\"},{\"mode\":\"lines\",\"name\":\"I Say a Little Prayer\",\"r\":[0.59,0.355,0.0352,0.0585,0.499,0,0.59],\"theta\":[\"danceability\",\"energy\",\"speechiness\",\"liveness\",\"valence\",\"instrumentalness\",\"danceability\"],\"type\":\"scatterpolar\"},{\"mode\":\"lines\",\"name\":\"Strangers In The Night\",\"r\":[0.259,0.473,0.0295,0.201,0.539,0,0.259],\"theta\":[\"danceability\",\"energy\",\"speechiness\",\"liveness\",\"valence\",\"instrumentalness\",\"danceability\"],\"type\":\"scatterpolar\"},{\"mode\":\"lines\",\"name\":\"Leaving on a Jet Plane\",\"r\":[0.414,0.167,0.0484,0.117,0.384,0.0,0.414],\"theta\":[\"danceability\",\"energy\",\"speechiness\",\"liveness\",\"valence\",\"instrumentalness\",\"danceability\"],\"type\":\"scatterpolar\"},{\"mode\":\"lines\",\"name\":\"Turn! Turn! Turn! (To Everything There Is a Season)\",\"r\":[0.451,0.818,0.0439,0.052,0.755,2.92e-05,0.451],\"theta\":[\"danceability\",\"energy\",\"speechiness\",\"liveness\",\"valence\",\"instrumentalness\",\"danceability\"],\"type\":\"scatterpolar\"},{\"mode\":\"lines\",\"name\":\"Dream A Little Dream Of Me\",\"r\":[0.283,0.0738,0.0763,0.105,0.223,0,0.283],\"theta\":[\"danceability\",\"energy\",\"speechiness\",\"liveness\",\"valence\",\"instrumentalness\",\"danceability\"],\"type\":\"scatterpolar\"},{\"mode\":\"lines\",\"name\":\"Sinnerman\",\"r\":[0.436,0.543,0.0962,0.0937,0.663,9.35e-06,0.436],\"theta\":[\"danceability\",\"energy\",\"speechiness\",\"liveness\",\"valence\",\"instrumentalness\",\"danceability\"],\"type\":\"scatterpolar\"},{\"mode\":\"lines\",\"name\":\"The Night They Drove Old Dixie Down\",\"r\":[0.505,0.483,0.0334,0.222,0.484,0.0,0.505],\"theta\":[\"danceability\",\"energy\",\"speechiness\",\"liveness\",\"valence\",\"instrumentalness\",\"danceability\"],\"type\":\"scatterpolar\"},{\"mode\":\"lines\",\"name\":\"Little Wing\",\"r\":[0.515,0.534,0.0768,0.0547,0.426,0.00278,0.515],\"theta\":[\"danceability\",\"energy\",\"speechiness\",\"liveness\",\"valence\",\"instrumentalness\",\"danceability\"],\"type\":\"scatterpolar\"}],                        {\"template\":{\"data\":{\"bar\":[{\"error_x\":{\"color\":\"#2a3f5f\"},\"error_y\":{\"color\":\"#2a3f5f\"},\"marker\":{\"line\":{\"color\":\"#E5ECF6\",\"width\":0.5},\"pattern\":{\"fillmode\":\"overlay\",\"size\":10,\"solidity\":0.2}},\"type\":\"bar\"}],\"barpolar\":[{\"marker\":{\"line\":{\"color\":\"#E5ECF6\",\"width\":0.5},\"pattern\":{\"fillmode\":\"overlay\",\"size\":10,\"solidity\":0.2}},\"type\":\"barpolar\"}],\"carpet\":[{\"aaxis\":{\"endlinecolor\":\"#2a3f5f\",\"gridcolor\":\"white\",\"linecolor\":\"white\",\"minorgridcolor\":\"white\",\"startlinecolor\":\"#2a3f5f\"},\"baxis\":{\"endlinecolor\":\"#2a3f5f\",\"gridcolor\":\"white\",\"linecolor\":\"white\",\"minorgridcolor\":\"white\",\"startlinecolor\":\"#2a3f5f\"},\"type\":\"carpet\"}],\"choropleth\":[{\"colorbar\":{\"outlinewidth\":0,\"ticks\":\"\"},\"type\":\"choropleth\"}],\"contour\":[{\"colorbar\":{\"outlinewidth\":0,\"ticks\":\"\"},\"colorscale\":[[0.0,\"#0d0887\"],[0.1111111111111111,\"#46039f\"],[0.2222222222222222,\"#7201a8\"],[0.3333333333333333,\"#9c179e\"],[0.4444444444444444,\"#bd3786\"],[0.5555555555555556,\"#d8576b\"],[0.6666666666666666,\"#ed7953\"],[0.7777777777777778,\"#fb9f3a\"],[0.8888888888888888,\"#fdca26\"],[1.0,\"#f0f921\"]],\"type\":\"contour\"}],\"contourcarpet\":[{\"colorbar\":{\"outlinewidth\":0,\"ticks\":\"\"},\"type\":\"contourcarpet\"}],\"heatmap\":[{\"colorbar\":{\"outlinewidth\":0,\"ticks\":\"\"},\"colorscale\":[[0.0,\"#0d0887\"],[0.1111111111111111,\"#46039f\"],[0.2222222222222222,\"#7201a8\"],[0.3333333333333333,\"#9c179e\"],[0.4444444444444444,\"#bd3786\"],[0.5555555555555556,\"#d8576b\"],[0.6666666666666666,\"#ed7953\"],[0.7777777777777778,\"#fb9f3a\"],[0.8888888888888888,\"#fdca26\"],[1.0,\"#f0f921\"]],\"type\":\"heatmap\"}],\"heatmapgl\":[{\"colorbar\":{\"outlinewidth\":0,\"ticks\":\"\"},\"colorscale\":[[0.0,\"#0d0887\"],[0.1111111111111111,\"#46039f\"],[0.2222222222222222,\"#7201a8\"],[0.3333333333333333,\"#9c179e\"],[0.4444444444444444,\"#bd3786\"],[0.5555555555555556,\"#d8576b\"],[0.6666666666666666,\"#ed7953\"],[0.7777777777777778,\"#fb9f3a\"],[0.8888888888888888,\"#fdca26\"],[1.0,\"#f0f921\"]],\"type\":\"heatmapgl\"}],\"histogram\":[{\"marker\":{\"pattern\":{\"fillmode\":\"overlay\",\"size\":10,\"solidity\":0.2}},\"type\":\"histogram\"}],\"histogram2d\":[{\"colorbar\":{\"outlinewidth\":0,\"ticks\":\"\"},\"colorscale\":[[0.0,\"#0d0887\"],[0.1111111111111111,\"#46039f\"],[0.2222222222222222,\"#7201a8\"],[0.3333333333333333,\"#9c179e\"],[0.4444444444444444,\"#bd3786\"],[0.5555555555555556,\"#d8576b\"],[0.6666666666666666,\"#ed7953\"],[0.7777777777777778,\"#fb9f3a\"],[0.8888888888888888,\"#fdca26\"],[1.0,\"#f0f921\"]],\"type\":\"histogram2d\"}],\"histogram2dcontour\":[{\"colorbar\":{\"outlinewidth\":0,\"ticks\":\"\"},\"colorscale\":[[0.0,\"#0d0887\"],[0.1111111111111111,\"#46039f\"],[0.2222222222222222,\"#7201a8\"],[0.3333333333333333,\"#9c179e\"],[0.4444444444444444,\"#bd3786\"],[0.5555555555555556,\"#d8576b\"],[0.6666666666666666,\"#ed7953\"],[0.7777777777777778,\"#fb9f3a\"],[0.8888888888888888,\"#fdca26\"],[1.0,\"#f0f921\"]],\"type\":\"histogram2dcontour\"}],\"mesh3d\":[{\"colorbar\":{\"outlinewidth\":0,\"ticks\":\"\"},\"type\":\"mesh3d\"}],\"parcoords\":[{\"line\":{\"colorbar\":{\"outlinewidth\":0,\"ticks\":\"\"}},\"type\":\"parcoords\"}],\"pie\":[{\"automargin\":true,\"type\":\"pie\"}],\"scatter\":[{\"marker\":{\"colorbar\":{\"outlinewidth\":0,\"ticks\":\"\"}},\"type\":\"scatter\"}],\"scatter3d\":[{\"line\":{\"colorbar\":{\"outlinewidth\":0,\"ticks\":\"\"}},\"marker\":{\"colorbar\":{\"outlinewidth\":0,\"ticks\":\"\"}},\"type\":\"scatter3d\"}],\"scattercarpet\":[{\"marker\":{\"colorbar\":{\"outlinewidth\":0,\"ticks\":\"\"}},\"type\":\"scattercarpet\"}],\"scattergeo\":[{\"marker\":{\"colorbar\":{\"outlinewidth\":0,\"ticks\":\"\"}},\"type\":\"scattergeo\"}],\"scattergl\":[{\"marker\":{\"colorbar\":{\"outlinewidth\":0,\"ticks\":\"\"}},\"type\":\"scattergl\"}],\"scattermapbox\":[{\"marker\":{\"colorbar\":{\"outlinewidth\":0,\"ticks\":\"\"}},\"type\":\"scattermapbox\"}],\"scatterpolar\":[{\"marker\":{\"colorbar\":{\"outlinewidth\":0,\"ticks\":\"\"}},\"type\":\"scatterpolar\"}],\"scatterpolargl\":[{\"marker\":{\"colorbar\":{\"outlinewidth\":0,\"ticks\":\"\"}},\"type\":\"scatterpolargl\"}],\"scatterternary\":[{\"marker\":{\"colorbar\":{\"outlinewidth\":0,\"ticks\":\"\"}},\"type\":\"scatterternary\"}],\"surface\":[{\"colorbar\":{\"outlinewidth\":0,\"ticks\":\"\"},\"colorscale\":[[0.0,\"#0d0887\"],[0.1111111111111111,\"#46039f\"],[0.2222222222222222,\"#7201a8\"],[0.3333333333333333,\"#9c179e\"],[0.4444444444444444,\"#bd3786\"],[0.5555555555555556,\"#d8576b\"],[0.6666666666666666,\"#ed7953\"],[0.7777777777777778,\"#fb9f3a\"],[0.8888888888888888,\"#fdca26\"],[1.0,\"#f0f921\"]],\"type\":\"surface\"}],\"table\":[{\"cells\":{\"fill\":{\"color\":\"#EBF0F8\"},\"line\":{\"color\":\"white\"}},\"header\":{\"fill\":{\"color\":\"#C8D4E3\"},\"line\":{\"color\":\"white\"}},\"type\":\"table\"}]},\"layout\":{\"annotationdefaults\":{\"arrowcolor\":\"#2a3f5f\",\"arrowhead\":0,\"arrowwidth\":1},\"autotypenumbers\":\"strict\",\"coloraxis\":{\"colorbar\":{\"outlinewidth\":0,\"ticks\":\"\"}},\"colorscale\":{\"diverging\":[[0,\"#8e0152\"],[0.1,\"#c51b7d\"],[0.2,\"#de77ae\"],[0.3,\"#f1b6da\"],[0.4,\"#fde0ef\"],[0.5,\"#f7f7f7\"],[0.6,\"#e6f5d0\"],[0.7,\"#b8e186\"],[0.8,\"#7fbc41\"],[0.9,\"#4d9221\"],[1,\"#276419\"]],\"sequential\":[[0.0,\"#0d0887\"],[0.1111111111111111,\"#46039f\"],[0.2222222222222222,\"#7201a8\"],[0.3333333333333333,\"#9c179e\"],[0.4444444444444444,\"#bd3786\"],[0.5555555555555556,\"#d8576b\"],[0.6666666666666666,\"#ed7953\"],[0.7777777777777778,\"#fb9f3a\"],[0.8888888888888888,\"#fdca26\"],[1.0,\"#f0f921\"]],\"sequentialminus\":[[0.0,\"#0d0887\"],[0.1111111111111111,\"#46039f\"],[0.2222222222222222,\"#7201a8\"],[0.3333333333333333,\"#9c179e\"],[0.4444444444444444,\"#bd3786\"],[0.5555555555555556,\"#d8576b\"],[0.6666666666666666,\"#ed7953\"],[0.7777777777777778,\"#fb9f3a\"],[0.8888888888888888,\"#fdca26\"],[1.0,\"#f0f921\"]]},\"colorway\":[\"#636efa\",\"#EF553B\",\"#00cc96\",\"#ab63fa\",\"#FFA15A\",\"#19d3f3\",\"#FF6692\",\"#B6E880\",\"#FF97FF\",\"#FECB52\"],\"font\":{\"color\":\"#2a3f5f\"},\"geo\":{\"bgcolor\":\"white\",\"lakecolor\":\"white\",\"landcolor\":\"#E5ECF6\",\"showlakes\":true,\"showland\":true,\"subunitcolor\":\"white\"},\"hoverlabel\":{\"align\":\"left\"},\"hovermode\":\"closest\",\"mapbox\":{\"style\":\"light\"},\"paper_bgcolor\":\"white\",\"plot_bgcolor\":\"#E5ECF6\",\"polar\":{\"angularaxis\":{\"gridcolor\":\"white\",\"linecolor\":\"white\",\"ticks\":\"\"},\"bgcolor\":\"#E5ECF6\",\"radialaxis\":{\"gridcolor\":\"white\",\"linecolor\":\"white\",\"ticks\":\"\"}},\"scene\":{\"xaxis\":{\"backgroundcolor\":\"#E5ECF6\",\"gridcolor\":\"white\",\"gridwidth\":2,\"linecolor\":\"white\",\"showbackground\":true,\"ticks\":\"\",\"zerolinecolor\":\"white\"},\"yaxis\":{\"backgroundcolor\":\"#E5ECF6\",\"gridcolor\":\"white\",\"gridwidth\":2,\"linecolor\":\"white\",\"showbackground\":true,\"ticks\":\"\",\"zerolinecolor\":\"white\"},\"zaxis\":{\"backgroundcolor\":\"#E5ECF6\",\"gridcolor\":\"white\",\"gridwidth\":2,\"linecolor\":\"white\",\"showbackground\":true,\"ticks\":\"\",\"zerolinecolor\":\"white\"}},\"shapedefaults\":{\"line\":{\"color\":\"#2a3f5f\"}},\"ternary\":{\"aaxis\":{\"gridcolor\":\"white\",\"linecolor\":\"white\",\"ticks\":\"\"},\"baxis\":{\"gridcolor\":\"white\",\"linecolor\":\"white\",\"ticks\":\"\"},\"bgcolor\":\"#E5ECF6\",\"caxis\":{\"gridcolor\":\"white\",\"linecolor\":\"white\",\"ticks\":\"\"}},\"title\":{\"x\":0.05},\"xaxis\":{\"automargin\":true,\"gridcolor\":\"white\",\"linecolor\":\"white\",\"ticks\":\"\",\"title\":{\"standoff\":15},\"zerolinecolor\":\"white\",\"zerolinewidth\":2},\"yaxis\":{\"automargin\":true,\"gridcolor\":\"white\",\"linecolor\":\"white\",\"ticks\":\"\",\"title\":{\"standoff\":15},\"zerolinecolor\":\"white\",\"zerolinewidth\":2}}}},                        {\"responsive\": true}                    ).then(function(){\n",
       "                            \n",
       "var gd = document.getElementById('fb9e6d3d-e710-41ee-8202-cd33dd04bb54');\n",
       "var x = new MutationObserver(function (mutations, observer) {{\n",
       "        var display = window.getComputedStyle(gd).display;\n",
       "        if (!display || display === 'none') {{\n",
       "            console.log([gd, 'removed!']);\n",
       "            Plotly.purge(gd);\n",
       "            observer.disconnect();\n",
       "        }}\n",
       "}});\n",
       "\n",
       "// Listen for the removal of the full notebook cells\n",
       "var notebookContainer = gd.closest('#notebook-container');\n",
       "if (notebookContainer) {{\n",
       "    x.observe(notebookContainer, {childList: true});\n",
       "}}\n",
       "\n",
       "// Listen for the clearing of the current output cell\n",
       "var outputEl = gd.closest('.output');\n",
       "if (outputEl) {{\n",
       "    x.observe(outputEl, {childList: true});\n",
       "}}\n",
       "\n",
       "                        })                };                });            </script>        </div>"
      ]
     },
     "metadata": {},
     "output_type": "display_data"
    }
   ],
   "source": [
    "import plotly.graph_objects as go\n",
    "import plotly.offline as pyo\n",
    "length = round(len(playlist_20s) / 2)\n",
    "length2 = round(len(playlist_top_40s) / 2)\n",
    "input_data = playlist_20s.sample(length).copy()\n",
    "input_data_2 = playlist_top_40s.sample(length2).copy()\n",
    "feature_columns = [\"danceability\", \"energy\", \"speechiness\", \"liveness\",\"valence\",\"instrumentalness\",\"danceability\"]\n",
    "def createRadarElement(row, feature_cols):\n",
    "    return go.Scatterpolar(\n",
    "        r = row[feature_cols].values.tolist(), \n",
    "        theta = feature_cols, \n",
    "        mode = 'lines', \n",
    "        name = row['track_name'])\n",
    "data = list(input_data.apply(createRadarElement, axis=1, args=(feature_columns, )))  \n",
    "fig = go.Figure(data, )\n",
    "fig.show()\n",
    "data2 = list(input_data_2.apply(createRadarElement, axis=1, args=(feature_columns, )))  \n",
    "fig2 = go.Figure(data2, )\n",
    "fig2.show()"
   ]
  },
  {
   "cell_type": "markdown",
   "metadata": {
    "id": "DiPpLo3eBbll"
   },
   "source": [
    "(J) Looking at the above it seems like the Thinktheylike group tends to have more high-energy, more high-valence, and more instrumental pieces overall. Thinktheylike pieces also tend to be slightly more danceable, while both groups share similar liveness and speechiness values. "
   ]
  },
  {
   "cell_type": "markdown",
   "metadata": {
    "id": "a6TROsY0vULx"
   },
   "source": [
    "(J) Here, setting up a community for the purpose of trying to figure out if there are any composers in common between both groups. I was thinking to check if any songs were in common, but I found that unlikely, and composers might be a more interesting link. If there are a lot of composers in common, it would seem as if both what early 20-somethings think they like and say they like would have even more in common, wheras if not it would seem as if there's a disparity in even the composers we think we like. \n",
    "Code adapted from example given in notebook C.\n",
    "Note that it doesn't display well on colab unfortunately, but copy/pasting the notebook into jupyter works better.\n",
    "Also found it useful to modify the group_by parameter to display the data in a few different ways, so rather than rewrite the code I just added a new parameter to choose_network (group_by) so I can pass the attribute to the function."
   ]
  },
  {
   "cell_type": "code",
   "execution_count": 22,
   "metadata": {
    "colab": {
     "base_uri": "https://localhost:8080/",
     "height": 639
    },
    "id": "NTsWc2WvvRm5",
    "outputId": "37a4facb-dbf8-464c-9a4f-523a885b3a4d"
   },
   "outputs": [
    {
     "data": {
      "text/html": [
       "\n",
       "        <iframe\n",
       "            width=\"1000\"\n",
       "            height=\"1000\"\n",
       "            src=\"out.html\"\n",
       "            frameborder=\"0\"\n",
       "            allowfullscreen\n",
       "            \n",
       "        ></iframe>\n",
       "        "
      ],
      "text/plain": [
       "<IPython.lib.display.IFrame at 0x7fd819a541c0>"
      ]
     },
     "execution_count": 22,
     "metadata": {},
     "output_type": "execute_result"
    }
   ],
   "source": [
    "# Creating an HTML node\n",
    "def create_node_html(node: str, source_df: pd.DataFrame, node_col: str):\n",
    "    rows = source_df.loc[source_df[node_col] == node].itertuples()\n",
    "    html_lis = []\n",
    "    for r in rows:\n",
    "        html_lis.append(f\"\"\"<li>Artist: {r.artist}<br>\n",
    "                                Playlist: {r.playlist_name}<br>\"\"\"\n",
    "                       )\n",
    "    html_ul = f\"\"\"<ul>{''.join(html_lis)}</ul>\"\"\"\n",
    "    return html_ul\n",
    "\n",
    "# Adding nodes from an Edgelist\n",
    "def add_nodes_from_edgelist(edge_list: list, \n",
    "                               source_df: pd.DataFrame, \n",
    "                               graph: nx.Graph,\n",
    "                               node_col: str):\n",
    "    graph = deepcopy(graph)\n",
    "    node_list = pd.Series(edge_list).apply(pd.Series).stack().unique()\n",
    "    for n in node_list:\n",
    "        graph.add_node(n, title=create_node_html(n, source_df, node_col), spring_length=1000)\n",
    "    return graph\n",
    "\n",
    "# Adding Louvain Communities\n",
    "def add_communities(G):\n",
    "    G = deepcopy(G)\n",
    "    partition = community_louvain.best_partition(G)\n",
    "    nx.set_node_attributes(G, partition, \"Group\")\n",
    "    return G\n",
    "#(J)Added an extra parameter to be able to pass different \"group by\" parameters without rewriting stuff.\n",
    "def choose_network(df, chosen_word, file_name, group_by):\n",
    "    \n",
    "    # creating unique pairs\n",
    "    output_grouped = df.groupby([group_by])[chosen_word].apply(list).reset_index()\n",
    "    pairs = output_grouped[chosen_word].apply(lambda x: list(combinations(x, 2)))\n",
    "    pairs2 = pairs.explode().dropna()\n",
    "    unique_pairs = pairs.explode().dropna().unique()\n",
    "    \n",
    "    # creating a new Graph\n",
    "    pyvis_graph = net.Network(notebook=True, width=\"1000\", height=\"1000\", bgcolor=\"black\", font_color=\"white\")\n",
    "    G = nx.Graph()\n",
    "    \n",
    "    try:\n",
    "        G = add_nodes_from_edgelist(edge_list=unique_pairs, source_df=young_people_playlist, graph=G, node_col=chosen_word)\n",
    "    except Exception as e:\n",
    "        print(e)\n",
    "    \n",
    "    # add edges and find communities\n",
    "    G.add_edges_from(unique_pairs)\n",
    "    G = add_communities(G)\n",
    "    pyvis_graph.from_nx(G)\n",
    "    return pyvis_graph\n",
    "\n",
    "louvain_network = choose_network(young_people_playlist, 'artist', 'out.html', 'playlist_name')\n",
    "louvain_network.show(\"out.html\")"
   ]
  },
  {
   "cell_type": "markdown",
   "metadata": {
    "id": "qZhYToihzXU2"
   },
   "source": [
    "(J) Looking at the results above we are connecting the playlists that have artists in common. Overall, the only playlists that share composers with the Knowtheylike group are POV: you discovered music older than you, and My summer playlist, indicating that overall the composers we think a 20 something would like and what they do like are distinctly diferent.\n",
    "Of course, it might be interesting to try to see which are the artists these playlists share in common, so I changed the values below such that the communities display by artist and are separated by playlist name so we can see all the individual songs that connect."
   ]
  },
  {
   "cell_type": "code",
   "execution_count": 15,
   "metadata": {
    "colab": {
     "base_uri": "https://localhost:8080/",
     "height": 181
    },
    "id": "QrvWVv6n2-BX",
    "outputId": "9020dfc4-fe6c-4f98-f9ff-3278a23c44aa"
   },
   "outputs": [
    {
     "data": {
      "text/html": [
       "\n",
       "        <iframe\n",
       "            width=\"1000\"\n",
       "            height=\"1000\"\n",
       "            src=\"modified_rock.html\"\n",
       "            frameborder=\"0\"\n",
       "            allowfullscreen\n",
       "            \n",
       "        ></iframe>\n",
       "        "
      ],
      "text/plain": [
       "<IPython.lib.display.IFrame at 0x7fd819379370>"
      ]
     },
     "execution_count": 15,
     "metadata": {},
     "output_type": "execute_result"
    }
   ],
   "source": [
    "louvain_network = choose_network(young_people_playlist, 'playlist_name', 'modified_rock.html', 'artist')\n",
    "louvain_network.show(\"modified_rock.html\")"
   ]
  },
  {
   "cell_type": "markdown",
   "metadata": {
    "id": "GopA3S0RDb6g"
   },
   "source": [
    "(J) It would appear that Goth Babe, the Rolling Stones, and Led Zeppelin are the composers in common, which is an admittedly very small quantity.\n",
    "In so doing indicates some disparity between what we 20-somethings think we like, and what we actually like."
   ]
  }
 ],
 "metadata": {
  "colab": {
   "collapsed_sections": [],
   "provenance": []
  },
  "kernelspec": {
   "display_name": "Python 3 (ipykernel)",
   "language": "python",
   "name": "python3"
  },
  "language_info": {
   "codemirror_mode": {
    "name": "ipython",
    "version": 3
   },
   "file_extension": ".py",
   "mimetype": "text/x-python",
   "name": "python",
   "nbconvert_exporter": "python",
   "pygments_lexer": "ipython3",
   "version": "3.9.12"
  }
 },
 "nbformat": 4,
 "nbformat_minor": 1
}
